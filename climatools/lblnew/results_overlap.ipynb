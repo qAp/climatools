{
 "cells": [
  {
   "cell_type": "code",
   "execution_count": 79,
   "metadata": {
    "collapsed": true
   },
   "outputs": [],
   "source": [
    "%matplotlib inline\n",
    "import os\n",
    "import re\n",
    "import io\n",
    "import itertools\n",
    "import pprint\n",
    "\n",
    "from bokeh.io import output_notebook, show\n",
    "from bokeh.layouts import gridplot\n",
    "from bokeh.plotting import figure\n",
    "from bokeh.models import Range1d, Legend\n",
    "from bokeh.palettes import all_palettes\n",
    "\n",
    "import matplotlib\n",
    "import matplotlib.pyplot as plt\n",
    "import numpy as np\n",
    "import pandas as pd\n",
    "import xarray as xr\n",
    "\n",
    "import climatools.lblnew.bestfit_params as bestfits\n",
    "from climatools.lblnew import setup_bestfit, setup_overlap\n",
    "import climatools.lblnew.pipeline as pipe_lblnew\n",
    "\n",
    "import climatools.html.html as climahtml\n",
    "from climatools.lblnew.dataio import *\n",
    "from climatools.plot.plot import *\n",
    "\n",
    "\n",
    "import IPython.display as display"
   ]
  },
  {
   "cell_type": "code",
   "execution_count": 80,
   "metadata": {
    "collapsed": true
   },
   "outputs": [],
   "source": [
    "%run param.py"
   ]
  },
  {
   "cell_type": "code",
   "execution_count": 81,
   "metadata": {
    "collapsed": true
   },
   "outputs": [],
   "source": [
    "def load_output_file(path_csv):\n",
    "    '''\n",
    "    Load lblnew output .csv file to xarray.Dataset\n",
    "    \n",
    "    Parameters\n",
    "    ----------\n",
    "    path_csv: str\n",
    "              Path to the .csv file to be loaded.\n",
    "    ds: xarray.Dataset\n",
    "        Data in the input file in the form of an xarray.Dataset.\n",
    "    '''\n",
    "    toindex = ['band', 'pressure', 'igg', 'g']    \n",
    "    df = pd.read_csv(path_csv, sep=r'\\s+')\n",
    "    df = df.set_index([i for i in toindex if i in df.columns])\n",
    "    df = df.rename(columns={'sfu': 'flug',\n",
    "                            'sfd': 'fldg',\n",
    "                            'fnet': 'fnetg',\n",
    "                            'coolr': 'coolrg'})\n",
    "    ds = xr.Dataset.from_dataframe(df)\n",
    "\n",
    "    for l in ('level', 'layer'):\n",
    "        if l in ds.data_vars:\n",
    "            if len(ds[l].dims) > 1:\n",
    "                surface = {d: 0 for d in ds.dims if d != 'pressure'}\n",
    "                coord_level = ds[l][surface]\n",
    "                ds.coords[l] = ('pressure', coord_level)\n",
    "            else:\n",
    "                ds.coords[l] = ('pressure', ds[l])\n",
    "    \n",
    "    return ds"
   ]
  },
  {
   "cell_type": "code",
   "execution_count": 82,
   "metadata": {
    "collapsed": true
   },
   "outputs": [],
   "source": [
    "def lblnew_setup(param=None):\n",
    "    if 'ng_refs' in param:\n",
    "        return {'setup': setup_bestfit,\n",
    "                'fname_flux_crd': 'output_flux.dat',\n",
    "                'fname_cool_crd': 'output_coolr.dat',\n",
    "                'fname_flux_wgt': 'output_wfluxg.dat',\n",
    "                'fname_cool_wgt': 'output_wcoolrg.dat'}\n",
    "    else:\n",
    "        return {'setup': setup_overlap,\n",
    "                'fname_flux_crd': 'output_flux.dat',\n",
    "                'fname_cool_crd': 'output_coolr.dat',\n",
    "                'fname_flux_wgt': 'output_wflux.dat',\n",
    "                'fname_cool_wgt': 'output_wcoolr.dat'}\n",
    "\n",
    "    \n",
    "def load_lblnew_data(param):\n",
    "    \n",
    "    fname_dsname = [('fname_flux_crd', 'ds_flux_crd'),\n",
    "                    ('fname_cool_crd', 'ds_cool_crd'),\n",
    "                    ('fname_flux_wgt', 'ds_flux_wgt'),\n",
    "                    ('fname_cool_wgt', 'ds_cool_wgt')]\n",
    "    \n",
    "    d = lblnew_setup(param)\n",
    "    dir_fortran = pipe_lblnew.get_dir_case(param, setup=d['setup'])\n",
    "    \n",
    "    data_dict = {}\n",
    "    for fname, dsname in fname_dsname:\n",
    "        fpath = os.path.join(dir_fortran, d[fname])\n",
    "        data_dict[dsname] = load_output_file(fpath)\n",
    "    return data_dict\n",
    "    \n",
    "\n",
    "    \n",
    "    "
   ]
  },
  {
   "cell_type": "code",
   "execution_count": 83,
   "metadata": {
    "collapsed": true
   },
   "outputs": [],
   "source": [
    "d = load_lblnew_data(PARAM)\n",
    "\n",
    "DS_FLUX_CRD = d['ds_flux_crd']\n",
    "DS_COOL_CRD = d['ds_cool_crd']\n",
    "DS_FLUX_WGT = d['ds_flux_wgt']\n",
    "DS_COOL_WGT = d['ds_cool_wgt']"
   ]
  },
  {
   "cell_type": "code",
   "execution_count": 84,
   "metadata": {},
   "outputs": [
    {
     "data": {
      "text/html": [
       "\n",
       "    <div class=\"bk-root\">\n",
       "        <a href=\"https://bokeh.pydata.org\" target=\"_blank\" class=\"bk-logo bk-logo-small bk-logo-notebook\"></a>\n",
       "        <span id=\"a1f28c86-12b3-4091-9333-0fa2e2987365\">Loading BokehJS ...</span>\n",
       "    </div>"
      ]
     },
     "metadata": {},
     "output_type": "display_data"
    },
    {
     "data": {
      "application/javascript": [
       "\n",
       "(function(root) {\n",
       "  function now() {\n",
       "    return new Date();\n",
       "  }\n",
       "\n",
       "  var force = true;\n",
       "\n",
       "  if (typeof (root._bokeh_onload_callbacks) === \"undefined\" || force === true) {\n",
       "    root._bokeh_onload_callbacks = [];\n",
       "    root._bokeh_is_loading = undefined;\n",
       "  }\n",
       "\n",
       "  var JS_MIME_TYPE = 'application/javascript';\n",
       "  var HTML_MIME_TYPE = 'text/html';\n",
       "  var EXEC_MIME_TYPE = 'application/vnd.bokehjs_exec.v0+json';\n",
       "  var CLASS_NAME = 'output_bokeh rendered_html';\n",
       "\n",
       "  /**\n",
       "   * Render data to the DOM node\n",
       "   */\n",
       "  function render(props, node) {\n",
       "    var script = document.createElement(\"script\");\n",
       "    node.appendChild(script);\n",
       "  }\n",
       "\n",
       "  /**\n",
       "   * Handle when an output is cleared or removed\n",
       "   */\n",
       "  function handleClearOutput(event, handle) {\n",
       "    var cell = handle.cell;\n",
       "\n",
       "    var id = cell.output_area._bokeh_element_id;\n",
       "    var server_id = cell.output_area._bokeh_server_id;\n",
       "    // Clean up Bokeh references\n",
       "    if (id !== undefined) {\n",
       "      Bokeh.index[id].model.document.clear();\n",
       "      delete Bokeh.index[id];\n",
       "    }\n",
       "\n",
       "    if (server_id !== undefined) {\n",
       "      // Clean up Bokeh references\n",
       "      var cmd = \"from bokeh.io.state import curstate; print(curstate().uuid_to_server['\" + server_id + \"'].get_sessions()[0].document.roots[0]._id)\";\n",
       "      cell.notebook.kernel.execute(cmd, {\n",
       "        iopub: {\n",
       "          output: function(msg) {\n",
       "            var element_id = msg.content.text.trim();\n",
       "            Bokeh.index[element_id].model.document.clear();\n",
       "            delete Bokeh.index[element_id];\n",
       "          }\n",
       "        }\n",
       "      });\n",
       "      // Destroy server and session\n",
       "      var cmd = \"import bokeh.io.notebook as ion; ion.destroy_server('\" + server_id + \"')\";\n",
       "      cell.notebook.kernel.execute(cmd);\n",
       "    }\n",
       "  }\n",
       "\n",
       "  /**\n",
       "   * Handle when a new output is added\n",
       "   */\n",
       "  function handleAddOutput(event, handle) {\n",
       "    var output_area = handle.output_area;\n",
       "    var output = handle.output;\n",
       "\n",
       "    // limit handleAddOutput to display_data with EXEC_MIME_TYPE content only\n",
       "    if ((output.output_type != \"display_data\") || (!output.data.hasOwnProperty(EXEC_MIME_TYPE))) {\n",
       "      return\n",
       "    }\n",
       "\n",
       "    var toinsert = output_area.element.find(\".\" + CLASS_NAME.split(' ')[0]);\n",
       "\n",
       "    if (output.metadata[EXEC_MIME_TYPE][\"id\"] !== undefined) {\n",
       "      toinsert[0].firstChild.textContent = output.data[JS_MIME_TYPE];\n",
       "      // store reference to embed id on output_area\n",
       "      output_area._bokeh_element_id = output.metadata[EXEC_MIME_TYPE][\"id\"];\n",
       "    }\n",
       "    if (output.metadata[EXEC_MIME_TYPE][\"server_id\"] !== undefined) {\n",
       "      var bk_div = document.createElement(\"div\");\n",
       "      bk_div.innerHTML = output.data[HTML_MIME_TYPE];\n",
       "      var script_attrs = bk_div.children[0].attributes;\n",
       "      for (var i = 0; i < script_attrs.length; i++) {\n",
       "        toinsert[0].firstChild.setAttribute(script_attrs[i].name, script_attrs[i].value);\n",
       "      }\n",
       "      // store reference to server id on output_area\n",
       "      output_area._bokeh_server_id = output.metadata[EXEC_MIME_TYPE][\"server_id\"];\n",
       "    }\n",
       "  }\n",
       "\n",
       "  function register_renderer(events, OutputArea) {\n",
       "\n",
       "    function append_mime(data, metadata, element) {\n",
       "      // create a DOM node to render to\n",
       "      var toinsert = this.create_output_subarea(\n",
       "        metadata,\n",
       "        CLASS_NAME,\n",
       "        EXEC_MIME_TYPE\n",
       "      );\n",
       "      this.keyboard_manager.register_events(toinsert);\n",
       "      // Render to node\n",
       "      var props = {data: data, metadata: metadata[EXEC_MIME_TYPE]};\n",
       "      render(props, toinsert[0]);\n",
       "      element.append(toinsert);\n",
       "      return toinsert\n",
       "    }\n",
       "\n",
       "    /* Handle when an output is cleared or removed */\n",
       "    events.on('clear_output.CodeCell', handleClearOutput);\n",
       "    events.on('delete.Cell', handleClearOutput);\n",
       "\n",
       "    /* Handle when a new output is added */\n",
       "    events.on('output_added.OutputArea', handleAddOutput);\n",
       "\n",
       "    /**\n",
       "     * Register the mime type and append_mime function with output_area\n",
       "     */\n",
       "    OutputArea.prototype.register_mime_type(EXEC_MIME_TYPE, append_mime, {\n",
       "      /* Is output safe? */\n",
       "      safe: true,\n",
       "      /* Index of renderer in `output_area.display_order` */\n",
       "      index: 0\n",
       "    });\n",
       "  }\n",
       "\n",
       "  // register the mime type if in Jupyter Notebook environment and previously unregistered\n",
       "  if (root.Jupyter !== undefined) {\n",
       "    var events = require('base/js/events');\n",
       "    var OutputArea = require('notebook/js/outputarea').OutputArea;\n",
       "\n",
       "    if (OutputArea.prototype.mime_types().indexOf(EXEC_MIME_TYPE) == -1) {\n",
       "      register_renderer(events, OutputArea);\n",
       "    }\n",
       "  }\n",
       "\n",
       "  \n",
       "  if (typeof (root._bokeh_timeout) === \"undefined\" || force === true) {\n",
       "    root._bokeh_timeout = Date.now() + 5000;\n",
       "    root._bokeh_failed_load = false;\n",
       "  }\n",
       "\n",
       "  var NB_LOAD_WARNING = {'data': {'text/html':\n",
       "     \"<div style='background-color: #fdd'>\\n\"+\n",
       "     \"<p>\\n\"+\n",
       "     \"BokehJS does not appear to have successfully loaded. If loading BokehJS from CDN, this \\n\"+\n",
       "     \"may be due to a slow or bad network connection. Possible fixes:\\n\"+\n",
       "     \"</p>\\n\"+\n",
       "     \"<ul>\\n\"+\n",
       "     \"<li>re-rerun `output_notebook()` to attempt to load from CDN again, or</li>\\n\"+\n",
       "     \"<li>use INLINE resources instead, as so:</li>\\n\"+\n",
       "     \"</ul>\\n\"+\n",
       "     \"<code>\\n\"+\n",
       "     \"from bokeh.resources import INLINE\\n\"+\n",
       "     \"output_notebook(resources=INLINE)\\n\"+\n",
       "     \"</code>\\n\"+\n",
       "     \"</div>\"}};\n",
       "\n",
       "  function display_loaded() {\n",
       "    var el = document.getElementById(\"a1f28c86-12b3-4091-9333-0fa2e2987365\");\n",
       "    if (el != null) {\n",
       "      el.textContent = \"BokehJS is loading...\";\n",
       "    }\n",
       "    if (root.Bokeh !== undefined) {\n",
       "      if (el != null) {\n",
       "        el.textContent = \"BokehJS \" + root.Bokeh.version + \" successfully loaded.\";\n",
       "      }\n",
       "    } else if (Date.now() < root._bokeh_timeout) {\n",
       "      setTimeout(display_loaded, 100)\n",
       "    }\n",
       "  }\n",
       "\n",
       "\n",
       "  function run_callbacks() {\n",
       "    try {\n",
       "      root._bokeh_onload_callbacks.forEach(function(callback) { callback() });\n",
       "    }\n",
       "    finally {\n",
       "      delete root._bokeh_onload_callbacks\n",
       "    }\n",
       "    console.info(\"Bokeh: all callbacks have finished\");\n",
       "  }\n",
       "\n",
       "  function load_libs(js_urls, callback) {\n",
       "    root._bokeh_onload_callbacks.push(callback);\n",
       "    if (root._bokeh_is_loading > 0) {\n",
       "      console.log(\"Bokeh: BokehJS is being loaded, scheduling callback at\", now());\n",
       "      return null;\n",
       "    }\n",
       "    if (js_urls == null || js_urls.length === 0) {\n",
       "      run_callbacks();\n",
       "      return null;\n",
       "    }\n",
       "    console.log(\"Bokeh: BokehJS not loaded, scheduling load and callback at\", now());\n",
       "    root._bokeh_is_loading = js_urls.length;\n",
       "    for (var i = 0; i < js_urls.length; i++) {\n",
       "      var url = js_urls[i];\n",
       "      var s = document.createElement('script');\n",
       "      s.src = url;\n",
       "      s.async = false;\n",
       "      s.onreadystatechange = s.onload = function() {\n",
       "        root._bokeh_is_loading--;\n",
       "        if (root._bokeh_is_loading === 0) {\n",
       "          console.log(\"Bokeh: all BokehJS libraries loaded\");\n",
       "          run_callbacks()\n",
       "        }\n",
       "      };\n",
       "      s.onerror = function() {\n",
       "        console.warn(\"failed to load library \" + url);\n",
       "      };\n",
       "      console.log(\"Bokeh: injecting script tag for BokehJS library: \", url);\n",
       "      document.getElementsByTagName(\"head\")[0].appendChild(s);\n",
       "    }\n",
       "  };var element = document.getElementById(\"a1f28c86-12b3-4091-9333-0fa2e2987365\");\n",
       "  if (element == null) {\n",
       "    console.log(\"Bokeh: ERROR: autoload.js configured with elementid 'a1f28c86-12b3-4091-9333-0fa2e2987365' but no matching script tag was found. \")\n",
       "    return false;\n",
       "  }\n",
       "\n",
       "  var js_urls = [\"https://cdn.pydata.org/bokeh/release/bokeh-0.12.14.min.js\", \"https://cdn.pydata.org/bokeh/release/bokeh-widgets-0.12.14.min.js\", \"https://cdn.pydata.org/bokeh/release/bokeh-tables-0.12.14.min.js\", \"https://cdn.pydata.org/bokeh/release/bokeh-gl-0.12.14.min.js\"];\n",
       "\n",
       "  var inline_js = [\n",
       "    function(Bokeh) {\n",
       "      Bokeh.set_log_level(\"info\");\n",
       "    },\n",
       "    \n",
       "    function(Bokeh) {\n",
       "      \n",
       "    },\n",
       "    function(Bokeh) {\n",
       "      console.log(\"Bokeh: injecting CSS: https://cdn.pydata.org/bokeh/release/bokeh-0.12.14.min.css\");\n",
       "      Bokeh.embed.inject_css(\"https://cdn.pydata.org/bokeh/release/bokeh-0.12.14.min.css\");\n",
       "      console.log(\"Bokeh: injecting CSS: https://cdn.pydata.org/bokeh/release/bokeh-widgets-0.12.14.min.css\");\n",
       "      Bokeh.embed.inject_css(\"https://cdn.pydata.org/bokeh/release/bokeh-widgets-0.12.14.min.css\");\n",
       "      console.log(\"Bokeh: injecting CSS: https://cdn.pydata.org/bokeh/release/bokeh-tables-0.12.14.min.css\");\n",
       "      Bokeh.embed.inject_css(\"https://cdn.pydata.org/bokeh/release/bokeh-tables-0.12.14.min.css\");\n",
       "    }\n",
       "  ];\n",
       "\n",
       "  function run_inline_js() {\n",
       "    \n",
       "    if ((root.Bokeh !== undefined) || (force === true)) {\n",
       "      for (var i = 0; i < inline_js.length; i++) {\n",
       "        inline_js[i].call(root, root.Bokeh);\n",
       "      }if (force === true) {\n",
       "        display_loaded();\n",
       "      }} else if (Date.now() < root._bokeh_timeout) {\n",
       "      setTimeout(run_inline_js, 100);\n",
       "    } else if (!root._bokeh_failed_load) {\n",
       "      console.log(\"Bokeh: BokehJS failed to load within specified timeout.\");\n",
       "      root._bokeh_failed_load = true;\n",
       "    } else if (force !== true) {\n",
       "      var cell = $(document.getElementById(\"a1f28c86-12b3-4091-9333-0fa2e2987365\")).parents('.cell').data().cell;\n",
       "      cell.output_area.append_execute_result(NB_LOAD_WARNING)\n",
       "    }\n",
       "\n",
       "  }\n",
       "\n",
       "  if (root._bokeh_is_loading === 0) {\n",
       "    console.log(\"Bokeh: BokehJS loaded, going straight to plotting\");\n",
       "    run_inline_js();\n",
       "  } else {\n",
       "    load_libs(js_urls, function() {\n",
       "      console.log(\"Bokeh: BokehJS plotting callback run at\", now());\n",
       "      run_inline_js();\n",
       "    });\n",
       "  }\n",
       "}(window));"
      ],
      "application/vnd.bokehjs_load.v0+json": "\n(function(root) {\n  function now() {\n    return new Date();\n  }\n\n  var force = true;\n\n  if (typeof (root._bokeh_onload_callbacks) === \"undefined\" || force === true) {\n    root._bokeh_onload_callbacks = [];\n    root._bokeh_is_loading = undefined;\n  }\n\n  \n\n  \n  if (typeof (root._bokeh_timeout) === \"undefined\" || force === true) {\n    root._bokeh_timeout = Date.now() + 5000;\n    root._bokeh_failed_load = false;\n  }\n\n  var NB_LOAD_WARNING = {'data': {'text/html':\n     \"<div style='background-color: #fdd'>\\n\"+\n     \"<p>\\n\"+\n     \"BokehJS does not appear to have successfully loaded. If loading BokehJS from CDN, this \\n\"+\n     \"may be due to a slow or bad network connection. Possible fixes:\\n\"+\n     \"</p>\\n\"+\n     \"<ul>\\n\"+\n     \"<li>re-rerun `output_notebook()` to attempt to load from CDN again, or</li>\\n\"+\n     \"<li>use INLINE resources instead, as so:</li>\\n\"+\n     \"</ul>\\n\"+\n     \"<code>\\n\"+\n     \"from bokeh.resources import INLINE\\n\"+\n     \"output_notebook(resources=INLINE)\\n\"+\n     \"</code>\\n\"+\n     \"</div>\"}};\n\n  function display_loaded() {\n    var el = document.getElementById(\"a1f28c86-12b3-4091-9333-0fa2e2987365\");\n    if (el != null) {\n      el.textContent = \"BokehJS is loading...\";\n    }\n    if (root.Bokeh !== undefined) {\n      if (el != null) {\n        el.textContent = \"BokehJS \" + root.Bokeh.version + \" successfully loaded.\";\n      }\n    } else if (Date.now() < root._bokeh_timeout) {\n      setTimeout(display_loaded, 100)\n    }\n  }\n\n\n  function run_callbacks() {\n    try {\n      root._bokeh_onload_callbacks.forEach(function(callback) { callback() });\n    }\n    finally {\n      delete root._bokeh_onload_callbacks\n    }\n    console.info(\"Bokeh: all callbacks have finished\");\n  }\n\n  function load_libs(js_urls, callback) {\n    root._bokeh_onload_callbacks.push(callback);\n    if (root._bokeh_is_loading > 0) {\n      console.log(\"Bokeh: BokehJS is being loaded, scheduling callback at\", now());\n      return null;\n    }\n    if (js_urls == null || js_urls.length === 0) {\n      run_callbacks();\n      return null;\n    }\n    console.log(\"Bokeh: BokehJS not loaded, scheduling load and callback at\", now());\n    root._bokeh_is_loading = js_urls.length;\n    for (var i = 0; i < js_urls.length; i++) {\n      var url = js_urls[i];\n      var s = document.createElement('script');\n      s.src = url;\n      s.async = false;\n      s.onreadystatechange = s.onload = function() {\n        root._bokeh_is_loading--;\n        if (root._bokeh_is_loading === 0) {\n          console.log(\"Bokeh: all BokehJS libraries loaded\");\n          run_callbacks()\n        }\n      };\n      s.onerror = function() {\n        console.warn(\"failed to load library \" + url);\n      };\n      console.log(\"Bokeh: injecting script tag for BokehJS library: \", url);\n      document.getElementsByTagName(\"head\")[0].appendChild(s);\n    }\n  };var element = document.getElementById(\"a1f28c86-12b3-4091-9333-0fa2e2987365\");\n  if (element == null) {\n    console.log(\"Bokeh: ERROR: autoload.js configured with elementid 'a1f28c86-12b3-4091-9333-0fa2e2987365' but no matching script tag was found. \")\n    return false;\n  }\n\n  var js_urls = [\"https://cdn.pydata.org/bokeh/release/bokeh-0.12.14.min.js\", \"https://cdn.pydata.org/bokeh/release/bokeh-widgets-0.12.14.min.js\", \"https://cdn.pydata.org/bokeh/release/bokeh-tables-0.12.14.min.js\", \"https://cdn.pydata.org/bokeh/release/bokeh-gl-0.12.14.min.js\"];\n\n  var inline_js = [\n    function(Bokeh) {\n      Bokeh.set_log_level(\"info\");\n    },\n    \n    function(Bokeh) {\n      \n    },\n    function(Bokeh) {\n      console.log(\"Bokeh: injecting CSS: https://cdn.pydata.org/bokeh/release/bokeh-0.12.14.min.css\");\n      Bokeh.embed.inject_css(\"https://cdn.pydata.org/bokeh/release/bokeh-0.12.14.min.css\");\n      console.log(\"Bokeh: injecting CSS: https://cdn.pydata.org/bokeh/release/bokeh-widgets-0.12.14.min.css\");\n      Bokeh.embed.inject_css(\"https://cdn.pydata.org/bokeh/release/bokeh-widgets-0.12.14.min.css\");\n      console.log(\"Bokeh: injecting CSS: https://cdn.pydata.org/bokeh/release/bokeh-tables-0.12.14.min.css\");\n      Bokeh.embed.inject_css(\"https://cdn.pydata.org/bokeh/release/bokeh-tables-0.12.14.min.css\");\n    }\n  ];\n\n  function run_inline_js() {\n    \n    if ((root.Bokeh !== undefined) || (force === true)) {\n      for (var i = 0; i < inline_js.length; i++) {\n        inline_js[i].call(root, root.Bokeh);\n      }if (force === true) {\n        display_loaded();\n      }} else if (Date.now() < root._bokeh_timeout) {\n      setTimeout(run_inline_js, 100);\n    } else if (!root._bokeh_failed_load) {\n      console.log(\"Bokeh: BokehJS failed to load within specified timeout.\");\n      root._bokeh_failed_load = true;\n    } else if (force !== true) {\n      var cell = $(document.getElementById(\"a1f28c86-12b3-4091-9333-0fa2e2987365\")).parents('.cell').data().cell;\n      cell.output_area.append_execute_result(NB_LOAD_WARNING)\n    }\n\n  }\n\n  if (root._bokeh_is_loading === 0) {\n    console.log(\"Bokeh: BokehJS loaded, going straight to plotting\");\n    run_inline_js();\n  } else {\n    load_libs(js_urls, function() {\n      console.log(\"Bokeh: BokehJS plotting callback run at\", now());\n      run_inline_js();\n    });\n  }\n}(window));"
     },
     "metadata": {},
     "output_type": "display_data"
    }
   ],
   "source": [
    "output_notebook()"
   ]
  },
  {
   "cell_type": "code",
   "execution_count": 85,
   "metadata": {
    "collapsed": true
   },
   "outputs": [],
   "source": [
    "def fmt_cool(ds_in):\n",
    "    ds = ds_in.copy(deep=True)\n",
    "    if 'igg' in ds.dims:\n",
    "        ds = ds.sel(igg=1)\n",
    "\n",
    "    if 'g' in ds.dims:\n",
    "        ds = ds.sum('g')\n",
    "            \n",
    "    if 'band' in ds.dims:\n",
    "        try:\n",
    "            ds = ds.squeeze('band')\n",
    "        except ValueError:\n",
    "            ds = ds.sum('band')\n",
    "                \n",
    "    return ds['coolrg']\n",
    "\n",
    "\n",
    "def pltdata_cooling_1(ds_cool_crd=None, ds_cool_wgt=None):\n",
    "    \n",
    "\n",
    "\n",
    "    colors = all_palettes['Set1'][4]\n",
    "    data = [{'label': 'CRD',\n",
    "             'srs': fmt_cool(ds_cool_crd),\n",
    "             'line_dash': 'solid', 'line_width': 1.5,\n",
    "             'marker': 'circle', 'marker_size': 5,\n",
    "             'color': colors[2], 'alpha': 1,},\n",
    "            {'label': 'WGT igg=10',\n",
    "             'srs': fmt_cool(ds_cool_wgt.sel(igg=10)),\n",
    "             'line_dash': 'solid', 'line_width': 3,\n",
    "             'marker': 'square', 'marker_size': 5,\n",
    "             'color': colors[3], 'alpha': .6},\n",
    "            {'label': 'WGT igg=1',\n",
    "             'srs': fmt_cool(ds_cool_wgt.sel(igg=1)),\n",
    "             'line_dash': 'dotdash', 'line_width': 3,\n",
    "             'marker': 'inverted_triangle', 'marker_size': 5,\n",
    "             'color': colors[1], 'alpha': .6}\n",
    "           ]\n",
    "    return data\n",
    "\n",
    "\n",
    "def nice_xlims(pltdata=None, prange=None):\n",
    "    \n",
    "    def get_slice(srs):\n",
    "        return srs.sel(pressure=slice(*prange))\n",
    "    \n",
    "    srss = [d['srs'] for d in pltdata]\n",
    "    vmin = min([get_slice(srs).min() for srs in srss])\n",
    "    vmax = max([get_slice(srs).max() for srs in srss])\n",
    "    dv = (vmax - vmin) * .01\n",
    "    return float(vmin - dv), float(vmax + dv)\n",
    "    \n",
    "\n",
    "def plt_cooling_bokeh(pltdata=None):\n",
    "    '''\n",
    "    Plot a list of cooling rate profiles using bokeh.\n",
    "    '''\n",
    "    ymin = 1e-2 \n",
    "    ymax = 1020 \n",
    "        \n",
    "    p1 = figure(title=\"Linear pressure scale\", \n",
    "                plot_width=400)        \n",
    "    xmin, xmax = nice_xlims(pltdata, prange=(50, 1050))\n",
    "    for d in pltdata:\n",
    "        if 'marker' in d:\n",
    "            getattr(p1, d['marker'])(d['srs'].values, \n",
    "                    d['srs'].coords['pressure'].values,\n",
    "                    color=d['color'], alpha=.7)\n",
    "        p1.line(d['srs'].values, \n",
    "                d['srs'].coords['pressure'].values,\n",
    "                color=d['color'], alpha=d['alpha'], \n",
    "                line_width=d['line_width'], line_dash=d['line_dash'])\n",
    "    \n",
    "    p1.y_range = Range1d(ymax, ymin)\n",
    "    p1.yaxis.axis_label = 'pressure [mb]'   \n",
    "    p1.x_range = Range1d(xmin, xmax)\n",
    "    p1.xaxis.axis_label = 'cooling rate [K/day]'\n",
    "            \n",
    "    p2 = figure(title='Log pressure scale', y_axis_type='log',\n",
    "                plot_width=560)\n",
    "    xmin, xmax = nice_xlims(pltdata, prange=(.01, 200))\n",
    "    \n",
    "    rs = []\n",
    "    for d in pltdata:\n",
    "        rd = []\n",
    "        if 'marker' in d:\n",
    "            r_mark = getattr(p2, d['marker'])(d['srs'].values, \n",
    "                        d['srs'].coords['pressure'].values,\n",
    "                        color=d['color'], alpha=.7)\n",
    "            rd.append(r_mark)\n",
    "        r_line = p2.line(d['srs'].values, \n",
    "                    d['srs'].coords['pressure'].values,\n",
    "                    color=d['color'], alpha=d['alpha'], \n",
    "                    line_width=d['line_width'], line_dash=d['line_dash'])\n",
    "        rd.append(r_line)\n",
    "      \n",
    "        rs.append(rd)\n",
    "        \n",
    "    p2.y_range = Range1d(ymax, ymin)  \n",
    "    p2.yaxis.axis_label = 'pressure [mb]'\n",
    "    \n",
    "    p2.x_range = Range1d(xmin, xmax)\n",
    "    p2.xaxis.axis_label = 'cooling rate [K/day]'\n",
    "    \n",
    "    items = [(d['label'], r) for r, d in zip(rs, pltdata)]\n",
    "    legend = Legend(items=items, location=(10, -30))\n",
    "    legend.label_text_font_size = '8pt'\n",
    "    \n",
    "    p2.add_layout(legend, 'right')  \n",
    "    \n",
    "    show(gridplot(p1, p2, ncols=2, plot_height=500))\n",
    "    \n",
    "\n",
    "def script_plt_cooling():\n",
    "    pltdata = pltdata_cooling_1(\n",
    "        ds_cool_crd=DS_COOL_CRD,\n",
    "        ds_cool_wgt=DS_COOL_WGT)\n",
    "    plt_cooling_bokeh(pltdata=pltdata)\n",
    "    print('''FIGURE. Cooling rate profiles.''')"
   ]
  },
  {
   "cell_type": "code",
   "execution_count": 86,
   "metadata": {
    "collapsed": true
   },
   "outputs": [],
   "source": [
    "def fmt_flux(ds_in):\n",
    "    ds = ds_in.copy(deep=True)\n",
    "    \n",
    "    for l in ('level', 'layer'):\n",
    "        if l in ds.data_vars:\n",
    "            if len(ds[l].dims) > 1:\n",
    "                surface = {d: 0 for d in ds.dims if d != 'pressure'}\n",
    "                coord_level = ds[l][surface]\n",
    "                ds.coords[l] = ('pressure', coord_level)\n",
    "            else:\n",
    "                ds.coords[l] = ('pressure', ds[l])\n",
    "        \n",
    "    ds = ds.isel(pressure=[0, 23, -1])\n",
    "    \n",
    "    if 'igg' in ds.dims:\n",
    "        if ds.dims['igg'] > 1:\n",
    "            print('Select an igg value to view in table.')\n",
    "            raise ValueError\n",
    "        else:\n",
    "            ds = ds.squeeze('igg').drop('igg')\n",
    "    else:\n",
    "        if 'igg' in ds.coords:\n",
    "            ds = ds.drop('igg')\n",
    "\n",
    "    if 'g' in ds.dims:\n",
    "        ds = ds.sum('g')\n",
    "            \n",
    "    if 'band' in ds.dims:\n",
    "        try:\n",
    "            ds = ds.squeeze('band').drop('band')\n",
    "        except ValueError:\n",
    "            ds = ds.sum('band')\n",
    "                \n",
    "    df = ds.to_dataframe()\n",
    "    df = df.set_index('level', append=True)               \n",
    "    return df\n",
    "\n",
    "\n",
    "def tbdata_flux(ds_flux_crd=None, ds_flux_wgt=None):\n",
    "    ilevels = [0, 23, -1]\n",
    "            \n",
    "    benchmark = {'label': 'CRD',\n",
    "                 'df': fmt_flux(ds_flux_crd)}\n",
    "    tbs = [{'label': 'WGT igg=10',\n",
    "            'df': fmt_flux(ds_flux_wgt.sel(igg=10))},\n",
    "           {'label': 'WGT igg=1',\n",
    "            'df': fmt_flux(ds_flux_wgt.sel(igg=1))}]\n",
    "    \n",
    "    data = {'benchmark': benchmark, 'others': tbs}\n",
    "    return data\n",
    "\n",
    "\n",
    "def tb_flux(tbdata=None):\n",
    "    benchmark = tbdata['benchmark']\n",
    "    others = tbdata['others']\n",
    "    \n",
    "    def show_tb(d=None):\n",
    "        display.display(d['df'])\n",
    "        print('Table.', 'Fluxes.', d['label'])\n",
    "        \n",
    "    def show_tbdiff(d0=None, d=None):\n",
    "        df = d['df']\n",
    "        df.index = d0['df'].index\n",
    "        display.display(df - d0['df'])\n",
    "        print('Table.', 'Fluxes.', \n",
    "              '({}) - ({})'.format(d['label'], d0['label']))\n",
    "        \n",
    "    show_tb(benchmark)\n",
    "    for d in others:\n",
    "        show_tb(d)\n",
    "        \n",
    "    for d in others:\n",
    "        show_tbdiff(d=d, d0=benchmark)\n",
    "        \n",
    "        \n",
    "def script_tb_flux():\n",
    "    data = tbdata_flux(ds_flux_crd=DS_FLUX_CRD,\n",
    "                       ds_flux_wgt=DS_FLUX_WGT)\n",
    "    tb_flux(tbdata=data)"
   ]
  },
  {
   "cell_type": "code",
   "execution_count": 87,
   "metadata": {
    "collapsed": true
   },
   "outputs": [],
   "source": [
    "def band_map():\n",
    "    '''\n",
    "    Maps spectral bands in lblnew to spectral bands in clirad.\n",
    "    '''\n",
    "    lblnew2clirad = {'1': '1',\n",
    "            '2': '2',\n",
    "            '3a': '3',\n",
    "            '3b': '4',\n",
    "            '3c': '5',\n",
    "            '4': '6', \n",
    "            '5': '7',\n",
    "            '6': '8',\n",
    "            '7': '9', \n",
    "            '8': '10',\n",
    "            '9': '11'}\n",
    "    \n",
    "    clirad2lblnew = {clirad: lblnew \n",
    "                     for lblnew, clirad in lblnew2clirad.items()}\n",
    "    return clirad2lblnew\n",
    "\n",
    "\n",
    "def gasbands():\n",
    "    bmap = band_map()\n",
    "    gases = list(PARAM['molecule'].keys())\n",
    "    \n",
    "    bands = [str(b) for b in PARAM['band']]\n",
    "    return list(itertools.product(gases, bands))\n",
    "\n",
    "\n",
    "def print_bestfit_params():\n",
    "    print('Best-fit values for each (gas, band)')\n",
    "    print('------------------------------------')\n",
    "    for gas, band in gasbands():\n",
    "        print('o {} band{}'.format(gas, band))\n",
    "        param = bestfits.kdist_params(molecule=gas, band=band)\n",
    "        for name, value in param.items():\n",
    "            print(2 * ' ' + '{} = {}'.format(name, value))\n",
    "\n",
    "        \n",
    "def print_input_param():        \n",
    "    for name, value in PARAM.items():\n",
    "        print('{} = {}'.format(name, value))\n"
   ]
  },
  {
   "cell_type": "code",
   "execution_count": 88,
   "metadata": {
    "collapsed": true,
    "scrolled": false
   },
   "outputs": [],
   "source": [
    "def show_html(s):\n",
    "    display.display(display.HTML(s))\n",
    "\n",
    "    \n",
    "def show_markdown(s):\n",
    "    display.display(display.Markdown(s))\n",
    "\n",
    "    \n",
    "def script():\n",
    "    \n",
    "    title = '### LBLNEW-OVERLAP'\n",
    "    s_input = 'Input Parameters'\n",
    "    s_bestfits = 'Best-fit Parameters'\n",
    "    s_plt_cooling = 'Cooling Rate Profiles'\n",
    "    s_tb_flux = 'Flux Comparison'\n",
    "    \n",
    "    # title\n",
    "    show_markdown(title)\n",
    "    \n",
    "    # TOC\n",
    "    show_markdown('### Table of Contents')\n",
    "    show_html(climahtml.getHTML_hrefanchor(s_input))\n",
    "    show_html(climahtml.getHTML_hrefanchor(s_plt_cooling))\n",
    "    show_html(climahtml.getHTML_hrefanchor(s_tb_flux))\n",
    "    show_html(climahtml.getHTML_hrefanchor(s_bestfits))\n",
    "    \n",
    "    # Input parameters\n",
    "    show_html(climahtml.getHTML_idanchor(s_input))\n",
    "    show_markdown(climahtml.getMarkdown_sectitle(s_input))\n",
    "    print_input_param()\n",
    "    \n",
    "    # Cooling rate profiles\n",
    "    show_html(climahtml.getHTML_idanchor(s_plt_cooling))\n",
    "    show_markdown(climahtml.getMarkdown_sectitle(s_plt_cooling))\n",
    "    script_plt_cooling()\n",
    "    \n",
    "    # Flux comparison\n",
    "    show_html(climahtml.getHTML_idanchor(s_tb_flux))\n",
    "    show_markdown(climahtml.getMarkdown_sectitle(s_tb_flux))\n",
    "    script_tb_flux()\n",
    "    \n",
    "    # Best-fit values\n",
    "    show_html(climahtml.getHTML_idanchor(s_bestfits))\n",
    "    show_markdown(climahtml.getMarkdown_sectitle(s_bestfits))\n",
    "    print_bestfit_params()\n",
    "   \n",
    "    "
   ]
  },
  {
   "cell_type": "code",
   "execution_count": 89,
   "metadata": {
    "scrolled": false
   },
   "outputs": [
    {
     "data": {
      "text/markdown": [
       "### LBLNEW-OVERLAP"
      ],
      "text/plain": [
       "<IPython.core.display.Markdown object>"
      ]
     },
     "metadata": {},
     "output_type": "display_data"
    },
    {
     "data": {
      "text/markdown": [
       "### Table of Contents"
      ],
      "text/plain": [
       "<IPython.core.display.Markdown object>"
      ]
     },
     "metadata": {},
     "output_type": "display_data"
    },
    {
     "data": {
      "text/html": [
       "<a href=\"#Input_Parameters\">Input Parameters</a>"
      ],
      "text/plain": [
       "<IPython.core.display.HTML object>"
      ]
     },
     "metadata": {},
     "output_type": "display_data"
    },
    {
     "data": {
      "text/html": [
       "<a href=\"#Cooling_Rate_Profiles\">Cooling Rate Profiles</a>"
      ],
      "text/plain": [
       "<IPython.core.display.HTML object>"
      ]
     },
     "metadata": {},
     "output_type": "display_data"
    },
    {
     "data": {
      "text/html": [
       "<a href=\"#Flux_Comparison\">Flux Comparison</a>"
      ],
      "text/plain": [
       "<IPython.core.display.HTML object>"
      ]
     },
     "metadata": {},
     "output_type": "display_data"
    },
    {
     "data": {
      "text/html": [
       "<a href=\"#Best-fit_Parameters\">Best-fit Parameters</a>"
      ],
      "text/plain": [
       "<IPython.core.display.HTML object>"
      ]
     },
     "metadata": {},
     "output_type": "display_data"
    },
    {
     "data": {
      "text/html": [
       "<a id=\"Input_Parameters\"></a>"
      ],
      "text/plain": [
       "<IPython.core.display.HTML object>"
      ]
     },
     "metadata": {},
     "output_type": "display_data"
    },
    {
     "data": {
      "text/markdown": [
       "# Input Parameters"
      ],
      "text/plain": [
       "<IPython.core.display.Markdown object>"
      ]
     },
     "metadata": {},
     "output_type": "display_data"
    },
    {
     "name": "stdout",
     "output_type": "stream",
     "text": [
      "commitnumber = commitnumber\n",
      "molecule = {'h2o': 'atmpro', 'co2': 0.0004}\n",
      "band = 9\n",
      "nv = 20\n",
      "dv = 0.05\n",
      "atmpro = mls\n",
      "tsfc = 294\n"
     ]
    },
    {
     "data": {
      "text/html": [
       "<a id=\"Cooling_Rate_Profiles\"></a>"
      ],
      "text/plain": [
       "<IPython.core.display.HTML object>"
      ]
     },
     "metadata": {},
     "output_type": "display_data"
    },
    {
     "data": {
      "text/markdown": [
       "# Cooling Rate Profiles"
      ],
      "text/plain": [
       "<IPython.core.display.Markdown object>"
      ]
     },
     "metadata": {},
     "output_type": "display_data"
    },
    {
     "data": {
      "text/html": [
       "\n",
       "<div class=\"bk-root\">\n",
       "    <div class=\"bk-plotdiv\" id=\"c7220f7a-e315-4cbb-bbf7-8bcb68c73af4\"></div>\n",
       "</div>"
      ]
     },
     "metadata": {},
     "output_type": "display_data"
    },
    {
     "data": {
      "application/javascript": [
       "(function(root) {\n",
       "  function embed_document(root) {\n",
       "    \n",
       "  var docs_json = {\"034ea65a-5da9-4c2e-9dd8-294000603990\":{\"roots\":{\"references\":[{\"attributes\":{\"callback\":null,\"end\":0.01,\"start\":1020},\"id\":\"5a57b8e6-35a7-4faf-a48b-409ee0a0c183\",\"type\":\"Range1d\"},{\"attributes\":{\"children\":[{\"id\":\"47b8cd28-1ed1-4d3d-8aae-f7ec612381db\",\"type\":\"Row\"}]},\"id\":\"c4a50003-9e44-4cf1-a853-63e273f72d2a\",\"type\":\"Column\"},{\"attributes\":{\"ticker\":null},\"id\":\"54cb2f00-be85-4b19-a552-9c647e468238\",\"type\":\"LogTickFormatter\"},{\"attributes\":{\"below\":[{\"id\":\"9d91efc6-736a-4739-91b3-361f3493591f\",\"type\":\"LinearAxis\"}],\"left\":[{\"id\":\"fbb28964-8e13-4107-8e9c-945cf40ba80e\",\"type\":\"LinearAxis\"}],\"plot_height\":500,\"plot_width\":400,\"renderers\":[{\"id\":\"9d91efc6-736a-4739-91b3-361f3493591f\",\"type\":\"LinearAxis\"},{\"id\":\"3b2c8967-dab4-47b3-a36f-7dff78284c11\",\"type\":\"Grid\"},{\"id\":\"fbb28964-8e13-4107-8e9c-945cf40ba80e\",\"type\":\"LinearAxis\"},{\"id\":\"5b19cf20-d9e6-481f-8eb8-c4401a6bacab\",\"type\":\"Grid\"},{\"id\":\"8aa47dce-7248-4b09-9885-b037da4057a7\",\"type\":\"BoxAnnotation\"},{\"id\":\"df1acd43-05a6-4f2b-b579-01b8e62cbc4c\",\"type\":\"GlyphRenderer\"},{\"id\":\"0ae267b6-501a-4672-8516-c2cf9a0319c4\",\"type\":\"GlyphRenderer\"},{\"id\":\"3f1295eb-7ff2-4197-b631-024e2da9b760\",\"type\":\"GlyphRenderer\"},{\"id\":\"418419ff-68eb-49fb-9188-e5524b995b27\",\"type\":\"GlyphRenderer\"},{\"id\":\"072b937d-bff6-4096-bdb9-bc69a848bc34\",\"type\":\"GlyphRenderer\"},{\"id\":\"18d9af4d-21fa-404b-9d21-48c5da4b1b81\",\"type\":\"GlyphRenderer\"}],\"title\":{\"id\":\"93402e6c-83d5-4fff-b3ea-9e6d1fbef9ce\",\"type\":\"Title\"},\"toolbar\":{\"id\":\"d5581bad-31f7-4092-9bc2-c0c9f18e945a\",\"type\":\"Toolbar\"},\"toolbar_location\":null,\"x_range\":{\"id\":\"9de8d554-d302-4d60-85bb-90e2c3a8084e\",\"type\":\"Range1d\"},\"x_scale\":{\"id\":\"39bf1f74-fc40-4623-bf9e-6ea4b3b82a44\",\"type\":\"LinearScale\"},\"y_range\":{\"id\":\"05df19cb-d843-4af4-8528-3ab09a0bc7cf\",\"type\":\"Range1d\"},\"y_scale\":{\"id\":\"feb60699-3bc1-4a04-adcd-3576bdf2257f\",\"type\":\"LinearScale\"}},\"id\":\"1fe3c774-c499-49dd-bc94-469b3a51d4fc\",\"subtype\":\"Figure\",\"type\":\"Plot\"},{\"attributes\":{\"source\":{\"id\":\"3ab9d4bf-f39a-41d8-99b6-c6119be9b76b\",\"type\":\"ColumnDataSource\"}},\"id\":\"56813177-cfc2-4e45-9e40-4dfdc12b83df\",\"type\":\"CDSView\"},{\"attributes\":{\"fill_alpha\":{\"value\":0.7},\"fill_color\":{\"value\":\"#377eb8\"},\"line_alpha\":{\"value\":0.7},\"line_color\":{\"value\":\"#377eb8\"},\"x\":{\"field\":\"x\"},\"y\":{\"field\":\"y\"}},\"id\":\"d0b2f56f-11b2-4927-aa19-7c10bf080af4\",\"type\":\"InvertedTriangle\"},{\"attributes\":{\"source\":{\"id\":\"5659bb39-cc89-4543-a42a-cdb2181be2c3\",\"type\":\"ColumnDataSource\"}},\"id\":\"53f18d25-a39f-482d-94a4-99b7383b0e7e\",\"type\":\"CDSView\"},{\"attributes\":{\"fill_alpha\":{\"value\":0.1},\"fill_color\":{\"value\":\"#1f77b4\"},\"line_alpha\":{\"value\":0.1},\"line_color\":{\"value\":\"#1f77b4\"},\"x\":{\"field\":\"x\"},\"y\":{\"field\":\"y\"}},\"id\":\"652e33da-5ebd-4157-b7bb-ae2269ebdb33\",\"type\":\"Circle\"},{\"attributes\":{\"data_source\":{\"id\":\"93b24bdb-087d-413a-9b9b-b6a4248b6c2b\",\"type\":\"ColumnDataSource\"},\"glyph\":{\"id\":\"b6b60c49-3055-45fe-bd88-147d136e74e7\",\"type\":\"Line\"},\"hover_glyph\":null,\"muted_glyph\":null,\"nonselection_glyph\":{\"id\":\"4a105e56-821d-46e2-b479-9bd5d035e239\",\"type\":\"Line\"},\"selection_glyph\":null,\"view\":{\"id\":\"4f61acf9-54ed-4b2c-a25c-a8be5ae2334b\",\"type\":\"CDSView\"}},\"id\":\"2c7d9ae1-0eec-466a-b8a4-0109453e3aa4\",\"type\":\"GlyphRenderer\"},{\"attributes\":{\"label\":{\"value\":\"WGT igg=1\"},\"renderers\":[{\"id\":\"63f26c93-e6c4-4d40-8226-9f38bfde2ebf\",\"type\":\"GlyphRenderer\"},{\"id\":\"b9169508-0830-48a9-9c98-7f0f9517733a\",\"type\":\"GlyphRenderer\"}]},\"id\":\"8b839339-cefc-4d68-aa6a-a16aa6a51118\",\"type\":\"LegendItem\"},{\"attributes\":{\"callback\":null,\"column_names\":[\"x\",\"y\"],\"data\":{\"x\":{\"__ndarray__\":\"kIS/V1uO1z+s4LchxmvFP1dJGpJJ/L4/pyYXHIsRsz832IJ78YegP6YPPWcbWHO/5MhHrkKanr+yH+UExiqmv3i/EarCCam/rnSX9JInqr+HtRJpBOOqv8YKTOEgpa2/4Z7Qs6WDrb+FZY/3elyxv5xzbBTEhrO/cqFV2qB+tL/szY6lJvmwv/HfCshhp6q/6rsRzIdWoL/fMadImAJ2v8UWlP9PGaA/aRwslDOxuz8lb0buZbLNP+/Od0NcMc0/pXF/YFRzwj8YFpKCXYO5P+CEk0sbwrA/PFH2vDlhoj9SWJADAt+NP93Cse2/FXI/Xw/LwjUAXT8sIeeSLbhWP2eLLkygFko/q23OAUjQJz+hgWzuPzBOv/Ch167vFFm/3pE78X/8Wr9hn6AXZWtav6Cx5nCDm2G/9NC8+dSMaL8VVPRB/1Zsv7jApk0jzWq/O+BrZZGIar9K2lWUh49sv8In2c9CQG6/Exa3/zjJbb/I/AAFzsJsv4UiiPSVJ2u/vHK3j8eRaL9yYQ6OkzNlvzj5X725V2C/eyBtdLL6Ub8jS2tBbpgSvzfw8s6LlVQ/95RSz3/hZj+eUSH8nqhyP3KwzwSQf3o/6jzSs+wPgj+TdpGsPZiGP9aMkKq77Io/hPSi41s5jj9K+raLKYuQP8ow39ujIJI/5Nyd6s3+kz8oalLSD1+WP/BDuqx9kpk/fS5fBn+ZnT/4H325beSgP53/hJ7AgKI//NNXoZKEoz8lAomxQk2kP21a5+efQ6U/PS/G1B51pj8C5aoK8W6oP9NC6PGSN7A/\",\"dtype\":\"float64\",\"shape\":[75]},\"y\":{\"__ndarray__\":\"GhExyth1ND/Sv8nbtpRIP2vylNV0PVE/aTum7souWD/At0SJ8fVgPw3Iuahxymc/MSNhhJWvcD/bTfBN02d3P2zb5nxnaoA/CD5h5MAGhz8NmeH1TyaQP+zrCsc9p5Y/LbKd76fGnz/bLW5ISEmmPww9YvTcQq8/JV2OstnstT8Er5Y7M8G+P0c+r3jqkcU/5h99k6ZBzj88bCIzFzjVP4enV8oyxN0//yH99nXg5D8qOpLLf0jtP5kqGJXUifQ/c9cS8kHP/D+/DpwzojQEQIEmwoanVwxA4lgXt9HgE0BSSZ2AJuIbQAMJih9jjiNA5q4l5INuK0AwTKYKRj0zQNv5fmq8/DpAaCJseHrtQkB/+zpwzoxKQM3MzMzMeFJAZmZmZmZqWEAAAAAAAFxeQM3MzMzMJmJAmpmZmZkfZUBmZmZmZhhoQDMzMzMzEWtAAAAAAAAKbkBmZmZmZoFwQM3MzMzM/XFAMzMzMzN6c0CamZmZmfZ0QAAAAAAAc3ZAZmZmZmbvd0DNzMzMzGt5QDMzMzMz6HpAmpmZmZlkfEAAAAAAAOF9QGZmZmZmXX9AZmZmZuZsgECamZmZGSuBQM3MzMxM6YFAAAAAAICngkAzMzMzs2WDQGZmZmbmI4RAmpmZmRnihEDNzMzMTKCFQAAAAACAXoZAMzMzM7Mch0BmZmZm5tqHQJqZmZkZmYhAzczMzExXiUAAAAAAgBWKQDMzMzOz04pAZmZmZuaRi0CamZmZGVCMQM3MzMxMDo1AAAAAAIDMjUAzMzMzs4qOQGZmZmbmSI9A\",\"dtype\":\"float64\",\"shape\":[75]}}},\"id\":\"5659bb39-cc89-4543-a42a-cdb2181be2c3\",\"type\":\"ColumnDataSource\"},{\"attributes\":{\"source\":{\"id\":\"93b24bdb-087d-413a-9b9b-b6a4248b6c2b\",\"type\":\"ColumnDataSource\"}},\"id\":\"4f61acf9-54ed-4b2c-a25c-a8be5ae2334b\",\"type\":\"CDSView\"},{\"attributes\":{\"label\":{\"value\":\"WGT igg=10\"},\"renderers\":[{\"id\":\"061c632b-7829-41db-b4aa-5ed4062503df\",\"type\":\"GlyphRenderer\"},{\"id\":\"2c7d9ae1-0eec-466a-b8a4-0109453e3aa4\",\"type\":\"GlyphRenderer\"}]},\"id\":\"205730f6-3ddd-4871-a07f-d46445d6feaa\",\"type\":\"LegendItem\"},{\"attributes\":{\"items\":[{\"id\":\"29ea1c69-b877-4c1f-a979-4c53eec3119b\",\"type\":\"LegendItem\"},{\"id\":\"205730f6-3ddd-4871-a07f-d46445d6feaa\",\"type\":\"LegendItem\"},{\"id\":\"8b839339-cefc-4d68-aa6a-a16aa6a51118\",\"type\":\"LegendItem\"}],\"label_text_font_size\":{\"value\":\"8pt\"},\"location\":[10,-30],\"plot\":{\"id\":\"499201be-f12b-4a63-8c47-3fb6e8618c78\",\"subtype\":\"Figure\",\"type\":\"Plot\"}},\"id\":\"5fb589fc-8de3-4291-9b9f-cbc45fc91f94\",\"type\":\"Legend\"},{\"attributes\":{\"children\":[{\"id\":\"1fe3c774-c499-49dd-bc94-469b3a51d4fc\",\"subtype\":\"Figure\",\"type\":\"Plot\"},{\"id\":\"499201be-f12b-4a63-8c47-3fb6e8618c78\",\"subtype\":\"Figure\",\"type\":\"Plot\"}]},\"id\":\"47b8cd28-1ed1-4d3d-8aae-f7ec612381db\",\"type\":\"Row\"},{\"attributes\":{\"callback\":null,\"column_names\":[\"x\",\"y\"],\"data\":{\"x\":{\"__ndarray__\":\"zDcNF9o11z8CZZXKwnTIP+ECGrZ318E/kIxlkkJttT/qdOv42Q+fP8+lwhxgjYe/y3xlsHIAo7/BZ0SZqAapv1xVjnqcKqu/mhinLtTyq78rAyUKz3msv7MHCToiK62/Xxl3KrBlrr/KkZYWalexv53J0fiSAbS/RSMUZbPGs7+gB7uE6rawv7WTIcQepam/pIfC47I8nb8RZHE5hpJVv9SoExJhqqA/dtwy2LvcuT9opqQcBtLLPxyiIxwnQ8s/C7S/3LyrwT8jJainsM65P0fQP5GM9LE/Coqg4wM4pD9kBHVGa3eNP1xHHPugSmA/sWSVMYHEVj+Uife1UB9hP/YFw2RiZlM/rpfdGHAVDT8uCEc6kxdRv+hjBZprs1q/TBUxkXezW7+rMGRboAJbvwGSnfmEjGG/zC5MKR7FaL9m5RhCLm5svxCeFcCw1mq/iD1nJcpya799mcrQ6HZtv0Te0B1GvW6/TBDflV4Mbr+yKFWrgptsv6oYXRCgDmu/Argg7dRbab+M97O9tcpmv7amj/VabWK/GI2WsvXUVr//mBojW3Eqv0+ksBkEAFU/2P0Ljhe1aD9GZY+EAE90P9bvxfy853w/chs/Y459gz+bN9f7UBOIP74TpDPfqos/tCMA+NpFjj+KEBL6fSWQP/xi7A2JPpE/em0BZJLYkj+htd8wikuVP3k9MDGqzZg/fVCR78Q/nT+aiJjBAfWgPyjCdMSb4aI/oVAcLtwzpD+A+8ViVzelP9HyvThRSKY/KLjwbQ6Ypz9QoRNyQHOpP+B4FjsciLA/\",\"dtype\":\"float64\",\"shape\":[75]},\"y\":{\"__ndarray__\":\"GhExyth1ND/Sv8nbtpRIP2vylNV0PVE/aTum7souWD/At0SJ8fVgPw3Iuahxymc/MSNhhJWvcD/bTfBN02d3P2zb5nxnaoA/CD5h5MAGhz8NmeH1TyaQP+zrCsc9p5Y/LbKd76fGnz/bLW5ISEmmPww9YvTcQq8/JV2OstnstT8Er5Y7M8G+P0c+r3jqkcU/5h99k6ZBzj88bCIzFzjVP4enV8oyxN0//yH99nXg5D8qOpLLf0jtP5kqGJXUifQ/c9cS8kHP/D+/DpwzojQEQIEmwoanVwxA4lgXt9HgE0BSSZ2AJuIbQAMJih9jjiNA5q4l5INuK0AwTKYKRj0zQNv5fmq8/DpAaCJseHrtQkB/+zpwzoxKQM3MzMzMeFJAZmZmZmZqWEAAAAAAAFxeQM3MzMzMJmJAmpmZmZkfZUBmZmZmZhhoQDMzMzMzEWtAAAAAAAAKbkBmZmZmZoFwQM3MzMzM/XFAMzMzMzN6c0CamZmZmfZ0QAAAAAAAc3ZAZmZmZmbvd0DNzMzMzGt5QDMzMzMz6HpAmpmZmZlkfEAAAAAAAOF9QGZmZmZmXX9AZmZmZuZsgECamZmZGSuBQM3MzMxM6YFAAAAAAICngkAzMzMzs2WDQGZmZmbmI4RAmpmZmRnihEDNzMzMTKCFQAAAAACAXoZAMzMzM7Mch0BmZmZm5tqHQJqZmZkZmYhAzczMzExXiUAAAAAAgBWKQDMzMzOz04pAZmZmZuaRi0CamZmZGVCMQM3MzMxMDo1AAAAAAIDMjUAzMzMzs4qOQGZmZmbmSI9A\",\"dtype\":\"float64\",\"shape\":[75]}}},\"id\":\"93b24bdb-087d-413a-9b9b-b6a4248b6c2b\",\"type\":\"ColumnDataSource\"},{\"attributes\":{\"line_alpha\":0.6,\"line_color\":\"#377eb8\",\"line_dash\":[2,4,6,4],\"line_width\":3,\"x\":{\"field\":\"x\"},\"y\":{\"field\":\"y\"}},\"id\":\"890d633c-6e96-41f7-90c5-e9be35626f45\",\"type\":\"Line\"},{\"attributes\":{\"source\":{\"id\":\"652c6153-fb85-4ff9-bfe8-0919f8a84bbc\",\"type\":\"ColumnDataSource\"}},\"id\":\"a1437bc6-02c3-4dec-81fb-1020ddc83f0d\",\"type\":\"CDSView\"},{\"attributes\":{\"fill_alpha\":{\"value\":0.7},\"fill_color\":{\"value\":\"#4daf4a\"},\"line_alpha\":{\"value\":0.7},\"line_color\":{\"value\":\"#4daf4a\"},\"x\":{\"field\":\"x\"},\"y\":{\"field\":\"y\"}},\"id\":\"d9737a93-6b2f-4aca-955e-39cfbcb3d17a\",\"type\":\"Circle\"},{\"attributes\":{\"fill_alpha\":{\"value\":0.1},\"fill_color\":{\"value\":\"#1f77b4\"},\"line_alpha\":{\"value\":0.1},\"line_color\":{\"value\":\"#1f77b4\"},\"x\":{\"field\":\"x\"},\"y\":{\"field\":\"y\"}},\"id\":\"a786d093-af3f-4e7d-a105-874631784919\",\"type\":\"Square\"},{\"attributes\":{\"callback\":null,\"end\":0.01,\"start\":1020},\"id\":\"05df19cb-d843-4af4-8528-3ab09a0bc7cf\",\"type\":\"Range1d\"},{\"attributes\":{\"plot\":null,\"text\":\"Linear pressure scale\"},\"id\":\"93402e6c-83d5-4fff-b3ea-9e6d1fbef9ce\",\"type\":\"Title\"},{\"attributes\":{\"callback\":null,\"end\":0.26916285425,\"start\":-0.08351481925},\"id\":\"cc4ec8bd-b00d-46fb-b295-82a3c12c7833\",\"type\":\"Range1d\"},{\"attributes\":{\"fill_alpha\":{\"value\":0.7},\"fill_color\":{\"value\":\"#4daf4a\"},\"line_alpha\":{\"value\":0.7},\"line_color\":{\"value\":\"#4daf4a\"},\"x\":{\"field\":\"x\"},\"y\":{\"field\":\"y\"}},\"id\":\"08dd2e22-0f4a-4b02-a56c-d1ef5510645f\",\"type\":\"Circle\"},{\"attributes\":{\"tools\":[{\"id\":\"408a63cf-8c94-4860-9a0e-a2e038669717\",\"type\":\"PanTool\"},{\"id\":\"bff884cf-db83-4276-acbf-92e002a28cbb\",\"type\":\"WheelZoomTool\"},{\"id\":\"83d450ff-633f-4c0e-9d6a-2677fe676fa4\",\"type\":\"BoxZoomTool\"},{\"id\":\"3baf3592-8511-4c8b-8ee4-1652bfd84992\",\"type\":\"SaveTool\"},{\"id\":\"b5c61e73-6eba-453e-96fd-44c9b7bf259c\",\"type\":\"ResetTool\"},{\"id\":\"ebaa3b2e-b33a-48ce-951b-c997fd29fd8f\",\"type\":\"HelpTool\"},{\"id\":\"64b16789-53b3-48b1-a61b-54519be93e25\",\"type\":\"PanTool\"},{\"id\":\"309be44a-dca2-4bfd-8240-8ecaa8a6a6df\",\"type\":\"WheelZoomTool\"},{\"id\":\"ec88f3ad-588d-4e1c-9dc1-7e11e2902150\",\"type\":\"BoxZoomTool\"},{\"id\":\"549c3763-8a22-47b8-ab73-46bd393f58d7\",\"type\":\"SaveTool\"},{\"id\":\"edfdb76f-42a1-4fa5-af2a-99c2ab2d6d1b\",\"type\":\"ResetTool\"},{\"id\":\"99162e6d-a86f-4fbd-8a37-b5756343ef55\",\"type\":\"HelpTool\"}]},\"id\":\"b2f64f76-2e03-4b9b-b5ff-62c57a889819\",\"type\":\"ProxyToolbar\"},{\"attributes\":{\"data_source\":{\"id\":\"652c6153-fb85-4ff9-bfe8-0919f8a84bbc\",\"type\":\"ColumnDataSource\"},\"glyph\":{\"id\":\"23db1972-e352-4dc4-915c-a3a40008c11c\",\"type\":\"Square\"},\"hover_glyph\":null,\"muted_glyph\":null,\"nonselection_glyph\":{\"id\":\"a786d093-af3f-4e7d-a105-874631784919\",\"type\":\"Square\"},\"selection_glyph\":null,\"view\":{\"id\":\"a1437bc6-02c3-4dec-81fb-1020ddc83f0d\",\"type\":\"CDSView\"}},\"id\":\"061c632b-7829-41db-b4aa-5ed4062503df\",\"type\":\"GlyphRenderer\"},{\"attributes\":{\"data_source\":{\"id\":\"bb934d1c-708c-4d0f-bd7a-1623e6d297e3\",\"type\":\"ColumnDataSource\"},\"glyph\":{\"id\":\"d0b2f56f-11b2-4927-aa19-7c10bf080af4\",\"type\":\"InvertedTriangle\"},\"hover_glyph\":null,\"muted_glyph\":null,\"nonselection_glyph\":{\"id\":\"05b6cd25-528f-478f-a409-0d74ee83e19b\",\"type\":\"InvertedTriangle\"},\"selection_glyph\":null,\"view\":{\"id\":\"22d90b09-e6c2-4366-b719-1dcdfefe0544\",\"type\":\"CDSView\"}},\"id\":\"63f26c93-e6c4-4d40-8226-9f38bfde2ebf\",\"type\":\"GlyphRenderer\"},{\"attributes\":{\"callback\":null,\"column_names\":[\"x\",\"y\"],\"data\":{\"x\":{\"__ndarray__\":\"vVzdFANizD/Ko67EIteaP9am6Wd1aJQ/UymP0a4Ahj/IEgRthQBuP8/3gK1MIFe/TBT29N4Gd78xkhB4JgyEv8iQCDKncI2/6b9iaNArk79WiapGTNyYv9BkJQSwo52/FSnP55zSob9zx+mLh26nv+bPQvjTI66/ZTOeQIwbsL/4msdcd8WtvxfnMN7daqu/EBEiDEhqpr8xrZypT/OXv5j3eu9WM5I/ojMfxloyvT9geU6CUAHRP9nLGf6R8dA/Yerf3PwSwz8ig462J9G0PzLFbUscLac/mDPt+LVJmT9Zu0u0dJ2LP7v6t949n3w/7GrvJWacYz9Z8lHNYsBBvw6UIfDDJlK/Q63AeIlMRr9YRIuoUQlKv6RpFomFMVS/BQRYe891V7+nlyNijWVYvzhGVB/G71+/91fyJRJUZr+WJdoP4bFpv18D8WVaDmi/oER1wqVNZ79eM44Ut3Fnv9EW5myZBmi/KcmIPQwjaL8ErgELTQtnv3v/poVApmS/+lo3qHTlYL/WPMFhzXhXv6SBIneysEW/57Yae8xgKz+XkeWhyV5TP86r+I4zsGI/Rn36HuHzbD+4qEe4H2B0P8bmc4aTSHs/mq+PIG4tgj8BgPQxRdeGP70imm5Jdos/vqNZ6GkRkD+Vg7j2LnOSP5FcXLX77ZQ/cNFmKDCVlz+PcMLTF4GaP4lk/aPF0p0/rNoXy1K9oD/7pgRSz3OiP88yKCaxnKM/7ARXIEoZpD/GsuyLfEWkP54NDUztk6Q/OCp0tGNQpT/UUg6gvummP0XL2taxcq4/\",\"dtype\":\"float64\",\"shape\":[75]},\"y\":{\"__ndarray__\":\"GhExyth1ND/Sv8nbtpRIP2vylNV0PVE/aTum7souWD/At0SJ8fVgPw3Iuahxymc/MSNhhJWvcD/bTfBN02d3P2zb5nxnaoA/CD5h5MAGhz8NmeH1TyaQP+zrCsc9p5Y/LbKd76fGnz/bLW5ISEmmPww9YvTcQq8/JV2OstnstT8Er5Y7M8G+P0c+r3jqkcU/5h99k6ZBzj88bCIzFzjVP4enV8oyxN0//yH99nXg5D8qOpLLf0jtP5kqGJXUifQ/c9cS8kHP/D+/DpwzojQEQIEmwoanVwxA4lgXt9HgE0BSSZ2AJuIbQAMJih9jjiNA5q4l5INuK0AwTKYKRj0zQNv5fmq8/DpAaCJseHrtQkB/+zpwzoxKQM3MzMzMeFJAZmZmZmZqWEAAAAAAAFxeQM3MzMzMJmJAmpmZmZkfZUBmZmZmZhhoQDMzMzMzEWtAAAAAAAAKbkBmZmZmZoFwQM3MzMzM/XFAMzMzMzN6c0CamZmZmfZ0QAAAAAAAc3ZAZmZmZmbvd0DNzMzMzGt5QDMzMzMz6HpAmpmZmZlkfEAAAAAAAOF9QGZmZmZmXX9AZmZmZuZsgECamZmZGSuBQM3MzMxM6YFAAAAAAICngkAzMzMzs2WDQGZmZmbmI4RAmpmZmRnihEDNzMzMTKCFQAAAAACAXoZAMzMzM7Mch0BmZmZm5tqHQJqZmZkZmYhAzczMzExXiUAAAAAAgBWKQDMzMzOz04pAZmZmZuaRi0CamZmZGVCMQM3MzMxMDo1AAAAAAIDMjUAzMzMzs4qOQGZmZmbmSI9A\",\"dtype\":\"float64\",\"shape\":[75]}}},\"id\":\"48508c91-baaa-4b87-a872-d57daaa59cc5\",\"type\":\"ColumnDataSource\"},{\"attributes\":{\"fill_alpha\":{\"value\":0.7},\"fill_color\":{\"value\":\"#984ea3\"},\"line_alpha\":{\"value\":0.7},\"line_color\":{\"value\":\"#984ea3\"},\"x\":{\"field\":\"x\"},\"y\":{\"field\":\"y\"}},\"id\":\"23db1972-e352-4dc4-915c-a3a40008c11c\",\"type\":\"Square\"},{\"attributes\":{\"children\":[{\"id\":\"11f1fb07-9535-424d-9dcd-25c270597dc0\",\"type\":\"ToolbarBox\"},{\"id\":\"c4a50003-9e44-4cf1-a853-63e273f72d2a\",\"type\":\"Column\"}]},\"id\":\"0d23b74e-e254-4e14-9336-9d8cde45a1ba\",\"type\":\"Column\"},{\"attributes\":{},\"id\":\"17849e27-cc43-4598-b50d-6c00c50161ed\",\"type\":\"BasicTickFormatter\"},{\"attributes\":{\"source\":{\"id\":\"48508c91-baaa-4b87-a872-d57daaa59cc5\",\"type\":\"ColumnDataSource\"}},\"id\":\"461877a6-f461-44d4-814a-b9d288d5b8b7\",\"type\":\"CDSView\"},{\"attributes\":{\"line_alpha\":0.1,\"line_color\":\"#1f77b4\",\"line_width\":3,\"x\":{\"field\":\"x\"},\"y\":{\"field\":\"y\"}},\"id\":\"4a105e56-821d-46e2-b479-9bd5d035e239\",\"type\":\"Line\"},{\"attributes\":{},\"id\":\"39bf1f74-fc40-4623-bf9e-6ea4b3b82a44\",\"type\":\"LinearScale\"},{\"attributes\":{\"label\":{\"value\":\"CRD\"},\"renderers\":[{\"id\":\"51800ec1-608d-4022-a6a7-1a3a3dbc3ec0\",\"type\":\"GlyphRenderer\"},{\"id\":\"d01b9fda-9dea-4a4b-9dd0-65a0bb3d673d\",\"type\":\"GlyphRenderer\"}]},\"id\":\"29ea1c69-b877-4c1f-a979-4c53eec3119b\",\"type\":\"LegendItem\"},{\"attributes\":{\"data_source\":{\"id\":\"5659bb39-cc89-4543-a42a-cdb2181be2c3\",\"type\":\"ColumnDataSource\"},\"glyph\":{\"id\":\"890d633c-6e96-41f7-90c5-e9be35626f45\",\"type\":\"Line\"},\"hover_glyph\":null,\"muted_glyph\":null,\"nonselection_glyph\":{\"id\":\"bd7895c0-7ccc-44a1-bb12-b3d0ec2f63be\",\"type\":\"Line\"},\"selection_glyph\":null,\"view\":{\"id\":\"53f18d25-a39f-482d-94a4-99b7383b0e7e\",\"type\":\"CDSView\"}},\"id\":\"b9169508-0830-48a9-9c98-7f0f9517733a\",\"type\":\"GlyphRenderer\"},{\"attributes\":{\"toolbar\":{\"id\":\"b2f64f76-2e03-4b9b-b5ff-62c57a889819\",\"type\":\"ProxyToolbar\"},\"toolbar_location\":\"above\"},\"id\":\"11f1fb07-9535-424d-9dcd-25c270597dc0\",\"type\":\"ToolbarBox\"},{\"attributes\":{},\"id\":\"feb60699-3bc1-4a04-adcd-3576bdf2257f\",\"type\":\"LinearScale\"},{\"attributes\":{\"data_source\":{\"id\":\"3ab9d4bf-f39a-41d8-99b6-c6119be9b76b\",\"type\":\"ColumnDataSource\"},\"glyph\":{\"id\":\"d9737a93-6b2f-4aca-955e-39cfbcb3d17a\",\"type\":\"Circle\"},\"hover_glyph\":null,\"muted_glyph\":null,\"nonselection_glyph\":{\"id\":\"652e33da-5ebd-4157-b7bb-ae2269ebdb33\",\"type\":\"Circle\"},\"selection_glyph\":null,\"view\":{\"id\":\"56813177-cfc2-4e45-9e40-4dfdc12b83df\",\"type\":\"CDSView\"}},\"id\":\"51800ec1-608d-4022-a6a7-1a3a3dbc3ec0\",\"type\":\"GlyphRenderer\"},{\"attributes\":{\"callback\":null,\"column_names\":[\"x\",\"y\"],\"data\":{\"x\":{\"__ndarray__\":\"kIS/V1uO1z+s4LchxmvFP1dJGpJJ/L4/pyYXHIsRsz832IJ78YegP6YPPWcbWHO/5MhHrkKanr+yH+UExiqmv3i/EarCCam/rnSX9JInqr+HtRJpBOOqv8YKTOEgpa2/4Z7Qs6WDrb+FZY/3elyxv5xzbBTEhrO/cqFV2qB+tL/szY6lJvmwv/HfCshhp6q/6rsRzIdWoL/fMadImAJ2v8UWlP9PGaA/aRwslDOxuz8lb0buZbLNP+/Od0NcMc0/pXF/YFRzwj8YFpKCXYO5P+CEk0sbwrA/PFH2vDlhoj9SWJADAt+NP93Cse2/FXI/Xw/LwjUAXT8sIeeSLbhWP2eLLkygFko/q23OAUjQJz+hgWzuPzBOv/Ch167vFFm/3pE78X/8Wr9hn6AXZWtav6Cx5nCDm2G/9NC8+dSMaL8VVPRB/1Zsv7jApk0jzWq/O+BrZZGIar9K2lWUh49sv8In2c9CQG6/Exa3/zjJbb/I/AAFzsJsv4UiiPSVJ2u/vHK3j8eRaL9yYQ6OkzNlvzj5X725V2C/eyBtdLL6Ub8jS2tBbpgSvzfw8s6LlVQ/95RSz3/hZj+eUSH8nqhyP3KwzwSQf3o/6jzSs+wPgj+TdpGsPZiGP9aMkKq77Io/hPSi41s5jj9K+raLKYuQP8ow39ujIJI/5Nyd6s3+kz8oalLSD1+WP/BDuqx9kpk/fS5fBn+ZnT/4H325beSgP53/hJ7AgKI//NNXoZKEoz8lAomxQk2kP21a5+efQ6U/PS/G1B51pj8C5aoK8W6oP9NC6PGSN7A/\",\"dtype\":\"float64\",\"shape\":[75]},\"y\":{\"__ndarray__\":\"GhExyth1ND/Sv8nbtpRIP2vylNV0PVE/aTum7souWD/At0SJ8fVgPw3Iuahxymc/MSNhhJWvcD/bTfBN02d3P2zb5nxnaoA/CD5h5MAGhz8NmeH1TyaQP+zrCsc9p5Y/LbKd76fGnz/bLW5ISEmmPww9YvTcQq8/JV2OstnstT8Er5Y7M8G+P0c+r3jqkcU/5h99k6ZBzj88bCIzFzjVP4enV8oyxN0//yH99nXg5D8qOpLLf0jtP5kqGJXUifQ/c9cS8kHP/D+/DpwzojQEQIEmwoanVwxA4lgXt9HgE0BSSZ2AJuIbQAMJih9jjiNA5q4l5INuK0AwTKYKRj0zQNv5fmq8/DpAaCJseHrtQkB/+zpwzoxKQM3MzMzMeFJAZmZmZmZqWEAAAAAAAFxeQM3MzMzMJmJAmpmZmZkfZUBmZmZmZhhoQDMzMzMzEWtAAAAAAAAKbkBmZmZmZoFwQM3MzMzM/XFAMzMzMzN6c0CamZmZmfZ0QAAAAAAAc3ZAZmZmZmbvd0DNzMzMzGt5QDMzMzMz6HpAmpmZmZlkfEAAAAAAAOF9QGZmZmZmXX9AZmZmZuZsgECamZmZGSuBQM3MzMxM6YFAAAAAAICngkAzMzMzs2WDQGZmZmbmI4RAmpmZmRnihEDNzMzMTKCFQAAAAACAXoZAMzMzM7Mch0BmZmZm5tqHQJqZmZkZmYhAzczMzExXiUAAAAAAgBWKQDMzMzOz04pAZmZmZuaRi0CamZmZGVCMQM3MzMxMDo1AAAAAAIDMjUAzMzMzs4qOQGZmZmbmSI9A\",\"dtype\":\"float64\",\"shape\":[75]}}},\"id\":\"bb934d1c-708c-4d0f-bd7a-1623e6d297e3\",\"type\":\"ColumnDataSource\"},{\"attributes\":{\"line_alpha\":0.1,\"line_color\":\"#1f77b4\",\"line_dash\":[2,4,6,4],\"line_width\":3,\"x\":{\"field\":\"x\"},\"y\":{\"field\":\"y\"}},\"id\":\"bd7895c0-7ccc-44a1-bb12-b3d0ec2f63be\",\"type\":\"Line\"},{\"attributes\":{\"fill_alpha\":{\"value\":0.1},\"fill_color\":{\"value\":\"#1f77b4\"},\"line_alpha\":{\"value\":0.1},\"line_color\":{\"value\":\"#1f77b4\"},\"x\":{\"field\":\"x\"},\"y\":{\"field\":\"y\"}},\"id\":\"05b6cd25-528f-478f-a409-0d74ee83e19b\",\"type\":\"InvertedTriangle\"},{\"attributes\":{\"source\":{\"id\":\"bb934d1c-708c-4d0f-bd7a-1623e6d297e3\",\"type\":\"ColumnDataSource\"}},\"id\":\"22d90b09-e6c2-4366-b719-1dcdfefe0544\",\"type\":\"CDSView\"},{\"attributes\":{\"callback\":null,\"column_names\":[\"x\",\"y\"],\"data\":{\"x\":{\"__ndarray__\":\"zDcNF9o11z8CZZXKwnTIP+ECGrZ318E/kIxlkkJttT/qdOv42Q+fP8+lwhxgjYe/y3xlsHIAo7/BZ0SZqAapv1xVjnqcKqu/mhinLtTyq78rAyUKz3msv7MHCToiK62/Xxl3KrBlrr/KkZYWalexv53J0fiSAbS/RSMUZbPGs7+gB7uE6rawv7WTIcQepam/pIfC47I8nb8RZHE5hpJVv9SoExJhqqA/dtwy2LvcuT9opqQcBtLLPxyiIxwnQ8s/C7S/3LyrwT8jJainsM65P0fQP5GM9LE/Coqg4wM4pD9kBHVGa3eNP1xHHPugSmA/sWSVMYHEVj+Uife1UB9hP/YFw2RiZlM/rpfdGHAVDT8uCEc6kxdRv+hjBZprs1q/TBUxkXezW7+rMGRboAJbvwGSnfmEjGG/zC5MKR7FaL9m5RhCLm5svxCeFcCw1mq/iD1nJcpya799mcrQ6HZtv0Te0B1GvW6/TBDflV4Mbr+yKFWrgptsv6oYXRCgDmu/Argg7dRbab+M97O9tcpmv7amj/VabWK/GI2WsvXUVr//mBojW3Eqv0+ksBkEAFU/2P0Ljhe1aD9GZY+EAE90P9bvxfy853w/chs/Y459gz+bN9f7UBOIP74TpDPfqos/tCMA+NpFjj+KEBL6fSWQP/xi7A2JPpE/em0BZJLYkj+htd8wikuVP3k9MDGqzZg/fVCR78Q/nT+aiJjBAfWgPyjCdMSb4aI/oVAcLtwzpD+A+8ViVzelP9HyvThRSKY/KLjwbQ6Ypz9QoRNyQHOpP+B4FjsciLA/\",\"dtype\":\"float64\",\"shape\":[75]},\"y\":{\"__ndarray__\":\"GhExyth1ND/Sv8nbtpRIP2vylNV0PVE/aTum7souWD/At0SJ8fVgPw3Iuahxymc/MSNhhJWvcD/bTfBN02d3P2zb5nxnaoA/CD5h5MAGhz8NmeH1TyaQP+zrCsc9p5Y/LbKd76fGnz/bLW5ISEmmPww9YvTcQq8/JV2OstnstT8Er5Y7M8G+P0c+r3jqkcU/5h99k6ZBzj88bCIzFzjVP4enV8oyxN0//yH99nXg5D8qOpLLf0jtP5kqGJXUifQ/c9cS8kHP/D+/DpwzojQEQIEmwoanVwxA4lgXt9HgE0BSSZ2AJuIbQAMJih9jjiNA5q4l5INuK0AwTKYKRj0zQNv5fmq8/DpAaCJseHrtQkB/+zpwzoxKQM3MzMzMeFJAZmZmZmZqWEAAAAAAAFxeQM3MzMzMJmJAmpmZmZkfZUBmZmZmZhhoQDMzMzMzEWtAAAAAAAAKbkBmZmZmZoFwQM3MzMzM/XFAMzMzMzN6c0CamZmZmfZ0QAAAAAAAc3ZAZmZmZmbvd0DNzMzMzGt5QDMzMzMz6HpAmpmZmZlkfEAAAAAAAOF9QGZmZmZmXX9AZmZmZuZsgECamZmZGSuBQM3MzMxM6YFAAAAAAICngkAzMzMzs2WDQGZmZmbmI4RAmpmZmRnihEDNzMzMTKCFQAAAAACAXoZAMzMzM7Mch0BmZmZm5tqHQJqZmZkZmYhAzczMzExXiUAAAAAAgBWKQDMzMzOz04pAZmZmZuaRi0CamZmZGVCMQM3MzMxMDo1AAAAAAIDMjUAzMzMzs4qOQGZmZmbmSI9A\",\"dtype\":\"float64\",\"shape\":[75]}}},\"id\":\"652c6153-fb85-4ff9-bfe8-0919f8a84bbc\",\"type\":\"ColumnDataSource\"},{\"attributes\":{\"line_alpha\":0.6,\"line_color\":\"#984ea3\",\"line_width\":3,\"x\":{\"field\":\"x\"},\"y\":{\"field\":\"y\"}},\"id\":\"b6b60c49-3055-45fe-bd88-147d136e74e7\",\"type\":\"Line\"},{\"attributes\":{},\"id\":\"3baf3592-8511-4c8b-8ee4-1652bfd84992\",\"type\":\"SaveTool\"},{\"attributes\":{},\"id\":\"048ab631-aeb1-4207-b753-7cf70a25eb8e\",\"type\":\"BasicTickFormatter\"},{\"attributes\":{\"line_color\":\"#4daf4a\",\"line_width\":1.5,\"x\":{\"field\":\"x\"},\"y\":{\"field\":\"y\"}},\"id\":\"70789e82-c34e-4953-abe1-a92ecc24df11\",\"type\":\"Line\"},{\"attributes\":{\"callback\":null,\"end\":0.06526017040200001,\"start\":-0.004435654602},\"id\":\"9de8d554-d302-4d60-85bb-90e2c3a8084e\",\"type\":\"Range1d\"},{\"attributes\":{\"axis_label\":\"pressure [mb]\",\"formatter\":{\"id\":\"048ab631-aeb1-4207-b753-7cf70a25eb8e\",\"type\":\"BasicTickFormatter\"},\"plot\":{\"id\":\"1fe3c774-c499-49dd-bc94-469b3a51d4fc\",\"subtype\":\"Figure\",\"type\":\"Plot\"},\"ticker\":{\"id\":\"b9c4c32d-4a47-4917-bf33-47af1e1ef697\",\"type\":\"BasicTicker\"}},\"id\":\"fbb28964-8e13-4107-8e9c-945cf40ba80e\",\"type\":\"LinearAxis\"},{\"attributes\":{\"num_minor_ticks\":10},\"id\":\"d1bbc56e-1e54-48d2-b10e-5613e46c49f8\",\"type\":\"LogTicker\"},{\"attributes\":{\"callback\":null,\"column_names\":[\"x\",\"y\"],\"data\":{\"x\":{\"__ndarray__\":\"zDcNF9o11z8CZZXKwnTIP+ECGrZ318E/kIxlkkJttT/qdOv42Q+fP8+lwhxgjYe/y3xlsHIAo7/BZ0SZqAapv1xVjnqcKqu/mhinLtTyq78rAyUKz3msv7MHCToiK62/Xxl3KrBlrr/KkZYWalexv53J0fiSAbS/RSMUZbPGs7+gB7uE6rawv7WTIcQepam/pIfC47I8nb8RZHE5hpJVv9SoExJhqqA/dtwy2LvcuT9opqQcBtLLPxyiIxwnQ8s/C7S/3LyrwT8jJainsM65P0fQP5GM9LE/Coqg4wM4pD9kBHVGa3eNP1xHHPugSmA/sWSVMYHEVj+Uife1UB9hP/YFw2RiZlM/rpfdGHAVDT8uCEc6kxdRv+hjBZprs1q/TBUxkXezW7+rMGRboAJbvwGSnfmEjGG/zC5MKR7FaL9m5RhCLm5svxCeFcCw1mq/iD1nJcpya799mcrQ6HZtv0Te0B1GvW6/TBDflV4Mbr+yKFWrgptsv6oYXRCgDmu/Argg7dRbab+M97O9tcpmv7amj/VabWK/GI2WsvXUVr//mBojW3Eqv0+ksBkEAFU/2P0Ljhe1aD9GZY+EAE90P9bvxfy853w/chs/Y459gz+bN9f7UBOIP74TpDPfqos/tCMA+NpFjj+KEBL6fSWQP/xi7A2JPpE/em0BZJLYkj+htd8wikuVP3k9MDGqzZg/fVCR78Q/nT+aiJjBAfWgPyjCdMSb4aI/oVAcLtwzpD+A+8ViVzelP9HyvThRSKY/KLjwbQ6Ypz9QoRNyQHOpP+B4FjsciLA/\",\"dtype\":\"float64\",\"shape\":[75]},\"y\":{\"__ndarray__\":\"GhExyth1ND/Sv8nbtpRIP2vylNV0PVE/aTum7souWD/At0SJ8fVgPw3Iuahxymc/MSNhhJWvcD/bTfBN02d3P2zb5nxnaoA/CD5h5MAGhz8NmeH1TyaQP+zrCsc9p5Y/LbKd76fGnz/bLW5ISEmmPww9YvTcQq8/JV2OstnstT8Er5Y7M8G+P0c+r3jqkcU/5h99k6ZBzj88bCIzFzjVP4enV8oyxN0//yH99nXg5D8qOpLLf0jtP5kqGJXUifQ/c9cS8kHP/D+/DpwzojQEQIEmwoanVwxA4lgXt9HgE0BSSZ2AJuIbQAMJih9jjiNA5q4l5INuK0AwTKYKRj0zQNv5fmq8/DpAaCJseHrtQkB/+zpwzoxKQM3MzMzMeFJAZmZmZmZqWEAAAAAAAFxeQM3MzMzMJmJAmpmZmZkfZUBmZmZmZhhoQDMzMzMzEWtAAAAAAAAKbkBmZmZmZoFwQM3MzMzM/XFAMzMzMzN6c0CamZmZmfZ0QAAAAAAAc3ZAZmZmZmbvd0DNzMzMzGt5QDMzMzMz6HpAmpmZmZlkfEAAAAAAAOF9QGZmZmZmXX9AZmZmZuZsgECamZmZGSuBQM3MzMxM6YFAAAAAAICngkAzMzMzs2WDQGZmZmbmI4RAmpmZmRnihEDNzMzMTKCFQAAAAACAXoZAMzMzM7Mch0BmZmZm5tqHQJqZmZkZmYhAzczMzExXiUAAAAAAgBWKQDMzMzOz04pAZmZmZuaRi0CamZmZGVCMQM3MzMxMDo1AAAAAAIDMjUAzMzMzs4qOQGZmZmbmSI9A\",\"dtype\":\"float64\",\"shape\":[75]}}},\"id\":\"66b0bd1e-c223-48dc-b0b1-c94b72be88ef\",\"type\":\"ColumnDataSource\"},{\"attributes\":{\"bottom_units\":\"screen\",\"fill_alpha\":{\"value\":0.5},\"fill_color\":{\"value\":\"lightgrey\"},\"left_units\":\"screen\",\"level\":\"overlay\",\"line_alpha\":{\"value\":1.0},\"line_color\":{\"value\":\"black\"},\"line_dash\":[4,4],\"line_width\":{\"value\":2},\"plot\":null,\"render_mode\":\"css\",\"right_units\":\"screen\",\"top_units\":\"screen\"},\"id\":\"8aa47dce-7248-4b09-9885-b037da4057a7\",\"type\":\"BoxAnnotation\"},{\"attributes\":{\"data_source\":{\"id\":\"6495d7b6-936d-4808-95fb-f81e7835070e\",\"type\":\"ColumnDataSource\"},\"glyph\":{\"id\":\"4e3669f7-646e-44ad-9597-fd688145ab71\",\"type\":\"Line\"},\"hover_glyph\":null,\"muted_glyph\":null,\"nonselection_glyph\":{\"id\":\"dde382dc-7949-432e-8d58-afc57b8e5fb8\",\"type\":\"Line\"},\"selection_glyph\":null,\"view\":{\"id\":\"a05d7b42-a754-4f1f-a3a9-4f366616fbb7\",\"type\":\"CDSView\"}},\"id\":\"0ae267b6-501a-4672-8516-c2cf9a0319c4\",\"type\":\"GlyphRenderer\"},{\"attributes\":{\"line_alpha\":0.6,\"line_color\":\"#984ea3\",\"line_width\":3,\"x\":{\"field\":\"x\"},\"y\":{\"field\":\"y\"}},\"id\":\"8225e435-ea49-4c17-839c-5a5c7d3ca3c5\",\"type\":\"Line\"},{\"attributes\":{\"active_drag\":\"auto\",\"active_inspect\":\"auto\",\"active_scroll\":\"auto\",\"active_tap\":\"auto\",\"tools\":[{\"id\":\"408a63cf-8c94-4860-9a0e-a2e038669717\",\"type\":\"PanTool\"},{\"id\":\"bff884cf-db83-4276-acbf-92e002a28cbb\",\"type\":\"WheelZoomTool\"},{\"id\":\"83d450ff-633f-4c0e-9d6a-2677fe676fa4\",\"type\":\"BoxZoomTool\"},{\"id\":\"3baf3592-8511-4c8b-8ee4-1652bfd84992\",\"type\":\"SaveTool\"},{\"id\":\"b5c61e73-6eba-453e-96fd-44c9b7bf259c\",\"type\":\"ResetTool\"},{\"id\":\"ebaa3b2e-b33a-48ce-951b-c997fd29fd8f\",\"type\":\"HelpTool\"}]},\"id\":\"d5581bad-31f7-4092-9bc2-c0c9f18e945a\",\"type\":\"Toolbar\"},{\"attributes\":{\"overlay\":{\"id\":\"8aa47dce-7248-4b09-9885-b037da4057a7\",\"type\":\"BoxAnnotation\"}},\"id\":\"83d450ff-633f-4c0e-9d6a-2677fe676fa4\",\"type\":\"BoxZoomTool\"},{\"attributes\":{\"line_alpha\":0.1,\"line_color\":\"#1f77b4\",\"line_width\":3,\"x\":{\"field\":\"x\"},\"y\":{\"field\":\"y\"}},\"id\":\"35fc1fa1-811b-49c8-9ed2-07eef60d1381\",\"type\":\"Line\"},{\"attributes\":{\"axis_label\":\"cooling rate [K/day]\",\"formatter\":{\"id\":\"38c8f9de-e3be-4292-ae30-1469f0b7c820\",\"type\":\"BasicTickFormatter\"},\"plot\":{\"id\":\"1fe3c774-c499-49dd-bc94-469b3a51d4fc\",\"subtype\":\"Figure\",\"type\":\"Plot\"},\"ticker\":{\"id\":\"d2e14e8b-ee8f-4aa0-8ce1-2ce479ce4995\",\"type\":\"BasicTicker\"}},\"id\":\"9d91efc6-736a-4739-91b3-361f3493591f\",\"type\":\"LinearAxis\"},{\"attributes\":{},\"id\":\"99d1ab0d-a4ea-4e13-9431-30d90139c60b\",\"type\":\"LogScale\"},{\"attributes\":{},\"id\":\"b9c4c32d-4a47-4917-bf33-47af1e1ef697\",\"type\":\"BasicTicker\"},{\"attributes\":{\"axis_label\":\"pressure [mb]\",\"formatter\":{\"id\":\"54cb2f00-be85-4b19-a552-9c647e468238\",\"type\":\"LogTickFormatter\"},\"plot\":{\"id\":\"499201be-f12b-4a63-8c47-3fb6e8618c78\",\"subtype\":\"Figure\",\"type\":\"Plot\"},\"ticker\":{\"id\":\"d1bbc56e-1e54-48d2-b10e-5613e46c49f8\",\"type\":\"LogTicker\"}},\"id\":\"aab7b97b-5737-4a68-9249-b528cb7944fb\",\"type\":\"LogAxis\"},{\"attributes\":{},\"id\":\"99162e6d-a86f-4fbd-8a37-b5756343ef55\",\"type\":\"HelpTool\"},{\"attributes\":{},\"id\":\"ebaa3b2e-b33a-48ce-951b-c997fd29fd8f\",\"type\":\"HelpTool\"},{\"attributes\":{\"data_source\":{\"id\":\"0e6dcebe-a85b-4dd7-9db4-5b24c55df3ca\",\"type\":\"ColumnDataSource\"},\"glyph\":{\"id\":\"84b148a4-4988-4942-88b1-39682d02df79\",\"type\":\"Line\"},\"hover_glyph\":null,\"muted_glyph\":null,\"nonselection_glyph\":{\"id\":\"4c626fd2-ebd5-438a-85f4-5edd2b199eeb\",\"type\":\"Line\"},\"selection_glyph\":null,\"view\":{\"id\":\"b1600904-0e3c-47ab-82e1-1a07ab15f380\",\"type\":\"CDSView\"}},\"id\":\"18d9af4d-21fa-404b-9d21-48c5da4b1b81\",\"type\":\"GlyphRenderer\"},{\"attributes\":{\"dimension\":1,\"plot\":{\"id\":\"1fe3c774-c499-49dd-bc94-469b3a51d4fc\",\"subtype\":\"Figure\",\"type\":\"Plot\"},\"ticker\":{\"id\":\"b9c4c32d-4a47-4917-bf33-47af1e1ef697\",\"type\":\"BasicTicker\"}},\"id\":\"5b19cf20-d9e6-481f-8eb8-c4401a6bacab\",\"type\":\"Grid\"},{\"attributes\":{},\"id\":\"d2e14e8b-ee8f-4aa0-8ce1-2ce479ce4995\",\"type\":\"BasicTicker\"},{\"attributes\":{\"source\":{\"id\":\"a9f333a7-3362-4087-a069-bf8436cce8ef\",\"type\":\"ColumnDataSource\"}},\"id\":\"a86e458b-a32b-4191-a467-c164a2d90c98\",\"type\":\"CDSView\"},{\"attributes\":{\"line_alpha\":0.1,\"line_color\":\"#1f77b4\",\"line_dash\":[2,4,6,4],\"line_width\":3,\"x\":{\"field\":\"x\"},\"y\":{\"field\":\"y\"}},\"id\":\"4c626fd2-ebd5-438a-85f4-5edd2b199eeb\",\"type\":\"Line\"},{\"attributes\":{},\"id\":\"edfdb76f-42a1-4fa5-af2a-99c2ab2d6d1b\",\"type\":\"ResetTool\"},{\"attributes\":{\"plot\":{\"id\":\"1fe3c774-c499-49dd-bc94-469b3a51d4fc\",\"subtype\":\"Figure\",\"type\":\"Plot\"},\"ticker\":{\"id\":\"d2e14e8b-ee8f-4aa0-8ce1-2ce479ce4995\",\"type\":\"BasicTicker\"}},\"id\":\"3b2c8967-dab4-47b3-a36f-7dff78284c11\",\"type\":\"Grid\"},{\"attributes\":{\"line_alpha\":0.6,\"line_color\":\"#377eb8\",\"line_dash\":[2,4,6,4],\"line_width\":3,\"x\":{\"field\":\"x\"},\"y\":{\"field\":\"y\"}},\"id\":\"84b148a4-4988-4942-88b1-39682d02df79\",\"type\":\"Line\"},{\"attributes\":{},\"id\":\"309be44a-dca2-4bfd-8240-8ecaa8a6a6df\",\"type\":\"WheelZoomTool\"},{\"attributes\":{},\"id\":\"408a63cf-8c94-4860-9a0e-a2e038669717\",\"type\":\"PanTool\"},{\"attributes\":{\"data_source\":{\"id\":\"66b0bd1e-c223-48dc-b0b1-c94b72be88ef\",\"type\":\"ColumnDataSource\"},\"glyph\":{\"id\":\"618ebf19-8501-414a-92df-c5fa21745154\",\"type\":\"Square\"},\"hover_glyph\":null,\"muted_glyph\":null,\"nonselection_glyph\":{\"id\":\"40a8fad7-b0b5-481f-ac9e-752dce3c8a1a\",\"type\":\"Square\"},\"selection_glyph\":null,\"view\":{\"id\":\"ca733296-c524-4e6d-8c69-539741f43736\",\"type\":\"CDSView\"}},\"id\":\"3f1295eb-7ff2-4197-b631-024e2da9b760\",\"type\":\"GlyphRenderer\"},{\"attributes\":{\"fill_alpha\":{\"value\":0.1},\"fill_color\":{\"value\":\"#1f77b4\"},\"line_alpha\":{\"value\":0.1},\"line_color\":{\"value\":\"#1f77b4\"},\"x\":{\"field\":\"x\"},\"y\":{\"field\":\"y\"}},\"id\":\"439c5917-d229-4c94-b03a-4f47be558aad\",\"type\":\"InvertedTriangle\"},{\"attributes\":{\"overlay\":{\"id\":\"ee9c1acb-aaff-4394-8588-063a874d811a\",\"type\":\"BoxAnnotation\"}},\"id\":\"ec88f3ad-588d-4e1c-9dc1-7e11e2902150\",\"type\":\"BoxZoomTool\"},{\"attributes\":{\"fill_alpha\":{\"value\":0.1},\"fill_color\":{\"value\":\"#1f77b4\"},\"line_alpha\":{\"value\":0.1},\"line_color\":{\"value\":\"#1f77b4\"},\"x\":{\"field\":\"x\"},\"y\":{\"field\":\"y\"}},\"id\":\"bc002a42-ddf3-4a7d-adc0-99296c96f113\",\"type\":\"Circle\"},{\"attributes\":{\"callback\":null,\"column_names\":[\"x\",\"y\"],\"data\":{\"x\":{\"__ndarray__\":\"vVzdFANizD/Ko67EIteaP9am6Wd1aJQ/UymP0a4Ahj/IEgRthQBuP8/3gK1MIFe/TBT29N4Gd78xkhB4JgyEv8iQCDKncI2/6b9iaNArk79WiapGTNyYv9BkJQSwo52/FSnP55zSob9zx+mLh26nv+bPQvjTI66/ZTOeQIwbsL/4msdcd8WtvxfnMN7daqu/EBEiDEhqpr8xrZypT/OXv5j3eu9WM5I/ojMfxloyvT9geU6CUAHRP9nLGf6R8dA/Yerf3PwSwz8ig462J9G0PzLFbUscLac/mDPt+LVJmT9Zu0u0dJ2LP7v6t949n3w/7GrvJWacYz9Z8lHNYsBBvw6UIfDDJlK/Q63AeIlMRr9YRIuoUQlKv6RpFomFMVS/BQRYe891V7+nlyNijWVYvzhGVB/G71+/91fyJRJUZr+WJdoP4bFpv18D8WVaDmi/oER1wqVNZ79eM44Ut3Fnv9EW5myZBmi/KcmIPQwjaL8ErgELTQtnv3v/poVApmS/+lo3qHTlYL/WPMFhzXhXv6SBIneysEW/57Yae8xgKz+XkeWhyV5TP86r+I4zsGI/Rn36HuHzbD+4qEe4H2B0P8bmc4aTSHs/mq+PIG4tgj8BgPQxRdeGP70imm5Jdos/vqNZ6GkRkD+Vg7j2LnOSP5FcXLX77ZQ/cNFmKDCVlz+PcMLTF4GaP4lk/aPF0p0/rNoXy1K9oD/7pgRSz3OiP88yKCaxnKM/7ARXIEoZpD/GsuyLfEWkP54NDUztk6Q/OCp0tGNQpT/UUg6gvummP0XL2taxcq4/\",\"dtype\":\"float64\",\"shape\":[75]},\"y\":{\"__ndarray__\":\"GhExyth1ND/Sv8nbtpRIP2vylNV0PVE/aTum7souWD/At0SJ8fVgPw3Iuahxymc/MSNhhJWvcD/bTfBN02d3P2zb5nxnaoA/CD5h5MAGhz8NmeH1TyaQP+zrCsc9p5Y/LbKd76fGnz/bLW5ISEmmPww9YvTcQq8/JV2OstnstT8Er5Y7M8G+P0c+r3jqkcU/5h99k6ZBzj88bCIzFzjVP4enV8oyxN0//yH99nXg5D8qOpLLf0jtP5kqGJXUifQ/c9cS8kHP/D+/DpwzojQEQIEmwoanVwxA4lgXt9HgE0BSSZ2AJuIbQAMJih9jjiNA5q4l5INuK0AwTKYKRj0zQNv5fmq8/DpAaCJseHrtQkB/+zpwzoxKQM3MzMzMeFJAZmZmZmZqWEAAAAAAAFxeQM3MzMzMJmJAmpmZmZkfZUBmZmZmZhhoQDMzMzMzEWtAAAAAAAAKbkBmZmZmZoFwQM3MzMzM/XFAMzMzMzN6c0CamZmZmfZ0QAAAAAAAc3ZAZmZmZmbvd0DNzMzMzGt5QDMzMzMz6HpAmpmZmZlkfEAAAAAAAOF9QGZmZmZmXX9AZmZmZuZsgECamZmZGSuBQM3MzMxM6YFAAAAAAICngkAzMzMzs2WDQGZmZmbmI4RAmpmZmRnihEDNzMzMTKCFQAAAAACAXoZAMzMzM7Mch0BmZmZm5tqHQJqZmZkZmYhAzczMzExXiUAAAAAAgBWKQDMzMzOz04pAZmZmZuaRi0CamZmZGVCMQM3MzMxMDo1AAAAAAIDMjUAzMzMzs4qOQGZmZmbmSI9A\",\"dtype\":\"float64\",\"shape\":[75]}}},\"id\":\"3ab9d4bf-f39a-41d8-99b6-c6119be9b76b\",\"type\":\"ColumnDataSource\"},{\"attributes\":{\"plot\":{\"id\":\"499201be-f12b-4a63-8c47-3fb6e8618c78\",\"subtype\":\"Figure\",\"type\":\"Plot\"},\"ticker\":{\"id\":\"f704a4a9-2601-4d8d-a7e6-4b2cd626d88b\",\"type\":\"BasicTicker\"}},\"id\":\"078a3100-520a-4477-a9f5-5a7d945dee0e\",\"type\":\"Grid\"},{\"attributes\":{\"fill_alpha\":{\"value\":0.7},\"fill_color\":{\"value\":\"#377eb8\"},\"line_alpha\":{\"value\":0.7},\"line_color\":{\"value\":\"#377eb8\"},\"x\":{\"field\":\"x\"},\"y\":{\"field\":\"y\"}},\"id\":\"eeaefd69-d041-4e35-950f-693a61e9d4ec\",\"type\":\"InvertedTriangle\"},{\"attributes\":{\"fill_alpha\":{\"value\":0.7},\"fill_color\":{\"value\":\"#984ea3\"},\"line_alpha\":{\"value\":0.7},\"line_color\":{\"value\":\"#984ea3\"},\"x\":{\"field\":\"x\"},\"y\":{\"field\":\"y\"}},\"id\":\"618ebf19-8501-414a-92df-c5fa21745154\",\"type\":\"Square\"},{\"attributes\":{\"active_drag\":\"auto\",\"active_inspect\":\"auto\",\"active_scroll\":\"auto\",\"active_tap\":\"auto\",\"tools\":[{\"id\":\"64b16789-53b3-48b1-a61b-54519be93e25\",\"type\":\"PanTool\"},{\"id\":\"309be44a-dca2-4bfd-8240-8ecaa8a6a6df\",\"type\":\"WheelZoomTool\"},{\"id\":\"ec88f3ad-588d-4e1c-9dc1-7e11e2902150\",\"type\":\"BoxZoomTool\"},{\"id\":\"549c3763-8a22-47b8-ab73-46bd393f58d7\",\"type\":\"SaveTool\"},{\"id\":\"edfdb76f-42a1-4fa5-af2a-99c2ab2d6d1b\",\"type\":\"ResetTool\"},{\"id\":\"99162e6d-a86f-4fbd-8a37-b5756343ef55\",\"type\":\"HelpTool\"}]},\"id\":\"93cb00a7-7f56-4139-9bea-98e601580570\",\"type\":\"Toolbar\"},{\"attributes\":{\"data_source\":{\"id\":\"a9f333a7-3362-4087-a069-bf8436cce8ef\",\"type\":\"ColumnDataSource\"},\"glyph\":{\"id\":\"eeaefd69-d041-4e35-950f-693a61e9d4ec\",\"type\":\"InvertedTriangle\"},\"hover_glyph\":null,\"muted_glyph\":null,\"nonselection_glyph\":{\"id\":\"439c5917-d229-4c94-b03a-4f47be558aad\",\"type\":\"InvertedTriangle\"},\"selection_glyph\":null,\"view\":{\"id\":\"a86e458b-a32b-4191-a467-c164a2d90c98\",\"type\":\"CDSView\"}},\"id\":\"072b937d-bff6-4096-bdb9-bc69a848bc34\",\"type\":\"GlyphRenderer\"},{\"attributes\":{\"plot\":null,\"text\":\"Log pressure scale\"},\"id\":\"178740bd-01c6-4dc6-8149-fcf9f4827b88\",\"type\":\"Title\"},{\"attributes\":{},\"id\":\"549c3763-8a22-47b8-ab73-46bd393f58d7\",\"type\":\"SaveTool\"},{\"attributes\":{},\"id\":\"b5c61e73-6eba-453e-96fd-44c9b7bf259c\",\"type\":\"ResetTool\"},{\"attributes\":{},\"id\":\"dfd8af20-426c-4efa-a8f4-d6ca1f04d8ab\",\"type\":\"LinearScale\"},{\"attributes\":{},\"id\":\"bff884cf-db83-4276-acbf-92e002a28cbb\",\"type\":\"WheelZoomTool\"},{\"attributes\":{\"source\":{\"id\":\"6495d7b6-936d-4808-95fb-f81e7835070e\",\"type\":\"ColumnDataSource\"}},\"id\":\"a05d7b42-a754-4f1f-a3a9-4f366616fbb7\",\"type\":\"CDSView\"},{\"attributes\":{\"data_source\":{\"id\":\"cb2303e2-5733-4a29-9e91-c44d43792fcf\",\"type\":\"ColumnDataSource\"},\"glyph\":{\"id\":\"08dd2e22-0f4a-4b02-a56c-d1ef5510645f\",\"type\":\"Circle\"},\"hover_glyph\":null,\"muted_glyph\":null,\"nonselection_glyph\":{\"id\":\"bc002a42-ddf3-4a7d-adc0-99296c96f113\",\"type\":\"Circle\"},\"selection_glyph\":null,\"view\":{\"id\":\"cda6544d-3263-4913-86e0-8c230e6c435b\",\"type\":\"CDSView\"}},\"id\":\"df1acd43-05a6-4f2b-b579-01b8e62cbc4c\",\"type\":\"GlyphRenderer\"},{\"attributes\":{\"line_alpha\":0.1,\"line_color\":\"#1f77b4\",\"line_width\":1.5,\"x\":{\"field\":\"x\"},\"y\":{\"field\":\"y\"}},\"id\":\"fdda8bd9-75f8-406f-8953-4ea1b0df5233\",\"type\":\"Line\"},{\"attributes\":{\"data_source\":{\"id\":\"e75deba0-fa48-4295-a9cf-6407a5d8dd7e\",\"type\":\"ColumnDataSource\"},\"glyph\":{\"id\":\"8225e435-ea49-4c17-839c-5a5c7d3ca3c5\",\"type\":\"Line\"},\"hover_glyph\":null,\"muted_glyph\":null,\"nonselection_glyph\":{\"id\":\"35fc1fa1-811b-49c8-9ed2-07eef60d1381\",\"type\":\"Line\"},\"selection_glyph\":null,\"view\":{\"id\":\"4b5df52f-6207-4f43-ba9c-412704c96efc\",\"type\":\"CDSView\"}},\"id\":\"418419ff-68eb-49fb-9188-e5524b995b27\",\"type\":\"GlyphRenderer\"},{\"attributes\":{\"axis_label\":\"cooling rate [K/day]\",\"formatter\":{\"id\":\"17849e27-cc43-4598-b50d-6c00c50161ed\",\"type\":\"BasicTickFormatter\"},\"plot\":{\"id\":\"499201be-f12b-4a63-8c47-3fb6e8618c78\",\"subtype\":\"Figure\",\"type\":\"Plot\"},\"ticker\":{\"id\":\"f704a4a9-2601-4d8d-a7e6-4b2cd626d88b\",\"type\":\"BasicTicker\"}},\"id\":\"2f625dea-dee3-4088-8bf7-b619238a665f\",\"type\":\"LinearAxis\"},{\"attributes\":{\"source\":{\"id\":\"cb2303e2-5733-4a29-9e91-c44d43792fcf\",\"type\":\"ColumnDataSource\"}},\"id\":\"cda6544d-3263-4913-86e0-8c230e6c435b\",\"type\":\"CDSView\"},{\"attributes\":{\"source\":{\"id\":\"e75deba0-fa48-4295-a9cf-6407a5d8dd7e\",\"type\":\"ColumnDataSource\"}},\"id\":\"4b5df52f-6207-4f43-ba9c-412704c96efc\",\"type\":\"CDSView\"},{\"attributes\":{\"below\":[{\"id\":\"2f625dea-dee3-4088-8bf7-b619238a665f\",\"type\":\"LinearAxis\"}],\"left\":[{\"id\":\"aab7b97b-5737-4a68-9249-b528cb7944fb\",\"type\":\"LogAxis\"}],\"plot_height\":500,\"plot_width\":560,\"renderers\":[{\"id\":\"2f625dea-dee3-4088-8bf7-b619238a665f\",\"type\":\"LinearAxis\"},{\"id\":\"078a3100-520a-4477-a9f5-5a7d945dee0e\",\"type\":\"Grid\"},{\"id\":\"aab7b97b-5737-4a68-9249-b528cb7944fb\",\"type\":\"LogAxis\"},{\"id\":\"78c3b422-fef9-46b0-97be-b1467f16690b\",\"type\":\"Grid\"},{\"id\":\"ee9c1acb-aaff-4394-8588-063a874d811a\",\"type\":\"BoxAnnotation\"},{\"id\":\"51800ec1-608d-4022-a6a7-1a3a3dbc3ec0\",\"type\":\"GlyphRenderer\"},{\"id\":\"d01b9fda-9dea-4a4b-9dd0-65a0bb3d673d\",\"type\":\"GlyphRenderer\"},{\"id\":\"061c632b-7829-41db-b4aa-5ed4062503df\",\"type\":\"GlyphRenderer\"},{\"id\":\"2c7d9ae1-0eec-466a-b8a4-0109453e3aa4\",\"type\":\"GlyphRenderer\"},{\"id\":\"63f26c93-e6c4-4d40-8226-9f38bfde2ebf\",\"type\":\"GlyphRenderer\"},{\"id\":\"b9169508-0830-48a9-9c98-7f0f9517733a\",\"type\":\"GlyphRenderer\"},{\"id\":\"5fb589fc-8de3-4291-9b9f-cbc45fc91f94\",\"type\":\"Legend\"}],\"right\":[{\"id\":\"5fb589fc-8de3-4291-9b9f-cbc45fc91f94\",\"type\":\"Legend\"}],\"title\":{\"id\":\"178740bd-01c6-4dc6-8149-fcf9f4827b88\",\"type\":\"Title\"},\"toolbar\":{\"id\":\"93cb00a7-7f56-4139-9bea-98e601580570\",\"type\":\"Toolbar\"},\"toolbar_location\":null,\"x_range\":{\"id\":\"cc4ec8bd-b00d-46fb-b295-82a3c12c7833\",\"type\":\"Range1d\"},\"x_scale\":{\"id\":\"dfd8af20-426c-4efa-a8f4-d6ca1f04d8ab\",\"type\":\"LinearScale\"},\"y_range\":{\"id\":\"5a57b8e6-35a7-4faf-a48b-409ee0a0c183\",\"type\":\"Range1d\"},\"y_scale\":{\"id\":\"99d1ab0d-a4ea-4e13-9431-30d90139c60b\",\"type\":\"LogScale\"}},\"id\":\"499201be-f12b-4a63-8c47-3fb6e8618c78\",\"subtype\":\"Figure\",\"type\":\"Plot\"},{\"attributes\":{},\"id\":\"38c8f9de-e3be-4292-ae30-1469f0b7c820\",\"type\":\"BasicTickFormatter\"},{\"attributes\":{\"callback\":null,\"column_names\":[\"x\",\"y\"],\"data\":{\"x\":{\"__ndarray__\":\"vVzdFANizD/Ko67EIteaP9am6Wd1aJQ/UymP0a4Ahj/IEgRthQBuP8/3gK1MIFe/TBT29N4Gd78xkhB4JgyEv8iQCDKncI2/6b9iaNArk79WiapGTNyYv9BkJQSwo52/FSnP55zSob9zx+mLh26nv+bPQvjTI66/ZTOeQIwbsL/4msdcd8WtvxfnMN7daqu/EBEiDEhqpr8xrZypT/OXv5j3eu9WM5I/ojMfxloyvT9geU6CUAHRP9nLGf6R8dA/Yerf3PwSwz8ig462J9G0PzLFbUscLac/mDPt+LVJmT9Zu0u0dJ2LP7v6t949n3w/7GrvJWacYz9Z8lHNYsBBvw6UIfDDJlK/Q63AeIlMRr9YRIuoUQlKv6RpFomFMVS/BQRYe891V7+nlyNijWVYvzhGVB/G71+/91fyJRJUZr+WJdoP4bFpv18D8WVaDmi/oER1wqVNZ79eM44Ut3Fnv9EW5myZBmi/KcmIPQwjaL8ErgELTQtnv3v/poVApmS/+lo3qHTlYL/WPMFhzXhXv6SBIneysEW/57Yae8xgKz+XkeWhyV5TP86r+I4zsGI/Rn36HuHzbD+4qEe4H2B0P8bmc4aTSHs/mq+PIG4tgj8BgPQxRdeGP70imm5Jdos/vqNZ6GkRkD+Vg7j2LnOSP5FcXLX77ZQ/cNFmKDCVlz+PcMLTF4GaP4lk/aPF0p0/rNoXy1K9oD/7pgRSz3OiP88yKCaxnKM/7ARXIEoZpD/GsuyLfEWkP54NDUztk6Q/OCp0tGNQpT/UUg6gvummP0XL2taxcq4/\",\"dtype\":\"float64\",\"shape\":[75]},\"y\":{\"__ndarray__\":\"GhExyth1ND/Sv8nbtpRIP2vylNV0PVE/aTum7souWD/At0SJ8fVgPw3Iuahxymc/MSNhhJWvcD/bTfBN02d3P2zb5nxnaoA/CD5h5MAGhz8NmeH1TyaQP+zrCsc9p5Y/LbKd76fGnz/bLW5ISEmmPww9YvTcQq8/JV2OstnstT8Er5Y7M8G+P0c+r3jqkcU/5h99k6ZBzj88bCIzFzjVP4enV8oyxN0//yH99nXg5D8qOpLLf0jtP5kqGJXUifQ/c9cS8kHP/D+/DpwzojQEQIEmwoanVwxA4lgXt9HgE0BSSZ2AJuIbQAMJih9jjiNA5q4l5INuK0AwTKYKRj0zQNv5fmq8/DpAaCJseHrtQkB/+zpwzoxKQM3MzMzMeFJAZmZmZmZqWEAAAAAAAFxeQM3MzMzMJmJAmpmZmZkfZUBmZmZmZhhoQDMzMzMzEWtAAAAAAAAKbkBmZmZmZoFwQM3MzMzM/XFAMzMzMzN6c0CamZmZmfZ0QAAAAAAAc3ZAZmZmZmbvd0DNzMzMzGt5QDMzMzMz6HpAmpmZmZlkfEAAAAAAAOF9QGZmZmZmXX9AZmZmZuZsgECamZmZGSuBQM3MzMxM6YFAAAAAAICngkAzMzMzs2WDQGZmZmbmI4RAmpmZmRnihEDNzMzMTKCFQAAAAACAXoZAMzMzM7Mch0BmZmZm5tqHQJqZmZkZmYhAzczMzExXiUAAAAAAgBWKQDMzMzOz04pAZmZmZuaRi0CamZmZGVCMQM3MzMxMDo1AAAAAAIDMjUAzMzMzs4qOQGZmZmbmSI9A\",\"dtype\":\"float64\",\"shape\":[75]}}},\"id\":\"cb2303e2-5733-4a29-9e91-c44d43792fcf\",\"type\":\"ColumnDataSource\"},{\"attributes\":{\"fill_alpha\":{\"value\":0.1},\"fill_color\":{\"value\":\"#1f77b4\"},\"line_alpha\":{\"value\":0.1},\"line_color\":{\"value\":\"#1f77b4\"},\"x\":{\"field\":\"x\"},\"y\":{\"field\":\"y\"}},\"id\":\"40a8fad7-b0b5-481f-ac9e-752dce3c8a1a\",\"type\":\"Square\"},{\"attributes\":{\"dimension\":1,\"plot\":{\"id\":\"499201be-f12b-4a63-8c47-3fb6e8618c78\",\"subtype\":\"Figure\",\"type\":\"Plot\"},\"ticker\":{\"id\":\"d1bbc56e-1e54-48d2-b10e-5613e46c49f8\",\"type\":\"LogTicker\"}},\"id\":\"78c3b422-fef9-46b0-97be-b1467f16690b\",\"type\":\"Grid\"},{\"attributes\":{},\"id\":\"64b16789-53b3-48b1-a61b-54519be93e25\",\"type\":\"PanTool\"},{\"attributes\":{\"line_alpha\":0.1,\"line_color\":\"#1f77b4\",\"line_width\":1.5,\"x\":{\"field\":\"x\"},\"y\":{\"field\":\"y\"}},\"id\":\"dde382dc-7949-432e-8d58-afc57b8e5fb8\",\"type\":\"Line\"},{\"attributes\":{\"line_color\":\"#4daf4a\",\"line_width\":1.5,\"x\":{\"field\":\"x\"},\"y\":{\"field\":\"y\"}},\"id\":\"4e3669f7-646e-44ad-9597-fd688145ab71\",\"type\":\"Line\"},{\"attributes\":{\"callback\":null,\"column_names\":[\"x\",\"y\"],\"data\":{\"x\":{\"__ndarray__\":\"zDcNF9o11z8CZZXKwnTIP+ECGrZ318E/kIxlkkJttT/qdOv42Q+fP8+lwhxgjYe/y3xlsHIAo7/BZ0SZqAapv1xVjnqcKqu/mhinLtTyq78rAyUKz3msv7MHCToiK62/Xxl3KrBlrr/KkZYWalexv53J0fiSAbS/RSMUZbPGs7+gB7uE6rawv7WTIcQepam/pIfC47I8nb8RZHE5hpJVv9SoExJhqqA/dtwy2LvcuT9opqQcBtLLPxyiIxwnQ8s/C7S/3LyrwT8jJainsM65P0fQP5GM9LE/Coqg4wM4pD9kBHVGa3eNP1xHHPugSmA/sWSVMYHEVj+Uife1UB9hP/YFw2RiZlM/rpfdGHAVDT8uCEc6kxdRv+hjBZprs1q/TBUxkXezW7+rMGRboAJbvwGSnfmEjGG/zC5MKR7FaL9m5RhCLm5svxCeFcCw1mq/iD1nJcpya799mcrQ6HZtv0Te0B1GvW6/TBDflV4Mbr+yKFWrgptsv6oYXRCgDmu/Argg7dRbab+M97O9tcpmv7amj/VabWK/GI2WsvXUVr//mBojW3Eqv0+ksBkEAFU/2P0Ljhe1aD9GZY+EAE90P9bvxfy853w/chs/Y459gz+bN9f7UBOIP74TpDPfqos/tCMA+NpFjj+KEBL6fSWQP/xi7A2JPpE/em0BZJLYkj+htd8wikuVP3k9MDGqzZg/fVCR78Q/nT+aiJjBAfWgPyjCdMSb4aI/oVAcLtwzpD+A+8ViVzelP9HyvThRSKY/KLjwbQ6Ypz9QoRNyQHOpP+B4FjsciLA/\",\"dtype\":\"float64\",\"shape\":[75]},\"y\":{\"__ndarray__\":\"GhExyth1ND/Sv8nbtpRIP2vylNV0PVE/aTum7souWD/At0SJ8fVgPw3Iuahxymc/MSNhhJWvcD/bTfBN02d3P2zb5nxnaoA/CD5h5MAGhz8NmeH1TyaQP+zrCsc9p5Y/LbKd76fGnz/bLW5ISEmmPww9YvTcQq8/JV2OstnstT8Er5Y7M8G+P0c+r3jqkcU/5h99k6ZBzj88bCIzFzjVP4enV8oyxN0//yH99nXg5D8qOpLLf0jtP5kqGJXUifQ/c9cS8kHP/D+/DpwzojQEQIEmwoanVwxA4lgXt9HgE0BSSZ2AJuIbQAMJih9jjiNA5q4l5INuK0AwTKYKRj0zQNv5fmq8/DpAaCJseHrtQkB/+zpwzoxKQM3MzMzMeFJAZmZmZmZqWEAAAAAAAFxeQM3MzMzMJmJAmpmZmZkfZUBmZmZmZhhoQDMzMzMzEWtAAAAAAAAKbkBmZmZmZoFwQM3MzMzM/XFAMzMzMzN6c0CamZmZmfZ0QAAAAAAAc3ZAZmZmZmbvd0DNzMzMzGt5QDMzMzMz6HpAmpmZmZlkfEAAAAAAAOF9QGZmZmZmXX9AZmZmZuZsgECamZmZGSuBQM3MzMxM6YFAAAAAAICngkAzMzMzs2WDQGZmZmbmI4RAmpmZmRnihEDNzMzMTKCFQAAAAACAXoZAMzMzM7Mch0BmZmZm5tqHQJqZmZkZmYhAzczMzExXiUAAAAAAgBWKQDMzMzOz04pAZmZmZuaRi0CamZmZGVCMQM3MzMxMDo1AAAAAAIDMjUAzMzMzs4qOQGZmZmbmSI9A\",\"dtype\":\"float64\",\"shape\":[75]}}},\"id\":\"e75deba0-fa48-4295-a9cf-6407a5d8dd7e\",\"type\":\"ColumnDataSource\"},{\"attributes\":{\"callback\":null,\"column_names\":[\"x\",\"y\"],\"data\":{\"x\":{\"__ndarray__\":\"kIS/V1uO1z+s4LchxmvFP1dJGpJJ/L4/pyYXHIsRsz832IJ78YegP6YPPWcbWHO/5MhHrkKanr+yH+UExiqmv3i/EarCCam/rnSX9JInqr+HtRJpBOOqv8YKTOEgpa2/4Z7Qs6WDrb+FZY/3elyxv5xzbBTEhrO/cqFV2qB+tL/szY6lJvmwv/HfCshhp6q/6rsRzIdWoL/fMadImAJ2v8UWlP9PGaA/aRwslDOxuz8lb0buZbLNP+/Od0NcMc0/pXF/YFRzwj8YFpKCXYO5P+CEk0sbwrA/PFH2vDlhoj9SWJADAt+NP93Cse2/FXI/Xw/LwjUAXT8sIeeSLbhWP2eLLkygFko/q23OAUjQJz+hgWzuPzBOv/Ch167vFFm/3pE78X/8Wr9hn6AXZWtav6Cx5nCDm2G/9NC8+dSMaL8VVPRB/1Zsv7jApk0jzWq/O+BrZZGIar9K2lWUh49sv8In2c9CQG6/Exa3/zjJbb/I/AAFzsJsv4UiiPSVJ2u/vHK3j8eRaL9yYQ6OkzNlvzj5X725V2C/eyBtdLL6Ub8jS2tBbpgSvzfw8s6LlVQ/95RSz3/hZj+eUSH8nqhyP3KwzwSQf3o/6jzSs+wPgj+TdpGsPZiGP9aMkKq77Io/hPSi41s5jj9K+raLKYuQP8ow39ujIJI/5Nyd6s3+kz8oalLSD1+WP/BDuqx9kpk/fS5fBn+ZnT/4H325beSgP53/hJ7AgKI//NNXoZKEoz8lAomxQk2kP21a5+efQ6U/PS/G1B51pj8C5aoK8W6oP9NC6PGSN7A/\",\"dtype\":\"float64\",\"shape\":[75]},\"y\":{\"__ndarray__\":\"GhExyth1ND/Sv8nbtpRIP2vylNV0PVE/aTum7souWD/At0SJ8fVgPw3Iuahxymc/MSNhhJWvcD/bTfBN02d3P2zb5nxnaoA/CD5h5MAGhz8NmeH1TyaQP+zrCsc9p5Y/LbKd76fGnz/bLW5ISEmmPww9YvTcQq8/JV2OstnstT8Er5Y7M8G+P0c+r3jqkcU/5h99k6ZBzj88bCIzFzjVP4enV8oyxN0//yH99nXg5D8qOpLLf0jtP5kqGJXUifQ/c9cS8kHP/D+/DpwzojQEQIEmwoanVwxA4lgXt9HgE0BSSZ2AJuIbQAMJih9jjiNA5q4l5INuK0AwTKYKRj0zQNv5fmq8/DpAaCJseHrtQkB/+zpwzoxKQM3MzMzMeFJAZmZmZmZqWEAAAAAAAFxeQM3MzMzMJmJAmpmZmZkfZUBmZmZmZhhoQDMzMzMzEWtAAAAAAAAKbkBmZmZmZoFwQM3MzMzM/XFAMzMzMzN6c0CamZmZmfZ0QAAAAAAAc3ZAZmZmZmbvd0DNzMzMzGt5QDMzMzMz6HpAmpmZmZlkfEAAAAAAAOF9QGZmZmZmXX9AZmZmZuZsgECamZmZGSuBQM3MzMxM6YFAAAAAAICngkAzMzMzs2WDQGZmZmbmI4RAmpmZmRnihEDNzMzMTKCFQAAAAACAXoZAMzMzM7Mch0BmZmZm5tqHQJqZmZkZmYhAzczMzExXiUAAAAAAgBWKQDMzMzOz04pAZmZmZuaRi0CamZmZGVCMQM3MzMxMDo1AAAAAAIDMjUAzMzMzs4qOQGZmZmbmSI9A\",\"dtype\":\"float64\",\"shape\":[75]}}},\"id\":\"a9f333a7-3362-4087-a069-bf8436cce8ef\",\"type\":\"ColumnDataSource\"},{\"attributes\":{\"source\":{\"id\":\"0e6dcebe-a85b-4dd7-9db4-5b24c55df3ca\",\"type\":\"ColumnDataSource\"}},\"id\":\"b1600904-0e3c-47ab-82e1-1a07ab15f380\",\"type\":\"CDSView\"},{\"attributes\":{},\"id\":\"f704a4a9-2601-4d8d-a7e6-4b2cd626d88b\",\"type\":\"BasicTicker\"},{\"attributes\":{\"data_source\":{\"id\":\"48508c91-baaa-4b87-a872-d57daaa59cc5\",\"type\":\"ColumnDataSource\"},\"glyph\":{\"id\":\"70789e82-c34e-4953-abe1-a92ecc24df11\",\"type\":\"Line\"},\"hover_glyph\":null,\"muted_glyph\":null,\"nonselection_glyph\":{\"id\":\"fdda8bd9-75f8-406f-8953-4ea1b0df5233\",\"type\":\"Line\"},\"selection_glyph\":null,\"view\":{\"id\":\"461877a6-f461-44d4-814a-b9d288d5b8b7\",\"type\":\"CDSView\"}},\"id\":\"d01b9fda-9dea-4a4b-9dd0-65a0bb3d673d\",\"type\":\"GlyphRenderer\"},{\"attributes\":{\"source\":{\"id\":\"66b0bd1e-c223-48dc-b0b1-c94b72be88ef\",\"type\":\"ColumnDataSource\"}},\"id\":\"ca733296-c524-4e6d-8c69-539741f43736\",\"type\":\"CDSView\"},{\"attributes\":{\"callback\":null,\"column_names\":[\"x\",\"y\"],\"data\":{\"x\":{\"__ndarray__\":\"kIS/V1uO1z+s4LchxmvFP1dJGpJJ/L4/pyYXHIsRsz832IJ78YegP6YPPWcbWHO/5MhHrkKanr+yH+UExiqmv3i/EarCCam/rnSX9JInqr+HtRJpBOOqv8YKTOEgpa2/4Z7Qs6WDrb+FZY/3elyxv5xzbBTEhrO/cqFV2qB+tL/szY6lJvmwv/HfCshhp6q/6rsRzIdWoL/fMadImAJ2v8UWlP9PGaA/aRwslDOxuz8lb0buZbLNP+/Od0NcMc0/pXF/YFRzwj8YFpKCXYO5P+CEk0sbwrA/PFH2vDlhoj9SWJADAt+NP93Cse2/FXI/Xw/LwjUAXT8sIeeSLbhWP2eLLkygFko/q23OAUjQJz+hgWzuPzBOv/Ch167vFFm/3pE78X/8Wr9hn6AXZWtav6Cx5nCDm2G/9NC8+dSMaL8VVPRB/1Zsv7jApk0jzWq/O+BrZZGIar9K2lWUh49sv8In2c9CQG6/Exa3/zjJbb/I/AAFzsJsv4UiiPSVJ2u/vHK3j8eRaL9yYQ6OkzNlvzj5X725V2C/eyBtdLL6Ub8jS2tBbpgSvzfw8s6LlVQ/95RSz3/hZj+eUSH8nqhyP3KwzwSQf3o/6jzSs+wPgj+TdpGsPZiGP9aMkKq77Io/hPSi41s5jj9K+raLKYuQP8ow39ujIJI/5Nyd6s3+kz8oalLSD1+WP/BDuqx9kpk/fS5fBn+ZnT/4H325beSgP53/hJ7AgKI//NNXoZKEoz8lAomxQk2kP21a5+efQ6U/PS/G1B51pj8C5aoK8W6oP9NC6PGSN7A/\",\"dtype\":\"float64\",\"shape\":[75]},\"y\":{\"__ndarray__\":\"GhExyth1ND/Sv8nbtpRIP2vylNV0PVE/aTum7souWD/At0SJ8fVgPw3Iuahxymc/MSNhhJWvcD/bTfBN02d3P2zb5nxnaoA/CD5h5MAGhz8NmeH1TyaQP+zrCsc9p5Y/LbKd76fGnz/bLW5ISEmmPww9YvTcQq8/JV2OstnstT8Er5Y7M8G+P0c+r3jqkcU/5h99k6ZBzj88bCIzFzjVP4enV8oyxN0//yH99nXg5D8qOpLLf0jtP5kqGJXUifQ/c9cS8kHP/D+/DpwzojQEQIEmwoanVwxA4lgXt9HgE0BSSZ2AJuIbQAMJih9jjiNA5q4l5INuK0AwTKYKRj0zQNv5fmq8/DpAaCJseHrtQkB/+zpwzoxKQM3MzMzMeFJAZmZmZmZqWEAAAAAAAFxeQM3MzMzMJmJAmpmZmZkfZUBmZmZmZhhoQDMzMzMzEWtAAAAAAAAKbkBmZmZmZoFwQM3MzMzM/XFAMzMzMzN6c0CamZmZmfZ0QAAAAAAAc3ZAZmZmZmbvd0DNzMzMzGt5QDMzMzMz6HpAmpmZmZlkfEAAAAAAAOF9QGZmZmZmXX9AZmZmZuZsgECamZmZGSuBQM3MzMxM6YFAAAAAAICngkAzMzMzs2WDQGZmZmbmI4RAmpmZmRnihEDNzMzMTKCFQAAAAACAXoZAMzMzM7Mch0BmZmZm5tqHQJqZmZkZmYhAzczMzExXiUAAAAAAgBWKQDMzMzOz04pAZmZmZuaRi0CamZmZGVCMQM3MzMxMDo1AAAAAAIDMjUAzMzMzs4qOQGZmZmbmSI9A\",\"dtype\":\"float64\",\"shape\":[75]}}},\"id\":\"0e6dcebe-a85b-4dd7-9db4-5b24c55df3ca\",\"type\":\"ColumnDataSource\"},{\"attributes\":{\"bottom_units\":\"screen\",\"fill_alpha\":{\"value\":0.5},\"fill_color\":{\"value\":\"lightgrey\"},\"left_units\":\"screen\",\"level\":\"overlay\",\"line_alpha\":{\"value\":1.0},\"line_color\":{\"value\":\"black\"},\"line_dash\":[4,4],\"line_width\":{\"value\":2},\"plot\":null,\"render_mode\":\"css\",\"right_units\":\"screen\",\"top_units\":\"screen\"},\"id\":\"ee9c1acb-aaff-4394-8588-063a874d811a\",\"type\":\"BoxAnnotation\"},{\"attributes\":{\"callback\":null,\"column_names\":[\"x\",\"y\"],\"data\":{\"x\":{\"__ndarray__\":\"vVzdFANizD/Ko67EIteaP9am6Wd1aJQ/UymP0a4Ahj/IEgRthQBuP8/3gK1MIFe/TBT29N4Gd78xkhB4JgyEv8iQCDKncI2/6b9iaNArk79WiapGTNyYv9BkJQSwo52/FSnP55zSob9zx+mLh26nv+bPQvjTI66/ZTOeQIwbsL/4msdcd8WtvxfnMN7daqu/EBEiDEhqpr8xrZypT/OXv5j3eu9WM5I/ojMfxloyvT9geU6CUAHRP9nLGf6R8dA/Yerf3PwSwz8ig462J9G0PzLFbUscLac/mDPt+LVJmT9Zu0u0dJ2LP7v6t949n3w/7GrvJWacYz9Z8lHNYsBBvw6UIfDDJlK/Q63AeIlMRr9YRIuoUQlKv6RpFomFMVS/BQRYe891V7+nlyNijWVYvzhGVB/G71+/91fyJRJUZr+WJdoP4bFpv18D8WVaDmi/oER1wqVNZ79eM44Ut3Fnv9EW5myZBmi/KcmIPQwjaL8ErgELTQtnv3v/poVApmS/+lo3qHTlYL/WPMFhzXhXv6SBIneysEW/57Yae8xgKz+XkeWhyV5TP86r+I4zsGI/Rn36HuHzbD+4qEe4H2B0P8bmc4aTSHs/mq+PIG4tgj8BgPQxRdeGP70imm5Jdos/vqNZ6GkRkD+Vg7j2LnOSP5FcXLX77ZQ/cNFmKDCVlz+PcMLTF4GaP4lk/aPF0p0/rNoXy1K9oD/7pgRSz3OiP88yKCaxnKM/7ARXIEoZpD/GsuyLfEWkP54NDUztk6Q/OCp0tGNQpT/UUg6gvummP0XL2taxcq4/\",\"dtype\":\"float64\",\"shape\":[75]},\"y\":{\"__ndarray__\":\"GhExyth1ND/Sv8nbtpRIP2vylNV0PVE/aTum7souWD/At0SJ8fVgPw3Iuahxymc/MSNhhJWvcD/bTfBN02d3P2zb5nxnaoA/CD5h5MAGhz8NmeH1TyaQP+zrCsc9p5Y/LbKd76fGnz/bLW5ISEmmPww9YvTcQq8/JV2OstnstT8Er5Y7M8G+P0c+r3jqkcU/5h99k6ZBzj88bCIzFzjVP4enV8oyxN0//yH99nXg5D8qOpLLf0jtP5kqGJXUifQ/c9cS8kHP/D+/DpwzojQEQIEmwoanVwxA4lgXt9HgE0BSSZ2AJuIbQAMJih9jjiNA5q4l5INuK0AwTKYKRj0zQNv5fmq8/DpAaCJseHrtQkB/+zpwzoxKQM3MzMzMeFJAZmZmZmZqWEAAAAAAAFxeQM3MzMzMJmJAmpmZmZkfZUBmZmZmZhhoQDMzMzMzEWtAAAAAAAAKbkBmZmZmZoFwQM3MzMzM/XFAMzMzMzN6c0CamZmZmfZ0QAAAAAAAc3ZAZmZmZmbvd0DNzMzMzGt5QDMzMzMz6HpAmpmZmZlkfEAAAAAAAOF9QGZmZmZmXX9AZmZmZuZsgECamZmZGSuBQM3MzMxM6YFAAAAAAICngkAzMzMzs2WDQGZmZmbmI4RAmpmZmRnihEDNzMzMTKCFQAAAAACAXoZAMzMzM7Mch0BmZmZm5tqHQJqZmZkZmYhAzczMzExXiUAAAAAAgBWKQDMzMzOz04pAZmZmZuaRi0CamZmZGVCMQM3MzMxMDo1AAAAAAIDMjUAzMzMzs4qOQGZmZmbmSI9A\",\"dtype\":\"float64\",\"shape\":[75]}}},\"id\":\"6495d7b6-936d-4808-95fb-f81e7835070e\",\"type\":\"ColumnDataSource\"}],\"root_ids\":[\"0d23b74e-e254-4e14-9336-9d8cde45a1ba\"]},\"title\":\"Bokeh Application\",\"version\":\"0.12.14\"}};\n",
       "  var render_items = [{\"docid\":\"034ea65a-5da9-4c2e-9dd8-294000603990\",\"elementid\":\"c7220f7a-e315-4cbb-bbf7-8bcb68c73af4\",\"modelid\":\"0d23b74e-e254-4e14-9336-9d8cde45a1ba\"}];\n",
       "  root.Bokeh.embed.embed_items_notebook(docs_json, render_items);\n",
       "\n",
       "  }\n",
       "  if (root.Bokeh !== undefined) {\n",
       "    embed_document(root);\n",
       "  } else {\n",
       "    var attempts = 0;\n",
       "    var timer = setInterval(function(root) {\n",
       "      if (root.Bokeh !== undefined) {\n",
       "        embed_document(root);\n",
       "        clearInterval(timer);\n",
       "      }\n",
       "      attempts++;\n",
       "      if (attempts > 100) {\n",
       "        console.log(\"Bokeh: ERROR: Unable to run BokehJS code because BokehJS library is missing\")\n",
       "        clearInterval(timer);\n",
       "      }\n",
       "    }, 10, root)\n",
       "  }\n",
       "})(window);"
      ],
      "application/vnd.bokehjs_exec.v0+json": ""
     },
     "metadata": {
      "application/vnd.bokehjs_exec.v0+json": {
       "id": "0d23b74e-e254-4e14-9336-9d8cde45a1ba"
      }
     },
     "output_type": "display_data"
    },
    {
     "name": "stdout",
     "output_type": "stream",
     "text": [
      "FIGURE. Cooling rate profiles.\n"
     ]
    },
    {
     "data": {
      "text/html": [
       "<a id=\"Flux_Comparison\"></a>"
      ],
      "text/plain": [
       "<IPython.core.display.HTML object>"
      ]
     },
     "metadata": {},
     "output_type": "display_data"
    },
    {
     "data": {
      "text/markdown": [
       "# Flux Comparison"
      ],
      "text/plain": [
       "<IPython.core.display.Markdown object>"
      ]
     },
     "metadata": {},
     "output_type": "display_data"
    },
    {
     "data": {
      "text/html": [
       "<div>\n",
       "<style>\n",
       "    .dataframe thead tr:only-child th {\n",
       "        text-align: right;\n",
       "    }\n",
       "\n",
       "    .dataframe thead th {\n",
       "        text-align: left;\n",
       "    }\n",
       "\n",
       "    .dataframe tbody tr th {\n",
       "        vertical-align: top;\n",
       "    }\n",
       "</style>\n",
       "<table border=\"1\" class=\"dataframe\">\n",
       "  <thead>\n",
       "    <tr style=\"text-align: right;\">\n",
       "      <th></th>\n",
       "      <th></th>\n",
       "      <th>flug</th>\n",
       "      <th>fldg</th>\n",
       "      <th>fnetg</th>\n",
       "    </tr>\n",
       "    <tr>\n",
       "      <th>pressure</th>\n",
       "      <th>level</th>\n",
       "      <th></th>\n",
       "      <th></th>\n",
       "      <th></th>\n",
       "    </tr>\n",
       "  </thead>\n",
       "  <tbody>\n",
       "    <tr>\n",
       "      <th>0.0000</th>\n",
       "      <th>1</th>\n",
       "      <td>-4.087487</td>\n",
       "      <td>0.000000</td>\n",
       "      <td>-4.087487</td>\n",
       "    </tr>\n",
       "    <tr>\n",
       "      <th>1.0685</th>\n",
       "      <th>24</th>\n",
       "      <td>-4.094950</td>\n",
       "      <td>0.018530</td>\n",
       "      <td>-4.076420</td>\n",
       "    </tr>\n",
       "    <tr>\n",
       "      <th>1013.0000</th>\n",
       "      <th>76</th>\n",
       "      <td>-6.625452</td>\n",
       "      <td>4.061684</td>\n",
       "      <td>-2.563769</td>\n",
       "    </tr>\n",
       "  </tbody>\n",
       "</table>\n",
       "</div>"
      ],
      "text/plain": [
       "                     flug      fldg     fnetg\n",
       "pressure  level                              \n",
       "0.0000    1     -4.087487  0.000000 -4.087487\n",
       "1.0685    24    -4.094950  0.018530 -4.076420\n",
       "1013.0000 76    -6.625452  4.061684 -2.563769"
      ]
     },
     "metadata": {},
     "output_type": "display_data"
    },
    {
     "name": "stdout",
     "output_type": "stream",
     "text": [
      "Table. Fluxes. CRD\n"
     ]
    },
    {
     "data": {
      "text/html": [
       "<div>\n",
       "<style>\n",
       "    .dataframe thead tr:only-child th {\n",
       "        text-align: right;\n",
       "    }\n",
       "\n",
       "    .dataframe thead th {\n",
       "        text-align: left;\n",
       "    }\n",
       "\n",
       "    .dataframe tbody tr th {\n",
       "        vertical-align: top;\n",
       "    }\n",
       "</style>\n",
       "<table border=\"1\" class=\"dataframe\">\n",
       "  <thead>\n",
       "    <tr style=\"text-align: right;\">\n",
       "      <th></th>\n",
       "      <th></th>\n",
       "      <th>flug</th>\n",
       "      <th>fldg</th>\n",
       "      <th>fnetg</th>\n",
       "    </tr>\n",
       "    <tr>\n",
       "      <th>pressure</th>\n",
       "      <th>level</th>\n",
       "      <th></th>\n",
       "      <th></th>\n",
       "      <th></th>\n",
       "    </tr>\n",
       "  </thead>\n",
       "  <tbody>\n",
       "    <tr>\n",
       "      <th>0.0000</th>\n",
       "      <th>1</th>\n",
       "      <td>-4.033645</td>\n",
       "      <td>0.000000</td>\n",
       "      <td>-4.033645</td>\n",
       "    </tr>\n",
       "    <tr>\n",
       "      <th>1.0685</th>\n",
       "      <th>24</th>\n",
       "      <td>-4.041914</td>\n",
       "      <td>0.017712</td>\n",
       "      <td>-4.024202</td>\n",
       "    </tr>\n",
       "    <tr>\n",
       "      <th>1013.0000</th>\n",
       "      <th>76</th>\n",
       "      <td>-6.625452</td>\n",
       "      <td>4.057079</td>\n",
       "      <td>-2.568373</td>\n",
       "    </tr>\n",
       "  </tbody>\n",
       "</table>\n",
       "</div>"
      ],
      "text/plain": [
       "                     flug      fldg     fnetg\n",
       "pressure  level                              \n",
       "0.0000    1     -4.033645  0.000000 -4.033645\n",
       "1.0685    24    -4.041914  0.017712 -4.024202\n",
       "1013.0000 76    -6.625452  4.057079 -2.568373"
      ]
     },
     "metadata": {},
     "output_type": "display_data"
    },
    {
     "name": "stdout",
     "output_type": "stream",
     "text": [
      "Table. Fluxes. WGT igg=10\n"
     ]
    },
    {
     "data": {
      "text/html": [
       "<div>\n",
       "<style>\n",
       "    .dataframe thead tr:only-child th {\n",
       "        text-align: right;\n",
       "    }\n",
       "\n",
       "    .dataframe thead th {\n",
       "        text-align: left;\n",
       "    }\n",
       "\n",
       "    .dataframe tbody tr th {\n",
       "        vertical-align: top;\n",
       "    }\n",
       "</style>\n",
       "<table border=\"1\" class=\"dataframe\">\n",
       "  <thead>\n",
       "    <tr style=\"text-align: right;\">\n",
       "      <th></th>\n",
       "      <th></th>\n",
       "      <th>flug</th>\n",
       "      <th>fldg</th>\n",
       "      <th>fnetg</th>\n",
       "    </tr>\n",
       "    <tr>\n",
       "      <th>pressure</th>\n",
       "      <th>level</th>\n",
       "      <th></th>\n",
       "      <th></th>\n",
       "      <th></th>\n",
       "    </tr>\n",
       "  </thead>\n",
       "  <tbody>\n",
       "    <tr>\n",
       "      <th>0.0000</th>\n",
       "      <th>1</th>\n",
       "      <td>-4.032036</td>\n",
       "      <td>0.000000</td>\n",
       "      <td>-4.032036</td>\n",
       "    </tr>\n",
       "    <tr>\n",
       "      <th>1.0685</th>\n",
       "      <th>24</th>\n",
       "      <td>-4.040318</td>\n",
       "      <td>0.018323</td>\n",
       "      <td>-4.021996</td>\n",
       "    </tr>\n",
       "    <tr>\n",
       "      <th>1013.0000</th>\n",
       "      <th>76</th>\n",
       "      <td>-6.625452</td>\n",
       "      <td>4.035845</td>\n",
       "      <td>-2.589607</td>\n",
       "    </tr>\n",
       "  </tbody>\n",
       "</table>\n",
       "</div>"
      ],
      "text/plain": [
       "                     flug      fldg     fnetg\n",
       "pressure  level                              \n",
       "0.0000    1     -4.032036  0.000000 -4.032036\n",
       "1.0685    24    -4.040318  0.018323 -4.021996\n",
       "1013.0000 76    -6.625452  4.035845 -2.589607"
      ]
     },
     "metadata": {},
     "output_type": "display_data"
    },
    {
     "name": "stdout",
     "output_type": "stream",
     "text": [
      "Table. Fluxes. WGT igg=1\n"
     ]
    },
    {
     "data": {
      "text/html": [
       "<div>\n",
       "<style>\n",
       "    .dataframe thead tr:only-child th {\n",
       "        text-align: right;\n",
       "    }\n",
       "\n",
       "    .dataframe thead th {\n",
       "        text-align: left;\n",
       "    }\n",
       "\n",
       "    .dataframe tbody tr th {\n",
       "        vertical-align: top;\n",
       "    }\n",
       "</style>\n",
       "<table border=\"1\" class=\"dataframe\">\n",
       "  <thead>\n",
       "    <tr style=\"text-align: right;\">\n",
       "      <th></th>\n",
       "      <th></th>\n",
       "      <th>flug</th>\n",
       "      <th>fldg</th>\n",
       "      <th>fnetg</th>\n",
       "    </tr>\n",
       "    <tr>\n",
       "      <th>pressure</th>\n",
       "      <th>level</th>\n",
       "      <th></th>\n",
       "      <th></th>\n",
       "      <th></th>\n",
       "    </tr>\n",
       "  </thead>\n",
       "  <tbody>\n",
       "    <tr>\n",
       "      <th>0.0000</th>\n",
       "      <th>1</th>\n",
       "      <td>0.053842</td>\n",
       "      <td>0.000000</td>\n",
       "      <td>0.053842</td>\n",
       "    </tr>\n",
       "    <tr>\n",
       "      <th>1.0685</th>\n",
       "      <th>24</th>\n",
       "      <td>0.053035</td>\n",
       "      <td>-0.000817</td>\n",
       "      <td>0.052218</td>\n",
       "    </tr>\n",
       "    <tr>\n",
       "      <th>1013.0000</th>\n",
       "      <th>76</th>\n",
       "      <td>0.000000</td>\n",
       "      <td>-0.004604</td>\n",
       "      <td>-0.004604</td>\n",
       "    </tr>\n",
       "  </tbody>\n",
       "</table>\n",
       "</div>"
      ],
      "text/plain": [
       "                     flug      fldg     fnetg\n",
       "pressure  level                              \n",
       "0.0000    1      0.053842  0.000000  0.053842\n",
       "1.0685    24     0.053035 -0.000817  0.052218\n",
       "1013.0000 76     0.000000 -0.004604 -0.004604"
      ]
     },
     "metadata": {},
     "output_type": "display_data"
    },
    {
     "name": "stdout",
     "output_type": "stream",
     "text": [
      "Table. Fluxes. (WGT igg=10) - (CRD)\n"
     ]
    },
    {
     "data": {
      "text/html": [
       "<div>\n",
       "<style>\n",
       "    .dataframe thead tr:only-child th {\n",
       "        text-align: right;\n",
       "    }\n",
       "\n",
       "    .dataframe thead th {\n",
       "        text-align: left;\n",
       "    }\n",
       "\n",
       "    .dataframe tbody tr th {\n",
       "        vertical-align: top;\n",
       "    }\n",
       "</style>\n",
       "<table border=\"1\" class=\"dataframe\">\n",
       "  <thead>\n",
       "    <tr style=\"text-align: right;\">\n",
       "      <th></th>\n",
       "      <th></th>\n",
       "      <th>flug</th>\n",
       "      <th>fldg</th>\n",
       "      <th>fnetg</th>\n",
       "    </tr>\n",
       "    <tr>\n",
       "      <th>pressure</th>\n",
       "      <th>level</th>\n",
       "      <th></th>\n",
       "      <th></th>\n",
       "      <th></th>\n",
       "    </tr>\n",
       "  </thead>\n",
       "  <tbody>\n",
       "    <tr>\n",
       "      <th>0.0000</th>\n",
       "      <th>1</th>\n",
       "      <td>0.055451</td>\n",
       "      <td>0.000000</td>\n",
       "      <td>0.055451</td>\n",
       "    </tr>\n",
       "    <tr>\n",
       "      <th>1.0685</th>\n",
       "      <th>24</th>\n",
       "      <td>0.054631</td>\n",
       "      <td>-0.000207</td>\n",
       "      <td>0.054424</td>\n",
       "    </tr>\n",
       "    <tr>\n",
       "      <th>1013.0000</th>\n",
       "      <th>76</th>\n",
       "      <td>0.000000</td>\n",
       "      <td>-0.025838</td>\n",
       "      <td>-0.025838</td>\n",
       "    </tr>\n",
       "  </tbody>\n",
       "</table>\n",
       "</div>"
      ],
      "text/plain": [
       "                     flug      fldg     fnetg\n",
       "pressure  level                              \n",
       "0.0000    1      0.055451  0.000000  0.055451\n",
       "1.0685    24     0.054631 -0.000207  0.054424\n",
       "1013.0000 76     0.000000 -0.025838 -0.025838"
      ]
     },
     "metadata": {},
     "output_type": "display_data"
    },
    {
     "name": "stdout",
     "output_type": "stream",
     "text": [
      "Table. Fluxes. (WGT igg=1) - (CRD)\n"
     ]
    },
    {
     "data": {
      "text/html": [
       "<a id=\"Best-fit_Parameters\"></a>"
      ],
      "text/plain": [
       "<IPython.core.display.HTML object>"
      ]
     },
     "metadata": {},
     "output_type": "display_data"
    },
    {
     "data": {
      "text/markdown": [
       "# Best-fit Parameters"
      ],
      "text/plain": [
       "<IPython.core.display.Markdown object>"
      ]
     },
     "metadata": {},
     "output_type": "display_data"
    },
    {
     "name": "stdout",
     "output_type": "stream",
     "text": [
      "Best-fit values for each (gas, band)\n",
      "------------------------------------\n",
      "o h2o band9\n",
      "  molecule = h2o\n",
      "  band = 9\n",
      "  commitnumber = d5931a1\n",
      "  vmin = 1900\n",
      "  vmax = 3000\n",
      "  dv = 0.001\n",
      "  nv = 1000\n",
      "  ref_pts = [(500, 250)]\n",
      "  ng_refs = [5]\n",
      "  ng_adju = [0]\n",
      "  klin = 1e-24\n",
      "  option_wgt_k = 1\n",
      "  wgt = [(0.4, 0.4, 0.5, 0.55, 0.85)]\n",
      "  w_diffuse = [(1.66, 1.66, 1.66, 1.66, 1.66)]\n",
      "  option_wgt_flux = 1\n",
      "  atmpro = mls\n",
      "  tsfc = 294\n",
      "  conc = None\n",
      "  option_compute_btable = 0\n",
      "  option_compute_ktable = 1\n",
      "o co2 band9\n",
      "  molecule = co2\n",
      "  band = 9\n",
      "  commitnumber = 043bdfe\n",
      "  vmin = 1900\n",
      "  vmax = 3000\n",
      "  dv = 0.001\n",
      "  nv = 1000\n",
      "  ref_pts = [(1, 250), (50, 250)]\n",
      "  ng_refs = [3, 3]\n",
      "  ng_adju = [2, 0]\n",
      "  klin = 1e-23\n",
      "  option_wgt_k = 1\n",
      "  wgt = [(0.7, 0.8, 0.7), (0.8, 0.7, 0.8)]\n",
      "  w_diffuse = [(1.66, 1.66, 1.75), (1.75, 1.6, 1.85)]\n",
      "  option_wgt_flux = 1\n",
      "  atmpro = mls\n",
      "  tsfc = 294\n",
      "  conc = 0.0004\n",
      "  option_compute_btable = 0\n",
      "  option_compute_ktable = 0\n"
     ]
    }
   ],
   "source": [
    "script()"
   ]
  },
  {
   "cell_type": "code",
   "execution_count": 90,
   "metadata": {},
   "outputs": [
    {
     "data": {
      "text/html": [
       "<script>\n",
       "code_show=true; \n",
       "function code_toggle() {\n",
       " if (code_show){\n",
       " $('div.input').hide();\n",
       " } else {\n",
       " $('div.input').show();\n",
       " }\n",
       " code_show = !code_show\n",
       "} \n",
       "$( document ).ready(code_toggle);\n",
       "</script>\n",
       "<form action=\"javascript:code_toggle()\"><input type=\"submit\" value=\"Click here to toggle on/off the raw code.\"></form>"
      ],
      "text/plain": [
       "<IPython.core.display.HTML object>"
      ]
     },
     "execution_count": 90,
     "metadata": {},
     "output_type": "execute_result"
    }
   ],
   "source": [
    "display.HTML('''<script>\n",
    "code_show=true; \n",
    "function code_toggle() {\n",
    " if (code_show){\n",
    " $('div.input').hide();\n",
    " } else {\n",
    " $('div.input').show();\n",
    " }\n",
    " code_show = !code_show\n",
    "} \n",
    "$( document ).ready(code_toggle);\n",
    "</script>\n",
    "<form action=\"javascript:code_toggle()\"><input type=\"submit\" value=\"Click here to toggle on/off the raw code.\"></form>''')"
   ]
  }
 ],
 "metadata": {
  "kernelspec": {
   "display_name": "Python 3",
   "language": "python",
   "name": "python3"
  },
  "language_info": {
   "codemirror_mode": {
    "name": "ipython",
    "version": 3
   },
   "file_extension": ".py",
   "mimetype": "text/x-python",
   "name": "python",
   "nbconvert_exporter": "python",
   "pygments_lexer": "ipython3",
   "version": "3.6.1"
  }
 },
 "nbformat": 4,
 "nbformat_minor": 2
}

{
 "cells": [
  {
   "cell_type": "code",
   "execution_count": 5,
   "metadata": {
    "collapsed": true
   },
   "outputs": [],
   "source": [
    "import os\n",
    "import io\n",
    "import pprint\n",
    "\n",
    "import pandas as pd\n",
    "\n",
    "from bson.objectid import ObjectId\n",
    "import pymongo\n",
    "\n",
    "import climatools.lblnew.bestfit_params as bestfits\n",
    "import climatools.lblnew.setup_bestfit as setup_bestfit\n",
    "import climatools.lblnew.setup_overlap as setup_overlap\n",
    "import climatools.lblnew.pipeline as lblnew_pipeline\n",
    "\n",
    "import climatools.cliradlw.setup as setup_clirad\n",
    "import climatools.cliradlw.pipeline as clirad_pipeline"
   ]
  },
  {
   "cell_type": "code",
   "execution_count": 2,
   "metadata": {
    "collapsed": true
   },
   "outputs": [],
   "source": [
    "client = pymongo.MongoClient('localhost:27017')"
   ]
  },
  {
   "cell_type": "code",
   "execution_count": 3,
   "metadata": {
    "collapsed": true
   },
   "outputs": [],
   "source": [
    "db = client['kdistnew']\n",
    "\n",
    "bestfit = db['bestfit']\n",
    "overlap = db['overlap']\n",
    "clirad = db['clirad']"
   ]
  },
  {
   "cell_type": "code",
   "execution_count": 84,
   "metadata": {
    "collapsed": true,
    "scrolled": false
   },
   "outputs": [],
   "source": [
    "def bestfit_outputfiles():\n",
    "    return ['kg_nonlin.dat',\n",
    "            'kg_lin.dat',\n",
    "            'output_wcoolrg.dat',\n",
    "            'output_wfluxg.dat',\n",
    "            'output_flux.dat',\n",
    "            'output_fluxg.dat',\n",
    "            'output_coolr.dat',\n",
    "            'output_coolrg.dat',\n",
    "            'abscom.dat',\n",
    "            'dgdgs.dat']\n",
    "\n",
    "\n",
    "def insert_all_bestfits():\n",
    "    for molecule, band in setup_bestfit.implemented_moleculebands():\n",
    "        param = bestfits.kdist_params(molecule=molecule, band=band)\n",
    "        dir_fortran = lblnew_pipeline.get_dir_case(param, \n",
    "                                                   setup=setup_bestfit)\n",
    "        \n",
    "        c_output = {}\n",
    "        for name in bestfit_outputfiles():\n",
    "            with open(os.path.join(dir_fortran, name), \n",
    "                      mode='r', encoding='utf-8') as f:\n",
    "                c = f.read()      \n",
    "        c_output[name.split('.')[0]] = c\n",
    "        \n",
    "        case = {'input': param, 'output': c_output}    \n",
    "        bestfit.insert_one(case)"
   ]
  },
  {
   "cell_type": "code",
   "execution_count": null,
   "metadata": {
    "collapsed": true
   },
   "outputs": [],
   "source": [
    "def insert_all_cliradlw():\n",
    "    molecule = 'h2o'\n",
    "    band = '3'\n",
    "    \n",
    "    "
   ]
  },
  {
   "cell_type": "code",
   "execution_count": 100,
   "metadata": {},
   "outputs": [
    {
     "data": {
      "text/plain": [
       "<pymongo.results.DeleteResult at 0x2b90612fdee8>"
      ]
     },
     "execution_count": 100,
     "metadata": {},
     "output_type": "execute_result"
    }
   ],
   "source": [
    "bestfit.delete_one({'_id': ObjectId('5b28a260af10727d0e6a907c')})"
   ]
  },
  {
   "cell_type": "code",
   "execution_count": 4,
   "metadata": {
    "scrolled": false
   },
   "outputs": [
    {
     "name": "stdout",
     "output_type": "stream",
     "text": [
      "5b28b908af10727d0e6a9081\n",
      "{'atmpro': 'trp', 'band': '3b', 'commitnumber': 'a06b618', 'molecule': 'h2o'}\n",
      "       g                  dg                 dgs\n",
      "       1      0.74500000E-02      0.76657311E-02\n",
      "       2      0.38520000E-01      0.38841090E-01\n",
      "       3      0.92910000E-01      0.93707735E-01\n",
      "       4      0.24753000E+00      0.24927679E+00\n",
      "       5      0.38811000E+00      0.39011124E+00\n",
      "       6      0.22548000E+00      0.22039741E+00\n",
      "\n",
      "5b28b909af10727d0e6a908a\n",
      "{'atmpro': 'mls', 'band': '3b', 'commitnumber': 'a06b618', 'molecule': 'co2'}\n",
      "       g                  dg                 dgs\n",
      "       1      0.12800000E-02      0.12842906E-02\n",
      "       2      0.42500000E-02      0.42677704E-02\n",
      "       3      0.19960000E-01      0.20046012E-01\n",
      "       4      0.65950000E-01      0.66214986E-01\n",
      "       5      0.24303000E+00      0.24386821E+00\n",
      "       6      0.47273000E+00      0.47310358E+00\n",
      "       7      0.19280000E+00      0.19121514E+00\n",
      "\n"
     ]
    }
   ],
   "source": [
    "for r in bestfit.find({'input.band': '3b'},\n",
    "                      projection={'input.molecule': 1,\n",
    "                                  'input.band': 1,\n",
    "                                  'input.atmpro': 1,\n",
    "                                  'input.commitnumber': 1,\n",
    "                                  'output.dgdgs': 1}):\n",
    "    print(r['_id'])\n",
    "    pprint.pprint(r['input'])\n",
    "    print(r['output']['dgdgs'])"
   ]
  },
  {
   "cell_type": "code",
   "execution_count": null,
   "metadata": {
    "collapsed": true
   },
   "outputs": [],
   "source": []
  }
 ],
 "metadata": {
  "kernelspec": {
   "display_name": "Python 3",
   "language": "python",
   "name": "python3"
  },
  "language_info": {
   "codemirror_mode": {
    "name": "ipython",
    "version": 3
   },
   "file_extension": ".py",
   "mimetype": "text/x-python",
   "name": "python",
   "nbconvert_exporter": "python",
   "pygments_lexer": "ipython3",
   "version": "3.6.1"
  }
 },
 "nbformat": 4,
 "nbformat_minor": 2
}

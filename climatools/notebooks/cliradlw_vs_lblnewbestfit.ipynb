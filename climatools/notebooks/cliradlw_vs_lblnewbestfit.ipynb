{
 "cells": [
  {
   "cell_type": "code",
   "execution_count": 13,
   "metadata": {},
   "outputs": [
    {
     "data": {
      "text/plain": [
       "<module 'climatools.lblnew.runrecord_overlap' from '/chia_cluster/home/jackyu/climatools/climatools/lblnew/runrecord_overlap.py'>"
      ]
     },
     "execution_count": 13,
     "metadata": {},
     "output_type": "execute_result"
    }
   ],
   "source": [
    "import os\n",
    "import pprint\n",
    "import shutil\n",
    "import importlib \n",
    "\n",
    "from climatools.cliradlw import (setup, pipeline)\n",
    "import climatools.cliradlw.runrecord as runrecord_clirad\n",
    "import climatools.cliradlw.utils as utils_clirad\n",
    "\n",
    "\n",
    "from climatools.lblnew import setup_overlap\n",
    "from climatools.lblnew import setup_bestfit\n",
    "import climatools.lblnew.pipeline as pipeline_lblnew\n",
    "import climatools.lblnew.bestfit_params as bestfit\n",
    "import climatools.lblnew.runrecord_bestfit as runrecord_bestfit\n",
    "import climatools.lblnew.runrecord_overlap as runrecord_overlap\n",
    "\n",
    "\n",
    "\n",
    "importlib.reload(setup)\n",
    "importlib.reload(pipeline)\n",
    "importlib.reload(runrecord_clirad)\n",
    "importlib.reload(utils_clirad)\n",
    "importlib.reload(setup_overlap)\n",
    "importlib.reload(setup_bestfit)\n",
    "importlib.reload(pipeline_lblnew)\n",
    "importlib.reload(bestfit)\n",
    "importlib.reload(runrecord_bestfit)\n",
    "importlib.reload(runrecord_overlap)"
   ]
  },
  {
   "cell_type": "code",
   "execution_count": 20,
   "metadata": {
    "collapsed": true
   },
   "outputs": [],
   "source": [
    "def params_clirad_nonoverlap():\n",
    "    '''\n",
    "    Define clirad-lw input parameter dictionaries\n",
    "    for co2 band 4.\n",
    "    '''\n",
    "    commitnumber = '913ed72'\n",
    "    molecule = {'co2': 400e-6}\n",
    "    bands = [4,] \n",
    "    atmpros = [('mls', 294), ('saw', 257), ('trp', 300)]\n",
    "    \n",
    "    params = []\n",
    "    for band in bands:\n",
    "        for atmpro, tsfc in atmpros:\n",
    "            param = {'commitnumber': commitnumber,\n",
    "                     'molecule': molecule,\n",
    "                     'band': [band],\n",
    "                     'atmpro': atmpro,\n",
    "                     'tsfc': tsfc}\n",
    "            params.append(param)\n",
    "    return params\n",
    "\n",
    "\n",
    "\n",
    "def param_lblnewbestfit():\n",
    "    '''    \n",
    "    lblnew-bestfit input parameter dictionaries\n",
    "    matching those from clirad-lw's.\n",
    "    '''\n",
    "    commitnumber = 'a22ab94'\n",
    "    \n",
    "    params_clirad = params_clirad_nonoverlap()\n",
    "    record_bestfit = runrecord_bestfit.params()\n",
    "    \n",
    "    params = []\n",
    "    for param_clirad in params_clirad:\n",
    "        \n",
    "        molecule, conc = list(param_clirad['molecule'].items())[0]\n",
    "        band = param_clirad['band'][0]\n",
    "        band = utils_clirad.mapband_new2old()[band]\n",
    "        atmpro = param_clirad['atmpro']\n",
    "        tsfc = param_clirad['tsfc']\n",
    "        \n",
    "        param_bestfit = [r for r in record_bestfit\n",
    "                         if r['commitnumber'] == commitnumber\n",
    "                         if r['molecule'] == molecule\n",
    "                         if r['conc'] == conc\n",
    "                         if r['band'] == band\n",
    "                         if r['atmpro'] == atmpro\n",
    "                         if r['tsfc'] == tsfc]\n",
    "        \n",
    "        assert len(param_bestfit) == 1\n",
    "        param_bestfit = param_bestfit[0]\n",
    "        params.append(param_bestfit)\n",
    "        \n",
    "    return params\n",
    "\n",
    "\n",
    "def parampairs_nonoverlap():\n",
    "    params_clirad = params_clirad_nonoverlap()\n",
    "    params_lblnew = param_lblnewbestfit()\n",
    "    \n",
    "    assert len(params_clirad) == len(params_lblnew)\n",
    "    \n",
    "    return list(zip(params_clirad, params_lblnew))\n",
    "\n",
    "\n"
   ]
  },
  {
   "cell_type": "code",
   "execution_count": 16,
   "metadata": {},
   "outputs": [
    {
     "data": {
      "text/plain": [
       "[({'atmpro': 'mls',\n",
       "   'band': [4],\n",
       "   'commitnumber': '3e8a8c5',\n",
       "   'molecule': {'co2': 0.0004},\n",
       "   'tsfc': 294},\n",
       "  {'atmpro': 'mls',\n",
       "   'band': '3b',\n",
       "   'commitnumber': 'a22ab94',\n",
       "   'conc': 0.0004,\n",
       "   'dv': 0.001,\n",
       "   'klin': 0,\n",
       "   'molecule': 'co2',\n",
       "   'ng_adju': [0, 0],\n",
       "   'ng_refs': [5, 2],\n",
       "   'nv': 1000,\n",
       "   'option_compute_btable': 0,\n",
       "   'option_compute_ktable': 0,\n",
       "   'option_wgt_flux': 1,\n",
       "   'option_wgt_k': 1,\n",
       "   'ref_pts': [(1, 250), (10, 250)],\n",
       "   'tsfc': 294,\n",
       "   'vmax': 720,\n",
       "   'vmin': 620,\n",
       "   'w_diffuse': [(1.66, 1.66, 1.66, 1.66, 1.66), (1.66, 1.66)],\n",
       "   'wgt': [(0, 0.6, 0.5, 0.7, 0.8), (0.8, 0.7)]}),\n",
       " ({'atmpro': 'saw',\n",
       "   'band': [4],\n",
       "   'commitnumber': '3e8a8c5',\n",
       "   'molecule': {'co2': 0.0004},\n",
       "   'tsfc': 257},\n",
       "  {'atmpro': 'saw',\n",
       "   'band': '3b',\n",
       "   'commitnumber': 'a22ab94',\n",
       "   'conc': 0.0004,\n",
       "   'dv': 0.001,\n",
       "   'klin': 0,\n",
       "   'molecule': 'co2',\n",
       "   'ng_adju': [0, 0],\n",
       "   'ng_refs': [5, 2],\n",
       "   'nv': 1000,\n",
       "   'option_compute_btable': 0,\n",
       "   'option_compute_ktable': 0,\n",
       "   'option_wgt_flux': 1,\n",
       "   'option_wgt_k': 1,\n",
       "   'ref_pts': [(1, 250), (10, 250)],\n",
       "   'tsfc': 257,\n",
       "   'vmax': 720,\n",
       "   'vmin': 620,\n",
       "   'w_diffuse': [(1.66, 1.66, 1.66, 1.66, 1.66), (1.66, 1.66)],\n",
       "   'wgt': [(0, 0.6, 0.5, 0.7, 0.8), (0.8, 0.7)]}),\n",
       " ({'atmpro': 'trp',\n",
       "   'band': [4],\n",
       "   'commitnumber': '3e8a8c5',\n",
       "   'molecule': {'co2': 0.0004},\n",
       "   'tsfc': 300},\n",
       "  {'atmpro': 'trp',\n",
       "   'band': '3b',\n",
       "   'commitnumber': 'a22ab94',\n",
       "   'conc': 0.0004,\n",
       "   'dv': 0.001,\n",
       "   'klin': 0,\n",
       "   'molecule': 'co2',\n",
       "   'ng_adju': [0, 0],\n",
       "   'ng_refs': [5, 2],\n",
       "   'nv': 1000,\n",
       "   'option_compute_btable': 0,\n",
       "   'option_compute_ktable': 0,\n",
       "   'option_wgt_flux': 1,\n",
       "   'option_wgt_k': 1,\n",
       "   'ref_pts': [(1, 250), (10, 250)],\n",
       "   'tsfc': 300,\n",
       "   'vmax': 720,\n",
       "   'vmin': 620,\n",
       "   'w_diffuse': [(1.66, 1.66, 1.66, 1.66, 1.66), (1.66, 1.66)],\n",
       "   'wgt': [(0, 0.6, 0.5, 0.7, 0.8), (0.8, 0.7)]})]"
      ]
     },
     "execution_count": 16,
     "metadata": {},
     "output_type": "execute_result"
    }
   ],
   "source": [
    "parampairs_nonoverlap()"
   ]
  },
  {
   "cell_type": "code",
   "execution_count": 17,
   "metadata": {
    "collapsed": true
   },
   "outputs": [],
   "source": [
    "def script_clirad_lblnew():\n",
    "    '''\n",
    "    Script to run clirad and then plot results against the \n",
    "    corresponding lblnew case.  This needs both input parameter\n",
    "    dictionaries from clirad and lblnew.\n",
    "    '''\n",
    "    ps = parampairs_nonoverlap()\n",
    "    \n",
    "    gprocs = pipeline.pipeline_fortran2ipynb2git(parampairs=ps, \n",
    "                                                 setup=setup)\n",
    "    \n"
   ]
  },
  {
   "cell_type": "code",
   "execution_count": 18,
   "metadata": {
    "scrolled": false
   },
   "outputs": [
    {
     "name": "stdout",
     "output_type": "stream",
     "text": [
      "({'atmpro': 'mls',\n",
      "  'band': [4],\n",
      "  'commitnumber': '3e8a8c5',\n",
      "  'molecule': {'co2': 0.0004},\n",
      "  'tsfc': 294},\n",
      " {'atmpro': 'saw',\n",
      "  'band': [4],\n",
      "  'commitnumber': '3e8a8c5',\n",
      "  'molecule': {'co2': 0.0004},\n",
      "  'tsfc': 257},\n",
      " {'atmpro': 'trp',\n",
      "  'band': [4],\n",
      "  'commitnumber': '3e8a8c5',\n",
      "  'molecule': {'co2': 0.0004},\n",
      "  'tsfc': 300})\n"
     ]
    }
   ],
   "source": [
    "pprint.pprint(list(zip(*parampairs_nonoverlap()))[0])"
   ]
  },
  {
   "cell_type": "code",
   "execution_count": 19,
   "metadata": {
    "scrolled": false
   },
   "outputs": [
    {
     "name": "stdout",
     "output_type": "stream",
     "text": [
      "Submitting radiation calculation for cases\n",
      "{'atmpro': 'mls',\n",
      " 'band': [4],\n",
      " 'commitnumber': '3e8a8c5',\n",
      " 'molecule': {'co2': 0.0004},\n",
      " 'tsfc': 294}\n",
      "{'atmpro': 'saw',\n",
      " 'band': [4],\n",
      " 'commitnumber': '3e8a8c5',\n",
      " 'molecule': {'co2': 0.0004},\n",
      " 'tsfc': 257}\n",
      "{'atmpro': 'trp',\n",
      " 'band': [4],\n",
      " 'commitnumber': '3e8a8c5',\n",
      " 'molecule': {'co2': 0.0004},\n",
      " 'tsfc': 300}\n",
      "\n",
      "Submitting analysis for cases\n",
      "{'atmpro': 'mls',\n",
      " 'band': [4],\n",
      " 'commitnumber': '3e8a8c5',\n",
      " 'molecule': {'co2': 0.0004},\n",
      " 'tsfc': 294}\n",
      "{'atmpro': 'saw',\n",
      " 'band': [4],\n",
      " 'commitnumber': '3e8a8c5',\n",
      " 'molecule': {'co2': 0.0004},\n",
      " 'tsfc': 257}\n",
      "{'atmpro': 'trp',\n",
      " 'band': [4],\n",
      " 'commitnumber': '3e8a8c5',\n",
      " 'molecule': {'co2': 0.0004},\n",
      " 'tsfc': 300}\n",
      "\n",
      "Committing analysis to Git repository for cases\n",
      "{'atmpro': 'trp',\n",
      " 'band': [4],\n",
      " 'commitnumber': '3e8a8c5',\n",
      " 'molecule': {'co2': 0.0004},\n",
      " 'tsfc': 300}\n",
      "{'atmpro': 'mls',\n",
      " 'band': [4],\n",
      " 'commitnumber': '3e8a8c5',\n",
      " 'molecule': {'co2': 0.0004},\n",
      " 'tsfc': 294}\n",
      "{'atmpro': 'saw',\n",
      " 'band': [4],\n",
      " 'commitnumber': '3e8a8c5',\n",
      " 'molecule': {'co2': 0.0004},\n",
      " 'tsfc': 257}\n",
      "\n",
      "http://nbviewer.jupyter.org/github/qap/analysis_-_new_kdist_param/blob/master/clirad/co2_0.0004/band_4/atmpro_mls/cliradlw_3e8a8c5/results_cliradlw.ipynb\n",
      "\n",
      "http://nbviewer.jupyter.org/github/qap/analysis_-_new_kdist_param/blob/master/clirad/co2_0.0004/band_4/atmpro_saw/cliradlw_3e8a8c5/results_cliradlw.ipynb\n",
      "\n",
      "http://nbviewer.jupyter.org/github/qap/analysis_-_new_kdist_param/blob/master/clirad/co2_0.0004/band_4/atmpro_trp/cliradlw_3e8a8c5/results_cliradlw.ipynb\n",
      "\n"
     ]
    }
   ],
   "source": [
    "script_clirad_lblnew()"
   ]
  },
  {
   "cell_type": "code",
   "execution_count": 22,
   "metadata": {},
   "outputs": [
    {
     "name": "stdout",
     "output_type": "stream",
     "text": [
      "http://nbviewer.jupyter.org/github/qap/analysis_-_new_kdist_param/blob/master/clirad/co2_0.0004/band_4/atmpro_mls/cliradlw_913ed72/results_cliradlw.ipynb\n",
      "\n",
      "http://nbviewer.jupyter.org/github/qap/analysis_-_new_kdist_param/blob/master/clirad/co2_0.0004/band_4/atmpro_saw/cliradlw_913ed72/results_cliradlw.ipynb\n",
      "\n",
      "http://nbviewer.jupyter.org/github/qap/analysis_-_new_kdist_param/blob/master/clirad/co2_0.0004/band_4/atmpro_trp/cliradlw_913ed72/results_cliradlw.ipynb\n",
      "\n"
     ]
    }
   ],
   "source": [
    "for param, _ in parampairs_nonoverlap():\n",
    "    print(pipeline.nbviewer_url(param=param, setup=setup))\n",
    "    print()\n"
   ]
  },
  {
   "cell_type": "markdown",
   "metadata": {
    "collapsed": true
   },
   "source": [
    "\n",
    "http://nbviewer.jupyter.org/github/qap/analysis_-_new_kdist_param/blob/master/clirad/co2_0.0004/band_4/atmpro_mls/cliradlw_3e8a8c5/results_cliradlw.ipynb\n",
    "\n",
    "http://nbviewer.jupyter.org/github/qap/analysis_-_new_kdist_param/blob/master/clirad/co2_0.0004/band_4/atmpro_saw/cliradlw_3e8a8c5/results_cliradlw.ipynb\n",
    "\n",
    "http://nbviewer.jupyter.org/github/qap/analysis_-_new_kdist_param/blob/master/clirad/co2_0.0004/band_4/atmpro_trp/cliradlw_3e8a8c5/results_cliradlw.ipynb"
   ]
  },
  {
   "cell_type": "code",
   "execution_count": null,
   "metadata": {
    "collapsed": true
   },
   "outputs": [],
   "source": []
  }
 ],
 "metadata": {
  "kernelspec": {
   "display_name": "Python 3",
   "language": "python",
   "name": "python3"
  },
  "language_info": {
   "codemirror_mode": {
    "name": "ipython",
    "version": 3
   },
   "file_extension": ".py",
   "mimetype": "text/x-python",
   "name": "python",
   "nbconvert_exporter": "python",
   "pygments_lexer": "ipython3",
   "version": "3.6.1"
  }
 },
 "nbformat": 4,
 "nbformat_minor": 2
}

{
 "cells": [
  {
   "cell_type": "code",
   "execution_count": 15,
   "metadata": {},
   "outputs": [
    {
     "data": {
      "text/plain": [
       "<module 'climatools.lblnew.setup_overlap' from '/chia_cluster/home/jackyu/climatools/climatools/lblnew/setup_overlap.py'>"
      ]
     },
     "execution_count": 15,
     "metadata": {},
     "output_type": "execute_result"
    }
   ],
   "source": [
    "import os\n",
    "import shutil\n",
    "import importlib\n",
    "import pprint\n",
    "\n",
    "import climatools.lblnew.pipeline as pipeline\n",
    "import climatools.lblnew.setup_overlap as setup_overlap\n",
    "\n",
    "importlib.reload(pipeline)\n",
    "importlib.reload(setup_overlap)"
   ]
  },
  {
   "cell_type": "code",
   "execution_count": 26,
   "metadata": {
    "collapsed": true
   },
   "outputs": [],
   "source": [
    "\n",
    "\n",
    "def params_overlap():\n",
    "    \n",
    "    commitnumber = 'a22ab94'\n",
    "    nv, dv = 1000, .001\n",
    "    \n",
    "    atmpros = [('mls', 294), ('saw', 257), ('trp', 300)]\n",
    "    \n",
    "    molecule_bands = [\n",
    "        ({'h2o': 'atmpro', 'co2': 2 * 400e-6, 'n2o': 3.2e-7}, ['3a'])\n",
    "    ]\n",
    "    \n",
    "    params = []\n",
    "    for molecule, bands in molecule_bands:\n",
    "        for band in bands:\n",
    "            for atmpro, tsfc in atmpros:\n",
    "                param = {'commitnumber': commitnumber,\n",
    "                         'molecule': molecule,\n",
    "                         'band': band,\n",
    "                         'nv': nv, \n",
    "                         'dv': dv,\n",
    "                         'atmpro': atmpro,\n",
    "                         'tsfc': tsfc}\n",
    "                params.append(param)\n",
    "    return params\n",
    "\n",
    "\n",
    "\n",
    "def nbviewer_links_overlap(params=None):\n",
    "    for param in params:\n",
    "        print(param['molecule'], param['band'], param['atmpro'])\n",
    "        print(pipeline.nbviewer_url(param, setup=setup_overlap))\n",
    "        print()\n",
    "\n",
    "\n",
    "\n"
   ]
  },
  {
   "cell_type": "code",
   "execution_count": 27,
   "metadata": {
    "collapsed": true
   },
   "outputs": [],
   "source": [
    "params = params_overlap()"
   ]
  },
  {
   "cell_type": "code",
   "execution_count": 28,
   "metadata": {},
   "outputs": [
    {
     "data": {
      "text/plain": [
       "[{'atmpro': 'mls',\n",
       "  'band': '3a',\n",
       "  'commitnumber': 'a22ab94',\n",
       "  'dv': 0.001,\n",
       "  'molecule': {'co2': 0.0008, 'h2o': 'atmpro', 'n2o': 3.2e-07},\n",
       "  'nv': 1000,\n",
       "  'tsfc': 294},\n",
       " {'atmpro': 'saw',\n",
       "  'band': '3a',\n",
       "  'commitnumber': 'a22ab94',\n",
       "  'dv': 0.001,\n",
       "  'molecule': {'co2': 0.0008, 'h2o': 'atmpro', 'n2o': 3.2e-07},\n",
       "  'nv': 1000,\n",
       "  'tsfc': 257},\n",
       " {'atmpro': 'trp',\n",
       "  'band': '3a',\n",
       "  'commitnumber': 'a22ab94',\n",
       "  'dv': 0.001,\n",
       "  'molecule': {'co2': 0.0008, 'h2o': 'atmpro', 'n2o': 3.2e-07},\n",
       "  'nv': 1000,\n",
       "  'tsfc': 300}]"
      ]
     },
     "execution_count": 28,
     "metadata": {},
     "output_type": "execute_result"
    }
   ],
   "source": [
    "params"
   ]
  },
  {
   "cell_type": "code",
   "execution_count": 29,
   "metadata": {
    "collapsed": true,
    "scrolled": false
   },
   "outputs": [],
   "source": [
    "pipeline.pipeline_fortran_bsub(params=params, setup=setup_overlap)"
   ]
  },
  {
   "cell_type": "code",
   "execution_count": 32,
   "metadata": {},
   "outputs": [
    {
     "name": "stdout",
     "output_type": "stream",
     "text": [
      "No unfinished job found\r\n"
     ]
    }
   ],
   "source": [
    "!bjobs"
   ]
  },
  {
   "cell_type": "code",
   "execution_count": 33,
   "metadata": {},
   "outputs": [
    {
     "name": "stdout",
     "output_type": "stream",
     "text": [
      "{'atmpro': 'mls',\n",
      " 'band': '3a',\n",
      " 'commitnumber': 'a22ab94',\n",
      " 'dv': 0.001,\n",
      " 'molecule': {'co2': 0.0008, 'h2o': 'atmpro', 'n2o': 3.2e-07},\n",
      " 'nv': 1000,\n",
      " 'tsfc': 294}\n",
      "\n",
      "{'atmpro': 'saw',\n",
      " 'band': '3a',\n",
      " 'commitnumber': 'a22ab94',\n",
      " 'dv': 0.001,\n",
      " 'molecule': {'co2': 0.0008, 'h2o': 'atmpro', 'n2o': 3.2e-07},\n",
      " 'nv': 1000,\n",
      " 'tsfc': 257}\n",
      "\n",
      "{'atmpro': 'trp',\n",
      " 'band': '3a',\n",
      " 'commitnumber': 'a22ab94',\n",
      " 'dv': 0.001,\n",
      " 'molecule': {'co2': 0.0008, 'h2o': 'atmpro', 'n2o': 3.2e-07},\n",
      " 'nv': 1000,\n",
      " 'tsfc': 300}\n",
      "\n",
      "{'atmpro': 'mls',\n",
      " 'band': '3a',\n",
      " 'commitnumber': 'a22ab94',\n",
      " 'dv': 0.001,\n",
      " 'molecule': {'co2': 0.0008, 'h2o': 'atmpro', 'n2o': 3.2e-07},\n",
      " 'nv': 1000,\n",
      " 'tsfc': 294}\n",
      "{'atmpro': 'saw',\n",
      " 'band': '3a',\n",
      " 'commitnumber': 'a22ab94',\n",
      " 'dv': 0.001,\n",
      " 'molecule': {'co2': 0.0008, 'h2o': 'atmpro', 'n2o': 3.2e-07},\n",
      " 'nv': 1000,\n",
      " 'tsfc': 257}\n",
      "{'atmpro': 'trp',\n",
      " 'band': '3a',\n",
      " 'commitnumber': 'a22ab94',\n",
      " 'dv': 0.001,\n",
      " 'molecule': {'co2': 0.0008, 'h2o': 'atmpro', 'n2o': 3.2e-07},\n",
      " 'nv': 1000,\n",
      " 'tsfc': 300}\n",
      "\n"
     ]
    }
   ],
   "source": [
    "gprocs = pipeline.pipeline_ipynb2git(params=params,\n",
    "                                     setup=setup_overlap)"
   ]
  },
  {
   "cell_type": "code",
   "execution_count": 34,
   "metadata": {},
   "outputs": [
    {
     "name": "stdout",
     "output_type": "stream",
     "text": [
      "{'h2o': 'atmpro', 'co2': 0.0008, 'n2o': 3.2e-07} band 3a mls\n",
      "http://nbviewer.jupyter.org/github/qap/analysis_-_new_kdist_param/blob/master/lblnew/h2o_atmpro_co2_0.0008_o3_0_n2o_3.2e-07_ch4_0_o2_0/band03a_wn_540_620/nv_1000/dv_0.001/crd_a22ab94/atmpro_mls/results_overlap.ipynb\n",
      "\n",
      "{'h2o': 'atmpro', 'co2': 0.0008, 'n2o': 3.2e-07} band 3a saw\n",
      "http://nbviewer.jupyter.org/github/qap/analysis_-_new_kdist_param/blob/master/lblnew/h2o_atmpro_co2_0.0008_o3_0_n2o_3.2e-07_ch4_0_o2_0/band03a_wn_540_620/nv_1000/dv_0.001/crd_a22ab94/atmpro_saw/results_overlap.ipynb\n",
      "\n",
      "{'h2o': 'atmpro', 'co2': 0.0008, 'n2o': 3.2e-07} band 3a trp\n",
      "http://nbviewer.jupyter.org/github/qap/analysis_-_new_kdist_param/blob/master/lblnew/h2o_atmpro_co2_0.0008_o3_0_n2o_3.2e-07_ch4_0_o2_0/band03a_wn_540_620/nv_1000/dv_0.001/crd_a22ab94/atmpro_trp/results_overlap.ipynb\n",
      "\n"
     ]
    }
   ],
   "source": [
    "for param in params:\n",
    "    print(param['molecule'], 'band', param['band'], param['atmpro'])\n",
    "    print(pipeline.nbviewer_url(param=param, setup=setup_overlap))\n",
    "    print()"
   ]
  },
  {
   "cell_type": "code",
   "execution_count": null,
   "metadata": {
    "collapsed": true
   },
   "outputs": [],
   "source": []
  }
 ],
 "metadata": {
  "kernelspec": {
   "display_name": "Python 3",
   "language": "python",
   "name": "python3"
  },
  "language_info": {
   "codemirror_mode": {
    "name": "ipython",
    "version": 3
   },
   "file_extension": ".py",
   "mimetype": "text/x-python",
   "name": "python",
   "nbconvert_exporter": "python",
   "pygments_lexer": "ipython3",
   "version": "3.6.1"
  }
 },
 "nbformat": 4,
 "nbformat_minor": 2
}

{
 "cells": [
  {
   "cell_type": "markdown",
   "metadata": {},
   "source": [
    "# Update k-tables in clirad-lw\n",
    "\n",
    "Use this notebook to update the k-tables in clirad-lw.  The k-tables are the computed parameters for the new k-distribution model."
   ]
  },
  {
   "cell_type": "code",
   "execution_count": 74,
   "metadata": {},
   "outputs": [
    {
     "data": {
      "text/plain": [
       "<module 'climatools.lblnew.export' from '/chia_cluster/home/jackyu/climatools/climatools/lblnew/export.py'>"
      ]
     },
     "execution_count": 74,
     "metadata": {},
     "output_type": "execute_result"
    }
   ],
   "source": [
    "import os\n",
    "import numpy as np\n",
    "import pprint\n",
    "\n",
    "import importlib\n",
    "import climatools.lblnew.export as export \n",
    "import climatools.cliradlw.setup as setup_cliradlw\n",
    "\n",
    "import climatools.lblnew.bestfit_params as bestfit_params\n",
    "\n",
    "importlib.reload(export)"
   ]
  },
  {
   "cell_type": "code",
   "execution_count": 75,
   "metadata": {},
   "outputs": [
    {
     "name": "stdout",
     "output_type": "stream",
     "text": [
      "co2 3b ng=7\n"
     ]
    }
   ],
   "source": [
    "molecule = 'co2'\n",
    "band = '3b'\n",
    "\n",
    "\n",
    "\n",
    "\n",
    "bestfit_params.kdist_params(molecule=molecule, band=band)\n",
    "ng = sum(param['ng_refs'])\n",
    "\n",
    "print(molecule, band, f'ng={ng}')"
   ]
  },
  {
   "cell_type": "code",
   "execution_count": 111,
   "metadata": {},
   "outputs": [
    {
     "name": "stdout",
     "output_type": "stream",
     "text": [
      "wgt adjustment\n",
      "\n",
      "{'band': '3b',\n",
      " 'dwgt': array([ 0.  ,  0.  ,  0.  ,  0.  , -0.05, -0.1 ,  0.  ]),\n",
      " 'molecule': 'co2'}\n"
     ]
    }
   ],
   "source": [
    "dwgt = np.array([0, 0, 0, 0, -.05, -.1, 0])\n",
    "\n",
    "adjust_wgt = {'molecule': molecule,\n",
    "              'band': band, \n",
    "              'dwgt': dwgt}\n",
    "\n",
    "print('wgt adjustment')\n",
    "print()\n",
    "pprint.pprint(adjust_wgt)"
   ]
  },
  {
   "cell_type": "code",
   "execution_count": 112,
   "metadata": {
    "collapsed": true,
    "scrolled": false
   },
   "outputs": [],
   "source": [
    "def script():\n",
    "    s = export.file_content(adjust_wgt=adjust_wgt)\n",
    "    fpath = os.path.join(setup_cliradlw.DIR_SRC, 'kdist_ktable.f')\n",
    "    with open(fpath, mode='w', encoding='utf-8') as f:\n",
    "        f.write(s)"
   ]
  },
  {
   "cell_type": "code",
   "execution_count": 114,
   "metadata": {
    "collapsed": true,
    "scrolled": false
   },
   "outputs": [],
   "source": [
    "script()"
   ]
  },
  {
   "cell_type": "code",
   "execution_count": null,
   "metadata": {
    "collapsed": true
   },
   "outputs": [],
   "source": []
  },
  {
   "cell_type": "code",
   "execution_count": null,
   "metadata": {
    "collapsed": true
   },
   "outputs": [],
   "source": []
  },
  {
   "cell_type": "code",
   "execution_count": null,
   "metadata": {
    "collapsed": true
   },
   "outputs": [],
   "source": []
  }
 ],
 "metadata": {
  "kernelspec": {
   "display_name": "Python 3",
   "language": "python",
   "name": "python3"
  },
  "language_info": {
   "codemirror_mode": {
    "name": "ipython",
    "version": 3
   },
   "file_extension": ".py",
   "mimetype": "text/x-python",
   "name": "python",
   "nbconvert_exporter": "python",
   "pygments_lexer": "ipython3",
   "version": "3.6.1"
  }
 },
 "nbformat": 4,
 "nbformat_minor": 2
}

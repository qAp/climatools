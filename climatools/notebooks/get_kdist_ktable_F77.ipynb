{
 "cells": [
  {
   "cell_type": "code",
   "execution_count": 31,
   "metadata": {},
   "outputs": [
    {
     "data": {
      "text/plain": [
       "<module 'climatools.lblnew.export' from '/chia_cluster/home/jackyu/climatools/climatools/lblnew/export.py'>"
      ]
     },
     "execution_count": 31,
     "metadata": {},
     "output_type": "execute_result"
    }
   ],
   "source": [
    "import os\n",
    "import numpy as np\n",
    "\n",
    "import importlib\n",
    "import climatools.lblnew.export as export \n",
    "import climatools.cliradlw.setup as setup_cliradlw\n",
    "\n",
    "import climatools.lblnew.bestfit_params as bestfit_params\n",
    "\n",
    "importlib.reload(export)"
   ]
  },
  {
   "cell_type": "code",
   "execution_count": 32,
   "metadata": {},
   "outputs": [
    {
     "data": {
      "text/plain": [
       "{'band': '3b',\n",
       " 'dwgt': array([ 0.  ,  0.  ,  0.  ,  0.05,  0.  ,  0.  ,  0.  ]),\n",
       " 'molecule': 'co2'}"
      ]
     },
     "execution_count": 32,
     "metadata": {},
     "output_type": "execute_result"
    }
   ],
   "source": [
    "dwgts = [.05, .1]\n",
    "\n",
    "moleculebands = [('co2', '3b'), ('n2o', '7')]\n",
    "\n",
    "molecule = 'co2'\n",
    "band = '3b'\n",
    "\n",
    "param = bestfit_params.kdist_params(molecule=molecule, band=band)\n",
    "ng = sum(param['ng_refs'])\n",
    "dwgt = np.zeros(ng)\n",
    "dwgt[3] = .05\n",
    "\n",
    "adjust_wgt = {'molecule': molecule,\n",
    "              'band': band, \n",
    "              'dwgt': dwgt}\n",
    "\n",
    "adjust_wgt"
   ]
  },
  {
   "cell_type": "code",
   "execution_count": 33,
   "metadata": {
    "collapsed": true,
    "scrolled": false
   },
   "outputs": [],
   "source": [
    "def script():\n",
    "    s = export.file_content()\n",
    "    \n",
    "#    fpath = os.path.join(setup_cliradlw.DIR_SRC, 'kdist_ktable.f')\n",
    "#    with open(fpath, mode='w', encoding='utf-8') as f:\n",
    "#        f.write(s)"
   ]
  },
  {
   "cell_type": "code",
   "execution_count": 30,
   "metadata": {},
   "outputs": [
    {
     "name": "stdout",
     "output_type": "stream",
     "text": [
      "h2o 1\n",
      "wgt before adjustment [ 0.2   0.2   0.2   0.2   0.2   0.2   0.2   0.2   0.65  0.65  0.65  0.65]\n",
      "wgt after adjustment [ 0.2   0.2   0.2   0.2   0.2   0.2   0.2   0.2   0.65  0.65  0.65  0.65]\n",
      "\n",
      "h2o 2\n",
      "wgt before adjustment [ 0.6  0.6  0.6  0.6  0.6  0.6  0.6  0.6  0.6  0.6  0.6]\n",
      "wgt after adjustment [ 0.6  0.6  0.6  0.6  0.6  0.6  0.6  0.6  0.6  0.6  0.6]\n",
      "\n",
      "h2o 3a\n",
      "wgt before adjustment [ 0.7  0.7  0.7  0.5  0.5  0.5  0.5  0.5]\n",
      "wgt after adjustment [ 0.7  0.7  0.7  0.5  0.5  0.5  0.5  0.5]\n",
      "\n",
      "h2o 3b\n",
      "wgt before adjustment [ 0.8  0.8  0.8  0.6  0.6  0.9]\n",
      "wgt after adjustment [ 0.8  0.8  0.8  0.6  0.6  0.9]\n",
      "\n",
      "h2o 3c\n",
      "wgt before adjustment [ 0.5  0.5  0.6  0.7  0.9]\n",
      "wgt after adjustment [ 0.5  0.5  0.6  0.7  0.9]\n",
      "\n",
      "h2o 4\n",
      "wgt before adjustment [ 0.5   0.55  0.85]\n",
      "wgt after adjustment [ 0.5   0.55  0.85]\n",
      "\n",
      "h2o 5\n",
      "wgt before adjustment [ 0.5   0.55  0.9 ]\n",
      "wgt after adjustment [ 0.5   0.55  0.9 ]\n",
      "\n",
      "h2o 6\n",
      "wgt before adjustment [ 0.3   0.45  0.6   0.95]\n",
      "wgt after adjustment [ 0.3   0.45  0.6   0.95]\n",
      "\n",
      "h2o 7\n",
      "wgt before adjustment [ 0.5  0.5  0.5  0.5  0.5  0.5  0.9]\n",
      "wgt after adjustment [ 0.5  0.5  0.5  0.5  0.5  0.5  0.9]\n",
      "\n",
      "h2o 8\n",
      "wgt before adjustment [ 0.55  0.55  0.85  0.85  0.85  0.    0.3   0.55]\n",
      "wgt after adjustment [ 0.55  0.55  0.85  0.85  0.85  0.    0.3   0.55]\n",
      "\n",
      "h2o 9\n",
      "wgt before adjustment [ 0.4   0.4   0.5   0.55  0.85]\n",
      "wgt after adjustment [ 0.4   0.4   0.5   0.55  0.85]\n",
      "\n",
      "co2 3a\n",
      "wgt before adjustment [ 0.7   0.3   0.7   0.7   0.6   0.4   0.5   0.8   0.95]\n",
      "wgt after adjustment [ 0.7   0.3   0.7   0.7   0.6   0.4   0.5   0.8   0.95]\n",
      "\n",
      "co2 3b\n",
      "wgt before adjustment [ 0.   0.6  0.5  0.7  0.8  0.8  0.7]\n",
      "wgt after adjustment [ 0.   0.6  0.5  0.7  0.8  0.8  0.7]\n",
      "\n",
      "co2 3c\n",
      "wgt before adjustment [ 0.6   0.4   0.7   0.7   0.4   0.3   0.4   0.85  0.9 ]\n",
      "wgt after adjustment [ 0.6   0.4   0.7   0.7   0.4   0.3   0.4   0.85  0.9 ]\n",
      "\n",
      "co2 4\n",
      "wgt before adjustment [ 0.75  0.75  0.95]\n",
      "wgt after adjustment [ 0.75  0.75  0.95]\n",
      "\n",
      "co2 5\n",
      "wgt before adjustment [ 0.75  0.75  0.95]\n",
      "wgt after adjustment [ 0.75  0.75  0.95]\n",
      "\n",
      "co2 9\n",
      "wgt before adjustment [ 0.7  0.8  0.7  0.8  0.7  0.8]\n",
      "wgt after adjustment [ 0.7  0.8  0.7  0.8  0.7  0.8]\n",
      "\n",
      "o3 5\n",
      "wgt before adjustment [ 0.35  0.6   0.5   0.55  0.7   0.9   1.  ]\n",
      "wgt after adjustment [ 0.35  0.6   0.5   0.55  0.7   0.9   1.  ]\n",
      "\n",
      "o3 9\n",
      "wgt before adjustment [ 0.3   0.4   0.5   0.6   0.7   0.85  0.9 ]\n",
      "wgt after adjustment [ 0.3   0.4   0.5   0.6   0.7   0.85  0.9 ]\n",
      "\n",
      "n2o 3a\n",
      "wgt before adjustment [ 0.9   0.5   0.95]\n",
      "wgt after adjustment [ 0.9   0.5   0.95]\n",
      "\n",
      "n2o 6\n",
      "wgt before adjustment [ 0.95]\n",
      "wgt after adjustment [ 0.95]\n",
      "\n",
      "n2o 7\n",
      "wgt before adjustment [ 0.6  0.5  0.6  0.9]\n",
      "wgt after adjustment [ 0.6  0.5  0.6  0.9]\n",
      "\n",
      "ch4 6\n",
      "wgt before adjustment [ 0.8  0.8  0.8  0.9]\n",
      "wgt after adjustment [ 0.8  0.8  0.8  0.9]\n",
      "\n",
      "ch4 7\n",
      "wgt before adjustment [ 0.7   0.7   0.4   0.6   0.75]\n",
      "wgt after adjustment [ 0.7   0.7   0.4   0.6   0.75]\n",
      "\n"
     ]
    }
   ],
   "source": [
    "script()"
   ]
  },
  {
   "cell_type": "code",
   "execution_count": 16,
   "metadata": {},
   "outputs": [
    {
     "name": "stdout",
     "output_type": "stream",
     "text": [
      ":)\n"
     ]
    }
   ],
   "source": [
    "if {'1': 3}:\n",
    "    print(':)')"
   ]
  },
  {
   "cell_type": "code",
   "execution_count": 18,
   "metadata": {},
   "outputs": [],
   "source": [
    "import numpy as np\n",
    "a = np.arange(3, 9)\n",
    "a += np.arange(1, 7)"
   ]
  },
  {
   "cell_type": "code",
   "execution_count": 19,
   "metadata": {},
   "outputs": [
    {
     "data": {
      "text/plain": [
       "array([ 4,  6,  8, 10, 12, 14])"
      ]
     },
     "execution_count": 19,
     "metadata": {},
     "output_type": "execute_result"
    }
   ],
   "source": [
    "a"
   ]
  },
  {
   "cell_type": "code",
   "execution_count": null,
   "metadata": {
    "collapsed": true
   },
   "outputs": [],
   "source": []
  }
 ],
 "metadata": {
  "kernelspec": {
   "display_name": "Python 3",
   "language": "python",
   "name": "python3"
  },
  "language_info": {
   "codemirror_mode": {
    "name": "ipython",
    "version": 3
   },
   "file_extension": ".py",
   "mimetype": "text/x-python",
   "name": "python",
   "nbconvert_exporter": "python",
   "pygments_lexer": "ipython3",
   "version": "3.6.1"
  }
 },
 "nbformat": 4,
 "nbformat_minor": 2
}

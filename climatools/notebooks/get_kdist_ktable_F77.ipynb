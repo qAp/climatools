{
 "cells": [
  {
   "cell_type": "markdown",
   "metadata": {},
   "source": [
    "# Update k-tables in clirad-lw\n",
    "\n",
    "Use this notebook to update the k-tables in clirad-lw.  The k-tables are the computed parameters for the new k-distribution model."
   ]
  },
  {
   "cell_type": "code",
   "execution_count": 1,
   "metadata": {
    "collapsed": true
   },
   "outputs": [],
   "source": [
    "%reload_ext autoreload\n",
    "%autoreload 2"
   ]
  },
  {
   "cell_type": "code",
   "execution_count": 4,
   "metadata": {},
   "outputs": [],
   "source": [
    "import os\n",
    "import numpy as np\n",
    "import pprint\n",
    "\n",
    "import importlib\n",
    "import climatools.lblnew.export as export \n",
    "import climatools.cliradlw.setup as setup_cliradlw"
   ]
  },
  {
   "cell_type": "code",
   "execution_count": 62,
   "metadata": {},
   "outputs": [
    {
     "name": "stdout",
     "output_type": "stream",
     "text": [
      "co2 3b ng=7\n"
     ]
    }
   ],
   "source": [
    "import climatools.lblnew.bestfit_params as bestfit_params\n",
    "\n",
    "molecule = 'co2'\n",
    "band = '3b'\n",
    "\n",
    "\n",
    "\n",
    "bestfit_params.kdist_params(molecule=molecule, band=band)\n",
    "ng = sum(param['ng_refs'])\n",
    "\n",
    "print(molecule, band, f'ng={ng}')"
   ]
  },
  {
   "cell_type": "code",
   "execution_count": 63,
   "metadata": {},
   "outputs": [
    {
     "name": "stdout",
     "output_type": "stream",
     "text": [
      "wgt adjustment\n",
      "===============\n",
      "g=1\n",
      "{'band': '3b',\n",
      " 'dwgt': array([ 0.05,  0.  ,  0.  ,  0.  ,  0.  ,  0.  ,  0.  ]),\n",
      " 'molecule': 'co2'}\n"
     ]
    }
   ],
   "source": [
    "g = 1\n",
    "change = .05\n",
    "\n",
    "\n",
    "\n",
    "dwgt = np.zeros(ng)\n",
    "dwgt[g - 1] = change\n",
    "\n",
    "adjust_wgt = {'molecule': molecule,\n",
    "              'band': band, \n",
    "              'dwgt': dwgt}\n",
    "\n",
    "print('wgt adjustment')\n",
    "print(15 * '=')\n",
    "print(f'g={g}')\n",
    "pprint.pprint(adjust_wgt)"
   ]
  },
  {
   "cell_type": "code",
   "execution_count": 7,
   "metadata": {
    "collapsed": true,
    "scrolled": false
   },
   "outputs": [],
   "source": [
    "def script():\n",
    "    s = export.file_content()\n",
    "    fpath = os.path.join(setup_cliradlw.DIR_SRC, 'kdist_ktable.f')\n",
    "    with open(fpath, mode='w', encoding='utf-8') as f:\n",
    "        f.write(s)"
   ]
  },
  {
   "cell_type": "code",
   "execution_count": 17,
   "metadata": {
    "scrolled": false
   },
   "outputs": [
    {
     "name": "stdout",
     "output_type": "stream",
     "text": [
      "h2o 1\n",
      "1\n",
      "h2o 2\n",
      "1\n",
      "h2o 3a\n",
      "1\n",
      "h2o 3b\n",
      "1\n",
      "h2o 3c\n",
      "1\n",
      "h2o 4\n",
      "1\n",
      "h2o 5\n",
      "1\n",
      "h2o 6\n",
      "1\n",
      "h2o 7\n",
      "1\n",
      "h2o 8\n",
      "1\n",
      "h2o 9\n",
      "1\n",
      "co2 3a\n",
      "1\n",
      "co2 3b\n",
      "2\n",
      "co2 3c\n",
      "1\n",
      "co2 4\n",
      "1\n",
      "co2 5\n",
      "1\n",
      "co2 9\n",
      "1\n",
      "o3 5\n",
      "1\n",
      "o3 9\n",
      "1\n",
      "n2o 3a\n",
      "1\n",
      "n2o 6\n",
      "1\n",
      "n2o 7\n",
      "1\n",
      "ch4 6\n",
      "1\n",
      "ch4 7\n",
      "1\n"
     ]
    }
   ],
   "source": [
    "script()"
   ]
  },
  {
   "cell_type": "code",
   "execution_count": null,
   "metadata": {
    "collapsed": true
   },
   "outputs": [],
   "source": []
  },
  {
   "cell_type": "code",
   "execution_count": null,
   "metadata": {
    "collapsed": true
   },
   "outputs": [],
   "source": []
  },
  {
   "cell_type": "code",
   "execution_count": null,
   "metadata": {
    "collapsed": true
   },
   "outputs": [],
   "source": []
  }
 ],
 "metadata": {
  "kernelspec": {
   "display_name": "Python 3",
   "language": "python",
   "name": "python3"
  },
  "language_info": {
   "codemirror_mode": {
    "name": "ipython",
    "version": 3
   },
   "file_extension": ".py",
   "mimetype": "text/x-python",
   "name": "python",
   "nbconvert_exporter": "python",
   "pygments_lexer": "ipython3",
   "version": "3.6.1"
  }
 },
 "nbformat": 4,
 "nbformat_minor": 2
}

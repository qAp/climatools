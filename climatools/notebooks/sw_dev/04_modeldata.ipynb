{
 "cells": [
  {
   "cell_type": "markdown",
   "metadata": {},
   "source": [
    "# Model Data"
   ]
  },
  {
   "cell_type": "code",
   "execution_count": 1,
   "metadata": {
    "collapsed": true
   },
   "outputs": [],
   "source": [
    "%reload_ext autoreload\n",
    "%autoreload 2"
   ]
  },
  {
   "cell_type": "code",
   "execution_count": 3,
   "metadata": {
    "collapsed": true
   },
   "outputs": [],
   "source": [
    "#export\n",
    "from pymongo import *\n",
    "from exp.nb_00 import *\n",
    "from exp.nb_01 import *\n",
    "from exp.nb_02 import *"
   ]
  },
  {
   "cell_type": "code",
   "execution_count": 4,
   "metadata": {
    "collapsed": true
   },
   "outputs": [],
   "source": [
    "client = MongoClient(host='localhost', port=27017)"
   ]
  },
  {
   "cell_type": "markdown",
   "metadata": {},
   "source": [
    "# lblnew-bestfit-sw model data  \n",
    "Here we try to define a class that will represent data associated with lblnew-bestfit-sw."
   ]
  },
  {
   "cell_type": "markdown",
   "metadata": {},
   "source": [
    "## lblnew-bestfit-lw model data's structure\n",
    "\n",
    "We review lblnew-bestfit-lw model data's structure here, and will try to use as similar a structure for lblnew-bestfit-sw."
   ]
  },
  {
   "cell_type": "code",
   "execution_count": 20,
   "metadata": {
    "collapsed": true
   },
   "outputs": [],
   "source": [
    "from climatools.dataset import *"
   ]
  },
  {
   "cell_type": "code",
   "execution_count": 21,
   "metadata": {},
   "outputs": [
    {
     "data": {
      "text/plain": [
       "['admin', 'cliradnew', 'config', 'lblnew', 'local']"
      ]
     },
     "execution_count": 21,
     "metadata": {},
     "output_type": "execute_result"
    }
   ],
   "source": [
    "client.database_names()"
   ]
  },
  {
   "cell_type": "code",
   "execution_count": 22,
   "metadata": {},
   "outputs": [
    {
     "data": {
      "text/plain": [
       "(['overlap_lw', 'bestfit_lw'], ['lw'])"
      ]
     },
     "execution_count": 22,
     "metadata": {},
     "output_type": "execute_result"
    }
   ],
   "source": [
    "client.lblnew.collection_names(), client.cliradnew.collection_names()"
   ]
  },
  {
   "cell_type": "code",
   "execution_count": 23,
   "metadata": {},
   "outputs": [],
   "source": [
    "doc = client.lblnew.bestfit_lw.find_one()\n",
    "md = LBLnewBestfitModelData.from_mongodoc(doc)"
   ]
  },
  {
   "cell_type": "code",
   "execution_count": 24,
   "metadata": {},
   "outputs": [
    {
     "data": {
      "text/plain": [
       "dict_keys(['dgdgs', 'abscom', 'param', 'wgt_flux', 'wgt_cool', 'crd_flux', 'crd_cool'])"
      ]
     },
     "execution_count": 24,
     "metadata": {},
     "output_type": "execute_result"
    }
   ],
   "source": [
    "vars(md).keys()"
   ]
  },
  {
   "cell_type": "code",
   "execution_count": 25,
   "metadata": {},
   "outputs": [
    {
     "name": "stdout",
     "output_type": "stream",
     "text": [
      "lblnew-bestfit-lw output dimensions\n"
     ]
    },
    {
     "data": {
      "text/plain": [
       "(Frozen(SortedKeysDict({'pressure': 76, 'igg': 10, 'g': 9})),\n",
       " Frozen(SortedKeysDict({'pressure': 75, 'igg': 10, 'g': 9})),\n",
       " Frozen(SortedKeysDict({'pressure': 76, 'g': 9})),\n",
       " Frozen(SortedKeysDict({'pressure': 75, 'g': 9})))"
      ]
     },
     "execution_count": 25,
     "metadata": {},
     "output_type": "execute_result"
    }
   ],
   "source": [
    "print('lblnew-bestfit-lw output dimensions')\n",
    "md.wgt_flux.dims, md.wgt_cool.dims, md.crd_flux.dims, md.crd_cool.dims"
   ]
  },
  {
   "cell_type": "code",
   "execution_count": 26,
   "metadata": {},
   "outputs": [
    {
     "name": "stdout",
     "output_type": "stream",
     "text": [
      "Flux data\n",
      "----------------------------------------\n",
      "wgt\n",
      "Data variables:\n",
      "    flug     (pressure, igg, g) float64 -0.01002 -0.03926 ... -8.293 -13.63\n",
      "    fldg     (pressure, igg, g) float64 0.0 0.0 0.0 0.0 ... 9.244 4.633 1.224\n",
      "    fnetg    (pressure, igg, g) float64 -0.01002 -0.03926 ... -3.66 -12.41\n",
      "----------------------------------------\n",
      "crd\n",
      "Data variables:\n",
      "    flug     (pressure, g) float64 -0.01029 -0.03859 -0.164 ... -8.268 -13.4\n",
      "    fldg     (pressure, g) float64 0.0 0.0 0.0 0.0 ... 2.328 9.234 4.48 1.215\n",
      "    fnetg    (pressure, g) float64 -0.01029 -0.03859 -0.164 ... -3.788 -12.19\n"
     ]
    }
   ],
   "source": [
    "print('Flux data')\n",
    "print(40 * '-')\n",
    "print('wgt')\n",
    "print(md.wgt_flux.data_vars)\n",
    "print(40 * '-')\n",
    "print('crd')\n",
    "print(md.crd_flux.data_vars)"
   ]
  },
  {
   "cell_type": "code",
   "execution_count": 27,
   "metadata": {},
   "outputs": [
    {
     "name": "stdout",
     "output_type": "stream",
     "text": [
      "Cool data\n",
      "----------------------------------------\n",
      "wgt\n",
      "Data variables:\n",
      "    coolrg   (pressure, igg, g) float64 0.8167 -0.004995 ... 0.07284 0.03006\n",
      "----------------------------------------\n",
      "crd\n",
      "Data variables:\n",
      "    coolrg   (pressure, g) float64 0.8949 0.01439 -0.004269 ... 0.06004 0.02779\n"
     ]
    }
   ],
   "source": [
    "print('Cool data')\n",
    "print(40 * '-')\n",
    "print('wgt')\n",
    "print(md.wgt_cool.data_vars)\n",
    "print(40 * '-')\n",
    "print('crd')\n",
    "print(md.crd_cool.data_vars)"
   ]
  },
  {
   "cell_type": "code",
   "execution_count": null,
   "metadata": {
    "collapsed": true
   },
   "outputs": [],
   "source": []
  },
  {
   "cell_type": "code",
   "execution_count": null,
   "metadata": {
    "collapsed": true
   },
   "outputs": [],
   "source": []
  },
  {
   "cell_type": "code",
   "execution_count": null,
   "metadata": {
    "collapsed": true
   },
   "outputs": [],
   "source": []
  },
  {
   "cell_type": "markdown",
   "metadata": {
    "heading_collapsed": true
   },
   "source": [
    "## lblnew-bestfit-sw's fort* output files  \n",
    "How the output data are organised in the various \"fort\" files in the current lblnew-bestfit-sw.  At the moment the output fort.\\* files give absolutly no indication of the dimensions, so we will need to refer the the ones already figured out in \"analysis_-_lblnew-bestfit-sw.ipynb\"."
   ]
  },
  {
   "cell_type": "code",
   "execution_count": 135,
   "metadata": {
    "collapsed": true,
    "hidden": true
   },
   "outputs": [],
   "source": [
    "param0 = LBLnewBestfitSWParam(band=9, vmin=8200, vmax=14290, nv=10000, dv=0.001,\n",
    "                     molecule='h2o', conc='atmpro',\n",
    "                     ref_pts=[(30, 250), (300, 250)], ng_refs=[3, 9], ng_adju=[-3, 0],\n",
    "                     wgt=[(.95, .9, .6, .5), (.55, .55, .55, .65, .65, .7, .8, .9)],\n",
    "                     cosz=.2588, rsfc=0,\n",
    "                     klin=3e-25,\n",
    "                     option_k_lookup=0,\n",
    "                     atmpro='trp',\n",
    "                     commitnumber='79f2292')"
   ]
  },
  {
   "cell_type": "code",
   "execution_count": 136,
   "metadata": {
    "hidden": true
   },
   "outputs": [],
   "source": [
    "path = PATH_ANALYSIS/'/'.join(sorted(f'{n}_{v}' for n, v in vars(param0).items()))\n",
    "runner = LBLnewBestfitSWRun(path=path, param=param0)"
   ]
  },
  {
   "cell_type": "code",
   "execution_count": 137,
   "metadata": {
    "hidden": true
   },
   "outputs": [
    {
     "data": {
      "text/plain": [
       "[9, 10, 400, 401, 402, 403]"
      ]
     },
     "execution_count": 137,
     "metadata": {},
     "output_type": "execute_result"
    }
   ],
   "source": [
    "fids = sorted([401, 400, 10, 402, 403, 9, ])\n",
    "fids"
   ]
  },
  {
   "cell_type": "code",
   "execution_count": 151,
   "metadata": {
    "hidden": true
   },
   "outputs": [
    {
     "name": "stdout",
     "output_type": "stream",
     "text": [
      "crd heating rate for each g.\n"
     ]
    },
    {
     "data": {
      "text/plain": [
       "<xarray.Dataset>\n",
       "Dimensions:   (g: 12, pressure: 75)\n",
       "Coordinates:\n",
       "  * pressure  (pressure) float64 0.0003 0.0008 0.0011 ... 953.6 977.3 1.001e+03\n",
       "  * g         (g) int64 1 2 3 4 5 6 7 8 9 10 11 12\n",
       "Data variables:\n",
       "    0         (pressure, g) float64 0.002636 0.001432 ... 0.1543 0.1532"
      ]
     },
     "execution_count": 151,
     "metadata": {},
     "output_type": "execute_result"
    }
   ],
   "source": [
    "heat = pd.read_csv(runner.path/'fort.401', header=None, sep=r'\\s+')\n",
    "heat.set_index(0, inplace=True)\n",
    "heat.index.names = ['pressure']\n",
    "heat.columns.names = ['g']\n",
    "\n",
    "print('crd heating rate for each g.')\n",
    "xr.Dataset.from_dataframe(pd.DataFrame(heat.stack()))\n",
    "#xr.Dataset.from_dataframe(heat.stack())"
   ]
  },
  {
   "cell_type": "code",
   "execution_count": 150,
   "metadata": {
    "hidden": true
   },
   "outputs": [
    {
     "name": "stdout",
     "output_type": "stream",
     "text": [
      "wgt heating rate for each g\n"
     ]
    },
    {
     "data": {
      "text/plain": [
       "<xarray.Dataset>\n",
       "Dimensions:   (g: 12, pressure: 75)\n",
       "Coordinates:\n",
       "  * pressure  (pressure) float64 0.0003 0.0008 0.0011 ... 953.6 977.3 1.001e+03\n",
       "  * g         (g) int64 1 2 3 4 5 6 7 8 9 10 11 12\n",
       "Data variables:\n",
       "    0         (pressure, g) float64 0.002602 0.001383 ... 0.1645 0.1584"
      ]
     },
     "execution_count": 150,
     "metadata": {},
     "output_type": "execute_result"
    }
   ],
   "source": [
    "heatg = pd.read_csv(runner.path/'fort.400', header=None, sep=r'\\s+')\n",
    "heatg.set_index(0, inplace=True)\n",
    "heatg.index.names = ['pressure']\n",
    "heatg.columns.names = ['g']\n",
    "\n",
    "print('wgt heating rate for each g')\n",
    "xr.Dataset.from_dataframe(pd.DataFrame(heatg.stack()))"
   ]
  },
  {
   "cell_type": "code",
   "execution_count": 148,
   "metadata": {
    "hidden": true
   },
   "outputs": [
    {
     "name": "stdout",
     "output_type": "stream",
     "text": [
      "bands-total heating rate\n"
     ]
    },
    {
     "data": {
      "text/plain": [
       "<xarray.Dataset>\n",
       "Dimensions:   (pressure: 75)\n",
       "Coordinates:\n",
       "  * pressure  (pressure) float64 0.0003 0.0008 0.0011 ... 953.6 977.3 1.001e+03\n",
       "Data variables:\n",
       "    CRD       (pressure) float64 0.0052 0.0052 0.0052 ... 0.4694 0.4592 0.451\n",
       "    WGT       (pressure) float64 0.00491 0.00491 0.00491 ... 0.4889 0.481 0.4755"
      ]
     },
     "execution_count": 148,
     "metadata": {},
     "output_type": "execute_result"
    }
   ],
   "source": [
    "heat = pd.read_csv(runner.path/'fort.10', sep=r'\\s+', header=None)\n",
    "heat.set_index(0, inplace=True)\n",
    "heat.index.names = ['pressure']\n",
    "heat.columns = ['CRD', 'WGT']\n",
    "\n",
    "print('bands-total heating rate')\n",
    "xr.Dataset.from_dataframe(heat)"
   ]
  },
  {
   "cell_type": "code",
   "execution_count": 109,
   "metadata": {
    "collapsed": true,
    "hidden": true
   },
   "outputs": [],
   "source": [
    "def load_flux(fpath=None, name=None):\n",
    "    '''\n",
    "    Return flux for each g-group, either calculated by line-by-line (fort.403), \n",
    "    or by clirad-sw (fort.402), in a xarray.DataArray.\n",
    "    '''\n",
    "    df = pd.read_csv(fpath, sep=r'\\s+', header=None)\n",
    "    df.set_index(0, inplace=True)\n",
    "    df.index.names = ['pressure']\n",
    "    df.columns.names = ['g']\n",
    "    da = xr.DataArray(df)\n",
    "    da.name = name\n",
    "    return da"
   ]
  },
  {
   "cell_type": "code",
   "execution_count": 168,
   "metadata": {
    "hidden": true
   },
   "outputs": [
    {
     "name": "stdout",
     "output_type": "stream",
     "text": [
      "flux for each g\n"
     ]
    },
    {
     "data": {
      "text/plain": [
       "<xarray.Dataset>\n",
       "Dimensions:   (g: 12, pressure: 75)\n",
       "Coordinates:\n",
       "  * pressure  (pressure) float64 0.0003 0.0008 0.0011 ... 953.6 977.3 1.001e+03\n",
       "  * g         (g) int64 1 2 3 4 5 6 7 8 9 10 11 12\n",
       "Data variables:\n",
       "    WGT       (pressure, g) float64 0.03367 0.1235 0.4602 ... 2.388 7.304 71.04\n",
       "    CRD       (pressure, g) float64 0.03367 0.1235 0.4602 ... 2.635 7.301 70.89"
      ]
     },
     "execution_count": 168,
     "metadata": {},
     "output_type": "execute_result"
    }
   ],
   "source": [
    "dwgt = load_flux(fpath=runner.path/'fort.402', name='WGT')\n",
    "dcrd = load_flux(fpath=runner.path/'fort.403', name='CRD')\n",
    "ds = xr.Dataset()\n",
    "ds[dwgt.name] = dwgt\n",
    "ds[dcrd.name] = dcrd\n",
    "\n",
    "print('flux for each g')\n",
    "ds"
   ]
  },
  {
   "cell_type": "code",
   "execution_count": 155,
   "metadata": {
    "hidden": true
   },
   "outputs": [
    {
     "name": "stdout",
     "output_type": "stream",
     "text": [
      "bands-total flux. crd and wgt.\n"
     ]
    },
    {
     "data": {
      "text/plain": [
       "<xarray.Dataset>\n",
       "Dimensions:   (pressure: 76)\n",
       "Coordinates:\n",
       "  * pressure  (pressure) float64 0.0 0.0006 0.0009 ... 965.5 989.2 1.013e+03\n",
       "Data variables:\n",
       "    CRD       (pressure) float64 114.5 114.5 114.5 114.5 ... 82.53 81.24 79.97\n",
       "    WGT       (pressure) float64 114.5 114.5 114.5 114.5 ... 82.23 80.87 79.54"
      ]
     },
     "execution_count": 155,
     "metadata": {},
     "output_type": "execute_result"
    }
   ],
   "source": [
    "flux = pd.read_csv(runner.path/'fort.9', sep=r'\\s+', skiprows=2, header=None)\n",
    "flux.set_index(0, inplace=True)\n",
    "flux.index.names = ['pressure']\n",
    "flux.columns = ['CRD', 'WGT']\n",
    "\n",
    "print('bands-total flux. crd and wgt.')\n",
    "xr.Dataset.from_dataframe(flux)"
   ]
  },
  {
   "cell_type": "markdown",
   "metadata": {},
   "source": [
    "## LBLnewBestfitSWModelData\n",
    "\n",
    "Class for managing the output data of lblnew-bestfit-sw"
   ]
  },
  {
   "cell_type": "code",
   "execution_count": 63,
   "metadata": {},
   "outputs": [],
   "source": [
    "p = LBLnewBestfitSWParam(band=10, vmin=4400, vmax=8200, nv=10000, dv=0.001,\n",
    "                     molecule='h2o', conc='atmpro',\n",
    "                     ref_pts=[(300, 250)], ng_refs=[10], ng_adju=[0],\n",
    "                     wgt=[(.95, .9, .45, .45, .45, .45, .5, .55, .7, .95)],\n",
    "                     cosz=.2588, rsfc=0,\n",
    "                     klin=5e-25,\n",
    "                     option_k_lookup=0,\n",
    "                     atmpro='trp',\n",
    "                     commitnumber='79f2292')\n",
    "\n",
    "runner = LBLnewBestfitSWRun(path=PATH_FORTRAN/p.to_path(), param=p)"
   ]
  },
  {
   "cell_type": "code",
   "execution_count": 64,
   "metadata": {},
   "outputs": [],
   "source": [
    "datnames = {'flux':'output_flux.dat', 'heat':'output_heat.dat'}"
   ]
  },
  {
   "cell_type": "code",
   "execution_count": 71,
   "metadata": {},
   "outputs": [
    {
     "ename": "ValueError",
     "evalue": "could not convert string to float: '0.41554722-111'",
     "output_type": "error",
     "traceback": [
      "\u001b[0;31m---------------------------------------------------------------------------\u001b[0m",
      "\u001b[0;31mTypeError\u001b[0m                                 Traceback (most recent call last)",
      "\u001b[0;32mpandas/_libs/parsers.pyx\u001b[0m in \u001b[0;36mpandas._libs.parsers.TextReader._convert_tokens\u001b[0;34m()\u001b[0m\n",
      "\u001b[0;31mTypeError\u001b[0m: Cannot cast array from dtype('O') to dtype('float64') according to the rule 'safe'",
      "\nDuring handling of the above exception, another exception occurred:\n",
      "\u001b[0;31mValueError\u001b[0m                                Traceback (most recent call last)",
      "\u001b[0;32m<ipython-input-71-79d113fd92f9>\u001b[0m in \u001b[0;36m<module>\u001b[0;34m()\u001b[0m\n\u001b[1;32m      1\u001b[0m pd.read_csv(runner.path/datnames['flux'], sep=r'\\s+', \n\u001b[0;32m----> 2\u001b[0;31m             dtype={'level':np.int32, 'g':np.int32, 'pressure':np.float64, 'wgt_flux':np.float64, 'crd_flux':np.float64})\n\u001b[0m",
      "\u001b[0;32m~/anaconda3/lib/python3.6/site-packages/pandas/io/parsers.py\u001b[0m in \u001b[0;36mparser_f\u001b[0;34m(filepath_or_buffer, sep, delimiter, header, names, index_col, usecols, squeeze, prefix, mangle_dupe_cols, dtype, engine, converters, true_values, false_values, skipinitialspace, skiprows, nrows, na_values, keep_default_na, na_filter, verbose, skip_blank_lines, parse_dates, infer_datetime_format, keep_date_col, date_parser, dayfirst, iterator, chunksize, compression, thousands, decimal, lineterminator, quotechar, quoting, escapechar, comment, encoding, dialect, tupleize_cols, error_bad_lines, warn_bad_lines, skipfooter, doublequote, delim_whitespace, low_memory, memory_map, float_precision)\u001b[0m\n\u001b[1;32m    676\u001b[0m                     skip_blank_lines=skip_blank_lines)\n\u001b[1;32m    677\u001b[0m \u001b[0;34m\u001b[0m\u001b[0m\n\u001b[0;32m--> 678\u001b[0;31m         \u001b[0;32mreturn\u001b[0m \u001b[0m_read\u001b[0m\u001b[0;34m(\u001b[0m\u001b[0mfilepath_or_buffer\u001b[0m\u001b[0;34m,\u001b[0m \u001b[0mkwds\u001b[0m\u001b[0;34m)\u001b[0m\u001b[0;34m\u001b[0m\u001b[0;34m\u001b[0m\u001b[0m\n\u001b[0m\u001b[1;32m    679\u001b[0m \u001b[0;34m\u001b[0m\u001b[0m\n\u001b[1;32m    680\u001b[0m     \u001b[0mparser_f\u001b[0m\u001b[0;34m.\u001b[0m\u001b[0m__name__\u001b[0m \u001b[0;34m=\u001b[0m \u001b[0mname\u001b[0m\u001b[0;34m\u001b[0m\u001b[0;34m\u001b[0m\u001b[0m\n",
      "\u001b[0;32m~/anaconda3/lib/python3.6/site-packages/pandas/io/parsers.py\u001b[0m in \u001b[0;36m_read\u001b[0;34m(filepath_or_buffer, kwds)\u001b[0m\n\u001b[1;32m    444\u001b[0m \u001b[0;34m\u001b[0m\u001b[0m\n\u001b[1;32m    445\u001b[0m     \u001b[0;32mtry\u001b[0m\u001b[0;34m:\u001b[0m\u001b[0;34m\u001b[0m\u001b[0;34m\u001b[0m\u001b[0m\n\u001b[0;32m--> 446\u001b[0;31m         \u001b[0mdata\u001b[0m \u001b[0;34m=\u001b[0m \u001b[0mparser\u001b[0m\u001b[0;34m.\u001b[0m\u001b[0mread\u001b[0m\u001b[0;34m(\u001b[0m\u001b[0mnrows\u001b[0m\u001b[0;34m)\u001b[0m\u001b[0;34m\u001b[0m\u001b[0;34m\u001b[0m\u001b[0m\n\u001b[0m\u001b[1;32m    447\u001b[0m     \u001b[0;32mfinally\u001b[0m\u001b[0;34m:\u001b[0m\u001b[0;34m\u001b[0m\u001b[0;34m\u001b[0m\u001b[0m\n\u001b[1;32m    448\u001b[0m         \u001b[0mparser\u001b[0m\u001b[0;34m.\u001b[0m\u001b[0mclose\u001b[0m\u001b[0;34m(\u001b[0m\u001b[0;34m)\u001b[0m\u001b[0;34m\u001b[0m\u001b[0;34m\u001b[0m\u001b[0m\n",
      "\u001b[0;32m~/anaconda3/lib/python3.6/site-packages/pandas/io/parsers.py\u001b[0m in \u001b[0;36mread\u001b[0;34m(self, nrows)\u001b[0m\n\u001b[1;32m   1034\u001b[0m                 \u001b[0;32mraise\u001b[0m \u001b[0mValueError\u001b[0m\u001b[0;34m(\u001b[0m\u001b[0;34m'skipfooter not supported for iteration'\u001b[0m\u001b[0;34m)\u001b[0m\u001b[0;34m\u001b[0m\u001b[0;34m\u001b[0m\u001b[0m\n\u001b[1;32m   1035\u001b[0m \u001b[0;34m\u001b[0m\u001b[0m\n\u001b[0;32m-> 1036\u001b[0;31m         \u001b[0mret\u001b[0m \u001b[0;34m=\u001b[0m \u001b[0mself\u001b[0m\u001b[0;34m.\u001b[0m\u001b[0m_engine\u001b[0m\u001b[0;34m.\u001b[0m\u001b[0mread\u001b[0m\u001b[0;34m(\u001b[0m\u001b[0mnrows\u001b[0m\u001b[0;34m)\u001b[0m\u001b[0;34m\u001b[0m\u001b[0;34m\u001b[0m\u001b[0m\n\u001b[0m\u001b[1;32m   1037\u001b[0m \u001b[0;34m\u001b[0m\u001b[0m\n\u001b[1;32m   1038\u001b[0m         \u001b[0;31m# May alter columns / col_dict\u001b[0m\u001b[0;34m\u001b[0m\u001b[0;34m\u001b[0m\u001b[0;34m\u001b[0m\u001b[0m\n",
      "\u001b[0;32m~/anaconda3/lib/python3.6/site-packages/pandas/io/parsers.py\u001b[0m in \u001b[0;36mread\u001b[0;34m(self, nrows)\u001b[0m\n\u001b[1;32m   1846\u001b[0m     \u001b[0;32mdef\u001b[0m \u001b[0mread\u001b[0m\u001b[0;34m(\u001b[0m\u001b[0mself\u001b[0m\u001b[0;34m,\u001b[0m \u001b[0mnrows\u001b[0m\u001b[0;34m=\u001b[0m\u001b[0;32mNone\u001b[0m\u001b[0;34m)\u001b[0m\u001b[0;34m:\u001b[0m\u001b[0;34m\u001b[0m\u001b[0;34m\u001b[0m\u001b[0m\n\u001b[1;32m   1847\u001b[0m         \u001b[0;32mtry\u001b[0m\u001b[0;34m:\u001b[0m\u001b[0;34m\u001b[0m\u001b[0;34m\u001b[0m\u001b[0m\n\u001b[0;32m-> 1848\u001b[0;31m             \u001b[0mdata\u001b[0m \u001b[0;34m=\u001b[0m \u001b[0mself\u001b[0m\u001b[0;34m.\u001b[0m\u001b[0m_reader\u001b[0m\u001b[0;34m.\u001b[0m\u001b[0mread\u001b[0m\u001b[0;34m(\u001b[0m\u001b[0mnrows\u001b[0m\u001b[0;34m)\u001b[0m\u001b[0;34m\u001b[0m\u001b[0;34m\u001b[0m\u001b[0m\n\u001b[0m\u001b[1;32m   1849\u001b[0m         \u001b[0;32mexcept\u001b[0m \u001b[0mStopIteration\u001b[0m\u001b[0;34m:\u001b[0m\u001b[0;34m\u001b[0m\u001b[0;34m\u001b[0m\u001b[0m\n\u001b[1;32m   1850\u001b[0m             \u001b[0;32mif\u001b[0m \u001b[0mself\u001b[0m\u001b[0;34m.\u001b[0m\u001b[0m_first_chunk\u001b[0m\u001b[0;34m:\u001b[0m\u001b[0;34m\u001b[0m\u001b[0;34m\u001b[0m\u001b[0m\n",
      "\u001b[0;32mpandas/_libs/parsers.pyx\u001b[0m in \u001b[0;36mpandas._libs.parsers.TextReader.read\u001b[0;34m()\u001b[0m\n",
      "\u001b[0;32mpandas/_libs/parsers.pyx\u001b[0m in \u001b[0;36mpandas._libs.parsers.TextReader._read_low_memory\u001b[0;34m()\u001b[0m\n",
      "\u001b[0;32mpandas/_libs/parsers.pyx\u001b[0m in \u001b[0;36mpandas._libs.parsers.TextReader._read_rows\u001b[0;34m()\u001b[0m\n",
      "\u001b[0;32mpandas/_libs/parsers.pyx\u001b[0m in \u001b[0;36mpandas._libs.parsers.TextReader._convert_column_data\u001b[0;34m()\u001b[0m\n",
      "\u001b[0;32mpandas/_libs/parsers.pyx\u001b[0m in \u001b[0;36mpandas._libs.parsers.TextReader._convert_tokens\u001b[0;34m()\u001b[0m\n",
      "\u001b[0;31mValueError\u001b[0m: could not convert string to float: '0.41554722-111'"
     ]
    }
   ],
   "source": [
    "pd.read_csv(runner.path/datnames['flux'], sep=r'\\s+', \n",
    "            dtype={'level':np.int32, 'g':np.int32, 'pressure':np.float64, 'wgt_flux':np.float64, 'crd_flux':np.float64})"
   ]
  },
  {
   "cell_type": "code",
   "execution_count": 56,
   "metadata": {},
   "outputs": [
    {
     "data": {
      "text/plain": [
       "<xarray.Dataset>\n",
       "Dimensions:   (g: 10, pressure: 75)\n",
       "Coordinates:\n",
       "  * pressure  (pressure) float64 0.0003122 0.0007501 ... 977.3 1.001e+03\n",
       "  * g         (g) int64 1 2 3 4 5 6 7 8 9 10\n",
       "Data variables:\n",
       "    crd_heat  (pressure, g) object '0.50732726E-01' ... '0.94231110E-01'"
      ]
     },
     "execution_count": 56,
     "metadata": {},
     "output_type": "execute_result"
    }
   ],
   "source": [
    "df = pd.read_csv(runner.path/datnames['flux'], sep=r'\\s+')\n",
    "df.drop(['level'], axis=1, inplace=True)\n",
    "df.set_index(['pressure', 'g'], inplace=True)\n",
    "xr.Dataset.from_dataframe(df[['wgt_flux']])\n",
    "xr.Dataset.from_dataframe(df[['crd_flux']])\n",
    "\n",
    "df = pd.read_csv(runner.path/datnames['heat'], sep=r'\\s+')\n",
    "df.drop(['layer'], axis=1, inplace=True)\n",
    "df.set_index(['pressure', 'g'], inplace=True)\n",
    "xr.Dataset.from_dataframe(df[['wgt_heat']])\n",
    "ds = xr.Dataset.from_dataframe(df[['crd_heat']])\n",
    "\n",
    "ds#.rename({'crd_heat':'heatrg'})"
   ]
  },
  {
   "cell_type": "code",
   "execution_count": 73,
   "metadata": {
    "collapsed": true
   },
   "outputs": [],
   "source": [
    "#export\n",
    "class LBLnewBestfitSWModelData():\n",
    "    def __init__(self, param, wgt_flux, wgt_heat, crd_flux, crd_heat):\n",
    "        self.param = param\n",
    "        self.wgt_flux, self.wgt_heat = wgt_flux, wgt_heat\n",
    "        self.crd_flux, self.crd_heat = crd_flux, crd_heat\n",
    "\n",
    "    @classmethod\n",
    "    def from_runner(cls, runner):\n",
    "        df = pd.read_csv(runner.path/'output_flux.dat', sep=r'\\s+')\n",
    "        df.drop(['level'], axis=1, inplace=True)\n",
    "        df.set_index(['pressure', 'g'], inplace=True)\n",
    "        wgt_flux = xr.Dataset.from_dataframe(df[['wgt_flux']]).rename({'wgt_flux':'fldg'})\n",
    "        crd_flux = xr.Dataset.from_dataframe(df[['crd_flux']]).rename({'crd_flux':'fldg'})\n",
    "        \n",
    "        df = pd.read_csv(runner.path/'output_heat.dat', sep=r'\\s+')\n",
    "        df.drop(['layer'], axis=1, inplace=True)\n",
    "        df.set_index(['pressure', 'g'], inplace=True)\n",
    "        wgt_heat = xr.Dataset.from_dataframe(df[['wgt_heat']]).rename({'wgt_heat':'heatrg'})\n",
    "        crd_heat = xr.Dataset.from_dataframe(df[['crd_heat']]).rename({'crd_heat':'heatrg'})\n",
    "        return cls(runner.param, wgt_flux, wgt_heat, crd_flux, crd_heat)\n",
    "         \n",
    "    def from_mongodoc(self, doc):\n",
    "        pass"
   ]
  },
  {
   "cell_type": "code",
   "execution_count": 74,
   "metadata": {},
   "outputs": [],
   "source": [
    "md = LBLnewBestfitSWModelData.from_runner(runner)"
   ]
  },
  {
   "cell_type": "code",
   "execution_count": 59,
   "metadata": {},
   "outputs": [
    {
     "data": {
      "text/plain": [
       "<xarray.Dataset>\n",
       "Dimensions:   (g: 10, pressure: 76)\n",
       "Coordinates:\n",
       "  * pressure  (pressure) float64 0.0 0.0006244 0.0008759 ... 989.2 1.013e+03\n",
       "  * g         (g) int64 1 2 3 4 5 6 7 8 9 10\n",
       "Data variables:\n",
       "    fldg      (pressure, g) object '0.52501509E-01' ... '0.28300473E+02'"
      ]
     },
     "execution_count": 59,
     "metadata": {},
     "output_type": "execute_result"
    }
   ],
   "source": [
    "md.wgt_flux"
   ]
  },
  {
   "cell_type": "code",
   "execution_count": 60,
   "metadata": {},
   "outputs": [
    {
     "data": {
      "text/plain": [
       "<xarray.Dataset>\n",
       "Dimensions:   (g: 10, pressure: 76)\n",
       "Coordinates:\n",
       "  * pressure  (pressure) float64 0.0 0.0006244 0.0008759 ... 989.2 1.013e+03\n",
       "  * g         (g) int64 1 2 3 4 5 6 7 8 9 10\n",
       "Data variables:\n",
       "    fldg      (pressure, g) object '0.52501509E-01' ... '0.28550905E+02'"
      ]
     },
     "execution_count": 60,
     "metadata": {},
     "output_type": "execute_result"
    }
   ],
   "source": [
    "md.crd_flux"
   ]
  },
  {
   "cell_type": "code",
   "execution_count": 61,
   "metadata": {},
   "outputs": [
    {
     "data": {
      "text/plain": [
       "<xarray.Dataset>\n",
       "Dimensions:   (g: 10, pressure: 75)\n",
       "Coordinates:\n",
       "  * pressure  (pressure) float64 0.0003122 0.0007501 ... 977.3 1.001e+03\n",
       "  * g         (g) int64 1 2 3 4 5 6 7 8 9 10\n",
       "Data variables:\n",
       "    heatrg    (pressure, g) object '0.48709283E-01' ... '0.11687957E+00'"
      ]
     },
     "execution_count": 61,
     "metadata": {},
     "output_type": "execute_result"
    }
   ],
   "source": [
    "md.wgt_heat"
   ]
  },
  {
   "cell_type": "code",
   "execution_count": 62,
   "metadata": {},
   "outputs": [
    {
     "data": {
      "text/plain": [
       "<xarray.Dataset>\n",
       "Dimensions:   (g: 10, pressure: 75)\n",
       "Coordinates:\n",
       "  * pressure  (pressure) float64 0.0003122 0.0007501 ... 977.3 1.001e+03\n",
       "  * g         (g) int64 1 2 3 4 5 6 7 8 9 10\n",
       "Data variables:\n",
       "    heatrg    (pressure, g) object '0.50732726E-01' ... '0.94231110E-01'"
      ]
     },
     "execution_count": 62,
     "metadata": {},
     "output_type": "execute_result"
    }
   ],
   "source": [
    "md.crd_heat"
   ]
  },
  {
   "cell_type": "code",
   "execution_count": null,
   "metadata": {
    "collapsed": true
   },
   "outputs": [],
   "source": []
  },
  {
   "cell_type": "markdown",
   "metadata": {},
   "source": [
    "# Export notebook"
   ]
  },
  {
   "cell_type": "code",
   "execution_count": 75,
   "metadata": {},
   "outputs": [
    {
     "name": "stdout",
     "output_type": "stream",
     "text": [
      "Converted 04_modeldata.ipynb to exp/nb_04.py\r\n"
     ]
    }
   ],
   "source": [
    "! python notebook2script.py 04_modeldata.ipynb"
   ]
  },
  {
   "cell_type": "markdown",
   "metadata": {},
   "source": [
    "# fin"
   ]
  },
  {
   "cell_type": "code",
   "execution_count": 162,
   "metadata": {},
   "outputs": [
    {
     "data": {
      "text/plain": [
       "(0.697676326071031, 0.30119421191220214)"
      ]
     },
     "execution_count": 162,
     "metadata": {},
     "output_type": "execute_result"
    }
   ],
   "source": [
    "np.exp(-0.36), np.exp(-1.2)"
   ]
  },
  {
   "cell_type": "code",
   "execution_count": null,
   "metadata": {
    "collapsed": true
   },
   "outputs": [],
   "source": []
  }
 ],
 "metadata": {
  "kernelspec": {
   "display_name": "Python 3",
   "language": "python",
   "name": "python3"
  },
  "language_info": {
   "codemirror_mode": {
    "name": "ipython",
    "version": 3
   },
   "file_extension": ".py",
   "mimetype": "text/x-python",
   "name": "python",
   "nbconvert_exporter": "python",
   "pygments_lexer": "ipython3",
   "version": "3.6.7"
  }
 },
 "nbformat": 4,
 "nbformat_minor": 2
}

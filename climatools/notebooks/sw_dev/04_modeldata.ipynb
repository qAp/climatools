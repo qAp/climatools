{
 "cells": [
  {
   "cell_type": "markdown",
   "metadata": {},
   "source": [
    "# Model Data"
   ]
  },
  {
   "cell_type": "code",
   "execution_count": 124,
   "metadata": {
    "collapsed": true
   },
   "outputs": [],
   "source": [
    "%reload_ext autoreload\n",
    "%autoreload 2"
   ]
  },
  {
   "cell_type": "code",
   "execution_count": 156,
   "metadata": {
    "collapsed": true
   },
   "outputs": [],
   "source": [
    "from pymongo import *\n",
    "from exp.nb_00 import *\n",
    "from exp.nb_01 import *\n",
    "from exp.nb_02 import *"
   ]
  },
  {
   "cell_type": "code",
   "execution_count": 126,
   "metadata": {
    "collapsed": true
   },
   "outputs": [],
   "source": [
    "client = MongoClient(host='localhost', port=27017)"
   ]
  },
  {
   "cell_type": "markdown",
   "metadata": {},
   "source": [
    "# lblnew-bestfit-sw model data  \n",
    "Here we try to define a class that will represent data associated with lblnew-bestfit-sw."
   ]
  },
  {
   "cell_type": "markdown",
   "metadata": {},
   "source": [
    "## lblnew-bestfit-lw model data's structure\n",
    "\n",
    "We review lblnew-bestfit-lw model data's structure here, and will try to use as similar a structure for lblnew-bestfit-sw."
   ]
  },
  {
   "cell_type": "code",
   "execution_count": 127,
   "metadata": {
    "collapsed": true
   },
   "outputs": [],
   "source": [
    "from climatools.dataset import *"
   ]
  },
  {
   "cell_type": "code",
   "execution_count": 128,
   "metadata": {},
   "outputs": [
    {
     "data": {
      "text/plain": [
       "['admin', 'cliradnew', 'config', 'lblnew', 'local']"
      ]
     },
     "execution_count": 128,
     "metadata": {},
     "output_type": "execute_result"
    }
   ],
   "source": [
    "client.database_names()"
   ]
  },
  {
   "cell_type": "code",
   "execution_count": 129,
   "metadata": {},
   "outputs": [
    {
     "data": {
      "text/plain": [
       "(['overlap_lw', 'bestfit_lw'], ['lw'])"
      ]
     },
     "execution_count": 129,
     "metadata": {},
     "output_type": "execute_result"
    }
   ],
   "source": [
    "client.lblnew.collection_names(), client.cliradnew.collection_names()"
   ]
  },
  {
   "cell_type": "code",
   "execution_count": 130,
   "metadata": {},
   "outputs": [],
   "source": [
    "doc = client.lblnew.bestfit_lw.find_one()\n",
    "md = LBLnewBestfitModelData.from_mongodoc(doc)"
   ]
  },
  {
   "cell_type": "code",
   "execution_count": 131,
   "metadata": {},
   "outputs": [
    {
     "data": {
      "text/plain": [
       "dict_keys(['dgdgs', 'abscom', 'param', 'wgt_flux', 'wgt_cool', 'crd_flux', 'crd_cool'])"
      ]
     },
     "execution_count": 131,
     "metadata": {},
     "output_type": "execute_result"
    }
   ],
   "source": [
    "vars(md).keys()"
   ]
  },
  {
   "cell_type": "code",
   "execution_count": 132,
   "metadata": {},
   "outputs": [
    {
     "name": "stdout",
     "output_type": "stream",
     "text": [
      "lblnew-bestfit-lw output dimensions\n"
     ]
    },
    {
     "data": {
      "text/plain": [
       "(Frozen(SortedKeysDict({'pressure': 76, 'igg': 10, 'g': 9})),\n",
       " Frozen(SortedKeysDict({'pressure': 75, 'igg': 10, 'g': 9})),\n",
       " Frozen(SortedKeysDict({'pressure': 76, 'g': 9})),\n",
       " Frozen(SortedKeysDict({'pressure': 75, 'g': 9})))"
      ]
     },
     "execution_count": 132,
     "metadata": {},
     "output_type": "execute_result"
    }
   ],
   "source": [
    "print('lblnew-bestfit-lw output dimensions')\n",
    "md.wgt_flux.dims, md.wgt_cool.dims, md.crd_flux.dims, md.crd_cool.dims"
   ]
  },
  {
   "cell_type": "code",
   "execution_count": 133,
   "metadata": {},
   "outputs": [
    {
     "name": "stdout",
     "output_type": "stream",
     "text": [
      "Flux data\n",
      "----------------------------------------\n",
      "wgt\n",
      "Data variables:\n",
      "    flug     (pressure, igg, g) float64 -0.01002 -0.03926 ... -8.293 -13.63\n",
      "    fldg     (pressure, igg, g) float64 0.0 0.0 0.0 0.0 ... 9.244 4.633 1.224\n",
      "    fnetg    (pressure, igg, g) float64 -0.01002 -0.03926 ... -3.66 -12.41\n",
      "----------------------------------------\n",
      "crd\n",
      "Data variables:\n",
      "    flug     (pressure, g) float64 -0.01029 -0.03859 -0.164 ... -8.268 -13.4\n",
      "    fldg     (pressure, g) float64 0.0 0.0 0.0 0.0 ... 2.328 9.234 4.48 1.215\n",
      "    fnetg    (pressure, g) float64 -0.01029 -0.03859 -0.164 ... -3.788 -12.19\n"
     ]
    }
   ],
   "source": [
    "print('Flux data')\n",
    "print(40 * '-')\n",
    "print('wgt')\n",
    "print(md.wgt_flux.data_vars)\n",
    "print(40 * '-')\n",
    "print('crd')\n",
    "print(md.crd_flux.data_vars)"
   ]
  },
  {
   "cell_type": "code",
   "execution_count": 134,
   "metadata": {},
   "outputs": [
    {
     "name": "stdout",
     "output_type": "stream",
     "text": [
      "Cool data\n",
      "----------------------------------------\n",
      "wgt\n",
      "Data variables:\n",
      "    coolrg   (pressure, igg, g) float64 0.8167 -0.004995 ... 0.07284 0.03006\n",
      "----------------------------------------\n",
      "crd\n",
      "Data variables:\n",
      "    coolrg   (pressure, g) float64 0.8949 0.01439 -0.004269 ... 0.06004 0.02779\n"
     ]
    }
   ],
   "source": [
    "print('Cool data')\n",
    "print(40 * '-')\n",
    "print('wgt')\n",
    "print(md.wgt_cool.data_vars)\n",
    "print(40 * '-')\n",
    "print('crd')\n",
    "print(md.crd_cool.data_vars)"
   ]
  },
  {
   "cell_type": "code",
   "execution_count": null,
   "metadata": {
    "collapsed": true
   },
   "outputs": [],
   "source": []
  },
  {
   "cell_type": "code",
   "execution_count": null,
   "metadata": {
    "collapsed": true
   },
   "outputs": [],
   "source": []
  },
  {
   "cell_type": "code",
   "execution_count": null,
   "metadata": {
    "collapsed": true
   },
   "outputs": [],
   "source": []
  },
  {
   "cell_type": "markdown",
   "metadata": {},
   "source": [
    "### lblnew-bestfit-sw's fort* output files  \n",
    "How the output data are organised in the various \"fort\" files in the current lblnew-bestfit-sw.  At the moment the output fort.\\* files give absolutly no indication of the dimensions, so we will need to refer the the ones already figured out in \"analysis_-_lblnew-bestfit-sw.ipynb\"."
   ]
  },
  {
   "cell_type": "code",
   "execution_count": 135,
   "metadata": {
    "collapsed": true
   },
   "outputs": [],
   "source": [
    "param0 = LBLnewBestfitSWParam(band=9, vmin=8200, vmax=14290, nv=10000, dv=0.001,\n",
    "                     molecule='h2o', conc='atmpro',\n",
    "                     ref_pts=[(30, 250), (300, 250)], ng_refs=[3, 9], ng_adju=[-3, 0],\n",
    "                     wgt=[(.95, .9, .6, .5), (.55, .55, .55, .65, .65, .7, .8, .9)],\n",
    "                     cosz=.2588, rsfc=0,\n",
    "                     klin=3e-25,\n",
    "                     option_k_lookup=0,\n",
    "                     atmpro='trp',\n",
    "                     commitnumber='79f2292')"
   ]
  },
  {
   "cell_type": "code",
   "execution_count": 136,
   "metadata": {},
   "outputs": [],
   "source": [
    "path = PATH_ANALYSIS/'/'.join(sorted(f'{n}_{v}' for n, v in vars(param0).items()))\n",
    "runner = LBLnewBestfitSWRun(path=path, param=param0)"
   ]
  },
  {
   "cell_type": "code",
   "execution_count": 137,
   "metadata": {},
   "outputs": [
    {
     "data": {
      "text/plain": [
       "[9, 10, 400, 401, 402, 403]"
      ]
     },
     "execution_count": 137,
     "metadata": {},
     "output_type": "execute_result"
    }
   ],
   "source": [
    "fids = sorted([401, 400, 10, 402, 403, 9, ])\n",
    "fids"
   ]
  },
  {
   "cell_type": "code",
   "execution_count": 151,
   "metadata": {},
   "outputs": [
    {
     "name": "stdout",
     "output_type": "stream",
     "text": [
      "crd heating rate for each g.\n"
     ]
    },
    {
     "data": {
      "text/plain": [
       "<xarray.Dataset>\n",
       "Dimensions:   (g: 12, pressure: 75)\n",
       "Coordinates:\n",
       "  * pressure  (pressure) float64 0.0003 0.0008 0.0011 ... 953.6 977.3 1.001e+03\n",
       "  * g         (g) int64 1 2 3 4 5 6 7 8 9 10 11 12\n",
       "Data variables:\n",
       "    0         (pressure, g) float64 0.002636 0.001432 ... 0.1543 0.1532"
      ]
     },
     "execution_count": 151,
     "metadata": {},
     "output_type": "execute_result"
    }
   ],
   "source": [
    "heat = pd.read_csv(runner.path/'fort.401', header=None, sep=r'\\s+')\n",
    "heat.set_index(0, inplace=True)\n",
    "heat.index.names = ['pressure']\n",
    "heat.columns.names = ['g']\n",
    "\n",
    "print('crd heating rate for each g.')\n",
    "xr.Dataset.from_dataframe(pd.DataFrame(heat.stack()))\n",
    "#xr.Dataset.from_dataframe(heat.stack())"
   ]
  },
  {
   "cell_type": "code",
   "execution_count": 150,
   "metadata": {},
   "outputs": [
    {
     "name": "stdout",
     "output_type": "stream",
     "text": [
      "wgt heating rate for each g\n"
     ]
    },
    {
     "data": {
      "text/plain": [
       "<xarray.Dataset>\n",
       "Dimensions:   (g: 12, pressure: 75)\n",
       "Coordinates:\n",
       "  * pressure  (pressure) float64 0.0003 0.0008 0.0011 ... 953.6 977.3 1.001e+03\n",
       "  * g         (g) int64 1 2 3 4 5 6 7 8 9 10 11 12\n",
       "Data variables:\n",
       "    0         (pressure, g) float64 0.002602 0.001383 ... 0.1645 0.1584"
      ]
     },
     "execution_count": 150,
     "metadata": {},
     "output_type": "execute_result"
    }
   ],
   "source": [
    "heatg = pd.read_csv(runner.path/'fort.400', header=None, sep=r'\\s+')\n",
    "heatg.set_index(0, inplace=True)\n",
    "heatg.index.names = ['pressure']\n",
    "heatg.columns.names = ['g']\n",
    "\n",
    "print('wgt heating rate for each g')\n",
    "xr.Dataset.from_dataframe(pd.DataFrame(heatg.stack()))"
   ]
  },
  {
   "cell_type": "code",
   "execution_count": 148,
   "metadata": {},
   "outputs": [
    {
     "name": "stdout",
     "output_type": "stream",
     "text": [
      "bands-total heating rate\n"
     ]
    },
    {
     "data": {
      "text/plain": [
       "<xarray.Dataset>\n",
       "Dimensions:   (pressure: 75)\n",
       "Coordinates:\n",
       "  * pressure  (pressure) float64 0.0003 0.0008 0.0011 ... 953.6 977.3 1.001e+03\n",
       "Data variables:\n",
       "    CRD       (pressure) float64 0.0052 0.0052 0.0052 ... 0.4694 0.4592 0.451\n",
       "    WGT       (pressure) float64 0.00491 0.00491 0.00491 ... 0.4889 0.481 0.4755"
      ]
     },
     "execution_count": 148,
     "metadata": {},
     "output_type": "execute_result"
    }
   ],
   "source": [
    "heat = pd.read_csv(runner.path/'fort.10', sep=r'\\s+', header=None)\n",
    "heat.set_index(0, inplace=True)\n",
    "heat.index.names = ['pressure']\n",
    "heat.columns = ['CRD', 'WGT']\n",
    "\n",
    "print('bands-total heating rate')\n",
    "xr.Dataset.from_dataframe(heat)"
   ]
  },
  {
   "cell_type": "code",
   "execution_count": 109,
   "metadata": {
    "collapsed": true
   },
   "outputs": [],
   "source": [
    "def load_flux(fpath=None, name=None):\n",
    "    '''\n",
    "    Return flux for each g-group, either calculated by line-by-line (fort.403), \n",
    "    or by clirad-sw (fort.402), in a xarray.DataArray.\n",
    "    '''\n",
    "    df = pd.read_csv(fpath, sep=r'\\s+', header=None)\n",
    "    df.set_index(0, inplace=True)\n",
    "    df.index.names = ['pressure']\n",
    "    df.columns.names = ['g']\n",
    "    da = xr.DataArray(df)\n",
    "    da.name = name\n",
    "    return da"
   ]
  },
  {
   "cell_type": "code",
   "execution_count": 152,
   "metadata": {},
   "outputs": [
    {
     "name": "stdout",
     "output_type": "stream",
     "text": [
      "flux for each g\n"
     ]
    },
    {
     "data": {
      "text/plain": [
       "<xarray.Dataset>\n",
       "Dimensions:   (g: 12, pressure: 75)\n",
       "Coordinates:\n",
       "  * pressure  (pressure) float64 0.0003 0.0008 0.0011 ... 953.6 977.3 1.001e+03\n",
       "  * g         (g) int64 1 2 3 4 5 6 7 8 9 10 11 12\n",
       "Data variables:\n",
       "    WGT       (pressure, g) float64 0.03367 0.1235 0.4602 ... 2.388 7.304 71.04\n",
       "    CRD       (pressure, g) float64 0.03367 0.1235 0.4602 ... 2.635 7.301 70.89"
      ]
     },
     "execution_count": 152,
     "metadata": {},
     "output_type": "execute_result"
    }
   ],
   "source": [
    "dwgt = load_flux(fpath=runner.path/'fort.402', name='WGT')\n",
    "dcrd = load_flux(fpath=runner.path/'fort.403', name='CRD')\n",
    "ds = xr.Dataset()\n",
    "ds[dwgt.name] = dwgt\n",
    "ds[dcrd.name] = dcrd\n",
    "\n",
    "print('flux for each g')\n",
    "ds"
   ]
  },
  {
   "cell_type": "code",
   "execution_count": 155,
   "metadata": {},
   "outputs": [
    {
     "name": "stdout",
     "output_type": "stream",
     "text": [
      "bands-total flux. crd and wgt.\n"
     ]
    },
    {
     "data": {
      "text/plain": [
       "<xarray.Dataset>\n",
       "Dimensions:   (pressure: 76)\n",
       "Coordinates:\n",
       "  * pressure  (pressure) float64 0.0 0.0006 0.0009 ... 965.5 989.2 1.013e+03\n",
       "Data variables:\n",
       "    CRD       (pressure) float64 114.5 114.5 114.5 114.5 ... 82.53 81.24 79.97\n",
       "    WGT       (pressure) float64 114.5 114.5 114.5 114.5 ... 82.23 80.87 79.54"
      ]
     },
     "execution_count": 155,
     "metadata": {},
     "output_type": "execute_result"
    }
   ],
   "source": [
    "flux = pd.read_csv(runner.path/'fort.9', sep=r'\\s+', skiprows=2, header=None)\n",
    "flux.set_index(0, inplace=True)\n",
    "flux.index.names = ['pressure']\n",
    "flux.columns = ['CRD', 'WGT']\n",
    "\n",
    "print('bands-total flux. crd and wgt.')\n",
    "xr.Dataset.from_dataframe(flux)"
   ]
  },
  {
   "cell_type": "code",
   "execution_count": null,
   "metadata": {
    "collapsed": true
   },
   "outputs": [],
   "source": []
  },
  {
   "cell_type": "code",
   "execution_count": null,
   "metadata": {
    "collapsed": true
   },
   "outputs": [],
   "source": []
  },
  {
   "cell_type": "code",
   "execution_count": null,
   "metadata": {
    "collapsed": true
   },
   "outputs": [],
   "source": []
  },
  {
   "cell_type": "markdown",
   "metadata": {},
   "source": [
    "# Export notebook"
   ]
  },
  {
   "cell_type": "code",
   "execution_count": null,
   "metadata": {
    "collapsed": true
   },
   "outputs": [],
   "source": [
    "! python notebook2script.py 04_modeldata.ipynb"
   ]
  },
  {
   "cell_type": "markdown",
   "metadata": {},
   "source": [
    "# fin"
   ]
  },
  {
   "cell_type": "code",
   "execution_count": 162,
   "metadata": {},
   "outputs": [
    {
     "data": {
      "text/plain": [
       "(0.697676326071031, 0.30119421191220214)"
      ]
     },
     "execution_count": 162,
     "metadata": {},
     "output_type": "execute_result"
    }
   ],
   "source": [
    "np.exp(-0.36), np.exp(-1.2)"
   ]
  },
  {
   "cell_type": "code",
   "execution_count": null,
   "metadata": {
    "collapsed": true
   },
   "outputs": [],
   "source": []
  }
 ],
 "metadata": {
  "kernelspec": {
   "display_name": "Python 3",
   "language": "python",
   "name": "python3"
  },
  "language_info": {
   "codemirror_mode": {
    "name": "ipython",
    "version": 3
   },
   "file_extension": ".py",
   "mimetype": "text/x-python",
   "name": "python",
   "nbconvert_exporter": "python",
   "pygments_lexer": "ipython3",
   "version": "3.6.7"
  }
 },
 "nbformat": 4,
 "nbformat_minor": 2
}

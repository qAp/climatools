{
 "cells": [
  {
   "cell_type": "code",
   "execution_count": 135,
   "metadata": {
    "collapsed": true
   },
   "outputs": [],
   "source": [
    "%reload_ext autoreload\n",
    "%autoreload 2\n",
    "%matplotlib inline\n",
    "from pathlib import *\n",
    "from pymongo import *\n",
    "\n",
    "from exp.nb_00 import *\n",
    "from exp.nb_01 import *\n",
    "from exp.nb_02 import *\n",
    "from exp.nb_03 import *"
   ]
  },
  {
   "cell_type": "markdown",
   "metadata": {},
   "source": [
    "## Define your parameters here"
   ]
  },
  {
   "cell_type": "code",
   "execution_count": 141,
   "metadata": {},
   "outputs": [],
   "source": [
    "param0 = LBLnewBestfitSWParam(band=9, vmin=8200, vmax=14290, nv=10000, dv=0.001,\n",
    "                     molecule='h2o', conc='atmpro',\n",
    "                     ref_pts=[(30, 250), (300, 250)], ng_refs=[3, 9], ng_adju=[-3, 0],\n",
    "                     wgt=[(.95, .9, .6, .5), (.55, .55, .55, .65, .65, .7, .8, .9)],\n",
    "                     cosz=.2588, rsfc=0,\n",
    "                     klin=3e-25,\n",
    "                     option_k_lookup=0,\n",
    "                     atmpro='trp',\n",
    "                     commitnumber='79f2292')"
   ]
  },
  {
   "cell_type": "code",
   "execution_count": 142,
   "metadata": {
    "collapsed": true
   },
   "outputs": [],
   "source": [
    "acs = [('saw', 1), ('trp', 0.2588)]\n",
    "\n",
    "params = []\n",
    "for atmpro, cosz in acs:\n",
    "    dparam = vars(param0)\n",
    "    dparam['atmpro'] = atmpro\n",
    "    dparam['cosz'] = cosz\n",
    "    params.append(LBLnewBestfitSWParam(**dparam))"
   ]
  },
  {
   "cell_type": "code",
   "execution_count": 143,
   "metadata": {},
   "outputs": [
    {
     "data": {
      "text/plain": [
       "[<class 'exp.nb_00.LBLnewBestfitSWParam'>\n",
       " {'dv': 0.001, 'nv': 10000, 'commitnumber': '79f2292', 'band': 9, 'molecule': 'h2o', 'atmpro': 'saw', 'tsfc': None, 'vmin': 8200, 'vmax': 14290, 'conc': 'atmpro', 'ref_pts': [(30, 250), (300, 250)], 'ng_refs': [3, 9], 'ng_adju': [-3, 0], 'wgt': [(0.95, 0.9, 0.6, 0.5), (0.55, 0.55, 0.55, 0.65, 0.65, 0.7, 0.8, 0.9)], 'cosz': 1, 'rsfc': 0, 'klin': 3e-25, 'option_k_lookup': 0},\n",
       " <class 'exp.nb_00.LBLnewBestfitSWParam'>\n",
       " {'dv': 0.001, 'nv': 10000, 'commitnumber': '79f2292', 'band': 9, 'molecule': 'h2o', 'atmpro': 'trp', 'tsfc': None, 'vmin': 8200, 'vmax': 14290, 'conc': 'atmpro', 'ref_pts': [(30, 250), (300, 250)], 'ng_refs': [3, 9], 'ng_adju': [-3, 0], 'wgt': [(0.95, 0.9, 0.6, 0.5), (0.55, 0.55, 0.55, 0.65, 0.65, 0.7, 0.8, 0.9)], 'cosz': 0.2588, 'rsfc': 0, 'klin': 3e-25, 'option_k_lookup': 0}]"
      ]
     },
     "execution_count": 143,
     "metadata": {},
     "output_type": "execute_result"
    }
   ],
   "source": [
    "params"
   ]
  },
  {
   "cell_type": "markdown",
   "metadata": {
    "heading_collapsed": true
   },
   "source": [
    "## Run lblnew-bestfit-sw  (the fortran code)"
   ]
  },
  {
   "cell_type": "code",
   "execution_count": 144,
   "metadata": {
    "collapsed": true,
    "hidden": true
   },
   "outputs": [],
   "source": [
    "WORKPLACE = Path('/chia_cluster/home/jackyu/radiation/analysis_-_new_kdist_param_sw/')"
   ]
  },
  {
   "cell_type": "code",
   "execution_count": 148,
   "metadata": {
    "hidden": true
   },
   "outputs": [
    {
     "data": {
      "text/plain": [
       "PosixPath('/chia_cluster/home/jackyu/radiation/analysis_-_new_kdist_param_sw/atmpro_saw/band_9/commitnumber_79f2292/conc_atmpro/cosz_1/dv_0.001/klin_3e-25/molecule_h2o/ng_adju_[-3, 0]/ng_refs_[3, 9]/nv_10000/option_k_lookup_0/ref_pts_[(30, 250), (300, 250)]/rsfc_0/tsfc_None/vmax_14290/vmin_8200/wgt_[(0.95, 0.9, 0.6, 0.5), (0.55, 0.55, 0.55, 0.65, 0.65, 0.7, 0.8, 0.9)]')"
      ]
     },
     "execution_count": 148,
     "metadata": {},
     "output_type": "execute_result"
    }
   ],
   "source": [
    "paths = [WORKPLACE/'/'.join(sorted(f'{n}_{v}' for n, v in vars(p).items())) for p in params]"
   ]
  },
  {
   "cell_type": "code",
   "execution_count": 149,
   "metadata": {
    "hidden": true
   },
   "outputs": [],
   "source": [
    "runners = [LBLnewBestfitSWRun(path=path, param=param) for path, param in zip(paths, params)]"
   ]
  },
  {
   "cell_type": "code",
   "execution_count": 150,
   "metadata": {
    "hidden": true
   },
   "outputs": [
    {
     "name": "stdout",
     "output_type": "stream",
     "text": [
      "Job <434165> is submitted to queue <serial>.\n",
      "\n",
      "Job <434166> is submitted to queue <serial>.\n",
      "\n"
     ]
    }
   ],
   "source": [
    "for runner in runners:\n",
    "    runner.input_params()\n",
    "    proc = runner.build()\n",
    "    out, err = proc.communicate()\n",
    "    runner.run()"
   ]
  },
  {
   "cell_type": "code",
   "execution_count": 151,
   "metadata": {
    "hidden": true
   },
   "outputs": [
    {
     "data": {
      "text/plain": [
       "'434165'"
      ]
     },
     "execution_count": 151,
     "metadata": {},
     "output_type": "execute_result"
    }
   ],
   "source": [
    "runners[0].job_id"
   ]
  },
  {
   "cell_type": "code",
   "execution_count": 152,
   "metadata": {
    "hidden": true
   },
   "outputs": [
    {
     "data": {
      "text/plain": [
       "'434166'"
      ]
     },
     "execution_count": 152,
     "metadata": {},
     "output_type": "execute_result"
    }
   ],
   "source": [
    "runners[1].job_id"
   ]
  },
  {
   "cell_type": "code",
   "execution_count": 153,
   "metadata": {
    "hidden": true
   },
   "outputs": [
    {
     "name": "stdout",
     "output_type": "stream",
     "text": [
      "serial;  type=BATCH;  [ENABLED];  pri=35\r\n",
      "4 run;   5 wait;\r\n",
      "\r\n",
      "        REQUEST NAME        REQUEST ID          USER   STATE\r\n",
      "   1:   fitsw_9_h2o_            434165       jackyu  RUNNING\r\n",
      "   2:   fitsw_9_h2o_            434166       jackyu  RUNNING\r\n",
      "\r\n",
      "v4q;  type=BATCH;  [ENABLED];  pri=30\r\n",
      "96 run;   0 wait;\r\n",
      "\r\n",
      "\r\n",
      "v4qexp;  type=BATCH;  [ENABLED];  pri=30\r\n",
      "192 run;   0 wait;\r\n",
      "\r\n",
      "\r\n",
      "LCCR_Q;  type=BATCH;  [ENABLED];  pri=30\r\n",
      "16 run;   0 wait;\r\n",
      "\r\n",
      "\r\n",
      "URBAN_Q;  type=BATCH;  [ENABLED];  pri=30\r\n",
      "576 run;   0 wait;\r\n",
      "\r\n",
      "\r\n",
      "orc;  type=BATCH;  [ENABLED];  pri=30\r\n",
      "0 run;   0 wait;\r\n",
      "\r\n",
      "\r\n",
      "RCEC_Q;  type=BATCH;  [ENABLED];  pri=30\r\n",
      "144 run;   0 wait;\r\n",
      "\r\n",
      "\r\n",
      "medium_priority;  type=BATCH;  [ENABLED];  pri=10\r\n",
      "0 run;   0 wait;\r\n",
      "\r\n",
      "\r\n"
     ]
    }
   ],
   "source": [
    "! qstat -u jackyu"
   ]
  },
  {
   "cell_type": "markdown",
   "metadata": {},
   "source": [
    "## Analysis"
   ]
  },
  {
   "cell_type": "code",
   "execution_count": 126,
   "metadata": {},
   "outputs": [],
   "source": [
    "analysis = LBLnewBestfitSWAnalysis(path=runner.path, runner=runner)"
   ]
  },
  {
   "cell_type": "code",
   "execution_count": 127,
   "metadata": {
    "collapsed": true
   },
   "outputs": [],
   "source": [
    "analysis.run()"
   ]
  },
  {
   "cell_type": "code",
   "execution_count": 128,
   "metadata": {},
   "outputs": [
    {
     "name": "stdout",
     "output_type": "stream",
     "text": [
      "Git-add  \n"
     ]
    }
   ],
   "source": [
    "proc = analysis.gitcommit()"
   ]
  },
  {
   "cell_type": "code",
   "execution_count": 129,
   "metadata": {
    "collapsed": true
   },
   "outputs": [],
   "source": [
    "out, err = proc.communicate()"
   ]
  },
  {
   "cell_type": "code",
   "execution_count": 130,
   "metadata": {},
   "outputs": [
    {
     "name": "stdout",
     "output_type": "stream",
     "text": [
      "Git-commit\n",
      " stdout: [develop a1e1115] band09 h2o trp cosz=0.2588 nf_refs=[4, 8]\n",
      " 1 file changed, 1841 insertions(+)\n",
      " create mode 100644 climatools/notebooks/sw_dev/atmpro_trp/band_9/commitnumber_79f2292/conc_atmpro/cosz_0.2588/dv_0.001/klin_3e-25/molecule_h2o/ng_adju_[-3, 0]/ng_refs_[4, 8]/nv_10000/option_k_lookup_0/ref_pts_[(30, 250), (300, 250)]/rsfc_0/tsfc_None/vmax_14290/vmin_8200/wgt_[(0.95, 0.9, 0.6, 0.55), (0.55, 0.55, 0.55, 0.6, 0.7, 0.75, 0.85, 0.95)]/analysis_-_lblnew-bestfit-sw.ipynb\n",
      "\n",
      " stderr: \n"
     ]
    }
   ],
   "source": [
    "print('Git-commit\\n', f'stdout: {out.decode()}\\n', f'stderr: {err.decode()}')"
   ]
  },
  {
   "cell_type": "code",
   "execution_count": null,
   "metadata": {
    "collapsed": true
   },
   "outputs": [],
   "source": []
  },
  {
   "cell_type": "code",
   "execution_count": null,
   "metadata": {
    "collapsed": true
   },
   "outputs": [],
   "source": []
  },
  {
   "cell_type": "code",
   "execution_count": 131,
   "metadata": {},
   "outputs": [
    {
     "data": {
      "text/plain": [
       "PosixPath('atmpro_trp/band_9/commitnumber_79f2292/conc_atmpro/cosz_0.2588/dv_0.001/klin_3e-25/molecule_h2o/ng_adju_[-3, 0]/ng_refs_[4, 8]/nv_10000/option_k_lookup_0/ref_pts_[(30, 250), (300, 250)]/rsfc_0/tsfc_None/vmax_14290/vmin_8200/wgt_[(0.95, 0.9, 0.6, 0.55), (0.55, 0.55, 0.55, 0.6, 0.7, 0.75, 0.85, 0.95)]')"
      ]
     },
     "execution_count": 131,
     "metadata": {},
     "output_type": "execute_result"
    }
   ],
   "source": [
    "runner.path"
   ]
  },
  {
   "cell_type": "code",
   "execution_count": 133,
   "metadata": {},
   "outputs": [
    {
     "data": {
      "text/plain": [
       "PosixPath('/chia_cluster/home/jackyu/radiation/analysis_-_new_kdist_param_sw/atmpro_trp/band_9/commitnumber_79f2292/conc_atmpro/cosz_0.2588/dv_0.001/klin_3e-25/molecule_h2o/ng_adju_[-3, 0]/ng_refs_[4, 8]/nv_10000/option_k_lookup_0/ref_pts_[(30, 250), (300, 250)]/rsfc_0/tsfc_None/vmax_14290/vmin_8200/wgt_[(0.95, 0.9, 0.6, 0.55), (0.55, 0.55, 0.55, 0.6, 0.7, 0.75, 0.85, 0.95)]')"
      ]
     },
     "execution_count": 133,
     "metadata": {},
     "output_type": "execute_result"
    }
   ],
   "source": [
    "(PATH_ANALYSIS/runner.path).mkdir(parents=True, exists_ok=True)"
   ]
  },
  {
   "cell_type": "code",
   "execution_count": null,
   "metadata": {
    "collapsed": true
   },
   "outputs": [],
   "source": []
  },
  {
   "cell_type": "code",
   "execution_count": null,
   "metadata": {
    "collapsed": true
   },
   "outputs": [],
   "source": []
  },
  {
   "cell_type": "code",
   "execution_count": null,
   "metadata": {
    "collapsed": true
   },
   "outputs": [],
   "source": []
  },
  {
   "cell_type": "code",
   "execution_count": null,
   "metadata": {
    "collapsed": true
   },
   "outputs": [],
   "source": []
  },
  {
   "cell_type": "code",
   "execution_count": null,
   "metadata": {
    "collapsed": true
   },
   "outputs": [],
   "source": []
  },
  {
   "cell_type": "code",
   "execution_count": null,
   "metadata": {
    "collapsed": true
   },
   "outputs": [],
   "source": []
  },
  {
   "cell_type": "markdown",
   "metadata": {
    "collapsed": true
   },
   "source": [
    "# fin"
   ]
  },
  {
   "cell_type": "code",
   "execution_count": null,
   "metadata": {
    "collapsed": true
   },
   "outputs": [],
   "source": []
  }
 ],
 "metadata": {
  "kernelspec": {
   "display_name": "Python 3",
   "language": "python",
   "name": "python3"
  }
 },
 "nbformat": 4,
 "nbformat_minor": 2
}

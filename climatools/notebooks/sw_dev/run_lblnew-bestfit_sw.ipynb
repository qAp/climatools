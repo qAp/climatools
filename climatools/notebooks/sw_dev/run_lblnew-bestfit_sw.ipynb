{
 "cells": [
  {
   "cell_type": "code",
   "execution_count": 92,
   "metadata": {
    "collapsed": true
   },
   "outputs": [],
   "source": [
    "%reload_ext autoreload\n",
    "%autoreload 2\n",
    "%matplotlib inline\n",
    "from pathlib import *\n",
    "from pymongo import *\n",
    "\n",
    "from exp.nb_00 import *\n",
    "from exp.nb_01 import *\n",
    "from exp.nb_02 import *"
   ]
  },
  {
   "cell_type": "code",
   "execution_count": 56,
   "metadata": {
    "collapsed": true
   },
   "outputs": [],
   "source": [
    "WORKPLACE = Path('/chia_cluster/home/jackyu/radiation/analysis_-_new_kdist_param_sw/')"
   ]
  },
  {
   "cell_type": "code",
   "execution_count": 75,
   "metadata": {
    "collapsed": true
   },
   "outputs": [],
   "source": [
    "PARAM = LBLnewBestfitSWParam(band=9, vmin=8200, vmax=14290, nv=10000, dv=0.001,\n",
    "                     molecule='h2o', conc='atmpro',\n",
    "                     ref_pts=[(30, 250), (300, 250)], ng_refs=[4, 8], ng_adju=[-3, 0],\n",
    "                     wgt=[(.95, .9, .6, .55), (.55, .55, .55, .6, .7, .75, .85, .95)],\n",
    "                     cosz=1., rsfc=0,\n",
    "                     klin=3e-25,\n",
    "                     option_k_lookup=0,\n",
    "                     atmpro='saw',\n",
    "                     commitnumber='79f2292')"
   ]
  },
  {
   "cell_type": "code",
   "execution_count": 76,
   "metadata": {},
   "outputs": [
    {
     "data": {
      "text/plain": [
       "PosixPath('atmpro_saw/band_9/commitnumber_79f2292/conc_atmpro/cosz_1.0/dv_0.001/klin_3e-25/molecule_h2o/ng_adju_[-3, 0]/ng_refs_[4, 8]/nv_10000/option_k_lookup_0/ref_pts_[(30, 250), (300, 250)]/rsfc_0/tsfc_None/vmax_14290/vmin_8200/wgt_[(0.95, 0.9, 0.6, 0.55), (0.55, 0.55, 0.55, 0.6, 0.7, 0.75, 0.85, 0.95)]')"
      ]
     },
     "execution_count": 76,
     "metadata": {},
     "output_type": "execute_result"
    }
   ],
   "source": [
    "PATH = Path('/'.join(sorted([f'{n}_{v}' for n, v in vars(PARAM).items()])))\n",
    "PATH\n",
    "#PATH = 'test1'"
   ]
  },
  {
   "cell_type": "markdown",
   "metadata": {},
   "source": [
    "## Run lblnew-bestfit-sw  (the fortran code)"
   ]
  },
  {
   "cell_type": "code",
   "execution_count": 77,
   "metadata": {},
   "outputs": [],
   "source": [
    "runner = LBLnewBestfitSWRun(path=PATH, param=PARAM)"
   ]
  },
  {
   "cell_type": "code",
   "execution_count": 78,
   "metadata": {},
   "outputs": [
    {
     "data": {
      "text/plain": [
       "<class 'exp.nb_00.LBLnewBestfitSWParam'>\n",
       "{'dv': 0.001, 'nv': 10000, 'commitnumber': '79f2292', 'band': 9, 'molecule': 'h2o', 'atmpro': 'saw', 'tsfc': None, 'vmin': 8200, 'vmax': 14290, 'conc': 'atmpro', 'ref_pts': [(30, 250), (300, 250)], 'ng_refs': [4, 8], 'ng_adju': [-3, 0], 'wgt': [(0.95, 0.9, 0.6, 0.55), (0.55, 0.55, 0.55, 0.6, 0.7, 0.75, 0.85, 0.95)], 'cosz': 1.0, 'rsfc': 0, 'klin': 3e-25, 'option_k_lookup': 0}"
      ]
     },
     "execution_count": 78,
     "metadata": {},
     "output_type": "execute_result"
    }
   ],
   "source": [
    "runner.param"
   ]
  },
  {
   "cell_type": "code",
   "execution_count": 79,
   "metadata": {},
   "outputs": [
    {
     "data": {
      "text/plain": [
       "[PosixPath('atmpro_saw/band_9/commitnumber_79f2292/conc_atmpro/cosz_1.0/dv_0.001/klin_3e-25/molecule_h2o/ng_adju_[-3, 0]/ng_refs_[4, 8]/nv_10000/option_k_lookup_0/ref_pts_[(30, 250), (300, 250)]/rsfc_0/tsfc_None/vmax_14290/vmin_8200/wgt_[(0.95, 0.9, 0.6, 0.55), (0.55, 0.55, 0.55, 0.6, 0.7, 0.75, 0.85, 0.95)]/lblnew-bestfit-sw.f'),\n",
       " PosixPath('atmpro_saw/band_9/commitnumber_79f2292/conc_atmpro/cosz_1.0/dv_0.001/klin_3e-25/molecule_h2o/ng_adju_[-3, 0]/ng_refs_[4, 8]/nv_10000/option_k_lookup_0/ref_pts_[(30, 250), (300, 250)]/rsfc_0/tsfc_None/vmax_14290/vmin_8200/wgt_[(0.95, 0.9, 0.6, 0.55), (0.55, 0.55, 0.55, 0.6, 0.7, 0.75, 0.85, 0.95)]/lblcom.f')]"
      ]
     },
     "execution_count": 79,
     "metadata": {},
     "output_type": "execute_result"
    }
   ],
   "source": [
    "list(runner.path.iterdir())"
   ]
  },
  {
   "cell_type": "code",
   "execution_count": 84,
   "metadata": {
    "scrolled": false
   },
   "outputs": [],
   "source": [
    "os.chdir('sw_dev')"
   ]
  },
  {
   "cell_type": "code",
   "execution_count": 85,
   "metadata": {},
   "outputs": [
    {
     "name": "stdout",
     "output_type": "stream",
     "text": [
      "/chia_cluster/home/jackyu/climatools/climatools/notebooks/sw_dev\r\n"
     ]
    }
   ],
   "source": [
    "! pwd"
   ]
  },
  {
   "cell_type": "code",
   "execution_count": 86,
   "metadata": {},
   "outputs": [],
   "source": [
    "runner.input_params()"
   ]
  },
  {
   "cell_type": "code",
   "execution_count": 87,
   "metadata": {},
   "outputs": [
    {
     "name": "stdout",
     "output_type": "stream",
     "text": [
      "\n",
      "lblcom.f(169): remark #8290: Recommended relationship between field width 'W' and the number of fractional digits 'D' in this edit descriptor is 'W>=D+3'.\n",
      " 900  format(f12.6,e10.3,f5.4,f10.4,a53,i3,i4,i3)\n",
      "--------------------------^\n",
      "lblnew-bestfit-sw.f(244): remark #7712: This variable has not been used.   [D_FLUX]\n",
      "      real d_flux(nlayer+1,ng),d_tflux(nlayer+1) \n",
      "-----------^\n",
      "lblnew-bestfit-sw.f(244): remark #7712: This variable has not been used.   [D_TFLUX]\n",
      "      real d_flux(nlayer+1,ng),d_tflux(nlayer+1) \n",
      "-------------------------------^\n",
      "lblnew-bestfit-sw.f(281): remark #7712: This variable has not been used.   [ABSCOMZE]\n",
      "      real*8 accu6th, abscomze \n",
      "----------------------^\n",
      "lblnew-bestfit-sw.f(298): remark #7712: This variable has not been used.   [P_KTABLE]\n",
      "      real :: p_ktable(nl,nt), t_ktable(nl,nt), xk\n",
      "--------------^\n",
      "lblnew-bestfit-sw.f(298): remark #7712: This variable has not been used.   [T_KTABLE]\n",
      "      real :: p_ktable(nl,nt), t_ktable(nl,nt), xk\n",
      "-------------------------------^\n",
      "lblnew-bestfit-sw.f(1219): remark #7712: This variable has not been used.   [IG]\n",
      "      integer :: jp, jp1, jt, ig\n",
      "------------------------------^\n",
      "lblnew-bestfit-sw.f(1220): remark #7712: This variable has not been used.   [FT]\n",
      "      real  :: fp, ft, ft1, xlogp\n",
      "-------------------^\n",
      "lblnew-bestfit-sw.f(1220): remark #7712: This variable has not been used.   [FT1]\n",
      "      real  :: fp, ft, ft1, xlogp\n",
      "-----------------------^\n",
      "lblnew-bestfit-sw.f(1222): remark #7712: This variable has not been used.   [T0]\n",
      "      real :: tmin, tmax, t0, dt, tt\n",
      "--------------------------^\n",
      "\n"
     ]
    }
   ],
   "source": [
    "proc = runner.build()\n",
    "out, err = proc.communicate()\n",
    "print(out.decode())\n",
    "print(err.decode())"
   ]
  },
  {
   "cell_type": "code",
   "execution_count": 88,
   "metadata": {},
   "outputs": [
    {
     "data": {
      "text/plain": [
       "[PosixPath('atmpro_saw/band_9/commitnumber_79f2292/conc_atmpro/cosz_1.0/dv_0.001/klin_3e-25/molecule_h2o/ng_adju_[-3, 0]/ng_refs_[4, 8]/nv_10000/option_k_lookup_0/ref_pts_[(30, 250), (300, 250)]/rsfc_0/tsfc_None/vmax_14290/vmin_8200/wgt_[(0.95, 0.9, 0.6, 0.55), (0.55, 0.55, 0.55, 0.6, 0.7, 0.75, 0.85, 0.95)]/lblnew-bestfit-sw.f'),\n",
       " PosixPath('atmpro_saw/band_9/commitnumber_79f2292/conc_atmpro/cosz_1.0/dv_0.001/klin_3e-25/molecule_h2o/ng_adju_[-3, 0]/ng_refs_[4, 8]/nv_10000/option_k_lookup_0/ref_pts_[(30, 250), (300, 250)]/rsfc_0/tsfc_None/vmax_14290/vmin_8200/wgt_[(0.95, 0.9, 0.6, 0.55), (0.55, 0.55, 0.55, 0.6, 0.7, 0.75, 0.85, 0.95)]/lblnew-bestfit-sw.exe'),\n",
       " PosixPath('atmpro_saw/band_9/commitnumber_79f2292/conc_atmpro/cosz_1.0/dv_0.001/klin_3e-25/molecule_h2o/ng_adju_[-3, 0]/ng_refs_[4, 8]/nv_10000/option_k_lookup_0/ref_pts_[(30, 250), (300, 250)]/rsfc_0/tsfc_None/vmax_14290/vmin_8200/wgt_[(0.95, 0.9, 0.6, 0.55), (0.55, 0.55, 0.55, 0.6, 0.7, 0.75, 0.85, 0.95)]/lblcom.f')]"
      ]
     },
     "execution_count": 88,
     "metadata": {},
     "output_type": "execute_result"
    }
   ],
   "source": [
    "list(runner.path.iterdir())"
   ]
  },
  {
   "cell_type": "code",
   "execution_count": 89,
   "metadata": {},
   "outputs": [
    {
     "name": "stdout",
     "output_type": "stream",
     "text": [
      "Job <433536> is submitted to queue <serial>.\n",
      "\n",
      "\n"
     ]
    }
   ],
   "source": [
    "proc = runner.run()\n",
    "out, err = proc.communicate()\n",
    "print(out.decode())\n",
    "print(err.decode())"
   ]
  },
  {
   "cell_type": "code",
   "execution_count": 91,
   "metadata": {},
   "outputs": [
    {
     "name": "stdout",
     "output_type": "stream",
     "text": [
      "serial;  type=BATCH;  [ENABLED];  pri=35\r\n",
      "4 run;   9 wait;\r\n",
      "\r\n",
      "        REQUEST NAME        REQUEST ID          USER   STATE\r\n",
      "   1:   fitsw_9_h2o_            433535       jackyu  RUNNING\r\n",
      "   2:   fitsw_9_h2o_            433536       jackyu  RUNNING\r\n",
      "\r\n",
      "v4q;  type=BATCH;  [ENABLED];  pri=30\r\n",
      "288 run;   0 wait;\r\n",
      "\r\n",
      "\r\n",
      "v4qexp;  type=BATCH;  [ENABLED];  pri=30\r\n",
      "144 run;   0 wait;\r\n",
      "\r\n",
      "\r\n",
      "LCCR_Q;  type=BATCH;  [ENABLED];  pri=30\r\n",
      "16 run;   0 wait;\r\n",
      "\r\n",
      "\r\n",
      "URBAN_Q;  type=BATCH;  [ENABLED];  pri=30\r\n",
      "1121 run;   448 wait;\r\n",
      "\r\n",
      "\r\n",
      "orc;  type=BATCH;  [ENABLED];  pri=30\r\n",
      "0 run;   0 wait;\r\n",
      "\r\n",
      "\r\n",
      "RCEC_Q;  type=BATCH;  [ENABLED];  pri=30\r\n",
      "192 run;   0 wait;\r\n",
      "\r\n",
      "\r\n",
      "medium_priority;  type=BATCH;  [ENABLED];  pri=10\r\n",
      "0 run;   0 wait;\r\n",
      "\r\n",
      "\r\n"
     ]
    }
   ],
   "source": [
    "! qstat -u jackyu"
   ]
  },
  {
   "cell_type": "code",
   "execution_count": null,
   "metadata": {
    "collapsed": true
   },
   "outputs": [],
   "source": []
  },
  {
   "cell_type": "code",
   "execution_count": null,
   "metadata": {
    "collapsed": true
   },
   "outputs": [],
   "source": [
    "runner.save2mongodb(client)"
   ]
  },
  {
   "cell_type": "code",
   "execution_count": null,
   "metadata": {
    "collapsed": true
   },
   "outputs": [],
   "source": []
  },
  {
   "cell_type": "code",
   "execution_count": null,
   "metadata": {
    "collapsed": true
   },
   "outputs": [],
   "source": []
  },
  {
   "cell_type": "code",
   "execution_count": null,
   "metadata": {
    "collapsed": true
   },
   "outputs": [],
   "source": []
  },
  {
   "cell_type": "code",
   "execution_count": null,
   "metadata": {
    "collapsed": true
   },
   "outputs": [],
   "source": []
  },
  {
   "cell_type": "code",
   "execution_count": null,
   "metadata": {
    "collapsed": true
   },
   "outputs": [],
   "source": []
  },
  {
   "cell_type": "code",
   "execution_count": null,
   "metadata": {
    "collapsed": true
   },
   "outputs": [],
   "source": []
  },
  {
   "cell_type": "code",
   "execution_count": null,
   "metadata": {
    "collapsed": true
   },
   "outputs": [],
   "source": []
  },
  {
   "cell_type": "code",
   "execution_count": null,
   "metadata": {
    "collapsed": true
   },
   "outputs": [],
   "source": []
  },
  {
   "cell_type": "code",
   "execution_count": null,
   "metadata": {
    "collapsed": true
   },
   "outputs": [],
   "source": []
  },
  {
   "cell_type": "code",
   "execution_count": null,
   "metadata": {
    "collapsed": true
   },
   "outputs": [],
   "source": []
  },
  {
   "cell_type": "code",
   "execution_count": null,
   "metadata": {
    "collapsed": true
   },
   "outputs": [],
   "source": []
  },
  {
   "cell_type": "code",
   "execution_count": null,
   "metadata": {
    "collapsed": true
   },
   "outputs": [],
   "source": []
  },
  {
   "cell_type": "code",
   "execution_count": null,
   "metadata": {
    "collapsed": true
   },
   "outputs": [],
   "source": []
  }
 ],
 "metadata": {
  "kernelspec": {
   "display_name": "Python 3",
   "language": "python",
   "name": "python3"
  }
 },
 "nbformat": 4,
 "nbformat_minor": 2
}

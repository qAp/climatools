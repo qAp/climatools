{
 "cells": [
  {
   "cell_type": "code",
   "execution_count": 27,
   "metadata": {
    "collapsed": true
   },
   "outputs": [],
   "source": [
    "%reload_ext autoreload\n",
    "%autoreload 2\n",
    "%matplotlib inline\n",
    "from pathlib import *\n",
    "from pymongo import *\n",
    "from climatools.notebooks.sw_dev.exp.nb_02 import *"
   ]
  },
  {
   "cell_type": "code",
   "execution_count": 55,
   "metadata": {
    "collapsed": true
   },
   "outputs": [],
   "source": [
    "WORKPLACE = Path('/chia_cluster/home/jackyu/radiation/analysis_-_new_kdist_param_sw/')"
   ]
  },
  {
   "cell_type": "code",
   "execution_count": 28,
   "metadata": {
    "collapsed": true
   },
   "outputs": [],
   "source": [
    "PARAM = LBLnewBestfitSWParam(band=9, vmin=8200, vmax=14290, nv=10000, dv=0.001,\n",
    "                     molecule='h2o', conc='atmpro',\n",
    "                     ref_pts=[(30, 250), (300, 250)], ng_refs=[4, 8], ng_adju=[-3, 0],\n",
    "                     wgt=[(.95, .9, .6, .55), (.55, .55, .55, .6, .7, .75, .85, .95)],\n",
    "                     cosz=1., rsfc=0,\n",
    "                     klin=3e-25,\n",
    "                     option_k_lookup=0,\n",
    "                     atmpro='mls',\n",
    "                     commitnumber='79f2292')"
   ]
  },
  {
   "cell_type": "code",
   "execution_count": 29,
   "metadata": {},
   "outputs": [],
   "source": [
    "#PATH = Path('/'.join(sorted([f'{n}_{v}' for n, v in vars(PARAM).items()])))\n",
    "PATH = 'test1'"
   ]
  },
  {
   "cell_type": "code",
   "execution_count": 30,
   "metadata": {},
   "outputs": [],
   "source": [
    "runner = LBLnewBestfitSWRun(path=PATH, param=PARAM)"
   ]
  },
  {
   "cell_type": "code",
   "execution_count": 31,
   "metadata": {},
   "outputs": [
    {
     "data": {
      "text/plain": [
       "<class 'exp.nb_00.LBLnewBestfitSWParam'>\n",
       "{'dv': 0.001, 'nv': 10000, 'commitnumber': '79f2292', 'band': 9, 'molecule': 'h2o', 'atmpro': 'mls', 'tsfc': None, 'vmin': 8200, 'vmax': 14290, 'conc': 'atmpro', 'ref_pts': [(30, 250), (300, 250)], 'ng_refs': [4, 8], 'ng_adju': [-3, 0], 'wgt': [(0.95, 0.9, 0.6, 0.55), (0.55, 0.55, 0.55, 0.6, 0.7, 0.75, 0.85, 0.95)], 'cosz': 1.0, 'rsfc': 0, 'klin': 3e-25, 'option_k_lookup': 0}"
      ]
     },
     "execution_count": 31,
     "metadata": {},
     "output_type": "execute_result"
    }
   ],
   "source": [
    "runner.param"
   ]
  },
  {
   "cell_type": "code",
   "execution_count": 54,
   "metadata": {
    "scrolled": false
   },
   "outputs": [
    {
     "name": "stdout",
     "output_type": "stream",
     "text": [
      "/chia_cluster/home/jackyu/climatools/climatools/notebooks/sw_dev/test1\r\n"
     ]
    }
   ],
   "source": [
    "! pwd"
   ]
  },
  {
   "cell_type": "code",
   "execution_count": 33,
   "metadata": {},
   "outputs": [],
   "source": [
    "runner.input_params()"
   ]
  },
  {
   "cell_type": "code",
   "execution_count": 34,
   "metadata": {},
   "outputs": [
    {
     "name": "stdout",
     "output_type": "stream",
     "text": [
      "\n",
      "test1/lblcom.f(169): remark #8290: Recommended relationship between field width 'W' and the number of fractional digits 'D' in this edit descriptor is 'W>=D+3'.\n",
      " 900  format(f12.6,e10.3,f5.4,f10.4,a53,i3,i4,i3)\n",
      "--------------------------^\n",
      "test1/lblnew-bestfit-sw.f(244): remark #7712: This variable has not been used.   [D_FLUX]\n",
      "      real d_flux(nlayer+1,ng),d_tflux(nlayer+1) \n",
      "-----------^\n",
      "test1/lblnew-bestfit-sw.f(244): remark #7712: This variable has not been used.   [D_TFLUX]\n",
      "      real d_flux(nlayer+1,ng),d_tflux(nlayer+1) \n",
      "-------------------------------^\n",
      "test1/lblnew-bestfit-sw.f(281): remark #7712: This variable has not been used.   [ABSCOMZE]\n",
      "      real*8 accu6th, abscomze \n",
      "----------------------^\n",
      "test1/lblnew-bestfit-sw.f(298): remark #7712: This variable has not been used.   [P_KTABLE]\n",
      "      real :: p_ktable(nl,nt), t_ktable(nl,nt), xk\n",
      "--------------^\n",
      "test1/lblnew-bestfit-sw.f(298): remark #7712: This variable has not been used.   [T_KTABLE]\n",
      "      real :: p_ktable(nl,nt), t_ktable(nl,nt), xk\n",
      "-------------------------------^\n",
      "test1/lblnew-bestfit-sw.f(1219): remark #7712: This variable has not been used.   [IG]\n",
      "      integer :: jp, jp1, jt, ig\n",
      "------------------------------^\n",
      "test1/lblnew-bestfit-sw.f(1220): remark #7712: This variable has not been used.   [FT]\n",
      "      real  :: fp, ft, ft1, xlogp\n",
      "-------------------^\n",
      "test1/lblnew-bestfit-sw.f(1220): remark #7712: This variable has not been used.   [FT1]\n",
      "      real  :: fp, ft, ft1, xlogp\n",
      "-----------------------^\n",
      "test1/lblnew-bestfit-sw.f(1222): remark #7712: This variable has not been used.   [T0]\n",
      "      real :: tmin, tmax, t0, dt, tt\n",
      "--------------------------^\n",
      "\n"
     ]
    }
   ],
   "source": [
    "proc = runner.build()\n",
    "out, err = proc.communicate()\n",
    "print(out.decode())\n",
    "print(err.decode())"
   ]
  },
  {
   "cell_type": "code",
   "execution_count": 35,
   "metadata": {},
   "outputs": [
    {
     "data": {
      "text/plain": [
       "[PosixPath('test1/lblnew-bestfit-sw.f'),\n",
       " PosixPath('test1/lblnew-bestfit-sw.exe'),\n",
       " PosixPath('test1/lblcom.f')]"
      ]
     },
     "execution_count": 35,
     "metadata": {},
     "output_type": "execute_result"
    }
   ],
   "source": [
    "list(runner.path.iterdir())"
   ]
  },
  {
   "cell_type": "code",
   "execution_count": 36,
   "metadata": {},
   "outputs": [
    {
     "name": "stdout",
     "output_type": "stream",
     "text": [
      "Job <432747> is submitted to queue <serial>.\n",
      "\n",
      "\n"
     ]
    }
   ],
   "source": [
    "proc = runner.run()\n",
    "out, err = proc.communicate()\n",
    "print(out.decode())\n",
    "print(err.decode())"
   ]
  },
  {
   "cell_type": "code",
   "execution_count": 37,
   "metadata": {},
   "outputs": [
    {
     "name": "stdout",
     "output_type": "stream",
     "text": [
      "No matching job found\r\n",
      "serial;  type=BATCH;  [ENABLED];  pri=35\r\n",
      "5 run;   10 wait;\r\n",
      "\r\n",
      "\r\n",
      "v4q;  type=BATCH;  [ENABLED];  pri=30\r\n",
      "96 run;   0 wait;\r\n",
      "\r\n",
      "\r\n",
      "v4qexp;  type=BATCH;  [ENABLED];  pri=30\r\n",
      "0 run;   336 wait;\r\n",
      "\r\n",
      "\r\n",
      "LCCR_Q;  type=BATCH;  [ENABLED];  pri=30\r\n",
      "0 run;   0 wait;\r\n",
      "\r\n",
      "\r\n",
      "URBAN_Q;  type=BATCH;  [ENABLED];  pri=30\r\n",
      "388 run;   628 wait;\r\n",
      "\r\n",
      "\r\n",
      "orc;  type=BATCH;  [ENABLED];  pri=30\r\n",
      "0 run;   0 wait;\r\n",
      "\r\n",
      "\r\n",
      "RCEC_Q;  type=BATCH;  [ENABLED];  pri=30\r\n",
      "96 run;   0 wait;\r\n",
      "\r\n",
      "\r\n",
      "medium_priority;  type=BATCH;  [ENABLED];  pri=10\r\n",
      "0 run;   0 wait;\r\n",
      "\r\n",
      "\r\n"
     ]
    }
   ],
   "source": [
    "! qstat -u jackyu"
   ]
  },
  {
   "cell_type": "code",
   "execution_count": 40,
   "metadata": {},
   "outputs": [],
   "source": [
    "os.chdir('../')"
   ]
  },
  {
   "cell_type": "code",
   "execution_count": 42,
   "metadata": {},
   "outputs": [
    {
     "data": {
      "text/plain": [
       "[PosixPath('test1/lblnew-bestfit-sw.f'),\n",
       " PosixPath('test1/fort.400'),\n",
       " PosixPath('test1/fort.401'),\n",
       " PosixPath('test1/fort.402'),\n",
       " PosixPath('test1/lblnew-bestfit-sw.sub'),\n",
       " PosixPath('test1/fort.403'),\n",
       " PosixPath('test1/fort.19'),\n",
       " PosixPath('test1/fort.20'),\n",
       " PosixPath('test1/lblnew-bestfit-sw.exe'),\n",
       " PosixPath('test1/lblcom.f'),\n",
       " PosixPath('test1/fort.10'),\n",
       " PosixPath('test1/fort.9'),\n",
       " PosixPath('test1/err_432747'),\n",
       " PosixPath('test1/out_432747')]"
      ]
     },
     "execution_count": 42,
     "metadata": {},
     "output_type": "execute_result"
    }
   ],
   "source": [
    "list(runner.path.iterdir())"
   ]
  },
  {
   "cell_type": "code",
   "execution_count": 46,
   "metadata": {},
   "outputs": [
    {
     "name": "stdout",
     "output_type": "stream",
     "text": [
      "/chia_cluster/home/jackyu/climatools/climatools/notebooks/sw_dev/test1\r\n"
     ]
    }
   ],
   "source": [
    "! pwd"
   ]
  },
  {
   "cell_type": "code",
   "execution_count": 47,
   "metadata": {
    "collapsed": true
   },
   "outputs": [],
   "source": [
    "! cp /chia_cluster/home/jackyu/radiation/analysis_-_new_kdist_param_sw/band09_-_h2o_atmpro_-_mls_-_cosz_1.ipynb test1/."
   ]
  },
  {
   "cell_type": "code",
   "execution_count": 49,
   "metadata": {},
   "outputs": [
    {
     "data": {
      "text/plain": [
       "[PosixPath('test1/lblnew-bestfit-sw.f'),\n",
       " PosixPath('test1/fort.400'),\n",
       " PosixPath('test1/fort.401'),\n",
       " PosixPath('test1/fort.402'),\n",
       " PosixPath('test1/lblnew-bestfit-sw.sub'),\n",
       " PosixPath('test1/fort.403'),\n",
       " PosixPath('test1/fort.19'),\n",
       " PosixPath('test1/fort.20'),\n",
       " PosixPath('test1/lblnew-bestfit-sw.exe'),\n",
       " PosixPath('test1/lblcom.f'),\n",
       " PosixPath('test1/fort.10'),\n",
       " PosixPath('test1/fort.9'),\n",
       " PosixPath('test1/band09_-_h2o_atmpro_-_mls_-_cosz_1.ipynb'),\n",
       " PosixPath('test1/err_432747'),\n",
       " PosixPath('test1/out_432747')]"
      ]
     },
     "execution_count": 49,
     "metadata": {},
     "output_type": "execute_result"
    }
   ],
   "source": [
    "list(runner.path.iterdir())"
   ]
  },
  {
   "cell_type": "code",
   "execution_count": null,
   "metadata": {
    "collapsed": true
   },
   "outputs": [],
   "source": []
  },
  {
   "cell_type": "code",
   "execution_count": null,
   "metadata": {
    "collapsed": true
   },
   "outputs": [],
   "source": [
    "runner.save2mongodb(client)"
   ]
  },
  {
   "cell_type": "code",
   "execution_count": 8,
   "metadata": {},
   "outputs": [
    {
     "name": "stdout",
     "output_type": "stream",
     "text": [
      "clirad_latest_2xco2.ipynb\t       notebook2script.py\r\n",
      "cliradlw_vs_lblnewbestfit-Copy1.ipynb  run_cliradlw-Copy1.ipynb\r\n",
      "cliradlw_vs_lblnewbestfit.ipynb        run_cliradlw.ipynb\r\n",
      "cliradlw_vs_lblnewoverlap-Copy1.ipynb  run_lblnew-bestfit.ipynb\r\n",
      "cliradlw_vs_lblnewoverlap.ipynb        run_lblnew-bestfit_sw.ipynb\r\n",
      "get_kdist_bestfits_F77.ipynb\t       run_lblnew-overlap.ipynb\r\n",
      "get_kdist_ktable_F77.ipynb\t       run_notebook.py\r\n",
      "kdist_param_to_F77.ipynb\r\n"
     ]
    }
   ],
   "source": []
  },
  {
   "cell_type": "code",
   "execution_count": null,
   "metadata": {
    "collapsed": true
   },
   "outputs": [],
   "source": []
  },
  {
   "cell_type": "code",
   "execution_count": null,
   "metadata": {
    "collapsed": true
   },
   "outputs": [],
   "source": []
  },
  {
   "cell_type": "code",
   "execution_count": null,
   "metadata": {
    "collapsed": true
   },
   "outputs": [],
   "source": []
  },
  {
   "cell_type": "code",
   "execution_count": null,
   "metadata": {
    "collapsed": true
   },
   "outputs": [],
   "source": []
  },
  {
   "cell_type": "code",
   "execution_count": null,
   "metadata": {
    "collapsed": true
   },
   "outputs": [],
   "source": []
  },
  {
   "cell_type": "code",
   "execution_count": null,
   "metadata": {
    "collapsed": true
   },
   "outputs": [],
   "source": []
  },
  {
   "cell_type": "code",
   "execution_count": null,
   "metadata": {
    "collapsed": true
   },
   "outputs": [],
   "source": []
  },
  {
   "cell_type": "code",
   "execution_count": null,
   "metadata": {
    "collapsed": true
   },
   "outputs": [],
   "source": []
  },
  {
   "cell_type": "code",
   "execution_count": null,
   "metadata": {
    "collapsed": true
   },
   "outputs": [],
   "source": []
  },
  {
   "cell_type": "code",
   "execution_count": null,
   "metadata": {
    "collapsed": true
   },
   "outputs": [],
   "source": []
  },
  {
   "cell_type": "code",
   "execution_count": null,
   "metadata": {
    "collapsed": true
   },
   "outputs": [],
   "source": []
  },
  {
   "cell_type": "code",
   "execution_count": null,
   "metadata": {
    "collapsed": true
   },
   "outputs": [],
   "source": []
  },
  {
   "cell_type": "code",
   "execution_count": null,
   "metadata": {
    "collapsed": true
   },
   "outputs": [],
   "source": []
  }
 ],
 "metadata": {
  "kernelspec": {
   "display_name": "Python 3",
   "language": "python",
   "name": "python3"
  }
 },
 "nbformat": 4,
 "nbformat_minor": 2
}

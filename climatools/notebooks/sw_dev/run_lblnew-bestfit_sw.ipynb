{
 "cells": [
  {
   "cell_type": "code",
   "execution_count": 210,
   "metadata": {
    "collapsed": true
   },
   "outputs": [],
   "source": [
    "%reload_ext autoreload\n",
    "%autoreload 2\n",
    "%matplotlib inline\n",
    "from pathlib import *\n",
    "from pymongo import *\n",
    "\n",
    "from exp.nb_00 import *\n",
    "from exp.nb_01 import *\n",
    "from exp.nb_02 import *\n",
    "from exp.nb_03 import *"
   ]
  },
  {
   "cell_type": "markdown",
   "metadata": {},
   "source": [
    "## Define your parameters here\n",
    "Specify the values for the parameters for lblnew-bestfit-sw.  "
   ]
  },
  {
   "cell_type": "code",
   "execution_count": 141,
   "metadata": {},
   "outputs": [],
   "source": [
    "param0 = LBLnewBestfitSWParam(band=9, vmin=8200, vmax=14290, nv=10000, dv=0.001,\n",
    "                     molecule='h2o', conc='atmpro',\n",
    "                     ref_pts=[(30, 250), (300, 250)], ng_refs=[3, 9], ng_adju=[-3, 0],\n",
    "                     wgt=[(.95, .9, .6, .5), (.55, .55, .55, .65, .65, .7, .8, .9)],\n",
    "                     cosz=.2588, rsfc=0,\n",
    "                     klin=3e-25,\n",
    "                     option_k_lookup=0,\n",
    "                     atmpro='trp',\n",
    "                     commitnumber='79f2292')"
   ]
  },
  {
   "cell_type": "code",
   "execution_count": 142,
   "metadata": {
    "collapsed": true
   },
   "outputs": [],
   "source": [
    "acs = [('saw', 1), ('trp', 0.2588)]\n",
    "\n",
    "params = []\n",
    "for atmpro, cosz in acs:\n",
    "    dparam = vars(param0)\n",
    "    dparam['atmpro'] = atmpro\n",
    "    dparam['cosz'] = cosz\n",
    "    params.append(LBLnewBestfitSWParam(**dparam))"
   ]
  },
  {
   "cell_type": "code",
   "execution_count": 143,
   "metadata": {},
   "outputs": [
    {
     "data": {
      "text/plain": [
       "[<class 'exp.nb_00.LBLnewBestfitSWParam'>\n",
       " {'dv': 0.001, 'nv': 10000, 'commitnumber': '79f2292', 'band': 9, 'molecule': 'h2o', 'atmpro': 'saw', 'tsfc': None, 'vmin': 8200, 'vmax': 14290, 'conc': 'atmpro', 'ref_pts': [(30, 250), (300, 250)], 'ng_refs': [3, 9], 'ng_adju': [-3, 0], 'wgt': [(0.95, 0.9, 0.6, 0.5), (0.55, 0.55, 0.55, 0.65, 0.65, 0.7, 0.8, 0.9)], 'cosz': 1, 'rsfc': 0, 'klin': 3e-25, 'option_k_lookup': 0},\n",
       " <class 'exp.nb_00.LBLnewBestfitSWParam'>\n",
       " {'dv': 0.001, 'nv': 10000, 'commitnumber': '79f2292', 'band': 9, 'molecule': 'h2o', 'atmpro': 'trp', 'tsfc': None, 'vmin': 8200, 'vmax': 14290, 'conc': 'atmpro', 'ref_pts': [(30, 250), (300, 250)], 'ng_refs': [3, 9], 'ng_adju': [-3, 0], 'wgt': [(0.95, 0.9, 0.6, 0.5), (0.55, 0.55, 0.55, 0.65, 0.65, 0.7, 0.8, 0.9)], 'cosz': 0.2588, 'rsfc': 0, 'klin': 3e-25, 'option_k_lookup': 0}]"
      ]
     },
     "execution_count": 143,
     "metadata": {},
     "output_type": "execute_result"
    }
   ],
   "source": [
    "params"
   ]
  },
  {
   "cell_type": "markdown",
   "metadata": {},
   "source": [
    "## Run lblnew-bestfit-sw  \n",
    "Run the Fortran code for lblnew-bestfit-sw in this section."
   ]
  },
  {
   "cell_type": "code",
   "execution_count": 219,
   "metadata": {
    "collapsed": true
   },
   "outputs": [],
   "source": [
    "# Specify the root directory under which you want to run lblnew-bestfit-sw's Fortran code\n",
    "\n",
    "# Gather most of the runs here:\n",
    "PATH_FORTRAN = Path('/chia_cluster/home/jackyu/radiation/crdnew-sw/examples')"
   ]
  },
  {
   "cell_type": "code",
   "execution_count": 212,
   "metadata": {},
   "outputs": [],
   "source": [
    "paths = [PATH_FORTRAN/'/'.join(sorted(f'{n}_{v}' for n, v in vars(p).items())) for p in params]"
   ]
  },
  {
   "cell_type": "code",
   "execution_count": 213,
   "metadata": {},
   "outputs": [],
   "source": [
    "runners = [LBLnewBestfitSWRun(path=path, param=param) for path, param in zip(paths, params)]"
   ]
  },
  {
   "cell_type": "code",
   "execution_count": null,
   "metadata": {
    "collapsed": true
   },
   "outputs": [],
   "source": []
  },
  {
   "cell_type": "code",
   "execution_count": 214,
   "metadata": {},
   "outputs": [
    {
     "name": "stdout",
     "output_type": "stream",
     "text": [
      "Job <435025> is submitted to queue <serial>.\n",
      "\n"
     ]
    }
   ],
   "source": [
    "for runner in runners[:1]:\n",
    "    runner.input_params()\n",
    "    proc = runner.build()\n",
    "    out, err = proc.communicate()\n",
    "    runner.run()"
   ]
  },
  {
   "cell_type": "code",
   "execution_count": 215,
   "metadata": {},
   "outputs": [
    {
     "data": {
      "text/plain": [
       "'435025'"
      ]
     },
     "execution_count": 215,
     "metadata": {},
     "output_type": "execute_result"
    }
   ],
   "source": [
    "runners[0].job_id"
   ]
  },
  {
   "cell_type": "code",
   "execution_count": 152,
   "metadata": {},
   "outputs": [
    {
     "data": {
      "text/plain": [
       "'434166'"
      ]
     },
     "execution_count": 152,
     "metadata": {},
     "output_type": "execute_result"
    }
   ],
   "source": [
    "runners[1].job_id"
   ]
  },
  {
   "cell_type": "code",
   "execution_count": 227,
   "metadata": {},
   "outputs": [
    {
     "name": "stdout",
     "output_type": "stream",
     "text": [
      "No matching job found\r\n",
      "serial;  type=BATCH;  [ENABLED];  pri=35\r\n",
      "2 run;   3 wait;\r\n",
      "\r\n",
      "\r\n",
      "v4q;  type=BATCH;  [ENABLED];  pri=30\r\n",
      "96 run;   0 wait;\r\n",
      "\r\n",
      "\r\n",
      "v4qexp;  type=BATCH;  [ENABLED];  pri=30\r\n",
      "192 run;   0 wait;\r\n",
      "\r\n",
      "\r\n",
      "LCCR_Q;  type=BATCH;  [ENABLED];  pri=30\r\n",
      "0 run;   0 wait;\r\n",
      "\r\n",
      "\r\n",
      "URBAN_Q;  type=BATCH;  [ENABLED];  pri=30\r\n",
      "576 run;   0 wait;\r\n",
      "\r\n",
      "\r\n",
      "orc;  type=BATCH;  [ENABLED];  pri=30\r\n",
      "0 run;   0 wait;\r\n",
      "\r\n",
      "\r\n",
      "RCEC_Q;  type=BATCH;  [ENABLED];  pri=30\r\n",
      "192 run;   0 wait;\r\n",
      "\r\n",
      "\r\n",
      "medium_priority;  type=BATCH;  [ENABLED];  pri=10\r\n",
      "0 run;   0 wait;\r\n",
      "\r\n",
      "\r\n"
     ]
    }
   ],
   "source": [
    "! qstat -u jackyu"
   ]
  },
  {
   "cell_type": "code",
   "execution_count": 230,
   "metadata": {},
   "outputs": [
    {
     "data": {
      "text/plain": [
       "<class 'exp.nb_00.LBLnewBestfitSWParam'>\n",
       "{'dv': 0.001, 'nv': 10000, 'commitnumber': '79f2292', 'band': 9, 'molecule': 'h2o', 'atmpro': 'saw', 'tsfc': None, 'vmin': 8200, 'vmax': 14290, 'conc': 'atmpro', 'ref_pts': [(30, 250), (300, 250)], 'ng_refs': [3, 9], 'ng_adju': [-3, 0], 'wgt': [(0.95, 0.9, 0.6, 0.5), (0.55, 0.55, 0.55, 0.65, 0.65, 0.7, 0.8, 0.9)], 'cosz': 1, 'rsfc': 0, 'klin': 3e-25, 'option_k_lookup': 0}"
      ]
     },
     "execution_count": 230,
     "metadata": {},
     "output_type": "execute_result"
    }
   ],
   "source": [
    "runners[0].param"
   ]
  },
  {
   "cell_type": "markdown",
   "metadata": {
    "heading_collapsed": true
   },
   "source": [
    "## Run lblnew-bestfit-sw analysis  \n",
    "Run the analysis notebook for lblnew-bestfit-sw in this section."
   ]
  },
  {
   "cell_type": "code",
   "execution_count": 220,
   "metadata": {
    "collapsed": true,
    "hidden": true
   },
   "outputs": [],
   "source": [
    "# Specify the root directory under which you want to run analysis of lblnew-bestfit-sw's output data\n",
    "\n",
    "# Gather most of the analysis notebooks here:\n",
    "PATH_ANALYSIS = Path('/chia_cluster/home/jackyu/radiation/analysis_-_new_kdist_param_sw/')"
   ]
  },
  {
   "cell_type": "code",
   "execution_count": 224,
   "metadata": {
    "hidden": true
   },
   "outputs": [],
   "source": []
  },
  {
   "cell_type": "code",
   "execution_count": 226,
   "metadata": {
    "hidden": true
   },
   "outputs": [],
   "source": [
    "paths = [PATH_ANALYSIS/'/'.join(sorted(f'{n}_{v}' for n, v in vars(r.param).items())) for r in runners]\n",
    "analyses = [LBLnewBestfitSWAnalysis(path=r.path, runner=r) for r, path in zip(runners, paths)]"
   ]
  },
  {
   "cell_type": "code",
   "execution_count": 161,
   "metadata": {
    "hidden": true
   },
   "outputs": [
    {
     "name": "stdout",
     "output_type": "stream",
     "text": [
      "Git-add  \n",
      "Git-commit\n",
      " stdout: [master 7c2d462] band09 h2o saw cosz=1 nf_refs=[3, 9]\n",
      " 1 file changed, 1841 insertions(+)\n",
      " create mode 100644 atmpro_saw/band_9/commitnumber_79f2292/conc_atmpro/cosz_1/dv_0.001/klin_3e-25/molecule_h2o/ng_adju_[-3, 0]/ng_refs_[3, 9]/nv_10000/option_k_lookup_0/ref_pts_[(30, 250), (300, 250)]/rsfc_0/tsfc_None/vmax_14290/vmin_8200/wgt_[(0.95, 0.9, 0.6, 0.5), (0.55, 0.55, 0.55, 0.65, 0.65, 0.7, 0.8, 0.9)]/analysis_-_lblnew-bestfit-sw.ipynb\n",
      "\n",
      " stderr:  \n",
      "\n",
      "Git-add  \n",
      "Git-commit\n",
      " stdout: [master 81acc78] band09 h2o trp cosz=0.2588 nf_refs=[3, 9]\n",
      " 1 file changed, 1841 insertions(+)\n",
      " create mode 100644 atmpro_trp/band_9/commitnumber_79f2292/conc_atmpro/cosz_0.2588/dv_0.001/klin_3e-25/molecule_h2o/ng_adju_[-3, 0]/ng_refs_[3, 9]/nv_10000/option_k_lookup_0/ref_pts_[(30, 250), (300, 250)]/rsfc_0/tsfc_None/vmax_14290/vmin_8200/wgt_[(0.95, 0.9, 0.6, 0.5), (0.55, 0.55, 0.55, 0.65, 0.65, 0.7, 0.8, 0.9)]/analysis_-_lblnew-bestfit-sw.ipynb\n",
      "\n",
      " stderr:  \n",
      "\n"
     ]
    }
   ],
   "source": [
    "for analysis in analyses:\n",
    "    analysis.run()\n",
    "    proc = analysis.gitcommit()\n",
    "    out, err = proc.communicate()\n",
    "    print('Git-commit\\n', f'stdout: {out.decode()}\\n', f'stderr: {err.decode()}', '\\n')"
   ]
  },
  {
   "cell_type": "code",
   "execution_count": 205,
   "metadata": {
    "hidden": true
   },
   "outputs": [
    {
     "name": "stdout",
     "output_type": "stream",
     "text": [
      "https:/nbviewer.jupyter.org/github/qap/analysis_-_new_kdist_param_sw/blob/master/atmpro_saw/band_9/commitnumber_79f2292/conc_atmpro/cosz_1/dv_0.001/klin_3e-25/molecule_h2o/ng_adju_[-3, 0]/ng_refs_[3, 9]/nv_10000/option_k_lookup_0/ref_pts_[(30, 250), (300, 250)]/rsfc_0/tsfc_None/vmax_14290/vmin_8200/wgt_[(0.95, 0.9, 0.6, 0.5), (0.55, 0.55, 0.55, 0.65, 0.65, 0.7, 0.8, 0.9)]/analysis_-_lblnew-bestfit-sw.ipynb\n",
      "\n",
      "https:/nbviewer.jupyter.org/github/qap/analysis_-_new_kdist_param_sw/blob/master/atmpro_trp/band_9/commitnumber_79f2292/conc_atmpro/cosz_0.2588/dv_0.001/klin_3e-25/molecule_h2o/ng_adju_[-3, 0]/ng_refs_[3, 9]/nv_10000/option_k_lookup_0/ref_pts_[(30, 250), (300, 250)]/rsfc_0/tsfc_None/vmax_14290/vmin_8200/wgt_[(0.95, 0.9, 0.6, 0.5), (0.55, 0.55, 0.55, 0.65, 0.65, 0.7, 0.8, 0.9)]/analysis_-_lblnew-bestfit-sw.ipynb\n",
      "\n"
     ]
    }
   ],
   "source": [
    "for analysis in analyses: \n",
    "    name_gitrepo = PRE_URL.parents[1].stem\n",
    "    print(str(PRE_URL) + str(analysis.path).split(name_gitrepo)[-1] + '/analysis_-_lblnew-bestfit-sw.ipynb')\n",
    "    print()"
   ]
  },
  {
   "cell_type": "code",
   "execution_count": null,
   "metadata": {
    "collapsed": true,
    "hidden": true
   },
   "outputs": [],
   "source": []
  },
  {
   "cell_type": "markdown",
   "metadata": {
    "collapsed": true
   },
   "source": [
    "# fin"
   ]
  },
  {
   "cell_type": "code",
   "execution_count": null,
   "metadata": {
    "collapsed": true
   },
   "outputs": [],
   "source": []
  }
 ],
 "metadata": {
  "kernelspec": {
   "display_name": "Python 3",
   "language": "python",
   "name": "python3"
  }
 },
 "nbformat": 4,
 "nbformat_minor": 2
}

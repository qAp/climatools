{
 "cells": [
  {
   "cell_type": "markdown",
   "metadata": {},
   "source": [
    "# Analysis"
   ]
  },
  {
   "cell_type": "code",
   "execution_count": 484,
   "metadata": {
    "collapsed": true
   },
   "outputs": [],
   "source": [
    "%reload_ext autoreload\n",
    "%autoreload 2"
   ]
  },
  {
   "cell_type": "code",
   "execution_count": 485,
   "metadata": {},
   "outputs": [],
   "source": [
    "#export\n",
    "from exp.nb_00 import *\n",
    "from exp.nb_01 import *\n",
    "from exp.nb_02 import *\n",
    "import os\n",
    "import shutil\n",
    "import pickle\n",
    "import re\n",
    "import subprocess\n",
    "import nbformat\n",
    "from nbconvert.preprocessors import ExecutePreprocessor\n",
    "import numpy as np\n",
    "from climatools.lblnew.export import vector_to_F77"
   ]
  },
  {
   "cell_type": "code",
   "execution_count": 487,
   "metadata": {},
   "outputs": [
    {
     "data": {
      "text/plain": [
       "<class 'exp.nb_00.LBLnewBestfitSWParam'>\n",
       "{'dv': 0.001, 'nv': 10000, 'commitnumber': '79f2292', 'band': 9, 'molecule': 'h2o', 'atmpro': 'saw', 'tsfc': None, 'vmin': 8200, 'vmax': 14290, 'conc': 'atmpro', 'ref_pts': [(30, 250), (300, 250)], 'ng_refs': [3, 9], 'ng_adju': [-3, 0], 'wgt': [(0.95, 0.9, 0.6, 0.5), (0.55, 0.55, 0.55, 0.65, 0.65, 0.7, 0.8, 0.9)], 'cosz': 1, 'rsfc': 0, 'klin': 3e-25, 'option_k_lookup': 0}"
      ]
     },
     "execution_count": 487,
     "metadata": {},
     "output_type": "execute_result"
    }
   ],
   "source": [
    "param = LBLnewBestfitSWParam(**{'dv': 0.001, 'nv': 10000, 'commitnumber': '79f2292', 'band': 9, 'molecule': 'h2o', 'atmpro': 'saw', 'tsfc': None, 'vmin': 8200, 'vmax': 14290, 'conc': 'atmpro', 'ref_pts': [(30, 250), (300, 250)], 'ng_refs': [3, 9], 'ng_adju': [-3, 0], 'wgt': [(0.95, 0.9, 0.6, 0.5), (0.55, 0.55, 0.55, 0.65, 0.65, 0.7, 0.8, 0.9)], 'cosz': 1, 'rsfc': 0, 'klin': 3e-25, 'option_k_lookup': 0})\n",
    "param"
   ]
  },
  {
   "cell_type": "code",
   "execution_count": 488,
   "metadata": {
    "collapsed": true
   },
   "outputs": [],
   "source": [
    "PATH_FORTRAN = Path('/chia_cluster/home/jackyu/radiation/crdnew-sw/examples')"
   ]
  },
  {
   "cell_type": "code",
   "execution_count": 489,
   "metadata": {},
   "outputs": [],
   "source": [
    "path = PATH_FORTRAN/'/'.join(sorted(f'{n}_{v}' for n, v in vars(param).items()))\n",
    "runner = LBLnewBestfitSWRun(path, param)"
   ]
  },
  {
   "cell_type": "code",
   "execution_count": 490,
   "metadata": {
    "collapsed": true
   },
   "outputs": [],
   "source": [
    "runner.input_params()\n",
    "proc = runner.build()\n",
    "out, err = proc.communicate()"
   ]
  },
  {
   "cell_type": "code",
   "execution_count": 492,
   "metadata": {},
   "outputs": [
    {
     "name": "stdout",
     "output_type": "stream",
     "text": [
      "Job <435071> is submitted to queue <serial>.\n",
      "\n"
     ]
    }
   ],
   "source": [
    "runner.run()"
   ]
  },
  {
   "cell_type": "code",
   "execution_count": 494,
   "metadata": {},
   "outputs": [
    {
     "name": "stdout",
     "output_type": "stream",
     "text": [
      "No matching job found\r\n",
      "serial;  type=BATCH;  [ENABLED];  pri=35\r\n",
      "3 run;   7 wait;\r\n",
      "\r\n",
      "\r\n",
      "v4q;  type=BATCH;  [ENABLED];  pri=30\r\n",
      "192 run;   0 wait;\r\n",
      "\r\n",
      "\r\n",
      "v4qexp;  type=BATCH;  [ENABLED];  pri=30\r\n",
      "144 run;   192 wait;\r\n",
      "\r\n",
      "\r\n",
      "LCCR_Q;  type=BATCH;  [ENABLED];  pri=30\r\n",
      "1152 run;   0 wait;\r\n",
      "\r\n",
      "\r\n",
      "URBAN_Q;  type=BATCH;  [ENABLED];  pri=30\r\n",
      "161 run;   448 wait;\r\n",
      "\r\n",
      "\r\n",
      "orc;  type=BATCH;  [ENABLED];  pri=30\r\n",
      "0 run;   0 wait;\r\n",
      "\r\n",
      "\r\n",
      "RCEC_Q;  type=BATCH;  [ENABLED];  pri=30\r\n",
      "96 run;   0 wait;\r\n",
      "\r\n",
      "\r\n",
      "medium_priority;  type=BATCH;  [ENABLED];  pri=10\r\n",
      "0 run;   0 wait;\r\n",
      "\r\n",
      "\r\n"
     ]
    }
   ],
   "source": [
    "! qstat -u jackyu"
   ]
  },
  {
   "cell_type": "markdown",
   "metadata": {},
   "source": [
    "## Set up analysis directory"
   ]
  },
  {
   "cell_type": "code",
   "execution_count": 495,
   "metadata": {},
   "outputs": [
    {
     "data": {
      "text/plain": [
       "PosixPath('/chia_cluster/home/jackyu/radiation/analysis_-_new_kdist_param_sw')"
      ]
     },
     "execution_count": 495,
     "metadata": {},
     "output_type": "execute_result"
    }
   ],
   "source": [
    "PATH_ANALYSIS"
   ]
  },
  {
   "cell_type": "code",
   "execution_count": 496,
   "metadata": {},
   "outputs": [
    {
     "data": {
      "text/plain": [
       "PosixPath('/chia_cluster/home/jackyu/radiation/analysis_-_new_kdist_param_sw/atmpro_saw/band_9/commitnumber_79f2292/conc_atmpro/cosz_1/dv_0.001/klin_3e-25/molecule_h2o/ng_adju_[-3, 0]/ng_refs_[3, 9]/nv_10000/option_k_lookup_0/ref_pts_[(30, 250), (300, 250)]/rsfc_0/tsfc_None/vmax_14290/vmin_8200/wgt_[(0.95, 0.9, 0.6, 0.5), (0.55, 0.55, 0.55, 0.65, 0.65, 0.7, 0.8, 0.9)]')"
      ]
     },
     "execution_count": 496,
     "metadata": {},
     "output_type": "execute_result"
    }
   ],
   "source": [
    "# We are going to test directly at a location inside the 'analysis_-_new_kdist_param_sw' repository, \n",
    "# because we will try to git-add and git-commit the executed notebook.\n",
    "PATH = PATH_ANALYSIS/'/'.join(sorted(f'{n}_{v}' for n, v in vars(param).items()))\n",
    "PATH"
   ]
  },
  {
   "cell_type": "code",
   "execution_count": 347,
   "metadata": {
    "collapsed": true
   },
   "outputs": [],
   "source": []
  },
  {
   "cell_type": "code",
   "execution_count": 497,
   "metadata": {},
   "outputs": [],
   "source": [
    "PATH.mkdir(exist_ok=True, parents=True)"
   ]
  },
  {
   "cell_type": "markdown",
   "metadata": {
    "heading_collapsed": true
   },
   "source": [
    "## Load the analysis notebook template"
   ]
  },
  {
   "cell_type": "code",
   "execution_count": 463,
   "metadata": {
    "hidden": true
   },
   "outputs": [
    {
     "name": "stdout",
     "output_type": "stream",
     "text": [
      "/chia_cluster/home/jackyu/climatools/climatools/notebooks/sw_dev\r\n"
     ]
    }
   ],
   "source": [
    "! pwd"
   ]
  },
  {
   "cell_type": "code",
   "execution_count": 350,
   "metadata": {
    "hidden": true
   },
   "outputs": [],
   "source": [
    "os.chdir('/chia_cluster/home/jackyu/climatools/climatools/notebooks/sw_dev/')"
   ]
  },
  {
   "cell_type": "code",
   "execution_count": 351,
   "metadata": {
    "hidden": true
   },
   "outputs": [],
   "source": [
    "# For now, we assume that the analysis notebook template resides in the current directory\n",
    "# in which we're developing things: /chia_cluster/home/jackyu/climatools/climatools/notebooks/sw_dev/.\n",
    "with open('analysis_-_lblnew-bestfit-sw.ipynb') as f:\n",
    "    analysis_nb = nbformat.read(f, as_version=nbformat.NO_CONVERT)"
   ]
  },
  {
   "cell_type": "code",
   "execution_count": 352,
   "metadata": {
    "hidden": true
   },
   "outputs": [
    {
     "data": {
      "text/plain": [
       "\"{'dv': 0.001, 'nv': 10000, 'commitnumber': None, 'band': 9, 'molecule': 'h2o', 'atmpro': None, 'tsfc': None, 'vmin': 8200, 'vmax': 14290, 'conc': 'atmpro', 'ref_pts': [(300, 250), (300, 250)], 'ng_refs': [4, 6], 'ng_adju': [-3, 0], 'wgt': [(0.95, 0.9, 0.5, 0.5), (0.5, 0.5, 0.5, 0.7, 0.85, 0.95)], 'cosz': 1.0, 'rsfc': 0, 'klin': 3e-25, 'option_k_lookup': 0}\""
      ]
     },
     "execution_count": 352,
     "metadata": {},
     "output_type": "execute_result"
    }
   ],
   "source": [
    "str(vars(runner.param))"
   ]
  },
  {
   "cell_type": "code",
   "execution_count": 353,
   "metadata": {
    "hidden": true
   },
   "outputs": [
    {
     "data": {
      "text/plain": [
       "{'cell_type': 'code',\n",
       " 'execution_count': 3,\n",
       " 'metadata': {},\n",
       " 'outputs': [],\n",
       " 'source': \"PARAM = LBLnewBestfitSWParam(**{'dv': 0.001, 'nv': 10000, 'commitnumber': None, 'band': 9, 'molecule': 'h2o', 'atmpro': None, 'tsfc': None, 'vmin': 8200, 'vmax': 14290, 'conc': 'atmpro', 'ref_pts': [(300, 250), (300, 250)], 'ng_refs': [4, 6], 'ng_adju': [-3, 0], 'wgt': [(0.95, 0.9, 0.5, 0.5), (0.5, 0.5, 0.5, 0.7, 0.85, 0.95)], 'cosz': 1.0, 'rsfc': 0, 'klin': 3e-25, 'option_k_lookup': 0})\"}"
      ]
     },
     "execution_count": 353,
     "metadata": {},
     "output_type": "execute_result"
    }
   ],
   "source": [
    "analysis_nb['cells'][2]['source'] = f'''PARAM = LBLnewBestfitSWParam(**{vars(runner.param)})'''\n",
    "analysis_nb['cells'][2]"
   ]
  },
  {
   "cell_type": "code",
   "execution_count": 354,
   "metadata": {
    "hidden": true
   },
   "outputs": [
    {
     "data": {
      "text/plain": [
       "{'cell_type': 'code',\n",
       " 'execution_count': 4,\n",
       " 'metadata': {'collapsed': True},\n",
       " 'outputs': [],\n",
       " 'source': 'PATH = Path(\"test1/test1\")'}"
      ]
     },
     "execution_count": 354,
     "metadata": {},
     "output_type": "execute_result"
    }
   ],
   "source": [
    "analysis_nb['cells'][3]['source'] = f'''PATH = Path(\"{runner.path}\")'''\n",
    "analysis_nb['cells'][3]"
   ]
  },
  {
   "cell_type": "code",
   "execution_count": 355,
   "metadata": {
    "hidden": true
   },
   "outputs": [
    {
     "data": {
      "text/plain": [
       "PosixPath('test1/test1')"
      ]
     },
     "execution_count": 355,
     "metadata": {},
     "output_type": "execute_result"
    }
   ],
   "source": [
    "Path(runner.path)"
   ]
  },
  {
   "cell_type": "code",
   "execution_count": null,
   "metadata": {
    "collapsed": true,
    "hidden": true
   },
   "outputs": [],
   "source": []
  },
  {
   "cell_type": "markdown",
   "metadata": {
    "heading_collapsed": true
   },
   "source": [
    "## Run the analysis notebook  \n",
    "Useful: https://nbconvert.readthedocs.io/en/latest/execute_api.html"
   ]
  },
  {
   "cell_type": "code",
   "execution_count": 357,
   "metadata": {
    "hidden": true
   },
   "outputs": [
    {
     "data": {
      "text/plain": [
       "(PosixPath('/chia_cluster/home/jackyu/radiation/analysis_-_new_kdist_param_sw/analysis_test'),\n",
       " [])"
      ]
     },
     "execution_count": 357,
     "metadata": {},
     "output_type": "execute_result"
    }
   ],
   "source": [
    "PATH, list(PATH.iterdir())"
   ]
  },
  {
   "cell_type": "code",
   "execution_count": 358,
   "metadata": {
    "hidden": true,
    "scrolled": true
   },
   "outputs": [],
   "source": [
    "ep = ExecutePreprocessor(timeout=600)\n",
    "ep.preprocess(analysis_nb, {});"
   ]
  },
  {
   "cell_type": "code",
   "execution_count": 359,
   "metadata": {
    "hidden": true
   },
   "outputs": [],
   "source": [
    "with open(PATH/'analysis_-_lblnew-bestfit-sw.ipynb', mode='w', encoding='utf-8') as f:\n",
    "    nbformat.write(analysis_nb, f)"
   ]
  },
  {
   "cell_type": "code",
   "execution_count": 360,
   "metadata": {
    "hidden": true
   },
   "outputs": [
    {
     "data": {
      "text/plain": [
       "PosixPath('/chia_cluster/home/jackyu/radiation/analysis_-_new_kdist_param_sw/analysis_test')"
      ]
     },
     "execution_count": 360,
     "metadata": {},
     "output_type": "execute_result"
    }
   ],
   "source": [
    "PATH"
   ]
  },
  {
   "cell_type": "markdown",
   "metadata": {
    "heading_collapsed": true
   },
   "source": [
    "## Git add the executed notebook"
   ]
  },
  {
   "cell_type": "code",
   "execution_count": 361,
   "metadata": {
    "hidden": true
   },
   "outputs": [
    {
     "data": {
      "text/plain": [
       "(PosixPath('/chia_cluster/home/jackyu/radiation/analysis_-_new_kdist_param_sw/analysis_test'),\n",
       " [PosixPath('/chia_cluster/home/jackyu/radiation/analysis_-_new_kdist_param_sw/analysis_test/analysis_-_lblnew-bestfit-sw.ipynb')])"
      ]
     },
     "execution_count": 361,
     "metadata": {},
     "output_type": "execute_result"
    }
   ],
   "source": [
    "PATH, list(PATH.iterdir())"
   ]
  },
  {
   "cell_type": "markdown",
   "metadata": {
    "hidden": true
   },
   "source": [
    "In order to add the executed notebook to the 'analysis_-_lblnew-bestfit-sw' directory, we need to be under that directory at least. "
   ]
  },
  {
   "cell_type": "code",
   "execution_count": 363,
   "metadata": {
    "hidden": true
   },
   "outputs": [
    {
     "data": {
      "text/plain": [
       "'/chia_cluster/home/jackyu/climatools/climatools/notebooks/sw_dev'"
      ]
     },
     "execution_count": 363,
     "metadata": {},
     "output_type": "execute_result"
    }
   ],
   "source": [
    "cwd = os.getcwd()\n",
    "cwd"
   ]
  },
  {
   "cell_type": "code",
   "execution_count": 364,
   "metadata": {
    "collapsed": true,
    "hidden": true
   },
   "outputs": [],
   "source": [
    "os.chdir(PATH)"
   ]
  },
  {
   "cell_type": "code",
   "execution_count": 365,
   "metadata": {
    "hidden": true
   },
   "outputs": [
    {
     "name": "stdout",
     "output_type": "stream",
     "text": [
      "analysis_-_lblnew-bestfit-sw.ipynb\r\n"
     ]
    }
   ],
   "source": [
    "! ls"
   ]
  },
  {
   "cell_type": "code",
   "execution_count": 370,
   "metadata": {
    "hidden": true
   },
   "outputs": [],
   "source": [
    "proc = subprocess.Popen(['git', 'add', 'analysis_-_lblnew-bestfit-sw.ipynb'], \n",
    "                        stdout=subprocess.PIPE, stderr=subprocess.PIPE)"
   ]
  },
  {
   "cell_type": "code",
   "execution_count": 371,
   "metadata": {
    "collapsed": true,
    "hidden": true
   },
   "outputs": [],
   "source": [
    "out, err = proc.communicate()"
   ]
  },
  {
   "cell_type": "code",
   "execution_count": 372,
   "metadata": {
    "hidden": true
   },
   "outputs": [
    {
     "name": "stdout",
     "output_type": "stream",
     "text": [
      " \n"
     ]
    }
   ],
   "source": [
    "print(out.decode(), err.decode())"
   ]
  },
  {
   "cell_type": "code",
   "execution_count": 373,
   "metadata": {
    "hidden": true
   },
   "outputs": [
    {
     "name": "stdout",
     "output_type": "stream",
     "text": [
      "On branch master\r\n",
      "Your branch is up to date with 'origin/master'.\r\n",
      "\r\n",
      "Changes to be committed:\r\n",
      "  (use \"git reset HEAD <file>...\" to unstage)\r\n",
      "\r\n",
      "\t\u001b[32mnew file:   analysis_-_lblnew-bestfit-sw.ipynb\u001b[m\r\n",
      "\r\n",
      "Changes not staged for commit:\r\n",
      "  (use \"git add <file>...\" to update what will be committed)\r\n",
      "  (use \"git checkout -- <file>...\" to discard changes in working directory)\r\n",
      "\r\n",
      "\t\u001b[31mmodified:   ../atmpro_None/band_9/commitnumber_None/conc_atmpro/cosz_1.0/dv_0.001/klin_3e-25/molecule_h2o/ng_adju_[-3, 0]/ng_refs_[4, 6]/nv_10000/option_k_lookup_0/ref_pts_[(300, 250), (300, 250)]/rsfc_0/tsfc_None/vmax_14290/vmin_8200/wgt_[(0.95, 0.9, 0.5, 0.5), (0.5, 0.5, 0.5, 0.7, 0.85, 0.95)]/analysis_-_lblnew-bestfit-sw.ipynb\u001b[m\r\n",
      "\t\u001b[31mmodified:   ../band09_-_h2o_atmpro_-_mls_-_cosz_1.ipynb\u001b[m\r\n",
      "\r\n",
      "Untracked files:\r\n",
      "  (use \"git add <file>...\" to include in what will be committed)\r\n",
      "\r\n",
      "\t\u001b[31m../.ipynb_checkpoints/\u001b[m\r\n",
      "\r\n"
     ]
    }
   ],
   "source": [
    "! git status"
   ]
  },
  {
   "cell_type": "markdown",
   "metadata": {
    "heading_collapsed": true
   },
   "source": [
    "## Git-commit the analysis notebook \n",
    "The commit message will contain the parameters for this particular case."
   ]
  },
  {
   "cell_type": "code",
   "execution_count": 374,
   "metadata": {
    "hidden": true
   },
   "outputs": [
    {
     "data": {
      "text/plain": [
       "<class 'exp.nb_00.LBLnewBestfitSWParam'>\n",
       "{'dv': 0.001, 'nv': 10000, 'commitnumber': None, 'band': 9, 'molecule': 'h2o', 'atmpro': None, 'tsfc': None, 'vmin': 8200, 'vmax': 14290, 'conc': 'atmpro', 'ref_pts': [(300, 250), (300, 250)], 'ng_refs': [4, 6], 'ng_adju': [-3, 0], 'wgt': [(0.95, 0.9, 0.5, 0.5), (0.5, 0.5, 0.5, 0.7, 0.85, 0.95)], 'cosz': 1.0, 'rsfc': 0, 'klin': 3e-25, 'option_k_lookup': 0}"
      ]
     },
     "execution_count": 374,
     "metadata": {},
     "output_type": "execute_result"
    }
   ],
   "source": [
    "runner.param"
   ]
  },
  {
   "cell_type": "code",
   "execution_count": 380,
   "metadata": {
    "hidden": true
   },
   "outputs": [
    {
     "data": {
      "text/plain": [
       "'band09 h2o None cosz=1.0 nf_refs=[4, 6]'"
      ]
     },
     "execution_count": 380,
     "metadata": {},
     "output_type": "execute_result"
    }
   ],
   "source": [
    "title = f\"band{runner.param.band:02d} {runner.param.molecule} {runner.param.atmpro} cosz={runner.param.cosz} nf_refs={runner.param.ng_refs}\"\n",
    "title"
   ]
  },
  {
   "cell_type": "code",
   "execution_count": 388,
   "metadata": {
    "hidden": true
   },
   "outputs": [
    {
     "name": "stdout",
     "output_type": "stream",
     "text": [
      "atmpro None\n",
      "band 9\n",
      "commitnumber None\n",
      "conc atmpro\n",
      "cosz 1.0\n",
      "dv 0.001\n",
      "klin 3e-25\n",
      "molecule h2o\n",
      "ng_adju [-3, 0]\n",
      "ng_refs [4, 6]\n",
      "nv 10000\n",
      "option_k_lookup 0\n",
      "ref_pts [(300, 250), (300, 250)]\n",
      "rsfc 0\n",
      "tsfc None\n",
      "vmax 14290\n",
      "vmin 8200\n",
      "wgt [(0.95, 0.9, 0.5, 0.5), (0.5, 0.5, 0.5, 0.7, 0.85, 0.95)]\n"
     ]
    }
   ],
   "source": [
    "body = '\\n'.join(sorted(f\"{n} {v}\" for n, v in vars(runner.param).items()))\n",
    "print(body)"
   ]
  },
  {
   "cell_type": "code",
   "execution_count": 391,
   "metadata": {
    "hidden": true
   },
   "outputs": [],
   "source": [
    "proc = subprocess.Popen(f'''git commit -m \"{title}\" -m \"{body}\"''', shell=True,\n",
    "                        stdout=subprocess.PIPE, stderr=subprocess.PIPE)"
   ]
  },
  {
   "cell_type": "code",
   "execution_count": 392,
   "metadata": {
    "collapsed": true,
    "hidden": true
   },
   "outputs": [],
   "source": [
    "out, err = proc.communicate()"
   ]
  },
  {
   "cell_type": "code",
   "execution_count": 393,
   "metadata": {
    "hidden": true
   },
   "outputs": [
    {
     "name": "stdout",
     "output_type": "stream",
     "text": [
      "On branch master\r\n",
      "Your branch is ahead of 'origin/master' by 1 commit.\r\n",
      "  (use \"git push\" to publish your local commits)\r\n",
      "\r\n",
      "Changes not staged for commit:\r\n",
      "  (use \"git add <file>...\" to update what will be committed)\r\n",
      "  (use \"git checkout -- <file>...\" to discard changes in working directory)\r\n",
      "\r\n",
      "\t\u001b[31mmodified:   ../atmpro_None/band_9/commitnumber_None/conc_atmpro/cosz_1.0/dv_0.001/klin_3e-25/molecule_h2o/ng_adju_[-3, 0]/ng_refs_[4, 6]/nv_10000/option_k_lookup_0/ref_pts_[(300, 250), (300, 250)]/rsfc_0/tsfc_None/vmax_14290/vmin_8200/wgt_[(0.95, 0.9, 0.5, 0.5), (0.5, 0.5, 0.5, 0.7, 0.85, 0.95)]/analysis_-_lblnew-bestfit-sw.ipynb\u001b[m\r\n",
      "\t\u001b[31mmodified:   ../band09_-_h2o_atmpro_-_mls_-_cosz_1.ipynb\u001b[m\r\n",
      "\r\n",
      "Untracked files:\r\n",
      "  (use \"git add <file>...\" to include in what will be committed)\r\n",
      "\r\n",
      "\t\u001b[31m../.ipynb_checkpoints/\u001b[m\r\n",
      "\r\n",
      "no changes added to commit (use \"git add\" and/or \"git commit -a\")\r\n"
     ]
    }
   ],
   "source": [
    "! git status"
   ]
  },
  {
   "cell_type": "code",
   "execution_count": 394,
   "metadata": {
    "hidden": true
   },
   "outputs": [
    {
     "name": "stdout",
     "output_type": "stream",
     "text": [
      "\u001b[33mcommit 6fb47c1c797db1d3cc35dd5a3af515f290e4ef79\u001b[m\u001b[33m (\u001b[m\u001b[1;36mHEAD -> \u001b[m\u001b[1;32mmaster\u001b[m\u001b[33m)\u001b[m\r\n",
      "Author: Jack Yu <llacque@gmail.com>\r\n",
      "Date:   Wed May 29 10:39:14 2019 +0800\r\n",
      "\r\n",
      "    band09 h2o None cosz=1.0 nf_refs=[4, 6]\r\n",
      "    \r\n",
      "    atmpro None\r\n",
      "    band 9\r\n",
      "    commitnumber None\r\n",
      "    conc atmpro\r\n",
      "    cosz 1.0\r\n",
      "    dv 0.001\r\n",
      "    klin 3e-25\r\n",
      "    molecule h2o\r\n",
      "    ng_adju [-3, 0]\r\n",
      "    ng_refs [4, 6]\r\n",
      "    nv 10000\r\n",
      "    option_k_lookup 0\r\n",
      "    ref_pts [(300, 250), (300, 250)]\r\n",
      "    rsfc 0\r\n",
      "    tsfc None\r\n",
      "    vmax 14290\r\n",
      "    vmin 8200\r\n",
      "    wgt [(0.95, 0.9, 0.5, 0.5), (0.5, 0.5, 0.5, 0.7, 0.85, 0.95)]\r\n"
     ]
    }
   ],
   "source": [
    "! git log -1"
   ]
  },
  {
   "cell_type": "markdown",
   "metadata": {},
   "source": [
    "## Get nbviewer url   \n",
    "We want to be able to conveniently obtain the url that points to the uploaded jupyter notebook."
   ]
  },
  {
   "cell_type": "code",
   "execution_count": 526,
   "metadata": {
    "collapsed": true
   },
   "outputs": [],
   "source": [
    "PRE_URL = Path('https://nbviewer.jupyter.org/github/qap')"
   ]
  },
  {
   "cell_type": "code",
   "execution_count": 535,
   "metadata": {},
   "outputs": [
    {
     "data": {
      "text/plain": [
       "'blob/master/atmpro_saw/band_9/commitnumber_79f2292/conc_atmpro/cosz_1/dv_0.001/klin_3e-25/molecule_h2o/ng_adju_[-3, 0]/ng_refs_[3, 9]/nv_10000/option_k_lookup_0/ref_pts_[(30, 250), (300, 250)]/rsfc_0/tsfc_None/vmax_14290/vmin_8200/wgt_[(0.95, 0.9, 0.6, 0.5), (0.55, 0.55, 0.55, 0.65, 0.65, 0.7, 0.8, 0.9)]'"
      ]
     },
     "execution_count": 535,
     "metadata": {},
     "output_type": "execute_result"
    }
   ],
   "source": [
    "gitname = 'analysis_-_new_kdist_param_sw'\n",
    "if ('/' + gitname + '/') in str(PATH): _, suf = str(PATH).split(gitname)\n",
    "else: suf = PATH\n",
    "suf = 'blob/master' + suf\n",
    "suf"
   ]
  },
  {
   "cell_type": "code",
   "execution_count": 536,
   "metadata": {},
   "outputs": [
    {
     "data": {
      "text/plain": [
       "PosixPath('https:/nbviewer.jupyter.org/github/qap/analysis_-_new_kdist_param_sw/blob/master/atmpro_saw/band_9/commitnumber_79f2292/conc_atmpro/cosz_1/dv_0.001/klin_3e-25/molecule_h2o/ng_adju_[-3, 0]/ng_refs_[3, 9]/nv_10000/option_k_lookup_0/ref_pts_[(30, 250), (300, 250)]/rsfc_0/tsfc_None/vmax_14290/vmin_8200/wgt_[(0.95, 0.9, 0.6, 0.5), (0.55, 0.55, 0.55, 0.65, 0.65, 0.7, 0.8, 0.9)]/analysis_-_lblnew-bestfit-sw.ipynb')"
      ]
     },
     "execution_count": 536,
     "metadata": {},
     "output_type": "execute_result"
    }
   ],
   "source": [
    "PRE_URL/gitname/suf/'analysis_-_lblnew-bestfit-sw.ipynb'"
   ]
  },
  {
   "cell_type": "code",
   "execution_count": 435,
   "metadata": {},
   "outputs": [],
   "source": []
  },
  {
   "cell_type": "code",
   "execution_count": null,
   "metadata": {
    "collapsed": true
   },
   "outputs": [],
   "source": []
  },
  {
   "cell_type": "markdown",
   "metadata": {},
   "source": [
    "## Putting things together -- LBLnewBestfitSWAnalysis class"
   ]
  },
  {
   "cell_type": "code",
   "execution_count": 577,
   "metadata": {},
   "outputs": [],
   "source": [
    "#export\n",
    "class LBLnewBestfitSWAnalysis(object):\n",
    "    def __init__(self, path, runner):\n",
    "        self.path = Path(path)\n",
    "        self.runner = runner\n",
    "        self.path.mkdir(exist_ok=True, parents=True)\n",
    "        \n",
    "    def input_params(self):\n",
    "        with open('analysis_-_lblnew-bestfit-sw.ipynb') as f:  # Need to set to stored absolute path\n",
    "            nb = nbformat.read(f, as_version=nbformat.NO_CONVERT)\n",
    "        nb['cells'][2]['source'] = f'''PARAM = LBLnewBestfitSWParam(**{vars(self.runner.param)})'''\n",
    "        nb['cells'][3]['source'] = f'''PATH = Path(\"{self.runner.path}\")'''\n",
    "        return nb\n",
    "        \n",
    "    def run(self):\n",
    "        nb = self.input_params()\n",
    "        ep = ExecutePreprocessor(timeout=600)\n",
    "        ep.preprocess(nb, {})\n",
    "        with open(self.path/'analysis_-_lblnew-bestfit-sw.ipynb', mode='w', encoding='utf-8') as f:\n",
    "            nbformat.write(nb, f)\n",
    "            \n",
    "    def gitcommit(self):\n",
    "        cwd = os.getcwd()\n",
    "        os.chdir(self.path)\n",
    "        try:\n",
    "            proc = subprocess.Popen(['git', 'add', 'analysis_-_lblnew-bestfit-sw.ipynb'], \n",
    "                                    stdout=subprocess.PIPE, stderr=subprocess.PIPE)\n",
    "            out, err = proc.communicate()\n",
    "            print('Git-add', out.decode(), err.decode())\n",
    "            title = f\"band{self.runner.param.band:02d} {self.runner.param.molecule} {self.runner.param.atmpro} cosz={self.runner.param.cosz} nf_refs={self.runner.param.ng_refs}\"\n",
    "            body = '\\n'.join(sorted(f\"{n} {v}\" for n, v in vars(self.runner.param).items()))\n",
    "            proc = subprocess.Popen(f'''git commit -m \"{title}\" -m \"{body}\"''', shell=True, stdout=subprocess.PIPE, stderr=subprocess.PIPE)\n",
    "            return proc\n",
    "        finally: os.chdir(cwd)\n",
    "\n",
    "    def nbviewer_url(self, gitname):\n",
    "        '''\n",
    "        gitname: str\n",
    "            Git repository name.\n",
    "        '''\n",
    "        pre_url = Path('https://nbviewer.jupyter.org/github/qap')\n",
    "        spath = str(self.path)\n",
    "        if gitname in spath: \n",
    "            _, suf = spath.split(gitname)\n",
    "        else: \n",
    "            suf = spath\n",
    "        suf = ('blob/master' + suf).strip('/')\n",
    "        print(suf)\n",
    "        return pre_url/gitname/suf/'analysis_-_lblnew-bestfit-sw.ipynb'"
   ]
  },
  {
   "cell_type": "code",
   "execution_count": 578,
   "metadata": {},
   "outputs": [],
   "source": [
    "analysis = LBLnewBestfitSWAnalysis(path=PATH, runner=runner)"
   ]
  },
  {
   "cell_type": "code",
   "execution_count": 504,
   "metadata": {},
   "outputs": [],
   "source": [
    "analysis.run()"
   ]
  },
  {
   "cell_type": "code",
   "execution_count": 506,
   "metadata": {},
   "outputs": [
    {
     "name": "stdout",
     "output_type": "stream",
     "text": [
      "Git-add  \n"
     ]
    }
   ],
   "source": [
    "proc = analysis.gitcommit()"
   ]
  },
  {
   "cell_type": "code",
   "execution_count": 507,
   "metadata": {
    "collapsed": true
   },
   "outputs": [],
   "source": [
    "out, err = proc.communicate()"
   ]
  },
  {
   "cell_type": "code",
   "execution_count": 508,
   "metadata": {},
   "outputs": [
    {
     "name": "stdout",
     "output_type": "stream",
     "text": [
      "Git-commit [master 57b9cc9] band09 h2o saw cosz=1 nf_refs=[3, 9]\n",
      " 1 file changed, 1833 insertions(+), 1841 deletions(-)\n",
      " rewrite atmpro_saw/band_9/commitnumber_79f2292/conc_atmpro/cosz_1/dv_0.001/klin_3e-25/molecule_h2o/ng_adju_[-3, 0]/ng_refs_[3, 9]/nv_10000/option_k_lookup_0/ref_pts_[(30, 250), (300, 250)]/rsfc_0/tsfc_None/vmax_14290/vmin_8200/wgt_[(0.95, 0.9, 0.6, 0.5), (0.55, 0.55, 0.55, 0.65, 0.65, 0.7, 0.8, 0.9)]/analysis_-_lblnew-bestfit-sw.ipynb (73%)\n",
      " \n"
     ]
    }
   ],
   "source": [
    "print('Git-commit', out.decode(), err.decode())"
   ]
  },
  {
   "cell_type": "code",
   "execution_count": 580,
   "metadata": {},
   "outputs": [
    {
     "name": "stdout",
     "output_type": "stream",
     "text": [
      "blob/master/atmpro_saw/band_9/commitnumber_79f2292/conc_atmpro/cosz_1/dv_0.001/klin_3e-25/molecule_h2o/ng_adju_[-3, 0]/ng_refs_[3, 9]/nv_10000/option_k_lookup_0/ref_pts_[(30, 250), (300, 250)]/rsfc_0/tsfc_None/vmax_14290/vmin_8200/wgt_[(0.95, 0.9, 0.6, 0.5), (0.55, 0.55, 0.55, 0.65, 0.65, 0.7, 0.8, 0.9)]\n"
     ]
    },
    {
     "data": {
      "text/plain": [
       "PosixPath('https:/nbviewer.jupyter.org/github/qap/analysis_-_new_kdist_param_sw/blob/master/atmpro_saw/band_9/commitnumber_79f2292/conc_atmpro/cosz_1/dv_0.001/klin_3e-25/molecule_h2o/ng_adju_[-3, 0]/ng_refs_[3, 9]/nv_10000/option_k_lookup_0/ref_pts_[(30, 250), (300, 250)]/rsfc_0/tsfc_None/vmax_14290/vmin_8200/wgt_[(0.95, 0.9, 0.6, 0.5), (0.55, 0.55, 0.55, 0.65, 0.65, 0.7, 0.8, 0.9)]/analysis_-_lblnew-bestfit-sw.ipynb')"
      ]
     },
     "execution_count": 580,
     "metadata": {},
     "output_type": "execute_result"
    }
   ],
   "source": [
    "analysis.nbviewer_url('analysis_-_new_kdist_param_sw')"
   ]
  },
  {
   "cell_type": "markdown",
   "metadata": {},
   "source": [
    "# Export notebook"
   ]
  },
  {
   "cell_type": "code",
   "execution_count": 581,
   "metadata": {},
   "outputs": [
    {
     "name": "stdout",
     "output_type": "stream",
     "text": [
      "Converted 03_analysis.ipynb to exp/nb_03.py\r\n"
     ]
    }
   ],
   "source": [
    "! python notebook2script.py 03_analysis.ipynb"
   ]
  },
  {
   "cell_type": "markdown",
   "metadata": {},
   "source": [
    "# fin"
   ]
  },
  {
   "cell_type": "code",
   "execution_count": null,
   "metadata": {
    "collapsed": true
   },
   "outputs": [],
   "source": []
  }
 ],
 "metadata": {
  "kernelspec": {
   "display_name": "Python 3",
   "language": "python",
   "name": "python3"
  },
  "language_info": {
   "codemirror_mode": {
    "name": "ipython",
    "version": 3
   },
   "file_extension": ".py",
   "mimetype": "text/x-python",
   "name": "python",
   "nbconvert_exporter": "python",
   "pygments_lexer": "ipython3",
   "version": "3.6.7"
  }
 },
 "nbformat": 4,
 "nbformat_minor": 2
}

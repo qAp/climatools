{
 "cells": [
  {
   "cell_type": "markdown",
   "metadata": {},
   "source": [
    "# Analysis"
   ]
  },
  {
   "cell_type": "code",
   "execution_count": 151,
   "metadata": {
    "collapsed": true
   },
   "outputs": [],
   "source": [
    "%reload_ext autoreload\n",
    "%autoreload 2"
   ]
  },
  {
   "cell_type": "code",
   "execution_count": 417,
   "metadata": {},
   "outputs": [],
   "source": [
    "#export\n",
    "from exp.nb_00 import *\n",
    "from exp.nb_01 import *\n",
    "from exp.nb_02 import *\n",
    "import os\n",
    "import shutil\n",
    "import pickle\n",
    "import re\n",
    "import subprocess\n",
    "import nbformat\n",
    "from nbconvert.preprocessors import ExecutePreprocessor\n",
    "import numpy as np\n",
    "from climatools.lblnew.export import vector_to_F77"
   ]
  },
  {
   "cell_type": "code",
   "execution_count": 162,
   "metadata": {
    "collapsed": true
   },
   "outputs": [],
   "source": [
    "param = LBLnewBestfitSWParam(band=9, vmin=8200, vmax=14290, nv=10000, dv=0.001,\n",
    "                     molecule='h2o', conc='atmpro',\n",
    "                     ref_pts=[(300, 250), (300, 250)], ng_refs=[4, 6], ng_adju=[-3, 0],\n",
    "                     wgt=[(.95, .9, .5, .5), (.5, .5, .5, .7, .85, .95)],\n",
    "                     cosz=1., rsfc=0,\n",
    "                     klin=3e-25,\n",
    "                     option_k_lookup=0)"
   ]
  },
  {
   "cell_type": "code",
   "execution_count": 114,
   "metadata": {
    "collapsed": true
   },
   "outputs": [],
   "source": [
    "runner = LBLnewBestfitSWRun('test1/test1', param)"
   ]
  },
  {
   "cell_type": "code",
   "execution_count": 115,
   "metadata": {},
   "outputs": [
    {
     "data": {
      "text/plain": [
       "[PosixPath('test1/test1/analysis.ipynb'),\n",
       " PosixPath('test1/test1/lblnew-bestfit-sw.f'),\n",
       " PosixPath('test1/test1/fort.400'),\n",
       " PosixPath('test1/test1/fort.401'),\n",
       " PosixPath('test1/test1/fort.402'),\n",
       " PosixPath('test1/test1/lblnew-bestfit-sw.sub'),\n",
       " PosixPath('test1/test1/.ipynb_checkpoints'),\n",
       " PosixPath('test1/test1/fort.403'),\n",
       " PosixPath('test1/test1/fort.19'),\n",
       " PosixPath('test1/test1/fort.20'),\n",
       " PosixPath('test1/test1/lblnew-bestfit-sw.exe'),\n",
       " PosixPath('test1/test1/lblcom.f'),\n",
       " PosixPath('test1/test1/fort.10'),\n",
       " PosixPath('test1/test1/fort.9'),\n",
       " PosixPath('test1/test1/err_432747'),\n",
       " PosixPath('test1/test1/out_432747')]"
      ]
     },
     "execution_count": 115,
     "metadata": {},
     "output_type": "execute_result"
    }
   ],
   "source": [
    "list(runner.path.iterdir())"
   ]
  },
  {
   "cell_type": "markdown",
   "metadata": {
    "heading_collapsed": true
   },
   "source": [
    "## Set up analysis directory"
   ]
  },
  {
   "cell_type": "code",
   "execution_count": 418,
   "metadata": {
    "hidden": true
   },
   "outputs": [
    {
     "data": {
      "text/plain": [
       "PosixPath('/chia_cluster/home/jackyu/radiation/analysis_-_new_kdist_param_sw')"
      ]
     },
     "execution_count": 418,
     "metadata": {},
     "output_type": "execute_result"
    }
   ],
   "source": [
    "PATH_ANALYSIS"
   ]
  },
  {
   "cell_type": "code",
   "execution_count": 419,
   "metadata": {
    "collapsed": true,
    "hidden": true
   },
   "outputs": [],
   "source": [
    "# We are going to test directly at a location inside the 'analysis_-_new_kdist_param_sw' repository, \n",
    "# because we will try to git-add and git-commit the executed notebook.\n",
    "ANA_PLACE = PATH_ANALYSIS"
   ]
  },
  {
   "cell_type": "code",
   "execution_count": 347,
   "metadata": {
    "collapsed": true,
    "hidden": true
   },
   "outputs": [],
   "source": [
    "# This is the directory to save the analysis notebook in.\n",
    "PATH = ANA_PLACE/'analysis_test'"
   ]
  },
  {
   "cell_type": "code",
   "execution_count": 348,
   "metadata": {
    "hidden": true
   },
   "outputs": [],
   "source": [
    "PATH.mkdir(exist_ok=True, parents=True)"
   ]
  },
  {
   "cell_type": "markdown",
   "metadata": {
    "heading_collapsed": true
   },
   "source": [
    "## Load the analysis notebook template"
   ]
  },
  {
   "cell_type": "code",
   "execution_count": 349,
   "metadata": {
    "hidden": true
   },
   "outputs": [
    {
     "name": "stdout",
     "output_type": "stream",
     "text": [
      "/chia_cluster/home/jackyu/radiation/analysis_-_new_kdist_param_sw\r\n"
     ]
    }
   ],
   "source": [
    "! pwd"
   ]
  },
  {
   "cell_type": "code",
   "execution_count": 350,
   "metadata": {
    "hidden": true
   },
   "outputs": [],
   "source": [
    "os.chdir('/chia_cluster/home/jackyu/climatools/climatools/notebooks/sw_dev/')"
   ]
  },
  {
   "cell_type": "code",
   "execution_count": 351,
   "metadata": {
    "hidden": true
   },
   "outputs": [],
   "source": [
    "# For now, we assume that the analysis notebook template resides in the current directory\n",
    "# in which we're developing things: /chia_cluster/home/jackyu/climatools/climatools/notebooks/sw_dev/.\n",
    "with open('analysis_-_lblnew-bestfit-sw.ipynb') as f:\n",
    "    analysis_nb = nbformat.read(f, as_version=nbformat.NO_CONVERT)"
   ]
  },
  {
   "cell_type": "code",
   "execution_count": 352,
   "metadata": {
    "hidden": true
   },
   "outputs": [
    {
     "data": {
      "text/plain": [
       "\"{'dv': 0.001, 'nv': 10000, 'commitnumber': None, 'band': 9, 'molecule': 'h2o', 'atmpro': None, 'tsfc': None, 'vmin': 8200, 'vmax': 14290, 'conc': 'atmpro', 'ref_pts': [(300, 250), (300, 250)], 'ng_refs': [4, 6], 'ng_adju': [-3, 0], 'wgt': [(0.95, 0.9, 0.5, 0.5), (0.5, 0.5, 0.5, 0.7, 0.85, 0.95)], 'cosz': 1.0, 'rsfc': 0, 'klin': 3e-25, 'option_k_lookup': 0}\""
      ]
     },
     "execution_count": 352,
     "metadata": {},
     "output_type": "execute_result"
    }
   ],
   "source": [
    "str(vars(runner.param))"
   ]
  },
  {
   "cell_type": "code",
   "execution_count": 353,
   "metadata": {
    "hidden": true
   },
   "outputs": [
    {
     "data": {
      "text/plain": [
       "{'cell_type': 'code',\n",
       " 'execution_count': 3,\n",
       " 'metadata': {},\n",
       " 'outputs': [],\n",
       " 'source': \"PARAM = LBLnewBestfitSWParam(**{'dv': 0.001, 'nv': 10000, 'commitnumber': None, 'band': 9, 'molecule': 'h2o', 'atmpro': None, 'tsfc': None, 'vmin': 8200, 'vmax': 14290, 'conc': 'atmpro', 'ref_pts': [(300, 250), (300, 250)], 'ng_refs': [4, 6], 'ng_adju': [-3, 0], 'wgt': [(0.95, 0.9, 0.5, 0.5), (0.5, 0.5, 0.5, 0.7, 0.85, 0.95)], 'cosz': 1.0, 'rsfc': 0, 'klin': 3e-25, 'option_k_lookup': 0})\"}"
      ]
     },
     "execution_count": 353,
     "metadata": {},
     "output_type": "execute_result"
    }
   ],
   "source": [
    "analysis_nb['cells'][2]['source'] = f'''PARAM = LBLnewBestfitSWParam(**{vars(runner.param)})'''\n",
    "analysis_nb['cells'][2]"
   ]
  },
  {
   "cell_type": "code",
   "execution_count": 354,
   "metadata": {
    "hidden": true
   },
   "outputs": [
    {
     "data": {
      "text/plain": [
       "{'cell_type': 'code',\n",
       " 'execution_count': 4,\n",
       " 'metadata': {'collapsed': True},\n",
       " 'outputs': [],\n",
       " 'source': 'PATH = Path(\"test1/test1\")'}"
      ]
     },
     "execution_count": 354,
     "metadata": {},
     "output_type": "execute_result"
    }
   ],
   "source": [
    "analysis_nb['cells'][3]['source'] = f'''PATH = Path(\"{runner.path}\")'''\n",
    "analysis_nb['cells'][3]"
   ]
  },
  {
   "cell_type": "code",
   "execution_count": 355,
   "metadata": {
    "hidden": true
   },
   "outputs": [
    {
     "data": {
      "text/plain": [
       "PosixPath('test1/test1')"
      ]
     },
     "execution_count": 355,
     "metadata": {},
     "output_type": "execute_result"
    }
   ],
   "source": [
    "Path(runner.path)"
   ]
  },
  {
   "cell_type": "code",
   "execution_count": null,
   "metadata": {
    "collapsed": true,
    "hidden": true
   },
   "outputs": [],
   "source": []
  },
  {
   "cell_type": "markdown",
   "metadata": {
    "heading_collapsed": true
   },
   "source": [
    "## Run the analysis notebook  \n",
    "Useful: https://nbconvert.readthedocs.io/en/latest/execute_api.html"
   ]
  },
  {
   "cell_type": "code",
   "execution_count": 357,
   "metadata": {
    "hidden": true
   },
   "outputs": [
    {
     "data": {
      "text/plain": [
       "(PosixPath('/chia_cluster/home/jackyu/radiation/analysis_-_new_kdist_param_sw/analysis_test'),\n",
       " [])"
      ]
     },
     "execution_count": 357,
     "metadata": {},
     "output_type": "execute_result"
    }
   ],
   "source": [
    "PATH, list(PATH.iterdir())"
   ]
  },
  {
   "cell_type": "code",
   "execution_count": 358,
   "metadata": {
    "hidden": true,
    "scrolled": true
   },
   "outputs": [],
   "source": [
    "ep = ExecutePreprocessor(timeout=600)\n",
    "ep.preprocess(analysis_nb, {});"
   ]
  },
  {
   "cell_type": "code",
   "execution_count": 359,
   "metadata": {
    "hidden": true
   },
   "outputs": [],
   "source": [
    "with open(PATH/'analysis_-_lblnew-bestfit-sw.ipynb', mode='w', encoding='utf-8') as f:\n",
    "    nbformat.write(analysis_nb, f)"
   ]
  },
  {
   "cell_type": "code",
   "execution_count": 360,
   "metadata": {
    "hidden": true
   },
   "outputs": [
    {
     "data": {
      "text/plain": [
       "PosixPath('/chia_cluster/home/jackyu/radiation/analysis_-_new_kdist_param_sw/analysis_test')"
      ]
     },
     "execution_count": 360,
     "metadata": {},
     "output_type": "execute_result"
    }
   ],
   "source": [
    "PATH"
   ]
  },
  {
   "cell_type": "markdown",
   "metadata": {
    "heading_collapsed": true
   },
   "source": [
    "## Git add the executed notebook"
   ]
  },
  {
   "cell_type": "code",
   "execution_count": 361,
   "metadata": {
    "hidden": true
   },
   "outputs": [
    {
     "data": {
      "text/plain": [
       "(PosixPath('/chia_cluster/home/jackyu/radiation/analysis_-_new_kdist_param_sw/analysis_test'),\n",
       " [PosixPath('/chia_cluster/home/jackyu/radiation/analysis_-_new_kdist_param_sw/analysis_test/analysis_-_lblnew-bestfit-sw.ipynb')])"
      ]
     },
     "execution_count": 361,
     "metadata": {},
     "output_type": "execute_result"
    }
   ],
   "source": [
    "PATH, list(PATH.iterdir())"
   ]
  },
  {
   "cell_type": "markdown",
   "metadata": {
    "hidden": true
   },
   "source": [
    "In order to add the executed notebook to the 'analysis_-_lblnew-bestfit-sw' directory, we need to be under that directory at least. "
   ]
  },
  {
   "cell_type": "code",
   "execution_count": 363,
   "metadata": {
    "hidden": true
   },
   "outputs": [
    {
     "data": {
      "text/plain": [
       "'/chia_cluster/home/jackyu/climatools/climatools/notebooks/sw_dev'"
      ]
     },
     "execution_count": 363,
     "metadata": {},
     "output_type": "execute_result"
    }
   ],
   "source": [
    "cwd = os.getcwd()\n",
    "cwd"
   ]
  },
  {
   "cell_type": "code",
   "execution_count": 364,
   "metadata": {
    "collapsed": true,
    "hidden": true
   },
   "outputs": [],
   "source": [
    "os.chdir(PATH)"
   ]
  },
  {
   "cell_type": "code",
   "execution_count": 365,
   "metadata": {
    "hidden": true
   },
   "outputs": [
    {
     "name": "stdout",
     "output_type": "stream",
     "text": [
      "analysis_-_lblnew-bestfit-sw.ipynb\r\n"
     ]
    }
   ],
   "source": [
    "! ls"
   ]
  },
  {
   "cell_type": "code",
   "execution_count": 370,
   "metadata": {
    "hidden": true
   },
   "outputs": [],
   "source": [
    "proc = subprocess.Popen(['git', 'add', 'analysis_-_lblnew-bestfit-sw.ipynb'], \n",
    "                        stdout=subprocess.PIPE, stderr=subprocess.PIPE)"
   ]
  },
  {
   "cell_type": "code",
   "execution_count": 371,
   "metadata": {
    "collapsed": true,
    "hidden": true
   },
   "outputs": [],
   "source": [
    "out, err = proc.communicate()"
   ]
  },
  {
   "cell_type": "code",
   "execution_count": 372,
   "metadata": {
    "hidden": true
   },
   "outputs": [
    {
     "name": "stdout",
     "output_type": "stream",
     "text": [
      " \n"
     ]
    }
   ],
   "source": [
    "print(out.decode(), err.decode())"
   ]
  },
  {
   "cell_type": "code",
   "execution_count": 373,
   "metadata": {
    "hidden": true
   },
   "outputs": [
    {
     "name": "stdout",
     "output_type": "stream",
     "text": [
      "On branch master\r\n",
      "Your branch is up to date with 'origin/master'.\r\n",
      "\r\n",
      "Changes to be committed:\r\n",
      "  (use \"git reset HEAD <file>...\" to unstage)\r\n",
      "\r\n",
      "\t\u001b[32mnew file:   analysis_-_lblnew-bestfit-sw.ipynb\u001b[m\r\n",
      "\r\n",
      "Changes not staged for commit:\r\n",
      "  (use \"git add <file>...\" to update what will be committed)\r\n",
      "  (use \"git checkout -- <file>...\" to discard changes in working directory)\r\n",
      "\r\n",
      "\t\u001b[31mmodified:   ../atmpro_None/band_9/commitnumber_None/conc_atmpro/cosz_1.0/dv_0.001/klin_3e-25/molecule_h2o/ng_adju_[-3, 0]/ng_refs_[4, 6]/nv_10000/option_k_lookup_0/ref_pts_[(300, 250), (300, 250)]/rsfc_0/tsfc_None/vmax_14290/vmin_8200/wgt_[(0.95, 0.9, 0.5, 0.5), (0.5, 0.5, 0.5, 0.7, 0.85, 0.95)]/analysis_-_lblnew-bestfit-sw.ipynb\u001b[m\r\n",
      "\t\u001b[31mmodified:   ../band09_-_h2o_atmpro_-_mls_-_cosz_1.ipynb\u001b[m\r\n",
      "\r\n",
      "Untracked files:\r\n",
      "  (use \"git add <file>...\" to include in what will be committed)\r\n",
      "\r\n",
      "\t\u001b[31m../.ipynb_checkpoints/\u001b[m\r\n",
      "\r\n"
     ]
    }
   ],
   "source": [
    "! git status"
   ]
  },
  {
   "cell_type": "markdown",
   "metadata": {
    "heading_collapsed": true
   },
   "source": [
    "## Git-commit the analysis notebook \n",
    "The commit message will contain the parameters for this particular case."
   ]
  },
  {
   "cell_type": "code",
   "execution_count": 374,
   "metadata": {
    "hidden": true
   },
   "outputs": [
    {
     "data": {
      "text/plain": [
       "<class 'exp.nb_00.LBLnewBestfitSWParam'>\n",
       "{'dv': 0.001, 'nv': 10000, 'commitnumber': None, 'band': 9, 'molecule': 'h2o', 'atmpro': None, 'tsfc': None, 'vmin': 8200, 'vmax': 14290, 'conc': 'atmpro', 'ref_pts': [(300, 250), (300, 250)], 'ng_refs': [4, 6], 'ng_adju': [-3, 0], 'wgt': [(0.95, 0.9, 0.5, 0.5), (0.5, 0.5, 0.5, 0.7, 0.85, 0.95)], 'cosz': 1.0, 'rsfc': 0, 'klin': 3e-25, 'option_k_lookup': 0}"
      ]
     },
     "execution_count": 374,
     "metadata": {},
     "output_type": "execute_result"
    }
   ],
   "source": [
    "runner.param"
   ]
  },
  {
   "cell_type": "code",
   "execution_count": 380,
   "metadata": {
    "hidden": true
   },
   "outputs": [
    {
     "data": {
      "text/plain": [
       "'band09 h2o None cosz=1.0 nf_refs=[4, 6]'"
      ]
     },
     "execution_count": 380,
     "metadata": {},
     "output_type": "execute_result"
    }
   ],
   "source": [
    "title = f\"band{runner.param.band:02d} {runner.param.molecule} {runner.param.atmpro} cosz={runner.param.cosz} nf_refs={runner.param.ng_refs}\"\n",
    "title"
   ]
  },
  {
   "cell_type": "code",
   "execution_count": 388,
   "metadata": {
    "hidden": true
   },
   "outputs": [
    {
     "name": "stdout",
     "output_type": "stream",
     "text": [
      "atmpro None\n",
      "band 9\n",
      "commitnumber None\n",
      "conc atmpro\n",
      "cosz 1.0\n",
      "dv 0.001\n",
      "klin 3e-25\n",
      "molecule h2o\n",
      "ng_adju [-3, 0]\n",
      "ng_refs [4, 6]\n",
      "nv 10000\n",
      "option_k_lookup 0\n",
      "ref_pts [(300, 250), (300, 250)]\n",
      "rsfc 0\n",
      "tsfc None\n",
      "vmax 14290\n",
      "vmin 8200\n",
      "wgt [(0.95, 0.9, 0.5, 0.5), (0.5, 0.5, 0.5, 0.7, 0.85, 0.95)]\n"
     ]
    }
   ],
   "source": [
    "body = '\\n'.join(sorted(f\"{n} {v}\" for n, v in vars(runner.param).items()))\n",
    "print(body)"
   ]
  },
  {
   "cell_type": "code",
   "execution_count": 391,
   "metadata": {},
   "outputs": [],
   "source": [
    "proc = subprocess.Popen(f'''git commit -m \"{title}\" -m \"{body}\"''', shell=True,\n",
    "                        stdout=subprocess.PIPE, stderr=subprocess.PIPE)"
   ]
  },
  {
   "cell_type": "code",
   "execution_count": 392,
   "metadata": {
    "collapsed": true,
    "hidden": true
   },
   "outputs": [],
   "source": [
    "out, err = proc.communicate()"
   ]
  },
  {
   "cell_type": "code",
   "execution_count": 393,
   "metadata": {
    "hidden": true
   },
   "outputs": [
    {
     "name": "stdout",
     "output_type": "stream",
     "text": [
      "On branch master\r\n",
      "Your branch is ahead of 'origin/master' by 1 commit.\r\n",
      "  (use \"git push\" to publish your local commits)\r\n",
      "\r\n",
      "Changes not staged for commit:\r\n",
      "  (use \"git add <file>...\" to update what will be committed)\r\n",
      "  (use \"git checkout -- <file>...\" to discard changes in working directory)\r\n",
      "\r\n",
      "\t\u001b[31mmodified:   ../atmpro_None/band_9/commitnumber_None/conc_atmpro/cosz_1.0/dv_0.001/klin_3e-25/molecule_h2o/ng_adju_[-3, 0]/ng_refs_[4, 6]/nv_10000/option_k_lookup_0/ref_pts_[(300, 250), (300, 250)]/rsfc_0/tsfc_None/vmax_14290/vmin_8200/wgt_[(0.95, 0.9, 0.5, 0.5), (0.5, 0.5, 0.5, 0.7, 0.85, 0.95)]/analysis_-_lblnew-bestfit-sw.ipynb\u001b[m\r\n",
      "\t\u001b[31mmodified:   ../band09_-_h2o_atmpro_-_mls_-_cosz_1.ipynb\u001b[m\r\n",
      "\r\n",
      "Untracked files:\r\n",
      "  (use \"git add <file>...\" to include in what will be committed)\r\n",
      "\r\n",
      "\t\u001b[31m../.ipynb_checkpoints/\u001b[m\r\n",
      "\r\n",
      "no changes added to commit (use \"git add\" and/or \"git commit -a\")\r\n"
     ]
    }
   ],
   "source": [
    "! git status"
   ]
  },
  {
   "cell_type": "code",
   "execution_count": 394,
   "metadata": {
    "hidden": true
   },
   "outputs": [
    {
     "name": "stdout",
     "output_type": "stream",
     "text": [
      "\u001b[33mcommit 6fb47c1c797db1d3cc35dd5a3af515f290e4ef79\u001b[m\u001b[33m (\u001b[m\u001b[1;36mHEAD -> \u001b[m\u001b[1;32mmaster\u001b[m\u001b[33m)\u001b[m\r\n",
      "Author: Jack Yu <llacque@gmail.com>\r\n",
      "Date:   Wed May 29 10:39:14 2019 +0800\r\n",
      "\r\n",
      "    band09 h2o None cosz=1.0 nf_refs=[4, 6]\r\n",
      "    \r\n",
      "    atmpro None\r\n",
      "    band 9\r\n",
      "    commitnumber None\r\n",
      "    conc atmpro\r\n",
      "    cosz 1.0\r\n",
      "    dv 0.001\r\n",
      "    klin 3e-25\r\n",
      "    molecule h2o\r\n",
      "    ng_adju [-3, 0]\r\n",
      "    ng_refs [4, 6]\r\n",
      "    nv 10000\r\n",
      "    option_k_lookup 0\r\n",
      "    ref_pts [(300, 250), (300, 250)]\r\n",
      "    rsfc 0\r\n",
      "    tsfc None\r\n",
      "    vmax 14290\r\n",
      "    vmin 8200\r\n",
      "    wgt [(0.95, 0.9, 0.5, 0.5), (0.5, 0.5, 0.5, 0.7, 0.85, 0.95)]\r\n"
     ]
    }
   ],
   "source": [
    "! git log -1"
   ]
  },
  {
   "cell_type": "code",
   "execution_count": null,
   "metadata": {
    "collapsed": true,
    "hidden": true
   },
   "outputs": [],
   "source": []
  },
  {
   "cell_type": "markdown",
   "metadata": {},
   "source": [
    "## Putting things together -- LBLnewBestfitSWAnalysis class"
   ]
  },
  {
   "cell_type": "code",
   "execution_count": 395,
   "metadata": {},
   "outputs": [],
   "source": [
    "#export\n",
    "class LBLnewBestfitSWAnalysis(object):\n",
    "    def __init__(self, path, runner):\n",
    "        self.path = Path(path)\n",
    "        self.runner = runner\n",
    "        self.path.mkdir(exist_ok=True, parents=True)\n",
    "        \n",
    "    def input_params(self):\n",
    "        with open('analysis_-_lblnew-bestfit-sw.ipynb') as f:  # Need to set to stored absolute path\n",
    "            nb = nbformat.read(f, as_version=nbformat.NO_CONVERT)\n",
    "        nb['cells'][2]['source'] = f'''PARAM = LBLnewBestfitSWParam(**{vars(self.runner.param)})'''\n",
    "        nb['cells'][3]['source'] = f'''PATH = Path(\"{self.runner.path}\")'''\n",
    "        return nb\n",
    "        \n",
    "    def run(self):\n",
    "        nb = self.input_params()\n",
    "        ep = ExecutePreprocessor(timeout=600)\n",
    "        ep.preprocess(nb, {})\n",
    "        with open(self.path/'analysis_-_lblnew-bestfit-sw.ipynb', mode='w', encoding='utf-8') as f:\n",
    "            nbformat.write(nb, f)\n",
    "            \n",
    "    def gitcommit(self):\n",
    "        cwd = os.getcwd()\n",
    "        os.chdir(self.path)\n",
    "        try:\n",
    "            proc = subprocess.Popen(['git', 'add', 'analysis_-_lblnew-bestfit-sw.ipynb'], \n",
    "                                    stdout=subprocess.PIPE, stderr=subprocess.PIPE)\n",
    "            out, err = proc.communicate()\n",
    "            print('Git-add', out.decode(), err.decode())\n",
    "            title = f\"band{self.runner.param.band:02d} {self.runner.param.molecule} {self.runner.param.atmpro} cosz={self.runner.param.cosz} nf_refs={self.runner.param.ng_refs}\"\n",
    "            body = '\\n'.join(sorted(f\"{n} {v}\" for n, v in vars(self.runner.param).items()))\n",
    "            proc = subprocess.Popen(f'''git commit -m \"{title}\" -m \"{body}\"''', shell=True, stdout=subprocess.PIPE, stderr=subprocess.PIPE)\n",
    "            return proc\n",
    "        finally: os.chdir(cwd)\n"
   ]
  },
  {
   "cell_type": "code",
   "execution_count": 397,
   "metadata": {},
   "outputs": [],
   "source": [
    "os.chdir(cwd)"
   ]
  },
  {
   "cell_type": "code",
   "execution_count": 398,
   "metadata": {},
   "outputs": [
    {
     "data": {
      "text/plain": [
       "'/chia_cluster/home/jackyu/climatools/climatools/notebooks/sw_dev'"
      ]
     },
     "execution_count": 398,
     "metadata": {},
     "output_type": "execute_result"
    }
   ],
   "source": [
    "os.getcwd()"
   ]
  },
  {
   "cell_type": "code",
   "execution_count": 399,
   "metadata": {},
   "outputs": [
    {
     "data": {
      "text/plain": [
       "PosixPath('/chia_cluster/home/jackyu/radiation/analysis_-_new_kdist_param_sw/analysis_test')"
      ]
     },
     "execution_count": 399,
     "metadata": {},
     "output_type": "execute_result"
    }
   ],
   "source": [
    "PATH"
   ]
  },
  {
   "cell_type": "code",
   "execution_count": 400,
   "metadata": {},
   "outputs": [],
   "source": [
    "analysis = LBLnewBestfitSWAnalysis(path=PATH, runner=runner)"
   ]
  },
  {
   "cell_type": "code",
   "execution_count": 401,
   "metadata": {
    "collapsed": true
   },
   "outputs": [],
   "source": [
    "analysis.run()"
   ]
  },
  {
   "cell_type": "code",
   "execution_count": 403,
   "metadata": {},
   "outputs": [
    {
     "data": {
      "text/plain": [
       "'/chia_cluster/home/jackyu/climatools/climatools/notebooks/sw_dev'"
      ]
     },
     "execution_count": 403,
     "metadata": {},
     "output_type": "execute_result"
    }
   ],
   "source": [
    "os.getcwd()"
   ]
  },
  {
   "cell_type": "code",
   "execution_count": 404,
   "metadata": {},
   "outputs": [
    {
     "name": "stdout",
     "output_type": "stream",
     "text": [
      "Git-add  \n"
     ]
    }
   ],
   "source": [
    "proc = analysis.gitcommit()"
   ]
  },
  {
   "cell_type": "code",
   "execution_count": 405,
   "metadata": {
    "collapsed": true
   },
   "outputs": [],
   "source": [
    "out, err = proc.communicate()"
   ]
  },
  {
   "cell_type": "code",
   "execution_count": 406,
   "metadata": {},
   "outputs": [
    {
     "name": "stdout",
     "output_type": "stream",
     "text": [
      "Git-commit [master 154c339] band09 h2o None cosz=1.0 nf_refs=[4, 6]\n",
      " 1 file changed, 1821 insertions(+), 1821 deletions(-)\n",
      " rewrite analysis_test/analysis_-_lblnew-bestfit-sw.ipynb (74%)\n",
      " \n"
     ]
    }
   ],
   "source": [
    "print('Git-commit', out.decode(), err.decode())"
   ]
  },
  {
   "cell_type": "code",
   "execution_count": 409,
   "metadata": {},
   "outputs": [
    {
     "data": {
      "text/plain": [
       "'/chia_cluster/home/jackyu/climatools/climatools/notebooks/sw_dev'"
      ]
     },
     "execution_count": 409,
     "metadata": {},
     "output_type": "execute_result"
    }
   ],
   "source": [
    "os.getcwd()"
   ]
  },
  {
   "cell_type": "code",
   "execution_count": 410,
   "metadata": {
    "collapsed": true
   },
   "outputs": [],
   "source": [
    "cwd = os.getcwd()"
   ]
  },
  {
   "cell_type": "code",
   "execution_count": 412,
   "metadata": {},
   "outputs": [],
   "source": [
    "os.chdir(PATH)"
   ]
  },
  {
   "cell_type": "code",
   "execution_count": 413,
   "metadata": {},
   "outputs": [
    {
     "name": "stdout",
     "output_type": "stream",
     "text": [
      "analysis_-_lblnew-bestfit-sw.ipynb\r\n"
     ]
    }
   ],
   "source": [
    "! ls"
   ]
  },
  {
   "cell_type": "code",
   "execution_count": 415,
   "metadata": {},
   "outputs": [
    {
     "name": "stdout",
     "output_type": "stream",
     "text": [
      "\u001b[33mcommit 154c339180a6afcc53a03ec7a163db6b62d11cce\u001b[m\u001b[33m (\u001b[m\u001b[1;36mHEAD -> \u001b[m\u001b[1;32mmaster\u001b[m\u001b[33m)\u001b[m\r\n",
      "Author: Jack Yu <llacque@gmail.com>\r\n",
      "Date:   Wed May 29 10:57:38 2019 +0800\r\n",
      "\r\n",
      "    band09 h2o None cosz=1.0 nf_refs=[4, 6]\r\n",
      "    \r\n",
      "    atmpro None\r\n",
      "    band 9\r\n",
      "    commitnumber None\r\n",
      "    conc atmpro\r\n",
      "    cosz 1.0\r\n",
      "    dv 0.001\r\n",
      "    klin 3e-25\r\n",
      "    molecule h2o\r\n",
      "    ng_adju [-3, 0]\r\n",
      "    ng_refs [4, 6]\r\n",
      "    nv 10000\r\n",
      "    option_k_lookup 0\r\n",
      "    ref_pts [(300, 250), (300, 250)]\r\n",
      "    rsfc 0\r\n",
      "    tsfc None\r\n",
      "    vmax 14290\r\n",
      "    vmin 8200\r\n",
      "    wgt [(0.95, 0.9, 0.5, 0.5), (0.5, 0.5, 0.5, 0.7, 0.85, 0.95)]\r\n"
     ]
    }
   ],
   "source": [
    "! git log -1"
   ]
  },
  {
   "cell_type": "code",
   "execution_count": 421,
   "metadata": {
    "collapsed": true
   },
   "outputs": [],
   "source": [
    "os.chdir(cwd)"
   ]
  },
  {
   "cell_type": "code",
   "execution_count": null,
   "metadata": {
    "collapsed": true
   },
   "outputs": [],
   "source": []
  },
  {
   "cell_type": "code",
   "execution_count": null,
   "metadata": {
    "collapsed": true
   },
   "outputs": [],
   "source": []
  },
  {
   "cell_type": "markdown",
   "metadata": {},
   "source": [
    "# fin"
   ]
  },
  {
   "cell_type": "code",
   "execution_count": 425,
   "metadata": {},
   "outputs": [
    {
     "name": "stdout",
     "output_type": "stream",
     "text": [
      "Converted 03_analysis.ipynb to exp/nb_03.py\r\n"
     ]
    }
   ],
   "source": [
    "! python notebook2script.py 03_analysis.ipynb"
   ]
  },
  {
   "cell_type": "code",
   "execution_count": null,
   "metadata": {
    "collapsed": true
   },
   "outputs": [],
   "source": []
  }
 ],
 "metadata": {
  "kernelspec": {
   "display_name": "Python 3",
   "language": "python",
   "name": "python3"
  },
  "language_info": {
   "codemirror_mode": {
    "name": "ipython",
    "version": 3
   },
   "file_extension": ".py",
   "mimetype": "text/x-python",
   "name": "python",
   "nbconvert_exporter": "python",
   "pygments_lexer": "ipython3",
   "version": "3.6.7"
  }
 },
 "nbformat": 4,
 "nbformat_minor": 2
}

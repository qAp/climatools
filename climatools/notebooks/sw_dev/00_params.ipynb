{
 "cells": [
  {
   "cell_type": "markdown",
   "metadata": {},
   "source": [
    "# Parameters"
   ]
  },
  {
   "cell_type": "code",
   "execution_count": 6,
   "metadata": {
    "collapsed": true
   },
   "outputs": [],
   "source": [
    "%reload_ext autoreload\n",
    "%autoreload 2\n",
    "%matplotlib inline\n",
    "import pprint\n",
    "from pymongo import *\n"
   ]
  },
  {
   "cell_type": "markdown",
   "metadata": {},
   "source": [
    "## lblnew-bestfit-sw parameters"
   ]
  },
  {
   "cell_type": "code",
   "execution_count": 27,
   "metadata": {
    "collapsed": true
   },
   "outputs": [],
   "source": [
    "# export\n",
    "from climatools.parameters import *\n",
    "from pathlib import *"
   ]
  },
  {
   "cell_type": "code",
   "execution_count": 8,
   "metadata": {
    "collapsed": true
   },
   "outputs": [],
   "source": [
    "client = MongoClient('localhost', 27017)"
   ]
  },
  {
   "cell_type": "markdown",
   "metadata": {},
   "source": [
    "Let's look at the"
   ]
  },
  {
   "cell_type": "code",
   "execution_count": 9,
   "metadata": {},
   "outputs": [
    {
     "data": {
      "text/plain": [
       "{'_id': ObjectId('5bd2b3cfaf10722525893bb2'),\n",
       " 'param': {'atmpro': 'mls',\n",
       "  'band': '3a',\n",
       "  'commitnumber': 'a22ab94',\n",
       "  'conc': 0.0008,\n",
       "  'dv': 0.001,\n",
       "  'klin': 6.375563e-24,\n",
       "  'molecule': 'co2',\n",
       "  'ng_adju': [0, 0, 0],\n",
       "  'ng_refs': [3, 2, 4],\n",
       "  'nv': 1000,\n",
       "  'option_compute_btable': 0,\n",
       "  'option_compute_ktable': 0,\n",
       "  'option_wgt_flux': 1,\n",
       "  'option_wgt_k': 1,\n",
       "  'ref_pts': [[1, 250], [10, 250], [500, 250]],\n",
       "  'tsfc': 294,\n",
       "  'vmax': 620,\n",
       "  'vmin': 540,\n",
       "  'w_diffuse': [[1.6, 1.6, 1.7], [1.75, 1.75], [1.55, 1.55, 1.6, 1.85]],\n",
       "  'wgt': [[0.7, 0.3, 0.7], [0.7, 0.6], [0.4, 0.5, 0.8, 0.95]]}}"
      ]
     },
     "execution_count": 9,
     "metadata": {},
     "output_type": "execute_result"
    }
   ],
   "source": [
    "client.lblnew.bestfit_lw.find_one(projection=['param'])"
   ]
  },
  {
   "cell_type": "code",
   "execution_count": 10,
   "metadata": {
    "collapsed": true
   },
   "outputs": [],
   "source": [
    "SPECTRAL_PARAMS = ['band', 'vmin', 'vmax', 'dv', 'nv']\n",
    "BESTFIT_PARAMS = ['nref', 'ref_pts', 'ng_refs', 'ng_adju', 'wgt', \n",
    "                  'option_klin', 'option_k_lookup']\n",
    "OPITCAL_PARAMS = ['cosz', 'rsfc']"
   ]
  },
  {
   "cell_type": "code",
   "execution_count": 29,
   "metadata": {},
   "outputs": [],
   "source": [
    "# export\n",
    "class LBLnewBestfitSWParam(LBLnewParam):\n",
    "    model_name = 'lblnew-bestfit-sw'\n",
    "    def __init__(self, vmin=None, vmax=None, \n",
    "                 conc=None,\n",
    "                 ref_pts=None, ng_refs=None, ng_adju=None, klin=None, wgt=None,\n",
    "                 cosz=None, rsfc=None,\n",
    "                 option_k_lookup=None, **kwargs):\n",
    "        super().__init__(**kwargs)\n",
    "        self.vmin, self.vmax = vmin, vmax\n",
    "        self.conc = conc\n",
    "        self.ref_pts, self.ng_refs, self.ng_adju = ref_pts, ng_refs, ng_adju\n",
    "        self.wgt = wgt\n",
    "        self.cosz, self.rsfc = cosz, rsfc\n",
    "        self.klin = klin\n",
    "        self.option_k_lookup = option_k_lookup\n",
    "        \n",
    "    def to_path(self):\n",
    "        return Path('/'.join(sorted(f'{n}_{v}' for n, v in vars(self).items())))\n",
    "        \n",
    "    def __repr__(self):\n",
    "        return '\\n'.join([f\"{self.__class__}\", str(vars(self))])"
   ]
  },
  {
   "cell_type": "code",
   "execution_count": 30,
   "metadata": {},
   "outputs": [
    {
     "data": {
      "text/plain": [
       "<class '__main__.LBLnewBestfitSWParam'>\n",
       "{'dv': 0.001, 'nv': 10000, 'commitnumber': None, 'band': 9, 'molecule': 'h2o', 'atmpro': None, 'tsfc': None, 'vmin': 8200, 'vmax': 14290, 'conc': 'atmpro', 'ref_pts': [(300, 250), (300, 250)], 'ng_refs': [4, 6], 'ng_adju': [-3, 0], 'wgt': [(0.95, 0.9, 0.5, 0.5), (0.5, 0.5, 0.5, 0.7, 0.85, 0.95)], 'cosz': 1.0, 'rsfc': 0, 'klin': 3e-25, 'option_k_lookup': 0}"
      ]
     },
     "execution_count": 30,
     "metadata": {},
     "output_type": "execute_result"
    }
   ],
   "source": [
    "p = LBLnewBestfitSWParam(band=9, vmin=8200, vmax=14290, nv=10000, dv=0.001,\n",
    "                     molecule='h2o', conc='atmpro',\n",
    "                     ref_pts=[(300, 250), (300, 250)], ng_refs=[4, 6], ng_adju=[-3, 0],\n",
    "                     wgt=[(.95, .9, .5, .5), (.5, .5, .5, .7, .85, .95)],\n",
    "                     cosz=1., rsfc=0,\n",
    "                     klin=3e-25,\n",
    "                     option_k_lookup=0)\n",
    "p"
   ]
  },
  {
   "cell_type": "code",
   "execution_count": 33,
   "metadata": {},
   "outputs": [
    {
     "data": {
      "text/plain": [
       "PosixPath('atmpro_None/band_9/commitnumber_None/conc_atmpro/cosz_1.0/dv_0.001/klin_3e-25/molecule_h2o/ng_adju_[-3, 0]/ng_refs_[4, 6]/nv_10000/option_k_lookup_0/ref_pts_[(300, 250), (300, 250)]/rsfc_0/tsfc_None/vmax_14290/vmin_8200/wgt_[(0.95, 0.9, 0.5, 0.5), (0.5, 0.5, 0.5, 0.7, 0.85, 0.95)]')"
      ]
     },
     "execution_count": 33,
     "metadata": {},
     "output_type": "execute_result"
    }
   ],
   "source": [
    "p.to_path()"
   ]
  },
  {
   "cell_type": "code",
   "execution_count": null,
   "metadata": {
    "collapsed": true
   },
   "outputs": [],
   "source": []
  },
  {
   "cell_type": "markdown",
   "metadata": {},
   "source": [
    "## Export notebook"
   ]
  },
  {
   "cell_type": "code",
   "execution_count": 34,
   "metadata": {},
   "outputs": [
    {
     "name": "stdout",
     "output_type": "stream",
     "text": [
      "Converted 00_params.ipynb to exp/nb_00.py\r\n"
     ]
    }
   ],
   "source": [
    "! python notebook2script.py '00_params.ipynb'"
   ]
  },
  {
   "cell_type": "markdown",
   "metadata": {
    "collapsed": true,
    "heading_collapsed": true
   },
   "source": [
    "# fin"
   ]
  },
  {
   "cell_type": "code",
   "execution_count": null,
   "metadata": {
    "collapsed": true,
    "hidden": true
   },
   "outputs": [],
   "source": []
  },
  {
   "cell_type": "code",
   "execution_count": null,
   "metadata": {
    "collapsed": true,
    "hidden": true
   },
   "outputs": [],
   "source": []
  },
  {
   "cell_type": "code",
   "execution_count": null,
   "metadata": {
    "collapsed": true,
    "hidden": true
   },
   "outputs": [],
   "source": []
  },
  {
   "cell_type": "code",
   "execution_count": null,
   "metadata": {
    "collapsed": true,
    "hidden": true
   },
   "outputs": [],
   "source": []
  },
  {
   "cell_type": "code",
   "execution_count": null,
   "metadata": {
    "collapsed": true,
    "hidden": true
   },
   "outputs": [],
   "source": []
  },
  {
   "cell_type": "code",
   "execution_count": null,
   "metadata": {
    "collapsed": true,
    "hidden": true
   },
   "outputs": [],
   "source": []
  },
  {
   "cell_type": "code",
   "execution_count": null,
   "metadata": {
    "collapsed": true,
    "hidden": true
   },
   "outputs": [],
   "source": []
  },
  {
   "cell_type": "code",
   "execution_count": null,
   "metadata": {
    "collapsed": true,
    "hidden": true
   },
   "outputs": [],
   "source": []
  }
 ],
 "metadata": {
  "kernelspec": {
   "display_name": "Python 3",
   "language": "python",
   "name": "python3"
  },
  "language_info": {
   "codemirror_mode": {
    "name": "ipython",
    "version": 3
   },
   "file_extension": ".py",
   "mimetype": "text/x-python",
   "name": "python",
   "nbconvert_exporter": "python",
   "pygments_lexer": "ipython3",
   "version": "3.6.7"
  }
 },
 "nbformat": 4,
 "nbformat_minor": 2
}

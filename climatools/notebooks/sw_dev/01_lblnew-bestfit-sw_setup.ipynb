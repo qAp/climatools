{
 "cells": [
  {
   "cell_type": "code",
   "execution_count": 1,
   "metadata": {
    "collapsed": true
   },
   "outputs": [],
   "source": [
    "%reload_ext autoreload\n",
    "%autoreload 2\n",
    "%matplotlib inline"
   ]
  },
  {
   "cell_type": "code",
   "execution_count": 2,
   "metadata": {
    "collapsed": true
   },
   "outputs": [],
   "source": [
    "# export\n",
    "from pathlib import *"
   ]
  },
  {
   "cell_type": "code",
   "execution_count": 3,
   "metadata": {
    "collapsed": true
   },
   "outputs": [],
   "source": [
    "# export\n",
    "SRC = Path('/chia_cluster/home/jackyu/radiation/crdnew-sw/')"
   ]
  },
  {
   "cell_type": "code",
   "execution_count": 4,
   "metadata": {},
   "outputs": [
    {
     "data": {
      "text/plain": [
       "[PosixPath('/chia_cluster/home/jackyu/radiation/crdnew-sw/o3abs.data'),\n",
       " PosixPath('/chia_cluster/home/jackyu/radiation/crdnew-sw/lblcom.f~'),\n",
       " PosixPath('/chia_cluster/home/jackyu/radiation/crdnew-sw/README.md~'),\n",
       " PosixPath('/chia_cluster/home/jackyu/radiation/crdnew-sw/lblnew-bestfit-sw.f'),\n",
       " PosixPath('/chia_cluster/home/jackyu/radiation/crdnew-sw/LBLSW_overlapping_190213.f'),\n",
       " PosixPath('/chia_cluster/home/jackyu/radiation/crdnew-sw/band09_-_h2o_atmpro_-_mls_-_cosz_1'),\n",
       " PosixPath('/chia_cluster/home/jackyu/radiation/crdnew-sw/band09_-_h2o_atmpro_-_mls_-_cosz_0.2588'),\n",
       " PosixPath('/chia_cluster/home/jackyu/radiation/crdnew-sw/lblnew-bestfit-sw.sub'),\n",
       " PosixPath('/chia_cluster/home/jackyu/radiation/crdnew-sw/atmosphere_profiles'),\n",
       " PosixPath('/chia_cluster/home/jackyu/radiation/crdnew-sw/solar_insolation'),\n",
       " PosixPath('/chia_cluster/home/jackyu/radiation/crdnew-sw/band10_-_co2_0.0008_-_saw_-_cosz_1'),\n",
       " PosixPath('/chia_cluster/home/jackyu/radiation/crdnew-sw/band09_-_h2o_atmpro_-_mls_-_cosz_0.5'),\n",
       " PosixPath('/chia_cluster/home/jackyu/radiation/crdnew-sw/lblcom.f'),\n",
       " PosixPath('/chia_cluster/home/jackyu/radiation/crdnew-sw/README.md'),\n",
       " PosixPath('/chia_cluster/home/jackyu/radiation/crdnew-sw/crdnew-bestfit-sw.sub~'),\n",
       " PosixPath('/chia_cluster/home/jackyu/radiation/crdnew-sw/band10_-_co2_0.0004_-_saw_-_cosz_1'),\n",
       " PosixPath('/chia_cluster/home/jackyu/radiation/crdnew-sw/.gitignore'),\n",
       " PosixPath('/chia_cluster/home/jackyu/radiation/crdnew-sw/.git'),\n",
       " PosixPath('/chia_cluster/home/jackyu/radiation/crdnew-sw/HITRAN')]"
      ]
     },
     "execution_count": 4,
     "metadata": {},
     "output_type": "execute_result"
    }
   ],
   "source": [
    "list(SRC.iterdir())"
   ]
  },
  {
   "cell_type": "code",
   "execution_count": 5,
   "metadata": {
    "collapsed": true
   },
   "outputs": [],
   "source": [
    "# export\n",
    "FNAMES = ['lblnew-bestfit-sw.f', 'lblcom.f']"
   ]
  },
  {
   "cell_type": "code",
   "execution_count": 19,
   "metadata": {
    "collapsed": true
   },
   "outputs": [],
   "source": [
    "DIR_INSOL = SRC / 'solar_insolation'\n",
    "FILES_INSOL = ['new.dat']"
   ]
  },
  {
   "cell_type": "code",
   "execution_count": 14,
   "metadata": {},
   "outputs": [
    {
     "data": {
      "text/plain": [
       "[PosixPath('/chia_cluster/home/jackyu/radiation/crdnew-sw/solar_insolation/new.dat')]"
      ]
     },
     "execution_count": 14,
     "metadata": {},
     "output_type": "execute_result"
    }
   ],
   "source": [
    "list(DIR_INSOL.iterdir())"
   ]
  },
  {
   "cell_type": "code",
   "execution_count": 20,
   "metadata": {
    "collapsed": true
   },
   "outputs": [],
   "source": [
    "DIR_HITRAN = SRC / 'HITRAN' / 'hitran2012'\n",
    "FILES_HITRAN = ['h2o_lee.2012', 'co2_lee.2012', 'o3_lee.2012', 'n2o_lee.2012' 'ch4.2012', 'o2.2012']"
   ]
  },
  {
   "cell_type": "code",
   "execution_count": 18,
   "metadata": {},
   "outputs": [
    {
     "data": {
      "text/plain": [
       "[PosixPath('/chia_cluster/home/jackyu/radiation/crdnew-sw/HITRAN/hitran2012/n2o_lee.2012'),\n",
       " PosixPath('/chia_cluster/home/jackyu/radiation/crdnew-sw/HITRAN/hitran2012/co2.2012'),\n",
       " PosixPath('/chia_cluster/home/jackyu/radiation/crdnew-sw/HITRAN/hitran2012/o3.2012'),\n",
       " PosixPath('/chia_cluster/home/jackyu/radiation/crdnew-sw/HITRAN/hitran2012/co2_lee.2012'),\n",
       " PosixPath('/chia_cluster/home/jackyu/radiation/crdnew-sw/HITRAN/hitran2012/n2o.2012'),\n",
       " PosixPath('/chia_cluster/home/jackyu/radiation/crdnew-sw/HITRAN/hitran2012/co.2012'),\n",
       " PosixPath('/chia_cluster/home/jackyu/radiation/crdnew-sw/HITRAN/hitran2012/.o3.2012.swp'),\n",
       " PosixPath('/chia_cluster/home/jackyu/radiation/crdnew-sw/HITRAN/hitran2012/h2o.2012'),\n",
       " PosixPath('/chia_cluster/home/jackyu/radiation/crdnew-sw/HITRAN/hitran2012/ch4.2012_b'),\n",
       " PosixPath('/chia_cluster/home/jackyu/radiation/crdnew-sw/HITRAN/hitran2012/h2o_lee.2012'),\n",
       " PosixPath('/chia_cluster/home/jackyu/radiation/crdnew-sw/HITRAN/hitran2012/o2.2012'),\n",
       " PosixPath('/chia_cluster/home/jackyu/radiation/crdnew-sw/HITRAN/hitran2012/co2_DEC24.2012'),\n",
       " PosixPath('/chia_cluster/home/jackyu/radiation/crdnew-sw/HITRAN/hitran2012/ch4.2012'),\n",
       " PosixPath('/chia_cluster/home/jackyu/radiation/crdnew-sw/HITRAN/hitran2012/o3_lee.2012')]"
      ]
     },
     "execution_count": 18,
     "metadata": {},
     "output_type": "execute_result"
    }
   ],
   "source": [
    "list(DIR_HITRAN.iterdir())"
   ]
  },
  {
   "cell_type": "code",
   "execution_count": 28,
   "metadata": {
    "collapsed": true
   },
   "outputs": [],
   "source": [
    "FILES_O3ABS = ['o3abs.data']"
   ]
  },
  {
   "cell_type": "code",
   "execution_count": 21,
   "metadata": {},
   "outputs": [
    {
     "data": {
      "text/plain": [
       "'ifort -CB -g -traceback -fpe0 -warn unused -r8 lblcom.f lblnew-bestfit-sw.f -o lblnew-bestfit-sw.exe'"
      ]
     },
     "execution_count": 21,
     "metadata": {},
     "output_type": "execute_result"
    }
   ],
   "source": [
    "# export\n",
    "COMPILE_COMMAND = (\"ifort -CB -g -traceback -fpe0 -warn unused -r8 \"\n",
    "                   \"lblcom.f lblnew-bestfit-sw.f -o lblnew-bestfit-sw.exe\")"
   ]
  },
  {
   "cell_type": "code",
   "execution_count": 30,
   "metadata": {},
   "outputs": [
    {
     "name": "stdout",
     "output_type": "stream",
     "text": [
      "Converted 01_lblnew-bestfit-sw_setup.ipynb to exp/nb_01.py\r\n"
     ]
    }
   ],
   "source": [
    "! python notebook2script.py 01_lblnew-bestfit-sw_setup.ipynb"
   ]
  },
  {
   "cell_type": "code",
   "execution_count": null,
   "metadata": {
    "collapsed": true
   },
   "outputs": [],
   "source": []
  },
  {
   "cell_type": "code",
   "execution_count": null,
   "metadata": {
    "collapsed": true
   },
   "outputs": [],
   "source": []
  },
  {
   "cell_type": "code",
   "execution_count": null,
   "metadata": {
    "collapsed": true
   },
   "outputs": [],
   "source": []
  }
 ],
 "metadata": {
  "kernelspec": {
   "display_name": "Python 3",
   "language": "python",
   "name": "python3"
  },
  "language_info": {
   "codemirror_mode": {
    "name": "ipython",
    "version": 3
   },
   "file_extension": ".py",
   "mimetype": "text/x-python",
   "name": "python",
   "nbconvert_exporter": "python",
   "pygments_lexer": "ipython3",
   "version": "3.6.7"
  }
 },
 "nbformat": 4,
 "nbformat_minor": 2
}

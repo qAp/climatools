{
 "cells": [
  {
   "cell_type": "code",
   "execution_count": 5,
   "metadata": {
    "collapsed": true
   },
   "outputs": [],
   "source": [
    "%reload_ext autoreload\n",
    "%autoreload 2\n",
    "%matplotlib inline"
   ]
  },
  {
   "cell_type": "code",
   "execution_count": 188,
   "metadata": {},
   "outputs": [],
   "source": [
    "# export\n",
    "from exp.nb_00 import *\n",
    "from exp.nb_01 import *\n",
    "import os\n",
    "import shutil\n",
    "import re\n",
    "from climatools.lblnew.export import vector_to_F77"
   ]
  },
  {
   "cell_type": "code",
   "execution_count": 122,
   "metadata": {
    "collapsed": true
   },
   "outputs": [],
   "source": [
    "param = LBLnewBestfitSWParam(band=9, vmin=8200, vmax=14290, nv=10000, dv=0.001,\n",
    "                     molecule='h2o', conc='atmpro',\n",
    "                     ref_pts=[(300, 250), (300, 250)], ng_refs=[4, 6], ng_adju=[-3, 0],\n",
    "                     wgt=[(.95, .9, .5, .5), (.5, .5, .5, .7, .85, .95)],\n",
    "                     cosz=1., rsfc=0,\n",
    "                     klin=3e-25,\n",
    "                     option_k_lookup=0)"
   ]
  },
  {
   "cell_type": "code",
   "execution_count": 123,
   "metadata": {},
   "outputs": [
    {
     "data": {
      "text/plain": [
       "<class 'exp.nb_00.LBLnewBestfitSWParam'>\n",
       "{'dv': 0.001, 'nv': 10000, 'commitnumber': None, 'band': 9, 'molecule': 'h2o', 'atmpro': None, 'tsfc': None, 'vmin': 8200, 'vmax': 14290, 'conc': 'atmpro', 'ref_pts': [(300, 250), (300, 250)], 'ng_refs': [4, 6], 'ng_adju': [-3, 0], 'wgt': [(0.95, 0.9, 0.5, 0.5), (0.5, 0.5, 0.5, 0.7, 0.85, 0.95)], 'cosz': 1.0, 'rsfc': 0, 'klin': 3e-25, 'option_k_lookup': 0}"
      ]
     },
     "execution_count": 123,
     "metadata": {},
     "output_type": "execute_result"
    }
   ],
   "source": [
    "param"
   ]
  },
  {
   "cell_type": "markdown",
   "metadata": {},
   "source": [
    "## Creating work directory and copy source code into it"
   ]
  },
  {
   "cell_type": "code",
   "execution_count": 12,
   "metadata": {
    "collapsed": true
   },
   "outputs": [],
   "source": [
    "PATH = Path('test_run')"
   ]
  },
  {
   "cell_type": "code",
   "execution_count": 13,
   "metadata": {
    "collapsed": true
   },
   "outputs": [],
   "source": [
    "PATH.mkdir(exist_ok=True)"
   ]
  },
  {
   "cell_type": "code",
   "execution_count": 14,
   "metadata": {
    "collapsed": true
   },
   "outputs": [],
   "source": [
    "srcfiles = [SRC/n for n in FNAMES]"
   ]
  },
  {
   "cell_type": "code",
   "execution_count": 21,
   "metadata": {},
   "outputs": [
    {
     "data": {
      "text/plain": [
       "[PosixPath('/chia_cluster/home/jackyu/radiation/crdnew-sw/lblnew-bestfit-sw.f'),\n",
       " PosixPath('/chia_cluster/home/jackyu/radiation/crdnew-sw/lblcom.f')]"
      ]
     },
     "execution_count": 21,
     "metadata": {},
     "output_type": "execute_result"
    }
   ],
   "source": [
    "srcfiles"
   ]
  },
  {
   "cell_type": "code",
   "execution_count": 556,
   "metadata": {
    "collapsed": true
   },
   "outputs": [],
   "source": [
    "for n in srcfiles: shutil.copy(n, PATH)"
   ]
  },
  {
   "cell_type": "code",
   "execution_count": 16,
   "metadata": {},
   "outputs": [
    {
     "data": {
      "text/plain": [
       "[PosixPath('test_run/lblnew-bestfit-sw.f'),\n",
       " PosixPath('test_run/lblcom.f'),\n",
       " PosixPath('test_run/lblnew-bestfit-sw-replace.f')]"
      ]
     },
     "execution_count": 16,
     "metadata": {},
     "output_type": "execute_result"
    }
   ],
   "source": [
    "list(PATH.iterdir())"
   ]
  },
  {
   "cell_type": "markdown",
   "metadata": {},
   "source": [
    "## Reading the source code for the main program  \n",
    "We are going to insert the input parameter values into this"
   ]
  },
  {
   "cell_type": "code",
   "execution_count": 557,
   "metadata": {
    "collapsed": true,
    "scrolled": false
   },
   "outputs": [],
   "source": [
    "S = open(PATH/'lblnew-bestfit-sw.f', mode='r').read()\n",
    "#with open(PATH/'lblnew-bestfit-sw-replace.f', mode='w', encoding='utf-8') as f: f.write(s)"
   ]
  },
  {
   "cell_type": "code",
   "execution_count": 107,
   "metadata": {
    "collapsed": true
   },
   "outputs": [],
   "source": [
    "#! cp {PATH/'lblnew-bestfit-sw-replace.f'} /chia_cluster/home/jackyu/radiation/crdnew-sw/."
   ]
  },
  {
   "cell_type": "markdown",
   "metadata": {},
   "source": [
    "## Writing values into source code"
   ]
  },
  {
   "cell_type": "code",
   "execution_count": 460,
   "metadata": {},
   "outputs": [],
   "source": [
    "# export\n",
    "def pat_parameter(name):                                                                                        \n",
    "    '''                                                                                                         \n",
    "    Returns regular expression for assigning value to                                                           \n",
    "    a parameter variable in Fortran.                                                                            \n",
    "    '''                                                                                                         \n",
    "    return r'''(\\n [^!\\n]+ parameter .* :: \\s* &? \\s* {name} \\s* = ) (.*)'''.format(name=name) \n",
    "\n",
    "def enter_parameters(s, **kwargs):\n",
    "    '''\n",
    "    Writes parameter values to the source code.\n",
    "    '''\n",
    "    for n, vs in kwargs.items():\n",
    "        regex = re.compile(pat_parameter(n), re.VERBOSE)\n",
    "        try: v = '(/' + ', '.join([str(v) for v in vs]) + '/)'\n",
    "        except TypeError: v = str(vs)\n",
    "        s = regex.sub(r'\\g<1> ' + v, s)\n",
    "    return s"
   ]
  },
  {
   "cell_type": "code",
   "execution_count": 461,
   "metadata": {
    "collapsed": true
   },
   "outputs": [],
   "source": [
    "#export\n",
    "def pat_data(name):\n",
    "    dataname = ',\\s+'.join(name.split(','))\n",
    "    return r'''\n",
    "    (\\n \\s+ data \\s+ (?:{dataname}))\n",
    "    ([^/,]+ / [^/]+ /)\n",
    "    '''.format(dataname=dataname)\n",
    "\n",
    "def enter_data(s, dtype=float, **kwargs):\n",
    "    '''\n",
    "    Write `data` values to the source code.\n",
    "    '''\n",
    "    for n, v in kwargs.items():\n",
    "        regex = re.compile(pat_data(n), re.VERBOSE)\n",
    "        v = vector_to_F77(v, dtype=dtype)\n",
    "        v = ('\\n' + 5 * ' ' + '&/' + '\\n') + v + ('\\n' + 5 * ' ' + '&/')\n",
    "        s = regex.sub(r'\\g<1>' + v, s)\n",
    "    return s"
   ]
  },
  {
   "cell_type": "markdown",
   "metadata": {
    "heading_collapsed": true
   },
   "source": [
    "#### Spectral parameters"
   ]
  },
  {
   "cell_type": "code",
   "execution_count": null,
   "metadata": {
    "collapsed": true,
    "hidden": true
   },
   "outputs": [],
   "source": [
    "# Spectral parameters\n",
    "['dv', 'nv', 'vmin', 'vmax', ], \n",
    "[\"real, parameter :: dv = 0.001\",\n",
    " \"integer, parameter :: nv = 10000\",\n",
    " \"real, parameter :: vstar = 8200.0\",\n",
    " \"integer, parameter :: nband = 609\"]"
   ]
  },
  {
   "cell_type": "code",
   "execution_count": 465,
   "metadata": {
    "hidden": true,
    "scrolled": true
   },
   "outputs": [],
   "source": [
    "# export \n",
    "def spectral_parameters(vmin=None, vmax=None, dv=None, nv=None):\n",
    "    '''\n",
    "    Return parameter-value dictionary for the spectral parameters.\n",
    "    \n",
    "    Example\n",
    "    -------\n",
    "    ```\n",
    "    pvs = spectral_parameters(vmin=0, vmax=59595959, dv=.5, nv=100)\n",
    "    print(enter_parameters(S, **pvs))\n",
    "    ```\n",
    "    '''\n",
    "    vstar, nband = vmin, int((vmax - vmin) / (nv * dv))\n",
    "    return {'vstar':vstar, 'nband':nband, 'nv':nv, 'dv':dv}"
   ]
  },
  {
   "cell_type": "markdown",
   "metadata": {
    "heading_collapsed": true
   },
   "source": [
    "#### Absorber parameters"
   ]
  },
  {
   "cell_type": "code",
   "execution_count": null,
   "metadata": {
    "hidden": true
   },
   "outputs": [],
   "source": [
    "# Absorber parameters\n",
    "['molecule', 'conc'], ['''\n",
    "      integer   flgh2o, flgco2, flgo3, flgo2\n",
    "      data      flgh2o, flgco2, flgo3, flgo2\n",
    "     $        /   1,      0,      0,      0 /\n",
    " ''',\n",
    " '''\n",
    "        do k=1,nlayer\n",
    "        if(mid.eq.1) xlayer(k)=wlayer(k)\n",
    "        if(mid.eq.2) xlayer(k)=clayer(k) \n",
    "        if(mid.eq.3) xlayer(k)=olayer(k) \n",
    "        if(mid.eq.4) xlayer(k)=0.2315 \n",
    "       end do\n",
    " ''']"
   ]
  },
  {
   "cell_type": "code",
   "execution_count": 540,
   "metadata": {
    "hidden": true
   },
   "outputs": [],
   "source": [
    "# export\n",
    "def pat_conc(name):\n",
    "    return r'''\n",
    "    (\\n \\s+ {name} \\s* = \\s* )([-+\\.\\deE]+)\n",
    "    '''.format(name=name)"
   ]
  },
  {
   "cell_type": "code",
   "execution_count": 541,
   "metadata": {
    "collapsed": true,
    "hidden": true
   },
   "outputs": [],
   "source": [
    "# export\n",
    "def conc_values(co2=None):\n",
    "    '''\n",
    "    Return variable-value dictionary for absorber concentrations.\n",
    "    Note that this sets all layers' concentration to a constant.\n",
    "    \n",
    "    Example\n",
    "    -------\n",
    "    ```\n",
    "    pvs = conc_values(co2=500e-6)\n",
    "    enter_conc(S, **pvs)\n",
    "    ```\n",
    "    '''\n",
    "    pvs = {}\n",
    "    if co2: pvs['clayer'] = co2\n",
    "    return pvs"
   ]
  },
  {
   "cell_type": "code",
   "execution_count": 542,
   "metadata": {
    "collapsed": true,
    "hidden": true
   },
   "outputs": [],
   "source": [
    "# export\n",
    "def enter_conc(s, **kwargs):\n",
    "    for n, v in kwargs.items():\n",
    "        regex = re.compile(pat_conc(n), re.VERBOSE)\n",
    "        s = regex.sub(r'\\g<1>' + str(v), s, 1)\n",
    "    return s    "
   ]
  },
  {
   "cell_type": "code",
   "execution_count": 543,
   "metadata": {
    "collapsed": true,
    "hidden": true
   },
   "outputs": [],
   "source": [
    "# export\n",
    "def molecule_flags_data(molecule=None):\n",
    "    '''\n",
    "    Return data-value dictionary for absorber flags.\n",
    "    \n",
    "    Example\n",
    "    -------\n",
    "    ```\n",
    "    pvs = molecule_flags_data(molecule='co2')\n",
    "    enter_data(S, dtype=int, **pvs)\n",
    "    ```\n",
    "    '''\n",
    "    ns = ('h2o', 'co2', 'o3', 'o2')\n",
    "    if molecule not in ns: raise Exception('Input molecule must be h2o, co2, o3 or o2.')\n",
    "    n = ', '.join(['flg' + n for n in ns])\n",
    "    v = np.array([1 if n == molecule else 0 for n in ns])\n",
    "    return {n:v}    "
   ]
  },
  {
   "cell_type": "markdown",
   "metadata": {
    "heading_collapsed": true
   },
   "source": [
    "#### Opitcal parameters"
   ]
  },
  {
   "cell_type": "code",
   "execution_count": 146,
   "metadata": {
    "hidden": true
   },
   "outputs": [
    {
     "data": {
      "text/plain": [
       "(['cosz', 'rsfc'], ['parameter (cosz=.2588,rsfc=0.0) '])"
      ]
     },
     "execution_count": 146,
     "metadata": {},
     "output_type": "execute_result"
    }
   ],
   "source": [
    "# Optics parameters\n",
    "['cosz', 'rsfc'], [\"parameter (cosz=.2588,rsfc=0.0) \"]"
   ]
  },
  {
   "cell_type": "code",
   "execution_count": 551,
   "metadata": {
    "collapsed": true,
    "hidden": true
   },
   "outputs": [],
   "source": [
    "#export\n",
    "def optical_parameters(cosz=None, rsfc=None):\n",
    "    '''\n",
    "    Example\n",
    "    -------\n",
    "    ```\n",
    "    pvs = optical_parameters(cosz=.4556, rsfc=.78)\n",
    "    print(enter_parameters(S, **pvs))\n",
    "    ```\n",
    "    '''\n",
    "    pvs = {}\n",
    "    if cosz: pvs['cosz'] = cosz\n",
    "    if rsfc: pvs['rsfc'] = rsfc\n",
    "    return pvs"
   ]
  },
  {
   "cell_type": "markdown",
   "metadata": {
    "heading_collapsed": true
   },
   "source": [
    "#### Atmosphere profile"
   ]
  },
  {
   "cell_type": "code",
   "execution_count": 147,
   "metadata": {
    "hidden": true
   },
   "outputs": [
    {
     "data": {
      "text/plain": [
       "(['atmpro'],\n",
       " [\"\\n     include '/chia_cluster/home/jackyu/radiation/\\n     &crdnew-sw/atmosphere_profiles/mls75.pro'\\n \"])"
      ]
     },
     "execution_count": 147,
     "metadata": {},
     "output_type": "execute_result"
    }
   ],
   "source": [
    "# Atmosphere profile\n",
    "['atmpro'], ['''\n",
    "     include '/chia_cluster/home/jackyu/radiation/\n",
    "     &crdnew-sw/atmosphere_profiles/mls75.pro'\n",
    " ''']"
   ]
  },
  {
   "cell_type": "code",
   "execution_count": 471,
   "metadata": {
    "collapsed": true,
    "hidden": true
   },
   "outputs": [],
   "source": [
    "#export\n",
    "def pat_atmpro():\n",
    "    '''\n",
    "    Return regular expression that matches the assignment of the \n",
    "    atmosphere profilein the source code.\n",
    "    '''\n",
    "    return r'''(\\n [^!\\n]+ atmosphere_profiles/)([a-z]{3,3})'''"
   ]
  },
  {
   "cell_type": "code",
   "execution_count": 472,
   "metadata": {
    "collapsed": true,
    "hidden": true
   },
   "outputs": [],
   "source": [
    "#export\n",
    "def enter_atmpro(s, atmpro=None):\n",
    "    '''\n",
    "    Enter atmosphere profile name into the source code.\n",
    "    \n",
    "    Example\n",
    "    -------\n",
    "    ```\n",
    "    S = enter_atmpro(S, atmpro='saw')\n",
    "    ```\n",
    "    '''\n",
    "    if atmpro:\n",
    "        regex = re.compile(pat_atmpro(), re.VERBOSE)\n",
    "        print(regex.findall(S))\n",
    "        s = regex.sub(r'\\g<1>' + atmpro, s)\n",
    "    return s"
   ]
  },
  {
   "cell_type": "markdown",
   "metadata": {
    "heading_collapsed": true
   },
   "source": [
    "#### k-distribution method parameters"
   ]
  },
  {
   "cell_type": "code",
   "execution_count": 144,
   "metadata": {
    "hidden": true
   },
   "outputs": [
    {
     "data": {
      "text/plain": [
       "(['wgt'], ['data wgt \\n &     / 0.95, 0.90, 5*0.50, 0.70, 0.85, 0.95 /'])"
      ]
     },
     "execution_count": 144,
     "metadata": {},
     "output_type": "execute_result"
    }
   ],
   "source": [
    "# k-distribution method\n",
    "['pt_refs'], [\"real, dimension(nref), parameter :: p_refs =(/ 300., 300. /)\",\n",
    "              \"real, dimension(nref), parameter :: t_refs =(/ 250., 250. /)\",\n",
    "              \"integer, parameter :: nref = 2\"]\n",
    "['ng_refs'], [\"integer, dimension(nref), parameter :: ng_refs = (/4, 6/)\",\n",
    "              \"integer, parameter :: ng = 10\"]\n",
    "[\"ng_adju\"], [\"integer, dimension(nref), parameter :: ng_adju = (/ -3, 0 /)\"]\n",
    "[\"klin\"], [\"real*8, parameter :: klin = 3.e-25\"]\n",
    "['wgt'], [\"data wgt \\n &     / 0.95, 0.90, 5*0.50, 0.70, 0.85, 0.95 /\"]"
   ]
  },
  {
   "cell_type": "code",
   "execution_count": 240,
   "metadata": {
    "hidden": true,
    "scrolled": false
   },
   "outputs": [],
   "source": [
    "# export\n",
    "\n",
    "def kdist_parameters(ref_pts=None, ng_refs=None, ng_adju=None, klin=None):\n",
    "    '''\n",
    "    Return parameter-value dictionary for k-distribution method's parameters.\n",
    "    \n",
    "    Example\n",
    "    -------\n",
    "    ```\n",
    "    pvs = kdist_parameters(ref_pts=[(500, 2315634563), (11, 257)], ng_refs=[7, 18], ng_adju=[-4, +7], klin=3.3333e-19)\n",
    "    S = enter_parameters(S, **pvs)\n",
    "    ```\n",
    "    '''\n",
    "    pvs = {}\n",
    "    if ref_pts: pvs['p_refs'], pvs['t_refs'] = zip(*ref_pts)    \n",
    "    if ng_refs: pvs['ng_refs'] = ng_refs\n",
    "    if ng_adju: pvs['ng_adju'] = ng_adju\n",
    "    if klin: pvs.update({'option_klin':1, 'klin':klin})\n",
    "    else: pvs.update({'option_klin':0})\n",
    "    return pvs"
   ]
  },
  {
   "cell_type": "code",
   "execution_count": 456,
   "metadata": {
    "hidden": true,
    "scrolled": false
   },
   "outputs": [],
   "source": [
    "#export\n",
    "def kdist_data(wgt=None):\n",
    "    '''\n",
    "    Return parameter-value dictionary for k-distribution method's data vectors.\n",
    "    \n",
    "    Example\n",
    "    -------\n",
    "    ```\n",
    "    pvs = kdist_data(wgt=param.wgt)\n",
    "    enter_data(S, **pvs)\n",
    "    ```\n",
    "    '''\n",
    "    pvs = {}\n",
    "    if wgt: pvs['wgt'] = np.array([w for ws in wgt for w in ws])\n",
    "    return pvs"
   ]
  },
  {
   "cell_type": "markdown",
   "metadata": {},
   "source": [
    "# fin"
   ]
  },
  {
   "cell_type": "code",
   "execution_count": 550,
   "metadata": {},
   "outputs": [
    {
     "name": "stdout",
     "output_type": "stream",
     "text": [
      "Converted 02_runner.ipynb to exp/nb_02.py\r\n"
     ]
    }
   ],
   "source": [
    "! python notebook2script.py 02_runner.ipynb"
   ]
  },
  {
   "cell_type": "code",
   "execution_count": null,
   "metadata": {
    "collapsed": true
   },
   "outputs": [],
   "source": []
  },
  {
   "cell_type": "code",
   "execution_count": null,
   "metadata": {
    "collapsed": true
   },
   "outputs": [],
   "source": []
  },
  {
   "cell_type": "code",
   "execution_count": null,
   "metadata": {
    "collapsed": true
   },
   "outputs": [],
   "source": []
  },
  {
   "cell_type": "code",
   "execution_count": null,
   "metadata": {
    "collapsed": true
   },
   "outputs": [],
   "source": []
  },
  {
   "cell_type": "code",
   "execution_count": null,
   "metadata": {
    "collapsed": true
   },
   "outputs": [],
   "source": []
  },
  {
   "cell_type": "code",
   "execution_count": null,
   "metadata": {
    "collapsed": true
   },
   "outputs": [],
   "source": []
  },
  {
   "cell_type": "code",
   "execution_count": null,
   "metadata": {
    "collapsed": true
   },
   "outputs": [],
   "source": []
  },
  {
   "cell_type": "code",
   "execution_count": null,
   "metadata": {
    "collapsed": true
   },
   "outputs": [],
   "source": []
  }
 ],
 "metadata": {
  "kernelspec": {
   "display_name": "Python 3",
   "language": "python",
   "name": "python3"
  },
  "language_info": {
   "codemirror_mode": {
    "name": "ipython",
    "version": 3
   },
   "file_extension": ".py",
   "mimetype": "text/x-python",
   "name": "python",
   "nbconvert_exporter": "python",
   "pygments_lexer": "ipython3",
   "version": "3.6.7"
  }
 },
 "nbformat": 4,
 "nbformat_minor": 2
}

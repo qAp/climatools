{
 "cells": [
  {
   "cell_type": "markdown",
   "metadata": {},
   "source": [
    "# lblnew-bestfit-sw Runner  \n",
    "Create a class that is responsible for running lblnew-bestfit-sw.  Each instance of this class would be responsible\n",
    "for running *one* case of lblnew-bestfit-sw."
   ]
  },
  {
   "cell_type": "code",
   "execution_count": 10,
   "metadata": {
    "collapsed": true
   },
   "outputs": [],
   "source": [
    "%reload_ext autoreload\n",
    "%autoreload 2\n",
    "%matplotlib inline"
   ]
  },
  {
   "cell_type": "code",
   "execution_count": 11,
   "metadata": {},
   "outputs": [],
   "source": [
    "# export\n",
    "from pdb import *\n",
    "from exp.nb_00 import *\n",
    "from exp.nb_01 import *\n",
    "import os\n",
    "import shutil\n",
    "import re\n",
    "import subprocess\n",
    "import numpy as np\n",
    "from climatools.lblnew.export import vector_to_F77"
   ]
  },
  {
   "cell_type": "code",
   "execution_count": 12,
   "metadata": {
    "collapsed": true
   },
   "outputs": [],
   "source": [
    "param = LBLnewBestfitSWParam(band=9, vmin=8200, vmax=14290, nv=10000, dv=0.001,\n",
    "                     molecule='h2o', conc='atmpro',\n",
    "                     ref_pts=[(300, 250), (300, 250)], ng_refs=[4, 6], ng_adju=[-3, 0],\n",
    "                     wgt=[(.95, .9, .5, .5), (.5, .5, .5, .7, .85, .95)],\n",
    "                     cosz=1., rsfc=0,\n",
    "                     klin=3e-25,\n",
    "                     option_k_lookup=0)"
   ]
  },
  {
   "cell_type": "code",
   "execution_count": 45,
   "metadata": {},
   "outputs": [
    {
     "data": {
      "text/plain": [
       "<class 'exp.nb_00.LBLnewBestfitSWParam'>\n",
       "{'dv': 0.001, 'nv': 10000, 'commitnumber': None, 'band': 9, 'molecule': 'h2o', 'atmpro': None, 'tsfc': None, 'vmin': 8200, 'vmax': 14290, 'conc': 'atmpro', 'ref_pts': [(300, 250), (300, 250)], 'ng_refs': [4, 6], 'ng_adju': [-3, 0], 'wgt': [(0.95, 0.9, 0.5, 0.5), (0.5, 0.5, 0.5, 0.7, 0.85, 0.95)], 'cosz': 1.0, 'rsfc': 0, 'klin': 3e-25, 'option_k_lookup': 0}"
      ]
     },
     "execution_count": 45,
     "metadata": {},
     "output_type": "execute_result"
    }
   ],
   "source": [
    "param"
   ]
  },
  {
   "cell_type": "markdown",
   "metadata": {
    "heading_collapsed": true
   },
   "source": [
    "## Creating work directory and copy source code into it"
   ]
  },
  {
   "cell_type": "code",
   "execution_count": 12,
   "metadata": {
    "collapsed": true,
    "hidden": true
   },
   "outputs": [],
   "source": [
    "PATH = Path('test_run')"
   ]
  },
  {
   "cell_type": "code",
   "execution_count": 13,
   "metadata": {
    "collapsed": true,
    "hidden": true
   },
   "outputs": [],
   "source": [
    "PATH.mkdir(exist_ok=True, parents=True)"
   ]
  },
  {
   "cell_type": "code",
   "execution_count": 14,
   "metadata": {
    "collapsed": true,
    "hidden": true
   },
   "outputs": [],
   "source": [
    "srcfiles = [SRC/n for n in FNAMES]"
   ]
  },
  {
   "cell_type": "code",
   "execution_count": 21,
   "metadata": {
    "hidden": true
   },
   "outputs": [
    {
     "data": {
      "text/plain": [
       "[PosixPath('/chia_cluster/home/jackyu/radiation/crdnew-sw/lblnew-bestfit-sw.f'),\n",
       " PosixPath('/chia_cluster/home/jackyu/radiation/crdnew-sw/lblcom.f')]"
      ]
     },
     "execution_count": 21,
     "metadata": {},
     "output_type": "execute_result"
    }
   ],
   "source": [
    "srcfiles"
   ]
  },
  {
   "cell_type": "code",
   "execution_count": 562,
   "metadata": {
    "collapsed": true,
    "hidden": true
   },
   "outputs": [],
   "source": [
    "for n in srcfiles: shutil.copy(n, PATH)"
   ]
  },
  {
   "cell_type": "code",
   "execution_count": 16,
   "metadata": {
    "hidden": true
   },
   "outputs": [
    {
     "data": {
      "text/plain": [
       "[PosixPath('test_run/lblnew-bestfit-sw.f'),\n",
       " PosixPath('test_run/lblcom.f'),\n",
       " PosixPath('test_run/lblnew-bestfit-sw-replace.f')]"
      ]
     },
     "execution_count": 16,
     "metadata": {},
     "output_type": "execute_result"
    }
   ],
   "source": [
    "list(PATH.iterdir())"
   ]
  },
  {
   "cell_type": "markdown",
   "metadata": {
    "heading_collapsed": true
   },
   "source": [
    "## Reading the source code for the main program  \n",
    "We are going to insert the input parameter values into this"
   ]
  },
  {
   "cell_type": "code",
   "execution_count": 563,
   "metadata": {
    "collapsed": true,
    "hidden": true,
    "scrolled": false
   },
   "outputs": [],
   "source": [
    "S = open(PATH/'lblnew-bestfit-sw.f', mode='r').read()\n",
    "#with open(PATH/'lblnew-bestfit-sw-replace.f', mode='w', encoding='utf-8') as f: f.write(s)"
   ]
  },
  {
   "cell_type": "code",
   "execution_count": 107,
   "metadata": {
    "collapsed": true,
    "hidden": true
   },
   "outputs": [],
   "source": [
    "#! cp {PATH/'lblnew-bestfit-sw-replace.f'} /chia_cluster/home/jackyu/radiation/crdnew-sw/."
   ]
  },
  {
   "cell_type": "markdown",
   "metadata": {
    "heading_collapsed": true
   },
   "source": [
    "## Writing values into source code"
   ]
  },
  {
   "cell_type": "code",
   "execution_count": 14,
   "metadata": {
    "hidden": true
   },
   "outputs": [],
   "source": [
    "# export\n",
    "def pat_parameter(name):                                                                                        \n",
    "    '''                                                                                                         \n",
    "    Returns regular expression for assigning value to                                                           \n",
    "    a parameter variable in Fortran.                                                                            \n",
    "    '''                                                                                                         \n",
    "    return r'''(\\n [^!\\n]+ parameter .* :: \\s* &? \\s* {name} \\s* = ) (.*)'''.format(name=name) \n",
    "\n",
    "def enter_parameters(s, **kwargs):\n",
    "    '''\n",
    "    Writes parameter values to the source code.\n",
    "    '''\n",
    "    for n, vs in kwargs.items():\n",
    "        regex = re.compile(pat_parameter(n), re.VERBOSE)\n",
    "        try: v = '(/' + ', '.join([str(v) for v in vs]) + '/)'\n",
    "        except TypeError: v = str(vs)\n",
    "        s = regex.sub(r'\\g<1> ' + v, s)\n",
    "    return s"
   ]
  },
  {
   "cell_type": "code",
   "execution_count": 15,
   "metadata": {
    "collapsed": true,
    "hidden": true
   },
   "outputs": [],
   "source": [
    "#export\n",
    "def pat_data(name):\n",
    "    dataname = ',\\s+'.join(name.split(','))\n",
    "    return r'''\n",
    "    (\\n \\s+ data \\s+ (?:{dataname}))\n",
    "    ([^/,]+ / [^/]+ /)\n",
    "    '''.format(dataname=dataname)\n",
    "\n",
    "def enter_data(s, dtype=float, **kwargs):\n",
    "    '''\n",
    "    Write `data` values to the source code.\n",
    "    '''\n",
    "    for n, v in kwargs.items():\n",
    "        regex = re.compile(pat_data(n), re.VERBOSE)\n",
    "        v = vector_to_F77(v, dtype=dtype)\n",
    "        v = ('\\n' + 5 * ' ' + '&/' + '\\n') + v + ('\\n' + 5 * ' ' + '&/')\n",
    "        s = regex.sub(r'\\g<1>' + v, s)\n",
    "    return s"
   ]
  },
  {
   "cell_type": "markdown",
   "metadata": {
    "hidden": true
   },
   "source": [
    "#### Spectral parameters"
   ]
  },
  {
   "cell_type": "code",
   "execution_count": null,
   "metadata": {
    "collapsed": true,
    "hidden": true
   },
   "outputs": [],
   "source": [
    "# Spectral parameters\n",
    "['dv', 'nv', 'vmin', 'vmax', ], \n",
    "[\"real, parameter :: dv = 0.001\",\n",
    " \"integer, parameter :: nv = 10000\",\n",
    " \"real, parameter :: vstar = 8200.0\",\n",
    " \"integer, parameter :: nband = 609\"]"
   ]
  },
  {
   "cell_type": "code",
   "execution_count": 16,
   "metadata": {
    "hidden": true,
    "scrolled": true
   },
   "outputs": [],
   "source": [
    "# export \n",
    "def spectral_parameters(vmin=None, vmax=None, dv=None, nv=None):\n",
    "    '''\n",
    "    Return parameter-value dictionary for the spectral parameters.\n",
    "    \n",
    "    Example\n",
    "    -------\n",
    "    ```\n",
    "    pvs = spectral_parameters(vmin=0, vmax=59595959, dv=.5, nv=100)\n",
    "    print(enter_parameters(S, **pvs))\n",
    "    ```\n",
    "    '''\n",
    "    vstar, nband = vmin, int((vmax - vmin) / (nv * dv))\n",
    "    return {'vstar':vstar, 'nband':nband, 'nv':nv, 'dv':dv}"
   ]
  },
  {
   "cell_type": "markdown",
   "metadata": {
    "hidden": true
   },
   "source": [
    "#### Absorber parameters"
   ]
  },
  {
   "cell_type": "code",
   "execution_count": null,
   "metadata": {
    "hidden": true
   },
   "outputs": [],
   "source": [
    "# Absorber parameters\n",
    "['molecule', 'conc'], ['''\n",
    "      integer   flgh2o, flgco2, flgo3, flgo2\n",
    "      data      flgh2o, flgco2, flgo3, flgo2\n",
    "     $        /   1,      0,      0,      0 /\n",
    " ''',\n",
    " '''\n",
    "        do k=1,nlayer\n",
    "        if(mid.eq.1) xlayer(k)=wlayer(k)\n",
    "        if(mid.eq.2) xlayer(k)=clayer(k) \n",
    "        if(mid.eq.3) xlayer(k)=olayer(k) \n",
    "        if(mid.eq.4) xlayer(k)=0.2315 \n",
    "       end do\n",
    " ''']"
   ]
  },
  {
   "cell_type": "code",
   "execution_count": 17,
   "metadata": {
    "hidden": true
   },
   "outputs": [],
   "source": [
    "# export\n",
    "def pat_conc(name):\n",
    "    return r'''\n",
    "    (\\n \\s+ {name} \\s* = \\s* )([-+\\.\\deE]+)\n",
    "    '''.format(name=name)"
   ]
  },
  {
   "cell_type": "code",
   "execution_count": 18,
   "metadata": {
    "collapsed": true,
    "hidden": true
   },
   "outputs": [],
   "source": [
    "# export\n",
    "def conc_values(co2=None):\n",
    "    '''\n",
    "    Return variable-value dictionary for absorber concentrations.\n",
    "    Note that this sets all layers' concentration to a constant.\n",
    "    \n",
    "    Example\n",
    "    -------\n",
    "    ```\n",
    "    pvs = conc_values(co2=500e-6)\n",
    "    enter_conc(S, **pvs)\n",
    "    ```\n",
    "    '''\n",
    "    pvs = {}\n",
    "    if co2: pvs['clayer'] = co2\n",
    "    return pvs"
   ]
  },
  {
   "cell_type": "code",
   "execution_count": 19,
   "metadata": {
    "collapsed": true,
    "hidden": true
   },
   "outputs": [],
   "source": [
    "# export\n",
    "def enter_conc(s, **kwargs):\n",
    "    for n, v in kwargs.items():\n",
    "        regex = re.compile(pat_conc(n), re.VERBOSE)\n",
    "        s = regex.sub(r'\\g<1>' + str(v), s, 1)\n",
    "    return s    "
   ]
  },
  {
   "cell_type": "code",
   "execution_count": 20,
   "metadata": {
    "collapsed": true,
    "hidden": true
   },
   "outputs": [],
   "source": [
    "# export\n",
    "def molecule_flags_data(molecule=None):\n",
    "    '''\n",
    "    Return data-value dictionary for absorber flags.\n",
    "    \n",
    "    Example\n",
    "    -------\n",
    "    ```\n",
    "    pvs = molecule_flags_data(molecule='co2')\n",
    "    enter_data(S, dtype=int, **pvs)\n",
    "    ```\n",
    "    '''\n",
    "    ns = ('h2o', 'co2', 'o3', 'o2')\n",
    "    if molecule not in ns: raise Exception('Input molecule must be h2o, co2, o3 or o2.')\n",
    "    n = ', '.join(['flg' + n for n in ns])\n",
    "    v = np.array([1 if n == molecule else 0 for n in ns])\n",
    "    return {n:v}    "
   ]
  },
  {
   "cell_type": "markdown",
   "metadata": {
    "hidden": true
   },
   "source": [
    "#### Opitcal parameters"
   ]
  },
  {
   "cell_type": "code",
   "execution_count": 146,
   "metadata": {
    "hidden": true
   },
   "outputs": [
    {
     "data": {
      "text/plain": [
       "(['cosz', 'rsfc'], ['parameter (cosz=.2588,rsfc=0.0) '])"
      ]
     },
     "execution_count": 146,
     "metadata": {},
     "output_type": "execute_result"
    }
   ],
   "source": [
    "# Optics parameters\n",
    "['cosz', 'rsfc'], [\"parameter (cosz=.2588,rsfc=0.0) \"]"
   ]
  },
  {
   "cell_type": "code",
   "execution_count": 21,
   "metadata": {
    "collapsed": true,
    "hidden": true
   },
   "outputs": [],
   "source": [
    "#export\n",
    "def optical_parameters(cosz=None, rsfc=None):\n",
    "    '''\n",
    "    Example\n",
    "    -------\n",
    "    ```\n",
    "    pvs = optical_parameters(cosz=.4556, rsfc=.78)\n",
    "    print(enter_parameters(S, **pvs))\n",
    "    ```\n",
    "    '''\n",
    "    pvs = {}\n",
    "    if cosz: pvs['cosz'] = cosz\n",
    "    if rsfc: pvs['rsfc'] = rsfc\n",
    "    return pvs"
   ]
  },
  {
   "cell_type": "markdown",
   "metadata": {
    "hidden": true
   },
   "source": [
    "#### Atmosphere profile"
   ]
  },
  {
   "cell_type": "code",
   "execution_count": 147,
   "metadata": {
    "hidden": true
   },
   "outputs": [
    {
     "data": {
      "text/plain": [
       "(['atmpro'],\n",
       " [\"\\n     include '/chia_cluster/home/jackyu/radiation/\\n     &crdnew-sw/atmosphere_profiles/mls75.pro'\\n \"])"
      ]
     },
     "execution_count": 147,
     "metadata": {},
     "output_type": "execute_result"
    }
   ],
   "source": [
    "# Atmosphere profile\n",
    "['atmpro'], ['''\n",
    "     include '/chia_cluster/home/jackyu/radiation/\n",
    "     &crdnew-sw/atmosphere_profiles/mls75.pro'\n",
    " ''']"
   ]
  },
  {
   "cell_type": "code",
   "execution_count": 22,
   "metadata": {
    "collapsed": true,
    "hidden": true
   },
   "outputs": [],
   "source": [
    "#export\n",
    "def pat_atmpro():\n",
    "    '''\n",
    "    Return regular expression that matches the assignment of the \n",
    "    atmosphere profilein the source code.\n",
    "    '''\n",
    "    return r'''(\\n [^!\\n]+ atmosphere_profiles/)([a-z]{3,3})'''"
   ]
  },
  {
   "cell_type": "code",
   "execution_count": 23,
   "metadata": {
    "collapsed": true,
    "hidden": true
   },
   "outputs": [],
   "source": [
    "#export\n",
    "def enter_atmpro(s, atmpro=None):\n",
    "    '''\n",
    "    Enter atmosphere profile name into the source code.\n",
    "    \n",
    "    Example\n",
    "    -------\n",
    "    ```\n",
    "    S = enter_atmpro(S, atmpro='saw')\n",
    "    ```\n",
    "    '''\n",
    "    if atmpro:\n",
    "        regex = re.compile(pat_atmpro(), re.VERBOSE)\n",
    "        s = regex.sub(r'\\g<1>' + atmpro, s)\n",
    "    return s"
   ]
  },
  {
   "cell_type": "markdown",
   "metadata": {
    "hidden": true
   },
   "source": [
    "#### k-distribution method parameters"
   ]
  },
  {
   "cell_type": "code",
   "execution_count": 144,
   "metadata": {
    "hidden": true
   },
   "outputs": [
    {
     "data": {
      "text/plain": [
       "(['wgt'], ['data wgt \\n &     / 0.95, 0.90, 5*0.50, 0.70, 0.85, 0.95 /'])"
      ]
     },
     "execution_count": 144,
     "metadata": {},
     "output_type": "execute_result"
    }
   ],
   "source": [
    "# k-distribution method\n",
    "['pt_refs'], [\"real, dimension(nref), parameter :: p_refs =(/ 300., 300. /)\",\n",
    "              \"real, dimension(nref), parameter :: t_refs =(/ 250., 250. /)\",\n",
    "              \"integer, parameter :: nref = 2\"]\n",
    "['ng_refs'], [\"integer, dimension(nref), parameter :: ng_refs = (/4, 6/)\",\n",
    "              \"integer, parameter :: ng = 10\"]\n",
    "[\"ng_adju\"], [\"integer, dimension(nref), parameter :: ng_adju = (/ -3, 0 /)\"]\n",
    "[\"klin\"], [\"real*8, parameter :: klin = 3.e-25\"]\n",
    "['wgt'], [\"data wgt \\n &     / 0.95, 0.90, 5*0.50, 0.70, 0.85, 0.95 /\"]"
   ]
  },
  {
   "cell_type": "code",
   "execution_count": 24,
   "metadata": {
    "hidden": true,
    "scrolled": false
   },
   "outputs": [],
   "source": [
    "# export\n",
    "\n",
    "def kdist_parameters(ref_pts=None, ng_refs=None, ng_adju=None, klin=None):\n",
    "    '''\n",
    "    Return parameter-value dictionary for k-distribution method's parameters.\n",
    "    \n",
    "    Example\n",
    "    -------\n",
    "    ```\n",
    "    pvs = kdist_parameters(ref_pts=[(500, 2315634563), (11, 257)], ng_refs=[7, 18], ng_adju=[-4, +7], klin=3.3333e-19)\n",
    "    S = enter_parameters(S, **pvs)\n",
    "    ```\n",
    "    '''\n",
    "    pvs = {}\n",
    "    if ref_pts: pvs['p_refs'], pvs['t_refs'] = zip(*ref_pts)    \n",
    "    if ng_refs: \n",
    "        pvs['ng_refs'], pvs['ng'], pvs['nref'] = ng_refs, sum(ng_refs), len(ng_refs)\n",
    "    if ng_adju: pvs['ng_adju'] = ng_adju\n",
    "    if klin: pvs.update({'option_klin':1, 'klin':klin})\n",
    "    else: pvs.update({'option_klin':0})\n",
    "    return pvs"
   ]
  },
  {
   "cell_type": "code",
   "execution_count": 25,
   "metadata": {
    "hidden": true,
    "scrolled": false
   },
   "outputs": [],
   "source": [
    "#export\n",
    "def kdist_data(wgt=None):\n",
    "    '''\n",
    "    Return parameter-value dictionary for k-distribution method's data vectors.\n",
    "    \n",
    "    Example\n",
    "    -------\n",
    "    ```\n",
    "    pvs = kdist_data(wgt=param.wgt)\n",
    "    enter_data(S, **pvs)\n",
    "    ```\n",
    "    '''\n",
    "    pvs = {}\n",
    "    if wgt: pvs['wgt'] = np.array([w for ws in wgt for w in ws])\n",
    "    return pvs"
   ]
  },
  {
   "cell_type": "markdown",
   "metadata": {
    "hidden": true
   },
   "source": [
    "#### Write the Fortran code into which the input values have been written to disk"
   ]
  },
  {
   "cell_type": "code",
   "execution_count": 566,
   "metadata": {
    "hidden": true
   },
   "outputs": [
    {
     "data": {
      "text/plain": [
       "41965"
      ]
     },
     "execution_count": 566,
     "metadata": {},
     "output_type": "execute_result"
    }
   ],
   "source": [
    "open(PATH/'lblnew-bestfit-sw.f', mode='w').write(S)"
   ]
  },
  {
   "cell_type": "code",
   "execution_count": 570,
   "metadata": {
    "hidden": true,
    "scrolled": false
   },
   "outputs": [],
   "source": [
    "#print(open(PATH/'lblnew-bestfit-sw.f', mode='r').read())"
   ]
  },
  {
   "cell_type": "markdown",
   "metadata": {
    "heading_collapsed": true
   },
   "source": [
    "## Compile the Fortran code"
   ]
  },
  {
   "cell_type": "code",
   "execution_count": 576,
   "metadata": {
    "hidden": true
   },
   "outputs": [
    {
     "data": {
      "text/plain": [
       "[PosixPath('test_run/lblnew-bestfit-sw.f'),\n",
       " PosixPath('test_run/lblnew-bestfit-sw.exe'),\n",
       " PosixPath('test_run/lblcom.f'),\n",
       " PosixPath('test_run/lblnew-bestfit-sw-replace.f')]"
      ]
     },
     "execution_count": 576,
     "metadata": {},
     "output_type": "execute_result"
    }
   ],
   "source": [
    "list(PATH.iterdir())"
   ]
  },
  {
   "cell_type": "code",
   "execution_count": 591,
   "metadata": {
    "hidden": true
   },
   "outputs": [],
   "source": [
    "#! ifort -g -CB -traceback -fpe0 -r8 -warn unused {PATH/'lblcom.f'} {PATH/'lblnew-bestfit-sw.f'} -o {PATH/'lblnew-bestfit-sw.exe'}"
   ]
  },
  {
   "cell_type": "code",
   "execution_count": 587,
   "metadata": {
    "hidden": true
   },
   "outputs": [],
   "source": [
    "proc = subprocess.Popen(['ifort', '-g', '-CB', '-traceback', '-fpe0', '-r8', '-warn', 'unused',\n",
    "                         PATH/'lblcom.f', PATH/'lblnew-bestfit-sw.f', '-o', PATH/'lblnew-bestfit-sw.exe'],\n",
    "                        stdout=subprocess.PIPE, stderr=subprocess.PIPE)\n",
    "out, err = proc.communicate()"
   ]
  },
  {
   "cell_type": "code",
   "execution_count": 588,
   "metadata": {
    "hidden": true
   },
   "outputs": [
    {
     "name": "stdout",
     "output_type": "stream",
     "text": [
      "total 192\r\n",
      "-rw-r--r-- 1 jackyu lccr   41939 May 17 10:09 lblnew-bestfit-sw-replace.f\r\n",
      "-rw-r--r-- 1 jackyu lccr   10947 May 23 09:09 lblcom.f\r\n",
      "-rw-r--r-- 1 jackyu lccr   41973 May 23 09:24 lblnew-bestfit-sw.f\r\n",
      "-rwxr-xr-x 1 jackyu lccr 1004560 May 23 09:48 lblnew-bestfit-sw.exe\r\n"
     ]
    }
   ],
   "source": [
    "! ls -lrt test_run/"
   ]
  },
  {
   "cell_type": "code",
   "execution_count": 592,
   "metadata": {
    "hidden": true
   },
   "outputs": [],
   "source": [
    "#print(err.decode())"
   ]
  },
  {
   "cell_type": "code",
   "execution_count": 593,
   "metadata": {
    "hidden": true
   },
   "outputs": [],
   "source": [
    "#print(out.decode())"
   ]
  },
  {
   "cell_type": "markdown",
   "metadata": {
    "heading_collapsed": true
   },
   "source": [
    "## Run the Fortran code"
   ]
  },
  {
   "cell_type": "code",
   "execution_count": 595,
   "metadata": {
    "hidden": true
   },
   "outputs": [],
   "source": [
    "# ! {PATH/'lblnew-bestfit-sw.exe'}"
   ]
  },
  {
   "cell_type": "code",
   "execution_count": 598,
   "metadata": {
    "hidden": true
   },
   "outputs": [],
   "source": [
    "#proc = subprocess.Popen(['./' + str(PATH/'lblnew-bestfit-sw.exe')])"
   ]
  },
  {
   "cell_type": "code",
   "execution_count": 755,
   "metadata": {
    "hidden": true
   },
   "outputs": [
    {
     "ename": "FileNotFoundError",
     "evalue": "[Errno 2] No such file or directory: 'test_run'",
     "output_type": "error",
     "traceback": [
      "\u001b[0;31m---------------------------------------------------------------------------\u001b[0m",
      "\u001b[0;31mFileNotFoundError\u001b[0m                         Traceback (most recent call last)",
      "\u001b[0;32m<ipython-input-755-51aed00e4fb0>\u001b[0m in \u001b[0;36m<module>\u001b[0;34m()\u001b[0m\n\u001b[0;32m----> 1\u001b[0;31m \u001b[0mos\u001b[0m\u001b[0;34m.\u001b[0m\u001b[0mchdir\u001b[0m\u001b[0;34m(\u001b[0m\u001b[0mPATH\u001b[0m\u001b[0;34m)\u001b[0m\u001b[0;34m\u001b[0m\u001b[0;34m\u001b[0m\u001b[0m\n\u001b[0m",
      "\u001b[0;31mFileNotFoundError\u001b[0m: [Errno 2] No such file or directory: 'test_run'"
     ]
    }
   ],
   "source": [
    "os.chdir(PATH)"
   ]
  },
  {
   "cell_type": "code",
   "execution_count": 648,
   "metadata": {
    "hidden": true
   },
   "outputs": [
    {
     "name": "stdout",
     "output_type": "stream",
     "text": [
      "fort.9\t  lblnew-bestfit-sw.exe  lblnew-bestfit-sw-replace.f\r\n",
      "lblcom.f  lblnew-bestfit-sw.f\t lblnew-bestfit-sw.sub\r\n"
     ]
    }
   ],
   "source": [
    "! ls"
   ]
  },
  {
   "cell_type": "code",
   "execution_count": 26,
   "metadata": {
    "hidden": true
   },
   "outputs": [],
   "source": [
    "#export\n",
    "def write_submit_file(param):\n",
    "    jobname = f'fitsw_{param.band}_{param.molecule}_{param.atmpro}'\n",
    "    with open('lblnew-bestfit-sw.sub', mode='w', encoding='utf-8') as f:\n",
    "        f.write('\\n'.join(['#!/bin/bash',\n",
    "                      f'#BSUB -J {jobname}',\n",
    "                      '#BSUB -n 1',\n",
    "                      '#BSUB -q serial',\n",
    "                      '#BSUB -o out_%J',\n",
    "                      '#BSUB -e err_%J',\n",
    "                      './lblnew-bestfit-sw.exe',\n",
    "                      'sleep 10']))"
   ]
  },
  {
   "cell_type": "code",
   "execution_count": 679,
   "metadata": {
    "hidden": true
   },
   "outputs": [
    {
     "name": "stdout",
     "output_type": "stream",
     "text": [
      "#!/bin/bash\n",
      "#BSUB -J fitsw_9_h2o_None\n",
      "#BSUB -n 1\n",
      "#BSUB -q serial\n",
      "#BSUB -o out_%J\n",
      "#BSUB -e err_%J\n",
      "./lblnew-bestfit-sw.exe\n",
      "sleep 10\n"
     ]
    }
   ],
   "source": [
    "write_submit_file(param)\n",
    "print(open('lblnew-bestfit-sw.sub', mode='r').read())"
   ]
  },
  {
   "cell_type": "code",
   "execution_count": 656,
   "metadata": {
    "hidden": true
   },
   "outputs": [
    {
     "name": "stdout",
     "output_type": "stream",
     "text": [
      "fort.9\t  lblnew-bestfit-sw.exe  lblnew-bestfit-sw-replace.f\r\n",
      "lblcom.f  lblnew-bestfit-sw.f\t lblnew-bestfit-sw.sub\r\n"
     ]
    }
   ],
   "source": [
    "! ls"
   ]
  },
  {
   "cell_type": "code",
   "execution_count": 657,
   "metadata": {
    "collapsed": true,
    "hidden": true
   },
   "outputs": [],
   "source": [
    "proc = subprocess.Popen('bsub < lblnew-bestfit-sw.sub', \n",
    "                        shell=True,\n",
    "                        stdout=subprocess.PIPE, \n",
    "                        stderr=subprocess.PIPE)\n",
    "\n",
    "#subprocess.run(f'bsub < {PATH}/lblnew-bestfit-sw.sub')\n",
    "\n",
    "#assert os.system(f'bsub < {PATH}/lblnew-bestfit-sw.sub') == 0\n",
    "#! bsub < {PATH/'lblnew-bestfit-sw.sub'}"
   ]
  },
  {
   "cell_type": "code",
   "execution_count": 658,
   "metadata": {
    "hidden": true
   },
   "outputs": [
    {
     "data": {
      "text/plain": [
       "0"
      ]
     },
     "execution_count": 658,
     "metadata": {},
     "output_type": "execute_result"
    }
   ],
   "source": [
    "proc.poll()"
   ]
  },
  {
   "cell_type": "code",
   "execution_count": 659,
   "metadata": {
    "hidden": true
   },
   "outputs": [],
   "source": [
    "out, err = proc.communicate()"
   ]
  },
  {
   "cell_type": "code",
   "execution_count": 661,
   "metadata": {
    "hidden": true
   },
   "outputs": [
    {
     "data": {
      "text/plain": [
       "b'Job <432677> is submitted to queue <serial>.\\n'"
      ]
     },
     "execution_count": 661,
     "metadata": {},
     "output_type": "execute_result"
    }
   ],
   "source": [
    "out"
   ]
  },
  {
   "cell_type": "markdown",
   "metadata": {},
   "source": [
    "## The Runner Object  \n",
    "Organize the above together to form a runner object. "
   ]
  },
  {
   "cell_type": "code",
   "execution_count": 27,
   "metadata": {},
   "outputs": [],
   "source": [
    "#export\n",
    "class LBLnewBestfitSWRun(object):\n",
    "    '''\n",
    "    Class for running lblnew-bestfit-sw.\n",
    "    \n",
    "    Example\n",
    "    -------\n",
    "    ```\n",
    "    param = LBLnewBestfitSWParam(band=9, vmin=8200, vmax=14290, nv=10000, dv=0.001,\n",
    "                     molecule='h2o', conc='atmpro',\n",
    "                     ref_pts=[(300, 250), (300, 250)], ng_refs=[4, 6], ng_adju=[-3, 0],\n",
    "                     wgt=[(.95, .9, .5, .5), (.5, .5, .5, .7, .85, .95)],\n",
    "                     cosz=1., rsfc=0,\n",
    "                     klin=3e-25,\n",
    "                     option_k_lookup=0)\n",
    "    runner = LBLnewBestfitSWRun('test_run_1', param)\n",
    "    runner.input_params()\n",
    "    proc = runner.build()\n",
    "    out, err = proc.communicate()\n",
    "    proc = runner.run()\n",
    "    out, err = proc.communicate()\n",
    "    ```\n",
    "    '''\n",
    "    def __init__(self, path, param):\n",
    "        self.path = Path(path)\n",
    "        self.param = param\n",
    "        self.path.mkdir(exist_ok=True, parents=True)\n",
    "        srcfiles = [SRC/n for n in FNAMES]\n",
    "        for n in srcfiles: shutil.copy(n, self.path)\n",
    "    \n",
    "    def input_params(self):\n",
    "        s = open(self.path/'lblnew-bestfit-sw.f', mode='r').read()\n",
    "        pvs = spectral_parameters(vmin=self.param.vmin, vmax=self.param.vmax, dv=self.param.dv, nv=self.param.nv)\n",
    "        s = enter_parameters(s, **pvs)\n",
    "        pvs = molecule_flags_data(molecule=self.param.molecule)\n",
    "        s = enter_data(s, dtype=int, **pvs)\n",
    "        if self.param.molecule == 'co2':\n",
    "            pvs = conc_values(co2=self.molecule.conc)\n",
    "            s = enter_conc(s, **pvs)\n",
    "        pvs = optical_parameters(cosz=self.param.cosz, rsfc=self.param.rsfc)\n",
    "        s = enter_parameters(s, **pvs)\n",
    "        s = enter_atmpro(s, atmpro=self.param.atmpro)\n",
    "        pvs = kdist_parameters(ref_pts=self.param.ref_pts, ng_refs=self.param.ng_refs, ng_adju=self.param.ng_adju, klin=self.param.klin)\n",
    "        s = enter_parameters(s, **pvs)\n",
    "        pvs = kdist_data(wgt=self.param.wgt)\n",
    "        s = enter_data(s, **pvs)\n",
    "        open(self.path/'lblnew-bestfit-sw.f', mode='w').write(s)\n",
    "        \n",
    "    def build(self):\n",
    "        cwd = os.getcwd()\n",
    "        os.chdir(self.path)\n",
    "        try:\n",
    "            proc = subprocess.Popen(\n",
    "                ['ifort', '-g', '-CB', '-traceback', '-fpe0', '-r8', '-warn', 'unused',\n",
    "                 'lblcom.f', 'lblnew-bestfit-sw.f', '-o', 'lblnew-bestfit-sw.exe'],\n",
    "                stdout=subprocess.PIPE, stderr=subprocess.PIPE)\n",
    "            return proc\n",
    "        finally:\n",
    "            os.chdir(cwd)\n",
    "    \n",
    "    def run(self):\n",
    "        cwd = os.getcwd()\n",
    "        os.chdir(self.path)\n",
    "        try:\n",
    "            write_submit_file(self.param)\n",
    "            proc = subprocess.Popen('bsub < lblnew-bestfit-sw.sub', shell=True,\n",
    "                                    stdout=subprocess.PIPE, stderr=subprocess.PIPE,)\n",
    "            out, err = proc.communicate()\n",
    "            out, err = out.decode(), err.decode()\n",
    "            if not err and out:\n",
    "                regex = re.compile(r'^Job <(\\d+)> is submitted to queue <serial>.\\n$')\n",
    "                self.job_id = regex.findall(out)[0]\n",
    "                print(out)\n",
    "        finally:\n",
    "            os.chdir(cwd)\n"
   ]
  },
  {
   "cell_type": "code",
   "execution_count": 7,
   "metadata": {},
   "outputs": [
    {
     "data": {
      "text/plain": [
       "'/chia_cluster/home/jackyu/climatools/climatools/notebooks/sw_dev'"
      ]
     },
     "execution_count": 7,
     "metadata": {},
     "output_type": "execute_result"
    }
   ],
   "source": [
    "os.getcwd()"
   ]
  },
  {
   "cell_type": "code",
   "execution_count": 28,
   "metadata": {
    "scrolled": false
   },
   "outputs": [
    {
     "data": {
      "text/plain": [
       "(PosixPath('testrun_1'), <class 'exp.nb_00.LBLnewBestfitSWParam'>\n",
       " {'dv': 0.001, 'nv': 10000, 'commitnumber': None, 'band': 9, 'molecule': 'h2o', 'atmpro': None, 'tsfc': None, 'vmin': 8200, 'vmax': 14290, 'conc': 'atmpro', 'ref_pts': [(300, 250), (300, 250)], 'ng_refs': [4, 6], 'ng_adju': [-3, 0], 'wgt': [(0.95, 0.9, 0.5, 0.5), (0.5, 0.5, 0.5, 0.7, 0.85, 0.95)], 'cosz': 1.0, 'rsfc': 0, 'klin': 3e-25, 'option_k_lookup': 0}, '/chia_cluster/home/jackyu/climatools/climatools/notebooks/sw_dev')"
      ]
     },
     "execution_count": 28,
     "metadata": {},
     "output_type": "execute_result"
    }
   ],
   "source": [
    "runner = LBLnewBestfitSWRun('testrun_1', param)\n",
    "runner.path, runner.param, os.getcwd()"
   ]
  },
  {
   "cell_type": "code",
   "execution_count": 29,
   "metadata": {},
   "outputs": [],
   "source": [
    "runner.input_params()"
   ]
  },
  {
   "cell_type": "code",
   "execution_count": 30,
   "metadata": {},
   "outputs": [
    {
     "data": {
      "text/plain": [
       "'/chia_cluster/home/jackyu/climatools/climatools/notebooks/sw_dev'"
      ]
     },
     "execution_count": 30,
     "metadata": {},
     "output_type": "execute_result"
    }
   ],
   "source": [
    "os.getcwd()"
   ]
  },
  {
   "cell_type": "code",
   "execution_count": 31,
   "metadata": {},
   "outputs": [],
   "source": [
    "proc = runner.build()"
   ]
  },
  {
   "cell_type": "code",
   "execution_count": 32,
   "metadata": {
    "collapsed": true
   },
   "outputs": [],
   "source": [
    "out, err = proc.communicate()"
   ]
  },
  {
   "cell_type": "code",
   "execution_count": 33,
   "metadata": {},
   "outputs": [
    {
     "name": "stdout",
     "output_type": "stream",
     "text": [
      "lblcom.f(169): remark #8290: Recommended relationship between field width 'W' and the number of fractional digits 'D' in this edit descriptor is 'W>=D+3'.\n",
      " 900  format(f12.6,e10.3,f5.4,f10.4,a53,i3,i4,i3)\n",
      "--------------------------^\n",
      "lblnew-bestfit-sw.f(244): remark #7712: This variable has not been used.   [D_FLUX]\n",
      "      real d_flux(nlayer+1,ng),d_tflux(nlayer+1) \n",
      "-----------^\n",
      "lblnew-bestfit-sw.f(244): remark #7712: This variable has not been used.   [D_TFLUX]\n",
      "      real d_flux(nlayer+1,ng),d_tflux(nlayer+1) \n",
      "-------------------------------^\n",
      "lblnew-bestfit-sw.f(281): remark #7712: This variable has not been used.   [ABSCOMZE]\n",
      "      real*8 accu6th, abscomze \n",
      "----------------------^\n",
      "lblnew-bestfit-sw.f(298): remark #7712: This variable has not been used.   [P_KTABLE]\n",
      "      real :: p_ktable(nl,nt), t_ktable(nl,nt), xk\n",
      "--------------^\n",
      "lblnew-bestfit-sw.f(298): remark #7712: This variable has not been used.   [T_KTABLE]\n",
      "      real :: p_ktable(nl,nt), t_ktable(nl,nt), xk\n",
      "-------------------------------^\n",
      "lblnew-bestfit-sw.f(1219): remark #7712: This variable has not been used.   [IG]\n",
      "      integer :: jp, jp1, jt, ig\n",
      "------------------------------^\n",
      "lblnew-bestfit-sw.f(1220): remark #7712: This variable has not been used.   [FT]\n",
      "      real  :: fp, ft, ft1, xlogp\n",
      "-------------------^\n",
      "lblnew-bestfit-sw.f(1220): remark #7712: This variable has not been used.   [FT1]\n",
      "      real  :: fp, ft, ft1, xlogp\n",
      "-----------------------^\n",
      "lblnew-bestfit-sw.f(1222): remark #7712: This variable has not been used.   [T0]\n",
      "      real :: tmin, tmax, t0, dt, tt\n",
      "--------------------------^\n",
      "\n"
     ]
    }
   ],
   "source": [
    "print(err.decode())"
   ]
  },
  {
   "cell_type": "code",
   "execution_count": 34,
   "metadata": {},
   "outputs": [
    {
     "data": {
      "text/plain": [
       "[PosixPath('testrun_1/lblnew-bestfit-sw.f'),\n",
       " PosixPath('testrun_1/lblnew-bestfit-sw.sub'),\n",
       " PosixPath('testrun_1/lblnew-bestfit-sw.exe'),\n",
       " PosixPath('testrun_1/lblcom.f'),\n",
       " PosixPath('testrun_1/fort.9')]"
      ]
     },
     "execution_count": 34,
     "metadata": {},
     "output_type": "execute_result"
    }
   ],
   "source": [
    "list(runner.path.iterdir())"
   ]
  },
  {
   "cell_type": "code",
   "execution_count": 35,
   "metadata": {},
   "outputs": [
    {
     "data": {
      "text/plain": [
       "'/chia_cluster/home/jackyu/climatools/climatools/notebooks/sw_dev'"
      ]
     },
     "execution_count": 35,
     "metadata": {},
     "output_type": "execute_result"
    }
   ],
   "source": [
    "os.getcwd()"
   ]
  },
  {
   "cell_type": "code",
   "execution_count": 36,
   "metadata": {
    "scrolled": false
   },
   "outputs": [
    {
     "name": "stdout",
     "output_type": "stream",
     "text": [
      "Job <434159> is submitted to queue <serial>.\n",
      "\n"
     ]
    }
   ],
   "source": [
    "runner.run()"
   ]
  },
  {
   "cell_type": "code",
   "execution_count": 37,
   "metadata": {},
   "outputs": [
    {
     "data": {
      "text/plain": [
       "'/chia_cluster/home/jackyu/climatools/climatools/notebooks/sw_dev'"
      ]
     },
     "execution_count": 37,
     "metadata": {},
     "output_type": "execute_result"
    }
   ],
   "source": [
    "os.getcwd()"
   ]
  },
  {
   "cell_type": "code",
   "execution_count": 38,
   "metadata": {},
   "outputs": [
    {
     "data": {
      "text/plain": [
       "'434159'"
      ]
     },
     "execution_count": 38,
     "metadata": {},
     "output_type": "execute_result"
    }
   ],
   "source": [
    "runner.job_id"
   ]
  },
  {
   "cell_type": "code",
   "execution_count": 40,
   "metadata": {},
   "outputs": [
    {
     "name": "stdout",
     "output_type": "stream",
     "text": [
      "serial;  type=BATCH;  [ENABLED];  pri=35\r\n",
      "7 run;   5 wait;\r\n",
      "\r\n",
      "        REQUEST NAME        REQUEST ID          USER   STATE\r\n",
      "   1:   fitsw_9_h2o_            434159       jackyu  RUNNING\r\n",
      "   2:   fitsw_9_h2o_            434155       jackyu  RUNNING\r\n",
      "   3:   fitsw_9_h2o_            434158       jackyu  RUNNING\r\n",
      "\r\n",
      "v4q;  type=BATCH;  [ENABLED];  pri=30\r\n",
      "96 run;   0 wait;\r\n",
      "\r\n",
      "\r\n",
      "v4qexp;  type=BATCH;  [ENABLED];  pri=30\r\n",
      "336 run;   0 wait;\r\n",
      "\r\n",
      "\r\n",
      "LCCR_Q;  type=BATCH;  [ENABLED];  pri=30\r\n",
      "0 run;   0 wait;\r\n",
      "\r\n",
      "\r\n",
      "URBAN_Q;  type=BATCH;  [ENABLED];  pri=30\r\n",
      "320 run;   256 wait;\r\n",
      "\r\n",
      "\r\n",
      "orc;  type=BATCH;  [ENABLED];  pri=30\r\n",
      "0 run;   0 wait;\r\n",
      "\r\n",
      "\r\n",
      "RCEC_Q;  type=BATCH;  [ENABLED];  pri=30\r\n",
      "144 run;   0 wait;\r\n",
      "\r\n",
      "\r\n",
      "medium_priority;  type=BATCH;  [ENABLED];  pri=10\r\n",
      "0 run;   0 wait;\r\n",
      "\r\n",
      "\r\n"
     ]
    }
   ],
   "source": [
    "! qstat -u jackyu"
   ]
  },
  {
   "cell_type": "code",
   "execution_count": 44,
   "metadata": {},
   "outputs": [
    {
     "name": "stdout",
     "output_type": "stream",
     "text": [
      "00_params.ipynb\t\t\t    lblnew-bestfit-sw.sub\r\n",
      "01_lblnew-bestfit-sw_setup.ipynb    notebook2script.py\r\n",
      "02_runner.ipynb\t\t\t    notebook2script.py~\r\n",
      "03_analysis.ipynb\t\t    run_lblnew-bestfit_sw.ipynb\r\n",
      "analysis_-_lblnew-bestfit-sw.ipynb  run_notebook.py\r\n",
      "analysis_test1\t\t\t    test1\r\n",
      "atmpro_saw\t\t\t    test_qstat.xml\r\n",
      "atmpro_trp\t\t\t    testrun\r\n",
      "exp\r\n"
     ]
    }
   ],
   "source": [
    "! ls"
   ]
  },
  {
   "cell_type": "code",
   "execution_count": 806,
   "metadata": {},
   "outputs": [
    {
     "name": "stdout",
     "output_type": "stream",
     "text": [
      "Job <432818>: No matching job found\r\n"
     ]
    }
   ],
   "source": [
    "! bkill 432818"
   ]
  },
  {
   "cell_type": "code",
   "execution_count": 786,
   "metadata": {},
   "outputs": [
    {
     "name": "stdout",
     "output_type": "stream",
     "text": [
      "serial;  type=BATCH;  [ENABLED];  pri=35\r\n",
      "5 run;   9 wait;\r\n",
      "\r\n",
      "        REQUEST NAME        REQUEST ID          USER   STATE\r\n",
      "   1:   fitsw_9_h2o_            432818       jackyu  RUNNING\r\n",
      "   2:   fitsw_9_h2o_            432817       jackyu  RUNNING\r\n",
      "\r\n",
      "v4q;  type=BATCH;  [ENABLED];  pri=30\r\n",
      "96 run;   0 wait;\r\n",
      "\r\n",
      "\r\n",
      "v4qexp;  type=BATCH;  [ENABLED];  pri=30\r\n",
      "0 run;   336 wait;\r\n",
      "\r\n",
      "\r\n",
      "LCCR_Q;  type=BATCH;  [ENABLED];  pri=30\r\n",
      "0 run;   0 wait;\r\n",
      "\r\n",
      "\r\n",
      "URBAN_Q;  type=BATCH;  [ENABLED];  pri=30\r\n",
      "740 run;   516 wait;\r\n",
      "\r\n",
      "\r\n",
      "orc;  type=BATCH;  [ENABLED];  pri=30\r\n",
      "0 run;   0 wait;\r\n",
      "\r\n",
      "\r\n",
      "RCEC_Q;  type=BATCH;  [ENABLED];  pri=30\r\n",
      "192 run;   0 wait;\r\n",
      "\r\n",
      "\r\n",
      "medium_priority;  type=BATCH;  [ENABLED];  pri=10\r\n",
      "0 run;   0 wait;\r\n",
      "\r\n",
      "\r\n"
     ]
    }
   ],
   "source": [
    "! qstat -u jackyu"
   ]
  },
  {
   "cell_type": "markdown",
   "metadata": {
    "heading_collapsed": true
   },
   "source": [
    "# Export notebook"
   ]
  },
  {
   "cell_type": "code",
   "execution_count": 41,
   "metadata": {
    "hidden": true
   },
   "outputs": [
    {
     "name": "stdout",
     "output_type": "stream",
     "text": [
      "Converted 02_runner.ipynb to exp/nb_02.py\r\n"
     ]
    }
   ],
   "source": [
    "! python notebook2script.py 02_runner.ipynb"
   ]
  },
  {
   "cell_type": "markdown",
   "metadata": {},
   "source": [
    "# fin"
   ]
  },
  {
   "cell_type": "code",
   "execution_count": null,
   "metadata": {},
   "outputs": [],
   "source": []
  },
  {
   "cell_type": "code",
   "execution_count": null,
   "metadata": {
    "collapsed": true
   },
   "outputs": [],
   "source": []
  },
  {
   "cell_type": "code",
   "execution_count": null,
   "metadata": {
    "collapsed": true
   },
   "outputs": [],
   "source": []
  },
  {
   "cell_type": "code",
   "execution_count": null,
   "metadata": {
    "collapsed": true
   },
   "outputs": [],
   "source": []
  },
  {
   "cell_type": "code",
   "execution_count": null,
   "metadata": {
    "collapsed": true
   },
   "outputs": [],
   "source": []
  },
  {
   "cell_type": "code",
   "execution_count": null,
   "metadata": {
    "collapsed": true
   },
   "outputs": [],
   "source": []
  },
  {
   "cell_type": "code",
   "execution_count": null,
   "metadata": {
    "collapsed": true
   },
   "outputs": [],
   "source": []
  },
  {
   "cell_type": "code",
   "execution_count": null,
   "metadata": {
    "collapsed": true
   },
   "outputs": [],
   "source": []
  }
 ],
 "metadata": {
  "kernelspec": {
   "display_name": "Python 3",
   "language": "python",
   "name": "python3"
  },
  "language_info": {
   "codemirror_mode": {
    "name": "ipython",
    "version": 3
   },
   "file_extension": ".py",
   "mimetype": "text/x-python",
   "name": "python",
   "nbconvert_exporter": "python",
   "pygments_lexer": "ipython3",
   "version": "3.6.7"
  }
 },
 "nbformat": 4,
 "nbformat_minor": 2
}

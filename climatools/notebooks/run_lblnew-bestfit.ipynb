{
 "cells": [
  {
   "cell_type": "code",
   "execution_count": 77,
   "metadata": {
    "collapsed": true
   },
   "outputs": [],
   "source": [
    "%reload_ext autoreload\n",
    "%autoreload 2"
   ]
  },
  {
   "cell_type": "code",
   "execution_count": 88,
   "metadata": {
    "collapsed": true
   },
   "outputs": [],
   "source": [
    "import os\n",
    "import sys\n",
    "import shutil\n",
    "import pprint\n",
    "\n",
    "import pymongo\n",
    "import json\n",
    "import pandas as pd\n",
    "\n",
    "import climatools.lblnew.setup_bestfit as setup_bestfit\n",
    "from climatools.lblnew.bestfit_params import *\n",
    "from climatools.lblnew.pipeline import *\n",
    "import climatools.lblnew.runrecord_bestfit as runrecord"
   ]
  },
  {
   "cell_type": "markdown",
   "metadata": {
    "heading_collapsed": true
   },
   "source": [
    "# Run lblnew-bestfit"
   ]
  },
  {
   "cell_type": "code",
   "execution_count": 5,
   "metadata": {
    "collapsed": true,
    "hidden": true,
    "scrolled": false
   },
   "outputs": [],
   "source": [
    "def get_params():\n",
    "    '''\n",
    "    Looks like 7 g-intervals aren't good enough.  Let's try 9.\n",
    "    '''\n",
    "    molecule = 'co2'\n",
    "    band = '3b'\n",
    "    \n",
    "    commitnumber = 'a22ab94'\n",
    "    ng_refs = [5, 4]\n",
    "    option_compute_ktable = 0\n",
    "    option_compute_btable = 0\n",
    "    w_diffuse = [(1.66, 1.66, 1.66, 1.66, 1.66), \n",
    "                 (1.66, 1.66, 1.66, 1.66)]\n",
    "    wgt = [(0, .5, .4, .6, .65), (.7, .7, .55, .6)]\n",
    "    \n",
    "    concs = [400e-6, 800e-6]\n",
    "    atmpros = [('mls', 294), ('saw', 257), ('trp', 300)]\n",
    "    \n",
    "    params = []\n",
    "    for conc in concs:\n",
    "        for atmpro, tsfc in atmpros:\n",
    "            param = bestfit.kdist_params(molecule=molecule, band=band)\n",
    "            param['commitnumber'] = commitnumber\n",
    "            param['ng_refs'] = ng_refs\n",
    "            param['option_compute_ktable'] = option_compute_ktable\n",
    "            param['option_compute_btable'] = option_compute_btable\n",
    "            param['w_diffuse'] = w_diffuse\n",
    "            param['wgt'] = wgt\n",
    "            param['conc'] = conc\n",
    "            param['atmpro'] = atmpro\n",
    "            param['tsfc'] = tsfc\n",
    "            params.append(param)\n",
    "            \n",
    "            if atmpro == 'mls' and conc == 400e-6:\n",
    "                param = param.copy()\n",
    "                param['option_compute_ktable'] = 1\n",
    "                param['option_compute_btable'] = 1\n",
    "                params.append(param)\n",
    "                              \n",
    "    return params"
   ]
  },
  {
   "cell_type": "code",
   "execution_count": 8,
   "metadata": {
    "collapsed": true,
    "hidden": true,
    "scrolled": false
   },
   "outputs": [],
   "source": [
    "params = get_params()"
   ]
  },
  {
   "cell_type": "code",
   "execution_count": 9,
   "metadata": {
    "collapsed": true,
    "hidden": true
   },
   "outputs": [],
   "source": [
    "pipeline.pipeline_fortran_bsub(params=params, setup=setup_bestfit)"
   ]
  },
  {
   "cell_type": "code",
   "execution_count": 22,
   "metadata": {
    "hidden": true,
    "scrolled": false
   },
   "outputs": [
    {
     "name": "stdout",
     "output_type": "stream",
     "text": [
      "No unfinished job found\r\n"
     ]
    }
   ],
   "source": [
    "!bjobs"
   ]
  },
  {
   "cell_type": "markdown",
   "metadata": {},
   "source": [
    "# Save output data to mongodb"
   ]
  },
  {
   "cell_type": "code",
   "execution_count": 79,
   "metadata": {
    "collapsed": true
   },
   "outputs": [],
   "source": [
    "client = pymongo.MongoClient('localhost', 27017)"
   ]
  },
  {
   "cell_type": "code",
   "execution_count": 80,
   "metadata": {
    "collapsed": true,
    "scrolled": false
   },
   "outputs": [],
   "source": [
    "def make_doc(param=None):\n",
    "    '''\n",
    "    Makes a Mongodb document for an lblnew-bestfit run.\n",
    "    \n",
    "    Parameters\n",
    "    ----------\n",
    "    param: dict\n",
    "        lblnew-bestfit input parameters.\n",
    "    doc: dict\n",
    "        lblnew-bestfit input (param) and output (flux and cooling rate)\n",
    "    '''\n",
    "    dir_fortran = pipeline.get_dir_case(param=param, setup=setup_bestfit)\n",
    "    \n",
    "    fnames = [n for n in os.listdir(dir_fortran) if n in \n",
    "              ('output_wfluxg.dat', 'output_wcoolrg.dat',\n",
    "               'output_fluxg.dat', 'output_coolrg.dat',\n",
    "               'output_flux.dat', 'output_coolr.dat',\n",
    "               'abscom.dat', 'dgdgs.dat',\n",
    "               'kg_lin.dat', 'kg_nonlin.dat')]\n",
    "    \n",
    "    s_outputs = []\n",
    "    for fname in fnames:\n",
    "        with open(os.path.join(dir_fortran, fname), \n",
    "                  mode='r', encoding='utf-8') as f:\n",
    "            s = f.read()\n",
    "        \n",
    "        s_outputs.append(s)\n",
    "    \n",
    "    doc = {}\n",
    "    doc['param'] = param\n",
    "    \n",
    "    for fname, s in zip(fnames, s_outputs):\n",
    "        doc[fname.split('.')[0]] = s\n",
    "    \n",
    "    return doc\n",
    "\n",
    "\n",
    "def make_query(param=None):\n",
    "    q = {}\n",
    "    for n, v in param.items():\n",
    "        if n == 'molecule' and type(v) == dict:\n",
    "            for mol, conc in v.items():\n",
    "                q[f'param.molecule.{mol}'] = conc\n",
    "        else:\n",
    "            q[f'param.{n}'] = v\n",
    "    return q"
   ]
  },
  {
   "cell_type": "code",
   "execution_count": 37,
   "metadata": {
    "collapsed": true
   },
   "outputs": [],
   "source": [
    "docs = (make_doc(param=param) for param in [params[1]])"
   ]
  },
  {
   "cell_type": "code",
   "execution_count": 38,
   "metadata": {},
   "outputs": [
    {
     "data": {
      "text/plain": [
       "<pymongo.results.InsertManyResult at 0x2ac16d94fc60>"
      ]
     },
     "execution_count": 38,
     "metadata": {},
     "output_type": "execute_result"
    }
   ],
   "source": [
    "client.lblnew.bestfit_lw.insert_many(docs)"
   ]
  },
  {
   "cell_type": "code",
   "execution_count": 81,
   "metadata": {},
   "outputs": [
    {
     "data": {
      "text/plain": [
       "{'atmpro': 'saw',\n",
       " 'band': '3c',\n",
       " 'commitnumber': 'a22ab94',\n",
       " 'conc': 0.0008,\n",
       " 'dv': 0.001,\n",
       " 'klin': 6.375563e-24,\n",
       " 'molecule': 'co2',\n",
       " 'ng_adju': [0, 0, 0],\n",
       " 'ng_refs': [3, 2, 4],\n",
       " 'nv': 1000,\n",
       " 'option_compute_btable': 0,\n",
       " 'option_compute_ktable': 0,\n",
       " 'option_wgt_flux': 1,\n",
       " 'option_wgt_k': 1,\n",
       " 'ref_pts': [[1, 250], [10, 250], [500, 250]],\n",
       " 'tsfc': 257,\n",
       " 'vmax': 800,\n",
       " 'vmin': 720,\n",
       " 'w_diffuse': [[1.7, 1.6, 1.8], [1.8, 1.7], [1.5, 1.6, 1.7, 1.8]],\n",
       " 'wgt': [[0.6, 0.4, 0.7], [0.7, 0.4], [0.3, 0.4, 0.85, 0.9]]}"
      ]
     },
     "execution_count": 81,
     "metadata": {},
     "output_type": "execute_result"
    }
   ],
   "source": [
    "params[1]"
   ]
  },
  {
   "cell_type": "code",
   "execution_count": 74,
   "metadata": {
    "collapsed": true
   },
   "outputs": [],
   "source": [
    "#for param in params:\n",
    "#    client.lblnew.bestfit_lw.delete_one(make_query(param))"
   ]
  },
  {
   "cell_type": "markdown",
   "metadata": {},
   "source": [
    "# Run analysis notebook"
   ]
  },
  {
   "cell_type": "code",
   "execution_count": 159,
   "metadata": {
    "collapsed": true,
    "scrolled": false
   },
   "outputs": [],
   "source": [
    "from climatools.atm.absorbers import *\n",
    "from climatools.cliradlw.utils import *\n",
    "\n",
    "ATMPROS = [('mls', 294), ('saw', 257), ('trp', 300)]\n",
    "\n",
    "def run_exists(param=None):\n",
    "    q = make_query(param)\n",
    "    cnt = client.lblnew.bestfit_lw.count(q)\n",
    "    return True if cnt else False\n",
    "\n",
    "def notebook_exists(param=None):\n",
    "    d = get_analysis_dir(param=param, setup=setup_bestfit)\n",
    "    try: \n",
    "        return 'results.ipynb' in os.listdir(d)\n",
    "    except FileNotFoundError:\n",
    "        return False\n",
    "\n",
    "def get_params(band=1):\n",
    "    bandmols = [(b, mol) for b, molconc in nongreys_byband().items() if b == band\n",
    "                for mol in molconc.keys()]\n",
    "    bandmols = [(mapband_new2old()[band], mol) for band, mol in bandmols]\n",
    "    params = []\n",
    "    for band, mol in bandmols:\n",
    "        p = kdist_params(molecule=mol, band=band)\n",
    "        for k in ('option_compute_ktable', 'option_compute_btable', 'commitnumber'):\n",
    "            if k in p: del p[k]\n",
    "                \n",
    "        for atmpro, tsfc in ATMPROS:\n",
    "            p['atmpro'], p['tsfc'] = atmpro, tsfc\n",
    "            \n",
    "            q = make_query(p)\n",
    "            r = client.lblnew.bestfit_lw.find_one(q, projection=['param'])\n",
    "            if not r:\n",
    "                print('Following lblnew run not available:')\n",
    "                pprint.pprint(p)\n",
    "                continue\n",
    "            params.append(r.get('param'))\n",
    "    params = [p for p in params if run_exists(p)]\n",
    "    return params"
   ]
  },
  {
   "cell_type": "code",
   "execution_count": 167,
   "metadata": {
    "scrolled": false
   },
   "outputs": [
    {
     "name": "stdout",
     "output_type": "stream",
     "text": [
      "band= 1 molecule= h2o atmpro= mls\n",
      "['param.py', 'lblnew-bestfit_fluxcool.xlsx', 'results.ipynb']\n",
      "['param.py', 'lblnew-bestfit_fluxcool.xlsx', 'results.ipynb']\n",
      "\n",
      "band= 1 molecule= h2o atmpro= saw\n",
      "['param.py', 'lblnew-bestfit_fluxcool.xlsx', 'results.ipynb']\n",
      "['param.py', 'lblnew-bestfit_fluxcool.xlsx', 'results.ipynb']\n",
      "\n",
      "band= 1 molecule= h2o atmpro= trp\n",
      "['param.py', 'lblnew-bestfit_fluxcool.xlsx', 'results.ipynb']\n",
      "['param.py', 'lblnew-bestfit_fluxcool.xlsx', 'results.ipynb']\n",
      "\n"
     ]
    }
   ],
   "source": [
    "for p in params:\n",
    "    print('band=', p['band'], 'molecule=', p['molecule'], 'atmpro=', p['atmpro'])\n",
    "    path = get_analysis_dir(p, setup=setup_bestfit)\n",
    "    print(os.listdir(path))\n",
    "    xfiles = [f for f in os.listdir(path) if f in ('lblnew-bestfit_flux.xlsx', 'lblnew-bestfit_cool.xlsx')]\n",
    "    xfiles = [os.path.join(path, f) for f in xfiles]\n",
    "    [os.remove(f) for f in xfiles]\n",
    "    print(os.listdir(path))\n",
    "    print()"
   ]
  },
  {
   "cell_type": "code",
   "execution_count": 203,
   "metadata": {
    "collapsed": true
   },
   "outputs": [],
   "source": [
    "params = get_params(band=11)"
   ]
  },
  {
   "cell_type": "code",
   "execution_count": 204,
   "metadata": {
    "scrolled": false
   },
   "outputs": [
    {
     "name": "stdout",
     "output_type": "stream",
     "text": [
      "co2 9 a22ab94\n",
      "co2 9 a22ab94\n",
      "co2 9 a22ab94\n",
      "h2o 9 a06b618\n",
      "h2o 9 5014a19\n",
      "h2o 9 5014a19\n",
      "co2 9 a22ab94\n",
      "co2 9 a22ab94\n",
      "co2 9 a22ab94\n",
      "h2o 9 a06b618\n",
      "h2o 9 5014a19\n",
      "h2o 9 5014a19\n",
      "\n"
     ]
    }
   ],
   "source": [
    "gprocs = pipeline_ipynb2git(params=params, setup=setup_bestfit)"
   ]
  },
  {
   "cell_type": "code",
   "execution_count": 205,
   "metadata": {},
   "outputs": [
    {
     "name": "stdout",
     "output_type": "stream",
     "text": [
      "lblnew-bestfit_fluxcool.xlsx  param.py  results.ipynb\n",
      "lblnew-bestfit_fluxcool.xlsx  param.py  results.ipynb\n",
      "lblnew-bestfit_fluxcool.xlsx  param.py  results.ipynb\n",
      "lblnew-bestfit_fluxcool.xlsx  param.py  results.ipynb\n",
      "lblnew-bestfit_fluxcool.xlsx  param.py  results.ipynb\n",
      "lblnew-bestfit_fluxcool.xlsx  param.py  results.ipynb\n"
     ]
    }
   ],
   "source": [
    "for p in params:\n",
    "    path = get_analysis_dir(param=p, setup=setup_bestfit)\n",
    "    %ls\n",
    "    !git add {path}/lblnew-bestfit_fluxcool.xlsx"
   ]
  },
  {
   "cell_type": "markdown",
   "metadata": {
    "heading_collapsed": true
   },
   "source": [
    "# Display nbviewer links"
   ]
  },
  {
   "cell_type": "code",
   "execution_count": 74,
   "metadata": {
    "hidden": true
   },
   "outputs": [
    {
     "name": "stdout",
     "output_type": "stream",
     "text": [
      "co2 band 3c mls\n",
      "http://nbviewer.jupyter.org/github/qap/analysis_-_new_kdist_param/blob/master/lblnew/co2/conc_0.0008/band03c_wn_720_800/nv_1000/dv_0.001/ng_9/g_ascending_k_descending/refPTs_P_1_T_250__P_10_T_250__P_500_T_250/ng_refs_3__2__4/ng_adju_0__0__0/getabsth_auto__auto__auto/absth_dlogN_uniform__dlogN_uniform__dlogN_uniform/klin_6.375563e-24/atmpro_mls/wgt_k_1/wgt_0.6_0.4_0.7__0.7_0.4__0.3_0.4_0.85_0.9/wgt_flux_1/w_diffuse_1.7_1.6_1.8__1.8_1.7__1.5_1.6_1.7_1.8/option_compute_ktable_0/option_compute_btable_0/crd_a22ab94/results.ipynb\n",
      "\n",
      "co2 band 3c saw\n",
      "http://nbviewer.jupyter.org/github/qap/analysis_-_new_kdist_param/blob/master/lblnew/co2/conc_0.0008/band03c_wn_720_800/nv_1000/dv_0.001/ng_9/g_ascending_k_descending/refPTs_P_1_T_250__P_10_T_250__P_500_T_250/ng_refs_3__2__4/ng_adju_0__0__0/getabsth_auto__auto__auto/absth_dlogN_uniform__dlogN_uniform__dlogN_uniform/klin_6.375563e-24/atmpro_saw/wgt_k_1/wgt_0.6_0.4_0.7__0.7_0.4__0.3_0.4_0.85_0.9/wgt_flux_1/w_diffuse_1.7_1.6_1.8__1.8_1.7__1.5_1.6_1.7_1.8/option_compute_ktable_0/option_compute_btable_0/crd_a22ab94/results.ipynb\n",
      "\n",
      "co2 band 3c trp\n",
      "http://nbviewer.jupyter.org/github/qap/analysis_-_new_kdist_param/blob/master/lblnew/co2/conc_0.0008/band03c_wn_720_800/nv_1000/dv_0.001/ng_9/g_ascending_k_descending/refPTs_P_1_T_250__P_10_T_250__P_500_T_250/ng_refs_3__2__4/ng_adju_0__0__0/getabsth_auto__auto__auto/absth_dlogN_uniform__dlogN_uniform__dlogN_uniform/klin_6.375563e-24/atmpro_trp/wgt_k_1/wgt_0.6_0.4_0.7__0.7_0.4__0.3_0.4_0.85_0.9/wgt_flux_1/w_diffuse_1.7_1.6_1.8__1.8_1.7__1.5_1.6_1.7_1.8/option_compute_ktable_0/option_compute_btable_0/crd_a22ab94/results.ipynb\n",
      "\n",
      "co2 band 3c mls\n",
      "http://nbviewer.jupyter.org/github/qap/analysis_-_new_kdist_param/blob/master/lblnew/co2/conc_0.0004/band03c_wn_720_800/nv_1000/dv_0.001/ng_9/g_ascending_k_descending/refPTs_P_1_T_250__P_10_T_250__P_500_T_250/ng_refs_3__2__4/ng_adju_0__0__0/getabsth_auto__auto__auto/absth_dlogN_uniform__dlogN_uniform__dlogN_uniform/klin_6.375563e-24/atmpro_mls/wgt_k_1/wgt_0.6_0.4_0.7__0.7_0.4__0.3_0.4_0.85_0.9/wgt_flux_1/w_diffuse_1.7_1.6_1.8__1.8_1.7__1.5_1.6_1.7_1.8/option_compute_ktable_0/option_compute_btable_0/crd_a22ab94/results.ipynb\n",
      "\n",
      "co2 band 3c saw\n",
      "http://nbviewer.jupyter.org/github/qap/analysis_-_new_kdist_param/blob/master/lblnew/co2/conc_0.0004/band03c_wn_720_800/nv_1000/dv_0.001/ng_9/g_ascending_k_descending/refPTs_P_1_T_250__P_10_T_250__P_500_T_250/ng_refs_3__2__4/ng_adju_0__0__0/getabsth_auto__auto__auto/absth_dlogN_uniform__dlogN_uniform__dlogN_uniform/klin_6.375563e-24/atmpro_saw/wgt_k_1/wgt_0.6_0.4_0.7__0.7_0.4__0.3_0.4_0.85_0.9/wgt_flux_1/w_diffuse_1.7_1.6_1.8__1.8_1.7__1.5_1.6_1.7_1.8/option_compute_ktable_0/option_compute_btable_0/crd_a22ab94/results.ipynb\n",
      "\n",
      "co2 band 3c trp\n",
      "http://nbviewer.jupyter.org/github/qap/analysis_-_new_kdist_param/blob/master/lblnew/co2/conc_0.0004/band03c_wn_720_800/nv_1000/dv_0.001/ng_9/g_ascending_k_descending/refPTs_P_1_T_250__P_10_T_250__P_500_T_250/ng_refs_3__2__4/ng_adju_0__0__0/getabsth_auto__auto__auto/absth_dlogN_uniform__dlogN_uniform__dlogN_uniform/klin_6.375563e-24/atmpro_trp/wgt_k_1/wgt_0.6_0.4_0.7__0.7_0.4__0.3_0.4_0.85_0.9/wgt_flux_1/w_diffuse_1.7_1.6_1.8__1.8_1.7__1.5_1.6_1.7_1.8/option_compute_ktable_0/option_compute_btable_0/crd_a22ab94/results.ipynb\n",
      "\n"
     ]
    }
   ],
   "source": [
    "for param in get_params():\n",
    "    print(param['molecule'], 'band', param['band'], param['atmpro'])\n",
    "    print(pipeline.nbviewer_url(param=param, setup=setup_bestfit))\n",
    "    print()"
   ]
  },
  {
   "cell_type": "code",
   "execution_count": null,
   "metadata": {
    "collapsed": true,
    "hidden": true
   },
   "outputs": [],
   "source": []
  }
 ],
 "metadata": {
  "kernelspec": {
   "display_name": "Python 3",
   "language": "python",
   "name": "python3"
  },
  "language_info": {
   "codemirror_mode": {
    "name": "ipython",
    "version": 3
   },
   "file_extension": ".py",
   "mimetype": "text/x-python",
   "name": "python",
   "nbconvert_exporter": "python",
   "pygments_lexer": "ipython3",
   "version": "3.6.1"
  }
 },
 "nbformat": 4,
 "nbformat_minor": 2
}

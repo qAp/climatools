{
 "cells": [
  {
   "cell_type": "code",
   "execution_count": 3,
   "metadata": {
    "collapsed": true
   },
   "outputs": [],
   "source": [
    "%reload_ext autoreload\n",
    "%autoreload 2"
   ]
  },
  {
   "cell_type": "code",
   "execution_count": 4,
   "metadata": {
    "collapsed": true
   },
   "outputs": [],
   "source": [
    "import os\n",
    "import sys\n",
    "import shutil\n",
    "import pprint\n",
    "\n",
    "import pymongo\n",
    "import json\n",
    "import pandas as pd\n",
    "\n",
    "import climatools.lblnew.setup_bestfit as setup_bestfit\n",
    "import climatools.lblnew.bestfit_params as bestfit\n",
    "import climatools.lblnew.pipeline as pipeline\n",
    "import climatools.lblnew.runrecord_bestfit as runrecord"
   ]
  },
  {
   "cell_type": "markdown",
   "metadata": {
    "heading_collapsed": true
   },
   "source": [
    "# Run lblnew-bestfit"
   ]
  },
  {
   "cell_type": "code",
   "execution_count": 5,
   "metadata": {
    "collapsed": true,
    "hidden": true,
    "scrolled": false
   },
   "outputs": [],
   "source": [
    "def get_params():\n",
    "    '''\n",
    "    Looks like 7 g-intervals aren't good enough.  Let's try 9.\n",
    "    '''\n",
    "    molecule = 'co2'\n",
    "    band = '3b'\n",
    "    \n",
    "    commitnumber = 'a22ab94'\n",
    "    ng_refs = [5, 4]\n",
    "    option_compute_ktable = 0\n",
    "    option_compute_btable = 0\n",
    "    w_diffuse = [(1.66, 1.66, 1.66, 1.66, 1.66), \n",
    "                 (1.66, 1.66, 1.66, 1.66)]\n",
    "    wgt = [(0, .5, .4, .6, .65), (.7, .7, .55, .6)]\n",
    "    \n",
    "    concs = [400e-6, 800e-6]\n",
    "    atmpros = [('mls', 294), ('saw', 257), ('trp', 300)]\n",
    "    \n",
    "    params = []\n",
    "    for conc in concs:\n",
    "        for atmpro, tsfc in atmpros:\n",
    "            param = bestfit.kdist_params(molecule=molecule, band=band)\n",
    "            param['commitnumber'] = commitnumber\n",
    "            param['ng_refs'] = ng_refs\n",
    "            param['option_compute_ktable'] = option_compute_ktable\n",
    "            param['option_compute_btable'] = option_compute_btable\n",
    "            param['w_diffuse'] = w_diffuse\n",
    "            param['wgt'] = wgt\n",
    "            param['conc'] = conc\n",
    "            param['atmpro'] = atmpro\n",
    "            param['tsfc'] = tsfc\n",
    "            params.append(param)\n",
    "            \n",
    "            if atmpro == 'mls' and conc == 400e-6:\n",
    "                param = param.copy()\n",
    "                param['option_compute_ktable'] = 1\n",
    "                param['option_compute_btable'] = 1\n",
    "                params.append(param)\n",
    "                              \n",
    "    return params"
   ]
  },
  {
   "cell_type": "code",
   "execution_count": 8,
   "metadata": {
    "hidden": true,
    "scrolled": false
   },
   "outputs": [],
   "source": [
    "params = get_params()"
   ]
  },
  {
   "cell_type": "code",
   "execution_count": 9,
   "metadata": {
    "collapsed": true,
    "hidden": true
   },
   "outputs": [],
   "source": [
    "pipeline.pipeline_fortran_bsub(params=params, setup=setup_bestfit)"
   ]
  },
  {
   "cell_type": "code",
   "execution_count": 22,
   "metadata": {
    "hidden": true,
    "scrolled": false
   },
   "outputs": [
    {
     "name": "stdout",
     "output_type": "stream",
     "text": [
      "No unfinished job found\r\n"
     ]
    }
   ],
   "source": [
    "!bjobs"
   ]
  },
  {
   "cell_type": "markdown",
   "metadata": {},
   "source": [
    "# Save output data to mongodb"
   ]
  },
  {
   "cell_type": "code",
   "execution_count": 16,
   "metadata": {
    "collapsed": true
   },
   "outputs": [],
   "source": [
    "client = pymongo.MongoClient('localhost', 27017)"
   ]
  },
  {
   "cell_type": "code",
   "execution_count": 42,
   "metadata": {
    "collapsed": true
   },
   "outputs": [],
   "source": [
    "def make_doc(param=None):\n",
    "    '''\n",
    "    Makes a Mongodb document for an lblnew-bestfit run.\n",
    "    \n",
    "    Parameters\n",
    "    ----------\n",
    "    param: dict\n",
    "        lblnew-bestfit input parameters.\n",
    "    doc: dict\n",
    "        lblnew-bestfit input (param) and output (flux and cooling rate)\n",
    "    '''\n",
    "    dir_fortran = pipeline.get_dir_case(param=param, setup=setup_bestfit)\n",
    "    \n",
    "    fnames = [n for n in os.listdir(dir_fortran) if n in \n",
    "              ('output_wfluxg.dat', 'output_wcoolrg.dat',\n",
    "               'output_fluxg.dat', 'output_coolrg.dat',\n",
    "               'output_flux.dat', 'output_coolr.dat',\n",
    "               'abscom.dat', 'dgdgs.dat',\n",
    "               'kg_lin.dat', 'kg_nonlin.dat')]\n",
    "    \n",
    "    s_outputs = []\n",
    "    for fname in fnames:\n",
    "        with open(os.path.join(dir_fortran, fname), \n",
    "                  mode='r', encoding='utf-8') as f:\n",
    "            s = f.read()\n",
    "        \n",
    "        s_outputs.append(s)\n",
    "    \n",
    "    doc = {}\n",
    "    doc['param'] = param\n",
    "    \n",
    "    for fname, s in zip(fnames, s_outputs):\n",
    "        doc[fname.split('.')[0]] = s\n",
    "    \n",
    "    return doc\n",
    "\n",
    "\n",
    "def make_query(param=None):\n",
    "    '''\n",
    "    Returns the MongoDB query for a lblnew-bestfit \n",
    "    run's document.\n",
    "    \n",
    "    Parameters\n",
    "    ----------\n",
    "    param: dict\n",
    "    lblnew-bestfit input parameters.\n",
    "    '''\n",
    "    return {'param.' + name: value for name, value in param.items()}"
   ]
  },
  {
   "cell_type": "code",
   "execution_count": 37,
   "metadata": {
    "collapsed": true
   },
   "outputs": [],
   "source": [
    "docs = (make_doc(param=param) for param in [params[1]])"
   ]
  },
  {
   "cell_type": "code",
   "execution_count": 38,
   "metadata": {},
   "outputs": [
    {
     "data": {
      "text/plain": [
       "<pymongo.results.InsertManyResult at 0x2ac16d94fc60>"
      ]
     },
     "execution_count": 38,
     "metadata": {},
     "output_type": "execute_result"
    }
   ],
   "source": [
    "client.lblnew.bestfit_lw.insert_many(docs)"
   ]
  },
  {
   "cell_type": "code",
   "execution_count": 74,
   "metadata": {
    "collapsed": true
   },
   "outputs": [],
   "source": [
    "#for param in params:\n",
    "#    client.lblnew.bestfit_lw.delete_one(make_query(param))"
   ]
  },
  {
   "cell_type": "markdown",
   "metadata": {
    "heading_collapsed": true
   },
   "source": [
    "# Run analysis notebook"
   ]
  },
  {
   "cell_type": "code",
   "execution_count": 25,
   "metadata": {
    "hidden": true,
    "scrolled": false
   },
   "outputs": [
    {
     "name": "stdout",
     "output_type": "stream",
     "text": [
      "co2 3b a22ab94\n",
      "co2 3b a22ab94\n",
      "\n"
     ]
    }
   ],
   "source": [
    "gprocs = pipeline.pipeline_ipynb2git(params=[params[1]], \n",
    "                                     setup=setup_bestfit)"
   ]
  },
  {
   "cell_type": "markdown",
   "metadata": {
    "heading_collapsed": true
   },
   "source": [
    "# Display nbviewer links"
   ]
  },
  {
   "cell_type": "code",
   "execution_count": 26,
   "metadata": {
    "hidden": true
   },
   "outputs": [
    {
     "name": "stdout",
     "output_type": "stream",
     "text": [
      "co2 band 3b mls\n",
      "http://nbviewer.jupyter.org/github/qap/analysis_-_new_kdist_param/blob/master/lblnew/co2/conc_0.0004/band03b_wn_620_720/nv_1000/dv_0.001/ng_9/g_ascending_k_descending/refPTs_P_1_T_250__P_10_T_250/ng_refs_5__4/ng_adju_0__0/getabsth_auto__auto/absth_dlogN_uniform__dlogN_uniform/klin_none/atmpro_mls/wgt_k_1/wgt_0_0.5_0.4_0.6_0.65__0.7_0.7_0.55_0.6/wgt_flux_1/w_diffuse_1.66_1.66_1.66_1.66_1.66__1.66_1.66_1.66_1.66/option_compute_ktable_0/option_compute_btable_0/crd_a22ab94/results.ipynb\n",
      "\n",
      "co2 band 3b mls\n",
      "http://nbviewer.jupyter.org/github/qap/analysis_-_new_kdist_param/blob/master/lblnew/co2/conc_0.0004/band03b_wn_620_720/nv_1000/dv_0.001/ng_9/g_ascending_k_descending/refPTs_P_1_T_250__P_10_T_250/ng_refs_5__4/ng_adju_0__0/getabsth_auto__auto/absth_dlogN_uniform__dlogN_uniform/klin_none/atmpro_mls/wgt_k_1/wgt_0_0.5_0.4_0.6_0.65__0.7_0.7_0.55_0.6/wgt_flux_1/w_diffuse_1.66_1.66_1.66_1.66_1.66__1.66_1.66_1.66_1.66/option_compute_ktable_1/option_compute_btable_1/crd_a22ab94/results.ipynb\n",
      "\n",
      "co2 band 3b saw\n",
      "http://nbviewer.jupyter.org/github/qap/analysis_-_new_kdist_param/blob/master/lblnew/co2/conc_0.0004/band03b_wn_620_720/nv_1000/dv_0.001/ng_9/g_ascending_k_descending/refPTs_P_1_T_250__P_10_T_250/ng_refs_5__4/ng_adju_0__0/getabsth_auto__auto/absth_dlogN_uniform__dlogN_uniform/klin_none/atmpro_saw/wgt_k_1/wgt_0_0.5_0.4_0.6_0.65__0.7_0.7_0.55_0.6/wgt_flux_1/w_diffuse_1.66_1.66_1.66_1.66_1.66__1.66_1.66_1.66_1.66/option_compute_ktable_0/option_compute_btable_0/crd_a22ab94/results.ipynb\n",
      "\n",
      "co2 band 3b trp\n",
      "http://nbviewer.jupyter.org/github/qap/analysis_-_new_kdist_param/blob/master/lblnew/co2/conc_0.0004/band03b_wn_620_720/nv_1000/dv_0.001/ng_9/g_ascending_k_descending/refPTs_P_1_T_250__P_10_T_250/ng_refs_5__4/ng_adju_0__0/getabsth_auto__auto/absth_dlogN_uniform__dlogN_uniform/klin_none/atmpro_trp/wgt_k_1/wgt_0_0.5_0.4_0.6_0.65__0.7_0.7_0.55_0.6/wgt_flux_1/w_diffuse_1.66_1.66_1.66_1.66_1.66__1.66_1.66_1.66_1.66/option_compute_ktable_0/option_compute_btable_0/crd_a22ab94/results.ipynb\n",
      "\n",
      "co2 band 3b mls\n",
      "http://nbviewer.jupyter.org/github/qap/analysis_-_new_kdist_param/blob/master/lblnew/co2/conc_0.0008/band03b_wn_620_720/nv_1000/dv_0.001/ng_9/g_ascending_k_descending/refPTs_P_1_T_250__P_10_T_250/ng_refs_5__4/ng_adju_0__0/getabsth_auto__auto/absth_dlogN_uniform__dlogN_uniform/klin_none/atmpro_mls/wgt_k_1/wgt_0_0.5_0.4_0.6_0.65__0.7_0.7_0.55_0.6/wgt_flux_1/w_diffuse_1.66_1.66_1.66_1.66_1.66__1.66_1.66_1.66_1.66/option_compute_ktable_0/option_compute_btable_0/crd_a22ab94/results.ipynb\n",
      "\n",
      "co2 band 3b saw\n",
      "http://nbviewer.jupyter.org/github/qap/analysis_-_new_kdist_param/blob/master/lblnew/co2/conc_0.0008/band03b_wn_620_720/nv_1000/dv_0.001/ng_9/g_ascending_k_descending/refPTs_P_1_T_250__P_10_T_250/ng_refs_5__4/ng_adju_0__0/getabsth_auto__auto/absth_dlogN_uniform__dlogN_uniform/klin_none/atmpro_saw/wgt_k_1/wgt_0_0.5_0.4_0.6_0.65__0.7_0.7_0.55_0.6/wgt_flux_1/w_diffuse_1.66_1.66_1.66_1.66_1.66__1.66_1.66_1.66_1.66/option_compute_ktable_0/option_compute_btable_0/crd_a22ab94/results.ipynb\n",
      "\n",
      "co2 band 3b trp\n",
      "http://nbviewer.jupyter.org/github/qap/analysis_-_new_kdist_param/blob/master/lblnew/co2/conc_0.0008/band03b_wn_620_720/nv_1000/dv_0.001/ng_9/g_ascending_k_descending/refPTs_P_1_T_250__P_10_T_250/ng_refs_5__4/ng_adju_0__0/getabsth_auto__auto/absth_dlogN_uniform__dlogN_uniform/klin_none/atmpro_trp/wgt_k_1/wgt_0_0.5_0.4_0.6_0.65__0.7_0.7_0.55_0.6/wgt_flux_1/w_diffuse_1.66_1.66_1.66_1.66_1.66__1.66_1.66_1.66_1.66/option_compute_ktable_0/option_compute_btable_0/crd_a22ab94/results.ipynb\n",
      "\n"
     ]
    }
   ],
   "source": [
    "for param in params:\n",
    "    print(param['molecule'], 'band', param['band'], param['atmpro'])\n",
    "    print(pipeline.nbviewer_url(param=param, setup=setup_bestfit))\n",
    "    print()"
   ]
  },
  {
   "cell_type": "code",
   "execution_count": null,
   "metadata": {
    "collapsed": true,
    "hidden": true
   },
   "outputs": [],
   "source": []
  }
 ],
 "metadata": {
  "kernelspec": {
   "display_name": "Python 3",
   "language": "python",
   "name": "python3"
  },
  "language_info": {
   "codemirror_mode": {
    "name": "ipython",
    "version": 3
   },
   "file_extension": ".py",
   "mimetype": "text/x-python",
   "name": "python",
   "nbconvert_exporter": "python",
   "pygments_lexer": "ipython3",
   "version": "3.6.1"
  }
 },
 "nbformat": 4,
 "nbformat_minor": 2
}

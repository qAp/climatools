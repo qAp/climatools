{
 "cells": [
  {
   "cell_type": "code",
   "execution_count": 54,
   "metadata": {
    "collapsed": true
   },
   "outputs": [],
   "source": [
    "%reload_ext autoreload\n",
    "%autoreload 2"
   ]
  },
  {
   "cell_type": "code",
   "execution_count": 89,
   "metadata": {
    "collapsed": true
   },
   "outputs": [],
   "source": [
    "import os\n",
    "import sys\n",
    "import shutil\n",
    "import pprint\n",
    "\n",
    "import pymongo\n",
    "import json\n",
    "import pandas as pd\n",
    "\n",
    "import climatools.lblnew.setup_bestfit as setup_bestfit\n",
    "from climatools.lblnew.bestfit_params import *\n",
    "from climatools.lblnew.pipeline import *\n",
    "import climatools.lblnew.runrecord_bestfit as runrecord\n",
    "from climatools.atm import *\n",
    "from climatools.cliradlw.utils import *"
   ]
  },
  {
   "cell_type": "markdown",
   "metadata": {},
   "source": [
    "# Run lblnew-bestfit"
   ]
  },
  {
   "cell_type": "code",
   "execution_count": 90,
   "metadata": {
    "collapsed": true
   },
   "outputs": [],
   "source": [
    "MOLECULE = 'h2o'"
   ]
  },
  {
   "cell_type": "code",
   "execution_count": 93,
   "metadata": {},
   "outputs": [],
   "source": [
    "atm = AtmComposition.cliradlw_nongreys()\n",
    "BANDMOLS = [(mapband_new2old()[band], 'h2o') for band, absorbers in atm.gasinbands.items() if 'h2o' in absorbers]"
   ]
  },
  {
   "cell_type": "code",
   "execution_count": 94,
   "metadata": {
    "collapsed": true
   },
   "outputs": [],
   "source": [
    "ATMPROS = [('saw_trpwlayer', 257), ('trp_sawwlayer', 300)]"
   ]
  },
  {
   "cell_type": "code",
   "execution_count": 95,
   "metadata": {
    "collapsed": true
   },
   "outputs": [],
   "source": [
    "PARAMS = []\n",
    "for band, absorber in BANDMOLS[:1]:\n",
    "    for atmpro, tsfc in ATMPROS:\n",
    "        param = kdist_params(molecule=absorber, band=band)\n",
    "        param['commitnumber'] = '9dc25c5'\n",
    "        param['atmpro'], param['tsfc'] = atmpro, tsfc\n",
    "        param['option_compute_ktable'] = 0\n",
    "        param['option_compute_btable'] = 0\n",
    "        PARAMS.append(param)"
   ]
  },
  {
   "cell_type": "code",
   "execution_count": 116,
   "metadata": {},
   "outputs": [
    {
     "name": "stdout",
     "output_type": "stream",
     "text": [
      "/chia_cluster/home/jackyu/radiation/crd/LW/examples/separate_g_groups/study__lblnew_g1_threshold/h2o/conc_None/band01_wn_20_340/nv_1000/dv_0.001/ng_12/g_ascending_k_descending/refPTs_P_1_T_250__P_30_T_250__P_300_T_250/ng_refs_3__3__6/ng_adju_0__0__0/getabsth_auto__auto__auto/absth_dlogN_uniform__dlogN_uniform__dlogN_uniform/klin_none/atmpro_trp_sawwlayer/wgt_k_1/wgt_0.2_0.2_0.2__0.2_0.2_0.2__0.2_0.2_0.65_0.65_0.65_0.65/wgt_flux_1/w_diffuse_1.66_1.66_1.66__1.66_1.66_1.66__1.66_1.66_1.5_1.5_1.5_1.5/option_compute_ktable_0/option_compute_btable_0/crd_9dc25c5\n"
     ]
    }
   ],
   "source": [
    "pipeline_fortran_bsub(params=PARAMS[1:], setup=setup_bestfit)"
   ]
  },
  {
   "cell_type": "code",
   "execution_count": 118,
   "metadata": {
    "scrolled": false
   },
   "outputs": [
    {
     "name": "stdout",
     "output_type": "stream",
     "text": [
      "JOBID   USER    STAT  QUEUE      FROM_HOST   EXEC_HOST   JOB_NAME   SUBMIT_TIME\r\n",
      "441568  jackyu  RUN   serial     chialn00    chiacn099   *new_h2o_1 Jul  8 12:34\r\n",
      "441567  jackyu  RUN   serial     chialn00    chiacn105   *new_h2o_1 Jul  8 12:33\r\n"
     ]
    }
   ],
   "source": [
    "!bjobs"
   ]
  },
  {
   "cell_type": "markdown",
   "metadata": {},
   "source": [
    "# Save output data to mongodb"
   ]
  },
  {
   "cell_type": "code",
   "execution_count": 74,
   "metadata": {
    "collapsed": true
   },
   "outputs": [],
   "source": [
    "client = pymongo.MongoClient('localhost', 27017)"
   ]
  },
  {
   "cell_type": "code",
   "execution_count": 75,
   "metadata": {
    "collapsed": true,
    "scrolled": false
   },
   "outputs": [],
   "source": [
    "def make_doc(param=None):\n",
    "    '''\n",
    "    Makes a Mongodb document for an lblnew-bestfit run.\n",
    "    \n",
    "    Parameters\n",
    "    ----------\n",
    "    param: dict\n",
    "        lblnew-bestfit input parameters.\n",
    "    doc: dict\n",
    "        lblnew-bestfit input (param) and output (flux and cooling rate)\n",
    "    '''\n",
    "    dir_fortran = get_dir_case(param=param, setup=setup_bestfit)\n",
    "    \n",
    "    fnames = [n for n in os.listdir(dir_fortran) if n in \n",
    "              ('output_wfluxg.dat', 'output_wcoolrg.dat',\n",
    "               'output_fluxg.dat', 'output_coolrg.dat',\n",
    "               'output_flux.dat', 'output_coolr.dat',\n",
    "               'abscom.dat', 'dgdgs.dat',\n",
    "               'kg_lin.dat', 'kg_nonlin.dat')]\n",
    "    \n",
    "    s_outputs = []\n",
    "    for fname in fnames:\n",
    "        with open(os.path.join(dir_fortran, fname), \n",
    "                  mode='r', encoding='utf-8') as f:\n",
    "            s = f.read()\n",
    "        \n",
    "        s_outputs.append(s)\n",
    "    \n",
    "    doc = {}\n",
    "    doc['param'] = param\n",
    "    \n",
    "    for fname, s in zip(fnames, s_outputs):\n",
    "        doc[fname.split('.')[0]] = s\n",
    "    \n",
    "    return doc\n",
    "\n",
    "\n",
    "def make_query(param=None):\n",
    "    q = {}\n",
    "    for n, v in param.items():\n",
    "        if n == 'molecule' and type(v) == dict:\n",
    "            for mol, conc in v.items():\n",
    "                q[f'param.molecule.{mol}'] = conc\n",
    "        else:\n",
    "            q[f'param.{n}'] = v\n",
    "    return q"
   ]
  },
  {
   "cell_type": "code",
   "execution_count": 76,
   "metadata": {
    "collapsed": true
   },
   "outputs": [],
   "source": [
    "docs = (make_doc(param=param) for param in PARAMS)"
   ]
  },
  {
   "cell_type": "code",
   "execution_count": 79,
   "metadata": {},
   "outputs": [
    {
     "data": {
      "text/plain": [
       "151"
      ]
     },
     "execution_count": 79,
     "metadata": {},
     "output_type": "execute_result"
    }
   ],
   "source": [
    "client.lblnew.bestfit_lw.count()"
   ]
  },
  {
   "cell_type": "code",
   "execution_count": 78,
   "metadata": {},
   "outputs": [
    {
     "data": {
      "text/plain": [
       "<pymongo.results.InsertManyResult at 0x2b06c4843bd0>"
      ]
     },
     "execution_count": 78,
     "metadata": {},
     "output_type": "execute_result"
    }
   ],
   "source": [
    "client.lblnew.bestfit_lw.insert_many(docs)"
   ]
  },
  {
   "cell_type": "code",
   "execution_count": 74,
   "metadata": {
    "collapsed": true
   },
   "outputs": [],
   "source": [
    "#for param in params:\n",
    "#    client.lblnew.bestfit_lw.delete_one(make_query(param))"
   ]
  },
  {
   "cell_type": "markdown",
   "metadata": {},
   "source": [
    "# Run analysis notebook"
   ]
  },
  {
   "cell_type": "code",
   "execution_count": 159,
   "metadata": {
    "collapsed": true,
    "scrolled": false
   },
   "outputs": [],
   "source": [
    "from climatools.atm.absorbers import *\n",
    "from climatools.cliradlw.utils import *\n",
    "\n",
    "ATMPROS = [('mls', 294), ('saw', 257), ('trp', 300)]\n",
    "\n",
    "def run_exists(param=None):\n",
    "    q = make_query(param)\n",
    "    cnt = client.lblnew.bestfit_lw.count(q)\n",
    "    return True if cnt else False\n",
    "\n",
    "def notebook_exists(param=None):\n",
    "    d = get_analysis_dir(param=param, setup=setup_bestfit)\n",
    "    try: \n",
    "        return 'results.ipynb' in os.listdir(d)\n",
    "    except FileNotFoundError:\n",
    "        return False\n",
    "\n",
    "def get_params(band=1):\n",
    "    bandmols = [(b, mol) for b, molconc in nongreys_byband().items() if b == band\n",
    "                for mol in molconc.keys()]\n",
    "    bandmols = [(mapband_new2old()[band], mol) for band, mol in bandmols]\n",
    "    params = []\n",
    "    for band, mol in bandmols:\n",
    "        p = kdist_params(molecule=mol, band=band)\n",
    "        for k in ('option_compute_ktable', 'option_compute_btable', 'commitnumber'):\n",
    "            if k in p: del p[k]\n",
    "                \n",
    "        for atmpro, tsfc in ATMPROS:\n",
    "            p['atmpro'], p['tsfc'] = atmpro, tsfc\n",
    "            \n",
    "            q = make_query(p)\n",
    "            r = client.lblnew.bestfit_lw.find_one(q, projection=['param'])\n",
    "            if not r:\n",
    "                print('Following lblnew run not available:')\n",
    "                pprint.pprint(p)\n",
    "                continue\n",
    "            params.append(r.get('param'))\n",
    "    params = [p for p in params if run_exists(p)]\n",
    "    return params"
   ]
  },
  {
   "cell_type": "code",
   "execution_count": 36,
   "metadata": {
    "collapsed": true,
    "scrolled": false
   },
   "outputs": [],
   "source": [
    "# This deletes some excel files in the analysis directories for params.\n",
    "#for p in params:\n",
    "#    print('band=', p['band'], 'molecule=', p['molecule'], 'atmpro=', p['atmpro'])\n",
    "#    path = get_analysis_dir(p, setup=setup_bestfit)\n",
    "#    print(os.listdir(path))\n",
    "#    xfiles = [f for f in os.listdir(path) if f in ('lblnew-bestfit_flux.xlsx', 'lblnew-bestfit_cool.xlsx')]\n",
    "#    xfiles = [os.path.join(path, f) for f in xfiles]\n",
    "#    [os.remove(f) for f in xfiles]\n",
    "#    print(os.listdir(path))\n",
    "#    print()"
   ]
  },
  {
   "cell_type": "code",
   "execution_count": 203,
   "metadata": {
    "collapsed": true
   },
   "outputs": [],
   "source": [
    "params = get_params(band=11)"
   ]
  },
  {
   "cell_type": "code",
   "execution_count": 80,
   "metadata": {
    "scrolled": false
   },
   "outputs": [
    {
     "name": "stdout",
     "output_type": "stream",
     "text": [
      "h2o 1 9dc25c5\n",
      "h2o 2 9dc25c5\n",
      "co2 3a 9dc25c5\n",
      "co2 3b 9dc25c5\n",
      "h2o 1 9dc25c5\n",
      "h2o 2 9dc25c5\n",
      "co2 3a 9dc25c5\n",
      "co2 3b 9dc25c5\n",
      "\n"
     ]
    }
   ],
   "source": [
    "gprocs = pipeline_ipynb2git(params=PARAMS, setup=setup_bestfit)"
   ]
  },
  {
   "cell_type": "code",
   "execution_count": 82,
   "metadata": {},
   "outputs": [
    {
     "name": "stdout",
     "output_type": "stream",
     "text": [
      "lblnew-bestfit_fluxcool.xlsx  param.py  results.ipynb\n",
      "lblnew-bestfit_fluxcool.xlsx  param.py  results.ipynb\n",
      "lblnew-bestfit_fluxcool.xlsx  param.py  results.ipynb\n",
      "lblnew-bestfit_fluxcool.xlsx  param.py  results.ipynb\n"
     ]
    }
   ],
   "source": [
    "for p in PARAMS:\n",
    "    path = get_analysis_dir(param=p, setup=setup_bestfit)\n",
    "    %ls\n",
    "    !git add {path}/lblnew-bestfit_fluxcool.xlsx"
   ]
  },
  {
   "cell_type": "markdown",
   "metadata": {},
   "source": [
    "# Display nbviewer links"
   ]
  },
  {
   "cell_type": "code",
   "execution_count": 84,
   "metadata": {},
   "outputs": [
    {
     "name": "stdout",
     "output_type": "stream",
     "text": [
      "h2o band 1 mls\n",
      "http://nbviewer.jupyter.org/github/qap/analysis_-_new_kdist_param/blob/master/lblnew/h2o/conc_None/band01_wn_20_340/nv_10000/dv_0.0001/ng_12/g_ascending_k_descending/refPTs_P_1_T_250__P_30_T_250__P_300_T_250/ng_refs_3__3__6/ng_adju_0__0__0/getabsth_auto__auto__auto/absth_dlogN_uniform__dlogN_uniform__dlogN_uniform/klin_none/atmpro_mls/wgt_k_1/wgt_0.2_0.2_0.2__0.2_0.2_0.2__0.2_0.2_0.65_0.65_0.65_0.65/wgt_flux_1/w_diffuse_1.66_1.66_1.66__1.66_1.66_1.66__1.66_1.66_1.5_1.5_1.5_1.5/option_compute_ktable_0/option_compute_btable_0/crd_9dc25c5/results.ipynb\n",
      "\n",
      "h2o band 2 mls\n",
      "http://nbviewer.jupyter.org/github/qap/analysis_-_new_kdist_param/blob/master/lblnew/h2o/conc_None/band02_wn_340_540/nv_10000/dv_0.0001/ng_11/g_ascending_k_descending/refPTs_P_1_T_250__P_10_T_250__P_500_T_250/ng_refs_2__3__6/ng_adju_-2__-2__0/getabsth_auto__auto__auto/absth_dlogN_uniform__dlogN_uniform__dlogN_uniform/klin_none/atmpro_mls/wgt_k_1/wgt_0.6_0.6__0.6_0.6_0.6__0.6_0.6_0.6_0.6_0.6_0.6/wgt_flux_1/w_diffuse_1.66_1.66__1.8_1.8_1.8__1.8_1.66_1.45_1.45_1.45_1.45/option_compute_ktable_0/option_compute_btable_0/crd_9dc25c5/results.ipynb\n",
      "\n",
      "co2 band 3a mls\n",
      "http://nbviewer.jupyter.org/github/qap/analysis_-_new_kdist_param/blob/master/lblnew/co2/conc_0.0004/band03a_wn_540_620/nv_10000/dv_0.0001/ng_9/g_ascending_k_descending/refPTs_P_1_T_250__P_10_T_250__P_500_T_250/ng_refs_3__2__4/ng_adju_0__0__0/getabsth_auto__auto__auto/absth_dlogN_uniform__dlogN_uniform__dlogN_uniform/klin_6.375563e-24/atmpro_mls/wgt_k_1/wgt_0.7_0.3_0.7__0.7_0.6__0.4_0.5_0.8_0.95/wgt_flux_1/w_diffuse_1.6_1.6_1.7__1.75_1.75__1.55_1.55_1.6_1.85/option_compute_ktable_0/option_compute_btable_0/crd_9dc25c5/results.ipynb\n",
      "\n",
      "co2 band 3b mls\n",
      "http://nbviewer.jupyter.org/github/qap/analysis_-_new_kdist_param/blob/master/lblnew/co2/conc_0.0004/band03b_wn_620_720/nv_10000/dv_0.0001/ng_9/g_ascending_k_descending/refPTs_P_1_T_250__P_10_T_250/ng_refs_5__4/ng_adju_0__0/getabsth_auto__auto/absth_dlogN_uniform__dlogN_uniform/klin_none/atmpro_mls/wgt_k_1/wgt_0_0.5_0.4_0.6_0.65__0.7_0.7_0.55_0.6/wgt_flux_1/w_diffuse_1.66_1.66_1.66_1.66_1.66__1.66_1.66_1.66_1.66/option_compute_ktable_0/option_compute_btable_0/crd_9dc25c5/results.ipynb\n",
      "\n"
     ]
    }
   ],
   "source": [
    "for param in PARAMS:\n",
    "    print(param['molecule'], 'band', param['band'], param['atmpro'])\n",
    "    print(nbviewer_url(param=param, setup=setup_bestfit))\n",
    "    print()"
   ]
  },
  {
   "cell_type": "code",
   "execution_count": null,
   "metadata": {
    "collapsed": true
   },
   "outputs": [],
   "source": []
  }
 ],
 "metadata": {
  "kernelspec": {
   "display_name": "Python 3",
   "language": "python",
   "name": "python3"
  },
  "language_info": {
   "codemirror_mode": {
    "name": "ipython",
    "version": 3
   },
   "file_extension": ".py",
   "mimetype": "text/x-python",
   "name": "python",
   "nbconvert_exporter": "python",
   "pygments_lexer": "ipython3",
   "version": "3.6.7"
  }
 },
 "nbformat": 4,
 "nbformat_minor": 2
}

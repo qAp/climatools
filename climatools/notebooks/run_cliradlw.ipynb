{
 "cells": [
  {
   "cell_type": "code",
   "execution_count": 14,
   "metadata": {
    "collapsed": true
   },
   "outputs": [],
   "source": [
    "%reload_ext autoreload\n",
    "%autoreload 2\n",
    "\n",
    "import os\n",
    "import pprint\n",
    "import shutil\n",
    "\n",
    "import pymongo\n",
    "import pandas as pd\n",
    "from IPython import display\n",
    "\n",
    "from climatools.cliradlw import (setup, pipeline)\n",
    "import climatools.cliradlw.runrecord as runrecord_clirad\n",
    "import climatools.cliradlw.utils as utils_clirad\n",
    "\n",
    "from climatools.lblnew import setup_overlap\n",
    "from climatools.lblnew import setup_bestfit\n",
    "import climatools.lblnew.pipeline as pipeline_lblnew\n",
    "import climatools.lblnew.bestfit_params as bestfit\n",
    "import climatools.lblnew.runrecord_bestfit as runrecord_bestfit\n",
    "import climatools.lblnew.runrecord_overlap as runrecord_overlap"
   ]
  },
  {
   "cell_type": "markdown",
   "metadata": {},
   "source": [
    "## Run clirad-lw"
   ]
  },
  {
   "cell_type": "code",
   "execution_count": 95,
   "metadata": {
    "scrolled": false
   },
   "outputs": [],
   "source": [
    "def get_params():\n",
    "    '''\n",
    "    Define the clirad-lw case(s) to be run by\n",
    "    specifying one or more input parameter dictionary.\n",
    "    '''\n",
    "    band = 6\n",
    "    \n",
    "    from climatools.atm.absorbers import nongreys_byband\n",
    "    atmpros = [('mls', 294), ('saw', 257), ('trp', 300)]\n",
    "    commitnumber = '1013f91'\n",
    "    molconc = nongreys_byband()[band]\n",
    "    params = [{'commitnumber': commitnumber,\n",
    "               'band': [band],\n",
    "               'molecule': {mol: conc},\n",
    "               'atmpro': atmpro,\n",
    "               'tsfc': tsfc} \n",
    "              for mol, conc in molconc.items()\n",
    "              for atmpro, tsfc in atmpros]\n",
    "    \n",
    "    if len(molconc) > 1:\n",
    "        params.extend(\n",
    "            [{'commitnumber': commitnumber, \n",
    "              'band': [band], \n",
    "              'molecule': molconc, \n",
    "              'atmpro': atmpro, \n",
    "              'tsfc': tsfc} for atmpro, tsfc in atmpros])\n",
    "    return params"
   ]
  },
  {
   "cell_type": "code",
   "execution_count": 96,
   "metadata": {
    "collapsed": true
   },
   "outputs": [],
   "source": [
    "def script():\n",
    "    for param in get_params():\n",
    "        try:\n",
    "            fdir = pipeline.get_fortran_dir(param=param, setup=setup)\n",
    "            shutil.rmtree(fdir)\n",
    "        except FileNotFoundError: pass\n",
    "        \n",
    "        fproc = pipeline.run_fortran(param=param, setup=setup)"
   ]
  },
  {
   "cell_type": "code",
   "execution_count": null,
   "metadata": {},
   "outputs": [],
   "source": []
  },
  {
   "cell_type": "code",
   "execution_count": 97,
   "metadata": {},
   "outputs": [
    {
     "name": "stdout",
     "output_type": "stream",
     "text": [
      "{'atmpro': 'mls',\n",
      " 'band': [6],\n",
      " 'commitnumber': '1013f91',\n",
      " 'molecule': {'co2': 0.0004},\n",
      " 'tsfc': 294}\n",
      "{'atmpro': 'saw',\n",
      " 'band': [6],\n",
      " 'commitnumber': '1013f91',\n",
      " 'molecule': {'co2': 0.0004},\n",
      " 'tsfc': 257}\n",
      "{'atmpro': 'trp',\n",
      " 'band': [6],\n",
      " 'commitnumber': '1013f91',\n",
      " 'molecule': {'co2': 0.0004},\n",
      " 'tsfc': 300}\n",
      "{'atmpro': 'mls',\n",
      " 'band': [6],\n",
      " 'commitnumber': '1013f91',\n",
      " 'molecule': {'h2o': 'atmpro'},\n",
      " 'tsfc': 294}\n",
      "{'atmpro': 'saw',\n",
      " 'band': [6],\n",
      " 'commitnumber': '1013f91',\n",
      " 'molecule': {'h2o': 'atmpro'},\n",
      " 'tsfc': 257}\n",
      "{'atmpro': 'trp',\n",
      " 'band': [6],\n",
      " 'commitnumber': '1013f91',\n",
      " 'molecule': {'h2o': 'atmpro'},\n",
      " 'tsfc': 300}\n",
      "{'atmpro': 'mls',\n",
      " 'band': [6],\n",
      " 'commitnumber': '1013f91',\n",
      " 'molecule': {'co2': 0.0004, 'h2o': 'atmpro'},\n",
      " 'tsfc': 294}\n",
      "{'atmpro': 'saw',\n",
      " 'band': [6],\n",
      " 'commitnumber': '1013f91',\n",
      " 'molecule': {'co2': 0.0004, 'h2o': 'atmpro'},\n",
      " 'tsfc': 257}\n",
      "{'atmpro': 'trp',\n",
      " 'band': [6],\n",
      " 'commitnumber': '1013f91',\n",
      " 'molecule': {'co2': 0.0004, 'h2o': 'atmpro'},\n",
      " 'tsfc': 300}\n"
     ]
    }
   ],
   "source": [
    "script()"
   ]
  },
  {
   "cell_type": "markdown",
   "metadata": {},
   "source": [
    "## Save results in Mongodb"
   ]
  },
  {
   "cell_type": "code",
   "execution_count": 98,
   "metadata": {
    "collapsed": true
   },
   "outputs": [],
   "source": [
    "client = pymongo.MongoClient('localhost', 27017)\n",
    "db = client.cliradnew\n",
    "collection = db.lw"
   ]
  },
  {
   "cell_type": "code",
   "execution_count": 99,
   "metadata": {
    "collapsed": true
   },
   "outputs": [],
   "source": [
    "def make_doc(param=None):\n",
    "    '''\n",
    "    Make Mongodb document for a cliradlw run.\n",
    "    \n",
    "    Parameters\n",
    "    ----------\n",
    "    param: dict\n",
    "        clirad-lw input parameters.\n",
    "    doc: dict\n",
    "        clirad-lw input (`param`) and output (flux and cooling rate)\n",
    "    '''\n",
    "    dir_fortran = pipeline.get_fortran_dir(param=param, \n",
    "                                           setup=setup)\n",
    "    \n",
    "    fnames = ['output_flux.dat', 'output_coolr.dat']\n",
    "    \n",
    "    s_outputs = []\n",
    "    for fname in fnames:\n",
    "        with open(os.path.join(dir_fortran, fname),\n",
    "                  mode='r', encoding='utf-8') as f:\n",
    "            s = f.read()\n",
    "            \n",
    "        s_outputs.append(s)\n",
    "        \n",
    "    doc = {fname.split('.')[0]: s\n",
    "           for fname, s in zip(fnames, s_outputs)}\n",
    "    doc['param'] = param\n",
    "    return doc\n",
    "\n",
    "def make_query(param=None):\n",
    "    return {f'param.{n}': v for n, v in param.items()}"
   ]
  },
  {
   "cell_type": "code",
   "execution_count": 100,
   "metadata": {},
   "outputs": [
    {
     "data": {
      "text/plain": [
       "<pymongo.results.InsertManyResult at 0x2af89434d948>"
      ]
     },
     "execution_count": 100,
     "metadata": {},
     "output_type": "execute_result"
    }
   ],
   "source": [
    "docs = (make_doc(param=param) for param in get_params())\n",
    "collection.insert_many(docs)"
   ]
  },
  {
   "cell_type": "code",
   "execution_count": 101,
   "metadata": {},
   "outputs": [
    {
     "data": {
      "text/plain": [
       "243"
      ]
     },
     "execution_count": 101,
     "metadata": {},
     "output_type": "execute_result"
    }
   ],
   "source": [
    "collection.count()"
   ]
  },
  {
   "cell_type": "code",
   "execution_count": 41,
   "metadata": {
    "collapsed": true
   },
   "outputs": [],
   "source": [
    "#for param in params:\n",
    "#    collection.delete_one(make_query(param=param))"
   ]
  },
  {
   "cell_type": "markdown",
   "metadata": {
    "collapsed": true,
    "heading_collapsed": true
   },
   "source": [
    "## Run analysis notebooks"
   ]
  },
  {
   "cell_type": "code",
   "execution_count": null,
   "metadata": {
    "hidden": true
   },
   "outputs": [],
   "source": []
  },
  {
   "cell_type": "code",
   "execution_count": null,
   "metadata": {
    "collapsed": true,
    "hidden": true
   },
   "outputs": [],
   "source": []
  },
  {
   "cell_type": "code",
   "execution_count": null,
   "metadata": {
    "collapsed": true,
    "hidden": true
   },
   "outputs": [],
   "source": []
  }
 ],
 "metadata": {
  "kernelspec": {
   "display_name": "Python 3",
   "language": "python",
   "name": "python3"
  },
  "language_info": {
   "codemirror_mode": {
    "name": "ipython",
    "version": 3
   },
   "file_extension": ".py",
   "mimetype": "text/x-python",
   "name": "python",
   "nbconvert_exporter": "python",
   "pygments_lexer": "ipython3",
   "version": "3.6.1"
  }
 },
 "nbformat": 4,
 "nbformat_minor": 2
}

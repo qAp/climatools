{
 "cells": [
  {
   "cell_type": "code",
   "execution_count": 36,
   "metadata": {
    "collapsed": true
   },
   "outputs": [],
   "source": [
    "%reload_ext autoreload\n",
    "%autoreload 2"
   ]
  },
  {
   "cell_type": "code",
   "execution_count": 37,
   "metadata": {},
   "outputs": [],
   "source": [
    "import os\n",
    "import pprint\n",
    "import shutil\n",
    "#import importlib \n",
    "\n",
    "from climatools.cliradlw import (setup, pipeline)\n",
    "import climatools.cliradlw.runrecord as runrecord_clirad\n",
    "import climatools.cliradlw.utils as utils_clirad\n",
    "\n",
    "\n",
    "from climatools.lblnew import setup_overlap\n",
    "from climatools.lblnew import setup_bestfit\n",
    "import climatools.lblnew.pipeline as pipeline_lblnew\n",
    "import climatools.lblnew.bestfit_params as bestfit\n",
    "import climatools.lblnew.runrecord_bestfit as runrecord_bestfit\n",
    "import climatools.lblnew.runrecord_overlap as runrecord_overlap\n",
    "\n",
    "\n",
    "#importlib.reload(setup)\n",
    "#importlib.reload(pipeline)\n",
    "#importlib.reload(runrecord_clirad)\n",
    "#importlib.reload(utils_clirad)\n",
    "#importlib.reload(setup_overlap)\n",
    "#importlib.reload(setup_bestfit)\n",
    "#importlib.reload(pipeline_lblnew)\n",
    "#importlib.reload(bestfit)\n",
    "#importlib.reload(runrecord_bestfit)\n",
    "#importlib.reload(runrecord_overlap)"
   ]
  },
  {
   "cell_type": "code",
   "execution_count": 59,
   "metadata": {},
   "outputs": [],
   "source": [
    "\n",
    "\n",
    "def get_params():\n",
    "    '''\n",
    "    Define the clirad-lw case(s) to be run by\n",
    "    specifying one or more input parameter dictionary.\n",
    "    '''\n",
    "    \n",
    "    param0 = {'commitnumber': 'd97d67f',\n",
    "              'molecule': {'co2': 400e-6},\n",
    "              'band': [4],\n",
    "              'atmpro': 'mls',\n",
    "              'tsfc': 294,}\n",
    "\n",
    "    atmpros = [('mls', 294), ('saw', 257), ('trp', 300)]\n",
    "\n",
    "    params = []\n",
    "    for atmpro, tsfc in atmpros:\n",
    "        param = param0.copy() \n",
    "        param['atmpro'] = atmpro\n",
    "        param['tsfc'] = tsfc\n",
    "        params.append(param)\n",
    "        \n",
    "    return params\n",
    "\n",
    "\n",
    "\n",
    "\n",
    "\n",
    "\n",
    "def script():\n",
    "    for param in get_params():\n",
    "        try:\n",
    "            fdir = pipeline.get_fortran_dir(param=param, setup=setup)\n",
    "            shutil.rmtree(fdir)\n",
    "        except FileNotFoundError:\n",
    "            pass\n",
    "        \n",
    "        fproc = pipeline.run_fortran(param=param, setup=setup)"
   ]
  },
  {
   "cell_type": "code",
   "execution_count": null,
   "metadata": {
    "collapsed": true
   },
   "outputs": [],
   "source": []
  },
  {
   "cell_type": "code",
   "execution_count": 60,
   "metadata": {},
   "outputs": [
    {
     "name": "stdout",
     "output_type": "stream",
     "text": [
      "{'atmpro': 'mls',\n",
      " 'band': [4],\n",
      " 'commitnumber': 'd97d67f',\n",
      " 'molecule': {'co2': 0.0004},\n",
      " 'tsfc': 294}\n",
      "{'atmpro': 'saw',\n",
      " 'band': [4],\n",
      " 'commitnumber': 'd97d67f',\n",
      " 'molecule': {'co2': 0.0004},\n",
      " 'tsfc': 257}\n",
      "{'atmpro': 'trp',\n",
      " 'band': [4],\n",
      " 'commitnumber': 'd97d67f',\n",
      " 'molecule': {'co2': 0.0004},\n",
      " 'tsfc': 300}\n"
     ]
    }
   ],
   "source": [
    "script()"
   ]
  },
  {
   "cell_type": "code",
   "execution_count": 61,
   "metadata": {},
   "outputs": [
    {
     "data": {
      "text/plain": [
       "[{'atmpro': 'mls',\n",
       "  'band': [4],\n",
       "  'commitnumber': 'd97d67f',\n",
       "  'molecule': {'co2': 0.0004},\n",
       "  'tsfc': 294},\n",
       " {'atmpro': 'saw',\n",
       "  'band': [4],\n",
       "  'commitnumber': 'd97d67f',\n",
       "  'molecule': {'co2': 0.0004},\n",
       "  'tsfc': 257},\n",
       " {'atmpro': 'trp',\n",
       "  'band': [4],\n",
       "  'commitnumber': 'd97d67f',\n",
       "  'molecule': {'co2': 0.0004},\n",
       "  'tsfc': 300}]"
      ]
     },
     "execution_count": 61,
     "metadata": {},
     "output_type": "execute_result"
    }
   ],
   "source": [
    "get_params()"
   ]
  },
  {
   "cell_type": "code",
   "execution_count": 58,
   "metadata": {},
   "outputs": [
    {
     "name": "stdout",
     "output_type": "stream",
     "text": [
      "/chia_cluster/home/jackyu/radiation/clirad-lw/LW/examples/lblnew/co2_0.0004/band_4/atmpro_mls/cliradlw_d1f8fc0\n",
      "['cliradlw.exe', 'CLIRAD_new_25cm_re.f', 'CLIRAD_IR_input.dat', 'output_flux.dat', 'output_coolr.dat', 'CLIRAD_IR_output.dat']\n",
      "\n",
      "/chia_cluster/home/jackyu/radiation/clirad-lw/LW/examples/lblnew/co2_0.0004/band_4/atmpro_saw/cliradlw_d1f8fc0\n",
      "['cliradlw.exe', 'CLIRAD_new_25cm_re.f', 'CLIRAD_IR_input.dat', 'output_flux.dat', 'output_coolr.dat', 'CLIRAD_IR_output.dat']\n",
      "\n",
      "/chia_cluster/home/jackyu/radiation/clirad-lw/LW/examples/lblnew/co2_0.0004/band_4/atmpro_trp/cliradlw_d1f8fc0\n",
      "['cliradlw.exe', 'CLIRAD_new_25cm_re.f', 'CLIRAD_IR_input.dat', 'output_flux.dat', 'output_coolr.dat', 'CLIRAD_IR_output.dat']\n",
      "\n"
     ]
    }
   ],
   "source": [
    "for param in get_params():\n",
    "    fdir = pipeline.get_fortran_dir(param=param, setup=setup)\n",
    "    \n",
    "    print(fdir)\n",
    "    print(os.listdir(fdir))\n",
    "    print()"
   ]
  },
  {
   "cell_type": "code",
   "execution_count": null,
   "metadata": {
    "collapsed": true
   },
   "outputs": [],
   "source": []
  }
 ],
 "metadata": {
  "kernelspec": {
   "display_name": "Python 3",
   "language": "python",
   "name": "python3"
  },
  "language_info": {
   "codemirror_mode": {
    "name": "ipython",
    "version": 3
   },
   "file_extension": ".py",
   "mimetype": "text/x-python",
   "name": "python",
   "nbconvert_exporter": "python",
   "pygments_lexer": "ipython3",
   "version": "3.6.1"
  }
 },
 "nbformat": 4,
 "nbformat_minor": 2
}

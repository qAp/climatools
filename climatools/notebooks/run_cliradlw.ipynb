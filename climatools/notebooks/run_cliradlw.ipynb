{
 "cells": [
  {
   "cell_type": "code",
   "execution_count": 36,
   "metadata": {
    "collapsed": true
   },
   "outputs": [],
   "source": [
    "%reload_ext autoreload\n",
    "%autoreload 2"
   ]
  },
  {
   "cell_type": "code",
   "execution_count": 67,
   "metadata": {
    "collapsed": true
   },
   "outputs": [],
   "source": [
    "import os\n",
    "import pprint\n",
    "import shutil\n",
    "\n",
    "import pymongo\n",
    "import pandas as pd\n",
    "from IPython import display\n",
    "\n",
    "from climatools.cliradlw import (setup, pipeline)\n",
    "import climatools.cliradlw.runrecord as runrecord_clirad\n",
    "import climatools.cliradlw.utils as utils_clirad\n",
    "\n",
    "\n",
    "from climatools.lblnew import setup_overlap\n",
    "from climatools.lblnew import setup_bestfit\n",
    "import climatools.lblnew.pipeline as pipeline_lblnew\n",
    "import climatools.lblnew.bestfit_params as bestfit\n",
    "import climatools.lblnew.runrecord_bestfit as runrecord_bestfit\n",
    "import climatools.lblnew.runrecord_overlap as runrecord_overlap"
   ]
  },
  {
   "cell_type": "markdown",
   "metadata": {},
   "source": [
    "## Run clirad-lw"
   ]
  },
  {
   "cell_type": "code",
   "execution_count": 68,
   "metadata": {
    "collapsed": true
   },
   "outputs": [],
   "source": [
    "def get_params():\n",
    "    '''\n",
    "    Define the clirad-lw case(s) to be run by\n",
    "    specifying one or more input parameter dictionary.\n",
    "    '''\n",
    "    \n",
    "    param0 = {'commitnumber': 'a6676f4',\n",
    "              'molecule': {'co2': 400e-6},\n",
    "              'band': [4],\n",
    "              'atmpro': 'mls',\n",
    "              'tsfc': 294,}\n",
    "\n",
    "    atmpros = [('mls', 294), ('saw', 257), ('trp', 300)]\n",
    "\n",
    "    params = []\n",
    "    for atmpro, tsfc in atmpros:\n",
    "        param = param0.copy() \n",
    "        param['atmpro'] = atmpro\n",
    "        param['tsfc'] = tsfc\n",
    "        params.append(param)\n",
    "        \n",
    "    return params\n",
    "\n",
    "\n",
    "\n",
    "def script():\n",
    "    for param in get_params():\n",
    "        try:\n",
    "            fdir = pipeline.get_fortran_dir(param=param, setup=setup)\n",
    "            shutil.rmtree(fdir)\n",
    "        except FileNotFoundError:\n",
    "            pass\n",
    "        \n",
    "        fproc = pipeline.run_fortran(param=param, setup=setup)"
   ]
  },
  {
   "cell_type": "code",
   "execution_count": 64,
   "metadata": {},
   "outputs": [
    {
     "name": "stdout",
     "output_type": "stream",
     "text": [
      "{'atmpro': 'mls',\n",
      " 'band': [4],\n",
      " 'commitnumber': 'a6676f4',\n",
      " 'molecule': {'co2': 0.0004},\n",
      " 'tsfc': 294}\n",
      "{'atmpro': 'saw',\n",
      " 'band': [4],\n",
      " 'commitnumber': 'a6676f4',\n",
      " 'molecule': {'co2': 0.0004},\n",
      " 'tsfc': 257}\n",
      "{'atmpro': 'trp',\n",
      " 'band': [4],\n",
      " 'commitnumber': 'a6676f4',\n",
      " 'molecule': {'co2': 0.0004},\n",
      " 'tsfc': 300}\n"
     ]
    }
   ],
   "source": [
    "script()"
   ]
  },
  {
   "cell_type": "markdown",
   "metadata": {},
   "source": [
    "## Save results in Mongodb"
   ]
  },
  {
   "cell_type": "code",
   "execution_count": 69,
   "metadata": {
    "collapsed": true
   },
   "outputs": [],
   "source": [
    "client = pymongo.MongoClient('localhost', 27017)\n",
    "db = client.cliradnew\n",
    "collection = db.lw"
   ]
  },
  {
   "cell_type": "code",
   "execution_count": 76,
   "metadata": {
    "collapsed": true
   },
   "outputs": [],
   "source": [
    "def make_doc(param=None):\n",
    "    '''\n",
    "    Make Mongodb document for a cliradlw run.\n",
    "    \n",
    "    Parameters\n",
    "    ----------\n",
    "    param: dict\n",
    "        clirad-lw input parameters.\n",
    "    doc: dict\n",
    "        clirad-lw input (`param`) and output (flux and cooling rate)\n",
    "    '''\n",
    "    dir_fortran = pipeline.get_fortran_dir(param=param, \n",
    "                                           setup=setup)\n",
    "    \n",
    "    fnames = ['output_flux.dat', 'output_coolr.dat']\n",
    "    \n",
    "    s_outputs = []\n",
    "    for fname in fnames:\n",
    "        with open(os.path.join(dir_fortran, fname),\n",
    "                  mode='r', encoding='utf-8') as f:\n",
    "            s = f.read()\n",
    "            \n",
    "        s_outputs.append(s)\n",
    "        \n",
    "    doc = {fname.split('.')[0]: s\n",
    "           for fname, s in zip(fnames, s_outputs)}\n",
    "    doc['param'] = param\n",
    "    return doc"
   ]
  },
  {
   "cell_type": "code",
   "execution_count": 72,
   "metadata": {},
   "outputs": [],
   "source": [
    "params = get_params()"
   ]
  },
  {
   "cell_type": "code",
   "execution_count": 77,
   "metadata": {},
   "outputs": [
    {
     "data": {
      "text/plain": [
       "<pymongo.results.InsertManyResult at 0x2b2690049558>"
      ]
     },
     "execution_count": 77,
     "metadata": {},
     "output_type": "execute_result"
    }
   ],
   "source": [
    "docs = (make_doc(param=param) for param in params)\n",
    "#collection.insert_many(docs)"
   ]
  },
  {
   "cell_type": "code",
   "execution_count": 78,
   "metadata": {},
   "outputs": [
    {
     "data": {
      "text/plain": [
       "156"
      ]
     },
     "execution_count": 78,
     "metadata": {},
     "output_type": "execute_result"
    }
   ],
   "source": [
    "collection.count()"
   ]
  },
  {
   "cell_type": "code",
   "execution_count": null,
   "metadata": {
    "collapsed": true
   },
   "outputs": [],
   "source": []
  }
 ],
 "metadata": {
  "kernelspec": {
   "display_name": "Python 3",
   "language": "python",
   "name": "python3"
  },
  "language_info": {
   "codemirror_mode": {
    "name": "ipython",
    "version": 3
   },
   "file_extension": ".py",
   "mimetype": "text/x-python",
   "name": "python",
   "nbconvert_exporter": "python",
   "pygments_lexer": "ipython3",
   "version": "3.6.1"
  }
 },
 "nbformat": 4,
 "nbformat_minor": 2
}

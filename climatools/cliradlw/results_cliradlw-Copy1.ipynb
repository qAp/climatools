{
 "cells": [
  {
   "cell_type": "code",
   "execution_count": 56,
   "metadata": {},
   "outputs": [],
   "source": [
    "%matplotlib inline\n",
    "import os\n",
    "import re\n",
    "import io\n",
    "import itertools\n",
    "import pprint\n",
    "\n",
    "from bokeh.io import output_notebook, show\n",
    "from bokeh.layouts import gridplot\n",
    "from bokeh.plotting import figure\n",
    "from bokeh.models import Range1d, Legend\n",
    "from bokeh.palettes import all_palettes\n",
    "\n",
    "import matplotlib\n",
    "import matplotlib.pyplot as plt\n",
    "import numpy as np\n",
    "import pandas as pd\n",
    "import xarray as xr\n",
    "\n",
    "import climatools.html.html as climahtml\n",
    "from climatools.lblnew.dataio import *\n",
    "from climatools.plot.plot import *\n",
    "\n",
    "import climatools.lblnew.bestfit_params as bestfits\n",
    "\n",
    "\n",
    "import IPython.display as display"
   ]
  },
  {
   "cell_type": "code",
   "execution_count": 57,
   "metadata": {},
   "outputs": [
    {
     "data": {
      "text/html": [
       "\n",
       "    <div class=\"bk-root\">\n",
       "        <a href=\"https://bokeh.pydata.org\" target=\"_blank\" class=\"bk-logo bk-logo-small bk-logo-notebook\"></a>\n",
       "        <span id=\"1c144b26-f750-46d2-a95a-a9d0010a34e4\">Loading BokehJS ...</span>\n",
       "    </div>"
      ]
     },
     "metadata": {},
     "output_type": "display_data"
    },
    {
     "data": {
      "application/javascript": [
       "\n",
       "(function(root) {\n",
       "  function now() {\n",
       "    return new Date();\n",
       "  }\n",
       "\n",
       "  var force = true;\n",
       "\n",
       "  if (typeof (root._bokeh_onload_callbacks) === \"undefined\" || force === true) {\n",
       "    root._bokeh_onload_callbacks = [];\n",
       "    root._bokeh_is_loading = undefined;\n",
       "  }\n",
       "\n",
       "  var JS_MIME_TYPE = 'application/javascript';\n",
       "  var HTML_MIME_TYPE = 'text/html';\n",
       "  var EXEC_MIME_TYPE = 'application/vnd.bokehjs_exec.v0+json';\n",
       "  var CLASS_NAME = 'output_bokeh rendered_html';\n",
       "\n",
       "  /**\n",
       "   * Render data to the DOM node\n",
       "   */\n",
       "  function render(props, node) {\n",
       "    var script = document.createElement(\"script\");\n",
       "    node.appendChild(script);\n",
       "  }\n",
       "\n",
       "  /**\n",
       "   * Handle when an output is cleared or removed\n",
       "   */\n",
       "  function handleClearOutput(event, handle) {\n",
       "    var cell = handle.cell;\n",
       "\n",
       "    var id = cell.output_area._bokeh_element_id;\n",
       "    var server_id = cell.output_area._bokeh_server_id;\n",
       "    // Clean up Bokeh references\n",
       "    if (id !== undefined) {\n",
       "      Bokeh.index[id].model.document.clear();\n",
       "      delete Bokeh.index[id];\n",
       "    }\n",
       "\n",
       "    if (server_id !== undefined) {\n",
       "      // Clean up Bokeh references\n",
       "      var cmd = \"from bokeh.io.state import curstate; print(curstate().uuid_to_server['\" + server_id + \"'].get_sessions()[0].document.roots[0]._id)\";\n",
       "      cell.notebook.kernel.execute(cmd, {\n",
       "        iopub: {\n",
       "          output: function(msg) {\n",
       "            var element_id = msg.content.text.trim();\n",
       "            Bokeh.index[element_id].model.document.clear();\n",
       "            delete Bokeh.index[element_id];\n",
       "          }\n",
       "        }\n",
       "      });\n",
       "      // Destroy server and session\n",
       "      var cmd = \"import bokeh.io.notebook as ion; ion.destroy_server('\" + server_id + \"')\";\n",
       "      cell.notebook.kernel.execute(cmd);\n",
       "    }\n",
       "  }\n",
       "\n",
       "  /**\n",
       "   * Handle when a new output is added\n",
       "   */\n",
       "  function handleAddOutput(event, handle) {\n",
       "    var output_area = handle.output_area;\n",
       "    var output = handle.output;\n",
       "\n",
       "    // limit handleAddOutput to display_data with EXEC_MIME_TYPE content only\n",
       "    if ((output.output_type != \"display_data\") || (!output.data.hasOwnProperty(EXEC_MIME_TYPE))) {\n",
       "      return\n",
       "    }\n",
       "\n",
       "    var toinsert = output_area.element.find(\".\" + CLASS_NAME.split(' ')[0]);\n",
       "\n",
       "    if (output.metadata[EXEC_MIME_TYPE][\"id\"] !== undefined) {\n",
       "      toinsert[0].firstChild.textContent = output.data[JS_MIME_TYPE];\n",
       "      // store reference to embed id on output_area\n",
       "      output_area._bokeh_element_id = output.metadata[EXEC_MIME_TYPE][\"id\"];\n",
       "    }\n",
       "    if (output.metadata[EXEC_MIME_TYPE][\"server_id\"] !== undefined) {\n",
       "      var bk_div = document.createElement(\"div\");\n",
       "      bk_div.innerHTML = output.data[HTML_MIME_TYPE];\n",
       "      var script_attrs = bk_div.children[0].attributes;\n",
       "      for (var i = 0; i < script_attrs.length; i++) {\n",
       "        toinsert[0].firstChild.setAttribute(script_attrs[i].name, script_attrs[i].value);\n",
       "      }\n",
       "      // store reference to server id on output_area\n",
       "      output_area._bokeh_server_id = output.metadata[EXEC_MIME_TYPE][\"server_id\"];\n",
       "    }\n",
       "  }\n",
       "\n",
       "  function register_renderer(events, OutputArea) {\n",
       "\n",
       "    function append_mime(data, metadata, element) {\n",
       "      // create a DOM node to render to\n",
       "      var toinsert = this.create_output_subarea(\n",
       "        metadata,\n",
       "        CLASS_NAME,\n",
       "        EXEC_MIME_TYPE\n",
       "      );\n",
       "      this.keyboard_manager.register_events(toinsert);\n",
       "      // Render to node\n",
       "      var props = {data: data, metadata: metadata[EXEC_MIME_TYPE]};\n",
       "      render(props, toinsert[0]);\n",
       "      element.append(toinsert);\n",
       "      return toinsert\n",
       "    }\n",
       "\n",
       "    /* Handle when an output is cleared or removed */\n",
       "    events.on('clear_output.CodeCell', handleClearOutput);\n",
       "    events.on('delete.Cell', handleClearOutput);\n",
       "\n",
       "    /* Handle when a new output is added */\n",
       "    events.on('output_added.OutputArea', handleAddOutput);\n",
       "\n",
       "    /**\n",
       "     * Register the mime type and append_mime function with output_area\n",
       "     */\n",
       "    OutputArea.prototype.register_mime_type(EXEC_MIME_TYPE, append_mime, {\n",
       "      /* Is output safe? */\n",
       "      safe: true,\n",
       "      /* Index of renderer in `output_area.display_order` */\n",
       "      index: 0\n",
       "    });\n",
       "  }\n",
       "\n",
       "  // register the mime type if in Jupyter Notebook environment and previously unregistered\n",
       "  if (root.Jupyter !== undefined) {\n",
       "    var events = require('base/js/events');\n",
       "    var OutputArea = require('notebook/js/outputarea').OutputArea;\n",
       "\n",
       "    if (OutputArea.prototype.mime_types().indexOf(EXEC_MIME_TYPE) == -1) {\n",
       "      register_renderer(events, OutputArea);\n",
       "    }\n",
       "  }\n",
       "\n",
       "  \n",
       "  if (typeof (root._bokeh_timeout) === \"undefined\" || force === true) {\n",
       "    root._bokeh_timeout = Date.now() + 5000;\n",
       "    root._bokeh_failed_load = false;\n",
       "  }\n",
       "\n",
       "  var NB_LOAD_WARNING = {'data': {'text/html':\n",
       "     \"<div style='background-color: #fdd'>\\n\"+\n",
       "     \"<p>\\n\"+\n",
       "     \"BokehJS does not appear to have successfully loaded. If loading BokehJS from CDN, this \\n\"+\n",
       "     \"may be due to a slow or bad network connection. Possible fixes:\\n\"+\n",
       "     \"</p>\\n\"+\n",
       "     \"<ul>\\n\"+\n",
       "     \"<li>re-rerun `output_notebook()` to attempt to load from CDN again, or</li>\\n\"+\n",
       "     \"<li>use INLINE resources instead, as so:</li>\\n\"+\n",
       "     \"</ul>\\n\"+\n",
       "     \"<code>\\n\"+\n",
       "     \"from bokeh.resources import INLINE\\n\"+\n",
       "     \"output_notebook(resources=INLINE)\\n\"+\n",
       "     \"</code>\\n\"+\n",
       "     \"</div>\"}};\n",
       "\n",
       "  function display_loaded() {\n",
       "    var el = document.getElementById(\"1c144b26-f750-46d2-a95a-a9d0010a34e4\");\n",
       "    if (el != null) {\n",
       "      el.textContent = \"BokehJS is loading...\";\n",
       "    }\n",
       "    if (root.Bokeh !== undefined) {\n",
       "      if (el != null) {\n",
       "        el.textContent = \"BokehJS \" + root.Bokeh.version + \" successfully loaded.\";\n",
       "      }\n",
       "    } else if (Date.now() < root._bokeh_timeout) {\n",
       "      setTimeout(display_loaded, 100)\n",
       "    }\n",
       "  }\n",
       "\n",
       "\n",
       "  function run_callbacks() {\n",
       "    try {\n",
       "      root._bokeh_onload_callbacks.forEach(function(callback) { callback() });\n",
       "    }\n",
       "    finally {\n",
       "      delete root._bokeh_onload_callbacks\n",
       "    }\n",
       "    console.info(\"Bokeh: all callbacks have finished\");\n",
       "  }\n",
       "\n",
       "  function load_libs(js_urls, callback) {\n",
       "    root._bokeh_onload_callbacks.push(callback);\n",
       "    if (root._bokeh_is_loading > 0) {\n",
       "      console.log(\"Bokeh: BokehJS is being loaded, scheduling callback at\", now());\n",
       "      return null;\n",
       "    }\n",
       "    if (js_urls == null || js_urls.length === 0) {\n",
       "      run_callbacks();\n",
       "      return null;\n",
       "    }\n",
       "    console.log(\"Bokeh: BokehJS not loaded, scheduling load and callback at\", now());\n",
       "    root._bokeh_is_loading = js_urls.length;\n",
       "    for (var i = 0; i < js_urls.length; i++) {\n",
       "      var url = js_urls[i];\n",
       "      var s = document.createElement('script');\n",
       "      s.src = url;\n",
       "      s.async = false;\n",
       "      s.onreadystatechange = s.onload = function() {\n",
       "        root._bokeh_is_loading--;\n",
       "        if (root._bokeh_is_loading === 0) {\n",
       "          console.log(\"Bokeh: all BokehJS libraries loaded\");\n",
       "          run_callbacks()\n",
       "        }\n",
       "      };\n",
       "      s.onerror = function() {\n",
       "        console.warn(\"failed to load library \" + url);\n",
       "      };\n",
       "      console.log(\"Bokeh: injecting script tag for BokehJS library: \", url);\n",
       "      document.getElementsByTagName(\"head\")[0].appendChild(s);\n",
       "    }\n",
       "  };var element = document.getElementById(\"1c144b26-f750-46d2-a95a-a9d0010a34e4\");\n",
       "  if (element == null) {\n",
       "    console.log(\"Bokeh: ERROR: autoload.js configured with elementid '1c144b26-f750-46d2-a95a-a9d0010a34e4' but no matching script tag was found. \")\n",
       "    return false;\n",
       "  }\n",
       "\n",
       "  var js_urls = [\"https://cdn.pydata.org/bokeh/release/bokeh-0.12.14.min.js\", \"https://cdn.pydata.org/bokeh/release/bokeh-widgets-0.12.14.min.js\", \"https://cdn.pydata.org/bokeh/release/bokeh-tables-0.12.14.min.js\", \"https://cdn.pydata.org/bokeh/release/bokeh-gl-0.12.14.min.js\"];\n",
       "\n",
       "  var inline_js = [\n",
       "    function(Bokeh) {\n",
       "      Bokeh.set_log_level(\"info\");\n",
       "    },\n",
       "    \n",
       "    function(Bokeh) {\n",
       "      \n",
       "    },\n",
       "    function(Bokeh) {\n",
       "      console.log(\"Bokeh: injecting CSS: https://cdn.pydata.org/bokeh/release/bokeh-0.12.14.min.css\");\n",
       "      Bokeh.embed.inject_css(\"https://cdn.pydata.org/bokeh/release/bokeh-0.12.14.min.css\");\n",
       "      console.log(\"Bokeh: injecting CSS: https://cdn.pydata.org/bokeh/release/bokeh-widgets-0.12.14.min.css\");\n",
       "      Bokeh.embed.inject_css(\"https://cdn.pydata.org/bokeh/release/bokeh-widgets-0.12.14.min.css\");\n",
       "      console.log(\"Bokeh: injecting CSS: https://cdn.pydata.org/bokeh/release/bokeh-tables-0.12.14.min.css\");\n",
       "      Bokeh.embed.inject_css(\"https://cdn.pydata.org/bokeh/release/bokeh-tables-0.12.14.min.css\");\n",
       "    }\n",
       "  ];\n",
       "\n",
       "  function run_inline_js() {\n",
       "    \n",
       "    if ((root.Bokeh !== undefined) || (force === true)) {\n",
       "      for (var i = 0; i < inline_js.length; i++) {\n",
       "        inline_js[i].call(root, root.Bokeh);\n",
       "      }if (force === true) {\n",
       "        display_loaded();\n",
       "      }} else if (Date.now() < root._bokeh_timeout) {\n",
       "      setTimeout(run_inline_js, 100);\n",
       "    } else if (!root._bokeh_failed_load) {\n",
       "      console.log(\"Bokeh: BokehJS failed to load within specified timeout.\");\n",
       "      root._bokeh_failed_load = true;\n",
       "    } else if (force !== true) {\n",
       "      var cell = $(document.getElementById(\"1c144b26-f750-46d2-a95a-a9d0010a34e4\")).parents('.cell').data().cell;\n",
       "      cell.output_area.append_execute_result(NB_LOAD_WARNING)\n",
       "    }\n",
       "\n",
       "  }\n",
       "\n",
       "  if (root._bokeh_is_loading === 0) {\n",
       "    console.log(\"Bokeh: BokehJS loaded, going straight to plotting\");\n",
       "    run_inline_js();\n",
       "  } else {\n",
       "    load_libs(js_urls, function() {\n",
       "      console.log(\"Bokeh: BokehJS plotting callback run at\", now());\n",
       "      run_inline_js();\n",
       "    });\n",
       "  }\n",
       "}(window));"
      ],
      "application/vnd.bokehjs_load.v0+json": "\n(function(root) {\n  function now() {\n    return new Date();\n  }\n\n  var force = true;\n\n  if (typeof (root._bokeh_onload_callbacks) === \"undefined\" || force === true) {\n    root._bokeh_onload_callbacks = [];\n    root._bokeh_is_loading = undefined;\n  }\n\n  \n\n  \n  if (typeof (root._bokeh_timeout) === \"undefined\" || force === true) {\n    root._bokeh_timeout = Date.now() + 5000;\n    root._bokeh_failed_load = false;\n  }\n\n  var NB_LOAD_WARNING = {'data': {'text/html':\n     \"<div style='background-color: #fdd'>\\n\"+\n     \"<p>\\n\"+\n     \"BokehJS does not appear to have successfully loaded. If loading BokehJS from CDN, this \\n\"+\n     \"may be due to a slow or bad network connection. Possible fixes:\\n\"+\n     \"</p>\\n\"+\n     \"<ul>\\n\"+\n     \"<li>re-rerun `output_notebook()` to attempt to load from CDN again, or</li>\\n\"+\n     \"<li>use INLINE resources instead, as so:</li>\\n\"+\n     \"</ul>\\n\"+\n     \"<code>\\n\"+\n     \"from bokeh.resources import INLINE\\n\"+\n     \"output_notebook(resources=INLINE)\\n\"+\n     \"</code>\\n\"+\n     \"</div>\"}};\n\n  function display_loaded() {\n    var el = document.getElementById(\"1c144b26-f750-46d2-a95a-a9d0010a34e4\");\n    if (el != null) {\n      el.textContent = \"BokehJS is loading...\";\n    }\n    if (root.Bokeh !== undefined) {\n      if (el != null) {\n        el.textContent = \"BokehJS \" + root.Bokeh.version + \" successfully loaded.\";\n      }\n    } else if (Date.now() < root._bokeh_timeout) {\n      setTimeout(display_loaded, 100)\n    }\n  }\n\n\n  function run_callbacks() {\n    try {\n      root._bokeh_onload_callbacks.forEach(function(callback) { callback() });\n    }\n    finally {\n      delete root._bokeh_onload_callbacks\n    }\n    console.info(\"Bokeh: all callbacks have finished\");\n  }\n\n  function load_libs(js_urls, callback) {\n    root._bokeh_onload_callbacks.push(callback);\n    if (root._bokeh_is_loading > 0) {\n      console.log(\"Bokeh: BokehJS is being loaded, scheduling callback at\", now());\n      return null;\n    }\n    if (js_urls == null || js_urls.length === 0) {\n      run_callbacks();\n      return null;\n    }\n    console.log(\"Bokeh: BokehJS not loaded, scheduling load and callback at\", now());\n    root._bokeh_is_loading = js_urls.length;\n    for (var i = 0; i < js_urls.length; i++) {\n      var url = js_urls[i];\n      var s = document.createElement('script');\n      s.src = url;\n      s.async = false;\n      s.onreadystatechange = s.onload = function() {\n        root._bokeh_is_loading--;\n        if (root._bokeh_is_loading === 0) {\n          console.log(\"Bokeh: all BokehJS libraries loaded\");\n          run_callbacks()\n        }\n      };\n      s.onerror = function() {\n        console.warn(\"failed to load library \" + url);\n      };\n      console.log(\"Bokeh: injecting script tag for BokehJS library: \", url);\n      document.getElementsByTagName(\"head\")[0].appendChild(s);\n    }\n  };var element = document.getElementById(\"1c144b26-f750-46d2-a95a-a9d0010a34e4\");\n  if (element == null) {\n    console.log(\"Bokeh: ERROR: autoload.js configured with elementid '1c144b26-f750-46d2-a95a-a9d0010a34e4' but no matching script tag was found. \")\n    return false;\n  }\n\n  var js_urls = [\"https://cdn.pydata.org/bokeh/release/bokeh-0.12.14.min.js\", \"https://cdn.pydata.org/bokeh/release/bokeh-widgets-0.12.14.min.js\", \"https://cdn.pydata.org/bokeh/release/bokeh-tables-0.12.14.min.js\", \"https://cdn.pydata.org/bokeh/release/bokeh-gl-0.12.14.min.js\"];\n\n  var inline_js = [\n    function(Bokeh) {\n      Bokeh.set_log_level(\"info\");\n    },\n    \n    function(Bokeh) {\n      \n    },\n    function(Bokeh) {\n      console.log(\"Bokeh: injecting CSS: https://cdn.pydata.org/bokeh/release/bokeh-0.12.14.min.css\");\n      Bokeh.embed.inject_css(\"https://cdn.pydata.org/bokeh/release/bokeh-0.12.14.min.css\");\n      console.log(\"Bokeh: injecting CSS: https://cdn.pydata.org/bokeh/release/bokeh-widgets-0.12.14.min.css\");\n      Bokeh.embed.inject_css(\"https://cdn.pydata.org/bokeh/release/bokeh-widgets-0.12.14.min.css\");\n      console.log(\"Bokeh: injecting CSS: https://cdn.pydata.org/bokeh/release/bokeh-tables-0.12.14.min.css\");\n      Bokeh.embed.inject_css(\"https://cdn.pydata.org/bokeh/release/bokeh-tables-0.12.14.min.css\");\n    }\n  ];\n\n  function run_inline_js() {\n    \n    if ((root.Bokeh !== undefined) || (force === true)) {\n      for (var i = 0; i < inline_js.length; i++) {\n        inline_js[i].call(root, root.Bokeh);\n      }if (force === true) {\n        display_loaded();\n      }} else if (Date.now() < root._bokeh_timeout) {\n      setTimeout(run_inline_js, 100);\n    } else if (!root._bokeh_failed_load) {\n      console.log(\"Bokeh: BokehJS failed to load within specified timeout.\");\n      root._bokeh_failed_load = true;\n    } else if (force !== true) {\n      var cell = $(document.getElementById(\"1c144b26-f750-46d2-a95a-a9d0010a34e4\")).parents('.cell').data().cell;\n      cell.output_area.append_execute_result(NB_LOAD_WARNING)\n    }\n\n  }\n\n  if (root._bokeh_is_loading === 0) {\n    console.log(\"Bokeh: BokehJS loaded, going straight to plotting\");\n    run_inline_js();\n  } else {\n    load_libs(js_urls, function() {\n      console.log(\"Bokeh: BokehJS plotting callback run at\", now());\n      run_inline_js();\n    });\n  }\n}(window));"
     },
     "metadata": {},
     "output_type": "display_data"
    }
   ],
   "source": [
    "output_notebook()"
   ]
  },
  {
   "cell_type": "code",
   "execution_count": 58,
   "metadata": {
    "collapsed": true
   },
   "outputs": [],
   "source": [
    "%run param.py"
   ]
  },
  {
   "cell_type": "code",
   "execution_count": 59,
   "metadata": {
    "collapsed": true
   },
   "outputs": [],
   "source": [
    "# clirad's flux and cooling rate\n",
    "PATH_FLUX_CLIRAD = os.path.join(DIR_FORTRAN, 'output_flux.dat')\n",
    "PATH_COOLR_CLIRAD = os.path.join(DIR_FORTRAN, 'output_coolr.dat')"
   ]
  },
  {
   "cell_type": "code",
   "execution_count": 60,
   "metadata": {
    "collapsed": true
   },
   "outputs": [],
   "source": [
    "# lblnew's CRD flux and cooling rate\n",
    "PATH_FLUX_LBLNEW = os.path.join(DIR_FORTRAN_LBLNEW, 'output_flux.dat')\n",
    "PATH_COOLR_LBLNEW = os.path.join(DIR_FORTRAN_LBLNEW, 'output_coolr.dat')"
   ]
  },
  {
   "cell_type": "code",
   "execution_count": 61,
   "metadata": {
    "collapsed": true
   },
   "outputs": [],
   "source": [
    "# lblnew's k-dist, transf/diffusivity flux and cooling rate\n",
    "PATH_WFLUX_LBLNEW = os.path.join(DIR_FORTRAN_LBLNEW, 'output_wflux.dat')\n",
    "PATH_WCOOLR_LBLNEW = os.path.join(DIR_FORTRAN_LBLNEW, 'output_wcoolr.dat')"
   ]
  },
  {
   "cell_type": "code",
   "execution_count": 62,
   "metadata": {
    "collapsed": true
   },
   "outputs": [],
   "source": [
    "def load_output_file(path_csv):\n",
    "    '''\n",
    "    Load lblnew output .csv file to xarray.Dataset\n",
    "    \n",
    "    Parameters\n",
    "    ----------\n",
    "    path_csv: str\n",
    "              Path to the .csv file to be loaded.\n",
    "    ds: xarray.Dataset\n",
    "        Data in the input file in the form of an xarray.Dataset.\n",
    "    '''\n",
    "    toindex = ['band', 'pressure', 'igg', 'g']    \n",
    "    df = pd.read_csv(path_csv, sep=r'\\s+')\n",
    "    df = df.set_index([i for i in toindex if i in df.columns])\n",
    "    df = df.rename(columns={'sfu': 'flug',\n",
    "                            'sfd': 'fldg',\n",
    "                            'fnet': 'fnetg',\n",
    "                            'coolr': 'coolrg'})\n",
    "    ds = xr.Dataset.from_dataframe(df)\n",
    "    return ds"
   ]
  },
  {
   "cell_type": "code",
   "execution_count": 63,
   "metadata": {
    "collapsed": true
   },
   "outputs": [],
   "source": [
    "DS_FLUX_CLIRAD = load_output_file(PATH_FLUX_CLIRAD)\n",
    "DS_COOLR_CLIRAD = load_output_file(PATH_COOLR_CLIRAD)"
   ]
  },
  {
   "cell_type": "code",
   "execution_count": 64,
   "metadata": {
    "collapsed": true
   },
   "outputs": [],
   "source": [
    "DS_FLUX_LBLNEW = load_output_file(PATH_FLUX_LBLNEW)\n",
    "DS_COOLR_LBLNEW = load_output_file(PATH_COOLR_LBLNEW)\n",
    "DS_WFLUX_LBLNEW = load_output_file(PATH_WFLUX_LBLNEW)\n",
    "DS_WCOOLR_LBLNEW = load_output_file(PATH_WCOOLR_LBLNEW)"
   ]
  },
  {
   "cell_type": "code",
   "execution_count": 65,
   "metadata": {
    "collapsed": true
   },
   "outputs": [],
   "source": [
    "def pltdata_cooling_1(ds_coolr_clirad=None,\n",
    "                      ds_coolrg_lblnew=None, ds_wcoolrg_lblnew=None,\n",
    "                      ds_coolr_lblnew=None, ds_wcoolr_lblnew=None):\n",
    "    colors = all_palettes['Set1'][4]\n",
    "    data = [{'label': 'CLIRAD `coolr_bands`',\n",
    "             'srs': ds_coolr_clirad['coolrg'].sel(band=11),\n",
    "             'line_dash': 'dashed', 'line_width': 5,\n",
    "             'color': colors[0], 'alpha': .6},\n",
    "            {'label': 'CRD',\n",
    "             'srs': ds_coolr_lblnew['coolrg'],\n",
    "             'line_dash': 'solid', 'line_width': 1.5,\n",
    "             'marker': 'circle', 'marker_size': 5,\n",
    "             'color': colors[2], 'alpha': 1,},\n",
    "            {'label': 'WGT igg=10 wgt_flux=2',\n",
    "             'srs': ds_wcoolr_lblnew['coolrg'].sel(igg=10),\n",
    "             'line_dash': 'solid', 'line_width': 3,\n",
    "             'marker': 'square', 'marker_size': 5,\n",
    "             'color': colors[3], 'alpha': .6}]\n",
    "    return data\n",
    "\n",
    "\n",
    "\n",
    "def nice_xlims(pltdata=None, prange=None):\n",
    "    \n",
    "    def get_slice(srs):\n",
    "        return srs.sel(pressure=slice(*prange))\n",
    "    \n",
    "    srss = [d['srs'] for d in pltdata]\n",
    "    vmin = min([get_slice(srs).min() for srs in srss])\n",
    "    vmax = max([get_slice(srs).max() for srs in srss])\n",
    "    dv = (vmax - vmin) * .01\n",
    "    return float(vmin - dv), float(vmax + dv)\n",
    "    \n",
    "\n",
    "def plt_cooling_bokeh(pltdata=None):\n",
    "    '''\n",
    "    Plot a list of cooling rate profiles using bokeh.\n",
    "    '''\n",
    "    ymin = 1e-2 \n",
    "    ymax = 1020 \n",
    "        \n",
    "    p1 = figure(title=\"Linear pressure scale\", \n",
    "                plot_width=400)        \n",
    "    xmin, xmax = nice_xlims(pltdata, prange=(50, 1050))\n",
    "    for d in pltdata:\n",
    "        if 'marker' in d:\n",
    "            getattr(p1, d['marker'])(d['srs'].values, \n",
    "                    d['srs'].coords['pressure'].values,\n",
    "                    color=d['color'], alpha=.7)\n",
    "        p1.line(d['srs'].values, \n",
    "                d['srs'].coords['pressure'].values,\n",
    "                color=d['color'], alpha=d['alpha'], \n",
    "                line_width=d['line_width'], line_dash=d['line_dash'])\n",
    "    \n",
    "    p1.y_range = Range1d(ymax, ymin)\n",
    "    p1.yaxis.axis_label = 'pressure [mb]'   \n",
    "    p1.x_range = Range1d(xmin, xmax)\n",
    "    p1.xaxis.axis_label = 'cooling rate [K/day]'\n",
    "            \n",
    "    p2 = figure(title='Log pressure scale', y_axis_type='log',\n",
    "                plot_width=560)\n",
    "    xmin, xmax = nice_xlims(pltdata, prange=(.01, 200))\n",
    "    \n",
    "    rs = []\n",
    "    for d in pltdata:\n",
    "        rd = []\n",
    "        if 'marker' in d:\n",
    "            r_mark = getattr(p2, d['marker'])(d['srs'].values, \n",
    "                        d['srs'].coords['pressure'].values,\n",
    "                        color=d['color'], alpha=.7)\n",
    "            rd.append(r_mark)\n",
    "        r_line = p2.line(d['srs'].values, \n",
    "                    d['srs'].coords['pressure'].values,\n",
    "                    color=d['color'], alpha=d['alpha'], \n",
    "                    line_width=d['line_width'], line_dash=d['line_dash'])\n",
    "        rd.append(r_line)\n",
    "      \n",
    "        rs.append(rd)\n",
    "        \n",
    "    p2.y_range = Range1d(ymax, ymin)  \n",
    "    p2.yaxis.axis_label = 'pressure [mb]'\n",
    "    \n",
    "    p2.x_range = Range1d(xmin, xmax)\n",
    "    p2.xaxis.axis_label = 'cooling rate [K/day]'\n",
    "    \n",
    "    items = [(d['label'], r) for r, d in zip(rs, pltdata)]\n",
    "    legend = Legend(items=items, location=(10, -30))\n",
    "    legend.label_text_font_size = '8pt'\n",
    "    \n",
    "    p2.add_layout(legend, 'right')  \n",
    "    \n",
    "    show(gridplot(p1, p2, ncols=2, plot_height=500))\n",
    "    \n",
    "\n",
    "def script_plt_cooling():\n",
    "    pltdata = pltdata_cooling_1(\n",
    "        ds_coolr_clirad=DS_COOLR_CLIRAD,\n",
    "        ds_coolr_lblnew=DS_COOLR_LBLNEW,\n",
    "        ds_wcoolr_lblnew=DS_WCOOLR_LBLNEW)\n",
    "    plt_cooling_bokeh(pltdata=pltdata)\n",
    "    print('''FIGURE. Cooling rate profiles.''')"
   ]
  },
  {
   "cell_type": "code",
   "execution_count": 66,
   "metadata": {
    "collapsed": true
   },
   "outputs": [],
   "source": [
    "\n",
    "def tbdata_flux(ds_flux_clirad=None,\n",
    "                ds_fluxg_lblnew=None, ds_wfluxg_lblnew=None,\n",
    "                ds_flux_lblnew=None, ds_wflux_lblnew=None):\n",
    "    ilevels = [0, 23, -1]\n",
    "    \n",
    "    def fmt(ds):\n",
    "        return ds.isel(pressure=ilevels)\\\n",
    "                 .to_dataframe()\\\n",
    "                 .set_index('level', append=True)\\\n",
    "                 .drop('igg', axis=1, errors='ignore')\\\n",
    "                 .drop('band', axis=1, errors='ignore')\\\n",
    "                 .groupby(['pressure', 'level']).sum()\n",
    "            \n",
    "    benchmark = {'label': 'WGT igg=10 wgt_flux=1',\n",
    "                 'df': fmt(ds_wflux_lblnew.sel(igg=10))}\n",
    "    \n",
    "    \n",
    "    tbs = [{'label': 'CRD',\n",
    "            'df': fmt(ds_flux_lblnew)},\n",
    "           {'label': 'CLIRAD',\n",
    "            'df': fmt(ds_flux_clirad.sel(band=11))}]\n",
    "    \n",
    "    data = {'benchmark': benchmark, 'others': tbs}\n",
    "    return data\n",
    "\n",
    "\n",
    "def tb_flux(tbdata=None):\n",
    "    benchmark = tbdata['benchmark']\n",
    "    others = tbdata['others']\n",
    "    \n",
    "    def show_tb(d=None):\n",
    "        display.display(d['df'])\n",
    "        print('Table.', 'Fluxes.', d['label'])\n",
    "        \n",
    "    def show_tbdiff(d0=None, d=None):\n",
    "        df = d['df']\n",
    "        df.index = d0['df'].index\n",
    "        display.display(df - d0['df'])\n",
    "        print('Table.', 'Fluxes.', \n",
    "              '({}) - ({})'.format(d['label'], d0['label']))\n",
    "        \n",
    "    show_tb(benchmark)\n",
    "    for d in others:\n",
    "        show_tb(d)\n",
    "        \n",
    "    for d in others:\n",
    "        show_tbdiff(d=d, d0=benchmark)\n",
    "        \n",
    "        \n",
    "def script_tb_flux():\n",
    "    data = tbdata_flux(ds_flux_clirad=DS_FLUX_CLIRAD,\n",
    "                       ds_flux_lblnew=DS_FLUX_LBLNEW,\n",
    "                       ds_wflux_lblnew=DS_WFLUX_LBLNEW)\n",
    "    tb_flux(tbdata=data)"
   ]
  },
  {
   "cell_type": "code",
   "execution_count": 67,
   "metadata": {},
   "outputs": [],
   "source": [
    "def band_map():\n",
    "    '''\n",
    "    Maps spectral bands in lblnew to spectral bands in clirad.\n",
    "    '''\n",
    "    lblnew2clirad = {'1': '1',\n",
    "            '2': '2',\n",
    "            '3a': '3',\n",
    "            '3b': '4',\n",
    "            '3c': '5',\n",
    "            '4': '6', \n",
    "            '5': '7',\n",
    "            '6': '8',\n",
    "            '7': '9', \n",
    "            '8': '10',\n",
    "            '9': '11'}\n",
    "    \n",
    "    clirad2lblnew = {clirad: lblnew \n",
    "                     for lblnew, clirad in lblnew2clirad.items()}\n",
    "    return clirad2lblnew\n",
    "\n",
    "\n",
    "def gasbands():\n",
    "    bmap = band_map()\n",
    "    gases = list(PARAM['molecule'].keys())\n",
    "    \n",
    "    bands = [bmap[str(b)] for b in PARAM['band']]\n",
    "    return list(itertools.product(gases, bands))\n",
    "\n",
    "\n",
    "def print_bestfit_params():\n",
    "    print('Best-fit values for each (gas, band)')\n",
    "    print('------------------------------------')\n",
    "    for gas, band in gasbands():\n",
    "        print('o {} band{}'.format(gas, band))\n",
    "        #pprint.pprint(bestfits.kdist_params(molecule=gas, band=band))\n",
    "        param = bestfits.kdist_params(molecule=gas, band=band)\n",
    "        for name, value in param.items():\n",
    "            print(2 * ' ' + '{} = {}'.format(name, value))\n",
    "\n",
    "        \n",
    "def print_input_param():        \n",
    "    for name, value in PARAM.items():\n",
    "        print('{} = {}'.format(name, value))\n",
    "\n",
    "        \n",
    "def display_input_param():\n",
    "    s = \"# Input parameters\"\n",
    "    display.display(display.Markdown(s))\n",
    "    print_input_param()\n",
    "\n",
    "\n",
    "def display_title():\n",
    "    s = \"### CLIRAD-LW\"\n",
    "    display.display(display.Markdown(s))\n",
    "    \n"
   ]
  },
  {
   "cell_type": "code",
   "execution_count": 70,
   "metadata": {
    "scrolled": false
   },
   "outputs": [
    {
     "data": {
      "text/markdown": [
       "### CLIRAD-LW"
      ],
      "text/plain": [
       "<IPython.core.display.Markdown object>"
      ]
     },
     "metadata": {},
     "output_type": "display_data"
    },
    {
     "data": {
      "text/markdown": [
       "### Table of Content"
      ],
      "text/plain": [
       "<IPython.core.display.Markdown object>"
      ]
     },
     "metadata": {},
     "output_type": "display_data"
    },
    {
     "data": {
      "text/html": [
       "<a href=\"#Input_Parameters\">Input Parameters</a>"
      ],
      "text/plain": [
       "<IPython.core.display.HTML object>"
      ]
     },
     "metadata": {},
     "output_type": "display_data"
    },
    {
     "data": {
      "text/html": [
       "<a href=\"#Cooling_Rate_Profiles\">Cooling Rate Profiles</a>"
      ],
      "text/plain": [
       "<IPython.core.display.HTML object>"
      ]
     },
     "metadata": {},
     "output_type": "display_data"
    },
    {
     "data": {
      "text/html": [
       "<a href=\"#Flux_Comparison\">Flux Comparison</a>"
      ],
      "text/plain": [
       "<IPython.core.display.HTML object>"
      ]
     },
     "metadata": {},
     "output_type": "display_data"
    },
    {
     "data": {
      "text/html": [
       "<a href=\"#Best-fit_Parameters\">Best-fit Parameters</a>"
      ],
      "text/plain": [
       "<IPython.core.display.HTML object>"
      ]
     },
     "metadata": {},
     "output_type": "display_data"
    },
    {
     "data": {
      "text/html": [
       "<a id=\"Input_Parameters\"></a>"
      ],
      "text/plain": [
       "<IPython.core.display.HTML object>"
      ]
     },
     "metadata": {},
     "output_type": "display_data"
    },
    {
     "data": {
      "text/markdown": [
       "# Input Parameters"
      ],
      "text/plain": [
       "<IPython.core.display.Markdown object>"
      ]
     },
     "metadata": {},
     "output_type": "display_data"
    },
    {
     "name": "stdout",
     "output_type": "stream",
     "text": [
      "atmpro = mls\n",
      "band = [11]\n",
      "commitnumber = d54f896\n",
      "molecule = {'h2o': 'atmpro', 'co2': 0.0004}\n",
      "tsfc = 294\n"
     ]
    },
    {
     "data": {
      "text/html": [
       "<a id=\"Cooling_Rate_Profiles\"></a>"
      ],
      "text/plain": [
       "<IPython.core.display.HTML object>"
      ]
     },
     "metadata": {},
     "output_type": "display_data"
    },
    {
     "data": {
      "text/markdown": [
       "# Cooling Rate Profiles"
      ],
      "text/plain": [
       "<IPython.core.display.Markdown object>"
      ]
     },
     "metadata": {},
     "output_type": "display_data"
    },
    {
     "data": {
      "text/html": [
       "\n",
       "<div class=\"bk-root\">\n",
       "    <div class=\"bk-plotdiv\" id=\"b90591bd-8c26-45ac-af4f-4ea54ab8b39c\"></div>\n",
       "</div>"
      ]
     },
     "metadata": {},
     "output_type": "display_data"
    },
    {
     "data": {
      "application/javascript": [
       "(function(root) {\n",
       "  function embed_document(root) {\n",
       "    \n",
       "  var docs_json = {\"4dba1f9a-86d5-42d2-8d7b-9625d58d5782\":{\"roots\":{\"references\":[{\"attributes\":{\"line_alpha\":0.1,\"line_color\":\"#1f77b4\",\"line_dash\":[6],\"line_width\":5,\"x\":{\"field\":\"x\"},\"y\":{\"field\":\"y\"}},\"id\":\"1e83cdc4-b13b-4787-8ad1-f2d55c891cc4\",\"type\":\"Line\"},{\"attributes\":{\"callback\":null,\"column_names\":[\"x\",\"y\"],\"data\":{\"x\":{\"__ndarray__\":\"95vDlMzawD9U4j5aqjeEPwX9/VH4zXg/V7xLgF7TUz+eyDMyP2xuv5X1Dd/R5YC/mq0aVoHyiL8d9a9jXnKQv6X1SmixZZS/M/VutxqVmL9z1cB/iEedvxYswSHVKaG/CiWgfT1DpL+TzBWeynupv8tZCg5Qlq+/X449zHXSsL+WoTFgt3Kvv2s2M1OKuKy/klAy7Sbupr8MhzErDHiWv4gaO5eYHZY/nQvIAzaMvj8pkq8EUmLRP6lzf9SqRtE/DDl885dtwz9slSt/aC21P5WExVrcfKc/+XQrOkg+mT+BVgUPeAWLP87LOHjsiHs/X5Q1bex5Yj++1f8rUVZEv8/Z2OazNVO/4FGUK845SL/T0lPt6IVLv6WgjE5ls1S/DAfyj6bRV7+lx9n2qapYv+wwCYNpEmC/QHlWFcxmZr9NUN15dsJpv6b8cg4oIGi/Kkf/DvdfZ7+kCvK3JYBnv614dRbOEWi/PdxOlvMwaL8BheMCoxVnvxlfi0jarmS/3PgGawvrYL8V0tNko4NXv4gHG4CTlUW/vCeC+vsiLD/jLqhSH39TPzBZHJsLxmI/JSlMQwQIbT8bFmBtvml0P6lvInykT3s/NhwUYUMvgj9zDyU0K9aGP3WO/B8ydYs/XQPKwrEQkD8HH1fe5nGSP69QPhnw7ZQ/Ud1Apz6Vlz9t4S0bk4GaPzB86ZIW050/mlGEuJi9oD+a3C9su3OiPy6GehOmnKM/PPOJdPMYpD+sX3RvAUWkP5BJz78gk6Q/UNFMiJ1PpT+ArIkABemmP748iJD/ca4/\",\"dtype\":\"float64\",\"shape\":[75]},\"y\":{\"__ndarray__\":\"GhExyth1ND/Sv8nbtpRIP2vylNV0PVE/aTum7souWD/At0SJ8fVgPw3Iuahxymc/MSNhhJWvcD/bTfBN02d3P2zb5nxnaoA/CD5h5MAGhz8NmeH1TyaQP+zrCsc9p5Y/LbKd76fGnz/bLW5ISEmmPww9YvTcQq8/JV2OstnstT8Er5Y7M8G+P0c+r3jqkcU/5h99k6ZBzj88bCIzFzjVP4enV8oyxN0//yH99nXg5D8qOpLLf0jtP5kqGJXUifQ/c9cS8kHP/D+/DpwzojQEQIEmwoanVwxA4lgXt9HgE0BSSZ2AJuIbQAMJih9jjiNA5q4l5INuK0AwTKYKRj0zQNv5fmq8/DpAaCJseHrtQkB/+zpwzoxKQM3MzMzMeFJAZmZmZmZqWEAAAAAAAFxeQM3MzMzMJmJAmpmZmZkfZUBmZmZmZhhoQDMzMzMzEWtAAAAAAAAKbkBmZmZmZoFwQM3MzMzM/XFAMzMzMzN6c0CamZmZmfZ0QAAAAAAAc3ZAZmZmZmbvd0DNzMzMzGt5QDMzMzMz6HpAmpmZmZlkfEAAAAAAAOF9QGZmZmZmXX9AZmZmZuZsgECamZmZGSuBQM3MzMxM6YFAAAAAAICngkAzMzMzs2WDQGZmZmbmI4RAmpmZmRnihEDNzMzMTKCFQAAAAACAXoZAMzMzM7Mch0BmZmZm5tqHQJqZmZkZmYhAzczMzExXiUAAAAAAgBWKQDMzMzOz04pAZmZmZuaRi0CamZmZGVCMQM3MzMxMDo1AAAAAAIDMjUAzMzMzs4qOQGZmZmbmSI9A\",\"dtype\":\"float64\",\"shape\":[75]}}},\"id\":\"e6d02a61-1e07-4a20-9848-e105f4cf1323\",\"type\":\"ColumnDataSource\"},{\"attributes\":{},\"id\":\"7c7fad92-da1c-451d-b671-373d00acf298\",\"type\":\"BasicTickFormatter\"},{\"attributes\":{\"line_alpha\":0.1,\"line_color\":\"#1f77b4\",\"line_width\":3,\"x\":{\"field\":\"x\"},\"y\":{\"field\":\"y\"}},\"id\":\"fbb45d55-cd26-40f9-bc55-b9425f5792f3\",\"type\":\"Line\"},{\"attributes\":{\"below\":[{\"id\":\"69665ae6-80f7-4623-820e-43009c766c7f\",\"type\":\"LinearAxis\"}],\"left\":[{\"id\":\"f5c3ac50-2155-4693-8b4b-ecb09e62a7ec\",\"type\":\"LogAxis\"}],\"plot_height\":500,\"plot_width\":560,\"renderers\":[{\"id\":\"69665ae6-80f7-4623-820e-43009c766c7f\",\"type\":\"LinearAxis\"},{\"id\":\"f0ad211a-606b-4ccb-9943-bb8f5beb29b6\",\"type\":\"Grid\"},{\"id\":\"f5c3ac50-2155-4693-8b4b-ecb09e62a7ec\",\"type\":\"LogAxis\"},{\"id\":\"36af1086-090a-433d-a86c-4350a17d185a\",\"type\":\"Grid\"},{\"id\":\"1e4640eb-6bd2-4dcf-b5a8-615940da4cfb\",\"type\":\"BoxAnnotation\"},{\"id\":\"a40ef70c-e202-4f08-be55-5a177b72c944\",\"type\":\"GlyphRenderer\"},{\"id\":\"911c049d-9d00-4a43-96f7-bd14ee9f8361\",\"type\":\"GlyphRenderer\"},{\"id\":\"80eb0a2f-31c5-411f-b74c-8f4f3323bd4a\",\"type\":\"GlyphRenderer\"},{\"id\":\"a4070af2-2c1f-4c7a-b325-12a766736ca3\",\"type\":\"GlyphRenderer\"},{\"id\":\"c04a23ab-9893-4dc8-a2ac-0a0a9a73014f\",\"type\":\"GlyphRenderer\"},{\"id\":\"3bc9129b-e038-4a52-97d5-e3b780187794\",\"type\":\"Legend\"}],\"right\":[{\"id\":\"3bc9129b-e038-4a52-97d5-e3b780187794\",\"type\":\"Legend\"}],\"title\":{\"id\":\"9d05f89e-a11d-4bf5-9caf-07ac331d1cd4\",\"type\":\"Title\"},\"toolbar\":{\"id\":\"0f0ef55b-8bb2-4c92-837b-27d2dfeda861\",\"type\":\"Toolbar\"},\"toolbar_location\":null,\"x_range\":{\"id\":\"44df26a9-b16a-4c21-9a53-41165e69386f\",\"type\":\"Range1d\"},\"x_scale\":{\"id\":\"1d80c1e6-dc4e-4f52-9dc8-31f7bfbe8b70\",\"type\":\"LinearScale\"},\"y_range\":{\"id\":\"392dc469-6207-4938-9e14-6a7a7e672814\",\"type\":\"Range1d\"},\"y_scale\":{\"id\":\"977cdc0b-7ecc-4fb1-83e7-c0875ccd46ec\",\"type\":\"LogScale\"}},\"id\":\"87f08b5a-9fc1-4704-99be-0de6ff2c529c\",\"subtype\":\"Figure\",\"type\":\"Plot\"},{\"attributes\":{},\"id\":\"594ea0bb-3524-40e5-b6a2-37f7e83fba3c\",\"type\":\"LinearScale\"},{\"attributes\":{},\"id\":\"1d80c1e6-dc4e-4f52-9dc8-31f7bfbe8b70\",\"type\":\"LinearScale\"},{\"attributes\":{\"line_color\":\"#4daf4a\",\"line_width\":1.5,\"x\":{\"field\":\"x\"},\"y\":{\"field\":\"y\"}},\"id\":\"6938faa2-c4af-472c-82ce-673429e4e7ca\",\"type\":\"Line\"},{\"attributes\":{},\"id\":\"0e15ba04-f7ae-49e9-8466-01feb5b90774\",\"type\":\"BasicTicker\"},{\"attributes\":{\"toolbar\":{\"id\":\"43a519c8-22b7-4ea5-a1cf-73b2c2a272e8\",\"type\":\"ProxyToolbar\"},\"toolbar_location\":\"above\"},\"id\":\"1135a056-9c76-44f8-97a1-a2ad72d18d98\",\"type\":\"ToolbarBox\"},{\"attributes\":{\"data_source\":{\"id\":\"7eb4ab60-5282-49c4-86c7-33a52a973661\",\"type\":\"ColumnDataSource\"},\"glyph\":{\"id\":\"dab900ae-6d12-4241-990c-8d1291f0b07a\",\"type\":\"Circle\"},\"hover_glyph\":null,\"muted_glyph\":null,\"nonselection_glyph\":{\"id\":\"9da56643-4fc5-43d5-92c9-786920688b0b\",\"type\":\"Circle\"},\"selection_glyph\":null,\"view\":{\"id\":\"c4220bd9-5858-4eef-a988-a3607a638077\",\"type\":\"CDSView\"}},\"id\":\"911c049d-9d00-4a43-96f7-bd14ee9f8361\",\"type\":\"GlyphRenderer\"},{\"attributes\":{\"children\":[{\"id\":\"1135a056-9c76-44f8-97a1-a2ad72d18d98\",\"type\":\"ToolbarBox\"},{\"id\":\"95da56f4-37a2-4988-ad86-b7947eee1e83\",\"type\":\"Column\"}]},\"id\":\"eafeed9e-5d56-473c-a1b2-2606846744fb\",\"type\":\"Column\"},{\"attributes\":{\"dimension\":1,\"plot\":{\"id\":\"87f08b5a-9fc1-4704-99be-0de6ff2c529c\",\"subtype\":\"Figure\",\"type\":\"Plot\"},\"ticker\":{\"id\":\"ce7d79c8-72f1-41d4-b8fb-4824357304cb\",\"type\":\"LogTicker\"}},\"id\":\"36af1086-090a-433d-a86c-4350a17d185a\",\"type\":\"Grid\"},{\"attributes\":{\"source\":{\"id\":\"e6d02a61-1e07-4a20-9848-e105f4cf1323\",\"type\":\"ColumnDataSource\"}},\"id\":\"d20f7692-6a0e-4bd8-8a1b-febd8c6bd1f9\",\"type\":\"CDSView\"},{\"attributes\":{\"plot\":null,\"text\":\"Log pressure scale\"},\"id\":\"9d05f89e-a11d-4bf5-9caf-07ac331d1cd4\",\"type\":\"Title\"},{\"attributes\":{\"data_source\":{\"id\":\"f2e49aa5-4c9d-4667-ada7-314f987f5af9\",\"type\":\"ColumnDataSource\"},\"glyph\":{\"id\":\"19d4d79a-e11b-47e9-bc7d-c6e96b3bfb57\",\"type\":\"Circle\"},\"hover_glyph\":null,\"muted_glyph\":null,\"nonselection_glyph\":{\"id\":\"022cc3e8-ed1c-4575-b7e4-cfeab7a2771d\",\"type\":\"Circle\"},\"selection_glyph\":null,\"view\":{\"id\":\"081bf934-05c5-4dd1-8d9a-c37a1af5164e\",\"type\":\"CDSView\"}},\"id\":\"08b9b74f-3666-4352-a28e-3ede6ed90c49\",\"type\":\"GlyphRenderer\"},{\"attributes\":{\"line_alpha\":0.1,\"line_color\":\"#1f77b4\",\"line_width\":1.5,\"x\":{\"field\":\"x\"},\"y\":{\"field\":\"y\"}},\"id\":\"886587e5-7e60-463a-a27b-311ea4332e99\",\"type\":\"Line\"},{\"attributes\":{\"overlay\":{\"id\":\"1e4640eb-6bd2-4dcf-b5a8-615940da4cfb\",\"type\":\"BoxAnnotation\"}},\"id\":\"5206739c-98e2-4da6-a28a-a8f35c17a57b\",\"type\":\"BoxZoomTool\"},{\"attributes\":{\"fill_alpha\":{\"value\":0.7},\"fill_color\":{\"value\":\"#4daf4a\"},\"line_alpha\":{\"value\":0.7},\"line_color\":{\"value\":\"#4daf4a\"},\"x\":{\"field\":\"x\"},\"y\":{\"field\":\"y\"}},\"id\":\"19d4d79a-e11b-47e9-bc7d-c6e96b3bfb57\",\"type\":\"Circle\"},{\"attributes\":{\"fill_alpha\":{\"value\":0.1},\"fill_color\":{\"value\":\"#1f77b4\"},\"line_alpha\":{\"value\":0.1},\"line_color\":{\"value\":\"#1f77b4\"},\"x\":{\"field\":\"x\"},\"y\":{\"field\":\"y\"}},\"id\":\"9da56643-4fc5-43d5-92c9-786920688b0b\",\"type\":\"Circle\"},{\"attributes\":{\"children\":[{\"id\":\"6834d74b-330d-4273-a2c4-cd32a48ec802\",\"type\":\"Row\"}]},\"id\":\"95da56f4-37a2-4988-ad86-b7947eee1e83\",\"type\":\"Column\"},{\"attributes\":{\"plot\":null,\"text\":\"Linear pressure scale\"},\"id\":\"69e61dcb-991c-4400-8490-57f7885960be\",\"type\":\"Title\"},{\"attributes\":{\"fill_alpha\":{\"value\":0.7},\"fill_color\":{\"value\":\"#984ea3\"},\"line_alpha\":{\"value\":0.7},\"line_color\":{\"value\":\"#984ea3\"},\"x\":{\"field\":\"x\"},\"y\":{\"field\":\"y\"}},\"id\":\"9c310310-062d-41b3-afd4-ae48cb3e8293\",\"type\":\"Square\"},{\"attributes\":{\"label\":{\"value\":\"WGT igg=10 wgt_flux=2\"},\"renderers\":[{\"id\":\"a4070af2-2c1f-4c7a-b325-12a766736ca3\",\"type\":\"GlyphRenderer\"},{\"id\":\"c04a23ab-9893-4dc8-a2ac-0a0a9a73014f\",\"type\":\"GlyphRenderer\"}]},\"id\":\"91a19225-b113-4f38-97fa-6caa27c8425e\",\"type\":\"LegendItem\"},{\"attributes\":{\"line_alpha\":0.6,\"line_color\":\"#984ea3\",\"line_width\":3,\"x\":{\"field\":\"x\"},\"y\":{\"field\":\"y\"}},\"id\":\"f82ec70e-eaee-4097-82e0-dc448f21edd4\",\"type\":\"Line\"},{\"attributes\":{\"fill_alpha\":{\"value\":0.7},\"fill_color\":{\"value\":\"#4daf4a\"},\"line_alpha\":{\"value\":0.7},\"line_color\":{\"value\":\"#4daf4a\"},\"x\":{\"field\":\"x\"},\"y\":{\"field\":\"y\"}},\"id\":\"dab900ae-6d12-4241-990c-8d1291f0b07a\",\"type\":\"Circle\"},{\"attributes\":{\"data_source\":{\"id\":\"48a16172-8b86-4b1a-bef0-6afc05415862\",\"type\":\"ColumnDataSource\"},\"glyph\":{\"id\":\"f82ec70e-eaee-4097-82e0-dc448f21edd4\",\"type\":\"Line\"},\"hover_glyph\":null,\"muted_glyph\":null,\"nonselection_glyph\":{\"id\":\"fbb45d55-cd26-40f9-bc55-b9425f5792f3\",\"type\":\"Line\"},\"selection_glyph\":null,\"view\":{\"id\":\"657a9421-c03f-4850-aad5-7f895bd2848b\",\"type\":\"CDSView\"}},\"id\":\"3fc6dea1-4912-43e1-b8b9-0bebf58633e1\",\"type\":\"GlyphRenderer\"},{\"attributes\":{\"data_source\":{\"id\":\"e6d02a61-1e07-4a20-9848-e105f4cf1323\",\"type\":\"ColumnDataSource\"},\"glyph\":{\"id\":\"6938faa2-c4af-472c-82ce-673429e4e7ca\",\"type\":\"Line\"},\"hover_glyph\":null,\"muted_glyph\":null,\"nonselection_glyph\":{\"id\":\"886587e5-7e60-463a-a27b-311ea4332e99\",\"type\":\"Line\"},\"selection_glyph\":null,\"view\":{\"id\":\"d20f7692-6a0e-4bd8-8a1b-febd8c6bd1f9\",\"type\":\"CDSView\"}},\"id\":\"1583930a-abe3-4633-a491-ce2acd349e65\",\"type\":\"GlyphRenderer\"},{\"attributes\":{\"data_source\":{\"id\":\"de7b87bf-5bcf-4fe0-ada2-08f9ebd1a5f9\",\"type\":\"ColumnDataSource\"},\"glyph\":{\"id\":\"18bcd2de-c78e-4288-b991-c8b263424418\",\"type\":\"Line\"},\"hover_glyph\":null,\"muted_glyph\":null,\"nonselection_glyph\":{\"id\":\"c760aea2-d0d1-4b57-a7ef-081384abff63\",\"type\":\"Line\"},\"selection_glyph\":null,\"view\":{\"id\":\"5d617234-433c-4d6a-899c-9b9ef1f6a1e1\",\"type\":\"CDSView\"}},\"id\":\"24270966-51b9-4bba-bb91-e6937fdfc9db\",\"type\":\"GlyphRenderer\"},{\"attributes\":{\"source\":{\"id\":\"48a16172-8b86-4b1a-bef0-6afc05415862\",\"type\":\"ColumnDataSource\"}},\"id\":\"657a9421-c03f-4850-aad5-7f895bd2848b\",\"type\":\"CDSView\"},{\"attributes\":{\"plot\":{\"id\":\"87f08b5a-9fc1-4704-99be-0de6ff2c529c\",\"subtype\":\"Figure\",\"type\":\"Plot\"},\"ticker\":{\"id\":\"0e15ba04-f7ae-49e9-8466-01feb5b90774\",\"type\":\"BasicTicker\"}},\"id\":\"f0ad211a-606b-4ccb-9943-bb8f5beb29b6\",\"type\":\"Grid\"},{\"attributes\":{\"source\":{\"id\":\"f2e49aa5-4c9d-4667-ada7-314f987f5af9\",\"type\":\"ColumnDataSource\"}},\"id\":\"081bf934-05c5-4dd1-8d9a-c37a1af5164e\",\"type\":\"CDSView\"},{\"attributes\":{},\"id\":\"4db1f6fe-9e2d-4392-85f6-11c4efe49f28\",\"type\":\"ResetTool\"},{\"attributes\":{},\"id\":\"2f9119f2-a964-42cb-a8bb-115c60ba52f0\",\"type\":\"PanTool\"},{\"attributes\":{\"callback\":null,\"column_names\":[\"x\",\"y\"],\"data\":{\"x\":{\"__ndarray__\":\"95vDlMzawD9U4j5aqjeEPwX9/VH4zXg/V7xLgF7TUz+eyDMyP2xuv5X1Dd/R5YC/mq0aVoHyiL8d9a9jXnKQv6X1SmixZZS/M/VutxqVmL9z1cB/iEedvxYswSHVKaG/CiWgfT1DpL+TzBWeynupv8tZCg5Qlq+/X449zHXSsL+WoTFgt3Kvv2s2M1OKuKy/klAy7Sbupr8MhzErDHiWv4gaO5eYHZY/nQvIAzaMvj8pkq8EUmLRP6lzf9SqRtE/DDl885dtwz9slSt/aC21P5WExVrcfKc/+XQrOkg+mT+BVgUPeAWLP87LOHjsiHs/X5Q1bex5Yj++1f8rUVZEv8/Z2OazNVO/4FGUK845SL/T0lPt6IVLv6WgjE5ls1S/DAfyj6bRV7+lx9n2qapYv+wwCYNpEmC/QHlWFcxmZr9NUN15dsJpv6b8cg4oIGi/Kkf/DvdfZ7+kCvK3JYBnv614dRbOEWi/PdxOlvMwaL8BheMCoxVnvxlfi0jarmS/3PgGawvrYL8V0tNko4NXv4gHG4CTlUW/vCeC+vsiLD/jLqhSH39TPzBZHJsLxmI/JSlMQwQIbT8bFmBtvml0P6lvInykT3s/NhwUYUMvgj9zDyU0K9aGP3WO/B8ydYs/XQPKwrEQkD8HH1fe5nGSP69QPhnw7ZQ/Ud1Apz6Vlz9t4S0bk4GaPzB86ZIW050/mlGEuJi9oD+a3C9su3OiPy6GehOmnKM/PPOJdPMYpD+sX3RvAUWkP5BJz78gk6Q/UNFMiJ1PpT+ArIkABemmP748iJD/ca4/\",\"dtype\":\"float64\",\"shape\":[75]},\"y\":{\"__ndarray__\":\"GhExyth1ND/Sv8nbtpRIP2vylNV0PVE/aTum7souWD/At0SJ8fVgPw3Iuahxymc/MSNhhJWvcD/bTfBN02d3P2zb5nxnaoA/CD5h5MAGhz8NmeH1TyaQP+zrCsc9p5Y/LbKd76fGnz/bLW5ISEmmPww9YvTcQq8/JV2OstnstT8Er5Y7M8G+P0c+r3jqkcU/5h99k6ZBzj88bCIzFzjVP4enV8oyxN0//yH99nXg5D8qOpLLf0jtP5kqGJXUifQ/c9cS8kHP/D+/DpwzojQEQIEmwoanVwxA4lgXt9HgE0BSSZ2AJuIbQAMJih9jjiNA5q4l5INuK0AwTKYKRj0zQNv5fmq8/DpAaCJseHrtQkB/+zpwzoxKQM3MzMzMeFJAZmZmZmZqWEAAAAAAAFxeQM3MzMzMJmJAmpmZmZkfZUBmZmZmZhhoQDMzMzMzEWtAAAAAAAAKbkBmZmZmZoFwQM3MzMzM/XFAMzMzMzN6c0CamZmZmfZ0QAAAAAAAc3ZAZmZmZmbvd0DNzMzMzGt5QDMzMzMz6HpAmpmZmZlkfEAAAAAAAOF9QGZmZmZmXX9AZmZmZuZsgECamZmZGSuBQM3MzMxM6YFAAAAAAICngkAzMzMzs2WDQGZmZmbmI4RAmpmZmRnihEDNzMzMTKCFQAAAAACAXoZAMzMzM7Mch0BmZmZm5tqHQJqZmZkZmYhAzczMzExXiUAAAAAAgBWKQDMzMzOz04pAZmZmZuaRi0CamZmZGVCMQM3MzMxMDo1AAAAAAIDMjUAzMzMzs4qOQGZmZmbmSI9A\",\"dtype\":\"float64\",\"shape\":[75]}}},\"id\":\"f2e49aa5-4c9d-4667-ada7-314f987f5af9\",\"type\":\"ColumnDataSource\"},{\"attributes\":{\"source\":{\"id\":\"f2ccdb41-3b76-4157-8405-6071cec8569b\",\"type\":\"ColumnDataSource\"}},\"id\":\"c84c2b7c-d85c-416b-bffc-b8b3007885af\",\"type\":\"CDSView\"},{\"attributes\":{},\"id\":\"4aaad5d8-6aee-4dc3-8d7d-e96c43af0852\",\"type\":\"ResetTool\"},{\"attributes\":{},\"id\":\"ca1093a2-0989-4338-a0a3-134b97f65dc9\",\"type\":\"WheelZoomTool\"},{\"attributes\":{\"fill_alpha\":{\"value\":0.1},\"fill_color\":{\"value\":\"#1f77b4\"},\"line_alpha\":{\"value\":0.1},\"line_color\":{\"value\":\"#1f77b4\"},\"x\":{\"field\":\"x\"},\"y\":{\"field\":\"y\"}},\"id\":\"022cc3e8-ed1c-4575-b7e4-cfeab7a2771d\",\"type\":\"Circle\"},{\"attributes\":{\"overlay\":{\"id\":\"0debcd70-527b-45fc-abf1-2ebf22ff16a0\",\"type\":\"BoxAnnotation\"}},\"id\":\"3eb9e286-c513-4d31-b74a-16b01aecaa60\",\"type\":\"BoxZoomTool\"},{\"attributes\":{\"data_source\":{\"id\":\"f2ccdb41-3b76-4157-8405-6071cec8569b\",\"type\":\"ColumnDataSource\"},\"glyph\":{\"id\":\"f97e3df9-e033-484f-a5c5-9e6ca60e3435\",\"type\":\"Line\"},\"hover_glyph\":null,\"muted_glyph\":null,\"nonselection_glyph\":{\"id\":\"1e83cdc4-b13b-4787-8ad1-f2d55c891cc4\",\"type\":\"Line\"},\"selection_glyph\":null,\"view\":{\"id\":\"c84c2b7c-d85c-416b-bffc-b8b3007885af\",\"type\":\"CDSView\"}},\"id\":\"a40ef70c-e202-4f08-be55-5a177b72c944\",\"type\":\"GlyphRenderer\"},{\"attributes\":{\"axis_label\":\"cooling rate [K/day]\",\"formatter\":{\"id\":\"7c13c79a-63a3-400c-98a7-86f9f9b408c4\",\"type\":\"BasicTickFormatter\"},\"plot\":{\"id\":\"87f08b5a-9fc1-4704-99be-0de6ff2c529c\",\"subtype\":\"Figure\",\"type\":\"Plot\"},\"ticker\":{\"id\":\"0e15ba04-f7ae-49e9-8466-01feb5b90774\",\"type\":\"BasicTicker\"}},\"id\":\"69665ae6-80f7-4623-820e-43009c766c7f\",\"type\":\"LinearAxis\"},{\"attributes\":{},\"id\":\"542e9357-1fdd-4aab-b72a-f66471bffc8f\",\"type\":\"BasicTicker\"},{\"attributes\":{\"callback\":null,\"column_names\":[\"x\",\"y\"],\"data\":{\"x\":{\"__ndarray__\":\"h2OGW3i90T+MN5IBKXy0Pz38IL5Yh6E/cz5R5tqokD9qZV0ED9GRv6lzJhxj76C/tltTnzKeo7+Ylvte73CkvyfpOaCnLKO/D6CGPyjHpL/zQJ48sAylvyR1p+CVyaa/70DpgC5eqL/MbJcDK/Gtv4B09j0GhbG/LAL036kesb90A+xAKZyqvx63Mr3RgqG/x7v44lgFkL9j9KW9HfZlPxweYoY9Ips/gVuGHoLBuD9TJhSmGDXNP9fDdns5gc4/ryjj59gkxT9QK5ZshmW9Py4Hf2EnLLI/R//BQ/UvoD8xeLIBsyeAPxypvjyr6Go/00TFn/RDdT837HNDd/NqP9Kkal6nVEQ/20XjPg/iSr/F2WBpqOZVvwxn+7PGcFq/QOZDiwUpXL8uAESzz0Bcv23mmSGRUmK/GqaI5XWRab8qIv76jD9tv6IEIN5R5Gu/yl5+hZZ+bL87bliZwFtuv8TrNPpjZm+/JTsRYHN3br/TEMoFqw1tvzNuwKCyhWu/CD23Ya+Pab8UVWxBsOBmv/ikwsGmGmK/D4WHk/H0Vb/oHrqfDnoXv5ebJCT2s1Y/wySLJTSjaT/j5CJg69B0PwfwcQHDTX0/ZHeK31CUgz/2o8dAtfmHPywx4y5BlIs/UOsIcBI0jj8YnUCZxRKQP2geGdsGFpE/9aaCh/LQkj8DMKX7JyKVP7DNieez1pg/QtAYgCIjnT8iqksh6wShP2JtDR4G8KI/Suas3eM9pD8vjds/gT2lP/vHOAKVSqY/MOKJwFuXpz+vrhf+ZHCpPzgyTeDverA/\",\"dtype\":\"float64\",\"shape\":[75]},\"y\":{\"__ndarray__\":\"S/O/Q+51ND/430zAtpRIP2vylNV0PVE/QxsjCssuWD/TR4Z78fVgP+inNsRxymc/OuuBfZWvcD/u3TFA02d3P2d3VoBnaoA/CD5h5MAGhz/1pA8HUCaQP+zrCsc9p5Y/Fb7LAKjGnz/nJ9c/SEmmPwBD+fzcQq8/FOZwv9nstT8Er5Y7M8G+P0c+r3jqkcU/yK72qKZBzj+tM989FzjVPxbgmr8yxN0/cOm5AXbg5D+5ctXAf0jtP5kqGJXUifQ/DsrqDELP/D8MCAhBojQEQDItVnmnVwxAiFXNvdHgE0BSSZ2AJuIbQAMJih9jjiNA5q4l5INuK0CPVN/5RT0zQHzxRXu8/DpAOZ7PgHrtQkAg8wGBzoxKQBSTN8DMeFJA2NmQf2ZqWEAAAAAAAFxeQEQX1LfMJmJAmpmZmZkfZUBmZmZmZhhoQLzoK0gzEWtAAAAAAAAKbkCiC+pbZoFwQAhyUMLM/XFA+I2vPTN6c0AQ5KCEmfZ0QAAAAAAAc3ZA8Btfe2bvd0AIclDCzGt5QPeNrz0z6HpAEOSghJlkfEAAAAAAAOF9QKML6ltmXX9ABTkoYeZsgED7xteeGSuBQAhyUMJM6YFAAAAAAICngkD4ja89s2WDQAU5KGHmI4RA+8bXnhnihEAIclDCTKCFQAAAAACAXoZA+I2vPbMch0AFOShh5tqHQPvG154ZmYhACHJQwkxXiUAAAAAAgBWKQPeNrz2z04pABTkoYeaRi0D7xteeGVCMQAlyUMJMDo1AAAAAAIDMjUD3ja89s4qOQGZmZmbmSI9A\",\"dtype\":\"float64\",\"shape\":[75]}}},\"id\":\"de7b87bf-5bcf-4fe0-ada2-08f9ebd1a5f9\",\"type\":\"ColumnDataSource\"},{\"attributes\":{\"callback\":null,\"end\":0.065183113893,\"start\":-0.004516331193},\"id\":\"16b43d8d-47ff-4a78-82fc-691a81b88b9b\",\"type\":\"Range1d\"},{\"attributes\":{\"source\":{\"id\":\"de7b87bf-5bcf-4fe0-ada2-08f9ebd1a5f9\",\"type\":\"ColumnDataSource\"}},\"id\":\"5d617234-433c-4d6a-899c-9b9ef1f6a1e1\",\"type\":\"CDSView\"},{\"attributes\":{\"num_minor_ticks\":10},\"id\":\"ce7d79c8-72f1-41d4-b8fb-4824357304cb\",\"type\":\"LogTicker\"},{\"attributes\":{\"callback\":null,\"end\":0.01,\"start\":1020},\"id\":\"392dc469-6207-4938-9e14-6a7a7e672814\",\"type\":\"Range1d\"},{\"attributes\":{\"source\":{\"id\":\"7eb4ab60-5282-49c4-86c7-33a52a973661\",\"type\":\"ColumnDataSource\"}},\"id\":\"c4220bd9-5858-4eef-a988-a3607a638077\",\"type\":\"CDSView\"},{\"attributes\":{\"axis_label\":\"pressure [mb]\",\"formatter\":{\"id\":\"26a3dcc5-bcc1-4ef0-b5ac-194a21a6f025\",\"type\":\"BasicTickFormatter\"},\"plot\":{\"id\":\"bbd2c750-b49c-4ca6-b319-762e7763219f\",\"subtype\":\"Figure\",\"type\":\"Plot\"},\"ticker\":{\"id\":\"da6822cf-30eb-4d3e-aac1-b0f657531b1a\",\"type\":\"BasicTicker\"}},\"id\":\"48597e23-972d-4f72-9191-0527c306424e\",\"type\":\"LinearAxis\"},{\"attributes\":{},\"id\":\"f9f62e45-c9e8-47d8-9eda-3d8ba0a1d0bc\",\"type\":\"SaveTool\"},{\"attributes\":{\"children\":[{\"id\":\"bbd2c750-b49c-4ca6-b319-762e7763219f\",\"subtype\":\"Figure\",\"type\":\"Plot\"},{\"id\":\"87f08b5a-9fc1-4704-99be-0de6ff2c529c\",\"subtype\":\"Figure\",\"type\":\"Plot\"}]},\"id\":\"6834d74b-330d-4273-a2c4-cd32a48ec802\",\"type\":\"Row\"},{\"attributes\":{\"active_drag\":\"auto\",\"active_inspect\":\"auto\",\"active_scroll\":\"auto\",\"active_tap\":\"auto\",\"tools\":[{\"id\":\"cf519ad7-d482-4d4f-931e-080d7dac8788\",\"type\":\"PanTool\"},{\"id\":\"ca1093a2-0989-4338-a0a3-134b97f65dc9\",\"type\":\"WheelZoomTool\"},{\"id\":\"5206739c-98e2-4da6-a28a-a8f35c17a57b\",\"type\":\"BoxZoomTool\"},{\"id\":\"dd62216b-b58a-4cba-b5e8-50572e70dfdc\",\"type\":\"SaveTool\"},{\"id\":\"4db1f6fe-9e2d-4392-85f6-11c4efe49f28\",\"type\":\"ResetTool\"},{\"id\":\"c5a406ba-bd79-4324-9f71-5cfa61344501\",\"type\":\"HelpTool\"}]},\"id\":\"0f0ef55b-8bb2-4c92-837b-27d2dfeda861\",\"type\":\"Toolbar\"},{\"attributes\":{\"line_alpha\":0.6,\"line_color\":\"#e41a1c\",\"line_dash\":[6],\"line_width\":5,\"x\":{\"field\":\"x\"},\"y\":{\"field\":\"y\"}},\"id\":\"18bcd2de-c78e-4288-b991-c8b263424418\",\"type\":\"Line\"},{\"attributes\":{},\"id\":\"92d24d9a-d48b-4400-942e-1c1d57965caf\",\"type\":\"WheelZoomTool\"},{\"attributes\":{},\"id\":\"c5a406ba-bd79-4324-9f71-5cfa61344501\",\"type\":\"HelpTool\"},{\"attributes\":{\"ticker\":null},\"id\":\"285e309f-fd06-44a2-bb70-3d12522dc529\",\"type\":\"LogTickFormatter\"},{\"attributes\":{\"dimension\":1,\"plot\":{\"id\":\"bbd2c750-b49c-4ca6-b319-762e7763219f\",\"subtype\":\"Figure\",\"type\":\"Plot\"},\"ticker\":{\"id\":\"da6822cf-30eb-4d3e-aac1-b0f657531b1a\",\"type\":\"BasicTicker\"}},\"id\":\"82d6a590-9b0e-4ce1-a456-fcd948d0cc36\",\"type\":\"Grid\"},{\"attributes\":{\"line_alpha\":0.6,\"line_color\":\"#e41a1c\",\"line_dash\":[6],\"line_width\":5,\"x\":{\"field\":\"x\"},\"y\":{\"field\":\"y\"}},\"id\":\"f97e3df9-e033-484f-a5c5-9e6ca60e3435\",\"type\":\"Line\"},{\"attributes\":{\"below\":[{\"id\":\"d986f428-7c1a-46d0-951e-0378e315d93b\",\"type\":\"LinearAxis\"}],\"left\":[{\"id\":\"48597e23-972d-4f72-9191-0527c306424e\",\"type\":\"LinearAxis\"}],\"plot_height\":500,\"plot_width\":400,\"renderers\":[{\"id\":\"d986f428-7c1a-46d0-951e-0378e315d93b\",\"type\":\"LinearAxis\"},{\"id\":\"54100b8b-2402-4c2d-9142-b6c09f974727\",\"type\":\"Grid\"},{\"id\":\"48597e23-972d-4f72-9191-0527c306424e\",\"type\":\"LinearAxis\"},{\"id\":\"82d6a590-9b0e-4ce1-a456-fcd948d0cc36\",\"type\":\"Grid\"},{\"id\":\"0debcd70-527b-45fc-abf1-2ebf22ff16a0\",\"type\":\"BoxAnnotation\"},{\"id\":\"24270966-51b9-4bba-bb91-e6937fdfc9db\",\"type\":\"GlyphRenderer\"},{\"id\":\"08b9b74f-3666-4352-a28e-3ede6ed90c49\",\"type\":\"GlyphRenderer\"},{\"id\":\"1583930a-abe3-4633-a491-ce2acd349e65\",\"type\":\"GlyphRenderer\"},{\"id\":\"d8c4d2d4-f99d-4df4-a641-9978fe5e3ad2\",\"type\":\"GlyphRenderer\"},{\"id\":\"3fc6dea1-4912-43e1-b8b9-0bebf58633e1\",\"type\":\"GlyphRenderer\"}],\"title\":{\"id\":\"69e61dcb-991c-4400-8490-57f7885960be\",\"type\":\"Title\"},\"toolbar\":{\"id\":\"13a893c2-8f22-4f78-9fda-30efa5a006c2\",\"type\":\"Toolbar\"},\"toolbar_location\":null,\"x_range\":{\"id\":\"16b43d8d-47ff-4a78-82fc-691a81b88b9b\",\"type\":\"Range1d\"},\"x_scale\":{\"id\":\"1b05d4fe-4443-4d85-81f1-12a4b5030bdc\",\"type\":\"LinearScale\"},\"y_range\":{\"id\":\"43ba697d-d87e-430b-81cb-2e4409d1d2db\",\"type\":\"Range1d\"},\"y_scale\":{\"id\":\"594ea0bb-3524-40e5-b6a2-37f7e83fba3c\",\"type\":\"LinearScale\"}},\"id\":\"bbd2c750-b49c-4ca6-b319-762e7763219f\",\"subtype\":\"Figure\",\"type\":\"Plot\"},{\"attributes\":{\"bottom_units\":\"screen\",\"fill_alpha\":{\"value\":0.5},\"fill_color\":{\"value\":\"lightgrey\"},\"left_units\":\"screen\",\"level\":\"overlay\",\"line_alpha\":{\"value\":1.0},\"line_color\":{\"value\":\"black\"},\"line_dash\":[4,4],\"line_width\":{\"value\":2},\"plot\":null,\"render_mode\":\"css\",\"right_units\":\"screen\",\"top_units\":\"screen\"},\"id\":\"1e4640eb-6bd2-4dcf-b5a8-615940da4cfb\",\"type\":\"BoxAnnotation\"},{\"attributes\":{},\"id\":\"26a3dcc5-bcc1-4ef0-b5ac-194a21a6f025\",\"type\":\"BasicTickFormatter\"},{\"attributes\":{\"callback\":null,\"column_names\":[\"x\",\"y\"],\"data\":{\"x\":{\"__ndarray__\":\"OsOa67AZ0j/NvKgfzFS4P2dx4IQraKk/ggq2LaSlhT99fGg9gVKSv/kdxWRqRaG/pu7AvKSKpL/XcvIYoXylv1NYEYQXvKW/eI4zEy31pb9LP8WXp3imv7ErnXeyh6e/n3AMh/mAqb/dD+X8Lhuuv3RBBr36orG/yuuYJcc+sb/Yn8mgCBmrv0rSOkwpH6K/bhnsXe5ZkL8+fSXDukBsP3F7zlK8Dpw/lxJMrME4uD/Je1GS4FPMP6d8xo10ac0//YwDlvkaxD+cfXHrZi28P6ZotyZ1s7E/ExbL4x9soD8EOwBWTpGAP+ZltutqWWM/cpJzzDyscT+TJUz3BwFqPxIqiCcaMFA/B1jRcILMPr/DTMxLZsJUvzUBdEszpVq/tm9BQWgHXL9IQxLpegNcv21L8IcQMGK/Y2zPEv5qab/Ey40JPC5tv7qm2/Fh2Gu/Vq39QxBlbL80qEjSrQ9uv7mKyN55A2+/xt8iqgoqbr/fip0Ybahsvy5W+ie9EWu/oRBz3DhIab/+LTujMYNmv7DKjfLo12G/IGmZSE4GVb/FVhMJeEkQv78zITeRilc/ObCnXKv9aT8VsLfyreZ0PwoVQ0rYZH0/79p+at6ngz+Wy3nYoSCIP5BCgncslYs/xp+ApIoNjj+K8oiuZPePPxIdpNUADZE/SbepqmWlkj9A2kEdPRuVP1EADp9Jopg/ic8PtucYnT9U5WSqrOKgP1EHUXXKzqI/wZCdA0AfpD9GeHGejiClPxd8ldpdMKY/TOdq+7yBpz/w8LWfQGOpP0sQeNcOg7A/\",\"dtype\":\"float64\",\"shape\":[75]},\"y\":{\"__ndarray__\":\"GhExyth1ND/Sv8nbtpRIP2vylNV0PVE/aTum7souWD/At0SJ8fVgPw3Iuahxymc/MSNhhJWvcD/bTfBN02d3P2zb5nxnaoA/CD5h5MAGhz8NmeH1TyaQP+zrCsc9p5Y/LbKd76fGnz/bLW5ISEmmPww9YvTcQq8/JV2OstnstT8Er5Y7M8G+P0c+r3jqkcU/5h99k6ZBzj88bCIzFzjVP4enV8oyxN0//yH99nXg5D8qOpLLf0jtP5kqGJXUifQ/c9cS8kHP/D+/DpwzojQEQIEmwoanVwxA4lgXt9HgE0BSSZ2AJuIbQAMJih9jjiNA5q4l5INuK0AwTKYKRj0zQNv5fmq8/DpAaCJseHrtQkB/+zpwzoxKQM3MzMzMeFJAZmZmZmZqWEAAAAAAAFxeQM3MzMzMJmJAmpmZmZkfZUBmZmZmZhhoQDMzMzMzEWtAAAAAAAAKbkBmZmZmZoFwQM3MzMzM/XFAMzMzMzN6c0CamZmZmfZ0QAAAAAAAc3ZAZmZmZmbvd0DNzMzMzGt5QDMzMzMz6HpAmpmZmZlkfEAAAAAAAOF9QGZmZmZmXX9AZmZmZuZsgECamZmZGSuBQM3MzMxM6YFAAAAAAICngkAzMzMzs2WDQGZmZmbmI4RAmpmZmRnihEDNzMzMTKCFQAAAAACAXoZAMzMzM7Mch0BmZmZm5tqHQJqZmZkZmYhAzczMzExXiUAAAAAAgBWKQDMzMzOz04pAZmZmZuaRi0CamZmZGVCMQM3MzMxMDo1AAAAAAIDMjUAzMzMzs4qOQGZmZmbmSI9A\",\"dtype\":\"float64\",\"shape\":[75]}}},\"id\":\"215756dc-75c1-4820-aad8-5076aeea9057\",\"type\":\"ColumnDataSource\"},{\"attributes\":{},\"id\":\"7c13c79a-63a3-400c-98a7-86f9f9b408c4\",\"type\":\"BasicTickFormatter\"},{\"attributes\":{\"tools\":[{\"id\":\"2f9119f2-a964-42cb-a8bb-115c60ba52f0\",\"type\":\"PanTool\"},{\"id\":\"92d24d9a-d48b-4400-942e-1c1d57965caf\",\"type\":\"WheelZoomTool\"},{\"id\":\"3eb9e286-c513-4d31-b74a-16b01aecaa60\",\"type\":\"BoxZoomTool\"},{\"id\":\"f9f62e45-c9e8-47d8-9eda-3d8ba0a1d0bc\",\"type\":\"SaveTool\"},{\"id\":\"4aaad5d8-6aee-4dc3-8d7d-e96c43af0852\",\"type\":\"ResetTool\"},{\"id\":\"ebbebafb-cf4b-4779-8787-cd12c4c5f824\",\"type\":\"HelpTool\"},{\"id\":\"cf519ad7-d482-4d4f-931e-080d7dac8788\",\"type\":\"PanTool\"},{\"id\":\"ca1093a2-0989-4338-a0a3-134b97f65dc9\",\"type\":\"WheelZoomTool\"},{\"id\":\"5206739c-98e2-4da6-a28a-a8f35c17a57b\",\"type\":\"BoxZoomTool\"},{\"id\":\"dd62216b-b58a-4cba-b5e8-50572e70dfdc\",\"type\":\"SaveTool\"},{\"id\":\"4db1f6fe-9e2d-4392-85f6-11c4efe49f28\",\"type\":\"ResetTool\"},{\"id\":\"c5a406ba-bd79-4324-9f71-5cfa61344501\",\"type\":\"HelpTool\"}]},\"id\":\"43a519c8-22b7-4ea5-a1cf-73b2c2a272e8\",\"type\":\"ProxyToolbar\"},{\"attributes\":{\"callback\":null,\"column_names\":[\"x\",\"y\"],\"data\":{\"x\":{\"__ndarray__\":\"95vDlMzawD9U4j5aqjeEPwX9/VH4zXg/V7xLgF7TUz+eyDMyP2xuv5X1Dd/R5YC/mq0aVoHyiL8d9a9jXnKQv6X1SmixZZS/M/VutxqVmL9z1cB/iEedvxYswSHVKaG/CiWgfT1DpL+TzBWeynupv8tZCg5Qlq+/X449zHXSsL+WoTFgt3Kvv2s2M1OKuKy/klAy7Sbupr8MhzErDHiWv4gaO5eYHZY/nQvIAzaMvj8pkq8EUmLRP6lzf9SqRtE/DDl885dtwz9slSt/aC21P5WExVrcfKc/+XQrOkg+mT+BVgUPeAWLP87LOHjsiHs/X5Q1bex5Yj++1f8rUVZEv8/Z2OazNVO/4FGUK845SL/T0lPt6IVLv6WgjE5ls1S/DAfyj6bRV7+lx9n2qapYv+wwCYNpEmC/QHlWFcxmZr9NUN15dsJpv6b8cg4oIGi/Kkf/DvdfZ7+kCvK3JYBnv614dRbOEWi/PdxOlvMwaL8BheMCoxVnvxlfi0jarmS/3PgGawvrYL8V0tNko4NXv4gHG4CTlUW/vCeC+vsiLD/jLqhSH39TPzBZHJsLxmI/JSlMQwQIbT8bFmBtvml0P6lvInykT3s/NhwUYUMvgj9zDyU0K9aGP3WO/B8ydYs/XQPKwrEQkD8HH1fe5nGSP69QPhnw7ZQ/Ud1Apz6Vlz9t4S0bk4GaPzB86ZIW050/mlGEuJi9oD+a3C9su3OiPy6GehOmnKM/PPOJdPMYpD+sX3RvAUWkP5BJz78gk6Q/UNFMiJ1PpT+ArIkABemmP748iJD/ca4/\",\"dtype\":\"float64\",\"shape\":[75]},\"y\":{\"__ndarray__\":\"GhExyth1ND/Sv8nbtpRIP2vylNV0PVE/aTum7souWD/At0SJ8fVgPw3Iuahxymc/MSNhhJWvcD/bTfBN02d3P2zb5nxnaoA/CD5h5MAGhz8NmeH1TyaQP+zrCsc9p5Y/LbKd76fGnz/bLW5ISEmmPww9YvTcQq8/JV2OstnstT8Er5Y7M8G+P0c+r3jqkcU/5h99k6ZBzj88bCIzFzjVP4enV8oyxN0//yH99nXg5D8qOpLLf0jtP5kqGJXUifQ/c9cS8kHP/D+/DpwzojQEQIEmwoanVwxA4lgXt9HgE0BSSZ2AJuIbQAMJih9jjiNA5q4l5INuK0AwTKYKRj0zQNv5fmq8/DpAaCJseHrtQkB/+zpwzoxKQM3MzMzMeFJAZmZmZmZqWEAAAAAAAFxeQM3MzMzMJmJAmpmZmZkfZUBmZmZmZhhoQDMzMzMzEWtAAAAAAAAKbkBmZmZmZoFwQM3MzMzM/XFAMzMzMzN6c0CamZmZmfZ0QAAAAAAAc3ZAZmZmZmbvd0DNzMzMzGt5QDMzMzMz6HpAmpmZmZlkfEAAAAAAAOF9QGZmZmZmXX9AZmZmZuZsgECamZmZGSuBQM3MzMxM6YFAAAAAAICngkAzMzMzs2WDQGZmZmbmI4RAmpmZmRnihEDNzMzMTKCFQAAAAACAXoZAMzMzM7Mch0BmZmZm5tqHQJqZmZkZmYhAzczMzExXiUAAAAAAgBWKQDMzMzOz04pAZmZmZuaRi0CamZmZGVCMQM3MzMxMDo1AAAAAAIDMjUAzMzMzs4qOQGZmZmbmSI9A\",\"dtype\":\"float64\",\"shape\":[75]}}},\"id\":\"7eb4ab60-5282-49c4-86c7-33a52a973661\",\"type\":\"ColumnDataSource\"},{\"attributes\":{},\"id\":\"da6822cf-30eb-4d3e-aac1-b0f657531b1a\",\"type\":\"BasicTicker\"},{\"attributes\":{\"callback\":null,\"column_names\":[\"x\",\"y\"],\"data\":{\"x\":{\"__ndarray__\":\"h2OGW3i90T+MN5IBKXy0Pz38IL5Yh6E/cz5R5tqokD9qZV0ED9GRv6lzJhxj76C/tltTnzKeo7+Ylvte73CkvyfpOaCnLKO/D6CGPyjHpL/zQJ48sAylvyR1p+CVyaa/70DpgC5eqL/MbJcDK/Gtv4B09j0GhbG/LAL036kesb90A+xAKZyqvx63Mr3RgqG/x7v44lgFkL9j9KW9HfZlPxweYoY9Ips/gVuGHoLBuD9TJhSmGDXNP9fDdns5gc4/ryjj59gkxT9QK5ZshmW9Py4Hf2EnLLI/R//BQ/UvoD8xeLIBsyeAPxypvjyr6Go/00TFn/RDdT837HNDd/NqP9Kkal6nVEQ/20XjPg/iSr/F2WBpqOZVvwxn+7PGcFq/QOZDiwUpXL8uAESzz0Bcv23mmSGRUmK/GqaI5XWRab8qIv76jD9tv6IEIN5R5Gu/yl5+hZZ+bL87bliZwFtuv8TrNPpjZm+/JTsRYHN3br/TEMoFqw1tvzNuwKCyhWu/CD23Ya+Pab8UVWxBsOBmv/ikwsGmGmK/D4WHk/H0Vb/oHrqfDnoXv5ebJCT2s1Y/wySLJTSjaT/j5CJg69B0PwfwcQHDTX0/ZHeK31CUgz/2o8dAtfmHPywx4y5BlIs/UOsIcBI0jj8YnUCZxRKQP2geGdsGFpE/9aaCh/LQkj8DMKX7JyKVP7DNieez1pg/QtAYgCIjnT8iqksh6wShP2JtDR4G8KI/Suas3eM9pD8vjds/gT2lP/vHOAKVSqY/MOKJwFuXpz+vrhf+ZHCpPzgyTeDverA/\",\"dtype\":\"float64\",\"shape\":[75]},\"y\":{\"__ndarray__\":\"S/O/Q+51ND/430zAtpRIP2vylNV0PVE/QxsjCssuWD/TR4Z78fVgP+inNsRxymc/OuuBfZWvcD/u3TFA02d3P2d3VoBnaoA/CD5h5MAGhz/1pA8HUCaQP+zrCsc9p5Y/Fb7LAKjGnz/nJ9c/SEmmPwBD+fzcQq8/FOZwv9nstT8Er5Y7M8G+P0c+r3jqkcU/yK72qKZBzj+tM989FzjVPxbgmr8yxN0/cOm5AXbg5D+5ctXAf0jtP5kqGJXUifQ/DsrqDELP/D8MCAhBojQEQDItVnmnVwxAiFXNvdHgE0BSSZ2AJuIbQAMJih9jjiNA5q4l5INuK0CPVN/5RT0zQHzxRXu8/DpAOZ7PgHrtQkAg8wGBzoxKQBSTN8DMeFJA2NmQf2ZqWEAAAAAAAFxeQEQX1LfMJmJAmpmZmZkfZUBmZmZmZhhoQLzoK0gzEWtAAAAAAAAKbkCiC+pbZoFwQAhyUMLM/XFA+I2vPTN6c0AQ5KCEmfZ0QAAAAAAAc3ZA8Btfe2bvd0AIclDCzGt5QPeNrz0z6HpAEOSghJlkfEAAAAAAAOF9QKML6ltmXX9ABTkoYeZsgED7xteeGSuBQAhyUMJM6YFAAAAAAICngkD4ja89s2WDQAU5KGHmI4RA+8bXnhnihEAIclDCTKCFQAAAAACAXoZA+I2vPbMch0AFOShh5tqHQPvG154ZmYhACHJQwkxXiUAAAAAAgBWKQPeNrz2z04pABTkoYeaRi0D7xteeGVCMQAlyUMJMDo1AAAAAAIDMjUD3ja89s4qOQGZmZmbmSI9A\",\"dtype\":\"float64\",\"shape\":[75]}}},\"id\":\"f2ccdb41-3b76-4157-8405-6071cec8569b\",\"type\":\"ColumnDataSource\"},{\"attributes\":{\"bottom_units\":\"screen\",\"fill_alpha\":{\"value\":0.5},\"fill_color\":{\"value\":\"lightgrey\"},\"left_units\":\"screen\",\"level\":\"overlay\",\"line_alpha\":{\"value\":1.0},\"line_color\":{\"value\":\"black\"},\"line_dash\":[4,4],\"line_width\":{\"value\":2},\"plot\":null,\"render_mode\":\"css\",\"right_units\":\"screen\",\"top_units\":\"screen\"},\"id\":\"0debcd70-527b-45fc-abf1-2ebf22ff16a0\",\"type\":\"BoxAnnotation\"},{\"attributes\":{\"callback\":null,\"column_names\":[\"x\",\"y\"],\"data\":{\"x\":{\"__ndarray__\":\"95vDlMzawD9U4j5aqjeEPwX9/VH4zXg/V7xLgF7TUz+eyDMyP2xuv5X1Dd/R5YC/mq0aVoHyiL8d9a9jXnKQv6X1SmixZZS/M/VutxqVmL9z1cB/iEedvxYswSHVKaG/CiWgfT1DpL+TzBWeynupv8tZCg5Qlq+/X449zHXSsL+WoTFgt3Kvv2s2M1OKuKy/klAy7Sbupr8MhzErDHiWv4gaO5eYHZY/nQvIAzaMvj8pkq8EUmLRP6lzf9SqRtE/DDl885dtwz9slSt/aC21P5WExVrcfKc/+XQrOkg+mT+BVgUPeAWLP87LOHjsiHs/X5Q1bex5Yj++1f8rUVZEv8/Z2OazNVO/4FGUK845SL/T0lPt6IVLv6WgjE5ls1S/DAfyj6bRV7+lx9n2qapYv+wwCYNpEmC/QHlWFcxmZr9NUN15dsJpv6b8cg4oIGi/Kkf/DvdfZ7+kCvK3JYBnv614dRbOEWi/PdxOlvMwaL8BheMCoxVnvxlfi0jarmS/3PgGawvrYL8V0tNko4NXv4gHG4CTlUW/vCeC+vsiLD/jLqhSH39TPzBZHJsLxmI/JSlMQwQIbT8bFmBtvml0P6lvInykT3s/NhwUYUMvgj9zDyU0K9aGP3WO/B8ydYs/XQPKwrEQkD8HH1fe5nGSP69QPhnw7ZQ/Ud1Apz6Vlz9t4S0bk4GaPzB86ZIW050/mlGEuJi9oD+a3C9su3OiPy6GehOmnKM/PPOJdPMYpD+sX3RvAUWkP5BJz78gk6Q/UNFMiJ1PpT+ArIkABemmP748iJD/ca4/\",\"dtype\":\"float64\",\"shape\":[75]},\"y\":{\"__ndarray__\":\"GhExyth1ND/Sv8nbtpRIP2vylNV0PVE/aTum7souWD/At0SJ8fVgPw3Iuahxymc/MSNhhJWvcD/bTfBN02d3P2zb5nxnaoA/CD5h5MAGhz8NmeH1TyaQP+zrCsc9p5Y/LbKd76fGnz/bLW5ISEmmPww9YvTcQq8/JV2OstnstT8Er5Y7M8G+P0c+r3jqkcU/5h99k6ZBzj88bCIzFzjVP4enV8oyxN0//yH99nXg5D8qOpLLf0jtP5kqGJXUifQ/c9cS8kHP/D+/DpwzojQEQIEmwoanVwxA4lgXt9HgE0BSSZ2AJuIbQAMJih9jjiNA5q4l5INuK0AwTKYKRj0zQNv5fmq8/DpAaCJseHrtQkB/+zpwzoxKQM3MzMzMeFJAZmZmZmZqWEAAAAAAAFxeQM3MzMzMJmJAmpmZmZkfZUBmZmZmZhhoQDMzMzMzEWtAAAAAAAAKbkBmZmZmZoFwQM3MzMzM/XFAMzMzMzN6c0CamZmZmfZ0QAAAAAAAc3ZAZmZmZmbvd0DNzMzMzGt5QDMzMzMz6HpAmpmZmZlkfEAAAAAAAOF9QGZmZmZmXX9AZmZmZuZsgECamZmZGSuBQM3MzMxM6YFAAAAAAICngkAzMzMzs2WDQGZmZmbmI4RAmpmZmRnihEDNzMzMTKCFQAAAAACAXoZAMzMzM7Mch0BmZmZm5tqHQJqZmZkZmYhAzczMzExXiUAAAAAAgBWKQDMzMzOz04pAZmZmZuaRi0CamZmZGVCMQM3MzMxMDo1AAAAAAIDMjUAzMzMzs4qOQGZmZmbmSI9A\",\"dtype\":\"float64\",\"shape\":[75]}}},\"id\":\"066d331c-bf37-4dda-ab02-bff0186921a8\",\"type\":\"ColumnDataSource\"},{\"attributes\":{\"active_drag\":\"auto\",\"active_inspect\":\"auto\",\"active_scroll\":\"auto\",\"active_tap\":\"auto\",\"tools\":[{\"id\":\"2f9119f2-a964-42cb-a8bb-115c60ba52f0\",\"type\":\"PanTool\"},{\"id\":\"92d24d9a-d48b-4400-942e-1c1d57965caf\",\"type\":\"WheelZoomTool\"},{\"id\":\"3eb9e286-c513-4d31-b74a-16b01aecaa60\",\"type\":\"BoxZoomTool\"},{\"id\":\"f9f62e45-c9e8-47d8-9eda-3d8ba0a1d0bc\",\"type\":\"SaveTool\"},{\"id\":\"4aaad5d8-6aee-4dc3-8d7d-e96c43af0852\",\"type\":\"ResetTool\"},{\"id\":\"ebbebafb-cf4b-4779-8787-cd12c4c5f824\",\"type\":\"HelpTool\"}]},\"id\":\"13a893c2-8f22-4f78-9fda-30efa5a006c2\",\"type\":\"Toolbar\"},{\"attributes\":{\"axis_label\":\"cooling rate [K/day]\",\"formatter\":{\"id\":\"7c7fad92-da1c-451d-b671-373d00acf298\",\"type\":\"BasicTickFormatter\"},\"plot\":{\"id\":\"bbd2c750-b49c-4ca6-b319-762e7763219f\",\"subtype\":\"Figure\",\"type\":\"Plot\"},\"ticker\":{\"id\":\"542e9357-1fdd-4aab-b72a-f66471bffc8f\",\"type\":\"BasicTicker\"}},\"id\":\"d986f428-7c1a-46d0-951e-0378e315d93b\",\"type\":\"LinearAxis\"},{\"attributes\":{\"plot\":{\"id\":\"bbd2c750-b49c-4ca6-b319-762e7763219f\",\"subtype\":\"Figure\",\"type\":\"Plot\"},\"ticker\":{\"id\":\"542e9357-1fdd-4aab-b72a-f66471bffc8f\",\"type\":\"BasicTicker\"}},\"id\":\"54100b8b-2402-4c2d-9142-b6c09f974727\",\"type\":\"Grid\"},{\"attributes\":{},\"id\":\"1b05d4fe-4443-4d85-81f1-12a4b5030bdc\",\"type\":\"LinearScale\"},{\"attributes\":{},\"id\":\"cf519ad7-d482-4d4f-931e-080d7dac8788\",\"type\":\"PanTool\"},{\"attributes\":{\"line_alpha\":0.1,\"line_color\":\"#1f77b4\",\"line_dash\":[6],\"line_width\":5,\"x\":{\"field\":\"x\"},\"y\":{\"field\":\"y\"}},\"id\":\"c760aea2-d0d1-4b57-a7ef-081384abff63\",\"type\":\"Line\"},{\"attributes\":{\"callback\":null,\"end\":0.01,\"start\":1020},\"id\":\"43ba697d-d87e-430b-81cb-2e4409d1d2db\",\"type\":\"Range1d\"},{\"attributes\":{\"data_source\":{\"id\":\"066d331c-bf37-4dda-ab02-bff0186921a8\",\"type\":\"ColumnDataSource\"},\"glyph\":{\"id\":\"8aa32728-7813-452c-8b80-354d63bfbaf8\",\"type\":\"Line\"},\"hover_glyph\":null,\"muted_glyph\":null,\"nonselection_glyph\":{\"id\":\"6e447998-78b9-4d34-bd48-4fc4d40fc81a\",\"type\":\"Line\"},\"selection_glyph\":null,\"view\":{\"id\":\"0847e5c0-6663-4a9c-b69d-c56b20942bd9\",\"type\":\"CDSView\"}},\"id\":\"80eb0a2f-31c5-411f-b74c-8f4f3323bd4a\",\"type\":\"GlyphRenderer\"},{\"attributes\":{\"fill_alpha\":{\"value\":0.1},\"fill_color\":{\"value\":\"#1f77b4\"},\"line_alpha\":{\"value\":0.1},\"line_color\":{\"value\":\"#1f77b4\"},\"x\":{\"field\":\"x\"},\"y\":{\"field\":\"y\"}},\"id\":\"6df3894c-ea8f-4eec-afee-76b481a36551\",\"type\":\"Square\"},{\"attributes\":{\"data_source\":{\"id\":\"054ac610-6119-4f09-be77-6f15a87fe084\",\"type\":\"ColumnDataSource\"},\"glyph\":{\"id\":\"1cb54c77-46cc-4c95-bb8f-09d8efee2925\",\"type\":\"Square\"},\"hover_glyph\":null,\"muted_glyph\":null,\"nonselection_glyph\":{\"id\":\"6df3894c-ea8f-4eec-afee-76b481a36551\",\"type\":\"Square\"},\"selection_glyph\":null,\"view\":{\"id\":\"1e466e2e-26fc-49fe-b007-3809305dc7e6\",\"type\":\"CDSView\"}},\"id\":\"a4070af2-2c1f-4c7a-b325-12a766736ca3\",\"type\":\"GlyphRenderer\"},{\"attributes\":{\"source\":{\"id\":\"16f7f563-da14-4844-911b-6296f6c20c74\",\"type\":\"ColumnDataSource\"}},\"id\":\"2230d8df-f317-4c32-8f6f-cc414dc9a55d\",\"type\":\"CDSView\"},{\"attributes\":{\"callback\":null,\"column_names\":[\"x\",\"y\"],\"data\":{\"x\":{\"__ndarray__\":\"OsOa67AZ0j/NvKgfzFS4P2dx4IQraKk/ggq2LaSlhT99fGg9gVKSv/kdxWRqRaG/pu7AvKSKpL/XcvIYoXylv1NYEYQXvKW/eI4zEy31pb9LP8WXp3imv7ErnXeyh6e/n3AMh/mAqb/dD+X8Lhuuv3RBBr36orG/yuuYJcc+sb/Yn8mgCBmrv0rSOkwpH6K/bhnsXe5ZkL8+fSXDukBsP3F7zlK8Dpw/lxJMrME4uD/Je1GS4FPMP6d8xo10ac0//YwDlvkaxD+cfXHrZi28P6ZotyZ1s7E/ExbL4x9soD8EOwBWTpGAP+ZltutqWWM/cpJzzDyscT+TJUz3BwFqPxIqiCcaMFA/B1jRcILMPr/DTMxLZsJUvzUBdEszpVq/tm9BQWgHXL9IQxLpegNcv21L8IcQMGK/Y2zPEv5qab/Ey40JPC5tv7qm2/Fh2Gu/Vq39QxBlbL80qEjSrQ9uv7mKyN55A2+/xt8iqgoqbr/fip0Ybahsvy5W+ie9EWu/oRBz3DhIab/+LTujMYNmv7DKjfLo12G/IGmZSE4GVb/FVhMJeEkQv78zITeRilc/ObCnXKv9aT8VsLfyreZ0PwoVQ0rYZH0/79p+at6ngz+Wy3nYoSCIP5BCgncslYs/xp+ApIoNjj+K8oiuZPePPxIdpNUADZE/SbepqmWlkj9A2kEdPRuVP1EADp9Jopg/ic8PtucYnT9U5WSqrOKgP1EHUXXKzqI/wZCdA0AfpD9GeHGejiClPxd8ldpdMKY/TOdq+7yBpz/w8LWfQGOpP0sQeNcOg7A/\",\"dtype\":\"float64\",\"shape\":[75]},\"y\":{\"__ndarray__\":\"GhExyth1ND/Sv8nbtpRIP2vylNV0PVE/aTum7souWD/At0SJ8fVgPw3Iuahxymc/MSNhhJWvcD/bTfBN02d3P2zb5nxnaoA/CD5h5MAGhz8NmeH1TyaQP+zrCsc9p5Y/LbKd76fGnz/bLW5ISEmmPww9YvTcQq8/JV2OstnstT8Er5Y7M8G+P0c+r3jqkcU/5h99k6ZBzj88bCIzFzjVP4enV8oyxN0//yH99nXg5D8qOpLLf0jtP5kqGJXUifQ/c9cS8kHP/D+/DpwzojQEQIEmwoanVwxA4lgXt9HgE0BSSZ2AJuIbQAMJih9jjiNA5q4l5INuK0AwTKYKRj0zQNv5fmq8/DpAaCJseHrtQkB/+zpwzoxKQM3MzMzMeFJAZmZmZmZqWEAAAAAAAFxeQM3MzMzMJmJAmpmZmZkfZUBmZmZmZhhoQDMzMzMzEWtAAAAAAAAKbkBmZmZmZoFwQM3MzMzM/XFAMzMzMzN6c0CamZmZmfZ0QAAAAAAAc3ZAZmZmZmbvd0DNzMzMzGt5QDMzMzMz6HpAmpmZmZlkfEAAAAAAAOF9QGZmZmZmXX9AZmZmZuZsgECamZmZGSuBQM3MzMxM6YFAAAAAAICngkAzMzMzs2WDQGZmZmbmI4RAmpmZmRnihEDNzMzMTKCFQAAAAACAXoZAMzMzM7Mch0BmZmZm5tqHQJqZmZkZmYhAzczMzExXiUAAAAAAgBWKQDMzMzOz04pAZmZmZuaRi0CamZmZGVCMQM3MzMxMDo1AAAAAAIDMjUAzMzMzs4qOQGZmZmbmSI9A\",\"dtype\":\"float64\",\"shape\":[75]}}},\"id\":\"054ac610-6119-4f09-be77-6f15a87fe084\",\"type\":\"ColumnDataSource\"},{\"attributes\":{},\"id\":\"977cdc0b-7ecc-4fb1-83e7-c0875ccd46ec\",\"type\":\"LogScale\"},{\"attributes\":{\"source\":{\"id\":\"054ac610-6119-4f09-be77-6f15a87fe084\",\"type\":\"ColumnDataSource\"}},\"id\":\"1e466e2e-26fc-49fe-b007-3809305dc7e6\",\"type\":\"CDSView\"},{\"attributes\":{\"source\":{\"id\":\"066d331c-bf37-4dda-ab02-bff0186921a8\",\"type\":\"ColumnDataSource\"}},\"id\":\"0847e5c0-6663-4a9c-b69d-c56b20942bd9\",\"type\":\"CDSView\"},{\"attributes\":{\"axis_label\":\"pressure [mb]\",\"formatter\":{\"id\":\"285e309f-fd06-44a2-bb70-3d12522dc529\",\"type\":\"LogTickFormatter\"},\"plot\":{\"id\":\"87f08b5a-9fc1-4704-99be-0de6ff2c529c\",\"subtype\":\"Figure\",\"type\":\"Plot\"},\"ticker\":{\"id\":\"ce7d79c8-72f1-41d4-b8fb-4824357304cb\",\"type\":\"LogTicker\"}},\"id\":\"f5c3ac50-2155-4693-8b4b-ecb09e62a7ec\",\"type\":\"LogAxis\"},{\"attributes\":{\"line_alpha\":0.1,\"line_color\":\"#1f77b4\",\"line_width\":1.5,\"x\":{\"field\":\"x\"},\"y\":{\"field\":\"y\"}},\"id\":\"6e447998-78b9-4d34-bd48-4fc4d40fc81a\",\"type\":\"Line\"},{\"attributes\":{\"data_source\":{\"id\":\"16f7f563-da14-4844-911b-6296f6c20c74\",\"type\":\"ColumnDataSource\"},\"glyph\":{\"id\":\"87d3dcc1-fcf1-4052-bfc5-53dd59a8348a\",\"type\":\"Line\"},\"hover_glyph\":null,\"muted_glyph\":null,\"nonselection_glyph\":{\"id\":\"0bf9ee3c-38e9-4ac1-9fea-c01b825ce5a2\",\"type\":\"Line\"},\"selection_glyph\":null,\"view\":{\"id\":\"2230d8df-f317-4c32-8f6f-cc414dc9a55d\",\"type\":\"CDSView\"}},\"id\":\"c04a23ab-9893-4dc8-a2ac-0a0a9a73014f\",\"type\":\"GlyphRenderer\"},{\"attributes\":{},\"id\":\"dd62216b-b58a-4cba-b5e8-50572e70dfdc\",\"type\":\"SaveTool\"},{\"attributes\":{\"line_alpha\":0.1,\"line_color\":\"#1f77b4\",\"line_width\":3,\"x\":{\"field\":\"x\"},\"y\":{\"field\":\"y\"}},\"id\":\"0bf9ee3c-38e9-4ac1-9fea-c01b825ce5a2\",\"type\":\"Line\"},{\"attributes\":{\"fill_alpha\":{\"value\":0.7},\"fill_color\":{\"value\":\"#984ea3\"},\"line_alpha\":{\"value\":0.7},\"line_color\":{\"value\":\"#984ea3\"},\"x\":{\"field\":\"x\"},\"y\":{\"field\":\"y\"}},\"id\":\"1cb54c77-46cc-4c95-bb8f-09d8efee2925\",\"type\":\"Square\"},{\"attributes\":{\"fill_alpha\":{\"value\":0.1},\"fill_color\":{\"value\":\"#1f77b4\"},\"line_alpha\":{\"value\":0.1},\"line_color\":{\"value\":\"#1f77b4\"},\"x\":{\"field\":\"x\"},\"y\":{\"field\":\"y\"}},\"id\":\"37908ce2-10a9-4d0e-8c8a-30463736257f\",\"type\":\"Square\"},{\"attributes\":{\"line_color\":\"#4daf4a\",\"line_width\":1.5,\"x\":{\"field\":\"x\"},\"y\":{\"field\":\"y\"}},\"id\":\"8aa32728-7813-452c-8b80-354d63bfbaf8\",\"type\":\"Line\"},{\"attributes\":{\"line_alpha\":0.6,\"line_color\":\"#984ea3\",\"line_width\":3,\"x\":{\"field\":\"x\"},\"y\":{\"field\":\"y\"}},\"id\":\"87d3dcc1-fcf1-4052-bfc5-53dd59a8348a\",\"type\":\"Line\"},{\"attributes\":{\"items\":[{\"id\":\"c4af978c-4458-4301-aa5a-1173f7e66c31\",\"type\":\"LegendItem\"},{\"id\":\"d6fdeb4b-1dd9-4ea9-9231-6e4c3614152a\",\"type\":\"LegendItem\"},{\"id\":\"91a19225-b113-4f38-97fa-6caa27c8425e\",\"type\":\"LegendItem\"}],\"label_text_font_size\":{\"value\":\"8pt\"},\"location\":[10,-30],\"plot\":{\"id\":\"87f08b5a-9fc1-4704-99be-0de6ff2c529c\",\"subtype\":\"Figure\",\"type\":\"Plot\"}},\"id\":\"3bc9129b-e038-4a52-97d5-e3b780187794\",\"type\":\"Legend\"},{\"attributes\":{},\"id\":\"ebbebafb-cf4b-4779-8787-cd12c4c5f824\",\"type\":\"HelpTool\"},{\"attributes\":{\"callback\":null,\"end\":0.27503119118999997,\"start\":-0.07229831019},\"id\":\"44df26a9-b16a-4c21-9a53-41165e69386f\",\"type\":\"Range1d\"},{\"attributes\":{\"label\":{\"value\":\"CRD\"},\"renderers\":[{\"id\":\"911c049d-9d00-4a43-96f7-bd14ee9f8361\",\"type\":\"GlyphRenderer\"},{\"id\":\"80eb0a2f-31c5-411f-b74c-8f4f3323bd4a\",\"type\":\"GlyphRenderer\"}]},\"id\":\"d6fdeb4b-1dd9-4ea9-9231-6e4c3614152a\",\"type\":\"LegendItem\"},{\"attributes\":{\"callback\":null,\"column_names\":[\"x\",\"y\"],\"data\":{\"x\":{\"__ndarray__\":\"OsOa67AZ0j/NvKgfzFS4P2dx4IQraKk/ggq2LaSlhT99fGg9gVKSv/kdxWRqRaG/pu7AvKSKpL/XcvIYoXylv1NYEYQXvKW/eI4zEy31pb9LP8WXp3imv7ErnXeyh6e/n3AMh/mAqb/dD+X8Lhuuv3RBBr36orG/yuuYJcc+sb/Yn8mgCBmrv0rSOkwpH6K/bhnsXe5ZkL8+fSXDukBsP3F7zlK8Dpw/lxJMrME4uD/Je1GS4FPMP6d8xo10ac0//YwDlvkaxD+cfXHrZi28P6ZotyZ1s7E/ExbL4x9soD8EOwBWTpGAP+ZltutqWWM/cpJzzDyscT+TJUz3BwFqPxIqiCcaMFA/B1jRcILMPr/DTMxLZsJUvzUBdEszpVq/tm9BQWgHXL9IQxLpegNcv21L8IcQMGK/Y2zPEv5qab/Ey40JPC5tv7qm2/Fh2Gu/Vq39QxBlbL80qEjSrQ9uv7mKyN55A2+/xt8iqgoqbr/fip0Ybahsvy5W+ie9EWu/oRBz3DhIab/+LTujMYNmv7DKjfLo12G/IGmZSE4GVb/FVhMJeEkQv78zITeRilc/ObCnXKv9aT8VsLfyreZ0PwoVQ0rYZH0/79p+at6ngz+Wy3nYoSCIP5BCgncslYs/xp+ApIoNjj+K8oiuZPePPxIdpNUADZE/SbepqmWlkj9A2kEdPRuVP1EADp9Jopg/ic8PtucYnT9U5WSqrOKgP1EHUXXKzqI/wZCdA0AfpD9GeHGejiClPxd8ldpdMKY/TOdq+7yBpz/w8LWfQGOpP0sQeNcOg7A/\",\"dtype\":\"float64\",\"shape\":[75]},\"y\":{\"__ndarray__\":\"GhExyth1ND/Sv8nbtpRIP2vylNV0PVE/aTum7souWD/At0SJ8fVgPw3Iuahxymc/MSNhhJWvcD/bTfBN02d3P2zb5nxnaoA/CD5h5MAGhz8NmeH1TyaQP+zrCsc9p5Y/LbKd76fGnz/bLW5ISEmmPww9YvTcQq8/JV2OstnstT8Er5Y7M8G+P0c+r3jqkcU/5h99k6ZBzj88bCIzFzjVP4enV8oyxN0//yH99nXg5D8qOpLLf0jtP5kqGJXUifQ/c9cS8kHP/D+/DpwzojQEQIEmwoanVwxA4lgXt9HgE0BSSZ2AJuIbQAMJih9jjiNA5q4l5INuK0AwTKYKRj0zQNv5fmq8/DpAaCJseHrtQkB/+zpwzoxKQM3MzMzMeFJAZmZmZmZqWEAAAAAAAFxeQM3MzMzMJmJAmpmZmZkfZUBmZmZmZhhoQDMzMzMzEWtAAAAAAAAKbkBmZmZmZoFwQM3MzMzM/XFAMzMzMzN6c0CamZmZmfZ0QAAAAAAAc3ZAZmZmZmbvd0DNzMzMzGt5QDMzMzMz6HpAmpmZmZlkfEAAAAAAAOF9QGZmZmZmXX9AZmZmZuZsgECamZmZGSuBQM3MzMxM6YFAAAAAAICngkAzMzMzs2WDQGZmZmbmI4RAmpmZmRnihEDNzMzMTKCFQAAAAACAXoZAMzMzM7Mch0BmZmZm5tqHQJqZmZkZmYhAzczMzExXiUAAAAAAgBWKQDMzMzOz04pAZmZmZuaRi0CamZmZGVCMQM3MzMxMDo1AAAAAAIDMjUAzMzMzs4qOQGZmZmbmSI9A\",\"dtype\":\"float64\",\"shape\":[75]}}},\"id\":\"16f7f563-da14-4844-911b-6296f6c20c74\",\"type\":\"ColumnDataSource\"},{\"attributes\":{\"data_source\":{\"id\":\"215756dc-75c1-4820-aad8-5076aeea9057\",\"type\":\"ColumnDataSource\"},\"glyph\":{\"id\":\"9c310310-062d-41b3-afd4-ae48cb3e8293\",\"type\":\"Square\"},\"hover_glyph\":null,\"muted_glyph\":null,\"nonselection_glyph\":{\"id\":\"37908ce2-10a9-4d0e-8c8a-30463736257f\",\"type\":\"Square\"},\"selection_glyph\":null,\"view\":{\"id\":\"3313806a-f60d-429a-987f-1b782928cac8\",\"type\":\"CDSView\"}},\"id\":\"d8c4d2d4-f99d-4df4-a641-9978fe5e3ad2\",\"type\":\"GlyphRenderer\"},{\"attributes\":{\"label\":{\"value\":\"CLIRAD `coolr_bands`\"},\"renderers\":[{\"id\":\"a40ef70c-e202-4f08-be55-5a177b72c944\",\"type\":\"GlyphRenderer\"}]},\"id\":\"c4af978c-4458-4301-aa5a-1173f7e66c31\",\"type\":\"LegendItem\"},{\"attributes\":{\"source\":{\"id\":\"215756dc-75c1-4820-aad8-5076aeea9057\",\"type\":\"ColumnDataSource\"}},\"id\":\"3313806a-f60d-429a-987f-1b782928cac8\",\"type\":\"CDSView\"},{\"attributes\":{\"callback\":null,\"column_names\":[\"x\",\"y\"],\"data\":{\"x\":{\"__ndarray__\":\"OsOa67AZ0j/NvKgfzFS4P2dx4IQraKk/ggq2LaSlhT99fGg9gVKSv/kdxWRqRaG/pu7AvKSKpL/XcvIYoXylv1NYEYQXvKW/eI4zEy31pb9LP8WXp3imv7ErnXeyh6e/n3AMh/mAqb/dD+X8Lhuuv3RBBr36orG/yuuYJcc+sb/Yn8mgCBmrv0rSOkwpH6K/bhnsXe5ZkL8+fSXDukBsP3F7zlK8Dpw/lxJMrME4uD/Je1GS4FPMP6d8xo10ac0//YwDlvkaxD+cfXHrZi28P6ZotyZ1s7E/ExbL4x9soD8EOwBWTpGAP+ZltutqWWM/cpJzzDyscT+TJUz3BwFqPxIqiCcaMFA/B1jRcILMPr/DTMxLZsJUvzUBdEszpVq/tm9BQWgHXL9IQxLpegNcv21L8IcQMGK/Y2zPEv5qab/Ey40JPC5tv7qm2/Fh2Gu/Vq39QxBlbL80qEjSrQ9uv7mKyN55A2+/xt8iqgoqbr/fip0Ybahsvy5W+ie9EWu/oRBz3DhIab/+LTujMYNmv7DKjfLo12G/IGmZSE4GVb/FVhMJeEkQv78zITeRilc/ObCnXKv9aT8VsLfyreZ0PwoVQ0rYZH0/79p+at6ngz+Wy3nYoSCIP5BCgncslYs/xp+ApIoNjj+K8oiuZPePPxIdpNUADZE/SbepqmWlkj9A2kEdPRuVP1EADp9Jopg/ic8PtucYnT9U5WSqrOKgP1EHUXXKzqI/wZCdA0AfpD9GeHGejiClPxd8ldpdMKY/TOdq+7yBpz/w8LWfQGOpP0sQeNcOg7A/\",\"dtype\":\"float64\",\"shape\":[75]},\"y\":{\"__ndarray__\":\"GhExyth1ND/Sv8nbtpRIP2vylNV0PVE/aTum7souWD/At0SJ8fVgPw3Iuahxymc/MSNhhJWvcD/bTfBN02d3P2zb5nxnaoA/CD5h5MAGhz8NmeH1TyaQP+zrCsc9p5Y/LbKd76fGnz/bLW5ISEmmPww9YvTcQq8/JV2OstnstT8Er5Y7M8G+P0c+r3jqkcU/5h99k6ZBzj88bCIzFzjVP4enV8oyxN0//yH99nXg5D8qOpLLf0jtP5kqGJXUifQ/c9cS8kHP/D+/DpwzojQEQIEmwoanVwxA4lgXt9HgE0BSSZ2AJuIbQAMJih9jjiNA5q4l5INuK0AwTKYKRj0zQNv5fmq8/DpAaCJseHrtQkB/+zpwzoxKQM3MzMzMeFJAZmZmZmZqWEAAAAAAAFxeQM3MzMzMJmJAmpmZmZkfZUBmZmZmZhhoQDMzMzMzEWtAAAAAAAAKbkBmZmZmZoFwQM3MzMzM/XFAMzMzMzN6c0CamZmZmfZ0QAAAAAAAc3ZAZmZmZmbvd0DNzMzMzGt5QDMzMzMz6HpAmpmZmZlkfEAAAAAAAOF9QGZmZmZmXX9AZmZmZuZsgECamZmZGSuBQM3MzMxM6YFAAAAAAICngkAzMzMzs2WDQGZmZmbmI4RAmpmZmRnihEDNzMzMTKCFQAAAAACAXoZAMzMzM7Mch0BmZmZm5tqHQJqZmZkZmYhAzczMzExXiUAAAAAAgBWKQDMzMzOz04pAZmZmZuaRi0CamZmZGVCMQM3MzMxMDo1AAAAAAIDMjUAzMzMzs4qOQGZmZmbmSI9A\",\"dtype\":\"float64\",\"shape\":[75]}}},\"id\":\"48a16172-8b86-4b1a-bef0-6afc05415862\",\"type\":\"ColumnDataSource\"}],\"root_ids\":[\"eafeed9e-5d56-473c-a1b2-2606846744fb\"]},\"title\":\"Bokeh Application\",\"version\":\"0.12.14\"}};\n",
       "  var render_items = [{\"docid\":\"4dba1f9a-86d5-42d2-8d7b-9625d58d5782\",\"elementid\":\"b90591bd-8c26-45ac-af4f-4ea54ab8b39c\",\"modelid\":\"eafeed9e-5d56-473c-a1b2-2606846744fb\"}];\n",
       "  root.Bokeh.embed.embed_items_notebook(docs_json, render_items);\n",
       "\n",
       "  }\n",
       "  if (root.Bokeh !== undefined) {\n",
       "    embed_document(root);\n",
       "  } else {\n",
       "    var attempts = 0;\n",
       "    var timer = setInterval(function(root) {\n",
       "      if (root.Bokeh !== undefined) {\n",
       "        embed_document(root);\n",
       "        clearInterval(timer);\n",
       "      }\n",
       "      attempts++;\n",
       "      if (attempts > 100) {\n",
       "        console.log(\"Bokeh: ERROR: Unable to run BokehJS code because BokehJS library is missing\")\n",
       "        clearInterval(timer);\n",
       "      }\n",
       "    }, 10, root)\n",
       "  }\n",
       "})(window);"
      ],
      "application/vnd.bokehjs_exec.v0+json": ""
     },
     "metadata": {
      "application/vnd.bokehjs_exec.v0+json": {
       "id": "eafeed9e-5d56-473c-a1b2-2606846744fb"
      }
     },
     "output_type": "display_data"
    },
    {
     "name": "stdout",
     "output_type": "stream",
     "text": [
      "FIGURE. Cooling rate profiles.\n"
     ]
    },
    {
     "data": {
      "text/html": [
       "<a id=\"Flux_Comparison\"></a>"
      ],
      "text/plain": [
       "<IPython.core.display.HTML object>"
      ]
     },
     "metadata": {},
     "output_type": "display_data"
    },
    {
     "data": {
      "text/markdown": [
       "# Flux Comparison"
      ],
      "text/plain": [
       "<IPython.core.display.Markdown object>"
      ]
     },
     "metadata": {},
     "output_type": "display_data"
    },
    {
     "data": {
      "text/html": [
       "<div>\n",
       "<style>\n",
       "    .dataframe thead tr:only-child th {\n",
       "        text-align: right;\n",
       "    }\n",
       "\n",
       "    .dataframe thead th {\n",
       "        text-align: left;\n",
       "    }\n",
       "\n",
       "    .dataframe tbody tr th {\n",
       "        vertical-align: top;\n",
       "    }\n",
       "</style>\n",
       "<table border=\"1\" class=\"dataframe\">\n",
       "  <thead>\n",
       "    <tr style=\"text-align: right;\">\n",
       "      <th></th>\n",
       "      <th></th>\n",
       "      <th>flug</th>\n",
       "      <th>fldg</th>\n",
       "      <th>fnetg</th>\n",
       "    </tr>\n",
       "    <tr>\n",
       "      <th>pressure</th>\n",
       "      <th>level</th>\n",
       "      <th></th>\n",
       "      <th></th>\n",
       "      <th></th>\n",
       "    </tr>\n",
       "  </thead>\n",
       "  <tbody>\n",
       "    <tr>\n",
       "      <th>0.0000</th>\n",
       "      <th>1</th>\n",
       "      <td>-4.023297</td>\n",
       "      <td>0.000000</td>\n",
       "      <td>-4.023297</td>\n",
       "    </tr>\n",
       "    <tr>\n",
       "      <th>1.0685</th>\n",
       "      <th>24</th>\n",
       "      <td>-4.030783</td>\n",
       "      <td>0.017237</td>\n",
       "      <td>-4.013546</td>\n",
       "    </tr>\n",
       "    <tr>\n",
       "      <th>1013.0000</th>\n",
       "      <th>76</th>\n",
       "      <td>-6.625452</td>\n",
       "      <td>4.062985</td>\n",
       "      <td>-2.562467</td>\n",
       "    </tr>\n",
       "  </tbody>\n",
       "</table>\n",
       "</div>"
      ],
      "text/plain": [
       "                     flug      fldg     fnetg\n",
       "pressure  level                              \n",
       "0.0000    1     -4.023297  0.000000 -4.023297\n",
       "1.0685    24    -4.030783  0.017237 -4.013546\n",
       "1013.0000 76    -6.625452  4.062985 -2.562467"
      ]
     },
     "metadata": {},
     "output_type": "display_data"
    },
    {
     "name": "stdout",
     "output_type": "stream",
     "text": [
      "Table. Fluxes. WGT igg=10 wgt_flux=1\n"
     ]
    },
    {
     "data": {
      "text/html": [
       "<div>\n",
       "<style>\n",
       "    .dataframe thead tr:only-child th {\n",
       "        text-align: right;\n",
       "    }\n",
       "\n",
       "    .dataframe thead th {\n",
       "        text-align: left;\n",
       "    }\n",
       "\n",
       "    .dataframe tbody tr th {\n",
       "        vertical-align: top;\n",
       "    }\n",
       "</style>\n",
       "<table border=\"1\" class=\"dataframe\">\n",
       "  <thead>\n",
       "    <tr style=\"text-align: right;\">\n",
       "      <th></th>\n",
       "      <th></th>\n",
       "      <th>flug</th>\n",
       "      <th>fldg</th>\n",
       "      <th>fnetg</th>\n",
       "    </tr>\n",
       "    <tr>\n",
       "      <th>pressure</th>\n",
       "      <th>level</th>\n",
       "      <th></th>\n",
       "      <th></th>\n",
       "      <th></th>\n",
       "    </tr>\n",
       "  </thead>\n",
       "  <tbody>\n",
       "    <tr>\n",
       "      <th>0.0000</th>\n",
       "      <th>1</th>\n",
       "      <td>-4.087499</td>\n",
       "      <td>0.000000</td>\n",
       "      <td>-4.087499</td>\n",
       "    </tr>\n",
       "    <tr>\n",
       "      <th>1.0685</th>\n",
       "      <th>24</th>\n",
       "      <td>-4.094944</td>\n",
       "      <td>0.018859</td>\n",
       "      <td>-4.076085</td>\n",
       "    </tr>\n",
       "    <tr>\n",
       "      <th>1013.0000</th>\n",
       "      <th>76</th>\n",
       "      <td>-6.625452</td>\n",
       "      <td>4.061761</td>\n",
       "      <td>-2.563691</td>\n",
       "    </tr>\n",
       "  </tbody>\n",
       "</table>\n",
       "</div>"
      ],
      "text/plain": [
       "                     flug      fldg     fnetg\n",
       "pressure  level                              \n",
       "0.0000    1     -4.087499  0.000000 -4.087499\n",
       "1.0685    24    -4.094944  0.018859 -4.076085\n",
       "1013.0000 76    -6.625452  4.061761 -2.563691"
      ]
     },
     "metadata": {},
     "output_type": "display_data"
    },
    {
     "name": "stdout",
     "output_type": "stream",
     "text": [
      "Table. Fluxes. CRD\n"
     ]
    },
    {
     "data": {
      "text/html": [
       "<div>\n",
       "<style>\n",
       "    .dataframe thead tr:only-child th {\n",
       "        text-align: right;\n",
       "    }\n",
       "\n",
       "    .dataframe thead th {\n",
       "        text-align: left;\n",
       "    }\n",
       "\n",
       "    .dataframe tbody tr th {\n",
       "        vertical-align: top;\n",
       "    }\n",
       "</style>\n",
       "<table border=\"1\" class=\"dataframe\">\n",
       "  <thead>\n",
       "    <tr style=\"text-align: right;\">\n",
       "      <th></th>\n",
       "      <th></th>\n",
       "      <th>flug</th>\n",
       "      <th>fldg</th>\n",
       "      <th>fnetg</th>\n",
       "    </tr>\n",
       "    <tr>\n",
       "      <th>pressure</th>\n",
       "      <th>level</th>\n",
       "      <th></th>\n",
       "      <th></th>\n",
       "      <th></th>\n",
       "    </tr>\n",
       "  </thead>\n",
       "  <tbody>\n",
       "    <tr>\n",
       "      <th>1.000000e-08</th>\n",
       "      <th>1</th>\n",
       "      <td>-4.022599</td>\n",
       "      <td>0.000002</td>\n",
       "      <td>-4.022597</td>\n",
       "    </tr>\n",
       "    <tr>\n",
       "      <th>1.068500e+00</th>\n",
       "      <th>24</th>\n",
       "      <td>-4.030184</td>\n",
       "      <td>0.017642</td>\n",
       "      <td>-4.012541</td>\n",
       "    </tr>\n",
       "    <tr>\n",
       "      <th>1.013000e+03</th>\n",
       "      <th>76</th>\n",
       "      <td>-6.625452</td>\n",
       "      <td>4.068976</td>\n",
       "      <td>-2.556476</td>\n",
       "    </tr>\n",
       "  </tbody>\n",
       "</table>\n",
       "</div>"
      ],
      "text/plain": [
       "                        flug      fldg     fnetg\n",
       "pressure     level                              \n",
       "1.000000e-08 1     -4.022599  0.000002 -4.022597\n",
       "1.068500e+00 24    -4.030184  0.017642 -4.012541\n",
       "1.013000e+03 76    -6.625452  4.068976 -2.556476"
      ]
     },
     "metadata": {},
     "output_type": "display_data"
    },
    {
     "name": "stdout",
     "output_type": "stream",
     "text": [
      "Table. Fluxes. CLIRAD\n"
     ]
    },
    {
     "data": {
      "text/html": [
       "<div>\n",
       "<style>\n",
       "    .dataframe thead tr:only-child th {\n",
       "        text-align: right;\n",
       "    }\n",
       "\n",
       "    .dataframe thead th {\n",
       "        text-align: left;\n",
       "    }\n",
       "\n",
       "    .dataframe tbody tr th {\n",
       "        vertical-align: top;\n",
       "    }\n",
       "</style>\n",
       "<table border=\"1\" class=\"dataframe\">\n",
       "  <thead>\n",
       "    <tr style=\"text-align: right;\">\n",
       "      <th></th>\n",
       "      <th></th>\n",
       "      <th>flug</th>\n",
       "      <th>fldg</th>\n",
       "      <th>fnetg</th>\n",
       "    </tr>\n",
       "    <tr>\n",
       "      <th>pressure</th>\n",
       "      <th>level</th>\n",
       "      <th></th>\n",
       "      <th></th>\n",
       "      <th></th>\n",
       "    </tr>\n",
       "  </thead>\n",
       "  <tbody>\n",
       "    <tr>\n",
       "      <th>0.0000</th>\n",
       "      <th>1</th>\n",
       "      <td>-0.064203</td>\n",
       "      <td>0.000000</td>\n",
       "      <td>-0.064203</td>\n",
       "    </tr>\n",
       "    <tr>\n",
       "      <th>1.0685</th>\n",
       "      <th>24</th>\n",
       "      <td>-0.064161</td>\n",
       "      <td>0.001622</td>\n",
       "      <td>-0.062539</td>\n",
       "    </tr>\n",
       "    <tr>\n",
       "      <th>1013.0000</th>\n",
       "      <th>76</th>\n",
       "      <td>0.000000</td>\n",
       "      <td>-0.001224</td>\n",
       "      <td>-0.001224</td>\n",
       "    </tr>\n",
       "  </tbody>\n",
       "</table>\n",
       "</div>"
      ],
      "text/plain": [
       "                     flug      fldg     fnetg\n",
       "pressure  level                              \n",
       "0.0000    1     -0.064203  0.000000 -0.064203\n",
       "1.0685    24    -0.064161  0.001622 -0.062539\n",
       "1013.0000 76     0.000000 -0.001224 -0.001224"
      ]
     },
     "metadata": {},
     "output_type": "display_data"
    },
    {
     "name": "stdout",
     "output_type": "stream",
     "text": [
      "Table. Fluxes. (CRD) - (WGT igg=10 wgt_flux=1)\n"
     ]
    },
    {
     "data": {
      "text/html": [
       "<div>\n",
       "<style>\n",
       "    .dataframe thead tr:only-child th {\n",
       "        text-align: right;\n",
       "    }\n",
       "\n",
       "    .dataframe thead th {\n",
       "        text-align: left;\n",
       "    }\n",
       "\n",
       "    .dataframe tbody tr th {\n",
       "        vertical-align: top;\n",
       "    }\n",
       "</style>\n",
       "<table border=\"1\" class=\"dataframe\">\n",
       "  <thead>\n",
       "    <tr style=\"text-align: right;\">\n",
       "      <th></th>\n",
       "      <th></th>\n",
       "      <th>flug</th>\n",
       "      <th>fldg</th>\n",
       "      <th>fnetg</th>\n",
       "    </tr>\n",
       "    <tr>\n",
       "      <th>pressure</th>\n",
       "      <th>level</th>\n",
       "      <th></th>\n",
       "      <th></th>\n",
       "      <th></th>\n",
       "    </tr>\n",
       "  </thead>\n",
       "  <tbody>\n",
       "    <tr>\n",
       "      <th>0.0000</th>\n",
       "      <th>1</th>\n",
       "      <td>6.976000e-04</td>\n",
       "      <td>0.000002</td>\n",
       "      <td>0.000699</td>\n",
       "    </tr>\n",
       "    <tr>\n",
       "      <th>1.0685</th>\n",
       "      <th>24</th>\n",
       "      <td>5.990000e-04</td>\n",
       "      <td>0.000405</td>\n",
       "      <td>0.001005</td>\n",
       "    </tr>\n",
       "    <tr>\n",
       "      <th>1013.0000</th>\n",
       "      <th>76</th>\n",
       "      <td>3.000000e-07</td>\n",
       "      <td>0.005991</td>\n",
       "      <td>0.005992</td>\n",
       "    </tr>\n",
       "  </tbody>\n",
       "</table>\n",
       "</div>"
      ],
      "text/plain": [
       "                         flug      fldg     fnetg\n",
       "pressure  level                                  \n",
       "0.0000    1      6.976000e-04  0.000002  0.000699\n",
       "1.0685    24     5.990000e-04  0.000405  0.001005\n",
       "1013.0000 76     3.000000e-07  0.005991  0.005992"
      ]
     },
     "metadata": {},
     "output_type": "display_data"
    },
    {
     "name": "stdout",
     "output_type": "stream",
     "text": [
      "Table. Fluxes. (CLIRAD) - (WGT igg=10 wgt_flux=1)\n"
     ]
    },
    {
     "data": {
      "text/html": [
       "<a id=\"Best-fit_Parameters\"></a>"
      ],
      "text/plain": [
       "<IPython.core.display.HTML object>"
      ]
     },
     "metadata": {},
     "output_type": "display_data"
    },
    {
     "data": {
      "text/markdown": [
       "# Best-fit Parameters"
      ],
      "text/plain": [
       "<IPython.core.display.Markdown object>"
      ]
     },
     "metadata": {},
     "output_type": "display_data"
    },
    {
     "name": "stdout",
     "output_type": "stream",
     "text": [
      "Best-fit values for each (gas, band)\n",
      "------------------------------------\n",
      "o h2o band9\n",
      "  molecule = h2o\n",
      "  band = 9\n",
      "  commitnumber = d5931a1\n",
      "  vmin = 1900\n",
      "  vmax = 3000\n",
      "  dv = 0.001\n",
      "  nv = 1000\n",
      "  ref_pts = [(500, 250)]\n",
      "  ng_refs = [5]\n",
      "  ng_adju = [0]\n",
      "  klin = 1e-24\n",
      "  option_wgt_k = 1\n",
      "  wgt = [(0.4, 0.4, 0.5, 0.55, 0.85)]\n",
      "  w_diffuse = [(1.66, 1.66, 1.66, 1.66, 1.66)]\n",
      "  option_wgt_flux = 1\n",
      "  atmpro = mls\n",
      "  tsfc = 294\n",
      "  conc = None\n",
      "  option_compute_btable = 0\n",
      "  option_compute_ktable = 1\n",
      "o co2 band9\n",
      "  molecule = co2\n",
      "  band = 9\n",
      "  commitnumber = d5931a1\n",
      "  vmin = 1900\n",
      "  vmax = 3000\n",
      "  dv = 0.001\n",
      "  nv = 1000\n",
      "  ref_pts = [(1, 250), (50, 250)]\n",
      "  ng_refs = [3, 3]\n",
      "  ng_adju = [0, 0]\n",
      "  klin = 6.5e-24\n",
      "  option_wgt_k = 1\n",
      "  wgt = [(0.7, 0.7, 0.7), (0.7, 0.7, 0.8)]\n",
      "  w_diffuse = [(1.66, 1.66, 1.66), (1.66, 1.66, 1.8)]\n",
      "  option_wgt_flux = 1\n",
      "  atmpro = mls\n",
      "  tsfc = 294\n",
      "  conc = 0.0004\n",
      "  option_compute_btable = 0\n",
      "  option_compute_ktable = 1\n"
     ]
    }
   ],
   "source": [
    "def show_html(s):\n",
    "    display.display(display.HTML(s))\n",
    "\n",
    "    \n",
    "def show_markdown(s):\n",
    "    display.display(display.Markdown(s))\n",
    "\n",
    "    \n",
    "def script():\n",
    "    \n",
    "    title = '### CLIRAD-LW'\n",
    "    s_input = 'Input Parameters'\n",
    "    s_bestfits = 'Best-fit Parameters'\n",
    "    s_plt_cooling = 'Cooling Rate Profiles'\n",
    "    s_tb_flux = 'Flux Comparison'\n",
    "    \n",
    "    # title\n",
    "    show_markdown('### CLIRAD-LW')\n",
    "    \n",
    "    # TOC\n",
    "    show_markdown('### Table of Content')\n",
    "    show_html(climahtml.getHTML_hrefanchor(s_input))\n",
    "    show_html(climahtml.getHTML_hrefanchor(s_plt_cooling))\n",
    "    show_html(climahtml.getHTML_hrefanchor(s_tb_flux))\n",
    "    show_html(climahtml.getHTML_hrefanchor(s_bestfits))\n",
    "    \n",
    "    # Input parameters\n",
    "    show_html(climahtml.getHTML_idanchor(s_input))\n",
    "    show_markdown(climahtml.getMarkdown_sectitle(s_input))\n",
    "    print_input_param()\n",
    "    \n",
    "    # Cooling rate profiles\n",
    "    show_html(climahtml.getHTML_idanchor(s_plt_cooling))\n",
    "    show_markdown(climahtml.getMarkdown_sectitle(s_plt_cooling))\n",
    "    script_plt_cooling()\n",
    "    \n",
    "    # Flux comparison\n",
    "    show_html(climahtml.getHTML_idanchor(s_tb_flux))\n",
    "    show_markdown(climahtml.getMarkdown_sectitle(s_tb_flux))\n",
    "    script_tb_flux()\n",
    "    \n",
    "    # Best-fit values\n",
    "    show_html(climahtml.getHTML_idanchor(s_bestfits))\n",
    "    show_markdown(climahtml.getMarkdown_sectitle(s_bestfits))\n",
    "    print_bestfit_params()\n",
    "    \n",
    "    \n",
    "script()\n",
    "    \n",
    "    "
   ]
  },
  {
   "cell_type": "code",
   "execution_count": 69,
   "metadata": {},
   "outputs": [
    {
     "data": {
      "text/html": [
       "<script>\n",
       "code_show=true; \n",
       "function code_toggle() {\n",
       " if (code_show){\n",
       " $('div.input').hide();\n",
       " } else {\n",
       " $('div.input').show();\n",
       " }\n",
       " code_show = !code_show\n",
       "} \n",
       "$( document ).ready(code_toggle);\n",
       "</script>\n",
       "<form action=\"javascript:code_toggle()\"><input type=\"submit\" value=\"Click here to toggle on/off the raw code.\"></form>"
      ],
      "text/plain": [
       "<IPython.core.display.HTML object>"
      ]
     },
     "execution_count": 69,
     "metadata": {},
     "output_type": "execute_result"
    }
   ],
   "source": [
    "display.HTML('''<script>\n",
    "code_show=true; \n",
    "function code_toggle() {\n",
    " if (code_show){\n",
    " $('div.input').hide();\n",
    " } else {\n",
    " $('div.input').show();\n",
    " }\n",
    " code_show = !code_show\n",
    "} \n",
    "$( document ).ready(code_toggle);\n",
    "</script>\n",
    "<form action=\"javascript:code_toggle()\"><input type=\"submit\" value=\"Click here to toggle on/off the raw code.\"></form>''')"
   ]
  }
 ],
 "metadata": {
  "kernelspec": {
   "display_name": "Python 3",
   "language": "python",
   "name": "python3"
  },
  "language_info": {
   "codemirror_mode": {
    "name": "ipython",
    "version": 3
   },
   "file_extension": ".py",
   "mimetype": "text/x-python",
   "name": "python",
   "nbconvert_exporter": "python",
   "pygments_lexer": "ipython3",
   "version": "3.6.1"
  }
 },
 "nbformat": 4,
 "nbformat_minor": 2
}

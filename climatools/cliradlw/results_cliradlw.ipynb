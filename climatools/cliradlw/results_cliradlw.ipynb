{
 "cells": [
  {
   "cell_type": "code",
   "execution_count": 14,
   "metadata": {
    "collapsed": true
   },
   "outputs": [],
   "source": [
    "%matplotlib inline\n",
    "import os\n",
    "import re\n",
    "import io\n",
    "import itertools\n",
    "import pprint\n",
    "\n",
    "from bokeh.io import output_notebook, show\n",
    "from bokeh.layouts import gridplot\n",
    "from bokeh.plotting import figure\n",
    "from bokeh.models import Range1d, Legend\n",
    "from bokeh.palettes import all_palettes\n",
    "\n",
    "import matplotlib\n",
    "import matplotlib.pyplot as plt\n",
    "import numpy as np\n",
    "import pandas as pd\n",
    "import xarray as xr\n",
    "\n",
    "import climatools.lblnew.bestfit_params as bestfits\n",
    "from climatools.lblnew import setup_bestfit, setup_overlap\n",
    "import climatools.lblnew.pipeline as pipe_lblnew\n",
    "import climatools.cliradlw.setup as setup_cliradlw\n",
    "import climatools.cliradlw.pipeline as pipe_cliradlw\n",
    "\n",
    "import climatools.html.html as climahtml\n",
    "from climatools.lblnew.dataio import *\n",
    "from climatools.plot.plot import *\n",
    "\n",
    "\n",
    "import IPython.display as display"
   ]
  },
  {
   "cell_type": "code",
   "execution_count": 15,
   "metadata": {
    "collapsed": true
   },
   "outputs": [],
   "source": [
    "%run param.py"
   ]
  },
  {
   "cell_type": "code",
   "execution_count": 16,
   "metadata": {
    "collapsed": true
   },
   "outputs": [],
   "source": [
    "def load_output_file(path_csv):\n",
    "    '''\n",
    "    Load lblnew output .csv file to xarray.Dataset\n",
    "    \n",
    "    Parameters\n",
    "    ----------\n",
    "    path_csv: str\n",
    "              Path to the .csv file to be loaded.\n",
    "    ds: xarray.Dataset\n",
    "        Data in the input file in the form of an xarray.Dataset.\n",
    "    '''\n",
    "    toindex = ['band', 'pressure', 'igg', 'g']    \n",
    "    df = pd.read_csv(path_csv, sep=r'\\s+')\n",
    "    df = df.set_index([i for i in toindex if i in df.columns])\n",
    "    df = df.rename(columns={'sfu': 'flug',\n",
    "                            'sfd': 'fldg',\n",
    "                            'fnet': 'fnetg',\n",
    "                            'coolr': 'coolrg'})\n",
    "    ds = xr.Dataset.from_dataframe(df)\n",
    "\n",
    "    for l in ('level', 'layer'):\n",
    "        if l in ds.data_vars:\n",
    "            if len(ds[l].dims) > 1:\n",
    "                surface = {d: 0 for d in ds.dims if d != 'pressure'}\n",
    "                coord_level = ds[l][surface]\n",
    "                ds.coords[l] = ('pressure', coord_level)\n",
    "            else:\n",
    "                ds.coords[l] = ('pressure', ds[l])\n",
    "    \n",
    "    return ds"
   ]
  },
  {
   "cell_type": "code",
   "execution_count": 17,
   "metadata": {
    "collapsed": true
   },
   "outputs": [],
   "source": [
    "def lblnew_setup(param=None):\n",
    "    if 'ng_refs' in param:\n",
    "        return {'setup': setup_bestfit,\n",
    "                'fname_flux_crd': 'output_flux.dat',\n",
    "                'fname_cool_crd': 'output_coolr.dat',\n",
    "                'fname_flux_wgt': 'output_wfluxg.dat',\n",
    "                'fname_cool_wgt': 'output_wcoolrg.dat'}\n",
    "    else:\n",
    "        return {'setup': setup_overlap,\n",
    "                'fname_flux_crd': 'output_flux.dat',\n",
    "                'fname_cool_crd': 'output_coolr.dat',\n",
    "                'fname_flux_wgt': 'output_wflux.dat',\n",
    "                'fname_cool_wgt': 'output_wcoolr.dat'}\n",
    "\n",
    "    \n",
    "def load_lblnew_data(param):\n",
    "    \n",
    "    fname_dsname = [('fname_flux_crd', 'ds_flux_crd'),\n",
    "                    ('fname_cool_crd', 'ds_cool_crd'),\n",
    "                    ('fname_flux_wgt', 'ds_flux_wgt'),\n",
    "                    ('fname_cool_wgt', 'ds_cool_wgt')]\n",
    "    \n",
    "    d = lblnew_setup(param)\n",
    "    dir_fortran = pipe_lblnew.get_dir_case(param, setup=d['setup'])\n",
    "    \n",
    "    data_dict = {}\n",
    "    for fname, dsname in fname_dsname:\n",
    "        fpath = os.path.join(dir_fortran, d[fname])\n",
    "        data_dict[dsname] = load_output_file(fpath)\n",
    "    return data_dict\n",
    "    \n",
    "\n",
    "    \n",
    "    "
   ]
  },
  {
   "cell_type": "code",
   "execution_count": 18,
   "metadata": {
    "collapsed": true
   },
   "outputs": [],
   "source": [
    "d = load_lblnew_data(PARAM_LBLNEW)\n",
    "\n",
    "DS_FLUX_CRD = d['ds_flux_crd']\n",
    "DS_COOL_CRD = d['ds_cool_crd']\n",
    "DS_FLUX_WGT = d['ds_flux_wgt']\n",
    "DS_COOL_WGT = d['ds_cool_wgt']"
   ]
  },
  {
   "cell_type": "code",
   "execution_count": 19,
   "metadata": {
    "collapsed": true
   },
   "outputs": [],
   "source": [
    "DIR_FORTRAN = pipe_cliradlw.get_fortran_dir(PARAM, \n",
    "                                            setup=setup_cliradlw)\n",
    "\n",
    "PATH_FLUX = os.path.join(DIR_FORTRAN, 'output_flux.dat')\n",
    "PATH_COOL = os.path.join(DIR_FORTRAN, 'output_coolr.dat')\n",
    "\n",
    "DS_FLUX = load_output_file(PATH_FLUX)\n",
    "DS_COOL = load_output_file(PATH_COOL)"
   ]
  },
  {
   "cell_type": "code",
   "execution_count": 20,
   "metadata": {},
   "outputs": [
    {
     "data": {
      "text/html": [
       "\n",
       "    <div class=\"bk-root\">\n",
       "        <a href=\"https://bokeh.pydata.org\" target=\"_blank\" class=\"bk-logo bk-logo-small bk-logo-notebook\"></a>\n",
       "        <span id=\"732d902f-01dd-4d13-b785-ca46834062f0\">Loading BokehJS ...</span>\n",
       "    </div>"
      ]
     },
     "metadata": {},
     "output_type": "display_data"
    },
    {
     "data": {
      "application/javascript": [
       "\n",
       "(function(root) {\n",
       "  function now() {\n",
       "    return new Date();\n",
       "  }\n",
       "\n",
       "  var force = true;\n",
       "\n",
       "  if (typeof (root._bokeh_onload_callbacks) === \"undefined\" || force === true) {\n",
       "    root._bokeh_onload_callbacks = [];\n",
       "    root._bokeh_is_loading = undefined;\n",
       "  }\n",
       "\n",
       "  var JS_MIME_TYPE = 'application/javascript';\n",
       "  var HTML_MIME_TYPE = 'text/html';\n",
       "  var EXEC_MIME_TYPE = 'application/vnd.bokehjs_exec.v0+json';\n",
       "  var CLASS_NAME = 'output_bokeh rendered_html';\n",
       "\n",
       "  /**\n",
       "   * Render data to the DOM node\n",
       "   */\n",
       "  function render(props, node) {\n",
       "    var script = document.createElement(\"script\");\n",
       "    node.appendChild(script);\n",
       "  }\n",
       "\n",
       "  /**\n",
       "   * Handle when an output is cleared or removed\n",
       "   */\n",
       "  function handleClearOutput(event, handle) {\n",
       "    var cell = handle.cell;\n",
       "\n",
       "    var id = cell.output_area._bokeh_element_id;\n",
       "    var server_id = cell.output_area._bokeh_server_id;\n",
       "    // Clean up Bokeh references\n",
       "    if (id !== undefined) {\n",
       "      Bokeh.index[id].model.document.clear();\n",
       "      delete Bokeh.index[id];\n",
       "    }\n",
       "\n",
       "    if (server_id !== undefined) {\n",
       "      // Clean up Bokeh references\n",
       "      var cmd = \"from bokeh.io.state import curstate; print(curstate().uuid_to_server['\" + server_id + \"'].get_sessions()[0].document.roots[0]._id)\";\n",
       "      cell.notebook.kernel.execute(cmd, {\n",
       "        iopub: {\n",
       "          output: function(msg) {\n",
       "            var element_id = msg.content.text.trim();\n",
       "            Bokeh.index[element_id].model.document.clear();\n",
       "            delete Bokeh.index[element_id];\n",
       "          }\n",
       "        }\n",
       "      });\n",
       "      // Destroy server and session\n",
       "      var cmd = \"import bokeh.io.notebook as ion; ion.destroy_server('\" + server_id + \"')\";\n",
       "      cell.notebook.kernel.execute(cmd);\n",
       "    }\n",
       "  }\n",
       "\n",
       "  /**\n",
       "   * Handle when a new output is added\n",
       "   */\n",
       "  function handleAddOutput(event, handle) {\n",
       "    var output_area = handle.output_area;\n",
       "    var output = handle.output;\n",
       "\n",
       "    // limit handleAddOutput to display_data with EXEC_MIME_TYPE content only\n",
       "    if ((output.output_type != \"display_data\") || (!output.data.hasOwnProperty(EXEC_MIME_TYPE))) {\n",
       "      return\n",
       "    }\n",
       "\n",
       "    var toinsert = output_area.element.find(\".\" + CLASS_NAME.split(' ')[0]);\n",
       "\n",
       "    if (output.metadata[EXEC_MIME_TYPE][\"id\"] !== undefined) {\n",
       "      toinsert[0].firstChild.textContent = output.data[JS_MIME_TYPE];\n",
       "      // store reference to embed id on output_area\n",
       "      output_area._bokeh_element_id = output.metadata[EXEC_MIME_TYPE][\"id\"];\n",
       "    }\n",
       "    if (output.metadata[EXEC_MIME_TYPE][\"server_id\"] !== undefined) {\n",
       "      var bk_div = document.createElement(\"div\");\n",
       "      bk_div.innerHTML = output.data[HTML_MIME_TYPE];\n",
       "      var script_attrs = bk_div.children[0].attributes;\n",
       "      for (var i = 0; i < script_attrs.length; i++) {\n",
       "        toinsert[0].firstChild.setAttribute(script_attrs[i].name, script_attrs[i].value);\n",
       "      }\n",
       "      // store reference to server id on output_area\n",
       "      output_area._bokeh_server_id = output.metadata[EXEC_MIME_TYPE][\"server_id\"];\n",
       "    }\n",
       "  }\n",
       "\n",
       "  function register_renderer(events, OutputArea) {\n",
       "\n",
       "    function append_mime(data, metadata, element) {\n",
       "      // create a DOM node to render to\n",
       "      var toinsert = this.create_output_subarea(\n",
       "        metadata,\n",
       "        CLASS_NAME,\n",
       "        EXEC_MIME_TYPE\n",
       "      );\n",
       "      this.keyboard_manager.register_events(toinsert);\n",
       "      // Render to node\n",
       "      var props = {data: data, metadata: metadata[EXEC_MIME_TYPE]};\n",
       "      render(props, toinsert[0]);\n",
       "      element.append(toinsert);\n",
       "      return toinsert\n",
       "    }\n",
       "\n",
       "    /* Handle when an output is cleared or removed */\n",
       "    events.on('clear_output.CodeCell', handleClearOutput);\n",
       "    events.on('delete.Cell', handleClearOutput);\n",
       "\n",
       "    /* Handle when a new output is added */\n",
       "    events.on('output_added.OutputArea', handleAddOutput);\n",
       "\n",
       "    /**\n",
       "     * Register the mime type and append_mime function with output_area\n",
       "     */\n",
       "    OutputArea.prototype.register_mime_type(EXEC_MIME_TYPE, append_mime, {\n",
       "      /* Is output safe? */\n",
       "      safe: true,\n",
       "      /* Index of renderer in `output_area.display_order` */\n",
       "      index: 0\n",
       "    });\n",
       "  }\n",
       "\n",
       "  // register the mime type if in Jupyter Notebook environment and previously unregistered\n",
       "  if (root.Jupyter !== undefined) {\n",
       "    var events = require('base/js/events');\n",
       "    var OutputArea = require('notebook/js/outputarea').OutputArea;\n",
       "\n",
       "    if (OutputArea.prototype.mime_types().indexOf(EXEC_MIME_TYPE) == -1) {\n",
       "      register_renderer(events, OutputArea);\n",
       "    }\n",
       "  }\n",
       "\n",
       "  \n",
       "  if (typeof (root._bokeh_timeout) === \"undefined\" || force === true) {\n",
       "    root._bokeh_timeout = Date.now() + 5000;\n",
       "    root._bokeh_failed_load = false;\n",
       "  }\n",
       "\n",
       "  var NB_LOAD_WARNING = {'data': {'text/html':\n",
       "     \"<div style='background-color: #fdd'>\\n\"+\n",
       "     \"<p>\\n\"+\n",
       "     \"BokehJS does not appear to have successfully loaded. If loading BokehJS from CDN, this \\n\"+\n",
       "     \"may be due to a slow or bad network connection. Possible fixes:\\n\"+\n",
       "     \"</p>\\n\"+\n",
       "     \"<ul>\\n\"+\n",
       "     \"<li>re-rerun `output_notebook()` to attempt to load from CDN again, or</li>\\n\"+\n",
       "     \"<li>use INLINE resources instead, as so:</li>\\n\"+\n",
       "     \"</ul>\\n\"+\n",
       "     \"<code>\\n\"+\n",
       "     \"from bokeh.resources import INLINE\\n\"+\n",
       "     \"output_notebook(resources=INLINE)\\n\"+\n",
       "     \"</code>\\n\"+\n",
       "     \"</div>\"}};\n",
       "\n",
       "  function display_loaded() {\n",
       "    var el = document.getElementById(\"732d902f-01dd-4d13-b785-ca46834062f0\");\n",
       "    if (el != null) {\n",
       "      el.textContent = \"BokehJS is loading...\";\n",
       "    }\n",
       "    if (root.Bokeh !== undefined) {\n",
       "      if (el != null) {\n",
       "        el.textContent = \"BokehJS \" + root.Bokeh.version + \" successfully loaded.\";\n",
       "      }\n",
       "    } else if (Date.now() < root._bokeh_timeout) {\n",
       "      setTimeout(display_loaded, 100)\n",
       "    }\n",
       "  }\n",
       "\n",
       "\n",
       "  function run_callbacks() {\n",
       "    try {\n",
       "      root._bokeh_onload_callbacks.forEach(function(callback) { callback() });\n",
       "    }\n",
       "    finally {\n",
       "      delete root._bokeh_onload_callbacks\n",
       "    }\n",
       "    console.info(\"Bokeh: all callbacks have finished\");\n",
       "  }\n",
       "\n",
       "  function load_libs(js_urls, callback) {\n",
       "    root._bokeh_onload_callbacks.push(callback);\n",
       "    if (root._bokeh_is_loading > 0) {\n",
       "      console.log(\"Bokeh: BokehJS is being loaded, scheduling callback at\", now());\n",
       "      return null;\n",
       "    }\n",
       "    if (js_urls == null || js_urls.length === 0) {\n",
       "      run_callbacks();\n",
       "      return null;\n",
       "    }\n",
       "    console.log(\"Bokeh: BokehJS not loaded, scheduling load and callback at\", now());\n",
       "    root._bokeh_is_loading = js_urls.length;\n",
       "    for (var i = 0; i < js_urls.length; i++) {\n",
       "      var url = js_urls[i];\n",
       "      var s = document.createElement('script');\n",
       "      s.src = url;\n",
       "      s.async = false;\n",
       "      s.onreadystatechange = s.onload = function() {\n",
       "        root._bokeh_is_loading--;\n",
       "        if (root._bokeh_is_loading === 0) {\n",
       "          console.log(\"Bokeh: all BokehJS libraries loaded\");\n",
       "          run_callbacks()\n",
       "        }\n",
       "      };\n",
       "      s.onerror = function() {\n",
       "        console.warn(\"failed to load library \" + url);\n",
       "      };\n",
       "      console.log(\"Bokeh: injecting script tag for BokehJS library: \", url);\n",
       "      document.getElementsByTagName(\"head\")[0].appendChild(s);\n",
       "    }\n",
       "  };var element = document.getElementById(\"732d902f-01dd-4d13-b785-ca46834062f0\");\n",
       "  if (element == null) {\n",
       "    console.log(\"Bokeh: ERROR: autoload.js configured with elementid '732d902f-01dd-4d13-b785-ca46834062f0' but no matching script tag was found. \")\n",
       "    return false;\n",
       "  }\n",
       "\n",
       "  var js_urls = [\"https://cdn.pydata.org/bokeh/release/bokeh-0.12.14.min.js\", \"https://cdn.pydata.org/bokeh/release/bokeh-widgets-0.12.14.min.js\", \"https://cdn.pydata.org/bokeh/release/bokeh-tables-0.12.14.min.js\", \"https://cdn.pydata.org/bokeh/release/bokeh-gl-0.12.14.min.js\"];\n",
       "\n",
       "  var inline_js = [\n",
       "    function(Bokeh) {\n",
       "      Bokeh.set_log_level(\"info\");\n",
       "    },\n",
       "    \n",
       "    function(Bokeh) {\n",
       "      \n",
       "    },\n",
       "    function(Bokeh) {\n",
       "      console.log(\"Bokeh: injecting CSS: https://cdn.pydata.org/bokeh/release/bokeh-0.12.14.min.css\");\n",
       "      Bokeh.embed.inject_css(\"https://cdn.pydata.org/bokeh/release/bokeh-0.12.14.min.css\");\n",
       "      console.log(\"Bokeh: injecting CSS: https://cdn.pydata.org/bokeh/release/bokeh-widgets-0.12.14.min.css\");\n",
       "      Bokeh.embed.inject_css(\"https://cdn.pydata.org/bokeh/release/bokeh-widgets-0.12.14.min.css\");\n",
       "      console.log(\"Bokeh: injecting CSS: https://cdn.pydata.org/bokeh/release/bokeh-tables-0.12.14.min.css\");\n",
       "      Bokeh.embed.inject_css(\"https://cdn.pydata.org/bokeh/release/bokeh-tables-0.12.14.min.css\");\n",
       "    }\n",
       "  ];\n",
       "\n",
       "  function run_inline_js() {\n",
       "    \n",
       "    if ((root.Bokeh !== undefined) || (force === true)) {\n",
       "      for (var i = 0; i < inline_js.length; i++) {\n",
       "        inline_js[i].call(root, root.Bokeh);\n",
       "      }if (force === true) {\n",
       "        display_loaded();\n",
       "      }} else if (Date.now() < root._bokeh_timeout) {\n",
       "      setTimeout(run_inline_js, 100);\n",
       "    } else if (!root._bokeh_failed_load) {\n",
       "      console.log(\"Bokeh: BokehJS failed to load within specified timeout.\");\n",
       "      root._bokeh_failed_load = true;\n",
       "    } else if (force !== true) {\n",
       "      var cell = $(document.getElementById(\"732d902f-01dd-4d13-b785-ca46834062f0\")).parents('.cell').data().cell;\n",
       "      cell.output_area.append_execute_result(NB_LOAD_WARNING)\n",
       "    }\n",
       "\n",
       "  }\n",
       "\n",
       "  if (root._bokeh_is_loading === 0) {\n",
       "    console.log(\"Bokeh: BokehJS loaded, going straight to plotting\");\n",
       "    run_inline_js();\n",
       "  } else {\n",
       "    load_libs(js_urls, function() {\n",
       "      console.log(\"Bokeh: BokehJS plotting callback run at\", now());\n",
       "      run_inline_js();\n",
       "    });\n",
       "  }\n",
       "}(window));"
      ],
      "application/vnd.bokehjs_load.v0+json": "\n(function(root) {\n  function now() {\n    return new Date();\n  }\n\n  var force = true;\n\n  if (typeof (root._bokeh_onload_callbacks) === \"undefined\" || force === true) {\n    root._bokeh_onload_callbacks = [];\n    root._bokeh_is_loading = undefined;\n  }\n\n  \n\n  \n  if (typeof (root._bokeh_timeout) === \"undefined\" || force === true) {\n    root._bokeh_timeout = Date.now() + 5000;\n    root._bokeh_failed_load = false;\n  }\n\n  var NB_LOAD_WARNING = {'data': {'text/html':\n     \"<div style='background-color: #fdd'>\\n\"+\n     \"<p>\\n\"+\n     \"BokehJS does not appear to have successfully loaded. If loading BokehJS from CDN, this \\n\"+\n     \"may be due to a slow or bad network connection. Possible fixes:\\n\"+\n     \"</p>\\n\"+\n     \"<ul>\\n\"+\n     \"<li>re-rerun `output_notebook()` to attempt to load from CDN again, or</li>\\n\"+\n     \"<li>use INLINE resources instead, as so:</li>\\n\"+\n     \"</ul>\\n\"+\n     \"<code>\\n\"+\n     \"from bokeh.resources import INLINE\\n\"+\n     \"output_notebook(resources=INLINE)\\n\"+\n     \"</code>\\n\"+\n     \"</div>\"}};\n\n  function display_loaded() {\n    var el = document.getElementById(\"732d902f-01dd-4d13-b785-ca46834062f0\");\n    if (el != null) {\n      el.textContent = \"BokehJS is loading...\";\n    }\n    if (root.Bokeh !== undefined) {\n      if (el != null) {\n        el.textContent = \"BokehJS \" + root.Bokeh.version + \" successfully loaded.\";\n      }\n    } else if (Date.now() < root._bokeh_timeout) {\n      setTimeout(display_loaded, 100)\n    }\n  }\n\n\n  function run_callbacks() {\n    try {\n      root._bokeh_onload_callbacks.forEach(function(callback) { callback() });\n    }\n    finally {\n      delete root._bokeh_onload_callbacks\n    }\n    console.info(\"Bokeh: all callbacks have finished\");\n  }\n\n  function load_libs(js_urls, callback) {\n    root._bokeh_onload_callbacks.push(callback);\n    if (root._bokeh_is_loading > 0) {\n      console.log(\"Bokeh: BokehJS is being loaded, scheduling callback at\", now());\n      return null;\n    }\n    if (js_urls == null || js_urls.length === 0) {\n      run_callbacks();\n      return null;\n    }\n    console.log(\"Bokeh: BokehJS not loaded, scheduling load and callback at\", now());\n    root._bokeh_is_loading = js_urls.length;\n    for (var i = 0; i < js_urls.length; i++) {\n      var url = js_urls[i];\n      var s = document.createElement('script');\n      s.src = url;\n      s.async = false;\n      s.onreadystatechange = s.onload = function() {\n        root._bokeh_is_loading--;\n        if (root._bokeh_is_loading === 0) {\n          console.log(\"Bokeh: all BokehJS libraries loaded\");\n          run_callbacks()\n        }\n      };\n      s.onerror = function() {\n        console.warn(\"failed to load library \" + url);\n      };\n      console.log(\"Bokeh: injecting script tag for BokehJS library: \", url);\n      document.getElementsByTagName(\"head\")[0].appendChild(s);\n    }\n  };var element = document.getElementById(\"732d902f-01dd-4d13-b785-ca46834062f0\");\n  if (element == null) {\n    console.log(\"Bokeh: ERROR: autoload.js configured with elementid '732d902f-01dd-4d13-b785-ca46834062f0' but no matching script tag was found. \")\n    return false;\n  }\n\n  var js_urls = [\"https://cdn.pydata.org/bokeh/release/bokeh-0.12.14.min.js\", \"https://cdn.pydata.org/bokeh/release/bokeh-widgets-0.12.14.min.js\", \"https://cdn.pydata.org/bokeh/release/bokeh-tables-0.12.14.min.js\", \"https://cdn.pydata.org/bokeh/release/bokeh-gl-0.12.14.min.js\"];\n\n  var inline_js = [\n    function(Bokeh) {\n      Bokeh.set_log_level(\"info\");\n    },\n    \n    function(Bokeh) {\n      \n    },\n    function(Bokeh) {\n      console.log(\"Bokeh: injecting CSS: https://cdn.pydata.org/bokeh/release/bokeh-0.12.14.min.css\");\n      Bokeh.embed.inject_css(\"https://cdn.pydata.org/bokeh/release/bokeh-0.12.14.min.css\");\n      console.log(\"Bokeh: injecting CSS: https://cdn.pydata.org/bokeh/release/bokeh-widgets-0.12.14.min.css\");\n      Bokeh.embed.inject_css(\"https://cdn.pydata.org/bokeh/release/bokeh-widgets-0.12.14.min.css\");\n      console.log(\"Bokeh: injecting CSS: https://cdn.pydata.org/bokeh/release/bokeh-tables-0.12.14.min.css\");\n      Bokeh.embed.inject_css(\"https://cdn.pydata.org/bokeh/release/bokeh-tables-0.12.14.min.css\");\n    }\n  ];\n\n  function run_inline_js() {\n    \n    if ((root.Bokeh !== undefined) || (force === true)) {\n      for (var i = 0; i < inline_js.length; i++) {\n        inline_js[i].call(root, root.Bokeh);\n      }if (force === true) {\n        display_loaded();\n      }} else if (Date.now() < root._bokeh_timeout) {\n      setTimeout(run_inline_js, 100);\n    } else if (!root._bokeh_failed_load) {\n      console.log(\"Bokeh: BokehJS failed to load within specified timeout.\");\n      root._bokeh_failed_load = true;\n    } else if (force !== true) {\n      var cell = $(document.getElementById(\"732d902f-01dd-4d13-b785-ca46834062f0\")).parents('.cell').data().cell;\n      cell.output_area.append_execute_result(NB_LOAD_WARNING)\n    }\n\n  }\n\n  if (root._bokeh_is_loading === 0) {\n    console.log(\"Bokeh: BokehJS loaded, going straight to plotting\");\n    run_inline_js();\n  } else {\n    load_libs(js_urls, function() {\n      console.log(\"Bokeh: BokehJS plotting callback run at\", now());\n      run_inline_js();\n    });\n  }\n}(window));"
     },
     "metadata": {},
     "output_type": "display_data"
    }
   ],
   "source": [
    "output_notebook()"
   ]
  },
  {
   "cell_type": "code",
   "execution_count": 21,
   "metadata": {
    "collapsed": true
   },
   "outputs": [],
   "source": [
    "def fmt_cool(ds_in):\n",
    "    ds = ds_in.copy(deep=True)\n",
    "    if 'igg' in ds.dims:\n",
    "        ds = ds.sel(igg=1)\n",
    "\n",
    "    if 'g' in ds.dims:\n",
    "        ds = ds.sum('g')\n",
    "            \n",
    "    if 'band' in ds.dims:\n",
    "        try:\n",
    "            ds = ds.squeeze('band')\n",
    "        except ValueError:\n",
    "            ds = ds.sum('band')\n",
    "                \n",
    "    return ds['coolrg']\n",
    "\n",
    "\n",
    "def pltdata_cooling_1(ds_cool=None,\n",
    "                      ds_cool_crd=None, ds_cool_wgt=None):\n",
    "    \n",
    "\n",
    "\n",
    "    colors = all_palettes['Set1'][4]\n",
    "    data = [{'label': 'CLIRAD `coolr_bands`',\n",
    "             'srs': fmt_cool(ds_cool),\n",
    "             'line_dash': 'dashed', 'line_width': 5,\n",
    "             'color': colors[0], 'alpha': .6},\n",
    "            {'label': 'CRD',\n",
    "             'srs': fmt_cool(ds_cool_crd),\n",
    "             'line_dash': 'solid', 'line_width': 1.5,\n",
    "             'marker': 'circle', 'marker_size': 5,\n",
    "             'color': colors[2], 'alpha': 1,},\n",
    "            {'label': 'WGT igg=10 wgt_flux=2',\n",
    "             'srs': fmt_cool(ds_cool_wgt),\n",
    "             'line_dash': 'solid', 'line_width': 3,\n",
    "             'marker': 'square', 'marker_size': 5,\n",
    "             'color': colors[3], 'alpha': .6}]\n",
    "    return data\n",
    "\n",
    "\n",
    "def nice_xlims(pltdata=None, prange=None):\n",
    "    \n",
    "    def get_slice(srs):\n",
    "        return srs.sel(pressure=slice(*prange))\n",
    "    \n",
    "    srss = [d['srs'] for d in pltdata]\n",
    "    vmin = min([get_slice(srs).min() for srs in srss])\n",
    "    vmax = max([get_slice(srs).max() for srs in srss])\n",
    "    dv = (vmax - vmin) * .01\n",
    "    return float(vmin - dv), float(vmax + dv)\n",
    "    \n",
    "\n",
    "def plt_cooling_bokeh(pltdata=None):\n",
    "    '''\n",
    "    Plot a list of cooling rate profiles using bokeh.\n",
    "    '''\n",
    "    ymin = 1e-2 \n",
    "    ymax = 1020 \n",
    "        \n",
    "    p1 = figure(title=\"Linear pressure scale\", \n",
    "                plot_width=400)        \n",
    "    xmin, xmax = nice_xlims(pltdata, prange=(50, 1050))\n",
    "    for d in pltdata:\n",
    "        if 'marker' in d:\n",
    "            getattr(p1, d['marker'])(d['srs'].values, \n",
    "                    d['srs'].coords['pressure'].values,\n",
    "                    color=d['color'], alpha=.7)\n",
    "        p1.line(d['srs'].values, \n",
    "                d['srs'].coords['pressure'].values,\n",
    "                color=d['color'], alpha=d['alpha'], \n",
    "                line_width=d['line_width'], line_dash=d['line_dash'])\n",
    "    \n",
    "    p1.y_range = Range1d(ymax, ymin)\n",
    "    p1.yaxis.axis_label = 'pressure [mb]'   \n",
    "    p1.x_range = Range1d(xmin, xmax)\n",
    "    p1.xaxis.axis_label = 'cooling rate [K/day]'\n",
    "            \n",
    "    p2 = figure(title='Log pressure scale', y_axis_type='log',\n",
    "                plot_width=560)\n",
    "    xmin, xmax = nice_xlims(pltdata, prange=(.01, 200))\n",
    "    \n",
    "    rs = []\n",
    "    for d in pltdata:\n",
    "        rd = []\n",
    "        if 'marker' in d:\n",
    "            r_mark = getattr(p2, d['marker'])(d['srs'].values, \n",
    "                        d['srs'].coords['pressure'].values,\n",
    "                        color=d['color'], alpha=.7)\n",
    "            rd.append(r_mark)\n",
    "        r_line = p2.line(d['srs'].values, \n",
    "                    d['srs'].coords['pressure'].values,\n",
    "                    color=d['color'], alpha=d['alpha'], \n",
    "                    line_width=d['line_width'], line_dash=d['line_dash'])\n",
    "        rd.append(r_line)\n",
    "      \n",
    "        rs.append(rd)\n",
    "        \n",
    "    p2.y_range = Range1d(ymax, ymin)  \n",
    "    p2.yaxis.axis_label = 'pressure [mb]'\n",
    "    \n",
    "    p2.x_range = Range1d(xmin, xmax)\n",
    "    p2.xaxis.axis_label = 'cooling rate [K/day]'\n",
    "    \n",
    "    items = [(d['label'], r) for r, d in zip(rs, pltdata)]\n",
    "    legend = Legend(items=items, location=(10, -30))\n",
    "    legend.label_text_font_size = '8pt'\n",
    "    \n",
    "    p2.add_layout(legend, 'right')  \n",
    "    \n",
    "    show(gridplot(p1, p2, ncols=2, plot_height=500))\n",
    "    \n",
    "\n",
    "def script_plt_cooling():\n",
    "    pltdata = pltdata_cooling_1(\n",
    "        ds_cool=DS_COOL,\n",
    "        ds_cool_crd=DS_COOL_CRD,\n",
    "        ds_cool_wgt=DS_COOL_WGT)\n",
    "    plt_cooling_bokeh(pltdata=pltdata)\n",
    "    print('''FIGURE. Cooling rate profiles.''')"
   ]
  },
  {
   "cell_type": "code",
   "execution_count": 22,
   "metadata": {
    "collapsed": true
   },
   "outputs": [],
   "source": [
    "def fmt_flux(ds_in):\n",
    "    ds = ds_in.copy(deep=True)\n",
    "    \n",
    "    for l in ('level', 'layer'):\n",
    "        if l in ds.data_vars:\n",
    "            if len(ds[l].dims) > 1:\n",
    "                surface = {d: 0 for d in ds.dims if d != 'pressure'}\n",
    "                coord_level = ds[l][surface]\n",
    "                ds.coords[l] = ('pressure', coord_level)\n",
    "            else:\n",
    "                ds.coords[l] = ('pressure', ds[l])\n",
    "        \n",
    "    ds = ds.isel(pressure=[0, 23, -1])\n",
    "        \n",
    "    if 'igg' in ds.dims:\n",
    "        ds = ds.sel(igg=[1])\n",
    "        ds = ds.squeeze('igg').drop('igg')\n",
    "    \n",
    "    if 'g' in ds.dims:\n",
    "        ds = ds.sum('g')\n",
    "            \n",
    "    if 'band' in ds.dims:\n",
    "        try:\n",
    "            ds = ds.squeeze('band').drop('band')\n",
    "        except ValueError:\n",
    "            ds = ds.sum('band')\n",
    "                \n",
    "    df = ds.to_dataframe()\n",
    "    df = df.set_index('level', append=True)               \n",
    "    return df\n",
    "\n",
    "\n",
    "def tbdata_flux(ds_flux=None, ds_flux_crd=None, ds_flux_wgt=None):\n",
    "    ilevels = [0, 23, -1]\n",
    "            \n",
    "    benchmark = {'label': 'WGT igg=10 wgt_flux=1',\n",
    "                 'df': fmt_flux(ds_flux_wgt)}\n",
    "    \n",
    "    tbs = [{'label': 'CRD',\n",
    "            'df': fmt_flux(ds_flux_crd)},\n",
    "           {'label': 'CLIRAD',\n",
    "            'df': fmt_flux(ds_flux)}]\n",
    "    \n",
    "    data = {'benchmark': benchmark, 'others': tbs}\n",
    "    return data\n",
    "\n",
    "\n",
    "def tb_flux(tbdata=None):\n",
    "    benchmark = tbdata['benchmark']\n",
    "    others = tbdata['others']\n",
    "    \n",
    "    def show_tb(d=None):\n",
    "        display.display(d['df'])\n",
    "        print('Table.', 'Fluxes.', d['label'])\n",
    "        \n",
    "    def show_tbdiff(d0=None, d=None):\n",
    "        df = d['df']\n",
    "        df.index = d0['df'].index\n",
    "        display.display(df - d0['df'])\n",
    "        print('Table.', 'Fluxes.', \n",
    "              '({}) - ({})'.format(d['label'], d0['label']))\n",
    "        \n",
    "    show_tb(benchmark)\n",
    "    for d in others:\n",
    "        show_tb(d)\n",
    "        \n",
    "    for d in others:\n",
    "        show_tbdiff(d=d, d0=benchmark)\n",
    "        \n",
    "        \n",
    "def script_tb_flux():\n",
    "    data = tbdata_flux(ds_flux=DS_FLUX,\n",
    "                       ds_flux_crd=DS_FLUX_CRD,\n",
    "                       ds_flux_wgt=DS_FLUX_WGT)\n",
    "    tb_flux(tbdata=data)"
   ]
  },
  {
   "cell_type": "code",
   "execution_count": 23,
   "metadata": {
    "collapsed": true
   },
   "outputs": [],
   "source": [
    "def band_map():\n",
    "    '''\n",
    "    Maps spectral bands in lblnew to spectral bands in clirad.\n",
    "    '''\n",
    "    lblnew2clirad = {'1': '1',\n",
    "            '2': '2',\n",
    "            '3a': '3',\n",
    "            '3b': '4',\n",
    "            '3c': '5',\n",
    "            '4': '6', \n",
    "            '5': '7',\n",
    "            '6': '8',\n",
    "            '7': '9', \n",
    "            '8': '10',\n",
    "            '9': '11'}\n",
    "    \n",
    "    clirad2lblnew = {clirad: lblnew \n",
    "                     for lblnew, clirad in lblnew2clirad.items()}\n",
    "    return clirad2lblnew\n",
    "\n",
    "\n",
    "def gasbands():\n",
    "    bmap = band_map()\n",
    "    gases = list(PARAM['molecule'].keys())\n",
    "    \n",
    "    bands = [bmap[str(b)] for b in PARAM['band']]\n",
    "    return list(itertools.product(gases, bands))\n",
    "\n",
    "\n",
    "def print_bestfit_params():\n",
    "    print('Best-fit values for each (gas, band)')\n",
    "    print('------------------------------------')\n",
    "    for gas, band in gasbands():\n",
    "        print('o {} band{}'.format(gas, band))\n",
    "        param = bestfits.kdist_params(molecule=gas, band=band)\n",
    "        for name, value in param.items():\n",
    "            print(2 * ' ' + '{} = {}'.format(name, value))\n",
    "\n",
    "        \n",
    "def print_input_param():        \n",
    "    for name, value in PARAM.items():\n",
    "        print('{} = {}'.format(name, value))\n",
    "        \n",
    "        \n",
    "def print_lblnew_param():\n",
    "    for name, value in PARAM_LBLNEW.items():\n",
    "        print('{} = {}'.format(name, value))\n"
   ]
  },
  {
   "cell_type": "code",
   "execution_count": 24,
   "metadata": {
    "collapsed": true,
    "scrolled": false
   },
   "outputs": [],
   "source": [
    "def show_html(s):\n",
    "    display.display(display.HTML(s))\n",
    "\n",
    "    \n",
    "def show_markdown(s):\n",
    "    display.display(display.Markdown(s))\n",
    "\n",
    "    \n",
    "def script():\n",
    "    \n",
    "    title = '### CLIRAD-LW'\n",
    "    s_input = 'Input Parameters'\n",
    "    s_lblnew_param = 'LBLNEW case compaired against'\n",
    "    s_bestfits = 'Best-fit Parameters'\n",
    "    s_plt_cooling = 'Cooling Rate Profiles'\n",
    "    s_tb_flux = 'Flux Comparison'\n",
    "    \n",
    "    # title\n",
    "    show_markdown('### CLIRAD-LW')\n",
    "    \n",
    "    # TOC\n",
    "    show_markdown('### Table of Contents')\n",
    "    show_html(climahtml.getHTML_hrefanchor(s_input))\n",
    "    show_html(climahtml.getHTML_hrefanchor(s_lblnew_param))\n",
    "    show_html(climahtml.getHTML_hrefanchor(s_plt_cooling))\n",
    "    show_html(climahtml.getHTML_hrefanchor(s_tb_flux))\n",
    "    show_html(climahtml.getHTML_hrefanchor(s_bestfits))\n",
    "    \n",
    "    # Input parameters\n",
    "    show_html(climahtml.getHTML_idanchor(s_input))\n",
    "    show_markdown(climahtml.getMarkdown_sectitle(s_input))\n",
    "    print_input_param()\n",
    "    \n",
    "    # LBLNEW parameters \n",
    "    show_html(climahtml.getHTML_idanchor(s_lblnew_param))\n",
    "    show_markdown(climahtml.getMarkdown_sectitle(s_lblnew_param))\n",
    "    print_lblnew_param()\n",
    "    \n",
    "    # Cooling rate profiles\n",
    "    show_html(climahtml.getHTML_idanchor(s_plt_cooling))\n",
    "    show_markdown(climahtml.getMarkdown_sectitle(s_plt_cooling))\n",
    "    script_plt_cooling()\n",
    "    \n",
    "    # Flux comparison\n",
    "    show_html(climahtml.getHTML_idanchor(s_tb_flux))\n",
    "    show_markdown(climahtml.getMarkdown_sectitle(s_tb_flux))\n",
    "    script_tb_flux()\n",
    "    \n",
    "    # Best-fit values\n",
    "    show_html(climahtml.getHTML_idanchor(s_bestfits))\n",
    "    show_markdown(climahtml.getMarkdown_sectitle(s_bestfits))\n",
    "    print_bestfit_params()\n",
    "   \n",
    "    "
   ]
  },
  {
   "cell_type": "code",
   "execution_count": 25,
   "metadata": {
    "scrolled": false
   },
   "outputs": [
    {
     "data": {
      "text/markdown": [
       "### CLIRAD-LW"
      ],
      "text/plain": [
       "<IPython.core.display.Markdown object>"
      ]
     },
     "metadata": {},
     "output_type": "display_data"
    },
    {
     "data": {
      "text/markdown": [
       "### Table of Contents"
      ],
      "text/plain": [
       "<IPython.core.display.Markdown object>"
      ]
     },
     "metadata": {},
     "output_type": "display_data"
    },
    {
     "data": {
      "text/html": [
       "<a href=\"#Input_Parameters\">Input Parameters</a>"
      ],
      "text/plain": [
       "<IPython.core.display.HTML object>"
      ]
     },
     "metadata": {},
     "output_type": "display_data"
    },
    {
     "data": {
      "text/html": [
       "<a href=\"#LBLNEW_case_compaired_against\">LBLNEW case compaired against</a>"
      ],
      "text/plain": [
       "<IPython.core.display.HTML object>"
      ]
     },
     "metadata": {},
     "output_type": "display_data"
    },
    {
     "data": {
      "text/html": [
       "<a href=\"#Cooling_Rate_Profiles\">Cooling Rate Profiles</a>"
      ],
      "text/plain": [
       "<IPython.core.display.HTML object>"
      ]
     },
     "metadata": {},
     "output_type": "display_data"
    },
    {
     "data": {
      "text/html": [
       "<a href=\"#Flux_Comparison\">Flux Comparison</a>"
      ],
      "text/plain": [
       "<IPython.core.display.HTML object>"
      ]
     },
     "metadata": {},
     "output_type": "display_data"
    },
    {
     "data": {
      "text/html": [
       "<a href=\"#Best-fit_Parameters\">Best-fit Parameters</a>"
      ],
      "text/plain": [
       "<IPython.core.display.HTML object>"
      ]
     },
     "metadata": {},
     "output_type": "display_data"
    },
    {
     "data": {
      "text/html": [
       "<a id=\"Input_Parameters\"></a>"
      ],
      "text/plain": [
       "<IPython.core.display.HTML object>"
      ]
     },
     "metadata": {},
     "output_type": "display_data"
    },
    {
     "data": {
      "text/markdown": [
       "# Input Parameters"
      ],
      "text/plain": [
       "<IPython.core.display.Markdown object>"
      ]
     },
     "metadata": {},
     "output_type": "display_data"
    },
    {
     "name": "stdout",
     "output_type": "stream",
     "text": [
      "atmpro = mls\n",
      "band = [11]\n",
      "commitnumber = d54f896\n",
      "molecule = {'h2o': 'atmpro', 'co2': 0.0004}\n",
      "tsfc = 294\n"
     ]
    },
    {
     "data": {
      "text/html": [
       "<a id=\"LBLNEW_case_compaired_against\"></a>"
      ],
      "text/plain": [
       "<IPython.core.display.HTML object>"
      ]
     },
     "metadata": {},
     "output_type": "display_data"
    },
    {
     "data": {
      "text/markdown": [
       "# LBLNEW case compaired against"
      ],
      "text/plain": [
       "<IPython.core.display.Markdown object>"
      ]
     },
     "metadata": {},
     "output_type": "display_data"
    },
    {
     "name": "stdout",
     "output_type": "stream",
     "text": [
      "atmpro = mls\n",
      "band = 9\n",
      "commitnumber = 8ba2806\n",
      "dv = 0.001\n",
      "molecule = {'co2': 0.0004, 'h2o': 'atmpro'}\n",
      "nv = 1000\n",
      "tsfc = 294\n"
     ]
    },
    {
     "data": {
      "text/html": [
       "<a id=\"Cooling_Rate_Profiles\"></a>"
      ],
      "text/plain": [
       "<IPython.core.display.HTML object>"
      ]
     },
     "metadata": {},
     "output_type": "display_data"
    },
    {
     "data": {
      "text/markdown": [
       "# Cooling Rate Profiles"
      ],
      "text/plain": [
       "<IPython.core.display.Markdown object>"
      ]
     },
     "metadata": {},
     "output_type": "display_data"
    },
    {
     "data": {
      "text/html": [
       "\n",
       "<div class=\"bk-root\">\n",
       "    <div class=\"bk-plotdiv\" id=\"fa95d13b-ea31-473d-a4be-eca398bf48cf\"></div>\n",
       "</div>"
      ]
     },
     "metadata": {},
     "output_type": "display_data"
    },
    {
     "data": {
      "application/javascript": [
       "(function(root) {\n",
       "  function embed_document(root) {\n",
       "    \n",
       "  var docs_json = {\"61d3f841-eaf8-41b6-bfc5-c4366d0eec93\":{\"roots\":{\"references\":[{\"attributes\":{\"line_alpha\":0.1,\"line_color\":\"#1f77b4\",\"line_width\":1.5,\"x\":{\"field\":\"x\"},\"y\":{\"field\":\"y\"}},\"id\":\"c2d69d16-fc5f-403b-b6d4-28146bf8f061\",\"type\":\"Line\"},{\"attributes\":{\"label\":{\"value\":\"CLIRAD `coolr_bands`\"},\"renderers\":[{\"id\":\"161edee7-42bb-469e-af63-801371c91b43\",\"type\":\"GlyphRenderer\"}]},\"id\":\"03b6af4e-e6e8-42ad-ad6c-b1a4f38bc426\",\"type\":\"LegendItem\"},{\"attributes\":{\"fill_alpha\":{\"value\":0.7},\"fill_color\":{\"value\":\"#984ea3\"},\"line_alpha\":{\"value\":0.7},\"line_color\":{\"value\":\"#984ea3\"},\"x\":{\"field\":\"x\"},\"y\":{\"field\":\"y\"}},\"id\":\"d76a6fd1-3bfd-4015-bec1-9ca6cfe63ba1\",\"type\":\"Square\"},{\"attributes\":{\"tools\":[{\"id\":\"92906846-84d1-44b6-aed4-3c1ba02bdefd\",\"type\":\"PanTool\"},{\"id\":\"c9682adb-8ddc-45d0-a480-f4983ee71abe\",\"type\":\"WheelZoomTool\"},{\"id\":\"5f79211a-e418-4f1e-ab9e-7bc4f681a0fa\",\"type\":\"BoxZoomTool\"},{\"id\":\"037e37f9-db7a-47f6-9f19-3221c719418e\",\"type\":\"SaveTool\"},{\"id\":\"2787f3aa-1703-492c-8a0f-073e6ee71f98\",\"type\":\"ResetTool\"},{\"id\":\"3ccb88b1-21a3-40c0-9851-d25c22fc779f\",\"type\":\"HelpTool\"},{\"id\":\"ae96a7e3-af92-4589-b090-7d085c2f474b\",\"type\":\"PanTool\"},{\"id\":\"ca6cf656-226a-4ec3-b9c8-295c18065bf7\",\"type\":\"WheelZoomTool\"},{\"id\":\"f748391f-ae04-4aa7-a04e-081d3cacf4d3\",\"type\":\"BoxZoomTool\"},{\"id\":\"0734c09d-371b-476a-842a-5244682ae4df\",\"type\":\"SaveTool\"},{\"id\":\"6c43ce86-7c4a-48d7-8740-1e8ecc6d7fdc\",\"type\":\"ResetTool\"},{\"id\":\"49b98bc7-20d2-4955-8507-470e649b7deb\",\"type\":\"HelpTool\"}]},\"id\":\"ece9b6d5-2b11-4152-bfe7-84e3099e4000\",\"type\":\"ProxyToolbar\"},{\"attributes\":{\"callback\":null,\"column_names\":[\"x\",\"y\"],\"data\":{\"x\":{\"__ndarray__\":\"95vDlMzawD9U4j5aqjeEPwX9/VH4zXg/V7xLgF7TUz+eyDMyP2xuv5X1Dd/R5YC/mq0aVoHyiL8d9a9jXnKQv6X1SmixZZS/M/VutxqVmL9z1cB/iEedvxYswSHVKaG/CiWgfT1DpL+TzBWeynupv8tZCg5Qlq+/X449zHXSsL+WoTFgt3Kvv2s2M1OKuKy/klAy7Sbupr8MhzErDHiWv4gaO5eYHZY/nQvIAzaMvj8pkq8EUmLRP6lzf9SqRtE/DDl885dtwz9slSt/aC21P5WExVrcfKc/+XQrOkg+mT+BVgUPeAWLP87LOHjsiHs/X5Q1bex5Yj++1f8rUVZEv8/Z2OazNVO/4FGUK845SL/T0lPt6IVLv6WgjE5ls1S/DAfyj6bRV7+lx9n2qapYv+wwCYNpEmC/QHlWFcxmZr9NUN15dsJpv6b8cg4oIGi/Kkf/DvdfZ7+kCvK3JYBnv614dRbOEWi/PdxOlvMwaL8BheMCoxVnvxlfi0jarmS/3PgGawvrYL8V0tNko4NXv4gHG4CTlUW/vCeC+vsiLD/jLqhSH39TPzBZHJsLxmI/JSlMQwQIbT8bFmBtvml0P6lvInykT3s/NhwUYUMvgj9zDyU0K9aGP3WO/B8ydYs/XQPKwrEQkD8HH1fe5nGSP69QPhnw7ZQ/Ud1Apz6Vlz9t4S0bk4GaPzB86ZIW050/mlGEuJi9oD+a3C9su3OiPy6GehOmnKM/PPOJdPMYpD+sX3RvAUWkP5BJz78gk6Q/UNFMiJ1PpT+ArIkABemmP748iJD/ca4/\",\"dtype\":\"float64\",\"shape\":[75]},\"y\":{\"__ndarray__\":\"GhExyth1ND/Sv8nbtpRIP2vylNV0PVE/aTum7souWD/At0SJ8fVgPw3Iuahxymc/MSNhhJWvcD/bTfBN02d3P2zb5nxnaoA/CD5h5MAGhz8NmeH1TyaQP+zrCsc9p5Y/LbKd76fGnz/bLW5ISEmmPww9YvTcQq8/JV2OstnstT8Er5Y7M8G+P0c+r3jqkcU/5h99k6ZBzj88bCIzFzjVP4enV8oyxN0//yH99nXg5D8qOpLLf0jtP5kqGJXUifQ/c9cS8kHP/D+/DpwzojQEQIEmwoanVwxA4lgXt9HgE0BSSZ2AJuIbQAMJih9jjiNA5q4l5INuK0AwTKYKRj0zQNv5fmq8/DpAaCJseHrtQkB/+zpwzoxKQM3MzMzMeFJAZmZmZmZqWEAAAAAAAFxeQM3MzMzMJmJAmpmZmZkfZUBmZmZmZhhoQDMzMzMzEWtAAAAAAAAKbkBmZmZmZoFwQM3MzMzM/XFAMzMzMzN6c0CamZmZmfZ0QAAAAAAAc3ZAZmZmZmbvd0DNzMzMzGt5QDMzMzMz6HpAmpmZmZlkfEAAAAAAAOF9QGZmZmZmXX9AZmZmZuZsgECamZmZGSuBQM3MzMxM6YFAAAAAAICngkAzMzMzs2WDQGZmZmbmI4RAmpmZmRnihEDNzMzMTKCFQAAAAACAXoZAMzMzM7Mch0BmZmZm5tqHQJqZmZkZmYhAzczMzExXiUAAAAAAgBWKQDMzMzOz04pAZmZmZuaRi0CamZmZGVCMQM3MzMxMDo1AAAAAAIDMjUAzMzMzs4qOQGZmZmbmSI9A\",\"dtype\":\"float64\",\"shape\":[75]}}},\"id\":\"49ee5830-49b4-4ee0-a254-e67938a53818\",\"type\":\"ColumnDataSource\"},{\"attributes\":{\"callback\":null,\"column_names\":[\"x\",\"y\"],\"data\":{\"x\":{\"__ndarray__\":\"95vDlMzawD9U4j5aqjeEPwX9/VH4zXg/V7xLgF7TUz+eyDMyP2xuv5X1Dd/R5YC/mq0aVoHyiL8d9a9jXnKQv6X1SmixZZS/M/VutxqVmL9z1cB/iEedvxYswSHVKaG/CiWgfT1DpL+TzBWeynupv8tZCg5Qlq+/X449zHXSsL+WoTFgt3Kvv2s2M1OKuKy/klAy7Sbupr8MhzErDHiWv4gaO5eYHZY/nQvIAzaMvj8pkq8EUmLRP6lzf9SqRtE/DDl885dtwz9slSt/aC21P5WExVrcfKc/+XQrOkg+mT+BVgUPeAWLP87LOHjsiHs/X5Q1bex5Yj++1f8rUVZEv8/Z2OazNVO/4FGUK845SL/T0lPt6IVLv6WgjE5ls1S/DAfyj6bRV7+lx9n2qapYv+wwCYNpEmC/QHlWFcxmZr9NUN15dsJpv6b8cg4oIGi/Kkf/DvdfZ7+kCvK3JYBnv614dRbOEWi/PdxOlvMwaL8BheMCoxVnvxlfi0jarmS/3PgGawvrYL8V0tNko4NXv4gHG4CTlUW/vCeC+vsiLD/jLqhSH39TPzBZHJsLxmI/JSlMQwQIbT8bFmBtvml0P6lvInykT3s/NhwUYUMvgj9zDyU0K9aGP3WO/B8ydYs/XQPKwrEQkD8HH1fe5nGSP69QPhnw7ZQ/Ud1Apz6Vlz9t4S0bk4GaPzB86ZIW050/mlGEuJi9oD+a3C9su3OiPy6GehOmnKM/PPOJdPMYpD+sX3RvAUWkP5BJz78gk6Q/UNFMiJ1PpT+ArIkABemmP748iJD/ca4/\",\"dtype\":\"float64\",\"shape\":[75]},\"y\":{\"__ndarray__\":\"GhExyth1ND/Sv8nbtpRIP2vylNV0PVE/aTum7souWD/At0SJ8fVgPw3Iuahxymc/MSNhhJWvcD/bTfBN02d3P2zb5nxnaoA/CD5h5MAGhz8NmeH1TyaQP+zrCsc9p5Y/LbKd76fGnz/bLW5ISEmmPww9YvTcQq8/JV2OstnstT8Er5Y7M8G+P0c+r3jqkcU/5h99k6ZBzj88bCIzFzjVP4enV8oyxN0//yH99nXg5D8qOpLLf0jtP5kqGJXUifQ/c9cS8kHP/D+/DpwzojQEQIEmwoanVwxA4lgXt9HgE0BSSZ2AJuIbQAMJih9jjiNA5q4l5INuK0AwTKYKRj0zQNv5fmq8/DpAaCJseHrtQkB/+zpwzoxKQM3MzMzMeFJAZmZmZmZqWEAAAAAAAFxeQM3MzMzMJmJAmpmZmZkfZUBmZmZmZhhoQDMzMzMzEWtAAAAAAAAKbkBmZmZmZoFwQM3MzMzM/XFAMzMzMzN6c0CamZmZmfZ0QAAAAAAAc3ZAZmZmZmbvd0DNzMzMzGt5QDMzMzMz6HpAmpmZmZlkfEAAAAAAAOF9QGZmZmZmXX9AZmZmZuZsgECamZmZGSuBQM3MzMxM6YFAAAAAAICngkAzMzMzs2WDQGZmZmbmI4RAmpmZmRnihEDNzMzMTKCFQAAAAACAXoZAMzMzM7Mch0BmZmZm5tqHQJqZmZkZmYhAzczMzExXiUAAAAAAgBWKQDMzMzOz04pAZmZmZuaRi0CamZmZGVCMQM3MzMxMDo1AAAAAAIDMjUAzMzMzs4qOQGZmZmbmSI9A\",\"dtype\":\"float64\",\"shape\":[75]}}},\"id\":\"75233be8-348b-43e7-ad4d-4f1b3ecd98b6\",\"type\":\"ColumnDataSource\"},{\"attributes\":{\"line_color\":\"#4daf4a\",\"line_width\":1.5,\"x\":{\"field\":\"x\"},\"y\":{\"field\":\"y\"}},\"id\":\"4860b3a3-da4b-4e4c-a088-7985a697fa7d\",\"type\":\"Line\"},{\"attributes\":{\"callback\":null,\"end\":0.01,\"start\":1020},\"id\":\"7e10ecae-9390-4fd1-9af1-40e9627104ba\",\"type\":\"Range1d\"},{\"attributes\":{\"line_alpha\":0.1,\"line_color\":\"#1f77b4\",\"line_dash\":[6],\"line_width\":5,\"x\":{\"field\":\"x\"},\"y\":{\"field\":\"y\"}},\"id\":\"186bcd57-22e7-434c-9a62-37315f2f66f2\",\"type\":\"Line\"},{\"attributes\":{\"data_source\":{\"id\":\"75233be8-348b-43e7-ad4d-4f1b3ecd98b6\",\"type\":\"ColumnDataSource\"},\"glyph\":{\"id\":\"4860b3a3-da4b-4e4c-a088-7985a697fa7d\",\"type\":\"Line\"},\"hover_glyph\":null,\"muted_glyph\":null,\"nonselection_glyph\":{\"id\":\"c2d69d16-fc5f-403b-b6d4-28146bf8f061\",\"type\":\"Line\"},\"selection_glyph\":null,\"view\":{\"id\":\"ee24bfd9-b174-4acb-8934-ab73820cc5ae\",\"type\":\"CDSView\"}},\"id\":\"9e1d308c-bbb4-43d8-8455-8633f3a2ef03\",\"type\":\"GlyphRenderer\"},{\"attributes\":{\"source\":{\"id\":\"75233be8-348b-43e7-ad4d-4f1b3ecd98b6\",\"type\":\"ColumnDataSource\"}},\"id\":\"ee24bfd9-b174-4acb-8934-ab73820cc5ae\",\"type\":\"CDSView\"},{\"attributes\":{\"callback\":null,\"column_names\":[\"x\",\"y\"],\"data\":{\"x\":{\"__ndarray__\":\"D4285jTP0T+JI6dgoRe1P1HIVBWoMqc/QDDQgD3QjT9jl4IXeEyHv8kQqWReGZy/ACZ7FEZkor8mKxJV8MKjv9ay2M1cRaS/e9GOg2Gsor8rfRECLNGnv+7N4e1QM6e/zhkPvkk2qb/I4PY+NHevvy8hidgMYrK/G5arxOFxsr98zurYmSatv0EyFcn016S/NzZKfaohl7+N9AVCzr9LvzglwLO0iJ0/z4cE33aZuj+Vqh9hOT7OPxjGJ650CM8/2OPwD3yIxD9JgP2EcT+7P3CeLq6YYbA/QQ5wXwyHnz+c86zUTvWFP8wlUUe5z3A/CWoTR+D/bj8TEm7UOAtjPwccYC2cSkc/iQr8uY2zNb/8/h2u7ZZRvySy6MVkxFm/zUBqtbX1W798qkaU1h1bv4b1sUg0/WG/yNz06L9nab8UqVk1Qh5tv7vdnUWHcWu/cqJYzNo2bL+tKReBbVhtvyXdJyuscm6/RFSGzV4/br+xoAI5B5xsv1leK30+zGq/jjw/bZWeaL/W9ZqOHzJlvzrULQL1u1+/0z4zT4mHUr/NUwxMfcEZP4qSh/uMb1Y/TrHUPaXYZz/zGv1gxxxzPz3FZW0353o/4P510QRIgj/gSzdCbNSGP40RVlEmr4o/ZjVxM1sAjj8PWPWWy3aQPxrOn7BwBJI/vnUcRA3Ukz/WVW93UDWWP2nlQgsnbpk/1Tvu8chznT+ZC+BWD9KgPyI4M5xgb6I/mhcEr8Z0oz80siks+DqkP6qCmB4pL6U/JD77uqFjpj9hjWKiCWCoP181j/ZRI7A/\",\"dtype\":\"float64\",\"shape\":[75]},\"y\":{\"__ndarray__\":\"GhExyth1ND/Sv8nbtpRIP2vylNV0PVE/aTum7souWD/At0SJ8fVgPw3Iuahxymc/MSNhhJWvcD/bTfBN02d3P2zb5nxnaoA/CD5h5MAGhz8NmeH1TyaQP+zrCsc9p5Y/LbKd76fGnz/bLW5ISEmmPww9YvTcQq8/JV2OstnstT8Er5Y7M8G+P0c+r3jqkcU/5h99k6ZBzj88bCIzFzjVP4enV8oyxN0//yH99nXg5D8qOpLLf0jtP5kqGJXUifQ/c9cS8kHP/D+/DpwzojQEQIEmwoanVwxA4lgXt9HgE0BSSZ2AJuIbQAMJih9jjiNA5q4l5INuK0AwTKYKRj0zQNv5fmq8/DpAaCJseHrtQkB/+zpwzoxKQM3MzMzMeFJAZmZmZmZqWEAAAAAAAFxeQM3MzMzMJmJAmpmZmZkfZUBmZmZmZhhoQDMzMzMzEWtAAAAAAAAKbkBmZmZmZoFwQM3MzMzM/XFAMzMzMzN6c0CamZmZmfZ0QAAAAAAAc3ZAZmZmZmbvd0DNzMzMzGt5QDMzMzMz6HpAmpmZmZlkfEAAAAAAAOF9QGZmZmZmXX9AZmZmZuZsgECamZmZGSuBQM3MzMxM6YFAAAAAAICngkAzMzMzs2WDQGZmZmbmI4RAmpmZmRnihEDNzMzMTKCFQAAAAACAXoZAMzMzM7Mch0BmZmZm5tqHQJqZmZkZmYhAzczMzExXiUAAAAAAgBWKQDMzMzOz04pAZmZmZuaRi0CamZmZGVCMQM3MzMxMDo1AAAAAAIDMjUAzMzMzs4qOQGZmZmbmSI9A\",\"dtype\":\"float64\",\"shape\":[75]}}},\"id\":\"b2143bde-4ecc-4c85-a220-e7efa5c459d8\",\"type\":\"ColumnDataSource\"},{\"attributes\":{\"callback\":null,\"column_names\":[\"x\",\"y\"],\"data\":{\"x\":{\"__ndarray__\":\"95vDlMzawD9U4j5aqjeEPwX9/VH4zXg/V7xLgF7TUz+eyDMyP2xuv5X1Dd/R5YC/mq0aVoHyiL8d9a9jXnKQv6X1SmixZZS/M/VutxqVmL9z1cB/iEedvxYswSHVKaG/CiWgfT1DpL+TzBWeynupv8tZCg5Qlq+/X449zHXSsL+WoTFgt3Kvv2s2M1OKuKy/klAy7Sbupr8MhzErDHiWv4gaO5eYHZY/nQvIAzaMvj8pkq8EUmLRP6lzf9SqRtE/DDl885dtwz9slSt/aC21P5WExVrcfKc/+XQrOkg+mT+BVgUPeAWLP87LOHjsiHs/X5Q1bex5Yj++1f8rUVZEv8/Z2OazNVO/4FGUK845SL/T0lPt6IVLv6WgjE5ls1S/DAfyj6bRV7+lx9n2qapYv+wwCYNpEmC/QHlWFcxmZr9NUN15dsJpv6b8cg4oIGi/Kkf/DvdfZ7+kCvK3JYBnv614dRbOEWi/PdxOlvMwaL8BheMCoxVnvxlfi0jarmS/3PgGawvrYL8V0tNko4NXv4gHG4CTlUW/vCeC+vsiLD/jLqhSH39TPzBZHJsLxmI/JSlMQwQIbT8bFmBtvml0P6lvInykT3s/NhwUYUMvgj9zDyU0K9aGP3WO/B8ydYs/XQPKwrEQkD8HH1fe5nGSP69QPhnw7ZQ/Ud1Apz6Vlz9t4S0bk4GaPzB86ZIW050/mlGEuJi9oD+a3C9su3OiPy6GehOmnKM/PPOJdPMYpD+sX3RvAUWkP5BJz78gk6Q/UNFMiJ1PpT+ArIkABemmP748iJD/ca4/\",\"dtype\":\"float64\",\"shape\":[75]},\"y\":{\"__ndarray__\":\"GhExyth1ND/Sv8nbtpRIP2vylNV0PVE/aTum7souWD/At0SJ8fVgPw3Iuahxymc/MSNhhJWvcD/bTfBN02d3P2zb5nxnaoA/CD5h5MAGhz8NmeH1TyaQP+zrCsc9p5Y/LbKd76fGnz/bLW5ISEmmPww9YvTcQq8/JV2OstnstT8Er5Y7M8G+P0c+r3jqkcU/5h99k6ZBzj88bCIzFzjVP4enV8oyxN0//yH99nXg5D8qOpLLf0jtP5kqGJXUifQ/c9cS8kHP/D+/DpwzojQEQIEmwoanVwxA4lgXt9HgE0BSSZ2AJuIbQAMJih9jjiNA5q4l5INuK0AwTKYKRj0zQNv5fmq8/DpAaCJseHrtQkB/+zpwzoxKQM3MzMzMeFJAZmZmZmZqWEAAAAAAAFxeQM3MzMzMJmJAmpmZmZkfZUBmZmZmZhhoQDMzMzMzEWtAAAAAAAAKbkBmZmZmZoFwQM3MzMzM/XFAMzMzMzN6c0CamZmZmfZ0QAAAAAAAc3ZAZmZmZmbvd0DNzMzMzGt5QDMzMzMz6HpAmpmZmZlkfEAAAAAAAOF9QGZmZmZmXX9AZmZmZuZsgECamZmZGSuBQM3MzMxM6YFAAAAAAICngkAzMzMzs2WDQGZmZmbmI4RAmpmZmRnihEDNzMzMTKCFQAAAAACAXoZAMzMzM7Mch0BmZmZm5tqHQJqZmZkZmYhAzczMzExXiUAAAAAAgBWKQDMzMzOz04pAZmZmZuaRi0CamZmZGVCMQM3MzMxMDo1AAAAAAIDMjUAzMzMzs4qOQGZmZmbmSI9A\",\"dtype\":\"float64\",\"shape\":[75]}}},\"id\":\"15cd800b-1784-4364-95ce-1f051ed5e73c\",\"type\":\"ColumnDataSource\"},{\"attributes\":{\"children\":[{\"id\":\"2c873769-0480-4503-b266-a7d9044f75e2\",\"type\":\"ToolbarBox\"},{\"id\":\"a2b6a1bc-3d8b-4021-acf0-8d02adffd68e\",\"type\":\"Column\"}]},\"id\":\"a0bc82b6-03f9-4039-a665-a1dc5ce604c2\",\"type\":\"Column\"},{\"attributes\":{\"children\":[{\"id\":\"96aa0899-6d20-4d5b-b1ea-7960cabfe8ee\",\"subtype\":\"Figure\",\"type\":\"Plot\"},{\"id\":\"dc795bea-3ecd-47e6-b899-e182837d46e4\",\"subtype\":\"Figure\",\"type\":\"Plot\"}]},\"id\":\"5491e2ad-77b3-45e8-983e-a5ad9a1d6419\",\"type\":\"Row\"},{\"attributes\":{\"fill_alpha\":{\"value\":0.7},\"fill_color\":{\"value\":\"#4daf4a\"},\"line_alpha\":{\"value\":0.7},\"line_color\":{\"value\":\"#4daf4a\"},\"x\":{\"field\":\"x\"},\"y\":{\"field\":\"y\"}},\"id\":\"9225d6a9-a8d5-43f7-9a95-ecd3a36e83f5\",\"type\":\"Circle\"},{\"attributes\":{\"data_source\":{\"id\":\"15cd800b-1784-4364-95ce-1f051ed5e73c\",\"type\":\"ColumnDataSource\"},\"glyph\":{\"id\":\"9225d6a9-a8d5-43f7-9a95-ecd3a36e83f5\",\"type\":\"Circle\"},\"hover_glyph\":null,\"muted_glyph\":null,\"nonselection_glyph\":{\"id\":\"7029c254-0fa9-4dbd-891b-498da68473d5\",\"type\":\"Circle\"},\"selection_glyph\":null,\"view\":{\"id\":\"81c4974b-d3cd-4605-8ab4-a64ac9404f4e\",\"type\":\"CDSView\"}},\"id\":\"0af66b8b-c3fd-4ee2-b3f5-efb82b737395\",\"type\":\"GlyphRenderer\"},{\"attributes\":{\"fill_alpha\":{\"value\":0.1},\"fill_color\":{\"value\":\"#1f77b4\"},\"line_alpha\":{\"value\":0.1},\"line_color\":{\"value\":\"#1f77b4\"},\"x\":{\"field\":\"x\"},\"y\":{\"field\":\"y\"}},\"id\":\"7029c254-0fa9-4dbd-891b-498da68473d5\",\"type\":\"Circle\"},{\"attributes\":{\"label\":{\"value\":\"WGT igg=10 wgt_flux=2\"},\"renderers\":[{\"id\":\"4d943cd1-9049-4064-9ed5-dd2233b5c968\",\"type\":\"GlyphRenderer\"},{\"id\":\"53c3b0d7-32dd-4bc3-89bf-e6a77f19614d\",\"type\":\"GlyphRenderer\"}]},\"id\":\"15d38990-5ba9-4e65-b781-9c1da9c3ec38\",\"type\":\"LegendItem\"},{\"attributes\":{\"source\":{\"id\":\"15cd800b-1784-4364-95ce-1f051ed5e73c\",\"type\":\"ColumnDataSource\"}},\"id\":\"81c4974b-d3cd-4605-8ab4-a64ac9404f4e\",\"type\":\"CDSView\"},{\"attributes\":{\"label\":{\"value\":\"CRD\"},\"renderers\":[{\"id\":\"ab23f619-2dcb-4316-a0b3-7f9a92cc08d6\",\"type\":\"GlyphRenderer\"},{\"id\":\"512138c7-b052-4841-8c57-de11a60fa177\",\"type\":\"GlyphRenderer\"}]},\"id\":\"92fb9567-c089-4c16-a0ad-2ad7772deb5b\",\"type\":\"LegendItem\"},{\"attributes\":{},\"id\":\"65c5af91-ae9a-44e5-b764-ec46f5edaabb\",\"type\":\"BasicTickFormatter\"},{\"attributes\":{\"source\":{\"id\":\"227979ca-4614-4a4f-86c0-b9025229d7b8\",\"type\":\"ColumnDataSource\"}},\"id\":\"f0f30805-05bb-4829-af5b-175b29a8c4af\",\"type\":\"CDSView\"},{\"attributes\":{},\"id\":\"9aa28cdb-c9fd-4595-98e8-6704c7009d19\",\"type\":\"BasicTickFormatter\"},{\"attributes\":{\"toolbar\":{\"id\":\"ece9b6d5-2b11-4152-bfe7-84e3099e4000\",\"type\":\"ProxyToolbar\"},\"toolbar_location\":\"above\"},\"id\":\"2c873769-0480-4503-b266-a7d9044f75e2\",\"type\":\"ToolbarBox\"},{\"attributes\":{\"data_source\":{\"id\":\"b2143bde-4ecc-4c85-a220-e7efa5c459d8\",\"type\":\"ColumnDataSource\"},\"glyph\":{\"id\":\"d76a6fd1-3bfd-4015-bec1-9ca6cfe63ba1\",\"type\":\"Square\"},\"hover_glyph\":null,\"muted_glyph\":null,\"nonselection_glyph\":{\"id\":\"acde46af-e75d-48f6-b80e-5b92cc29d2af\",\"type\":\"Square\"},\"selection_glyph\":null,\"view\":{\"id\":\"c9b94f81-ed89-42e0-b298-9c8e1e650a73\",\"type\":\"CDSView\"}},\"id\":\"46d2b670-1264-4bd0-80eb-6dbdeb5ae330\",\"type\":\"GlyphRenderer\"},{\"attributes\":{\"line_color\":\"#4daf4a\",\"line_width\":1.5,\"x\":{\"field\":\"x\"},\"y\":{\"field\":\"y\"}},\"id\":\"64a2d42f-92aa-45e2-afbc-e3890971b924\",\"type\":\"Line\"},{\"attributes\":{\"source\":{\"id\":\"7bf8c026-be9b-4350-9669-b68d1e767c1e\",\"type\":\"ColumnDataSource\"}},\"id\":\"a5c9f839-8ca9-416e-aeea-2ea7ee7e6cc3\",\"type\":\"CDSView\"},{\"attributes\":{\"line_alpha\":0.1,\"line_color\":\"#1f77b4\",\"line_width\":3,\"x\":{\"field\":\"x\"},\"y\":{\"field\":\"y\"}},\"id\":\"3fdcf856-8af2-4df6-bfb7-532b5a58b867\",\"type\":\"Line\"},{\"attributes\":{},\"id\":\"6a989558-ecd5-49eb-8a2d-f2d4a90b6f5e\",\"type\":\"BasicTickFormatter\"},{\"attributes\":{\"data_source\":{\"id\":\"49ee5830-49b4-4ee0-a254-e67938a53818\",\"type\":\"ColumnDataSource\"},\"glyph\":{\"id\":\"64a2d42f-92aa-45e2-afbc-e3890971b924\",\"type\":\"Line\"},\"hover_glyph\":null,\"muted_glyph\":null,\"nonselection_glyph\":{\"id\":\"4f413f94-fbad-4640-9ec1-102ac1f8fa35\",\"type\":\"Line\"},\"selection_glyph\":null,\"view\":{\"id\":\"44d1f42b-35bc-4906-9d29-339d4dc778a3\",\"type\":\"CDSView\"}},\"id\":\"512138c7-b052-4841-8c57-de11a60fa177\",\"type\":\"GlyphRenderer\"},{\"attributes\":{\"line_alpha\":0.6,\"line_color\":\"#984ea3\",\"line_width\":3,\"x\":{\"field\":\"x\"},\"y\":{\"field\":\"y\"}},\"id\":\"ded69985-6f95-4ccc-ae60-3c3bebb3c5bb\",\"type\":\"Line\"},{\"attributes\":{},\"id\":\"00a45c88-ed24-4b50-9d8c-680e11a655c2\",\"type\":\"BasicTicker\"},{\"attributes\":{\"children\":[{\"id\":\"5491e2ad-77b3-45e8-983e-a5ad9a1d6419\",\"type\":\"Row\"}]},\"id\":\"a2b6a1bc-3d8b-4021-acf0-8d02adffd68e\",\"type\":\"Column\"},{\"attributes\":{},\"id\":\"0fe43bcf-7e98-4e0d-85ba-98509a73b43a\",\"type\":\"LinearScale\"},{\"attributes\":{\"plot\":{\"id\":\"96aa0899-6d20-4d5b-b1ea-7960cabfe8ee\",\"subtype\":\"Figure\",\"type\":\"Plot\"},\"ticker\":{\"id\":\"f1772245-c050-4c59-96b8-19928446d251\",\"type\":\"BasicTicker\"}},\"id\":\"8d51151c-f4f4-4692-82b4-e5960974182a\",\"type\":\"Grid\"},{\"attributes\":{\"ticker\":null},\"id\":\"8de7c3ab-6c0a-4448-ac45-87cc5aee9b2c\",\"type\":\"LogTickFormatter\"},{\"attributes\":{\"source\":{\"id\":\"49ee5830-49b4-4ee0-a254-e67938a53818\",\"type\":\"ColumnDataSource\"}},\"id\":\"44d1f42b-35bc-4906-9d29-339d4dc778a3\",\"type\":\"CDSView\"},{\"attributes\":{\"line_alpha\":0.1,\"line_color\":\"#1f77b4\",\"line_width\":3,\"x\":{\"field\":\"x\"},\"y\":{\"field\":\"y\"}},\"id\":\"e2c57735-56ef-4f1c-8e36-fa7a8a457310\",\"type\":\"Line\"},{\"attributes\":{\"source\":{\"id\":\"eae1172e-680e-4dfb-94fe-a382b2add017\",\"type\":\"ColumnDataSource\"}},\"id\":\"46baaaa3-191c-439c-a982-67544d8171c6\",\"type\":\"CDSView\"},{\"attributes\":{\"active_drag\":\"auto\",\"active_inspect\":\"auto\",\"active_scroll\":\"auto\",\"active_tap\":\"auto\",\"tools\":[{\"id\":\"ae96a7e3-af92-4589-b090-7d085c2f474b\",\"type\":\"PanTool\"},{\"id\":\"ca6cf656-226a-4ec3-b9c8-295c18065bf7\",\"type\":\"WheelZoomTool\"},{\"id\":\"f748391f-ae04-4aa7-a04e-081d3cacf4d3\",\"type\":\"BoxZoomTool\"},{\"id\":\"0734c09d-371b-476a-842a-5244682ae4df\",\"type\":\"SaveTool\"},{\"id\":\"6c43ce86-7c4a-48d7-8740-1e8ecc6d7fdc\",\"type\":\"ResetTool\"},{\"id\":\"49b98bc7-20d2-4955-8507-470e649b7deb\",\"type\":\"HelpTool\"}]},\"id\":\"e2a4794c-4103-40c1-8532-0ee2c94d24ea\",\"type\":\"Toolbar\"},{\"attributes\":{\"fill_alpha\":{\"value\":0.1},\"fill_color\":{\"value\":\"#1f77b4\"},\"line_alpha\":{\"value\":0.1},\"line_color\":{\"value\":\"#1f77b4\"},\"x\":{\"field\":\"x\"},\"y\":{\"field\":\"y\"}},\"id\":\"c14cc09f-cfaf-4c13-8011-bbf28fdfe6f6\",\"type\":\"Circle\"},{\"attributes\":{},\"id\":\"f1772245-c050-4c59-96b8-19928446d251\",\"type\":\"BasicTicker\"},{\"attributes\":{\"dimension\":1,\"plot\":{\"id\":\"dc795bea-3ecd-47e6-b899-e182837d46e4\",\"subtype\":\"Figure\",\"type\":\"Plot\"},\"ticker\":{\"id\":\"fe009c9c-aeb8-4cfa-a85a-d5f33236aec0\",\"type\":\"LogTicker\"}},\"id\":\"43fb6d52-0545-4d1a-abd2-8d78bc489088\",\"type\":\"Grid\"},{\"attributes\":{},\"id\":\"c9682adb-8ddc-45d0-a480-f4983ee71abe\",\"type\":\"WheelZoomTool\"},{\"attributes\":{\"axis_label\":\"pressure [mb]\",\"formatter\":{\"id\":\"8de7c3ab-6c0a-4448-ac45-87cc5aee9b2c\",\"type\":\"LogTickFormatter\"},\"plot\":{\"id\":\"dc795bea-3ecd-47e6-b899-e182837d46e4\",\"subtype\":\"Figure\",\"type\":\"Plot\"},\"ticker\":{\"id\":\"fe009c9c-aeb8-4cfa-a85a-d5f33236aec0\",\"type\":\"LogTicker\"}},\"id\":\"a0bcbc7a-5f20-4870-b83f-d45e216c93d6\",\"type\":\"LogAxis\"},{\"attributes\":{},\"id\":\"0734c09d-371b-476a-842a-5244682ae4df\",\"type\":\"SaveTool\"},{\"attributes\":{\"axis_label\":\"pressure [mb]\",\"formatter\":{\"id\":\"65c5af91-ae9a-44e5-b764-ec46f5edaabb\",\"type\":\"BasicTickFormatter\"},\"plot\":{\"id\":\"96aa0899-6d20-4d5b-b1ea-7960cabfe8ee\",\"subtype\":\"Figure\",\"type\":\"Plot\"},\"ticker\":{\"id\":\"1a3ac64a-3181-4d02-80c9-9f2cb4e28f26\",\"type\":\"BasicTicker\"}},\"id\":\"dab301b7-6f7d-4173-8e64-360d190c069f\",\"type\":\"LinearAxis\"},{\"attributes\":{},\"id\":\"ca6cf656-226a-4ec3-b9c8-295c18065bf7\",\"type\":\"WheelZoomTool\"},{\"attributes\":{\"callback\":null,\"column_names\":[\"x\",\"y\"],\"data\":{\"x\":{\"__ndarray__\":\"D4285jTP0T+JI6dgoRe1P1HIVBWoMqc/QDDQgD3QjT9jl4IXeEyHv8kQqWReGZy/ACZ7FEZkor8mKxJV8MKjv9ay2M1cRaS/e9GOg2Gsor8rfRECLNGnv+7N4e1QM6e/zhkPvkk2qb/I4PY+NHevvy8hidgMYrK/G5arxOFxsr98zurYmSatv0EyFcn016S/NzZKfaohl7+N9AVCzr9LvzglwLO0iJ0/z4cE33aZuj+Vqh9hOT7OPxjGJ650CM8/2OPwD3yIxD9JgP2EcT+7P3CeLq6YYbA/QQ5wXwyHnz+c86zUTvWFP8wlUUe5z3A/CWoTR+D/bj8TEm7UOAtjPwccYC2cSkc/iQr8uY2zNb/8/h2u7ZZRvySy6MVkxFm/zUBqtbX1W798qkaU1h1bv4b1sUg0/WG/yNz06L9nab8UqVk1Qh5tv7vdnUWHcWu/cqJYzNo2bL+tKReBbVhtvyXdJyuscm6/RFSGzV4/br+xoAI5B5xsv1leK30+zGq/jjw/bZWeaL/W9ZqOHzJlvzrULQL1u1+/0z4zT4mHUr/NUwxMfcEZP4qSh/uMb1Y/TrHUPaXYZz/zGv1gxxxzPz3FZW0353o/4P510QRIgj/gSzdCbNSGP40RVlEmr4o/ZjVxM1sAjj8PWPWWy3aQPxrOn7BwBJI/vnUcRA3Ukz/WVW93UDWWP2nlQgsnbpk/1Tvu8chznT+ZC+BWD9KgPyI4M5xgb6I/mhcEr8Z0oz80siks+DqkP6qCmB4pL6U/JD77uqFjpj9hjWKiCWCoP181j/ZRI7A/\",\"dtype\":\"float64\",\"shape\":[75]},\"y\":{\"__ndarray__\":\"GhExyth1ND/Sv8nbtpRIP2vylNV0PVE/aTum7souWD/At0SJ8fVgPw3Iuahxymc/MSNhhJWvcD/bTfBN02d3P2zb5nxnaoA/CD5h5MAGhz8NmeH1TyaQP+zrCsc9p5Y/LbKd76fGnz/bLW5ISEmmPww9YvTcQq8/JV2OstnstT8Er5Y7M8G+P0c+r3jqkcU/5h99k6ZBzj88bCIzFzjVP4enV8oyxN0//yH99nXg5D8qOpLLf0jtP5kqGJXUifQ/c9cS8kHP/D+/DpwzojQEQIEmwoanVwxA4lgXt9HgE0BSSZ2AJuIbQAMJih9jjiNA5q4l5INuK0AwTKYKRj0zQNv5fmq8/DpAaCJseHrtQkB/+zpwzoxKQM3MzMzMeFJAZmZmZmZqWEAAAAAAAFxeQM3MzMzMJmJAmpmZmZkfZUBmZmZmZhhoQDMzMzMzEWtAAAAAAAAKbkBmZmZmZoFwQM3MzMzM/XFAMzMzMzN6c0CamZmZmfZ0QAAAAAAAc3ZAZmZmZmbvd0DNzMzMzGt5QDMzMzMz6HpAmpmZmZlkfEAAAAAAAOF9QGZmZmZmXX9AZmZmZuZsgECamZmZGSuBQM3MzMxM6YFAAAAAAICngkAzMzMzs2WDQGZmZmbmI4RAmpmZmRnihEDNzMzMTKCFQAAAAACAXoZAMzMzM7Mch0BmZmZm5tqHQJqZmZkZmYhAzczMzExXiUAAAAAAgBWKQDMzMzOz04pAZmZmZuaRi0CamZmZGVCMQM3MzMxMDo1AAAAAAIDMjUAzMzMzs4qOQGZmZmbmSI9A\",\"dtype\":\"float64\",\"shape\":[75]}}},\"id\":\"7bf8c026-be9b-4350-9669-b68d1e767c1e\",\"type\":\"ColumnDataSource\"},{\"attributes\":{\"callback\":null,\"end\":0.06505795873300001,\"start\":-0.004515092033},\"id\":\"06790b02-6d02-4ef1-bb5e-8e7d64e34dd0\",\"type\":\"Range1d\"},{\"attributes\":{\"overlay\":{\"id\":\"2eb18b96-c5fd-4e3d-a5c1-76d7f5e20393\",\"type\":\"BoxAnnotation\"}},\"id\":\"5f79211a-e418-4f1e-ab9e-7bc4f681a0fa\",\"type\":\"BoxZoomTool\"},{\"attributes\":{},\"id\":\"511da0fd-8ffa-4390-9c14-4679601e01f0\",\"type\":\"LogScale\"},{\"attributes\":{\"items\":[{\"id\":\"03b6af4e-e6e8-42ad-ad6c-b1a4f38bc426\",\"type\":\"LegendItem\"},{\"id\":\"92fb9567-c089-4c16-a0ad-2ad7772deb5b\",\"type\":\"LegendItem\"},{\"id\":\"15d38990-5ba9-4e65-b781-9c1da9c3ec38\",\"type\":\"LegendItem\"}],\"label_text_font_size\":{\"value\":\"8pt\"},\"location\":[10,-30],\"plot\":{\"id\":\"dc795bea-3ecd-47e6-b899-e182837d46e4\",\"subtype\":\"Figure\",\"type\":\"Plot\"}},\"id\":\"b2b04a17-bf37-45dd-9b60-534c20a5bb49\",\"type\":\"Legend\"},{\"attributes\":{\"line_alpha\":0.6,\"line_color\":\"#e41a1c\",\"line_dash\":[6],\"line_width\":5,\"x\":{\"field\":\"x\"},\"y\":{\"field\":\"y\"}},\"id\":\"f310c1e0-2e67-404f-bb5f-a358d23a7d04\",\"type\":\"Line\"},{\"attributes\":{\"callback\":null,\"column_names\":[\"x\",\"y\"],\"data\":{\"x\":{\"__ndarray__\":\"D4285jTP0T+JI6dgoRe1P1HIVBWoMqc/QDDQgD3QjT9jl4IXeEyHv8kQqWReGZy/ACZ7FEZkor8mKxJV8MKjv9ay2M1cRaS/e9GOg2Gsor8rfRECLNGnv+7N4e1QM6e/zhkPvkk2qb/I4PY+NHevvy8hidgMYrK/G5arxOFxsr98zurYmSatv0EyFcn016S/NzZKfaohl7+N9AVCzr9LvzglwLO0iJ0/z4cE33aZuj+Vqh9hOT7OPxjGJ650CM8/2OPwD3yIxD9JgP2EcT+7P3CeLq6YYbA/QQ5wXwyHnz+c86zUTvWFP8wlUUe5z3A/CWoTR+D/bj8TEm7UOAtjPwccYC2cSkc/iQr8uY2zNb/8/h2u7ZZRvySy6MVkxFm/zUBqtbX1W798qkaU1h1bv4b1sUg0/WG/yNz06L9nab8UqVk1Qh5tv7vdnUWHcWu/cqJYzNo2bL+tKReBbVhtvyXdJyuscm6/RFSGzV4/br+xoAI5B5xsv1leK30+zGq/jjw/bZWeaL/W9ZqOHzJlvzrULQL1u1+/0z4zT4mHUr/NUwxMfcEZP4qSh/uMb1Y/TrHUPaXYZz/zGv1gxxxzPz3FZW0353o/4P510QRIgj/gSzdCbNSGP40RVlEmr4o/ZjVxM1sAjj8PWPWWy3aQPxrOn7BwBJI/vnUcRA3Ukz/WVW93UDWWP2nlQgsnbpk/1Tvu8chznT+ZC+BWD9KgPyI4M5xgb6I/mhcEr8Z0oz80siks+DqkP6qCmB4pL6U/JD77uqFjpj9hjWKiCWCoP181j/ZRI7A/\",\"dtype\":\"float64\",\"shape\":[75]},\"y\":{\"__ndarray__\":\"GhExyth1ND/Sv8nbtpRIP2vylNV0PVE/aTum7souWD/At0SJ8fVgPw3Iuahxymc/MSNhhJWvcD/bTfBN02d3P2zb5nxnaoA/CD5h5MAGhz8NmeH1TyaQP+zrCsc9p5Y/LbKd76fGnz/bLW5ISEmmPww9YvTcQq8/JV2OstnstT8Er5Y7M8G+P0c+r3jqkcU/5h99k6ZBzj88bCIzFzjVP4enV8oyxN0//yH99nXg5D8qOpLLf0jtP5kqGJXUifQ/c9cS8kHP/D+/DpwzojQEQIEmwoanVwxA4lgXt9HgE0BSSZ2AJuIbQAMJih9jjiNA5q4l5INuK0AwTKYKRj0zQNv5fmq8/DpAaCJseHrtQkB/+zpwzoxKQM3MzMzMeFJAZmZmZmZqWEAAAAAAAFxeQM3MzMzMJmJAmpmZmZkfZUBmZmZmZhhoQDMzMzMzEWtAAAAAAAAKbkBmZmZmZoFwQM3MzMzM/XFAMzMzMzN6c0CamZmZmfZ0QAAAAAAAc3ZAZmZmZmbvd0DNzMzMzGt5QDMzMzMz6HpAmpmZmZlkfEAAAAAAAOF9QGZmZmZmXX9AZmZmZuZsgECamZmZGSuBQM3MzMxM6YFAAAAAAICngkAzMzMzs2WDQGZmZmbmI4RAmpmZmRnihEDNzMzMTKCFQAAAAACAXoZAMzMzM7Mch0BmZmZm5tqHQJqZmZkZmYhAzczMzExXiUAAAAAAgBWKQDMzMzOz04pAZmZmZuaRi0CamZmZGVCMQM3MzMxMDo1AAAAAAIDMjUAzMzMzs4qOQGZmZmbmSI9A\",\"dtype\":\"float64\",\"shape\":[75]}}},\"id\":\"e36d499a-8382-4c0f-b7ca-d70019fbba71\",\"type\":\"ColumnDataSource\"},{\"attributes\":{\"axis_label\":\"cooling rate [K/day]\",\"formatter\":{\"id\":\"6a989558-ecd5-49eb-8a2d-f2d4a90b6f5e\",\"type\":\"BasicTickFormatter\"},\"plot\":{\"id\":\"dc795bea-3ecd-47e6-b899-e182837d46e4\",\"subtype\":\"Figure\",\"type\":\"Plot\"},\"ticker\":{\"id\":\"00a45c88-ed24-4b50-9d8c-680e11a655c2\",\"type\":\"BasicTicker\"}},\"id\":\"4e0abb47-57ce-4804-9605-c2a908e689f3\",\"type\":\"LinearAxis\"},{\"attributes\":{\"overlay\":{\"id\":\"fb55d86d-ff00-4279-82d0-808c87d86632\",\"type\":\"BoxAnnotation\"}},\"id\":\"f748391f-ae04-4aa7-a04e-081d3cacf4d3\",\"type\":\"BoxZoomTool\"},{\"attributes\":{\"data_source\":{\"id\":\"eae1172e-680e-4dfb-94fe-a382b2add017\",\"type\":\"ColumnDataSource\"},\"glyph\":{\"id\":\"f310c1e0-2e67-404f-bb5f-a358d23a7d04\",\"type\":\"Line\"},\"hover_glyph\":null,\"muted_glyph\":null,\"nonselection_glyph\":{\"id\":\"3ced10ff-fa43-4e1d-bc22-08444d8fd659\",\"type\":\"Line\"},\"selection_glyph\":null,\"view\":{\"id\":\"46baaaa3-191c-439c-a982-67544d8171c6\",\"type\":\"CDSView\"}},\"id\":\"161edee7-42bb-469e-af63-801371c91b43\",\"type\":\"GlyphRenderer\"},{\"attributes\":{\"bottom_units\":\"screen\",\"fill_alpha\":{\"value\":0.5},\"fill_color\":{\"value\":\"lightgrey\"},\"left_units\":\"screen\",\"level\":\"overlay\",\"line_alpha\":{\"value\":1.0},\"line_color\":{\"value\":\"black\"},\"line_dash\":[4,4],\"line_width\":{\"value\":2},\"plot\":null,\"render_mode\":\"css\",\"right_units\":\"screen\",\"top_units\":\"screen\"},\"id\":\"fb55d86d-ff00-4279-82d0-808c87d86632\",\"type\":\"BoxAnnotation\"},{\"attributes\":{\"plot\":null,\"text\":\"Linear pressure scale\"},\"id\":\"511fa689-83ad-4dbc-80ef-4628f0d027b6\",\"type\":\"Title\"},{\"attributes\":{},\"id\":\"58848103-bcb1-4818-8b46-56aa9585304a\",\"type\":\"LinearScale\"},{\"attributes\":{\"callback\":null,\"column_names\":[\"x\",\"y\"],\"data\":{\"x\":{\"__ndarray__\":\"95vDlMzawD9U4j5aqjeEPwX9/VH4zXg/V7xLgF7TUz+eyDMyP2xuv5X1Dd/R5YC/mq0aVoHyiL8d9a9jXnKQv6X1SmixZZS/M/VutxqVmL9z1cB/iEedvxYswSHVKaG/CiWgfT1DpL+TzBWeynupv8tZCg5Qlq+/X449zHXSsL+WoTFgt3Kvv2s2M1OKuKy/klAy7Sbupr8MhzErDHiWv4gaO5eYHZY/nQvIAzaMvj8pkq8EUmLRP6lzf9SqRtE/DDl885dtwz9slSt/aC21P5WExVrcfKc/+XQrOkg+mT+BVgUPeAWLP87LOHjsiHs/X5Q1bex5Yj++1f8rUVZEv8/Z2OazNVO/4FGUK845SL/T0lPt6IVLv6WgjE5ls1S/DAfyj6bRV7+lx9n2qapYv+wwCYNpEmC/QHlWFcxmZr9NUN15dsJpv6b8cg4oIGi/Kkf/DvdfZ7+kCvK3JYBnv614dRbOEWi/PdxOlvMwaL8BheMCoxVnvxlfi0jarmS/3PgGawvrYL8V0tNko4NXv4gHG4CTlUW/vCeC+vsiLD/jLqhSH39TPzBZHJsLxmI/JSlMQwQIbT8bFmBtvml0P6lvInykT3s/NhwUYUMvgj9zDyU0K9aGP3WO/B8ydYs/XQPKwrEQkD8HH1fe5nGSP69QPhnw7ZQ/Ud1Apz6Vlz9t4S0bk4GaPzB86ZIW050/mlGEuJi9oD+a3C9su3OiPy6GehOmnKM/PPOJdPMYpD+sX3RvAUWkP5BJz78gk6Q/UNFMiJ1PpT+ArIkABemmP748iJD/ca4/\",\"dtype\":\"float64\",\"shape\":[75]},\"y\":{\"__ndarray__\":\"GhExyth1ND/Sv8nbtpRIP2vylNV0PVE/aTum7souWD/At0SJ8fVgPw3Iuahxymc/MSNhhJWvcD/bTfBN02d3P2zb5nxnaoA/CD5h5MAGhz8NmeH1TyaQP+zrCsc9p5Y/LbKd76fGnz/bLW5ISEmmPww9YvTcQq8/JV2OstnstT8Er5Y7M8G+P0c+r3jqkcU/5h99k6ZBzj88bCIzFzjVP4enV8oyxN0//yH99nXg5D8qOpLLf0jtP5kqGJXUifQ/c9cS8kHP/D+/DpwzojQEQIEmwoanVwxA4lgXt9HgE0BSSZ2AJuIbQAMJih9jjiNA5q4l5INuK0AwTKYKRj0zQNv5fmq8/DpAaCJseHrtQkB/+zpwzoxKQM3MzMzMeFJAZmZmZmZqWEAAAAAAAFxeQM3MzMzMJmJAmpmZmZkfZUBmZmZmZhhoQDMzMzMzEWtAAAAAAAAKbkBmZmZmZoFwQM3MzMzM/XFAMzMzMzN6c0CamZmZmfZ0QAAAAAAAc3ZAZmZmZmbvd0DNzMzMzGt5QDMzMzMz6HpAmpmZmZlkfEAAAAAAAOF9QGZmZmZmXX9AZmZmZuZsgECamZmZGSuBQM3MzMxM6YFAAAAAAICngkAzMzMzs2WDQGZmZmbmI4RAmpmZmRnihEDNzMzMTKCFQAAAAACAXoZAMzMzM7Mch0BmZmZm5tqHQJqZmZkZmYhAzczMzExXiUAAAAAAgBWKQDMzMzOz04pAZmZmZuaRi0CamZmZGVCMQM3MzMxMDo1AAAAAAIDMjUAzMzMzs4qOQGZmZmbmSI9A\",\"dtype\":\"float64\",\"shape\":[75]}}},\"id\":\"737ff3b2-3d21-4c72-b3ed-d6d8121605d2\",\"type\":\"ColumnDataSource\"},{\"attributes\":{\"axis_label\":\"cooling rate [K/day]\",\"formatter\":{\"id\":\"9aa28cdb-c9fd-4595-98e8-6704c7009d19\",\"type\":\"BasicTickFormatter\"},\"plot\":{\"id\":\"96aa0899-6d20-4d5b-b1ea-7960cabfe8ee\",\"subtype\":\"Figure\",\"type\":\"Plot\"},\"ticker\":{\"id\":\"f1772245-c050-4c59-96b8-19928446d251\",\"type\":\"BasicTicker\"}},\"id\":\"c4c0914e-3192-41d9-bbd5-66265b5c6cbd\",\"type\":\"LinearAxis\"},{\"attributes\":{\"fill_alpha\":{\"value\":0.7},\"fill_color\":{\"value\":\"#4daf4a\"},\"line_alpha\":{\"value\":0.7},\"line_color\":{\"value\":\"#4daf4a\"},\"x\":{\"field\":\"x\"},\"y\":{\"field\":\"y\"}},\"id\":\"b7057477-49bc-4e84-8e1b-bc6df3bdf170\",\"type\":\"Circle\"},{\"attributes\":{\"line_alpha\":0.1,\"line_color\":\"#1f77b4\",\"line_width\":1.5,\"x\":{\"field\":\"x\"},\"y\":{\"field\":\"y\"}},\"id\":\"4f413f94-fbad-4640-9ec1-102ac1f8fa35\",\"type\":\"Line\"},{\"attributes\":{\"fill_alpha\":{\"value\":0.7},\"fill_color\":{\"value\":\"#984ea3\"},\"line_alpha\":{\"value\":0.7},\"line_color\":{\"value\":\"#984ea3\"},\"x\":{\"field\":\"x\"},\"y\":{\"field\":\"y\"}},\"id\":\"a3e06d85-f669-4f39-875b-cdca0d97c4db\",\"type\":\"Square\"},{\"attributes\":{\"callback\":null,\"column_names\":[\"x\",\"y\"],\"data\":{\"x\":{\"__ndarray__\":\"h2OGW3i90T+MN5IBKXy0Pz38IL5Yh6E/cz5R5tqokD9qZV0ED9GRv6lzJhxj76C/tltTnzKeo7+Ylvte73CkvyfpOaCnLKO/D6CGPyjHpL/zQJ48sAylvyR1p+CVyaa/70DpgC5eqL/MbJcDK/Gtv4B09j0GhbG/LAL036kesb90A+xAKZyqvx63Mr3RgqG/x7v44lgFkL9j9KW9HfZlPxweYoY9Ips/gVuGHoLBuD9TJhSmGDXNP9fDdns5gc4/ryjj59gkxT9QK5ZshmW9Py4Hf2EnLLI/R//BQ/UvoD8xeLIBsyeAPxypvjyr6Go/00TFn/RDdT837HNDd/NqP9Kkal6nVEQ/20XjPg/iSr/F2WBpqOZVvwxn+7PGcFq/QOZDiwUpXL8uAESzz0Bcv23mmSGRUmK/GqaI5XWRab8qIv76jD9tv6IEIN5R5Gu/yl5+hZZ+bL87bliZwFtuv8TrNPpjZm+/JTsRYHN3br/TEMoFqw1tvzNuwKCyhWu/CD23Ya+Pab8UVWxBsOBmv/ikwsGmGmK/D4WHk/H0Vb/oHrqfDnoXv5ebJCT2s1Y/wySLJTSjaT/j5CJg69B0PwfwcQHDTX0/ZHeK31CUgz/2o8dAtfmHPywx4y5BlIs/UOsIcBI0jj8YnUCZxRKQP2geGdsGFpE/9aaCh/LQkj8DMKX7JyKVP7DNieez1pg/QtAYgCIjnT8iqksh6wShP2JtDR4G8KI/Suas3eM9pD8vjds/gT2lP/vHOAKVSqY/MOKJwFuXpz+vrhf+ZHCpPzgyTeDverA/\",\"dtype\":\"float64\",\"shape\":[75]},\"y\":{\"__ndarray__\":\"S/O/Q+51ND/430zAtpRIP2vylNV0PVE/QxsjCssuWD/TR4Z78fVgP+inNsRxymc/OuuBfZWvcD/u3TFA02d3P2d3VoBnaoA/CD5h5MAGhz/1pA8HUCaQP+zrCsc9p5Y/Fb7LAKjGnz/nJ9c/SEmmPwBD+fzcQq8/FOZwv9nstT8Er5Y7M8G+P0c+r3jqkcU/yK72qKZBzj+tM989FzjVPxbgmr8yxN0/cOm5AXbg5D+5ctXAf0jtP5kqGJXUifQ/DsrqDELP/D8MCAhBojQEQDItVnmnVwxAiFXNvdHgE0BSSZ2AJuIbQAMJih9jjiNA5q4l5INuK0CPVN/5RT0zQHzxRXu8/DpAOZ7PgHrtQkAg8wGBzoxKQBSTN8DMeFJA2NmQf2ZqWEAAAAAAAFxeQEQX1LfMJmJAmpmZmZkfZUBmZmZmZhhoQLzoK0gzEWtAAAAAAAAKbkCiC+pbZoFwQAhyUMLM/XFA+I2vPTN6c0AQ5KCEmfZ0QAAAAAAAc3ZA8Btfe2bvd0AIclDCzGt5QPeNrz0z6HpAEOSghJlkfEAAAAAAAOF9QKML6ltmXX9ABTkoYeZsgED7xteeGSuBQAhyUMJM6YFAAAAAAICngkD4ja89s2WDQAU5KGHmI4RA+8bXnhnihEAIclDCTKCFQAAAAACAXoZA+I2vPbMch0AFOShh5tqHQPvG154ZmYhACHJQwkxXiUAAAAAAgBWKQPeNrz2z04pABTkoYeaRi0D7xteeGVCMQAlyUMJMDo1AAAAAAIDMjUD3ja89s4qOQGZmZmbmSI9A\",\"dtype\":\"float64\",\"shape\":[75]}}},\"id\":\"eae1172e-680e-4dfb-94fe-a382b2add017\",\"type\":\"ColumnDataSource\"},{\"attributes\":{},\"id\":\"92906846-84d1-44b6-aed4-3c1ba02bdefd\",\"type\":\"PanTool\"},{\"attributes\":{\"num_minor_ticks\":10},\"id\":\"fe009c9c-aeb8-4cfa-a85a-d5f33236aec0\",\"type\":\"LogTicker\"},{\"attributes\":{\"source\":{\"id\":\"341308f8-9604-4ee1-b86d-9ade8700d8f7\",\"type\":\"ColumnDataSource\"}},\"id\":\"d00df6e4-0138-45cc-9332-c77f744d1fbb\",\"type\":\"CDSView\"},{\"attributes\":{\"data_source\":{\"id\":\"737ff3b2-3d21-4c72-b3ed-d6d8121605d2\",\"type\":\"ColumnDataSource\"},\"glyph\":{\"id\":\"b7057477-49bc-4e84-8e1b-bc6df3bdf170\",\"type\":\"Circle\"},\"hover_glyph\":null,\"muted_glyph\":null,\"nonselection_glyph\":{\"id\":\"c14cc09f-cfaf-4c13-8011-bbf28fdfe6f6\",\"type\":\"Circle\"},\"selection_glyph\":null,\"view\":{\"id\":\"a51b3b3a-aac4-45cf-a6c5-e1105bbee640\",\"type\":\"CDSView\"}},\"id\":\"ab23f619-2dcb-4316-a0b3-7f9a92cc08d6\",\"type\":\"GlyphRenderer\"},{\"attributes\":{\"source\":{\"id\":\"e36d499a-8382-4c0f-b7ca-d70019fbba71\",\"type\":\"ColumnDataSource\"}},\"id\":\"f316ebeb-7825-44a7-a941-48095937cb79\",\"type\":\"CDSView\"},{\"attributes\":{},\"id\":\"6c43ce86-7c4a-48d7-8740-1e8ecc6d7fdc\",\"type\":\"ResetTool\"},{\"attributes\":{\"source\":{\"id\":\"b2143bde-4ecc-4c85-a220-e7efa5c459d8\",\"type\":\"ColumnDataSource\"}},\"id\":\"c9b94f81-ed89-42e0-b298-9c8e1e650a73\",\"type\":\"CDSView\"},{\"attributes\":{\"fill_alpha\":{\"value\":0.1},\"fill_color\":{\"value\":\"#1f77b4\"},\"line_alpha\":{\"value\":0.1},\"line_color\":{\"value\":\"#1f77b4\"},\"x\":{\"field\":\"x\"},\"y\":{\"field\":\"y\"}},\"id\":\"acde46af-e75d-48f6-b80e-5b92cc29d2af\",\"type\":\"Square\"},{\"attributes\":{\"data_source\":{\"id\":\"341308f8-9604-4ee1-b86d-9ade8700d8f7\",\"type\":\"ColumnDataSource\"},\"glyph\":{\"id\":\"ded69985-6f95-4ccc-ae60-3c3bebb3c5bb\",\"type\":\"Line\"},\"hover_glyph\":null,\"muted_glyph\":null,\"nonselection_glyph\":{\"id\":\"3fdcf856-8af2-4df6-bfb7-532b5a58b867\",\"type\":\"Line\"},\"selection_glyph\":null,\"view\":{\"id\":\"d00df6e4-0138-45cc-9332-c77f744d1fbb\",\"type\":\"CDSView\"}},\"id\":\"53c3b0d7-32dd-4bc3-89bf-e6a77f19614d\",\"type\":\"GlyphRenderer\"},{\"attributes\":{\"data_source\":{\"id\":\"7bf8c026-be9b-4350-9669-b68d1e767c1e\",\"type\":\"ColumnDataSource\"},\"glyph\":{\"id\":\"8f93594b-de1a-49ff-a801-5c1ecaf3d5a4\",\"type\":\"Line\"},\"hover_glyph\":null,\"muted_glyph\":null,\"nonselection_glyph\":{\"id\":\"e2c57735-56ef-4f1c-8e36-fa7a8a457310\",\"type\":\"Line\"},\"selection_glyph\":null,\"view\":{\"id\":\"a5c9f839-8ca9-416e-aeea-2ea7ee7e6cc3\",\"type\":\"CDSView\"}},\"id\":\"7cbfe055-abe8-4d37-9742-96686a5f16a8\",\"type\":\"GlyphRenderer\"},{\"attributes\":{\"below\":[{\"id\":\"c4c0914e-3192-41d9-bbd5-66265b5c6cbd\",\"type\":\"LinearAxis\"}],\"left\":[{\"id\":\"dab301b7-6f7d-4173-8e64-360d190c069f\",\"type\":\"LinearAxis\"}],\"plot_height\":500,\"plot_width\":400,\"renderers\":[{\"id\":\"c4c0914e-3192-41d9-bbd5-66265b5c6cbd\",\"type\":\"LinearAxis\"},{\"id\":\"8d51151c-f4f4-4692-82b4-e5960974182a\",\"type\":\"Grid\"},{\"id\":\"dab301b7-6f7d-4173-8e64-360d190c069f\",\"type\":\"LinearAxis\"},{\"id\":\"44a98267-957a-48b6-957a-4af02e1df7d4\",\"type\":\"Grid\"},{\"id\":\"2eb18b96-c5fd-4e3d-a5c1-76d7f5e20393\",\"type\":\"BoxAnnotation\"},{\"id\":\"e5937445-dc98-4479-a098-115587a691a7\",\"type\":\"GlyphRenderer\"},{\"id\":\"0af66b8b-c3fd-4ee2-b3f5-efb82b737395\",\"type\":\"GlyphRenderer\"},{\"id\":\"9e1d308c-bbb4-43d8-8455-8633f3a2ef03\",\"type\":\"GlyphRenderer\"},{\"id\":\"46d2b670-1264-4bd0-80eb-6dbdeb5ae330\",\"type\":\"GlyphRenderer\"},{\"id\":\"7cbfe055-abe8-4d37-9742-96686a5f16a8\",\"type\":\"GlyphRenderer\"}],\"title\":{\"id\":\"511fa689-83ad-4dbc-80ef-4628f0d027b6\",\"type\":\"Title\"},\"toolbar\":{\"id\":\"e13a111a-0a6a-410a-ad2a-c2bf789a4fe8\",\"type\":\"Toolbar\"},\"toolbar_location\":null,\"x_range\":{\"id\":\"06790b02-6d02-4ef1-bb5e-8e7d64e34dd0\",\"type\":\"Range1d\"},\"x_scale\":{\"id\":\"65fab08b-f5be-4df6-ba30-6f123e303521\",\"type\":\"LinearScale\"},\"y_range\":{\"id\":\"7f58585d-09b6-442b-9e4c-1984c1d480aa\",\"type\":\"Range1d\"},\"y_scale\":{\"id\":\"0fe43bcf-7e98-4e0d-85ba-98509a73b43a\",\"type\":\"LinearScale\"}},\"id\":\"96aa0899-6d20-4d5b-b1ea-7960cabfe8ee\",\"subtype\":\"Figure\",\"type\":\"Plot\"},{\"attributes\":{},\"id\":\"65fab08b-f5be-4df6-ba30-6f123e303521\",\"type\":\"LinearScale\"},{\"attributes\":{},\"id\":\"3ccb88b1-21a3-40c0-9851-d25c22fc779f\",\"type\":\"HelpTool\"},{\"attributes\":{\"callback\":null,\"end\":0.27506276199999996,\"start\":-0.07548696199999999},\"id\":\"6bed502e-bf1f-418f-aab2-b08bdfd7c78f\",\"type\":\"Range1d\"},{\"attributes\":{\"line_alpha\":0.1,\"line_color\":\"#1f77b4\",\"line_dash\":[6],\"line_width\":5,\"x\":{\"field\":\"x\"},\"y\":{\"field\":\"y\"}},\"id\":\"3ced10ff-fa43-4e1d-bc22-08444d8fd659\",\"type\":\"Line\"},{\"attributes\":{\"line_alpha\":0.6,\"line_color\":\"#e41a1c\",\"line_dash\":[6],\"line_width\":5,\"x\":{\"field\":\"x\"},\"y\":{\"field\":\"y\"}},\"id\":\"a0e009da-39eb-4ebb-bdc5-edc598535eef\",\"type\":\"Line\"},{\"attributes\":{\"fill_alpha\":{\"value\":0.1},\"fill_color\":{\"value\":\"#1f77b4\"},\"line_alpha\":{\"value\":0.1},\"line_color\":{\"value\":\"#1f77b4\"},\"x\":{\"field\":\"x\"},\"y\":{\"field\":\"y\"}},\"id\":\"d4a4753e-4f59-4a4b-bc22-aed1723eb72e\",\"type\":\"Square\"},{\"attributes\":{\"active_drag\":\"auto\",\"active_inspect\":\"auto\",\"active_scroll\":\"auto\",\"active_tap\":\"auto\",\"tools\":[{\"id\":\"92906846-84d1-44b6-aed4-3c1ba02bdefd\",\"type\":\"PanTool\"},{\"id\":\"c9682adb-8ddc-45d0-a480-f4983ee71abe\",\"type\":\"WheelZoomTool\"},{\"id\":\"5f79211a-e418-4f1e-ab9e-7bc4f681a0fa\",\"type\":\"BoxZoomTool\"},{\"id\":\"037e37f9-db7a-47f6-9f19-3221c719418e\",\"type\":\"SaveTool\"},{\"id\":\"2787f3aa-1703-492c-8a0f-073e6ee71f98\",\"type\":\"ResetTool\"},{\"id\":\"3ccb88b1-21a3-40c0-9851-d25c22fc779f\",\"type\":\"HelpTool\"}]},\"id\":\"e13a111a-0a6a-410a-ad2a-c2bf789a4fe8\",\"type\":\"Toolbar\"},{\"attributes\":{\"data_source\":{\"id\":\"227979ca-4614-4a4f-86c0-b9025229d7b8\",\"type\":\"ColumnDataSource\"},\"glyph\":{\"id\":\"a0e009da-39eb-4ebb-bdc5-edc598535eef\",\"type\":\"Line\"},\"hover_glyph\":null,\"muted_glyph\":null,\"nonselection_glyph\":{\"id\":\"186bcd57-22e7-434c-9a62-37315f2f66f2\",\"type\":\"Line\"},\"selection_glyph\":null,\"view\":{\"id\":\"f0f30805-05bb-4829-af5b-175b29a8c4af\",\"type\":\"CDSView\"}},\"id\":\"e5937445-dc98-4479-a098-115587a691a7\",\"type\":\"GlyphRenderer\"},{\"attributes\":{},\"id\":\"ae96a7e3-af92-4589-b090-7d085c2f474b\",\"type\":\"PanTool\"},{\"attributes\":{\"plot\":{\"id\":\"dc795bea-3ecd-47e6-b899-e182837d46e4\",\"subtype\":\"Figure\",\"type\":\"Plot\"},\"ticker\":{\"id\":\"00a45c88-ed24-4b50-9d8c-680e11a655c2\",\"type\":\"BasicTicker\"}},\"id\":\"4489b71d-c9dc-41cd-8af0-4f0643a83d96\",\"type\":\"Grid\"},{\"attributes\":{\"source\":{\"id\":\"737ff3b2-3d21-4c72-b3ed-d6d8121605d2\",\"type\":\"ColumnDataSource\"}},\"id\":\"a51b3b3a-aac4-45cf-a6c5-e1105bbee640\",\"type\":\"CDSView\"},{\"attributes\":{\"dimension\":1,\"plot\":{\"id\":\"96aa0899-6d20-4d5b-b1ea-7960cabfe8ee\",\"subtype\":\"Figure\",\"type\":\"Plot\"},\"ticker\":{\"id\":\"1a3ac64a-3181-4d02-80c9-9f2cb4e28f26\",\"type\":\"BasicTicker\"}},\"id\":\"44a98267-957a-48b6-957a-4af02e1df7d4\",\"type\":\"Grid\"},{\"attributes\":{\"callback\":null,\"column_names\":[\"x\",\"y\"],\"data\":{\"x\":{\"__ndarray__\":\"D4285jTP0T+JI6dgoRe1P1HIVBWoMqc/QDDQgD3QjT9jl4IXeEyHv8kQqWReGZy/ACZ7FEZkor8mKxJV8MKjv9ay2M1cRaS/e9GOg2Gsor8rfRECLNGnv+7N4e1QM6e/zhkPvkk2qb/I4PY+NHevvy8hidgMYrK/G5arxOFxsr98zurYmSatv0EyFcn016S/NzZKfaohl7+N9AVCzr9LvzglwLO0iJ0/z4cE33aZuj+Vqh9hOT7OPxjGJ650CM8/2OPwD3yIxD9JgP2EcT+7P3CeLq6YYbA/QQ5wXwyHnz+c86zUTvWFP8wlUUe5z3A/CWoTR+D/bj8TEm7UOAtjPwccYC2cSkc/iQr8uY2zNb/8/h2u7ZZRvySy6MVkxFm/zUBqtbX1W798qkaU1h1bv4b1sUg0/WG/yNz06L9nab8UqVk1Qh5tv7vdnUWHcWu/cqJYzNo2bL+tKReBbVhtvyXdJyuscm6/RFSGzV4/br+xoAI5B5xsv1leK30+zGq/jjw/bZWeaL/W9ZqOHzJlvzrULQL1u1+/0z4zT4mHUr/NUwxMfcEZP4qSh/uMb1Y/TrHUPaXYZz/zGv1gxxxzPz3FZW0353o/4P510QRIgj/gSzdCbNSGP40RVlEmr4o/ZjVxM1sAjj8PWPWWy3aQPxrOn7BwBJI/vnUcRA3Ukz/WVW93UDWWP2nlQgsnbpk/1Tvu8chznT+ZC+BWD9KgPyI4M5xgb6I/mhcEr8Z0oz80siks+DqkP6qCmB4pL6U/JD77uqFjpj9hjWKiCWCoP181j/ZRI7A/\",\"dtype\":\"float64\",\"shape\":[75]},\"y\":{\"__ndarray__\":\"GhExyth1ND/Sv8nbtpRIP2vylNV0PVE/aTum7souWD/At0SJ8fVgPw3Iuahxymc/MSNhhJWvcD/bTfBN02d3P2zb5nxnaoA/CD5h5MAGhz8NmeH1TyaQP+zrCsc9p5Y/LbKd76fGnz/bLW5ISEmmPww9YvTcQq8/JV2OstnstT8Er5Y7M8G+P0c+r3jqkcU/5h99k6ZBzj88bCIzFzjVP4enV8oyxN0//yH99nXg5D8qOpLLf0jtP5kqGJXUifQ/c9cS8kHP/D+/DpwzojQEQIEmwoanVwxA4lgXt9HgE0BSSZ2AJuIbQAMJih9jjiNA5q4l5INuK0AwTKYKRj0zQNv5fmq8/DpAaCJseHrtQkB/+zpwzoxKQM3MzMzMeFJAZmZmZmZqWEAAAAAAAFxeQM3MzMzMJmJAmpmZmZkfZUBmZmZmZhhoQDMzMzMzEWtAAAAAAAAKbkBmZmZmZoFwQM3MzMzM/XFAMzMzMzN6c0CamZmZmfZ0QAAAAAAAc3ZAZmZmZmbvd0DNzMzMzGt5QDMzMzMz6HpAmpmZmZlkfEAAAAAAAOF9QGZmZmZmXX9AZmZmZuZsgECamZmZGSuBQM3MzMxM6YFAAAAAAICngkAzMzMzs2WDQGZmZmbmI4RAmpmZmRnihEDNzMzMTKCFQAAAAACAXoZAMzMzM7Mch0BmZmZm5tqHQJqZmZkZmYhAzczMzExXiUAAAAAAgBWKQDMzMzOz04pAZmZmZuaRi0CamZmZGVCMQM3MzMxMDo1AAAAAAIDMjUAzMzMzs4qOQGZmZmbmSI9A\",\"dtype\":\"float64\",\"shape\":[75]}}},\"id\":\"341308f8-9604-4ee1-b86d-9ade8700d8f7\",\"type\":\"ColumnDataSource\"},{\"attributes\":{},\"id\":\"037e37f9-db7a-47f6-9f19-3221c719418e\",\"type\":\"SaveTool\"},{\"attributes\":{\"callback\":null,\"column_names\":[\"x\",\"y\"],\"data\":{\"x\":{\"__ndarray__\":\"h2OGW3i90T+MN5IBKXy0Pz38IL5Yh6E/cz5R5tqokD9qZV0ED9GRv6lzJhxj76C/tltTnzKeo7+Ylvte73CkvyfpOaCnLKO/D6CGPyjHpL/zQJ48sAylvyR1p+CVyaa/70DpgC5eqL/MbJcDK/Gtv4B09j0GhbG/LAL036kesb90A+xAKZyqvx63Mr3RgqG/x7v44lgFkL9j9KW9HfZlPxweYoY9Ips/gVuGHoLBuD9TJhSmGDXNP9fDdns5gc4/ryjj59gkxT9QK5ZshmW9Py4Hf2EnLLI/R//BQ/UvoD8xeLIBsyeAPxypvjyr6Go/00TFn/RDdT837HNDd/NqP9Kkal6nVEQ/20XjPg/iSr/F2WBpqOZVvwxn+7PGcFq/QOZDiwUpXL8uAESzz0Bcv23mmSGRUmK/GqaI5XWRab8qIv76jD9tv6IEIN5R5Gu/yl5+hZZ+bL87bliZwFtuv8TrNPpjZm+/JTsRYHN3br/TEMoFqw1tvzNuwKCyhWu/CD23Ya+Pab8UVWxBsOBmv/ikwsGmGmK/D4WHk/H0Vb/oHrqfDnoXv5ebJCT2s1Y/wySLJTSjaT/j5CJg69B0PwfwcQHDTX0/ZHeK31CUgz/2o8dAtfmHPywx4y5BlIs/UOsIcBI0jj8YnUCZxRKQP2geGdsGFpE/9aaCh/LQkj8DMKX7JyKVP7DNieez1pg/QtAYgCIjnT8iqksh6wShP2JtDR4G8KI/Suas3eM9pD8vjds/gT2lP/vHOAKVSqY/MOKJwFuXpz+vrhf+ZHCpPzgyTeDverA/\",\"dtype\":\"float64\",\"shape\":[75]},\"y\":{\"__ndarray__\":\"S/O/Q+51ND/430zAtpRIP2vylNV0PVE/QxsjCssuWD/TR4Z78fVgP+inNsRxymc/OuuBfZWvcD/u3TFA02d3P2d3VoBnaoA/CD5h5MAGhz/1pA8HUCaQP+zrCsc9p5Y/Fb7LAKjGnz/nJ9c/SEmmPwBD+fzcQq8/FOZwv9nstT8Er5Y7M8G+P0c+r3jqkcU/yK72qKZBzj+tM989FzjVPxbgmr8yxN0/cOm5AXbg5D+5ctXAf0jtP5kqGJXUifQ/DsrqDELP/D8MCAhBojQEQDItVnmnVwxAiFXNvdHgE0BSSZ2AJuIbQAMJih9jjiNA5q4l5INuK0CPVN/5RT0zQHzxRXu8/DpAOZ7PgHrtQkAg8wGBzoxKQBSTN8DMeFJA2NmQf2ZqWEAAAAAAAFxeQEQX1LfMJmJAmpmZmZkfZUBmZmZmZhhoQLzoK0gzEWtAAAAAAAAKbkCiC+pbZoFwQAhyUMLM/XFA+I2vPTN6c0AQ5KCEmfZ0QAAAAAAAc3ZA8Btfe2bvd0AIclDCzGt5QPeNrz0z6HpAEOSghJlkfEAAAAAAAOF9QKML6ltmXX9ABTkoYeZsgED7xteeGSuBQAhyUMJM6YFAAAAAAICngkD4ja89s2WDQAU5KGHmI4RA+8bXnhnihEAIclDCTKCFQAAAAACAXoZA+I2vPbMch0AFOShh5tqHQPvG154ZmYhACHJQwkxXiUAAAAAAgBWKQPeNrz2z04pABTkoYeaRi0D7xteeGVCMQAlyUMJMDo1AAAAAAIDMjUD3ja89s4qOQGZmZmbmSI9A\",\"dtype\":\"float64\",\"shape\":[75]}}},\"id\":\"227979ca-4614-4a4f-86c0-b9025229d7b8\",\"type\":\"ColumnDataSource\"},{\"attributes\":{\"line_alpha\":0.6,\"line_color\":\"#984ea3\",\"line_width\":3,\"x\":{\"field\":\"x\"},\"y\":{\"field\":\"y\"}},\"id\":\"8f93594b-de1a-49ff-a801-5c1ecaf3d5a4\",\"type\":\"Line\"},{\"attributes\":{\"callback\":null,\"end\":0.01,\"start\":1020},\"id\":\"7f58585d-09b6-442b-9e4c-1984c1d480aa\",\"type\":\"Range1d\"},{\"attributes\":{\"plot\":null,\"text\":\"Log pressure scale\"},\"id\":\"258abc38-2060-4251-88cf-02b617304133\",\"type\":\"Title\"},{\"attributes\":{},\"id\":\"49b98bc7-20d2-4955-8507-470e649b7deb\",\"type\":\"HelpTool\"},{\"attributes\":{},\"id\":\"1a3ac64a-3181-4d02-80c9-9f2cb4e28f26\",\"type\":\"BasicTicker\"},{\"attributes\":{\"data_source\":{\"id\":\"e36d499a-8382-4c0f-b7ca-d70019fbba71\",\"type\":\"ColumnDataSource\"},\"glyph\":{\"id\":\"a3e06d85-f669-4f39-875b-cdca0d97c4db\",\"type\":\"Square\"},\"hover_glyph\":null,\"muted_glyph\":null,\"nonselection_glyph\":{\"id\":\"d4a4753e-4f59-4a4b-bc22-aed1723eb72e\",\"type\":\"Square\"},\"selection_glyph\":null,\"view\":{\"id\":\"f316ebeb-7825-44a7-a941-48095937cb79\",\"type\":\"CDSView\"}},\"id\":\"4d943cd1-9049-4064-9ed5-dd2233b5c968\",\"type\":\"GlyphRenderer\"},{\"attributes\":{},\"id\":\"2787f3aa-1703-492c-8a0f-073e6ee71f98\",\"type\":\"ResetTool\"},{\"attributes\":{\"below\":[{\"id\":\"4e0abb47-57ce-4804-9605-c2a908e689f3\",\"type\":\"LinearAxis\"}],\"left\":[{\"id\":\"a0bcbc7a-5f20-4870-b83f-d45e216c93d6\",\"type\":\"LogAxis\"}],\"plot_height\":500,\"plot_width\":560,\"renderers\":[{\"id\":\"4e0abb47-57ce-4804-9605-c2a908e689f3\",\"type\":\"LinearAxis\"},{\"id\":\"4489b71d-c9dc-41cd-8af0-4f0643a83d96\",\"type\":\"Grid\"},{\"id\":\"a0bcbc7a-5f20-4870-b83f-d45e216c93d6\",\"type\":\"LogAxis\"},{\"id\":\"43fb6d52-0545-4d1a-abd2-8d78bc489088\",\"type\":\"Grid\"},{\"id\":\"fb55d86d-ff00-4279-82d0-808c87d86632\",\"type\":\"BoxAnnotation\"},{\"id\":\"161edee7-42bb-469e-af63-801371c91b43\",\"type\":\"GlyphRenderer\"},{\"id\":\"ab23f619-2dcb-4316-a0b3-7f9a92cc08d6\",\"type\":\"GlyphRenderer\"},{\"id\":\"512138c7-b052-4841-8c57-de11a60fa177\",\"type\":\"GlyphRenderer\"},{\"id\":\"4d943cd1-9049-4064-9ed5-dd2233b5c968\",\"type\":\"GlyphRenderer\"},{\"id\":\"53c3b0d7-32dd-4bc3-89bf-e6a77f19614d\",\"type\":\"GlyphRenderer\"},{\"id\":\"b2b04a17-bf37-45dd-9b60-534c20a5bb49\",\"type\":\"Legend\"}],\"right\":[{\"id\":\"b2b04a17-bf37-45dd-9b60-534c20a5bb49\",\"type\":\"Legend\"}],\"title\":{\"id\":\"258abc38-2060-4251-88cf-02b617304133\",\"type\":\"Title\"},\"toolbar\":{\"id\":\"e2a4794c-4103-40c1-8532-0ee2c94d24ea\",\"type\":\"Toolbar\"},\"toolbar_location\":null,\"x_range\":{\"id\":\"6bed502e-bf1f-418f-aab2-b08bdfd7c78f\",\"type\":\"Range1d\"},\"x_scale\":{\"id\":\"58848103-bcb1-4818-8b46-56aa9585304a\",\"type\":\"LinearScale\"},\"y_range\":{\"id\":\"7e10ecae-9390-4fd1-9af1-40e9627104ba\",\"type\":\"Range1d\"},\"y_scale\":{\"id\":\"511da0fd-8ffa-4390-9c14-4679601e01f0\",\"type\":\"LogScale\"}},\"id\":\"dc795bea-3ecd-47e6-b899-e182837d46e4\",\"subtype\":\"Figure\",\"type\":\"Plot\"},{\"attributes\":{\"bottom_units\":\"screen\",\"fill_alpha\":{\"value\":0.5},\"fill_color\":{\"value\":\"lightgrey\"},\"left_units\":\"screen\",\"level\":\"overlay\",\"line_alpha\":{\"value\":1.0},\"line_color\":{\"value\":\"black\"},\"line_dash\":[4,4],\"line_width\":{\"value\":2},\"plot\":null,\"render_mode\":\"css\",\"right_units\":\"screen\",\"top_units\":\"screen\"},\"id\":\"2eb18b96-c5fd-4e3d-a5c1-76d7f5e20393\",\"type\":\"BoxAnnotation\"}],\"root_ids\":[\"a0bc82b6-03f9-4039-a665-a1dc5ce604c2\"]},\"title\":\"Bokeh Application\",\"version\":\"0.12.14\"}};\n",
       "  var render_items = [{\"docid\":\"61d3f841-eaf8-41b6-bfc5-c4366d0eec93\",\"elementid\":\"fa95d13b-ea31-473d-a4be-eca398bf48cf\",\"modelid\":\"a0bc82b6-03f9-4039-a665-a1dc5ce604c2\"}];\n",
       "  root.Bokeh.embed.embed_items_notebook(docs_json, render_items);\n",
       "\n",
       "  }\n",
       "  if (root.Bokeh !== undefined) {\n",
       "    embed_document(root);\n",
       "  } else {\n",
       "    var attempts = 0;\n",
       "    var timer = setInterval(function(root) {\n",
       "      if (root.Bokeh !== undefined) {\n",
       "        embed_document(root);\n",
       "        clearInterval(timer);\n",
       "      }\n",
       "      attempts++;\n",
       "      if (attempts > 100) {\n",
       "        console.log(\"Bokeh: ERROR: Unable to run BokehJS code because BokehJS library is missing\")\n",
       "        clearInterval(timer);\n",
       "      }\n",
       "    }, 10, root)\n",
       "  }\n",
       "})(window);"
      ],
      "application/vnd.bokehjs_exec.v0+json": ""
     },
     "metadata": {
      "application/vnd.bokehjs_exec.v0+json": {
       "id": "a0bc82b6-03f9-4039-a665-a1dc5ce604c2"
      }
     },
     "output_type": "display_data"
    },
    {
     "name": "stdout",
     "output_type": "stream",
     "text": [
      "FIGURE. Cooling rate profiles.\n"
     ]
    },
    {
     "data": {
      "text/html": [
       "<a id=\"Flux_Comparison\"></a>"
      ],
      "text/plain": [
       "<IPython.core.display.HTML object>"
      ]
     },
     "metadata": {},
     "output_type": "display_data"
    },
    {
     "data": {
      "text/markdown": [
       "# Flux Comparison"
      ],
      "text/plain": [
       "<IPython.core.display.Markdown object>"
      ]
     },
     "metadata": {},
     "output_type": "display_data"
    },
    {
     "data": {
      "text/html": [
       "<div>\n",
       "<style>\n",
       "    .dataframe thead tr:only-child th {\n",
       "        text-align: right;\n",
       "    }\n",
       "\n",
       "    .dataframe thead th {\n",
       "        text-align: left;\n",
       "    }\n",
       "\n",
       "    .dataframe tbody tr th {\n",
       "        vertical-align: top;\n",
       "    }\n",
       "</style>\n",
       "<table border=\"1\" class=\"dataframe\">\n",
       "  <thead>\n",
       "    <tr style=\"text-align: right;\">\n",
       "      <th></th>\n",
       "      <th></th>\n",
       "      <th>flug</th>\n",
       "      <th>fldg</th>\n",
       "      <th>fnetg</th>\n",
       "    </tr>\n",
       "    <tr>\n",
       "      <th>pressure</th>\n",
       "      <th>level</th>\n",
       "      <th></th>\n",
       "      <th></th>\n",
       "      <th></th>\n",
       "    </tr>\n",
       "  </thead>\n",
       "  <tbody>\n",
       "    <tr>\n",
       "      <th>0.0000</th>\n",
       "      <th>1</th>\n",
       "      <td>-4.021537</td>\n",
       "      <td>0.000000</td>\n",
       "      <td>-4.021537</td>\n",
       "    </tr>\n",
       "    <tr>\n",
       "      <th>1.0685</th>\n",
       "      <th>24</th>\n",
       "      <td>-4.029232</td>\n",
       "      <td>0.018062</td>\n",
       "      <td>-4.011170</td>\n",
       "    </tr>\n",
       "    <tr>\n",
       "      <th>1013.0000</th>\n",
       "      <th>76</th>\n",
       "      <td>-6.625452</td>\n",
       "      <td>4.041280</td>\n",
       "      <td>-2.584173</td>\n",
       "    </tr>\n",
       "  </tbody>\n",
       "</table>\n",
       "</div>"
      ],
      "text/plain": [
       "                     flug      fldg     fnetg\n",
       "pressure  level                              \n",
       "0.0000    1     -4.021537  0.000000 -4.021537\n",
       "1.0685    24    -4.029232  0.018062 -4.011170\n",
       "1013.0000 76    -6.625452  4.041280 -2.584173"
      ]
     },
     "metadata": {},
     "output_type": "display_data"
    },
    {
     "name": "stdout",
     "output_type": "stream",
     "text": [
      "Table. Fluxes. WGT igg=10 wgt_flux=1\n"
     ]
    },
    {
     "data": {
      "text/html": [
       "<div>\n",
       "<style>\n",
       "    .dataframe thead tr:only-child th {\n",
       "        text-align: right;\n",
       "    }\n",
       "\n",
       "    .dataframe thead th {\n",
       "        text-align: left;\n",
       "    }\n",
       "\n",
       "    .dataframe tbody tr th {\n",
       "        vertical-align: top;\n",
       "    }\n",
       "</style>\n",
       "<table border=\"1\" class=\"dataframe\">\n",
       "  <thead>\n",
       "    <tr style=\"text-align: right;\">\n",
       "      <th></th>\n",
       "      <th></th>\n",
       "      <th>flug</th>\n",
       "      <th>fldg</th>\n",
       "      <th>fnetg</th>\n",
       "    </tr>\n",
       "    <tr>\n",
       "      <th>pressure</th>\n",
       "      <th>level</th>\n",
       "      <th></th>\n",
       "      <th></th>\n",
       "      <th></th>\n",
       "    </tr>\n",
       "  </thead>\n",
       "  <tbody>\n",
       "    <tr>\n",
       "      <th>0.0000</th>\n",
       "      <th>1</th>\n",
       "      <td>-4.087499</td>\n",
       "      <td>0.000000</td>\n",
       "      <td>-4.087499</td>\n",
       "    </tr>\n",
       "    <tr>\n",
       "      <th>1.0685</th>\n",
       "      <th>24</th>\n",
       "      <td>-4.094944</td>\n",
       "      <td>0.018859</td>\n",
       "      <td>-4.076085</td>\n",
       "    </tr>\n",
       "    <tr>\n",
       "      <th>1013.0000</th>\n",
       "      <th>76</th>\n",
       "      <td>-6.625452</td>\n",
       "      <td>4.061761</td>\n",
       "      <td>-2.563691</td>\n",
       "    </tr>\n",
       "  </tbody>\n",
       "</table>\n",
       "</div>"
      ],
      "text/plain": [
       "                     flug      fldg     fnetg\n",
       "pressure  level                              \n",
       "0.0000    1     -4.087499  0.000000 -4.087499\n",
       "1.0685    24    -4.094944  0.018859 -4.076085\n",
       "1013.0000 76    -6.625452  4.061761 -2.563691"
      ]
     },
     "metadata": {},
     "output_type": "display_data"
    },
    {
     "name": "stdout",
     "output_type": "stream",
     "text": [
      "Table. Fluxes. CRD\n"
     ]
    },
    {
     "data": {
      "text/html": [
       "<div>\n",
       "<style>\n",
       "    .dataframe thead tr:only-child th {\n",
       "        text-align: right;\n",
       "    }\n",
       "\n",
       "    .dataframe thead th {\n",
       "        text-align: left;\n",
       "    }\n",
       "\n",
       "    .dataframe tbody tr th {\n",
       "        vertical-align: top;\n",
       "    }\n",
       "</style>\n",
       "<table border=\"1\" class=\"dataframe\">\n",
       "  <thead>\n",
       "    <tr style=\"text-align: right;\">\n",
       "      <th></th>\n",
       "      <th></th>\n",
       "      <th>flug</th>\n",
       "      <th>fldg</th>\n",
       "      <th>fnetg</th>\n",
       "    </tr>\n",
       "    <tr>\n",
       "      <th>pressure</th>\n",
       "      <th>level</th>\n",
       "      <th></th>\n",
       "      <th></th>\n",
       "      <th></th>\n",
       "    </tr>\n",
       "  </thead>\n",
       "  <tbody>\n",
       "    <tr>\n",
       "      <th>1.000000e-08</th>\n",
       "      <th>1</th>\n",
       "      <td>-4.022599</td>\n",
       "      <td>0.000002</td>\n",
       "      <td>-4.022597</td>\n",
       "    </tr>\n",
       "    <tr>\n",
       "      <th>1.068500e+00</th>\n",
       "      <th>24</th>\n",
       "      <td>-4.030184</td>\n",
       "      <td>0.017642</td>\n",
       "      <td>-4.012541</td>\n",
       "    </tr>\n",
       "    <tr>\n",
       "      <th>1.013000e+03</th>\n",
       "      <th>76</th>\n",
       "      <td>-6.625452</td>\n",
       "      <td>4.068976</td>\n",
       "      <td>-2.556476</td>\n",
       "    </tr>\n",
       "  </tbody>\n",
       "</table>\n",
       "</div>"
      ],
      "text/plain": [
       "                        flug      fldg     fnetg\n",
       "pressure     level                              \n",
       "1.000000e-08 1     -4.022599  0.000002 -4.022597\n",
       "1.068500e+00 24    -4.030184  0.017642 -4.012541\n",
       "1.013000e+03 76    -6.625452  4.068976 -2.556476"
      ]
     },
     "metadata": {},
     "output_type": "display_data"
    },
    {
     "name": "stdout",
     "output_type": "stream",
     "text": [
      "Table. Fluxes. CLIRAD\n"
     ]
    },
    {
     "data": {
      "text/html": [
       "<div>\n",
       "<style>\n",
       "    .dataframe thead tr:only-child th {\n",
       "        text-align: right;\n",
       "    }\n",
       "\n",
       "    .dataframe thead th {\n",
       "        text-align: left;\n",
       "    }\n",
       "\n",
       "    .dataframe tbody tr th {\n",
       "        vertical-align: top;\n",
       "    }\n",
       "</style>\n",
       "<table border=\"1\" class=\"dataframe\">\n",
       "  <thead>\n",
       "    <tr style=\"text-align: right;\">\n",
       "      <th></th>\n",
       "      <th></th>\n",
       "      <th>flug</th>\n",
       "      <th>fldg</th>\n",
       "      <th>fnetg</th>\n",
       "    </tr>\n",
       "    <tr>\n",
       "      <th>pressure</th>\n",
       "      <th>level</th>\n",
       "      <th></th>\n",
       "      <th></th>\n",
       "      <th></th>\n",
       "    </tr>\n",
       "  </thead>\n",
       "  <tbody>\n",
       "    <tr>\n",
       "      <th>0.0000</th>\n",
       "      <th>1</th>\n",
       "      <td>-0.065963</td>\n",
       "      <td>0.000000</td>\n",
       "      <td>-0.065963</td>\n",
       "    </tr>\n",
       "    <tr>\n",
       "      <th>1.0685</th>\n",
       "      <th>24</th>\n",
       "      <td>-0.065711</td>\n",
       "      <td>0.000796</td>\n",
       "      <td>-0.064915</td>\n",
       "    </tr>\n",
       "    <tr>\n",
       "      <th>1013.0000</th>\n",
       "      <th>76</th>\n",
       "      <td>0.000000</td>\n",
       "      <td>0.020482</td>\n",
       "      <td>0.020482</td>\n",
       "    </tr>\n",
       "  </tbody>\n",
       "</table>\n",
       "</div>"
      ],
      "text/plain": [
       "                     flug      fldg     fnetg\n",
       "pressure  level                              \n",
       "0.0000    1     -0.065963  0.000000 -0.065963\n",
       "1.0685    24    -0.065711  0.000796 -0.064915\n",
       "1013.0000 76     0.000000  0.020482  0.020482"
      ]
     },
     "metadata": {},
     "output_type": "display_data"
    },
    {
     "name": "stdout",
     "output_type": "stream",
     "text": [
      "Table. Fluxes. (CRD) - (WGT igg=10 wgt_flux=1)\n"
     ]
    },
    {
     "data": {
      "text/html": [
       "<div>\n",
       "<style>\n",
       "    .dataframe thead tr:only-child th {\n",
       "        text-align: right;\n",
       "    }\n",
       "\n",
       "    .dataframe thead th {\n",
       "        text-align: left;\n",
       "    }\n",
       "\n",
       "    .dataframe tbody tr th {\n",
       "        vertical-align: top;\n",
       "    }\n",
       "</style>\n",
       "<table border=\"1\" class=\"dataframe\">\n",
       "  <thead>\n",
       "    <tr style=\"text-align: right;\">\n",
       "      <th></th>\n",
       "      <th></th>\n",
       "      <th>flug</th>\n",
       "      <th>fldg</th>\n",
       "      <th>fnetg</th>\n",
       "    </tr>\n",
       "    <tr>\n",
       "      <th>pressure</th>\n",
       "      <th>level</th>\n",
       "      <th></th>\n",
       "      <th></th>\n",
       "      <th></th>\n",
       "    </tr>\n",
       "  </thead>\n",
       "  <tbody>\n",
       "    <tr>\n",
       "      <th>0.0000</th>\n",
       "      <th>1</th>\n",
       "      <td>-1.062600e-03</td>\n",
       "      <td>0.000002</td>\n",
       "      <td>-0.001061</td>\n",
       "    </tr>\n",
       "    <tr>\n",
       "      <th>1.0685</th>\n",
       "      <th>24</th>\n",
       "      <td>-9.513000e-04</td>\n",
       "      <td>-0.000420</td>\n",
       "      <td>-0.001371</td>\n",
       "    </tr>\n",
       "    <tr>\n",
       "      <th>1013.0000</th>\n",
       "      <th>76</th>\n",
       "      <td>3.000000e-07</td>\n",
       "      <td>0.027697</td>\n",
       "      <td>0.027697</td>\n",
       "    </tr>\n",
       "  </tbody>\n",
       "</table>\n",
       "</div>"
      ],
      "text/plain": [
       "                         flug      fldg     fnetg\n",
       "pressure  level                                  \n",
       "0.0000    1     -1.062600e-03  0.000002 -0.001061\n",
       "1.0685    24    -9.513000e-04 -0.000420 -0.001371\n",
       "1013.0000 76     3.000000e-07  0.027697  0.027697"
      ]
     },
     "metadata": {},
     "output_type": "display_data"
    },
    {
     "name": "stdout",
     "output_type": "stream",
     "text": [
      "Table. Fluxes. (CLIRAD) - (WGT igg=10 wgt_flux=1)\n"
     ]
    },
    {
     "data": {
      "text/html": [
       "<a id=\"Best-fit_Parameters\"></a>"
      ],
      "text/plain": [
       "<IPython.core.display.HTML object>"
      ]
     },
     "metadata": {},
     "output_type": "display_data"
    },
    {
     "data": {
      "text/markdown": [
       "# Best-fit Parameters"
      ],
      "text/plain": [
       "<IPython.core.display.Markdown object>"
      ]
     },
     "metadata": {},
     "output_type": "display_data"
    },
    {
     "name": "stdout",
     "output_type": "stream",
     "text": [
      "Best-fit values for each (gas, band)\n",
      "------------------------------------\n",
      "o h2o band9\n",
      "  molecule = h2o\n",
      "  band = 9\n",
      "  commitnumber = d5931a1\n",
      "  vmin = 1900\n",
      "  vmax = 3000\n",
      "  dv = 0.001\n",
      "  nv = 1000\n",
      "  ref_pts = [(500, 250)]\n",
      "  ng_refs = [5]\n",
      "  ng_adju = [0]\n",
      "  klin = 1e-24\n",
      "  option_wgt_k = 1\n",
      "  wgt = [(0.4, 0.4, 0.5, 0.55, 0.85)]\n",
      "  w_diffuse = [(1.66, 1.66, 1.66, 1.66, 1.66)]\n",
      "  option_wgt_flux = 1\n",
      "  atmpro = mls\n",
      "  tsfc = 294\n",
      "  conc = None\n",
      "  option_compute_btable = 0\n",
      "  option_compute_ktable = 1\n",
      "o co2 band9\n",
      "  molecule = co2\n",
      "  band = 9\n",
      "  commitnumber = 043bdfe\n",
      "  vmin = 1900\n",
      "  vmax = 3000\n",
      "  dv = 0.001\n",
      "  nv = 1000\n",
      "  ref_pts = [(1, 250), (50, 250)]\n",
      "  ng_refs = [3, 3]\n",
      "  ng_adju = [2, 0]\n",
      "  klin = 1e-23\n",
      "  option_wgt_k = 1\n",
      "  wgt = [(0.7, 0.8, 0.7), (0.8, 0.7, 0.8)]\n",
      "  w_diffuse = [(1.66, 1.66, 1.75), (1.75, 1.6, 1.85)]\n",
      "  option_wgt_flux = 1\n",
      "  atmpro = mls\n",
      "  tsfc = 294\n",
      "  conc = 0.0004\n",
      "  option_compute_btable = 0\n",
      "  option_compute_ktable = 0\n"
     ]
    }
   ],
   "source": [
    "script()"
   ]
  },
  {
   "cell_type": "code",
   "execution_count": 26,
   "metadata": {},
   "outputs": [
    {
     "data": {
      "text/html": [
       "<script>\n",
       "code_show=true; \n",
       "function code_toggle() {\n",
       " if (code_show){\n",
       " $('div.input').hide();\n",
       " } else {\n",
       " $('div.input').show();\n",
       " }\n",
       " code_show = !code_show\n",
       "} \n",
       "$( document ).ready(code_toggle);\n",
       "</script>\n",
       "<form action=\"javascript:code_toggle()\"><input type=\"submit\" value=\"Click here to toggle on/off the raw code.\"></form>"
      ],
      "text/plain": [
       "<IPython.core.display.HTML object>"
      ]
     },
     "execution_count": 26,
     "metadata": {},
     "output_type": "execute_result"
    }
   ],
   "source": [
    "display.HTML('''<script>\n",
    "code_show=true; \n",
    "function code_toggle() {\n",
    " if (code_show){\n",
    " $('div.input').hide();\n",
    " } else {\n",
    " $('div.input').show();\n",
    " }\n",
    " code_show = !code_show\n",
    "} \n",
    "$( document ).ready(code_toggle);\n",
    "</script>\n",
    "<form action=\"javascript:code_toggle()\"><input type=\"submit\" value=\"Click here to toggle on/off the raw code.\"></form>''')"
   ]
  }
 ],
 "metadata": {
  "kernelspec": {
   "display_name": "Python 3",
   "language": "python",
   "name": "python3"
  },
  "language_info": {
   "codemirror_mode": {
    "name": "ipython",
    "version": 3
   },
   "file_extension": ".py",
   "mimetype": "text/x-python",
   "name": "python",
   "nbconvert_exporter": "python",
   "pygments_lexer": "ipython3",
   "version": "3.6.1"
  }
 },
 "nbformat": 4,
 "nbformat_minor": 2
}
